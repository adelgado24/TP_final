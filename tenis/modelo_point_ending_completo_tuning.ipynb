{
 "cells": [
  {
   "cell_type": "code",
   "execution_count": 1,
   "id": "initial_id",
   "metadata": {
    "collapsed": true,
    "ExecuteTime": {
     "end_time": "2024-12-13T13:27:20.931335Z",
     "start_time": "2024-12-13T13:27:10.284348Z"
    }
   },
   "outputs": [],
   "source": [
    "import pandas as pd\n",
    "import numpy as np\n",
    "import matplotlib.pyplot as plt\n",
    "import seaborn as sns\n",
    "from sklearn.model_selection import train_test_split\n",
    "import chardet\n",
    "import re\n",
    "import warnings\n",
    "import tensorflow as tf\n",
    "from tensorflow import keras\n",
    "from tensorflow.keras import layers\n",
    "from tensorflow.keras import Sequential\n",
    "pd.options.mode.chained_assignment = None\n",
    "import warnings\n",
    "warnings.filterwarnings(\"ignore\", message=\"The structure of `inputs` doesn't match the expected structure\")\n",
    "from tensorflow.keras.layers import Dense, LSTM, Dropout, Embedding, Concatenate, Input\n",
    "from tensorflow.keras.preprocessing.text import Tokenizer\n",
    "from tensorflow.keras.preprocessing.sequence import pad_sequences\n",
    "from keras.models import Model\n",
    "from keras.optimizers import Adam"
   ]
  },
  {
   "cell_type": "code",
   "outputs": [],
   "source": [
    "df = pd.read_csv('data_output/charting_clean.csv', low_memory=False)"
   ],
   "metadata": {
    "collapsed": false,
    "ExecuteTime": {
     "end_time": "2024-12-13T13:27:25.265957Z",
     "start_time": "2024-12-13T13:27:20.932336Z"
    }
   },
   "id": "a65f7b653da1ac1f",
   "execution_count": 2
  },
  {
   "cell_type": "code",
   "outputs": [
    {
     "data": {
      "text/plain": "                                            match_id  Pt  Set1  Set2  Gm1  \\\n0  20230908-M-US_Open-SF-Novak_Djokovic_-Ben_Shelton   1     0     0  0.0   \n1  20230908-M-US_Open-SF-Novak_Djokovic_-Ben_Shelton   2     0     0  0.0   \n2  20230908-M-US_Open-SF-Novak_Djokovic_-Ben_Shelton   3     0     0  0.0   \n3  20230908-M-US_Open-SF-Novak_Djokovic_-Ben_Shelton   4     0     0  0.0   \n4  20230908-M-US_Open-SF-Novak_Djokovic_-Ben_Shelton   5     0     0  0.0   \n\n   Gm2    Pts    Gm# TbSet TB?  ...                   2nd_test  \\\n0  0.0    0-0  1 (1)     1   0  ...                        NaN   \n1  0.0   15-0  1 (2)     1   0  ...  6 b19 f1 b2 s1 f3 f2 j2 *   \n2  0.0  15-15  1 (3)     1   0  ...              4 b28 f2 o1 *   \n3  0.0  15-30  1 (4)     1   0  ...                        NaN   \n4  0.0  30-30  1 (5)     1   0  ...                        NaN   \n\n   rallyCountVerification      Player_svr   Player_ret 1st_player_svr  \\\n0                       1  Novak Djokovic  Ben Shelton              6   \n1                       8  Novak Djokovic  Ben Shelton             4n   \n2                       4  Novak Djokovic  Ben Shelton             4d   \n3                       3  Novak Djokovic  Ben Shelton          6 f3*   \n4                       3  Novak Djokovic  Ben Shelton          4 b3*   \n\n  1st_player_ret 2nd_player_svr  2nd_player_ret  1st_final  \\\n0           f2n#            NaN             NaN     6 f2n#   \n1            NaN     6 f1 s1 f2   b19 b2 f3 j2*         4n   \n2            NaN           4 f2         b28 o1*         4d   \n3            s28            NaN             NaN  6 s28 f3*   \n4            b37            NaN             NaN  4 b37 b3*   \n\n                  2nd_final  \n0                       NaN  \n1  6 b19 f1 b2 s1 f3 f2 j2*  \n2              4 b28 f2 o1*  \n3                       NaN  \n4                       NaN  \n\n[5 rows x 41 columns]",
      "text/html": "<div>\n<style scoped>\n    .dataframe tbody tr th:only-of-type {\n        vertical-align: middle;\n    }\n\n    .dataframe tbody tr th {\n        vertical-align: top;\n    }\n\n    .dataframe thead th {\n        text-align: right;\n    }\n</style>\n<table border=\"1\" class=\"dataframe\">\n  <thead>\n    <tr style=\"text-align: right;\">\n      <th></th>\n      <th>match_id</th>\n      <th>Pt</th>\n      <th>Set1</th>\n      <th>Set2</th>\n      <th>Gm1</th>\n      <th>Gm2</th>\n      <th>Pts</th>\n      <th>Gm#</th>\n      <th>TbSet</th>\n      <th>TB?</th>\n      <th>...</th>\n      <th>2nd_test</th>\n      <th>rallyCountVerification</th>\n      <th>Player_svr</th>\n      <th>Player_ret</th>\n      <th>1st_player_svr</th>\n      <th>1st_player_ret</th>\n      <th>2nd_player_svr</th>\n      <th>2nd_player_ret</th>\n      <th>1st_final</th>\n      <th>2nd_final</th>\n    </tr>\n  </thead>\n  <tbody>\n    <tr>\n      <th>0</th>\n      <td>20230908-M-US_Open-SF-Novak_Djokovic_-Ben_Shelton</td>\n      <td>1</td>\n      <td>0</td>\n      <td>0</td>\n      <td>0.0</td>\n      <td>0.0</td>\n      <td>0-0</td>\n      <td>1 (1)</td>\n      <td>1</td>\n      <td>0</td>\n      <td>...</td>\n      <td>NaN</td>\n      <td>1</td>\n      <td>Novak Djokovic</td>\n      <td>Ben Shelton</td>\n      <td>6</td>\n      <td>f2n#</td>\n      <td>NaN</td>\n      <td>NaN</td>\n      <td>6 f2n#</td>\n      <td>NaN</td>\n    </tr>\n    <tr>\n      <th>1</th>\n      <td>20230908-M-US_Open-SF-Novak_Djokovic_-Ben_Shelton</td>\n      <td>2</td>\n      <td>0</td>\n      <td>0</td>\n      <td>0.0</td>\n      <td>0.0</td>\n      <td>15-0</td>\n      <td>1 (2)</td>\n      <td>1</td>\n      <td>0</td>\n      <td>...</td>\n      <td>6 b19 f1 b2 s1 f3 f2 j2 *</td>\n      <td>8</td>\n      <td>Novak Djokovic</td>\n      <td>Ben Shelton</td>\n      <td>4n</td>\n      <td>NaN</td>\n      <td>6 f1 s1 f2</td>\n      <td>b19 b2 f3 j2*</td>\n      <td>4n</td>\n      <td>6 b19 f1 b2 s1 f3 f2 j2*</td>\n    </tr>\n    <tr>\n      <th>2</th>\n      <td>20230908-M-US_Open-SF-Novak_Djokovic_-Ben_Shelton</td>\n      <td>3</td>\n      <td>0</td>\n      <td>0</td>\n      <td>0.0</td>\n      <td>0.0</td>\n      <td>15-15</td>\n      <td>1 (3)</td>\n      <td>1</td>\n      <td>0</td>\n      <td>...</td>\n      <td>4 b28 f2 o1 *</td>\n      <td>4</td>\n      <td>Novak Djokovic</td>\n      <td>Ben Shelton</td>\n      <td>4d</td>\n      <td>NaN</td>\n      <td>4 f2</td>\n      <td>b28 o1*</td>\n      <td>4d</td>\n      <td>4 b28 f2 o1*</td>\n    </tr>\n    <tr>\n      <th>3</th>\n      <td>20230908-M-US_Open-SF-Novak_Djokovic_-Ben_Shelton</td>\n      <td>4</td>\n      <td>0</td>\n      <td>0</td>\n      <td>0.0</td>\n      <td>0.0</td>\n      <td>15-30</td>\n      <td>1 (4)</td>\n      <td>1</td>\n      <td>0</td>\n      <td>...</td>\n      <td>NaN</td>\n      <td>3</td>\n      <td>Novak Djokovic</td>\n      <td>Ben Shelton</td>\n      <td>6 f3*</td>\n      <td>s28</td>\n      <td>NaN</td>\n      <td>NaN</td>\n      <td>6 s28 f3*</td>\n      <td>NaN</td>\n    </tr>\n    <tr>\n      <th>4</th>\n      <td>20230908-M-US_Open-SF-Novak_Djokovic_-Ben_Shelton</td>\n      <td>5</td>\n      <td>0</td>\n      <td>0</td>\n      <td>0.0</td>\n      <td>0.0</td>\n      <td>30-30</td>\n      <td>1 (5)</td>\n      <td>1</td>\n      <td>0</td>\n      <td>...</td>\n      <td>NaN</td>\n      <td>3</td>\n      <td>Novak Djokovic</td>\n      <td>Ben Shelton</td>\n      <td>4 b3*</td>\n      <td>b37</td>\n      <td>NaN</td>\n      <td>NaN</td>\n      <td>4 b37 b3*</td>\n      <td>NaN</td>\n    </tr>\n  </tbody>\n</table>\n<p>5 rows × 41 columns</p>\n</div>"
     },
     "execution_count": 3,
     "metadata": {},
     "output_type": "execute_result"
    }
   ],
   "source": [
    "df.head()"
   ],
   "metadata": {
    "collapsed": false,
    "ExecuteTime": {
     "end_time": "2024-12-13T13:27:25.312298Z",
     "start_time": "2024-12-13T13:27:25.266957Z"
    }
   },
   "id": "b6a997646c968c55",
   "execution_count": 3
  },
  {
   "cell_type": "markdown",
   "source": [
    "# Modelo de predicción de final de punto\n",
    "El objetivo de este modelo es predecir el final de un punto en un partido de tenis, es decir, si el punto terminará con un golpe ganador, un error forzado o un error no forzado."
   ],
   "metadata": {
    "collapsed": false
   },
   "id": "95ab22ff0ec660da"
  },
  {
   "cell_type": "code",
   "outputs": [
    {
     "data": {
      "text/plain": "   1stIn  2ndIn                 1st_final                 2nd_final  Pt  Set1  \\\n0      1    NaN                    6 f2n#                       NaN   1     0   \n1      0    1.0  6 b19 f1 b2 s1 f3 f2 j2*  6 b19 f1 b2 s1 f3 f2 j2*   2     0   \n2      0    1.0              4 b28 f2 o1*              4 b28 f2 o1*   3     0   \n3      1    NaN                 6 s28 f3*                       NaN   4     0   \n4      1    NaN                 4 b37 b3*                       NaN   5     0   \n\n   Set2  Gm1  Gm2 TbSet  ... Ret  isAce  isUnret  isRallyWinner  isForced  \\\n0     0  0.0  0.0     1  ...   2  False    False          False      True   \n1     0  0.0  0.0     1  ...   2  False    False           True     False   \n2     0  0.0  0.0     1  ...   2  False    False           True     False   \n3     0  0.0  0.0     1  ...   2  False    False           True     False   \n4     0  0.0  0.0     1  ...   2  False    False           True     False   \n\n   isUnforced  isDouble  PtWinner  isSvrWinner  rallyCount  \n0       False     False         1            1           1  \n1       False     False         2            0           8  \n2       False     False         2            0           4  \n3       False     False         1            1           3  \n4       False     False         1            1           3  \n\n[5 rows x 23 columns]",
      "text/html": "<div>\n<style scoped>\n    .dataframe tbody tr th:only-of-type {\n        vertical-align: middle;\n    }\n\n    .dataframe tbody tr th {\n        vertical-align: top;\n    }\n\n    .dataframe thead th {\n        text-align: right;\n    }\n</style>\n<table border=\"1\" class=\"dataframe\">\n  <thead>\n    <tr style=\"text-align: right;\">\n      <th></th>\n      <th>1stIn</th>\n      <th>2ndIn</th>\n      <th>1st_final</th>\n      <th>2nd_final</th>\n      <th>Pt</th>\n      <th>Set1</th>\n      <th>Set2</th>\n      <th>Gm1</th>\n      <th>Gm2</th>\n      <th>TbSet</th>\n      <th>...</th>\n      <th>Ret</th>\n      <th>isAce</th>\n      <th>isUnret</th>\n      <th>isRallyWinner</th>\n      <th>isForced</th>\n      <th>isUnforced</th>\n      <th>isDouble</th>\n      <th>PtWinner</th>\n      <th>isSvrWinner</th>\n      <th>rallyCount</th>\n    </tr>\n  </thead>\n  <tbody>\n    <tr>\n      <th>0</th>\n      <td>1</td>\n      <td>NaN</td>\n      <td>6 f2n#</td>\n      <td>NaN</td>\n      <td>1</td>\n      <td>0</td>\n      <td>0</td>\n      <td>0.0</td>\n      <td>0.0</td>\n      <td>1</td>\n      <td>...</td>\n      <td>2</td>\n      <td>False</td>\n      <td>False</td>\n      <td>False</td>\n      <td>True</td>\n      <td>False</td>\n      <td>False</td>\n      <td>1</td>\n      <td>1</td>\n      <td>1</td>\n    </tr>\n    <tr>\n      <th>1</th>\n      <td>0</td>\n      <td>1.0</td>\n      <td>6 b19 f1 b2 s1 f3 f2 j2*</td>\n      <td>6 b19 f1 b2 s1 f3 f2 j2*</td>\n      <td>2</td>\n      <td>0</td>\n      <td>0</td>\n      <td>0.0</td>\n      <td>0.0</td>\n      <td>1</td>\n      <td>...</td>\n      <td>2</td>\n      <td>False</td>\n      <td>False</td>\n      <td>True</td>\n      <td>False</td>\n      <td>False</td>\n      <td>False</td>\n      <td>2</td>\n      <td>0</td>\n      <td>8</td>\n    </tr>\n    <tr>\n      <th>2</th>\n      <td>0</td>\n      <td>1.0</td>\n      <td>4 b28 f2 o1*</td>\n      <td>4 b28 f2 o1*</td>\n      <td>3</td>\n      <td>0</td>\n      <td>0</td>\n      <td>0.0</td>\n      <td>0.0</td>\n      <td>1</td>\n      <td>...</td>\n      <td>2</td>\n      <td>False</td>\n      <td>False</td>\n      <td>True</td>\n      <td>False</td>\n      <td>False</td>\n      <td>False</td>\n      <td>2</td>\n      <td>0</td>\n      <td>4</td>\n    </tr>\n    <tr>\n      <th>3</th>\n      <td>1</td>\n      <td>NaN</td>\n      <td>6 s28 f3*</td>\n      <td>NaN</td>\n      <td>4</td>\n      <td>0</td>\n      <td>0</td>\n      <td>0.0</td>\n      <td>0.0</td>\n      <td>1</td>\n      <td>...</td>\n      <td>2</td>\n      <td>False</td>\n      <td>False</td>\n      <td>True</td>\n      <td>False</td>\n      <td>False</td>\n      <td>False</td>\n      <td>1</td>\n      <td>1</td>\n      <td>3</td>\n    </tr>\n    <tr>\n      <th>4</th>\n      <td>1</td>\n      <td>NaN</td>\n      <td>4 b37 b3*</td>\n      <td>NaN</td>\n      <td>5</td>\n      <td>0</td>\n      <td>0</td>\n      <td>0.0</td>\n      <td>0.0</td>\n      <td>1</td>\n      <td>...</td>\n      <td>2</td>\n      <td>False</td>\n      <td>False</td>\n      <td>True</td>\n      <td>False</td>\n      <td>False</td>\n      <td>False</td>\n      <td>1</td>\n      <td>1</td>\n      <td>3</td>\n    </tr>\n  </tbody>\n</table>\n<p>5 rows × 23 columns</p>\n</div>"
     },
     "execution_count": 4,
     "metadata": {},
     "output_type": "execute_result"
    }
   ],
   "source": [
    "# Select relevant columns\n",
    "point_winning_data = df[['1stIn', '2ndIn', '1st_final', '2nd_final', 'Pt', 'Set1', 'Set2', 'Gm1', 'Gm2', 'TbSet', 'TB?', 'TBpt', 'Svr', 'Ret', 'isAce', 'isUnret', 'isRallyWinner', 'isForced', 'isUnforced', 'isDouble', 'PtWinner', 'isSvrWinner', 'rallyCount']]\n",
    "\n",
    "# Replace values in '1st_final' with '2nd_final' if '1stIn' == 0\n",
    "point_winning_data['1st_final'] = np.where(point_winning_data['1stIn'] == 0, point_winning_data['2nd_final'], point_winning_data['1st_final'])\n",
    "\n",
    "# Drop rows where '2ndIn' is 0\n",
    "point_winning_data = point_winning_data[point_winning_data['2ndIn'] != 0]\n",
    "\n",
    "# Display the first few rows of the DataFrame\n",
    "point_winning_data.head()"
   ],
   "metadata": {
    "collapsed": false,
    "ExecuteTime": {
     "end_time": "2024-12-13T13:27:25.562363Z",
     "start_time": "2024-12-13T13:27:25.313298Z"
    }
   },
   "id": "c841c297be17c9e0",
   "execution_count": 4
  },
  {
   "cell_type": "code",
   "outputs": [],
   "source": [
    "#drop na if na in 1st_final\n",
    "point_winning_data = point_winning_data.dropna(subset=['1st_final'])"
   ],
   "metadata": {
    "collapsed": false,
    "ExecuteTime": {
     "end_time": "2024-12-13T13:27:25.763384Z",
     "start_time": "2024-12-13T13:27:25.563363Z"
    }
   },
   "id": "dc1e20e0a54686ec",
   "execution_count": 5
  },
  {
   "cell_type": "code",
   "outputs": [],
   "source": [
    "#point_winning_data.to_csv('data_output/full_sequence.csv', index=False)"
   ],
   "metadata": {
    "collapsed": false,
    "ExecuteTime": {
     "end_time": "2024-12-13T13:27:25.779392Z",
     "start_time": "2024-12-13T13:27:25.765385Z"
    }
   },
   "id": "f3726b0f4fa5e1a8",
   "execution_count": 6
  },
  {
   "cell_type": "code",
   "outputs": [],
   "source": [
    "point_winning_data = point_winning_data.sample(frac=0.5, random_state=42) # 50% de los datos"
   ],
   "metadata": {
    "collapsed": false,
    "ExecuteTime": {
     "end_time": "2024-12-13T13:27:25.917404Z",
     "start_time": "2024-12-13T13:27:25.780392Z"
    }
   },
   "id": "46807164869dba3b",
   "execution_count": 7
  },
  {
   "cell_type": "markdown",
   "source": [
    "# Preprocesamiento de datos"
   ],
   "metadata": {
    "collapsed": false
   },
   "id": "d4164c83b5aae231"
  },
  {
   "cell_type": "code",
   "outputs": [],
   "source": [
    "tokenizer = Tokenizer()\n",
    "tokenizer.fit_on_texts(point_winning_data['1st_final'])\n",
    "word_index = tokenizer.word_index\n",
    "vocab_size = len(word_index) + 1\n",
    "\n",
    "# Convertir las secuencias en listas de tokens\n",
    "tokenized_sequences = []\n",
    "for seq in point_winning_data['1st_final']:\n",
    "    tokens = seq.split()\n",
    "    tokenized_sequence = tokenizer.texts_to_sequences([tokens])\n",
    "    tokenized_sequence = [item for sublist in tokenized_sequence for item in sublist]\n",
    "    tokenized_sequences.append(tokenized_sequence)\n",
    "\n",
    "# Rellenar secuencias para que todas tengan la misma longitud\n",
    "max_sequence_length = 10  # Máximo de 5 golpes para unificar el largo de las secuencias\n",
    "X_seq = pad_sequences(tokenized_sequences, maxlen=max_sequence_length, padding='post')\n"
   ],
   "metadata": {
    "collapsed": false,
    "ExecuteTime": {
     "end_time": "2024-12-13T13:27:30.641659Z",
     "start_time": "2024-12-13T13:27:25.918404Z"
    }
   },
   "id": "1a7719d33f7fd88f",
   "execution_count": 8
  },
  {
   "cell_type": "code",
   "outputs": [],
   "source": [
    "point_winning_data['TbSet'] = point_winning_data['TbSet'].replace('T',2).astype(float)\n",
    "point_winning_data['TB?'] = point_winning_data['TbSet'].replace('S',2).astype(float)"
   ],
   "metadata": {
    "collapsed": false,
    "ExecuteTime": {
     "end_time": "2024-12-13T13:27:30.751222Z",
     "start_time": "2024-12-13T13:27:30.642659Z"
    }
   },
   "id": "f7454dbf9cd7c360",
   "execution_count": 9
  },
  {
   "cell_type": "code",
   "outputs": [
    {
     "data": {
      "text/plain": "        1stIn  2ndIn                      1st_final   2nd_final   Pt  Set1  \\\n592200      0    1.0                     5 b38 s2n@  5 b38 s2n@  149     2   \n484980      1    NaN                         6 f2n#         NaN  101     1   \n411659      1    NaN            4 b38 b2 f1 f1 f3n@         NaN  109     1   \n570119      0    1.0                     5 b28 b3w@  5 b28 b3w@  136     2   \n159868      1    NaN  6 b29 b2 b2 f2 b2 f2 b2 f19w@         NaN  198     2   \n\n        Set2  Gm1  Gm2  TbSet  ...  Ret  isAce  isUnret  isRallyWinner  \\\n592200     0  0.0  1.0    1.0  ...    2  False    False          False   \n484980     0  5.0  4.0    1.0  ...    2  False    False          False   \n411659     0  0.0  0.0    1.0  ...    1  False    False          False   \n570119     0  4.0  5.0    1.0  ...    2  False    False          False   \n159868     1  0.0  0.0    1.0  ...    1  False    False          False   \n\n        isForced  isUnforced  isDouble  PtWinner  isSvrWinner  rallyCount  \n592200     False        True     False         2            0           2  \n484980      True       False     False         1            1           1  \n411659     False        True     False         2            1           5  \n570119     False        True     False         2            0           2  \n159868     False        True     False         1            0           8  \n\n[5 rows x 23 columns]",
      "text/html": "<div>\n<style scoped>\n    .dataframe tbody tr th:only-of-type {\n        vertical-align: middle;\n    }\n\n    .dataframe tbody tr th {\n        vertical-align: top;\n    }\n\n    .dataframe thead th {\n        text-align: right;\n    }\n</style>\n<table border=\"1\" class=\"dataframe\">\n  <thead>\n    <tr style=\"text-align: right;\">\n      <th></th>\n      <th>1stIn</th>\n      <th>2ndIn</th>\n      <th>1st_final</th>\n      <th>2nd_final</th>\n      <th>Pt</th>\n      <th>Set1</th>\n      <th>Set2</th>\n      <th>Gm1</th>\n      <th>Gm2</th>\n      <th>TbSet</th>\n      <th>...</th>\n      <th>Ret</th>\n      <th>isAce</th>\n      <th>isUnret</th>\n      <th>isRallyWinner</th>\n      <th>isForced</th>\n      <th>isUnforced</th>\n      <th>isDouble</th>\n      <th>PtWinner</th>\n      <th>isSvrWinner</th>\n      <th>rallyCount</th>\n    </tr>\n  </thead>\n  <tbody>\n    <tr>\n      <th>592200</th>\n      <td>0</td>\n      <td>1.0</td>\n      <td>5 b38 s2n@</td>\n      <td>5 b38 s2n@</td>\n      <td>149</td>\n      <td>2</td>\n      <td>0</td>\n      <td>0.0</td>\n      <td>1.0</td>\n      <td>1.0</td>\n      <td>...</td>\n      <td>2</td>\n      <td>False</td>\n      <td>False</td>\n      <td>False</td>\n      <td>False</td>\n      <td>True</td>\n      <td>False</td>\n      <td>2</td>\n      <td>0</td>\n      <td>2</td>\n    </tr>\n    <tr>\n      <th>484980</th>\n      <td>1</td>\n      <td>NaN</td>\n      <td>6 f2n#</td>\n      <td>NaN</td>\n      <td>101</td>\n      <td>1</td>\n      <td>0</td>\n      <td>5.0</td>\n      <td>4.0</td>\n      <td>1.0</td>\n      <td>...</td>\n      <td>2</td>\n      <td>False</td>\n      <td>False</td>\n      <td>False</td>\n      <td>True</td>\n      <td>False</td>\n      <td>False</td>\n      <td>1</td>\n      <td>1</td>\n      <td>1</td>\n    </tr>\n    <tr>\n      <th>411659</th>\n      <td>1</td>\n      <td>NaN</td>\n      <td>4 b38 b2 f1 f1 f3n@</td>\n      <td>NaN</td>\n      <td>109</td>\n      <td>1</td>\n      <td>0</td>\n      <td>0.0</td>\n      <td>0.0</td>\n      <td>1.0</td>\n      <td>...</td>\n      <td>1</td>\n      <td>False</td>\n      <td>False</td>\n      <td>False</td>\n      <td>False</td>\n      <td>True</td>\n      <td>False</td>\n      <td>2</td>\n      <td>1</td>\n      <td>5</td>\n    </tr>\n    <tr>\n      <th>570119</th>\n      <td>0</td>\n      <td>1.0</td>\n      <td>5 b28 b3w@</td>\n      <td>5 b28 b3w@</td>\n      <td>136</td>\n      <td>2</td>\n      <td>0</td>\n      <td>4.0</td>\n      <td>5.0</td>\n      <td>1.0</td>\n      <td>...</td>\n      <td>2</td>\n      <td>False</td>\n      <td>False</td>\n      <td>False</td>\n      <td>False</td>\n      <td>True</td>\n      <td>False</td>\n      <td>2</td>\n      <td>0</td>\n      <td>2</td>\n    </tr>\n    <tr>\n      <th>159868</th>\n      <td>1</td>\n      <td>NaN</td>\n      <td>6 b29 b2 b2 f2 b2 f2 b2 f19w@</td>\n      <td>NaN</td>\n      <td>198</td>\n      <td>2</td>\n      <td>1</td>\n      <td>0.0</td>\n      <td>0.0</td>\n      <td>1.0</td>\n      <td>...</td>\n      <td>1</td>\n      <td>False</td>\n      <td>False</td>\n      <td>False</td>\n      <td>False</td>\n      <td>True</td>\n      <td>False</td>\n      <td>1</td>\n      <td>0</td>\n      <td>8</td>\n    </tr>\n  </tbody>\n</table>\n<p>5 rows × 23 columns</p>\n</div>"
     },
     "execution_count": 10,
     "metadata": {},
     "output_type": "execute_result"
    }
   ],
   "source": [
    "point_winning_data.head()"
   ],
   "metadata": {
    "collapsed": false,
    "ExecuteTime": {
     "end_time": "2024-12-13T13:27:30.767089Z",
     "start_time": "2024-12-13T13:27:30.752222Z"
    }
   },
   "id": "d54e6c8f4e01485f",
   "execution_count": 10
  },
  {
   "cell_type": "code",
   "outputs": [
    {
     "name": "stdout",
     "output_type": "stream",
     "text": [
      "X_seq shape: (356652, 10), context_features shape: (356652, 19)\n"
     ]
    }
   ],
   "source": [
    "from sklearn.preprocessing import StandardScaler\n",
    "\n",
    "X_context_features = point_winning_data[['Pt', 'Set1', 'Set2', 'Gm1', 'Gm2', 'TbSet', 'TB?', 'TBpt', 'Svr', 'Ret', 'isAce', 'isUnret', 'isRallyWinner', 'isForced', 'isUnforced', 'isDouble', 'PtWinner', 'isSvrWinner', 'rallyCount']]\n",
    "\n",
    "scaler = StandardScaler()\n",
    "context_features = scaler.fit_transform(X_context_features)\n",
    "\n",
    "print(f\"X_seq shape: {X_seq.shape}, context_features shape: {X_context_features.shape}\")"
   ],
   "metadata": {
    "collapsed": false,
    "ExecuteTime": {
     "end_time": "2024-12-13T13:27:31.338484Z",
     "start_time": "2024-12-13T13:27:30.768089Z"
    }
   },
   "id": "999e715a7d2ee750",
   "execution_count": 11
  },
  {
   "cell_type": "code",
   "outputs": [
    {
     "name": "stdout",
     "output_type": "stream",
     "text": [
      "X_seq shape: (356652, 10), context_features shape: (356652, 19), y_type shape: 356652\n"
     ]
    }
   ],
   "source": [
    "# definir las etiquetas y, 0 si fue winner (*), 1 si fue error forzado (#), 2 si fue error no forzado(@)\n",
    "point_winning_data.head()\n",
    "#Si ultimo caracter de 1st_final es *, entonces 0, si es # entonces 1, si es @ entonces 2\n",
    "y_type = []\n",
    "for i in point_winning_data['1st_final']:\n",
    "    if i[-1] == '#' or i[-1] == '@':\n",
    "        y_type.append(0)\n",
    "    elif i[-1] == '*':\n",
    "        y_type.append(1)\n",
    "        \n",
    "print(f'X_seq shape: {X_seq.shape}, context_features shape: {X_context_features.shape}, y_type shape: {len(y_type)}')"
   ],
   "metadata": {
    "collapsed": false,
    "ExecuteTime": {
     "end_time": "2024-12-13T13:27:31.463664Z",
     "start_time": "2024-12-13T13:27:31.339483Z"
    }
   },
   "id": "3390a789b8a9a468",
   "execution_count": 12
  },
  {
   "cell_type": "code",
   "outputs": [
    {
     "data": {
      "text/plain": "\"def build_model(hp):\\n    # Hiperparámetros a optimizar\\n    lstm_units = hp.Choice('lstm_units', [32, 64])  # Reducir el rango\\n    embedding_dim = hp.Choice('embedding_dim', [32, 64])\\n    dropout_rate = hp.Float('dropout_rate', 0.2, 0.3, step=0.05)  # Rango más limitado\\n    learning_rate = hp.Choice('learning_rate', [1e-4, 1e-3])  # Learning rate\\n    \\n    # Entrada secuencial\\n    seq_input = Input(shape=(max_sequence_length,))\\n    embedding_layer = Embedding(input_dim=vocab_size, output_dim=embedding_dim)(seq_input)\\n    lstm_layer = LSTM(lstm_units)(embedding_layer)\\n    \\n    # Entrada contextual\\n    context_input = Input(shape=(X_context_features.shape[1],))\\n    dense_context = Dense(32, activation='relu')(context_input)\\n    \\n    # Combinar entradas\\n    merged = Concatenate()([lstm_layer, dense_context])\\n    dropout_layer = Dropout(dropout_rate)(merged)\\n    output = Dense(3, activation='softmax')(dropout_layer)\\n    \\n    # Modelo\\n    model = Model(inputs=[seq_input, context_input], outputs=output)\\n    model.compile(optimizer=Adam(learning_rate=learning_rate), \\n                  loss='sparse_categorical_crossentropy', \\n                  metrics=['accuracy'])\\n    \\n    return model\""
     },
     "execution_count": 13,
     "metadata": {},
     "output_type": "execute_result"
    }
   ],
   "source": [
    "import keras_tuner as kt\n",
    "\n",
    "#divide train and test data\n",
    "X_seq_train, X_seq_test, context_features_train, context_features_test, y_type_train, y_type_test = train_test_split(X_seq, context_features, y_type, test_size=0.2, random_state=42)\n",
    "\n",
    "\n",
    "# Definir la función para construir el modelo\n",
    "\"\"\"def build_model(hp):\n",
    "    # Hiperparámetros a optimizar\n",
    "    lstm_units = hp.Choice('lstm_units', [32, 64])  # Reducir el rango\n",
    "    embedding_dim = hp.Choice('embedding_dim', [32, 64])\n",
    "    dropout_rate = hp.Float('dropout_rate', 0.2, 0.3, step=0.05)  # Rango más limitado\n",
    "    learning_rate = hp.Choice('learning_rate', [1e-4, 1e-3])  # Learning rate\n",
    "    \n",
    "    # Entrada secuencial\n",
    "    seq_input = Input(shape=(max_sequence_length,))\n",
    "    embedding_layer = Embedding(input_dim=vocab_size, output_dim=embedding_dim)(seq_input)\n",
    "    lstm_layer = LSTM(lstm_units)(embedding_layer)\n",
    "    \n",
    "    # Entrada contextual\n",
    "    context_input = Input(shape=(X_context_features.shape[1],))\n",
    "    dense_context = Dense(32, activation='relu')(context_input)\n",
    "    \n",
    "    # Combinar entradas\n",
    "    merged = Concatenate()([lstm_layer, dense_context])\n",
    "    dropout_layer = Dropout(dropout_rate)(merged)\n",
    "    output = Dense(3, activation='softmax')(dropout_layer)\n",
    "    \n",
    "    # Modelo\n",
    "    model = Model(inputs=[seq_input, context_input], outputs=output)\n",
    "    model.compile(optimizer=Adam(learning_rate=learning_rate), \n",
    "                  loss='sparse_categorical_crossentropy', \n",
    "                  metrics=['accuracy'])\n",
    "    \n",
    "    return model\"\"\""
   ],
   "metadata": {
    "collapsed": false,
    "ExecuteTime": {
     "end_time": "2024-12-13T13:27:31.945223Z",
     "start_time": "2024-12-13T13:27:31.464665Z"
    }
   },
   "id": "6b5f9e2c58aa399d",
   "execution_count": 13
  },
  {
   "cell_type": "code",
   "outputs": [
    {
     "data": {
      "text/plain": "'print(f\"Shape de X_seq: {X_seq.shape}\")\\nprint(f\"Shape de context_features: {context_features.shape}\")\\nprint(f\"Shape de y_type: {len(y_type)}\")'"
     },
     "execution_count": 14,
     "metadata": {},
     "output_type": "execute_result"
    }
   ],
   "source": [
    "\"\"\"print(f\"Shape de X_seq: {X_seq.shape}\")\n",
    "print(f\"Shape de context_features: {context_features.shape}\")\n",
    "print(f\"Shape de y_type: {len(y_type)}\")\"\"\"\n"
   ],
   "metadata": {
    "collapsed": false,
    "ExecuteTime": {
     "end_time": "2024-12-13T13:27:31.960298Z",
     "start_time": "2024-12-13T13:27:31.946224Z"
    }
   },
   "id": "b7b6204ef8ab5e73",
   "execution_count": 14
  },
  {
   "cell_type": "code",
   "outputs": [
    {
     "data": {
      "text/plain": "\"tuner = kt.Hyperband(build_model,\\n                        objective='val_accuracy',\\n                        max_epochs=10,\\n                        factor=3,\\n                        directory='new_tune',\\n                        project_name='tennis_point_ending')\\n\\ntuner.search([X_seq_train, context_features_train], np.array(y_type_train), epochs=10, validation_data=([X_seq_test, context_features_test], np.array(y_type_test)))\""
     },
     "execution_count": 15,
     "metadata": {},
     "output_type": "execute_result"
    }
   ],
   "source": [
    "# search for the best hyperparameters\n",
    "\n",
    "\"\"\"tuner = kt.Hyperband(build_model,\n",
    "                        objective='val_accuracy',\n",
    "                        max_epochs=10,\n",
    "                        factor=3,\n",
    "                        directory='new_tune',\n",
    "                        project_name='tennis_point_ending')\n",
    "\n",
    "tuner.search([X_seq_train, context_features_train], np.array(y_type_train), epochs=10, validation_data=([X_seq_test, context_features_test], np.array(y_type_test)))\"\"\""
   ],
   "metadata": {
    "collapsed": false,
    "ExecuteTime": {
     "end_time": "2024-12-13T13:27:31.975791Z",
     "start_time": "2024-12-13T13:27:31.961232Z"
    }
   },
   "id": "9a95eaa47a6159d4",
   "execution_count": 15
  },
  {
   "cell_type": "code",
   "outputs": [
    {
     "data": {
      "text/plain": "'best_hps = tuner.get_best_hyperparameters(num_trials=1)[0]\\nbest_hps.values'"
     },
     "execution_count": 16,
     "metadata": {},
     "output_type": "execute_result"
    }
   ],
   "source": [
    "# Get the optimal hyperparameters\n",
    "\"\"\"best_hps = tuner.get_best_hyperparameters(num_trials=1)[0]\n",
    "best_hps.values\"\"\""
   ],
   "metadata": {
    "collapsed": false,
    "ExecuteTime": {
     "end_time": "2024-12-13T13:27:31.990897Z",
     "start_time": "2024-12-13T13:27:31.977793Z"
    }
   },
   "id": "4c7d606510b0d728",
   "execution_count": 16
  },
  {
   "cell_type": "code",
   "outputs": [],
   "source": [
    "# TRAIN BEST MODEL AND PLOT METRICS FOR TRAIN AND TEST DATA\n",
    "# Split the data\n",
    "parameters = {'lstm_units': 64,\n",
    " 'embedding_dim': 64,\n",
    " 'dropout_rate': 0.25,\n",
    " 'learning_rate': 0.001,}\n",
    "\n",
    "# Define the model with the \"parameters\" dictionary\n",
    "seq_input = Input(shape=(max_sequence_length,))\n",
    "embedding_layer = Embedding(input_dim=vocab_size, output_dim=parameters['embedding_dim'])(seq_input)\n",
    "lstm_layer = LSTM(parameters['lstm_units'])(embedding_layer)\n",
    "\n",
    "context_input = Input(shape=(X_context_features.shape[1],))\n",
    "dense_context = Dense(32, activation='relu')(context_input)\n",
    "\n",
    "merged = Concatenate()([lstm_layer, dense_context])\n",
    "dropout_layer = Dropout(parameters['dropout_rate'])(merged)\n",
    "output = Dense(3, activation='softmax')(dropout_layer)\n",
    "\n",
    "model = Model(inputs=[seq_input, context_input], outputs=output)\n",
    "model.compile(optimizer=Adam(learning_rate=parameters['learning_rate']), \n",
    "              loss='sparse_categorical_crossentropy', \n",
    "              metrics=['accuracy'])\n",
    "\n",
    "\n",
    "\n",
    "\n",
    "# Train the model\n",
    "#history = model.fit([X_seq_train, context_features_train], np.array(y_type_train), epochs=10, validation_data=([X_seq_test, context_features_test], np.array(y_type_test)))\n"
   ],
   "metadata": {
    "collapsed": false,
    "ExecuteTime": {
     "end_time": "2024-12-13T13:27:47.015816Z",
     "start_time": "2024-12-13T13:27:46.681774Z"
    }
   },
   "id": "9d9fb91d9d78364c",
   "execution_count": 17
  },
  {
   "cell_type": "code",
   "outputs": [
    {
     "name": "stdout",
     "output_type": "stream",
     "text": [
      "Epoch 1/10\n",
      "\u001B[1m8917/8917\u001B[0m \u001B[32m━━━━━━━━━━━━━━━━━━━━\u001B[0m\u001B[37m\u001B[0m \u001B[1m30s\u001B[0m 3ms/step - accuracy: 0.7443 - loss: 0.5201 - val_accuracy: 0.7787 - val_loss: 0.4602\n",
      "Epoch 2/10\n",
      "\u001B[1m8917/8917\u001B[0m \u001B[32m━━━━━━━━━━━━━━━━━━━━\u001B[0m\u001B[37m\u001B[0m \u001B[1m27s\u001B[0m 3ms/step - accuracy: 0.7776 - loss: 0.4649 - val_accuracy: 0.7798 - val_loss: 0.4599\n",
      "Epoch 3/10\n",
      "\u001B[1m8917/8917\u001B[0m \u001B[32m━━━━━━━━━━━━━━━━━━━━\u001B[0m\u001B[37m\u001B[0m \u001B[1m28s\u001B[0m 3ms/step - accuracy: 0.7778 - loss: 0.4634 - val_accuracy: 0.7796 - val_loss: 0.4598\n",
      "Epoch 4/10\n",
      "\u001B[1m8917/8917\u001B[0m \u001B[32m━━━━━━━━━━━━━━━━━━━━\u001B[0m\u001B[37m\u001B[0m \u001B[1m27s\u001B[0m 3ms/step - accuracy: 0.7802 - loss: 0.4604 - val_accuracy: 0.7785 - val_loss: 0.4592\n",
      "Epoch 5/10\n",
      "\u001B[1m8917/8917\u001B[0m \u001B[32m━━━━━━━━━━━━━━━━━━━━\u001B[0m\u001B[37m\u001B[0m \u001B[1m27s\u001B[0m 3ms/step - accuracy: 0.7809 - loss: 0.4588 - val_accuracy: 0.7792 - val_loss: 0.4594\n",
      "Epoch 6/10\n",
      "\u001B[1m8917/8917\u001B[0m \u001B[32m━━━━━━━━━━━━━━━━━━━━\u001B[0m\u001B[37m\u001B[0m \u001B[1m27s\u001B[0m 3ms/step - accuracy: 0.7825 - loss: 0.4583 - val_accuracy: 0.7789 - val_loss: 0.4583\n",
      "Epoch 7/10\n",
      "\u001B[1m8917/8917\u001B[0m \u001B[32m━━━━━━━━━━━━━━━━━━━━\u001B[0m\u001B[37m\u001B[0m \u001B[1m27s\u001B[0m 3ms/step - accuracy: 0.7826 - loss: 0.4579 - val_accuracy: 0.7796 - val_loss: 0.4586\n",
      "Epoch 8/10\n",
      "\u001B[1m8917/8917\u001B[0m \u001B[32m━━━━━━━━━━━━━━━━━━━━\u001B[0m\u001B[37m\u001B[0m \u001B[1m26s\u001B[0m 3ms/step - accuracy: 0.7824 - loss: 0.4577 - val_accuracy: 0.7787 - val_loss: 0.4588\n",
      "Epoch 9/10\n",
      "\u001B[1m8917/8917\u001B[0m \u001B[32m━━━━━━━━━━━━━━━━━━━━\u001B[0m\u001B[37m\u001B[0m \u001B[1m27s\u001B[0m 3ms/step - accuracy: 0.7827 - loss: 0.4570 - val_accuracy: 0.7794 - val_loss: 0.4587\n",
      "Epoch 10/10\n",
      "\u001B[1m8917/8917\u001B[0m \u001B[32m━━━━━━━━━━━━━━━━━━━━\u001B[0m\u001B[37m\u001B[0m \u001B[1m27s\u001B[0m 3ms/step - accuracy: 0.7832 - loss: 0.4566 - val_accuracy: 0.7792 - val_loss: 0.4594\n"
     ]
    }
   ],
   "source": [
    "# fit the model\n",
    "history = model.fit([X_seq_train, context_features_train], np.array(y_type_train), epochs=10, validation_data=([X_seq_test, context_features_test], np.array(y_type_test)))"
   ],
   "metadata": {
    "collapsed": false,
    "ExecuteTime": {
     "end_time": "2024-12-13T13:32:25.440425Z",
     "start_time": "2024-12-13T13:27:53.456666Z"
    }
   },
   "id": "52999d45c1ace92e",
   "execution_count": 18
  },
  {
   "cell_type": "code",
   "outputs": [
    {
     "name": "stdout",
     "output_type": "stream",
     "text": [
      "\u001B[1m8917/8917\u001B[0m \u001B[32m━━━━━━━━━━━━━━━━━━━━\u001B[0m\u001B[37m\u001B[0m \u001B[1m13s\u001B[0m 1ms/step\n",
      "\u001B[1m2230/2230\u001B[0m \u001B[32m━━━━━━━━━━━━━━━━━━━━\u001B[0m\u001B[37m\u001B[0m \u001B[1m3s\u001B[0m 1ms/step\n"
     ]
    }
   ],
   "source": [
    "# predict the test data\n",
    "from sklearn.metrics import precision_score, recall_score, f1_score\n",
    "\n",
    "# Predict the classes for train and test data\n",
    "y_train_pred = np.argmax(model.predict([X_seq_train, context_features_train]), axis=1)\n",
    "y_test_pred = np.argmax(model.predict([X_seq_test, context_features_test]), axis=1)\n",
    "\n",
    "# Calculate precision, recall, and f1-score for train data\n",
    "precision_train = precision_score(y_type_train, y_train_pred, average='weighted')\n",
    "recall_train = recall_score(y_type_train, y_train_pred, average='weighted')\n",
    "f1_train = f1_score(y_type_train, y_train_pred, average='weighted')\n",
    "\n",
    "# Calculate precision, recall, and f1-score for test data\n",
    "precision_test = precision_score(y_type_test, y_test_pred, average='weighted')\n",
    "recall_test = recall_score(y_type_test, y_test_pred, average='weighted')\n",
    "f1_test = f1_score(y_type_test, y_test_pred, average='weighted')\n",
    "\n",
    "# Create a DataFrame to store the metrics\n",
    "metrics_df = pd.DataFrame({\n",
    "    'Dataset': ['Train', 'Test'],\n",
    "    'Precision': [precision_train, precision_test],\n",
    "    'Recall': [recall_train, recall_test],\n",
    "    'F1-Score': [f1_train, f1_test]\n",
    "})\n"
   ],
   "metadata": {
    "collapsed": false,
    "ExecuteTime": {
     "end_time": "2024-12-13T13:32:55.898784Z",
     "start_time": "2024-12-13T13:32:35.824264Z"
    }
   },
   "id": "b78e6a656bdcfed3",
   "execution_count": 19
  },
  {
   "cell_type": "code",
   "outputs": [
    {
     "data": {
      "text/plain": "  Dataset  Precision    Recall  F1-Score\n0   Train   0.785824  0.785932  0.775344\n1    Test   0.777986  0.779156  0.768222",
      "text/html": "<div>\n<style scoped>\n    .dataframe tbody tr th:only-of-type {\n        vertical-align: middle;\n    }\n\n    .dataframe tbody tr th {\n        vertical-align: top;\n    }\n\n    .dataframe thead th {\n        text-align: right;\n    }\n</style>\n<table border=\"1\" class=\"dataframe\">\n  <thead>\n    <tr style=\"text-align: right;\">\n      <th></th>\n      <th>Dataset</th>\n      <th>Precision</th>\n      <th>Recall</th>\n      <th>F1-Score</th>\n    </tr>\n  </thead>\n  <tbody>\n    <tr>\n      <th>0</th>\n      <td>Train</td>\n      <td>0.785824</td>\n      <td>0.785932</td>\n      <td>0.775344</td>\n    </tr>\n    <tr>\n      <th>1</th>\n      <td>Test</td>\n      <td>0.777986</td>\n      <td>0.779156</td>\n      <td>0.768222</td>\n    </tr>\n  </tbody>\n</table>\n</div>"
     },
     "execution_count": 20,
     "metadata": {},
     "output_type": "execute_result"
    }
   ],
   "source": [
    "metrics_df"
   ],
   "metadata": {
    "collapsed": false,
    "ExecuteTime": {
     "end_time": "2024-12-13T13:32:55.914076Z",
     "start_time": "2024-12-13T13:32:55.899784Z"
    }
   },
   "id": "2cf2ef648639a4ef",
   "execution_count": 20
  },
  {
   "cell_type": "code",
   "outputs": [
    {
     "data": {
      "text/plain": "<Figure size 1000x200 with 1 Axes>",
      "image/png": "[encoded data removed]"
     },
     "metadata": {},
     "output_type": "display_data"
    }
   ],
   "source": [
    "# Plot the DataFrame as a table\n",
    "fig, ax = plt.subplots(figsize=(10, 2))  # Set the size of the figure\n",
    "ax.axis('tight')\n",
    "ax.axis('off')\n",
    "\n",
    "table = ax.table(cellText=round(metrics_df,2).values, colLabels=round(metrics_df,2).columns, cellLoc='center', loc='center')\n",
    "\n",
    "# Save the table as an image\n",
    "plt.savefig('viz_outputs/metrics_df_point_ending.png', bbox_inches='tight', dpi=300)\n",
    "plt.show()"
   ],
   "metadata": {
    "collapsed": false,
    "ExecuteTime": {
     "end_time": "2024-12-13T13:34:12.153941Z",
     "start_time": "2024-12-13T13:34:11.490270Z"
    }
   },
   "id": "182a7e086683d7c1",
   "execution_count": 21
  },
  {
   "cell_type": "code",
   "outputs": [
    {
     "data": {
      "text/plain": "<Figure size 800x600 with 2 Axes>",
      "image/png": "[encoded data removed]"
     },
     "metadata": {},
     "output_type": "display_data"
    }
   ],
   "source": [
    "import seaborn as sns\n",
    "from sklearn.metrics import confusion_matrix\n",
    "\n",
    "# Create a confusion matrix in pct\n",
    "conf_matrix = confusion_matrix(y_type_test, y_test_pred)\n",
    "conf_matrix_pct = conf_matrix / conf_matrix.sum(axis=1)[:, np.newaxis]\n",
    "\n",
    "# Plot the confusion matrix, just two categories, winner and error\n",
    "plt.figure(figsize=(8, 6))\n",
    "sns.heatmap(conf_matrix_pct, annot=True, cmap='Blues', xticklabels=['Winner', 'Error'], yticklabels=['Winner', 'Error'])\n",
    "plt.xlabel('Predicción')\n",
    "plt.ylabel('Real')\n",
    "plt.title('Matriz de confusión')\n",
    "\n",
    "# Save the figure\n",
    "plt.savefig('viz_outputs/confusion_matrix_point_ending.png', bbox_inches='tight', dpi=300)\n",
    "plt.show()\n"
   ],
   "metadata": {
    "collapsed": false,
    "ExecuteTime": {
     "end_time": "2024-12-13T13:55:31.546550Z",
     "start_time": "2024-12-13T13:55:30.871001Z"
    }
   },
   "id": "b403b98e35e520cd",
   "execution_count": 32
  },
  {
   "cell_type": "code",
   "outputs": [
    {
     "name": "stdout",
     "output_type": "stream",
     "text": [
      "\u001B[1m2230/2230\u001B[0m \u001B[32m━━━━━━━━━━━━━━━━━━━━\u001B[0m\u001B[37m\u001B[0m \u001B[1m3s\u001B[0m 1ms/step\n"
     ]
    },
    {
     "data": {
      "text/plain": "<Figure size 800x600 with 1 Axes>",
      "image/png": "[encoded data removed]"
     },
     "metadata": {},
     "output_type": "display_data"
    }
   ],
   "source": [
    "from sklearn.metrics import roc_curve, auc\n",
    "import matplotlib.pyplot as plt\n",
    "import numpy as np\n",
    "\n",
    "# Suponiendo que y_type_test contiene las clases verdaderas (0 para \"errores\", 1 para \"winners\")\n",
    "# y que model.predict devuelve las probabilidades para cada clase\n",
    "\n",
    "# Predecir las probabilidades de la clase positiva (\"winners\")\n",
    "y_prob = model.predict([X_seq_test, context_features_test])[:, 1]  # Probabilidad de \"winners\"\n",
    "\n",
    "# Calcular la curva ROC\n",
    "fpr, tpr, _ = roc_curve(y_type_test, y_prob)\n",
    "roc_auc = auc(fpr, tpr)\n",
    "\n",
    "# Graficar la curva ROC\n",
    "plt.figure(figsize=(8, 6))\n",
    "plt.plot(fpr, tpr, color='blue', lw=2, label=f'ROC curve (AUC = {roc_auc:.2f})')\n",
    "plt.plot([0, 1], [0, 1], color='gray', linestyle='--', lw=2, label='Random classifier')  # Clasificador aleatorio\n",
    "plt.xlim([0.0, 1.0])\n",
    "plt.ylim([0.0, 1.05])\n",
    "plt.xlabel('False Positive Rate (FPR)')\n",
    "plt.ylabel('True Positive Rate (TPR)')\n",
    "plt.title('Curva ROC para el modelo de terminación de punto')\n",
    "plt.legend(loc='lower right')\n",
    "\n",
    "# Guardar la figura\n",
    "plt.savefig('viz_outputs/roc_curve_point_ending.png', bbox_inches='tight', dpi=300)\n",
    "plt.show()\n"
   ],
   "metadata": {
    "collapsed": false,
    "ExecuteTime": {
     "end_time": "2024-12-13T14:03:50.411359Z",
     "start_time": "2024-12-13T14:03:45.883901Z"
    }
   },
   "id": "7e3456df6bd72ac1",
   "execution_count": 33
  },
  {
   "cell_type": "code",
   "outputs": [],
   "source": [],
   "metadata": {
    "collapsed": false
   },
   "id": "265322b0b4b833c2"
  }
 ],
 "metadata": {
  "kernelspec": {
   "display_name": "Python 3",
   "language": "python",
   "name": "python3"
  },
  "language_info": {
   "codemirror_mode": {
    "name": "ipython",
    "version": 2
   },
   "file_extension": ".py",
   "mimetype": "text/x-python",
   "name": "python",
   "nbconvert_exporter": "python",
   "pygments_lexer": "ipython2",
   "version": "2.7.6"
  }
 },
 "nbformat": 4,
 "nbformat_minor": 5
}
