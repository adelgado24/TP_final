{
 "cells": [
  {
   "cell_type": "code",
   "outputs": [],
   "source": [
    "import pandas as pd\n",
    "import numpy as np\n",
    "import matplotlib.pyplot as plt\n",
    "import seaborn as sns\n",
    "from sklearn.model_selection import train_test_split\n",
    "import chardet\n",
    "import re\n",
    "import warnings\n",
    "\n",
    "warnings.filterwarnings(\"ignore\", category=pd.errors.SettingWithCopyWarning)"
   ],
   "metadata": {
    "collapsed": true,
    "ExecuteTime": {
     "end_time": "2024-11-26T22:27:09.322100Z",
     "start_time": "2024-11-26T22:27:09.015061Z"
    }
   },
   "id": "initial_id",
   "execution_count": 1
  },
  {
   "cell_type": "markdown",
   "source": [
    "# Carga de datos\n",
    "## Partidos"
   ],
   "metadata": {
    "collapsed": false
   },
   "id": "df10d4f0125a795f"
  },
  {
   "cell_type": "code",
   "outputs": [],
   "source": [
    "df = pd.read_csv('tennis_atp-master/atp_matches_2023.csv')"
   ],
   "metadata": {
    "collapsed": false,
    "ExecuteTime": {
     "end_time": "2024-11-26T22:27:09.353101Z",
     "start_time": "2024-11-26T22:27:09.324101Z"
    }
   },
   "id": "88310a1497237323",
   "execution_count": 2
  },
  {
   "cell_type": "code",
   "outputs": [
    {
     "data": {
      "text/plain": "  tourney_id tourney_name surface  draw_size tourney_level  tourney_date  \\\n0  2023-9900   United Cup    Hard         18             A      20230102   \n1  2023-9900   United Cup    Hard         18             A      20230102   \n2  2023-9900   United Cup    Hard         18             A      20230102   \n3  2023-9900   United Cup    Hard         18             A      20230102   \n4  2023-9900   United Cup    Hard         18             A      20230102   \n\n   match_num  winner_id  winner_seed winner_entry  ... l_1stIn l_1stWon  \\\n0        300     126203          3.0          NaN  ...    62.0     47.0   \n1        299     126207          NaN          NaN  ...    12.0      8.0   \n2        296     126203          3.0          NaN  ...    62.0     51.0   \n3        295     126207          NaN          NaN  ...    41.0     26.0   \n4        292     126774          1.0          NaN  ...    58.0     48.0   \n\n   l_2ndWon l_SvGms  l_bpSaved  l_bpFaced  winner_rank winner_rank_points  \\\n0      15.0    12.0        9.0        9.0          9.0             3355.0   \n1       3.0     4.0        1.0        3.0         19.0             2000.0   \n2       7.0    12.0        2.0        2.0          9.0             3355.0   \n3      12.0     9.0        6.0        9.0         19.0             2000.0   \n4      18.0    16.0        1.0        2.0          4.0             5550.0   \n\n  loser_rank loser_rank_points  \n0       16.0            2375.0  \n1       23.0            1865.0  \n2       10.0            2905.0  \n3      245.0             220.0  \n4       16.0            2375.0  \n\n[5 rows x 49 columns]",
      "text/html": "<div>\n<style scoped>\n    .dataframe tbody tr th:only-of-type {\n        vertical-align: middle;\n    }\n\n    .dataframe tbody tr th {\n        vertical-align: top;\n    }\n\n    .dataframe thead th {\n        text-align: right;\n    }\n</style>\n<table border=\"1\" class=\"dataframe\">\n  <thead>\n    <tr style=\"text-align: right;\">\n      <th></th>\n      <th>tourney_id</th>\n      <th>tourney_name</th>\n      <th>surface</th>\n      <th>draw_size</th>\n      <th>tourney_level</th>\n      <th>tourney_date</th>\n      <th>match_num</th>\n      <th>winner_id</th>\n      <th>winner_seed</th>\n      <th>winner_entry</th>\n      <th>...</th>\n      <th>l_1stIn</th>\n      <th>l_1stWon</th>\n      <th>l_2ndWon</th>\n      <th>l_SvGms</th>\n      <th>l_bpSaved</th>\n      <th>l_bpFaced</th>\n      <th>winner_rank</th>\n      <th>winner_rank_points</th>\n      <th>loser_rank</th>\n      <th>loser_rank_points</th>\n    </tr>\n  </thead>\n  <tbody>\n    <tr>\n      <th>0</th>\n      <td>2023-9900</td>\n      <td>United Cup</td>\n      <td>Hard</td>\n      <td>18</td>\n      <td>A</td>\n      <td>20230102</td>\n      <td>300</td>\n      <td>126203</td>\n      <td>3.0</td>\n      <td>NaN</td>\n      <td>...</td>\n      <td>62.0</td>\n      <td>47.0</td>\n      <td>15.0</td>\n      <td>12.0</td>\n      <td>9.0</td>\n      <td>9.0</td>\n      <td>9.0</td>\n      <td>3355.0</td>\n      <td>16.0</td>\n      <td>2375.0</td>\n    </tr>\n    <tr>\n      <th>1</th>\n      <td>2023-9900</td>\n      <td>United Cup</td>\n      <td>Hard</td>\n      <td>18</td>\n      <td>A</td>\n      <td>20230102</td>\n      <td>299</td>\n      <td>126207</td>\n      <td>NaN</td>\n      <td>NaN</td>\n      <td>...</td>\n      <td>12.0</td>\n      <td>8.0</td>\n      <td>3.0</td>\n      <td>4.0</td>\n      <td>1.0</td>\n      <td>3.0</td>\n      <td>19.0</td>\n      <td>2000.0</td>\n      <td>23.0</td>\n      <td>1865.0</td>\n    </tr>\n    <tr>\n      <th>2</th>\n      <td>2023-9900</td>\n      <td>United Cup</td>\n      <td>Hard</td>\n      <td>18</td>\n      <td>A</td>\n      <td>20230102</td>\n      <td>296</td>\n      <td>126203</td>\n      <td>3.0</td>\n      <td>NaN</td>\n      <td>...</td>\n      <td>62.0</td>\n      <td>51.0</td>\n      <td>7.0</td>\n      <td>12.0</td>\n      <td>2.0</td>\n      <td>2.0</td>\n      <td>9.0</td>\n      <td>3355.0</td>\n      <td>10.0</td>\n      <td>2905.0</td>\n    </tr>\n    <tr>\n      <th>3</th>\n      <td>2023-9900</td>\n      <td>United Cup</td>\n      <td>Hard</td>\n      <td>18</td>\n      <td>A</td>\n      <td>20230102</td>\n      <td>295</td>\n      <td>126207</td>\n      <td>NaN</td>\n      <td>NaN</td>\n      <td>...</td>\n      <td>41.0</td>\n      <td>26.0</td>\n      <td>12.0</td>\n      <td>9.0</td>\n      <td>6.0</td>\n      <td>9.0</td>\n      <td>19.0</td>\n      <td>2000.0</td>\n      <td>245.0</td>\n      <td>220.0</td>\n    </tr>\n    <tr>\n      <th>4</th>\n      <td>2023-9900</td>\n      <td>United Cup</td>\n      <td>Hard</td>\n      <td>18</td>\n      <td>A</td>\n      <td>20230102</td>\n      <td>292</td>\n      <td>126774</td>\n      <td>1.0</td>\n      <td>NaN</td>\n      <td>...</td>\n      <td>58.0</td>\n      <td>48.0</td>\n      <td>18.0</td>\n      <td>16.0</td>\n      <td>1.0</td>\n      <td>2.0</td>\n      <td>4.0</td>\n      <td>5550.0</td>\n      <td>16.0</td>\n      <td>2375.0</td>\n    </tr>\n  </tbody>\n</table>\n<p>5 rows × 49 columns</p>\n</div>"
     },
     "execution_count": 3,
     "metadata": {},
     "output_type": "execute_result"
    }
   ],
   "source": [
    "df.head()"
   ],
   "metadata": {
    "collapsed": false,
    "ExecuteTime": {
     "end_time": "2024-11-26T22:27:09.415118Z",
     "start_time": "2024-11-26T22:27:09.354101Z"
    }
   },
   "id": "ce00e6de96cfdd6b",
   "execution_count": 3
  },
  {
   "cell_type": "markdown",
   "source": [
    "## Puntos"
   ],
   "metadata": {
    "collapsed": false
   },
   "id": "9838739bf289d90e"
  },
  {
   "cell_type": "code",
   "outputs": [],
   "source": [
    "pbp = pd.read_csv('tennis_slam_pointbypoint-master/2023-wimbledon-points.csv')"
   ],
   "metadata": {
    "collapsed": false,
    "ExecuteTime": {
     "end_time": "2024-11-26T22:27:09.583827Z",
     "start_time": "2024-11-26T22:27:09.416117Z"
    }
   },
   "id": "13436bef39320c5b",
   "execution_count": 4
  },
  {
   "cell_type": "code",
   "outputs": [
    {
     "name": "stdout",
     "output_type": "stream",
     "text": [
      "Cantidad de partidos unicos: 254\n"
     ]
    }
   ],
   "source": [
    "print(f'Cantidad de partidos unicos: {len(pbp[\"match_id\"].unique())}')"
   ],
   "metadata": {
    "collapsed": false,
    "ExecuteTime": {
     "end_time": "2024-11-26T22:27:09.598831Z",
     "start_time": "2024-11-26T22:27:09.584827Z"
    }
   },
   "id": "2217dbc9e0fec209",
   "execution_count": 5
  },
  {
   "cell_type": "markdown",
   "source": [
    "## Rallies"
   ],
   "metadata": {
    "collapsed": false
   },
   "id": "958adc9e24b241ca"
  },
  {
   "cell_type": "code",
   "outputs": [],
   "source": [
    "charting = pd.read_csv('tennis_MatchChartingProject-master/charting-m-points-2020s.csv', encoding= 'latin1', low_memory=False)\n",
    "ptos_2010 = pd.read_csv('tennis_MatchChartingProject-master/charting-m-points-2010s.csv', encoding= 'latin1', low_memory=False)\n",
    "ptos_to_2009 = pd.read_csv('tennis_MatchChartingProject-master/charting-m-points-to-2009.csv', encoding= 'latin1', low_memory=False)"
   ],
   "metadata": {
    "collapsed": false,
    "ExecuteTime": {
     "end_time": "2024-11-26T22:27:11.853076Z",
     "start_time": "2024-11-26T22:27:09.599843Z"
    }
   },
   "id": "3fb35c41ac7beea9",
   "execution_count": 6
  },
  {
   "cell_type": "code",
   "outputs": [],
   "source": [
    "#append de dataframes with concat\n",
    "charting = pd.concat([charting, ptos_2010, ptos_to_2009])"
   ],
   "metadata": {
    "collapsed": false,
    "ExecuteTime": {
     "end_time": "2024-11-26T22:27:11.995091Z",
     "start_time": "2024-11-26T22:27:11.854076Z"
    }
   },
   "id": "a24f0479505b28b8",
   "execution_count": 7
  },
  {
   "cell_type": "code",
   "outputs": [
    {
     "data": {
      "text/plain": "4.033929229246487"
     },
     "execution_count": 8,
     "metadata": {},
     "output_type": "execute_result"
    }
   ],
   "source": [
    "charting['rallyCount'] = pd.to_numeric(charting['rallyCount'], errors='coerce')\n",
    "charting['rallyCount'].mean()"
   ],
   "metadata": {
    "collapsed": false,
    "ExecuteTime": {
     "end_time": "2024-11-26T22:27:12.260658Z",
     "start_time": "2024-11-26T22:27:11.996091Z"
    }
   },
   "id": "2f52e8ad208fef2c",
   "execution_count": 8
  },
  {
   "cell_type": "code",
   "outputs": [
    {
     "data": {
      "text/plain": "118"
     },
     "execution_count": 9,
     "metadata": {},
     "output_type": "execute_result"
    }
   ],
   "source": [
    "partidos = pd.Series(charting['match_id'].unique())\n",
    "jugador = 'Zverev'\n",
    "partidos.str.contains(jugador).sum()"
   ],
   "metadata": {
    "collapsed": false,
    "ExecuteTime": {
     "end_time": "2024-11-26T22:27:12.354497Z",
     "start_time": "2024-11-26T22:27:12.261630Z"
    }
   },
   "id": "f9bf79ed6c8f7235",
   "execution_count": 9
  },
  {
   "cell_type": "markdown",
   "source": [
    "# Data Cleaning\n",
    "\n",
    "Columnas con golpes por jugadores:"
   ],
   "metadata": {
    "collapsed": false
   },
   "id": "a4dfd26ce3a90c35"
  },
  {
   "cell_type": "markdown",
   "source": [
    "# Rally parsing"
   ],
   "metadata": {
    "collapsed": false
   },
   "id": "48dbe2964757ddb4"
  },
  {
   "cell_type": "markdown",
   "source": [
    "El parsing de los puntos se hizo con la informacion presente en el archivo: 'MatchChart 0.3.2.xlsm'. Se recomienda leer el archivo para entender el proceso de parsing."
   ],
   "metadata": {
    "collapsed": false
   },
   "id": "a5527d7618cff1b3"
  },
  {
   "cell_type": "code",
   "outputs": [],
   "source": [
    "# Quito informacion adicional que no aporta informacion relevante (tipos de golpes opcionales, errores, aproximaciones a la red, etc)\n",
    "# Ya hay demasiada informacion en el archivo como para tener en cuenta estos detalles\n",
    "charting['1st'] = charting['1st'].str.replace(r'[c\\-=\\+;\\^]', '', regex = True)\n",
    "charting['2nd'] = charting['2nd'].str.replace(r'[c\\-=\\+;\\^]', '', regex = True)"
   ],
   "metadata": {
    "collapsed": false,
    "ExecuteTime": {
     "end_time": "2024-11-26T22:27:13.033349Z",
     "start_time": "2024-11-26T22:27:12.356497Z"
    }
   },
   "id": "e7542b55f0ce298e",
   "execution_count": 10
  },
  {
   "cell_type": "markdown",
   "source": [
    "# Parsing de los puntos\n",
    "\n",
    "El objetivo es \"parsear\" los para dividir y contar los golpes de cada punto. Para ello, se utilizará una **expresiones regulares** que permita identificar los golpes de cada punto. \n",
    "*Información a cerca de cada tipo de golpe por los que se elegirá la expresión regular se puede encontrar en el diccionario de golpes: \"MatchChart\"*\n",
    " Las expresiones regulares funcionan como **\"escudo\" ante los errores de data entry**, ya que estos no son tenidos en cuenta en el parsing. Se vuelve un paso importante para la limpieza de datos, porque posiblemente haya varios errores en este sentido."
   ],
   "metadata": {
    "collapsed": false
   },
   "id": "cac6f896286c7d90"
  },
  {
   "cell_type": "code",
   "outputs": [],
   "source": [
    "import pandas as pd\n",
    "import re\n",
    "\n",
    "errores = r'[ndxwg!e+]' \n",
    "errores_saque = r'[nwdxg!eVc]'\n",
    "\n",
    "# Parsing function (customize as needed)\n",
    "def parse_sequence(sequence):\n",
    "    result = []\n",
    "    pos = 0  # Initialize position\n",
    "\n",
    "    # Saque\n",
    "    serve_pattern = rf'^([456]{errores_saque}?)'\n",
    "    match = re.match(serve_pattern, sequence)\n",
    "    if match:\n",
    "        serve = match.group(1)\n",
    "        result.append(serve)\n",
    "        pos = match.end()\n",
    "\n",
    "    # Devolucion\n",
    "    shot1_pattern = fr'([a-zA-Z]\\d[789]?{errores}?)'\n",
    "    match = re.match(shot1_pattern, sequence[pos:])\n",
    "    if match:\n",
    "        shot1 = match.group(1)\n",
    "        result.append(shot1)\n",
    "        pos += match.end()\n",
    "\n",
    "    # Post devolucion\n",
    "    shots_pattern = rf'([a-zA-Z]\\d{errores}?)'\n",
    "    shots_matches = re.finditer(shots_pattern, sequence[pos:])\n",
    "    for m in shots_matches:\n",
    "        result.append(m.group(1))\n",
    "    pos += m.end() if 'm' in locals() else 0\n",
    "\n",
    "    # final del punto\n",
    "    error = sequence[pos:]\n",
    "    if error:\n",
    "        result.append(error)\n",
    "\n",
    "    #count the number of shots\n",
    "    rallyCount = len(result) - 1\n",
    "\n",
    "    return f'{rallyCount}: ' + ' '.join(result)"
   ],
   "metadata": {
    "collapsed": false,
    "ExecuteTime": {
     "end_time": "2024-11-26T22:27:13.065290Z",
     "start_time": "2024-11-26T22:27:13.034348Z"
    }
   },
   "id": "2c6890747ad4c971",
   "execution_count": 11
  },
  {
   "cell_type": "code",
   "outputs": [],
   "source": [
    "# aplico la funcion a las columnas 1st y 2nd, que contiene la secuencia de golpes de cada punto\n",
    "charting['1st_test'] = charting['1st'].apply(parse_sequence)\n",
    "\n",
    "charting['2nd'] = charting['2nd'].astype(str)\n",
    "charting['2nd_test'] = charting['2nd'].apply(parse_sequence)"
   ],
   "metadata": {
    "collapsed": false,
    "ExecuteTime": {
     "end_time": "2024-11-26T22:27:20.598618Z",
     "start_time": "2024-11-26T22:27:13.066290Z"
    }
   },
   "id": "669534c4291e1c2d",
   "execution_count": 12
  },
  {
   "cell_type": "code",
   "outputs": [
    {
     "data": {
      "text/plain": "                                            match_id    1st_test  \\\n0  20230908-M-US_Open-SF-Novak_Djokovic_-Ben_Shelton  2: 6 f2n #   \n1  20230908-M-US_Open-SF-Novak_Djokovic_-Ben_Shelton       0: 4n   \n2  20230908-M-US_Open-SF-Novak_Djokovic_-Ben_Shelton       0: 4d   \n\n                       2nd_test  \n0                        0: nan  \n1  8: 6 b19 f1 b2 s1 f3 f2 j2 *  \n2              4: 4 b28 f2 o1 *  ",
      "text/html": "<div>\n<style scoped>\n    .dataframe tbody tr th:only-of-type {\n        vertical-align: middle;\n    }\n\n    .dataframe tbody tr th {\n        vertical-align: top;\n    }\n\n    .dataframe thead th {\n        text-align: right;\n    }\n</style>\n<table border=\"1\" class=\"dataframe\">\n  <thead>\n    <tr style=\"text-align: right;\">\n      <th></th>\n      <th>match_id</th>\n      <th>1st_test</th>\n      <th>2nd_test</th>\n    </tr>\n  </thead>\n  <tbody>\n    <tr>\n      <th>0</th>\n      <td>20230908-M-US_Open-SF-Novak_Djokovic_-Ben_Shelton</td>\n      <td>2: 6 f2n #</td>\n      <td>0: nan</td>\n    </tr>\n    <tr>\n      <th>1</th>\n      <td>20230908-M-US_Open-SF-Novak_Djokovic_-Ben_Shelton</td>\n      <td>0: 4n</td>\n      <td>8: 6 b19 f1 b2 s1 f3 f2 j2 *</td>\n    </tr>\n    <tr>\n      <th>2</th>\n      <td>20230908-M-US_Open-SF-Novak_Djokovic_-Ben_Shelton</td>\n      <td>0: 4d</td>\n      <td>4: 4 b28 f2 o1 *</td>\n    </tr>\n  </tbody>\n</table>\n</div>"
     },
     "execution_count": 13,
     "metadata": {},
     "output_type": "execute_result"
    }
   ],
   "source": [
    "charting[['match_id','1st_test', '2nd_test']].head(3)"
   ],
   "metadata": {
    "collapsed": false,
    "ExecuteTime": {
     "end_time": "2024-11-26T22:27:20.819256Z",
     "start_time": "2024-11-26T22:27:20.599224Z"
    }
   },
   "id": "85a22e4684e0b19a",
   "execution_count": 13
  },
  {
   "cell_type": "markdown",
   "source": [
    "### Verificacion de la cantidad de golpes\n",
    "A modo de verificacion, se comparará la cantidad de golpes obtenida mediante el parsing con la cantidad de golpes que se encuentra en la columna 'rallyCount'.\n",
    "De esta manera, corroboramos que la información no tenga errores, ni de parsing ni de data entry."
   ],
   "metadata": {
    "collapsed": false
   },
   "id": "eae24879f4aa620e"
  },
  {
   "cell_type": "code",
   "outputs": [],
   "source": [
    "def get_rally_count(row):\n",
    "    \n",
    "    \"\"\"Get the rally count of parsed shots\"\"\"\n",
    "    \n",
    "    if row['1stIn'] == 1:\n",
    "        if row['1st_test'][-1] != '*':\n",
    "            return int(row['1st_test'].split(':')[0]) - 1\n",
    "        else:\n",
    "            return int(row['1st_test'].split(':')[0])\n",
    "    else:\n",
    "        if row['2nd_test'][-1] != '*':\n",
    "            return int(row['2nd_test'].split(':')[0]) - 1\n",
    "        else:\n",
    "            return int(row['2nd_test'].split(':')[0])"
   ],
   "metadata": {
    "collapsed": false,
    "ExecuteTime": {
     "end_time": "2024-11-26T22:27:20.834591Z",
     "start_time": "2024-11-26T22:27:20.820256Z"
    }
   },
   "id": "ffbff22ce1262f89",
   "execution_count": 14
  },
  {
   "cell_type": "code",
   "outputs": [],
   "source": [
    "charting.loc[:, 'rallyCountVerification'] = charting.apply(get_rally_count, axis=1)\n",
    "charting.loc[:, 'rallyCountVerification'] = charting['rallyCountVerification'].apply(lambda x: x if x != -1 else 0)"
   ],
   "metadata": {
    "collapsed": false,
    "ExecuteTime": {
     "end_time": "2024-11-26T22:27:28.608259Z",
     "start_time": "2024-11-26T22:27:20.835592Z"
    }
   },
   "id": "3fca4cc043a5c604",
   "execution_count": 15
  },
  {
   "cell_type": "code",
   "outputs": [],
   "source": [
    "charting = charting.dropna(subset=['rallyCount'])  # Drop rows with NaN in 'rallyCount'\n",
    "charting[charting.columns[charting.columns.get_loc('rallyCount')]] = charting['rallyCount'].astype(int)"
   ],
   "metadata": {
    "collapsed": false,
    "ExecuteTime": {
     "end_time": "2024-11-26T22:27:28.839784Z",
     "start_time": "2024-11-26T22:27:28.608883Z"
    }
   },
   "id": "91c8e5214c5996be",
   "execution_count": 16
  },
  {
   "cell_type": "code",
   "outputs": [
    {
     "name": "stdout",
     "output_type": "stream",
     "text": [
      "Cantidad de valores diferentes: 68417\n"
     ]
    },
    {
     "data": {
      "text/plain": "        rallyCount 1st_test  1st              2nd_test           2nd  \\\n62779            1  1: 6 b#  6b#                0: nan           nan   \n147991           1     0: S    S                0: nan           nan   \n81633            5    0: 4d   4d  5: 4 b37 z1 f3 z2 z#  4b37z1f3z2z#   \n\n        rallyCountVerification  \n62779                        0  \n147991                       0  \n81633                        4  ",
      "text/html": "<div>\n<style scoped>\n    .dataframe tbody tr th:only-of-type {\n        vertical-align: middle;\n    }\n\n    .dataframe tbody tr th {\n        vertical-align: top;\n    }\n\n    .dataframe thead th {\n        text-align: right;\n    }\n</style>\n<table border=\"1\" class=\"dataframe\">\n  <thead>\n    <tr style=\"text-align: right;\">\n      <th></th>\n      <th>rallyCount</th>\n      <th>1st_test</th>\n      <th>1st</th>\n      <th>2nd_test</th>\n      <th>2nd</th>\n      <th>rallyCountVerification</th>\n    </tr>\n  </thead>\n  <tbody>\n    <tr>\n      <th>62779</th>\n      <td>1</td>\n      <td>1: 6 b#</td>\n      <td>6b#</td>\n      <td>0: nan</td>\n      <td>nan</td>\n      <td>0</td>\n    </tr>\n    <tr>\n      <th>147991</th>\n      <td>1</td>\n      <td>0: S</td>\n      <td>S</td>\n      <td>0: nan</td>\n      <td>nan</td>\n      <td>0</td>\n    </tr>\n    <tr>\n      <th>81633</th>\n      <td>5</td>\n      <td>0: 4d</td>\n      <td>4d</td>\n      <td>5: 4 b37 z1 f3 z2 z#</td>\n      <td>4b37z1f3z2z#</td>\n      <td>4</td>\n    </tr>\n  </tbody>\n</table>\n</div>"
     },
     "execution_count": 17,
     "metadata": {},
     "output_type": "execute_result"
    }
   ],
   "source": [
    "# De esta manera se puede ver cuantos valores son diferentes, comprobando que la diferencia se da por errores de data entry\n",
    "differences = charting[charting['rallyCountVerification'].ne(charting['rallyCount'])]\n",
    "print(f'Cantidad de valores diferentes: {differences.shape[0]}')\n",
    "\n",
    "differences[['rallyCount', '1st_test', '1st','2nd_test','2nd', 'rallyCountVerification']].sample(3)"
   ],
   "metadata": {
    "collapsed": false,
    "ExecuteTime": {
     "end_time": "2024-11-26T22:27:28.887639Z",
     "start_time": "2024-11-26T22:27:28.840759Z"
    }
   },
   "id": "cfa1cbb2d655ed0c",
   "execution_count": 17
  },
  {
   "cell_type": "markdown",
   "source": [
    "De esta manera eliminamos los errores de data entry"
   ],
   "metadata": {
    "collapsed": false
   },
   "id": "3927ce0aaa18b3e6"
  },
  {
   "cell_type": "markdown",
   "source": [
    "Finalmente, se procede a limpiar las columnas '1st_test' y '2nd_test' para que queden solo los golpes."
   ],
   "metadata": {
    "collapsed": false
   },
   "id": "eb4e86ceb78fb054"
  },
  {
   "cell_type": "code",
   "outputs": [],
   "source": [
    "charting.loc[:,'1st_test'] = charting['1st_test'].str.split(':').str[1]\n",
    "charting.loc[:,'2nd_test'] = charting['2nd_test'].str.split(':').str[1]"
   ],
   "metadata": {
    "collapsed": false,
    "ExecuteTime": {
     "end_time": "2024-11-26T22:27:31.271939Z",
     "start_time": "2024-11-26T22:27:28.888640Z"
    }
   },
   "id": "dc6766ce4c3f453b",
   "execution_count": 18
  },
  {
   "cell_type": "code",
   "outputs": [],
   "source": [
    "charting.loc[:, '1st_test'] = charting['1st_test'].str.strip()\n",
    "charting.loc[:, '2nd_test'] = charting['2nd_test'].str.strip()"
   ],
   "metadata": {
    "collapsed": false,
    "ExecuteTime": {
     "end_time": "2024-11-26T22:27:31.791002Z",
     "start_time": "2024-11-26T22:27:31.272940Z"
    }
   },
   "id": "2ac2fbaf146e1b18",
   "execution_count": 19
  },
  {
   "cell_type": "markdown",
   "source": [
    "## Golpes por jugador\n",
    "Para identificar los golpes de cada jugador, se procede a dividir la secuencia de golpes en dos. También se identifica el jugador que saca y el que recibe.\n",
    "Esta información esta presente en la columna 'match_id', pero no viene en un formato amigable."
   ],
   "metadata": {
    "collapsed": false
   },
   "id": "613a7f97d8104d73"
  },
  {
   "cell_type": "code",
   "outputs": [
    {
     "data": {
      "text/plain": "                                            match_id  Pt 1st_test  \\\n0  20230908-M-US_Open-SF-Novak_Djokovic_-Ben_Shelton   1  6 f2n #   \n1  20230908-M-US_Open-SF-Novak_Djokovic_-Ben_Shelton   2       4n   \n2  20230908-M-US_Open-SF-Novak_Djokovic_-Ben_Shelton   3       4d   \n\n                    2nd_test      Player_svr   Player_ret  \n0                        nan  Novak Djokovic  Ben Shelton  \n1  6 b19 f1 b2 s1 f3 f2 j2 *  Novak Djokovic  Ben Shelton  \n2              4 b28 f2 o1 *  Novak Djokovic  Ben Shelton  ",
      "text/html": "<div>\n<style scoped>\n    .dataframe tbody tr th:only-of-type {\n        vertical-align: middle;\n    }\n\n    .dataframe tbody tr th {\n        vertical-align: top;\n    }\n\n    .dataframe thead th {\n        text-align: right;\n    }\n</style>\n<table border=\"1\" class=\"dataframe\">\n  <thead>\n    <tr style=\"text-align: right;\">\n      <th></th>\n      <th>match_id</th>\n      <th>Pt</th>\n      <th>1st_test</th>\n      <th>2nd_test</th>\n      <th>Player_svr</th>\n      <th>Player_ret</th>\n    </tr>\n  </thead>\n  <tbody>\n    <tr>\n      <th>0</th>\n      <td>20230908-M-US_Open-SF-Novak_Djokovic_-Ben_Shelton</td>\n      <td>1</td>\n      <td>6 f2n #</td>\n      <td>nan</td>\n      <td>Novak Djokovic</td>\n      <td>Ben Shelton</td>\n    </tr>\n    <tr>\n      <th>1</th>\n      <td>20230908-M-US_Open-SF-Novak_Djokovic_-Ben_Shelton</td>\n      <td>2</td>\n      <td>4n</td>\n      <td>6 b19 f1 b2 s1 f3 f2 j2 *</td>\n      <td>Novak Djokovic</td>\n      <td>Ben Shelton</td>\n    </tr>\n    <tr>\n      <th>2</th>\n      <td>20230908-M-US_Open-SF-Novak_Djokovic_-Ben_Shelton</td>\n      <td>3</td>\n      <td>4d</td>\n      <td>4 b28 f2 o1 *</td>\n      <td>Novak Djokovic</td>\n      <td>Ben Shelton</td>\n    </tr>\n  </tbody>\n</table>\n</div>"
     },
     "execution_count": 20,
     "metadata": {},
     "output_type": "execute_result"
    }
   ],
   "source": [
    "point_by_player = charting[['match_id', 'Pt', '1st_test', '2nd_test']]\n",
    "split_data = point_by_player['match_id'].str.split('-').str[-2:]\n",
    "point_by_player[['Player_svr', 'Player_ret']] = pd.DataFrame(split_data.to_list(), index=point_by_player.index)\n",
    "point_by_player[['Player_svr', 'Player_ret']] = point_by_player[['Player_svr', 'Player_ret']].apply(lambda x: x.str.replace('_', ' '))\n",
    "#strip() para quitar espacios en blanco\n",
    "point_by_player[['Player_svr', 'Player_ret']] = point_by_player[['Player_svr', 'Player_ret']].apply(lambda x: x.str.strip()) \n",
    "point_by_player.head(3)"
   ],
   "metadata": {
    "collapsed": false,
    "ExecuteTime": {
     "end_time": "2024-11-26T22:27:35.345625Z",
     "start_time": "2024-11-26T22:27:31.792002Z"
    }
   },
   "id": "3a476dedaebb6c7",
   "execution_count": 20
  },
  {
   "cell_type": "code",
   "outputs": [],
   "source": [
    "def merge_last_two_strings(lst):\n",
    "    \n",
    "    \"\"\"Concatena los ultimos dos strings de una lista\"\"\"\n",
    "    \n",
    "    if len(lst) >= 2: # Solo si hay dos o mas elementos\n",
    "        # Concatena\n",
    "        merged_value = lst[-2] + lst[-1]\n",
    "        # Reemplaza los dos ultimos valores por el valor concatenado\n",
    "        return lst[:-2] + [merged_value]\n",
    "    else:\n",
    "        return lst"
   ],
   "metadata": {
    "collapsed": false,
    "ExecuteTime": {
     "end_time": "2024-11-26T22:27:35.361112Z",
     "start_time": "2024-11-26T22:27:35.346625Z"
    }
   },
   "id": "8b5d1f235611844c",
   "execution_count": 21
  },
  {
   "cell_type": "code",
   "outputs": [],
   "source": [
    "point_by_player['1st_test'] = point_by_player['1st_test'].str.split(\" \").apply(merge_last_two_strings)\n",
    "point_by_player['2nd_test'] = point_by_player['2nd_test'].str.split(\" \").apply(merge_last_two_strings)\n",
    "\n",
    "def split_by_index(lst):\n",
    "    \n",
    "    \"\"\"Divide una lista en dos, segun el indice del elemento. \n",
    "    De esta manera, se divide entre golpes del sacador y golpes del receptor.\"\"\"\n",
    "    \n",
    "    even_index_values = [lst[i] for i in range(len(lst)) if i % 2 == 0]  # Valores en indices pares\n",
    "    odd_index_values = [lst[i] for i in range(len(lst)) if i % 2 != 0]   # Valores en indices impares\n",
    "    return even_index_values, odd_index_values\n",
    "\n",
    "# Aplico la funcion y creo las columnas.\n",
    "point_by_player[['1st_player_svr', '1st_player_ret']] = pd.DataFrame(point_by_player['1st_test'].apply(split_by_index).tolist(), index=point_by_player.index)\n",
    "point_by_player[['2nd_player_svr', '2nd_player_ret']] = pd.DataFrame(point_by_player['2nd_test'].apply(split_by_index).tolist(), index=point_by_player.index)\n",
    "\n",
    "# Convierto las listas en strings\n",
    "point_by_player['1st_player_svr'] = point_by_player['1st_player_svr'].apply(lambda x: ' '.join(x))\n",
    "point_by_player['1st_player_ret'] = point_by_player['1st_player_ret'].apply(lambda x: ' '.join(x))\n",
    "point_by_player['2nd_player_svr'] = point_by_player['2nd_player_svr'].apply(lambda x: ' '.join(x))\n",
    "point_by_player['2nd_player_ret'] = point_by_player['2nd_player_ret'].apply(lambda x: ' '.join(x))"
   ],
   "metadata": {
    "collapsed": false,
    "ExecuteTime": {
     "end_time": "2024-11-26T22:27:46.533551Z",
     "start_time": "2024-11-26T22:27:35.362112Z"
    }
   },
   "id": "7314afc58bca7db0",
   "execution_count": 22
  },
  {
   "cell_type": "code",
   "outputs": [],
   "source": [
    "#merge on match_id and Pt\n",
    "point_by_player = point_by_player.drop(columns=['1st_test', '2nd_test'])\n",
    "charting = pd.merge(charting, point_by_player, on=['match_id', 'Pt'])"
   ],
   "metadata": {
    "collapsed": false,
    "ExecuteTime": {
     "end_time": "2024-11-26T22:27:47.793069Z",
     "start_time": "2024-11-26T22:27:46.534551Z"
    }
   },
   "id": "5abc85632766c84f",
   "execution_count": 23
  },
  {
   "cell_type": "code",
   "outputs": [],
   "source": [
    "def swap_columns(row):\n",
    "    \n",
    "    \"\"\"Intercambia las columnas de sacador y receptor, si el sacador es el jugador 2\"\"\"\n",
    "    \n",
    "    if row['Svr'] == 2:\n",
    "        row['Player_svr'], row['Player_ret'] = row['Player_ret'], row['Player_svr']\n",
    "    return row\n",
    "\n",
    "charting = charting.apply(swap_columns, axis=1)"
   ],
   "metadata": {
    "collapsed": false,
    "ExecuteTime": {
     "end_time": "2024-11-26T22:28:34.414109Z",
     "start_time": "2024-11-26T22:27:47.794069Z"
    }
   },
   "id": "71f3cbd0ab35222",
   "execution_count": 24
  },
  {
   "cell_type": "markdown",
   "source": [
    "# Filtro de datos: rallyCountVerification"
   ],
   "metadata": {
    "collapsed": false
   },
   "id": "1e5cf0f7780a0b40"
  },
  {
   "cell_type": "code",
   "outputs": [],
   "source": [
    "# Finalmente, se filtran los datos que no tienen errores en la columna 'rallyCountVerification'. Evitamos sobretodo los errores de data entry.\n",
    "charting_limpio = charting[charting['rallyCountVerification'].eq(charting['rallyCount'])]"
   ],
   "metadata": {
    "collapsed": false,
    "ExecuteTime": {
     "end_time": "2024-11-26T22:28:35.408445Z",
     "start_time": "2024-11-26T22:28:34.427112Z"
    }
   },
   "id": "dfa87d3c98ab47d4",
   "execution_count": 25
  },
  {
   "cell_type": "code",
   "outputs": [
    {
     "name": "stdout",
     "output_type": "stream",
     "text": [
      "(741257, 39)\n",
      "(810051, 39)\n"
     ]
    }
   ],
   "source": [
    "print(charting_limpio.shape)\n",
    "print(charting.shape)"
   ],
   "metadata": {
    "collapsed": false,
    "ExecuteTime": {
     "end_time": "2024-11-26T22:28:35.423856Z",
     "start_time": "2024-11-26T22:28:35.408956Z"
    }
   },
   "id": "8186eacd6966ff0",
   "execution_count": 26
  },
  {
   "cell_type": "markdown",
   "source": [
    "Vemos como el dataset que queda despues del procesamiento es considerablemente mas chico. Se eliminaron desde errores hasta detalles que no se consideran utiles para este trabajo."
   ],
   "metadata": {
    "collapsed": false
   },
   "id": "b7611d0b6380d6fb"
  },
  {
   "cell_type": "markdown",
   "source": [
    "# Guardado de datos\n",
    "Con las transformaciones realizadas, se procede a guardar los datos limpios. Estos datos serán utilizados en el análisis de los puntos y modelos de predicción.\n"
   ],
   "metadata": {
    "collapsed": false
   },
   "id": "828d63f8c9ad7fef"
  },
  {
   "cell_type": "code",
   "outputs": [],
   "source": [
    "#merge last two in 1st_test\n",
    "charting_limpio['1st_final'] = charting_limpio['1st_test'].str.split(\" \").apply(merge_last_two_strings)\n",
    "charting_limpio['1st_final'] = charting_limpio['1st_final'].apply(lambda x: ' '.join(x))\n",
    "\n",
    "charting_limpio['2nd_final'] = charting_limpio['2nd_test'].str.split(\" \").apply(merge_last_two_strings)\n",
    "charting_limpio['2nd_final'] = charting_limpio['2nd_final'].apply(lambda x: ' '.join(x))"
   ],
   "metadata": {
    "collapsed": false,
    "ExecuteTime": {
     "end_time": "2024-11-26T22:28:38.077203Z",
     "start_time": "2024-11-26T22:28:35.424857Z"
    }
   },
   "id": "364b07bfd11a959a",
   "execution_count": 27
  },
  {
   "cell_type": "code",
   "outputs": [
    {
     "data": {
      "text/plain": "                                            match_id         1st  \\\n0  20230908-M-US_Open-SF-Novak_Djokovic_-Ben_Shelton       6f2n#   \n1  20230908-M-US_Open-SF-Novak_Djokovic_-Ben_Shelton          4n   \n2  20230908-M-US_Open-SF-Novak_Djokovic_-Ben_Shelton          4d   \n3  20230908-M-US_Open-SF-Novak_Djokovic_-Ben_Shelton     6s28f3*   \n4  20230908-M-US_Open-SF-Novak_Djokovic_-Ben_Shelton     4b37b3*   \n5  20230908-M-US_Open-SF-Novak_Djokovic_-Ben_Shelton  6s29f3f1n@   \n6  20230908-M-US_Open-SF-Novak_Djokovic_-Ben_Shelton       4f3d#   \n7  20230908-M-US_Open-SF-Novak_Djokovic_-Ben_Shelton       6f2d#   \n8  20230908-M-US_Open-SF-Novak_Djokovic_-Ben_Shelton   5f2z1l2d#   \n9  20230908-M-US_Open-SF-Novak_Djokovic_-Ben_Shelton          5n   \n\n                 2nd      1st_final                 2nd_final  \n0                nan         6 f2n#                       nan  \n1  6b19f1b2s1f3f2j2*             4n  6 b19 f1 b2 s1 f3 f2 j2*  \n2          4b28f2o1*             4d              4 b28 f2 o1*  \n3                nan      6 s28 f3*                       nan  \n4                nan      4 b37 b3*                       nan  \n5                nan  6 s29 f3 f1n@                       nan  \n6                nan         4 f3d#                       nan  \n7                nan         6 f2d#                       nan  \n8                nan   5 f2 z1 l2d#                       nan  \n9             4b17w#             5n                   4 b17w#  ",
      "text/html": "<div>\n<style scoped>\n    .dataframe tbody tr th:only-of-type {\n        vertical-align: middle;\n    }\n\n    .dataframe tbody tr th {\n        vertical-align: top;\n    }\n\n    .dataframe thead th {\n        text-align: right;\n    }\n</style>\n<table border=\"1\" class=\"dataframe\">\n  <thead>\n    <tr style=\"text-align: right;\">\n      <th></th>\n      <th>match_id</th>\n      <th>1st</th>\n      <th>2nd</th>\n      <th>1st_final</th>\n      <th>2nd_final</th>\n    </tr>\n  </thead>\n  <tbody>\n    <tr>\n      <th>0</th>\n      <td>20230908-M-US_Open-SF-Novak_Djokovic_-Ben_Shelton</td>\n      <td>6f2n#</td>\n      <td>nan</td>\n      <td>6 f2n#</td>\n      <td>nan</td>\n    </tr>\n    <tr>\n      <th>1</th>\n      <td>20230908-M-US_Open-SF-Novak_Djokovic_-Ben_Shelton</td>\n      <td>4n</td>\n      <td>6b19f1b2s1f3f2j2*</td>\n      <td>4n</td>\n      <td>6 b19 f1 b2 s1 f3 f2 j2*</td>\n    </tr>\n    <tr>\n      <th>2</th>\n      <td>20230908-M-US_Open-SF-Novak_Djokovic_-Ben_Shelton</td>\n      <td>4d</td>\n      <td>4b28f2o1*</td>\n      <td>4d</td>\n      <td>4 b28 f2 o1*</td>\n    </tr>\n    <tr>\n      <th>3</th>\n      <td>20230908-M-US_Open-SF-Novak_Djokovic_-Ben_Shelton</td>\n      <td>6s28f3*</td>\n      <td>nan</td>\n      <td>6 s28 f3*</td>\n      <td>nan</td>\n    </tr>\n    <tr>\n      <th>4</th>\n      <td>20230908-M-US_Open-SF-Novak_Djokovic_-Ben_Shelton</td>\n      <td>4b37b3*</td>\n      <td>nan</td>\n      <td>4 b37 b3*</td>\n      <td>nan</td>\n    </tr>\n    <tr>\n      <th>5</th>\n      <td>20230908-M-US_Open-SF-Novak_Djokovic_-Ben_Shelton</td>\n      <td>6s29f3f1n@</td>\n      <td>nan</td>\n      <td>6 s29 f3 f1n@</td>\n      <td>nan</td>\n    </tr>\n    <tr>\n      <th>6</th>\n      <td>20230908-M-US_Open-SF-Novak_Djokovic_-Ben_Shelton</td>\n      <td>4f3d#</td>\n      <td>nan</td>\n      <td>4 f3d#</td>\n      <td>nan</td>\n    </tr>\n    <tr>\n      <th>7</th>\n      <td>20230908-M-US_Open-SF-Novak_Djokovic_-Ben_Shelton</td>\n      <td>6f2d#</td>\n      <td>nan</td>\n      <td>6 f2d#</td>\n      <td>nan</td>\n    </tr>\n    <tr>\n      <th>8</th>\n      <td>20230908-M-US_Open-SF-Novak_Djokovic_-Ben_Shelton</td>\n      <td>5f2z1l2d#</td>\n      <td>nan</td>\n      <td>5 f2 z1 l2d#</td>\n      <td>nan</td>\n    </tr>\n    <tr>\n      <th>9</th>\n      <td>20230908-M-US_Open-SF-Novak_Djokovic_-Ben_Shelton</td>\n      <td>5n</td>\n      <td>4b17w#</td>\n      <td>5n</td>\n      <td>4 b17w#</td>\n    </tr>\n  </tbody>\n</table>\n</div>"
     },
     "execution_count": 28,
     "metadata": {},
     "output_type": "execute_result"
    }
   ],
   "source": [
    "charting_limpio[['match_id', '1st', '2nd', '1st_final', '2nd_final']].head(10)"
   ],
   "metadata": {
    "collapsed": false,
    "ExecuteTime": {
     "end_time": "2024-11-26T22:28:38.456251Z",
     "start_time": "2024-11-26T22:28:38.080204Z"
    }
   },
   "id": "f4259765033924c4",
   "execution_count": 28
  },
  {
   "cell_type": "markdown",
   "source": [
    "Ademas de la reducción, la data de los rallies queda mejor procesada para su uso, divida por golpes, y siempre siguiendo el formato: \"Saque - Recepción - golpes de punto - terminación\""
   ],
   "metadata": {
    "collapsed": false
   },
   "id": "ed5b573918c4b0c1"
  },
  {
   "cell_type": "code",
   "outputs": [],
   "source": [
    "#charting_limpio.to_csv('data_output/charting_clean.csv', index=False)"
   ],
   "metadata": {
    "collapsed": false,
    "ExecuteTime": {
     "end_time": "2024-11-26T22:28:38.471810Z",
     "start_time": "2024-11-26T22:28:38.457252Z"
    }
   },
   "id": "21600388a720d31f",
   "execution_count": 29
  }
 ],
 "metadata": {
  "kernelspec": {
   "display_name": "Python 3",
   "language": "python",
   "name": "python3"
  },
  "language_info": {
   "codemirror_mode": {
    "name": "ipython",
    "version": 2
   },
   "file_extension": ".py",
   "mimetype": "text/x-python",
   "name": "python",
   "nbconvert_exporter": "python",
   "pygments_lexer": "ipython2",
   "version": "2.7.6"
  }
 },
 "nbformat": 4,
 "nbformat_minor": 5
}
