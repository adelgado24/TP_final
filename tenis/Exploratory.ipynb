{
 "cells": [
  {
   "cell_type": "code",
   "execution_count": 1,
   "id": "initial_id",
   "metadata": {
    "collapsed": true,
    "ExecuteTime": {
     "end_time": "2024-11-21T13:05:33.929509Z",
     "start_time": "2024-11-21T13:05:32.873604Z"
    }
   },
   "outputs": [],
   "source": [
    "import pandas as pd\n",
    "import numpy as np\n",
    "import matplotlib.pyplot as plt\n",
    "import seaborn as sns\n",
    "from sklearn.model_selection import train_test_split\n",
    "import chardet\n",
    "import re\n",
    "import warnings"
   ]
  },
  {
   "cell_type": "markdown",
   "source": [
    "# Carga de datos"
   ],
   "metadata": {
    "collapsed": false
   },
   "id": "54ddf66345741899"
  },
  {
   "cell_type": "code",
   "outputs": [],
   "source": [
    "df = pd.read_csv('data_output/charting_clean.csv', low_memory=False)"
   ],
   "metadata": {
    "collapsed": false,
    "ExecuteTime": {
     "end_time": "2024-11-21T13:05:38.460436Z",
     "start_time": "2024-11-21T13:05:33.932511Z"
    }
   },
   "id": "92f5d6b47891b8e5",
   "execution_count": 2
  },
  {
   "cell_type": "code",
   "outputs": [
    {
     "name": "stdout",
     "output_type": "stream",
     "text": [
      "Filas y columnas: (741257, 41)\n"
     ]
    },
    {
     "data": {
      "text/plain": "                                            match_id  Pt  Set1  Set2  Gm1  \\\n0  20230908-M-US_Open-SF-Novak_Djokovic_-Ben_Shelton   1     0     0  0.0   \n1  20230908-M-US_Open-SF-Novak_Djokovic_-Ben_Shelton   2     0     0  0.0   \n2  20230908-M-US_Open-SF-Novak_Djokovic_-Ben_Shelton   3     0     0  0.0   \n3  20230908-M-US_Open-SF-Novak_Djokovic_-Ben_Shelton   4     0     0  0.0   \n4  20230908-M-US_Open-SF-Novak_Djokovic_-Ben_Shelton   5     0     0  0.0   \n\n   Gm2    Pts    Gm# TbSet TB?  ...                   2nd_test  \\\n0  0.0    0-0  1 (1)     1   0  ...                        NaN   \n1  0.0   15-0  1 (2)     1   0  ...  6 b19 f1 b2 s1 f3 f2 j2 *   \n2  0.0  15-15  1 (3)     1   0  ...              4 b28 f2 o1 *   \n3  0.0  15-30  1 (4)     1   0  ...                        NaN   \n4  0.0  30-30  1 (5)     1   0  ...                        NaN   \n\n   rallyCountVerification      Player_svr   Player_ret 1st_player_svr  \\\n0                       1  Novak Djokovic  Ben Shelton              6   \n1                       8  Novak Djokovic  Ben Shelton             4n   \n2                       4  Novak Djokovic  Ben Shelton             4d   \n3                       3  Novak Djokovic  Ben Shelton          6 f3*   \n4                       3  Novak Djokovic  Ben Shelton          4 b3*   \n\n  1st_player_ret 2nd_player_svr  2nd_player_ret  1st_final  \\\n0           f2n#            NaN             NaN     6 f2n#   \n1            NaN     6 f1 s1 f2   b19 b2 f3 j2*         4n   \n2            NaN           4 f2         b28 o1*         4d   \n3            s28            NaN             NaN  6 s28 f3*   \n4            b37            NaN             NaN  4 b37 b3*   \n\n                  2nd_final  \n0                       NaN  \n1  6 b19 f1 b2 s1 f3 f2 j2*  \n2              4 b28 f2 o1*  \n3                       NaN  \n4                       NaN  \n\n[5 rows x 41 columns]",
      "text/html": "<div>\n<style scoped>\n    .dataframe tbody tr th:only-of-type {\n        vertical-align: middle;\n    }\n\n    .dataframe tbody tr th {\n        vertical-align: top;\n    }\n\n    .dataframe thead th {\n        text-align: right;\n    }\n</style>\n<table border=\"1\" class=\"dataframe\">\n  <thead>\n    <tr style=\"text-align: right;\">\n      <th></th>\n      <th>match_id</th>\n      <th>Pt</th>\n      <th>Set1</th>\n      <th>Set2</th>\n      <th>Gm1</th>\n      <th>Gm2</th>\n      <th>Pts</th>\n      <th>Gm#</th>\n      <th>TbSet</th>\n      <th>TB?</th>\n      <th>...</th>\n      <th>2nd_test</th>\n      <th>rallyCountVerification</th>\n      <th>Player_svr</th>\n      <th>Player_ret</th>\n      <th>1st_player_svr</th>\n      <th>1st_player_ret</th>\n      <th>2nd_player_svr</th>\n      <th>2nd_player_ret</th>\n      <th>1st_final</th>\n      <th>2nd_final</th>\n    </tr>\n  </thead>\n  <tbody>\n    <tr>\n      <th>0</th>\n      <td>20230908-M-US_Open-SF-Novak_Djokovic_-Ben_Shelton</td>\n      <td>1</td>\n      <td>0</td>\n      <td>0</td>\n      <td>0.0</td>\n      <td>0.0</td>\n      <td>0-0</td>\n      <td>1 (1)</td>\n      <td>1</td>\n      <td>0</td>\n      <td>...</td>\n      <td>NaN</td>\n      <td>1</td>\n      <td>Novak Djokovic</td>\n      <td>Ben Shelton</td>\n      <td>6</td>\n      <td>f2n#</td>\n      <td>NaN</td>\n      <td>NaN</td>\n      <td>6 f2n#</td>\n      <td>NaN</td>\n    </tr>\n    <tr>\n      <th>1</th>\n      <td>20230908-M-US_Open-SF-Novak_Djokovic_-Ben_Shelton</td>\n      <td>2</td>\n      <td>0</td>\n      <td>0</td>\n      <td>0.0</td>\n      <td>0.0</td>\n      <td>15-0</td>\n      <td>1 (2)</td>\n      <td>1</td>\n      <td>0</td>\n      <td>...</td>\n      <td>6 b19 f1 b2 s1 f3 f2 j2 *</td>\n      <td>8</td>\n      <td>Novak Djokovic</td>\n      <td>Ben Shelton</td>\n      <td>4n</td>\n      <td>NaN</td>\n      <td>6 f1 s1 f2</td>\n      <td>b19 b2 f3 j2*</td>\n      <td>4n</td>\n      <td>6 b19 f1 b2 s1 f3 f2 j2*</td>\n    </tr>\n    <tr>\n      <th>2</th>\n      <td>20230908-M-US_Open-SF-Novak_Djokovic_-Ben_Shelton</td>\n      <td>3</td>\n      <td>0</td>\n      <td>0</td>\n      <td>0.0</td>\n      <td>0.0</td>\n      <td>15-15</td>\n      <td>1 (3)</td>\n      <td>1</td>\n      <td>0</td>\n      <td>...</td>\n      <td>4 b28 f2 o1 *</td>\n      <td>4</td>\n      <td>Novak Djokovic</td>\n      <td>Ben Shelton</td>\n      <td>4d</td>\n      <td>NaN</td>\n      <td>4 f2</td>\n      <td>b28 o1*</td>\n      <td>4d</td>\n      <td>4 b28 f2 o1*</td>\n    </tr>\n    <tr>\n      <th>3</th>\n      <td>20230908-M-US_Open-SF-Novak_Djokovic_-Ben_Shelton</td>\n      <td>4</td>\n      <td>0</td>\n      <td>0</td>\n      <td>0.0</td>\n      <td>0.0</td>\n      <td>15-30</td>\n      <td>1 (4)</td>\n      <td>1</td>\n      <td>0</td>\n      <td>...</td>\n      <td>NaN</td>\n      <td>3</td>\n      <td>Novak Djokovic</td>\n      <td>Ben Shelton</td>\n      <td>6 f3*</td>\n      <td>s28</td>\n      <td>NaN</td>\n      <td>NaN</td>\n      <td>6 s28 f3*</td>\n      <td>NaN</td>\n    </tr>\n    <tr>\n      <th>4</th>\n      <td>20230908-M-US_Open-SF-Novak_Djokovic_-Ben_Shelton</td>\n      <td>5</td>\n      <td>0</td>\n      <td>0</td>\n      <td>0.0</td>\n      <td>0.0</td>\n      <td>30-30</td>\n      <td>1 (5)</td>\n      <td>1</td>\n      <td>0</td>\n      <td>...</td>\n      <td>NaN</td>\n      <td>3</td>\n      <td>Novak Djokovic</td>\n      <td>Ben Shelton</td>\n      <td>4 b3*</td>\n      <td>b37</td>\n      <td>NaN</td>\n      <td>NaN</td>\n      <td>4 b37 b3*</td>\n      <td>NaN</td>\n    </tr>\n  </tbody>\n</table>\n<p>5 rows × 41 columns</p>\n</div>"
     },
     "execution_count": 3,
     "metadata": {},
     "output_type": "execute_result"
    }
   ],
   "source": [
    "print(f'Filas y columnas: {df.shape}')\n",
    "df.head()"
   ],
   "metadata": {
    "collapsed": false,
    "ExecuteTime": {
     "end_time": "2024-11-21T13:05:38.522258Z",
     "start_time": "2024-11-21T13:05:38.461438Z"
    }
   },
   "id": "4448411ec4419af1",
   "execution_count": 3
  },
  {
   "cell_type": "code",
   "outputs": [],
   "source": [
    "def get_matches_from_player(player,df):\n",
    "    partidos = pd.Series(df['match_id'].unique())\n",
    "    print(partidos.str.contains(player).sum())"
   ],
   "metadata": {
    "collapsed": false,
    "ExecuteTime": {
     "end_time": "2024-11-21T13:05:38.537095Z",
     "start_time": "2024-11-21T13:05:38.523260Z"
    }
   },
   "id": "c03a5a0f8b1e7f24",
   "execution_count": 4
  },
  {
   "cell_type": "markdown",
   "source": [
    "# Contar tipos de golpes por jugador"
   ],
   "metadata": {
    "collapsed": false
   },
   "id": "a92a3f7142728299"
  },
  {
   "cell_type": "code",
   "outputs": [],
   "source": [
    "test = df.copy()\n",
    "\n",
    "test = test[['Player_svr', '1st_player_svr', '2nd_player_svr']] \n",
    "\n",
    "test['1st_player_svr'] = test['1st_player_svr'].str.split(' ')\n",
    "\n",
    "#explode both columns\n",
    "exploded = test.explode('1st_player_svr')\n",
    "\n",
    "test2= exploded.groupby('Player_svr')['1st_player_svr'].value_counts(normalize=True).reset_index(name='count')"
   ],
   "metadata": {
    "collapsed": false,
    "ExecuteTime": {
     "end_time": "2024-11-21T13:05:40.575610Z",
     "start_time": "2024-11-21T13:05:38.537671Z"
    }
   },
   "id": "56d319e23a7780b5",
   "execution_count": 5
  },
  {
   "cell_type": "code",
   "outputs": [],
   "source": [
    "exploded_no_serve = exploded[~exploded['1st_player_svr'].str.contains('6|4|5')]\n",
    "\n",
    "test3= exploded_no_serve.groupby('Player_svr')['1st_player_svr'].value_counts(normalize=True).reset_index(name='count')"
   ],
   "metadata": {
    "collapsed": false,
    "ExecuteTime": {
     "end_time": "2024-11-21T13:05:41.380474Z",
     "start_time": "2024-11-21T13:05:40.576611Z"
    }
   },
   "id": "38d373f0ffefc6e3",
   "execution_count": 6
  },
  {
   "cell_type": "code",
   "outputs": [],
   "source": [
    "jugadores_con_mas_cinco_partidos = df.groupby('Player_svr')['match_id'].nunique().reset_index().query('match_id > 5')"
   ],
   "metadata": {
    "collapsed": false,
    "ExecuteTime": {
     "end_time": "2024-11-21T13:05:41.565486Z",
     "start_time": "2024-11-21T13:05:41.381475Z"
    }
   },
   "id": "d805b66113dfed93",
   "execution_count": 7
  },
  {
   "cell_type": "code",
   "outputs": [
    {
     "data": {
      "text/plain": "         Player_svr 1st_player_svr     count\n51697  Rafael Nadal             f3  0.167801\n51698  Rafael Nadal              4  0.112064\n51699  Rafael Nadal              6  0.098068\n51700  Rafael Nadal             f1  0.080778\n51701  Rafael Nadal              5  0.060583\n...             ...            ...       ...\n52077  Rafael Nadal           z18*  0.000016\n52078  Rafael Nadal          z18w#  0.000016\n52079  Rafael Nadal           z2d#  0.000016\n52080  Rafael Nadal          z37w#  0.000016\n52081  Rafael Nadal           z3d#  0.000016\n\n[385 rows x 3 columns]",
      "text/html": "<div>\n<style scoped>\n    .dataframe tbody tr th:only-of-type {\n        vertical-align: middle;\n    }\n\n    .dataframe tbody tr th {\n        vertical-align: top;\n    }\n\n    .dataframe thead th {\n        text-align: right;\n    }\n</style>\n<table border=\"1\" class=\"dataframe\">\n  <thead>\n    <tr style=\"text-align: right;\">\n      <th></th>\n      <th>Player_svr</th>\n      <th>1st_player_svr</th>\n      <th>count</th>\n    </tr>\n  </thead>\n  <tbody>\n    <tr>\n      <th>51697</th>\n      <td>Rafael Nadal</td>\n      <td>f3</td>\n      <td>0.167801</td>\n    </tr>\n    <tr>\n      <th>51698</th>\n      <td>Rafael Nadal</td>\n      <td>4</td>\n      <td>0.112064</td>\n    </tr>\n    <tr>\n      <th>51699</th>\n      <td>Rafael Nadal</td>\n      <td>6</td>\n      <td>0.098068</td>\n    </tr>\n    <tr>\n      <th>51700</th>\n      <td>Rafael Nadal</td>\n      <td>f1</td>\n      <td>0.080778</td>\n    </tr>\n    <tr>\n      <th>51701</th>\n      <td>Rafael Nadal</td>\n      <td>5</td>\n      <td>0.060583</td>\n    </tr>\n    <tr>\n      <th>...</th>\n      <td>...</td>\n      <td>...</td>\n      <td>...</td>\n    </tr>\n    <tr>\n      <th>52077</th>\n      <td>Rafael Nadal</td>\n      <td>z18*</td>\n      <td>0.000016</td>\n    </tr>\n    <tr>\n      <th>52078</th>\n      <td>Rafael Nadal</td>\n      <td>z18w#</td>\n      <td>0.000016</td>\n    </tr>\n    <tr>\n      <th>52079</th>\n      <td>Rafael Nadal</td>\n      <td>z2d#</td>\n      <td>0.000016</td>\n    </tr>\n    <tr>\n      <th>52080</th>\n      <td>Rafael Nadal</td>\n      <td>z37w#</td>\n      <td>0.000016</td>\n    </tr>\n    <tr>\n      <th>52081</th>\n      <td>Rafael Nadal</td>\n      <td>z3d#</td>\n      <td>0.000016</td>\n    </tr>\n  </tbody>\n</table>\n<p>385 rows × 3 columns</p>\n</div>"
     },
     "execution_count": 8,
     "metadata": {},
     "output_type": "execute_result"
    }
   ],
   "source": [
    "# Filtrar los jugadores que tengan más de 5 partidos en test2\n",
    "test2 = test2[test2['Player_svr'].isin(jugadores_con_mas_cinco_partidos['Player_svr'])]\n",
    "test2[test2['Player_svr']  == 'Rafael Nadal']"
   ],
   "metadata": {
    "collapsed": false,
    "ExecuteTime": {
     "end_time": "2024-11-21T13:05:41.596850Z",
     "start_time": "2024-11-21T13:05:41.566487Z"
    }
   },
   "id": "3e79b1317cdd6948",
   "execution_count": 8
  },
  {
   "cell_type": "code",
   "outputs": [
    {
     "data": {
      "text/plain": "         Player_svr 1st_player_svr     count\n42892  Rafael Nadal             f3  0.290376\n42893  Rafael Nadal             f1  0.139785\n42894  Rafael Nadal             b1  0.097258\n42895  Rafael Nadal             f2  0.082231\n42896  Rafael Nadal             b2  0.069274\n...             ...            ...       ...\n43246  Rafael Nadal           z18*  0.000027\n43247  Rafael Nadal          z18w#  0.000027\n43248  Rafael Nadal           z2d#  0.000027\n43249  Rafael Nadal          z37w#  0.000027\n43250  Rafael Nadal           z3d#  0.000027\n\n[359 rows x 3 columns]",
      "text/html": "<div>\n<style scoped>\n    .dataframe tbody tr th:only-of-type {\n        vertical-align: middle;\n    }\n\n    .dataframe tbody tr th {\n        vertical-align: top;\n    }\n\n    .dataframe thead th {\n        text-align: right;\n    }\n</style>\n<table border=\"1\" class=\"dataframe\">\n  <thead>\n    <tr style=\"text-align: right;\">\n      <th></th>\n      <th>Player_svr</th>\n      <th>1st_player_svr</th>\n      <th>count</th>\n    </tr>\n  </thead>\n  <tbody>\n    <tr>\n      <th>42892</th>\n      <td>Rafael Nadal</td>\n      <td>f3</td>\n      <td>0.290376</td>\n    </tr>\n    <tr>\n      <th>42893</th>\n      <td>Rafael Nadal</td>\n      <td>f1</td>\n      <td>0.139785</td>\n    </tr>\n    <tr>\n      <th>42894</th>\n      <td>Rafael Nadal</td>\n      <td>b1</td>\n      <td>0.097258</td>\n    </tr>\n    <tr>\n      <th>42895</th>\n      <td>Rafael Nadal</td>\n      <td>f2</td>\n      <td>0.082231</td>\n    </tr>\n    <tr>\n      <th>42896</th>\n      <td>Rafael Nadal</td>\n      <td>b2</td>\n      <td>0.069274</td>\n    </tr>\n    <tr>\n      <th>...</th>\n      <td>...</td>\n      <td>...</td>\n      <td>...</td>\n    </tr>\n    <tr>\n      <th>43246</th>\n      <td>Rafael Nadal</td>\n      <td>z18*</td>\n      <td>0.000027</td>\n    </tr>\n    <tr>\n      <th>43247</th>\n      <td>Rafael Nadal</td>\n      <td>z18w#</td>\n      <td>0.000027</td>\n    </tr>\n    <tr>\n      <th>43248</th>\n      <td>Rafael Nadal</td>\n      <td>z2d#</td>\n      <td>0.000027</td>\n    </tr>\n    <tr>\n      <th>43249</th>\n      <td>Rafael Nadal</td>\n      <td>z37w#</td>\n      <td>0.000027</td>\n    </tr>\n    <tr>\n      <th>43250</th>\n      <td>Rafael Nadal</td>\n      <td>z3d#</td>\n      <td>0.000027</td>\n    </tr>\n  </tbody>\n</table>\n<p>359 rows × 3 columns</p>\n</div>"
     },
     "execution_count": 9,
     "metadata": {},
     "output_type": "execute_result"
    }
   ],
   "source": [
    "test3[test3['Player_svr']  == 'Rafael Nadal']"
   ],
   "metadata": {
    "collapsed": false,
    "ExecuteTime": {
     "end_time": "2024-11-21T13:05:41.612905Z",
     "start_time": "2024-11-21T13:05:41.597796Z"
    }
   },
   "id": "ec517677e744024a",
   "execution_count": 9
  },
  {
   "cell_type": "markdown",
   "source": [
    "# Analisis de golpes por jugador\n",
    "* Por saques\n",
    "* Por devoluciones\n",
    "* Por golpes de punto\n",
    "* Por winners\n",
    "* Por errores"
   ],
   "metadata": {
    "collapsed": false
   },
   "id": "c152aa0670039046"
  },
  {
   "cell_type": "code",
   "outputs": [],
   "source": [
    "# df con\n",
    "golpes = df[['Player_svr', '1st_player_svr', '2nd_player_svr']].copy()\n",
    "\n",
    "# Now, modify the columns safely\n",
    "golpes['1st_player_svr'] = golpes['1st_player_svr'].str.split(' ')\n",
    "golpes_primer_pto = golpes.explode('1st_player_svr')"
   ],
   "metadata": {
    "collapsed": false,
    "ExecuteTime": {
     "end_time": "2024-11-21T13:05:42.884022Z",
     "start_time": "2024-11-21T13:05:41.613906Z"
    }
   },
   "id": "4f4fdd5b0af69ab",
   "execution_count": 10
  },
  {
   "cell_type": "code",
   "outputs": [],
   "source": [
    "golpes['2nd_player_svr'] = golpes['2nd_player_svr'].str.split(' ')\n",
    "golpes_segundo_pto = golpes.explode('2nd_player_svr')"
   ],
   "metadata": {
    "collapsed": false,
    "ExecuteTime": {
     "end_time": "2024-11-21T13:05:43.797223Z",
     "start_time": "2024-11-21T13:05:42.886023Z"
    }
   },
   "id": "c2d32d8b5e3d3ade",
   "execution_count": 11
  },
  {
   "cell_type": "markdown",
   "source": [
    "## Saques"
   ],
   "metadata": {
    "collapsed": false
   },
   "id": "e3056590e6c34c8"
  },
  {
   "cell_type": "code",
   "outputs": [],
   "source": [
    "saques_continuados = golpes_primer_pto[golpes_primer_pto['1st_player_svr'].isin(['6', '4', '5'])]\n",
    "\n",
    "saques_continuados_2do = golpes_segundo_pto[golpes_segundo_pto['2nd_player_svr'].isin(['6', '4', '5'])]\n",
    "\n",
    "\n",
    "saques_errores = golpes_primer_pto[(golpes_primer_pto['1st_player_svr'].str.contains('6|5|4')) & (golpes_primer_pto['1st_player_svr'].str.len() == 2) & (~golpes_primer_pto['1st_player_svr'].str.contains(r'\\*'))]\n",
    "golpes_segundo_pto['2nd_player_svr'] = golpes_segundo_pto['2nd_player_svr'].fillna('')\n",
    "\n",
    "saques_errores_2do = golpes_segundo_pto[\n",
    "    (golpes_segundo_pto['2nd_player_svr'].str.contains('6|5|4')) &\n",
    "    (golpes_segundo_pto['2nd_player_svr'].str.len() == 2) &\n",
    "    (~golpes_segundo_pto['2nd_player_svr'].str.contains(r'\\*'))\n",
    "]\n",
    "\n",
    "\n",
    "aces = golpes_primer_pto[(golpes_primer_pto['1st_player_svr'].str.contains('6|5|4')) & (golpes_primer_pto['1st_player_svr'].str.len() == 2) & (golpes_primer_pto['1st_player_svr'].str.contains(r'\\*'))]\n",
    "\n",
    "aces_2do = golpes_segundo_pto[(golpes_segundo_pto['2nd_player_svr'].str.contains('6|5|4')) & (golpes_segundo_pto['2nd_player_svr'].str.len() == 2) & (golpes_segundo_pto['2nd_player_svr'].str.contains(r'\\*'))]"
   ],
   "metadata": {
    "collapsed": false,
    "ExecuteTime": {
     "end_time": "2024-11-21T13:05:48.917890Z",
     "start_time": "2024-11-21T13:05:43.797925Z"
    }
   },
   "id": "449172006987ad5a",
   "execution_count": 12
  },
  {
   "cell_type": "code",
   "outputs": [],
   "source": [
    "saques_continuados_v = saques_continuados.groupby('Player_svr')['1st_player_svr'].value_counts(normalize=True).reset_index(name='count')\n",
    "\n",
    "saques_final_v = saques_errores.groupby('Player_svr')['1st_player_svr'].value_counts(normalize=True).reset_index(name='count')\n",
    "\n",
    "aces_v = aces.groupby('Player_svr')['1st_player_svr'].value_counts(normalize=True).reset_index(name='count')"
   ],
   "metadata": {
    "collapsed": false,
    "ExecuteTime": {
     "end_time": "2024-11-21T13:05:49.090819Z",
     "start_time": "2024-11-21T13:05:48.918814Z"
    }
   },
   "id": "88cfacffdb83f7e6",
   "execution_count": 13
  },
  {
   "cell_type": "code",
   "outputs": [
    {
     "name": "stdout",
     "output_type": "stream",
     "text": [
      "5\n"
     ]
    }
   ],
   "source": [
    "get_matches_from_player('Gaston_Gaudio', df)"
   ],
   "metadata": {
    "collapsed": false,
    "ExecuteTime": {
     "end_time": "2024-11-21T13:05:49.186485Z",
     "start_time": "2024-11-21T13:05:49.091820Z"
    }
   },
   "id": "a87927fd17c8538a",
   "execution_count": 14
  },
  {
   "cell_type": "markdown",
   "source": [
    "# RNN"
   ],
   "metadata": {
    "collapsed": false
   },
   "id": "14f532591f580d03"
  },
  {
   "cell_type": "code",
   "outputs": [],
   "source": [
    "import tensorflow as tf\n",
    "from tensorflow import keras\n",
    "from tensorflow.keras import layers\n",
    "from tensorflow.keras import Sequential\n",
    "from tensorflow.keras.layers import Dense, LSTM, Dropout"
   ],
   "metadata": {
    "collapsed": false,
    "ExecuteTime": {
     "end_time": "2024-11-21T13:05:57.418574Z",
     "start_time": "2024-11-21T13:05:49.187485Z"
    }
   },
   "id": "eae80e809a036d03",
   "execution_count": 15
  },
  {
   "cell_type": "code",
   "outputs": [
    {
     "data": {
      "text/plain": "\"df['all_sequences'] = df[['1st_player_svr', '1st_player_ret', '2nd_player_svr', '2nd_player_ret']].apply(lambda x: ' '.join([str(i) for i in x if pd.notna(i)]), axis=1)\\n\\n# Explosión de la columna de secuencias por jugador para formar una secuencia continua de golpes\\ndf_exploded = df[['Player_svr', 'all_sequences']].explode('all_sequences')\""
     },
     "execution_count": 16,
     "metadata": {},
     "output_type": "execute_result"
    }
   ],
   "source": [
    "\"\"\"df['all_sequences'] = df[['1st_player_svr', '1st_player_ret', '2nd_player_svr', '2nd_player_ret']].apply(lambda x: ' '.join([str(i) for i in x if pd.notna(i)]), axis=1)\n",
    "\n",
    "# Explosión de la columna de secuencias por jugador para formar una secuencia continua de golpes\n",
    "df_exploded = df[['Player_svr', 'all_sequences']].explode('all_sequences')\"\"\""
   ],
   "metadata": {
    "collapsed": false,
    "ExecuteTime": {
     "end_time": "2024-11-21T13:05:57.433557Z",
     "start_time": "2024-11-21T13:05:57.419552Z"
    }
   },
   "id": "b2b5cdd3a15126bb",
   "execution_count": 16
  },
  {
   "cell_type": "code",
   "outputs": [
    {
     "data": {
      "text/plain": "\"df[['Player_svr', 'Player_ret', '1st_player_svr', '1st_player_ret', '2nd_player_svr', '2nd_player_ret', 'all_sequences']].head()\""
     },
     "execution_count": 17,
     "metadata": {},
     "output_type": "execute_result"
    }
   ],
   "source": [
    "\"\"\"df[['Player_svr', 'Player_ret', '1st_player_svr', '1st_player_ret', '2nd_player_svr', '2nd_player_ret', 'all_sequences']].head()\"\"\""
   ],
   "metadata": {
    "collapsed": false,
    "ExecuteTime": {
     "end_time": "2024-11-21T13:05:57.448841Z",
     "start_time": "2024-11-21T13:05:57.434557Z"
    }
   },
   "id": "fb9867fce9e38c3a",
   "execution_count": 17
  },
  {
   "cell_type": "code",
   "outputs": [
    {
     "data": {
      "text/plain": "                                            match_id  Pt  Set1  Set2  Gm1  \\\n0  20230908-M-US_Open-SF-Novak_Djokovic_-Ben_Shelton   1     0     0  0.0   \n1  20230908-M-US_Open-SF-Novak_Djokovic_-Ben_Shelton   2     0     0  0.0   \n2  20230908-M-US_Open-SF-Novak_Djokovic_-Ben_Shelton   3     0     0  0.0   \n3  20230908-M-US_Open-SF-Novak_Djokovic_-Ben_Shelton   4     0     0  0.0   \n4  20230908-M-US_Open-SF-Novak_Djokovic_-Ben_Shelton   5     0     0  0.0   \n\n   Gm2    Pts    Gm# TbSet TB?  ...                   2nd_test  \\\n0  0.0    0-0  1 (1)     1   0  ...                        NaN   \n1  0.0   15-0  1 (2)     1   0  ...  6 b19 f1 b2 s1 f3 f2 j2 *   \n2  0.0  15-15  1 (3)     1   0  ...              4 b28 f2 o1 *   \n3  0.0  15-30  1 (4)     1   0  ...                        NaN   \n4  0.0  30-30  1 (5)     1   0  ...                        NaN   \n\n   rallyCountVerification      Player_svr   Player_ret 1st_player_svr  \\\n0                       1  Novak Djokovic  Ben Shelton              6   \n1                       8  Novak Djokovic  Ben Shelton             4n   \n2                       4  Novak Djokovic  Ben Shelton             4d   \n3                       3  Novak Djokovic  Ben Shelton          6 f3*   \n4                       3  Novak Djokovic  Ben Shelton          4 b3*   \n\n  1st_player_ret 2nd_player_svr  2nd_player_ret  1st_final  \\\n0           f2n#            NaN             NaN     6 f2n#   \n1            NaN     6 f1 s1 f2   b19 b2 f3 j2*         4n   \n2            NaN           4 f2         b28 o1*         4d   \n3            s28            NaN             NaN  6 s28 f3*   \n4            b37            NaN             NaN  4 b37 b3*   \n\n                  2nd_final  \n0                       NaN  \n1  6 b19 f1 b2 s1 f3 f2 j2*  \n2              4 b28 f2 o1*  \n3                       NaN  \n4                       NaN  \n\n[5 rows x 41 columns]",
      "text/html": "<div>\n<style scoped>\n    .dataframe tbody tr th:only-of-type {\n        vertical-align: middle;\n    }\n\n    .dataframe tbody tr th {\n        vertical-align: top;\n    }\n\n    .dataframe thead th {\n        text-align: right;\n    }\n</style>\n<table border=\"1\" class=\"dataframe\">\n  <thead>\n    <tr style=\"text-align: right;\">\n      <th></th>\n      <th>match_id</th>\n      <th>Pt</th>\n      <th>Set1</th>\n      <th>Set2</th>\n      <th>Gm1</th>\n      <th>Gm2</th>\n      <th>Pts</th>\n      <th>Gm#</th>\n      <th>TbSet</th>\n      <th>TB?</th>\n      <th>...</th>\n      <th>2nd_test</th>\n      <th>rallyCountVerification</th>\n      <th>Player_svr</th>\n      <th>Player_ret</th>\n      <th>1st_player_svr</th>\n      <th>1st_player_ret</th>\n      <th>2nd_player_svr</th>\n      <th>2nd_player_ret</th>\n      <th>1st_final</th>\n      <th>2nd_final</th>\n    </tr>\n  </thead>\n  <tbody>\n    <tr>\n      <th>0</th>\n      <td>20230908-M-US_Open-SF-Novak_Djokovic_-Ben_Shelton</td>\n      <td>1</td>\n      <td>0</td>\n      <td>0</td>\n      <td>0.0</td>\n      <td>0.0</td>\n      <td>0-0</td>\n      <td>1 (1)</td>\n      <td>1</td>\n      <td>0</td>\n      <td>...</td>\n      <td>NaN</td>\n      <td>1</td>\n      <td>Novak Djokovic</td>\n      <td>Ben Shelton</td>\n      <td>6</td>\n      <td>f2n#</td>\n      <td>NaN</td>\n      <td>NaN</td>\n      <td>6 f2n#</td>\n      <td>NaN</td>\n    </tr>\n    <tr>\n      <th>1</th>\n      <td>20230908-M-US_Open-SF-Novak_Djokovic_-Ben_Shelton</td>\n      <td>2</td>\n      <td>0</td>\n      <td>0</td>\n      <td>0.0</td>\n      <td>0.0</td>\n      <td>15-0</td>\n      <td>1 (2)</td>\n      <td>1</td>\n      <td>0</td>\n      <td>...</td>\n      <td>6 b19 f1 b2 s1 f3 f2 j2 *</td>\n      <td>8</td>\n      <td>Novak Djokovic</td>\n      <td>Ben Shelton</td>\n      <td>4n</td>\n      <td>NaN</td>\n      <td>6 f1 s1 f2</td>\n      <td>b19 b2 f3 j2*</td>\n      <td>4n</td>\n      <td>6 b19 f1 b2 s1 f3 f2 j2*</td>\n    </tr>\n    <tr>\n      <th>2</th>\n      <td>20230908-M-US_Open-SF-Novak_Djokovic_-Ben_Shelton</td>\n      <td>3</td>\n      <td>0</td>\n      <td>0</td>\n      <td>0.0</td>\n      <td>0.0</td>\n      <td>15-15</td>\n      <td>1 (3)</td>\n      <td>1</td>\n      <td>0</td>\n      <td>...</td>\n      <td>4 b28 f2 o1 *</td>\n      <td>4</td>\n      <td>Novak Djokovic</td>\n      <td>Ben Shelton</td>\n      <td>4d</td>\n      <td>NaN</td>\n      <td>4 f2</td>\n      <td>b28 o1*</td>\n      <td>4d</td>\n      <td>4 b28 f2 o1*</td>\n    </tr>\n    <tr>\n      <th>3</th>\n      <td>20230908-M-US_Open-SF-Novak_Djokovic_-Ben_Shelton</td>\n      <td>4</td>\n      <td>0</td>\n      <td>0</td>\n      <td>0.0</td>\n      <td>0.0</td>\n      <td>15-30</td>\n      <td>1 (4)</td>\n      <td>1</td>\n      <td>0</td>\n      <td>...</td>\n      <td>NaN</td>\n      <td>3</td>\n      <td>Novak Djokovic</td>\n      <td>Ben Shelton</td>\n      <td>6 f3*</td>\n      <td>s28</td>\n      <td>NaN</td>\n      <td>NaN</td>\n      <td>6 s28 f3*</td>\n      <td>NaN</td>\n    </tr>\n    <tr>\n      <th>4</th>\n      <td>20230908-M-US_Open-SF-Novak_Djokovic_-Ben_Shelton</td>\n      <td>5</td>\n      <td>0</td>\n      <td>0</td>\n      <td>0.0</td>\n      <td>0.0</td>\n      <td>30-30</td>\n      <td>1 (5)</td>\n      <td>1</td>\n      <td>0</td>\n      <td>...</td>\n      <td>NaN</td>\n      <td>3</td>\n      <td>Novak Djokovic</td>\n      <td>Ben Shelton</td>\n      <td>4 b3*</td>\n      <td>b37</td>\n      <td>NaN</td>\n      <td>NaN</td>\n      <td>4 b37 b3*</td>\n      <td>NaN</td>\n    </tr>\n  </tbody>\n</table>\n<p>5 rows × 41 columns</p>\n</div>"
     },
     "execution_count": 20,
     "metadata": {},
     "output_type": "execute_result"
    }
   ],
   "source": [
    "df.head()"
   ],
   "metadata": {
    "collapsed": false,
    "ExecuteTime": {
     "end_time": "2024-11-21T13:06:44.951936Z",
     "start_time": "2024-11-21T13:06:44.937940Z"
    }
   },
   "id": "944c66f60fc06e34",
   "execution_count": 20
  },
  {
   "cell_type": "code",
   "outputs": [],
   "source": [
    "# Inicializar listas para almacenar datos procesados\n",
    "players = []\n",
    "sequences = []\n",
    "\n",
    "# Iterar sobre cada fila del DataFrame original para dividir los golpes por jugador\n",
    "for _, row in df.iterrows():\n",
    "    # Servidor y receptor en el primer punto\n",
    "    if pd.notna(row['1st_player_svr']):\n",
    "        players.append(row['Player_svr'])\n",
    "        sequences.append(row['1st_player_svr'])\n",
    "    if pd.notna(row['1st_player_ret']):\n",
    "        players.append(row['Player_ret'])\n",
    "        sequences.append(row['1st_player_ret'])\n",
    "    \n",
    "    # Servidor y receptor en el segundo punto (si existen)\n",
    "    if pd.notna(row['2nd_player_svr']):\n",
    "        players.append(row['Player_svr'])\n",
    "        sequences.append(row['2nd_player_svr'])\n",
    "    if pd.notna(row['2nd_player_ret']):\n",
    "        players.append(row['Player_ret'])\n",
    "        sequences.append(row['2nd_player_ret'])\n",
    "\n",
    "# Crear un nuevo DataFrame con los jugadores y sus respectivos golpes\n",
    "df_exploded = pd.DataFrame({'Player': players, 'Sequence': sequences})"
   ],
   "metadata": {
    "collapsed": false,
    "ExecuteTime": {
     "end_time": "2024-11-21T13:06:44.920620Z",
     "start_time": "2024-11-21T13:06:06.425733Z"
    }
   },
   "id": "f24019eba046e5ee",
   "execution_count": 18
  },
  {
   "cell_type": "code",
   "outputs": [
    {
     "data": {
      "text/plain": "           Player       Sequence  \\\n0  Novak Djokovic              6   \n1     Ben Shelton           f2n#   \n2  Novak Djokovic             4n   \n3  Novak Djokovic     6 f1 s1 f2   \n4     Ben Shelton  b19 b2 f3 j2*   \n\n                                            match_id  Pt  Set1  Set2  Gm1  \\\n0  20230908-M-US_Open-SF-Novak_Djokovic_-Ben_Shelton   1     0     0  0.0   \n1  20230908-M-US_Open-SF-Novak_Djokovic_-Ben_Shelton   1     0     0  0.0   \n2  20230908-M-US_Open-SF-Novak_Djokovic_-Ben_Shelton   2     0     0  0.0   \n3  20230908-M-US_Open-SF-Novak_Djokovic_-Ben_Shelton   2     0     0  0.0   \n4  20230908-M-US_Open-SF-Novak_Djokovic_-Ben_Shelton   2     0     0  0.0   \n\n   Gm2   Pts  \n0  0.0   0-0  \n1  0.0   0-0  \n2  0.0  15-0  \n3  0.0  15-0  \n4  0.0  15-0  ",
      "text/html": "<div>\n<style scoped>\n    .dataframe tbody tr th:only-of-type {\n        vertical-align: middle;\n    }\n\n    .dataframe tbody tr th {\n        vertical-align: top;\n    }\n\n    .dataframe thead th {\n        text-align: right;\n    }\n</style>\n<table border=\"1\" class=\"dataframe\">\n  <thead>\n    <tr style=\"text-align: right;\">\n      <th></th>\n      <th>Player</th>\n      <th>Sequence</th>\n      <th>match_id</th>\n      <th>Pt</th>\n      <th>Set1</th>\n      <th>Set2</th>\n      <th>Gm1</th>\n      <th>Gm2</th>\n      <th>Pts</th>\n    </tr>\n  </thead>\n  <tbody>\n    <tr>\n      <th>0</th>\n      <td>Novak Djokovic</td>\n      <td>6</td>\n      <td>20230908-M-US_Open-SF-Novak_Djokovic_-Ben_Shelton</td>\n      <td>1</td>\n      <td>0</td>\n      <td>0</td>\n      <td>0.0</td>\n      <td>0.0</td>\n      <td>0-0</td>\n    </tr>\n    <tr>\n      <th>1</th>\n      <td>Ben Shelton</td>\n      <td>f2n#</td>\n      <td>20230908-M-US_Open-SF-Novak_Djokovic_-Ben_Shelton</td>\n      <td>1</td>\n      <td>0</td>\n      <td>0</td>\n      <td>0.0</td>\n      <td>0.0</td>\n      <td>0-0</td>\n    </tr>\n    <tr>\n      <th>2</th>\n      <td>Novak Djokovic</td>\n      <td>4n</td>\n      <td>20230908-M-US_Open-SF-Novak_Djokovic_-Ben_Shelton</td>\n      <td>2</td>\n      <td>0</td>\n      <td>0</td>\n      <td>0.0</td>\n      <td>0.0</td>\n      <td>15-0</td>\n    </tr>\n    <tr>\n      <th>3</th>\n      <td>Novak Djokovic</td>\n      <td>6 f1 s1 f2</td>\n      <td>20230908-M-US_Open-SF-Novak_Djokovic_-Ben_Shelton</td>\n      <td>2</td>\n      <td>0</td>\n      <td>0</td>\n      <td>0.0</td>\n      <td>0.0</td>\n      <td>15-0</td>\n    </tr>\n    <tr>\n      <th>4</th>\n      <td>Ben Shelton</td>\n      <td>b19 b2 f3 j2*</td>\n      <td>20230908-M-US_Open-SF-Novak_Djokovic_-Ben_Shelton</td>\n      <td>2</td>\n      <td>0</td>\n      <td>0</td>\n      <td>0.0</td>\n      <td>0.0</td>\n      <td>15-0</td>\n    </tr>\n  </tbody>\n</table>\n</div>"
     },
     "execution_count": 28,
     "metadata": {},
     "output_type": "execute_result"
    }
   ],
   "source": [
    "# Inicializar listas para almacenar datos procesados\n",
    "players = []\n",
    "sequences = []\n",
    "match_ids = []\n",
    "pts = []\n",
    "set1_list = []\n",
    "set2_list = []\n",
    "gm1_list = []\n",
    "gm2_list = []\n",
    "pts_list = []  # Nueva lista para almacenar los puntajes (Pts)\n",
    "\n",
    "# Iterar sobre cada fila del DataFrame original para dividir los golpes por jugador\n",
    "for _, row in df.iterrows():\n",
    "    # Servidor y receptor en el primer punto\n",
    "    if pd.notna(row['1st_player_svr']):\n",
    "        players.append(row['Player_svr'])\n",
    "        sequences.append(row['1st_player_svr'])\n",
    "        # Agregar datos adicionales\n",
    "        match_ids.append(row['match_id'])\n",
    "        pts.append(row['Pt'])\n",
    "        set1_list.append(row['Set1'])\n",
    "        set2_list.append(row['Set2'])\n",
    "        gm1_list.append(row['Gm1'])\n",
    "        gm2_list.append(row['Gm2'])\n",
    "        pts_list.append(row['Pts'])  # Agregar puntaje\n",
    "\n",
    "    if pd.notna(row['1st_player_ret']):\n",
    "        players.append(row['Player_ret'])\n",
    "        sequences.append(row['1st_player_ret'])\n",
    "        # Agregar datos adicionales\n",
    "        match_ids.append(row['match_id'])\n",
    "        pts.append(row['Pt'])\n",
    "        set1_list.append(row['Set1'])\n",
    "        set2_list.append(row['Set2'])\n",
    "        gm1_list.append(row['Gm1'])\n",
    "        gm2_list.append(row['Gm2'])\n",
    "        pts_list.append(row['Pts'])  # Agregar puntaje\n",
    "\n",
    "    # Servidor y receptor en el segundo punto (si existen)\n",
    "    if pd.notna(row['2nd_player_svr']):\n",
    "        players.append(row['Player_svr'])\n",
    "        sequences.append(row['2nd_player_svr'])\n",
    "        # Agregar datos adicionales\n",
    "        match_ids.append(row['match_id'])\n",
    "        pts.append(row['Pt'])\n",
    "        set1_list.append(row['Set1'])\n",
    "        set2_list.append(row['Set2'])\n",
    "        gm1_list.append(row['Gm1'])\n",
    "        gm2_list.append(row['Gm2'])\n",
    "        pts_list.append(row['Pts'])  # Agregar puntaje\n",
    "\n",
    "    if pd.notna(row['2nd_player_ret']):\n",
    "        players.append(row['Player_ret'])\n",
    "        sequences.append(row['2nd_player_ret'])\n",
    "        # Agregar datos adicionales\n",
    "        match_ids.append(row['match_id'])\n",
    "        pts.append(row['Pt'])\n",
    "        set1_list.append(row['Set1'])\n",
    "        set2_list.append(row['Set2'])\n",
    "        gm1_list.append(row['Gm1'])\n",
    "        gm2_list.append(row['Gm2'])\n",
    "        pts_list.append(row['Pts'])  # Agregar puntaje\n",
    "\n",
    "# Crear un nuevo DataFrame con los jugadores, secuencias y datos adicionales\n",
    "df_exploded = pd.DataFrame({\n",
    "    'Player': players,\n",
    "    'Sequence': sequences,\n",
    "    'match_id': match_ids,\n",
    "    'Pt': pts,\n",
    "    'Set1': set1_list,\n",
    "    'Set2': set2_list,\n",
    "    'Gm1': gm1_list,\n",
    "    'Gm2': gm2_list,\n",
    "    'Pts': pts_list  # Añadir la columna de puntaje\n",
    "})\n",
    "\n",
    "# Mostrar las primeras filas del DataFrame resultante\n",
    "df_exploded.head()\n"
   ],
   "metadata": {
    "collapsed": false,
    "ExecuteTime": {
     "end_time": "2024-11-21T13:17:31.913694Z",
     "start_time": "2024-11-21T13:16:30.486920Z"
    }
   },
   "id": "fddac35e6950afa3",
   "execution_count": 28
  },
  {
   "cell_type": "code",
   "outputs": [
    {
     "data": {
      "text/plain": "                     Player       Sequence  \\\n0            Novak Djokovic              6   \n1               Ben Shelton           f2n#   \n2            Novak Djokovic             4n   \n3            Novak Djokovic     6 f1 s1 f2   \n4               Ben Shelton  b19 b2 f3 j2*   \n...                     ...            ...   \n1679045  Nicola Pietrangeli            s38   \n1679046          Luis Ayala         4 i3n#   \n1679047  Nicola Pietrangeli            f27   \n1679048          Luis Ayala         4 s3d#   \n1679049  Nicola Pietrangeli            s27   \n\n                                                  match_id   Pt  Set1  Set2  \\\n0        20230908-M-US_Open-SF-Novak_Djokovic_-Ben_Shelton    1     0     0   \n1        20230908-M-US_Open-SF-Novak_Djokovic_-Ben_Shelton    1     0     0   \n2        20230908-M-US_Open-SF-Novak_Djokovic_-Ben_Shelton    2     0     0   \n3        20230908-M-US_Open-SF-Novak_Djokovic_-Ben_Shelton    2     0     0   \n4        20230908-M-US_Open-SF-Novak_Djokovic_-Ben_Shelton    2     0     0   \n...                                                    ...  ...   ...   ...   \n1679045  19600529-M-Roland_Garros-F-Nicola_Pietrangeli-...  173     1     1   \n1679046  19600529-M-Roland_Garros-F-Nicola_Pietrangeli-...  174     1     1   \n1679047  19600529-M-Roland_Garros-F-Nicola_Pietrangeli-...  174     1     1   \n1679048  19600529-M-Roland_Garros-F-Nicola_Pietrangeli-...  175     1     1   \n1679049  19600529-M-Roland_Garros-F-Nicola_Pietrangeli-...  175     1     1   \n\n         Gm1  Gm2    Pts  \n0        0.0  0.0    0-0  \n1        0.0  0.0    0-0  \n2        0.0  0.0   15-0  \n3        0.0  0.0   15-0  \n4        0.0  0.0   15-0  \n...      ...  ...    ...  \n1679045  5.0  4.0  40-AD  \n1679046  5.0  4.0  40-40  \n1679047  5.0  4.0  40-40  \n1679048  5.0  4.0  40-AD  \n1679049  5.0  4.0  40-AD  \n\n[1679050 rows x 9 columns]",
      "text/html": "<div>\n<style scoped>\n    .dataframe tbody tr th:only-of-type {\n        vertical-align: middle;\n    }\n\n    .dataframe tbody tr th {\n        vertical-align: top;\n    }\n\n    .dataframe thead th {\n        text-align: right;\n    }\n</style>\n<table border=\"1\" class=\"dataframe\">\n  <thead>\n    <tr style=\"text-align: right;\">\n      <th></th>\n      <th>Player</th>\n      <th>Sequence</th>\n      <th>match_id</th>\n      <th>Pt</th>\n      <th>Set1</th>\n      <th>Set2</th>\n      <th>Gm1</th>\n      <th>Gm2</th>\n      <th>Pts</th>\n    </tr>\n  </thead>\n  <tbody>\n    <tr>\n      <th>0</th>\n      <td>Novak Djokovic</td>\n      <td>6</td>\n      <td>20230908-M-US_Open-SF-Novak_Djokovic_-Ben_Shelton</td>\n      <td>1</td>\n      <td>0</td>\n      <td>0</td>\n      <td>0.0</td>\n      <td>0.0</td>\n      <td>0-0</td>\n    </tr>\n    <tr>\n      <th>1</th>\n      <td>Ben Shelton</td>\n      <td>f2n#</td>\n      <td>20230908-M-US_Open-SF-Novak_Djokovic_-Ben_Shelton</td>\n      <td>1</td>\n      <td>0</td>\n      <td>0</td>\n      <td>0.0</td>\n      <td>0.0</td>\n      <td>0-0</td>\n    </tr>\n    <tr>\n      <th>2</th>\n      <td>Novak Djokovic</td>\n      <td>4n</td>\n      <td>20230908-M-US_Open-SF-Novak_Djokovic_-Ben_Shelton</td>\n      <td>2</td>\n      <td>0</td>\n      <td>0</td>\n      <td>0.0</td>\n      <td>0.0</td>\n      <td>15-0</td>\n    </tr>\n    <tr>\n      <th>3</th>\n      <td>Novak Djokovic</td>\n      <td>6 f1 s1 f2</td>\n      <td>20230908-M-US_Open-SF-Novak_Djokovic_-Ben_Shelton</td>\n      <td>2</td>\n      <td>0</td>\n      <td>0</td>\n      <td>0.0</td>\n      <td>0.0</td>\n      <td>15-0</td>\n    </tr>\n    <tr>\n      <th>4</th>\n      <td>Ben Shelton</td>\n      <td>b19 b2 f3 j2*</td>\n      <td>20230908-M-US_Open-SF-Novak_Djokovic_-Ben_Shelton</td>\n      <td>2</td>\n      <td>0</td>\n      <td>0</td>\n      <td>0.0</td>\n      <td>0.0</td>\n      <td>15-0</td>\n    </tr>\n    <tr>\n      <th>...</th>\n      <td>...</td>\n      <td>...</td>\n      <td>...</td>\n      <td>...</td>\n      <td>...</td>\n      <td>...</td>\n      <td>...</td>\n      <td>...</td>\n      <td>...</td>\n    </tr>\n    <tr>\n      <th>1679045</th>\n      <td>Nicola Pietrangeli</td>\n      <td>s38</td>\n      <td>19600529-M-Roland_Garros-F-Nicola_Pietrangeli-...</td>\n      <td>173</td>\n      <td>1</td>\n      <td>1</td>\n      <td>5.0</td>\n      <td>4.0</td>\n      <td>40-AD</td>\n    </tr>\n    <tr>\n      <th>1679046</th>\n      <td>Luis Ayala</td>\n      <td>4 i3n#</td>\n      <td>19600529-M-Roland_Garros-F-Nicola_Pietrangeli-...</td>\n      <td>174</td>\n      <td>1</td>\n      <td>1</td>\n      <td>5.0</td>\n      <td>4.0</td>\n      <td>40-40</td>\n    </tr>\n    <tr>\n      <th>1679047</th>\n      <td>Nicola Pietrangeli</td>\n      <td>f27</td>\n      <td>19600529-M-Roland_Garros-F-Nicola_Pietrangeli-...</td>\n      <td>174</td>\n      <td>1</td>\n      <td>1</td>\n      <td>5.0</td>\n      <td>4.0</td>\n      <td>40-40</td>\n    </tr>\n    <tr>\n      <th>1679048</th>\n      <td>Luis Ayala</td>\n      <td>4 s3d#</td>\n      <td>19600529-M-Roland_Garros-F-Nicola_Pietrangeli-...</td>\n      <td>175</td>\n      <td>1</td>\n      <td>1</td>\n      <td>5.0</td>\n      <td>4.0</td>\n      <td>40-AD</td>\n    </tr>\n    <tr>\n      <th>1679049</th>\n      <td>Nicola Pietrangeli</td>\n      <td>s27</td>\n      <td>19600529-M-Roland_Garros-F-Nicola_Pietrangeli-...</td>\n      <td>175</td>\n      <td>1</td>\n      <td>1</td>\n      <td>5.0</td>\n      <td>4.0</td>\n      <td>40-AD</td>\n    </tr>\n  </tbody>\n</table>\n<p>1679050 rows × 9 columns</p>\n</div>"
     },
     "execution_count": 29,
     "metadata": {},
     "output_type": "execute_result"
    }
   ],
   "source": [
    "df_exploded"
   ],
   "metadata": {
    "collapsed": false,
    "ExecuteTime": {
     "end_time": "2024-11-21T13:17:34.196347Z",
     "start_time": "2024-11-21T13:17:34.185345Z"
    }
   },
   "id": "446e546701a7d83e",
   "execution_count": 29
  },
  {
   "cell_type": "code",
   "outputs": [],
   "source": [
    "df_exploded_full = df_exploded.copy()\n",
    "\n",
    "df_exploded_full.to_csv('data_output/df_exploded_full.csv', index=False)"
   ],
   "metadata": {
    "collapsed": false,
    "ExecuteTime": {
     "end_time": "2024-11-21T13:17:42.950493Z",
     "start_time": "2024-11-21T13:17:36.979713Z"
    }
   },
   "id": "56a4f594c3af2da2",
   "execution_count": 30
  },
  {
   "cell_type": "markdown",
   "source": [
    "## Con embedding"
   ],
   "metadata": {
    "collapsed": false
   },
   "id": "5da358f648602d93"
  },
  {
   "cell_type": "markdown",
   "source": [
    "De esta manera obtenemos en dos filas la informacion de cada rally y el jugador que lo ejecuta."
   ],
   "metadata": {
    "collapsed": false
   },
   "id": "2fce0faf078b45a1"
  },
  {
   "cell_type": "code",
   "outputs": [
    {
     "name": "stdout",
     "output_type": "stream",
     "text": [
      "(1679050, 2)\n"
     ]
    },
    {
     "data": {
      "text/plain": "           Player       Sequence\n0  Novak Djokovic              6\n1     Ben Shelton           f2n#\n2  Novak Djokovic             4n\n3  Novak Djokovic     6 f1 s1 f2\n4     Ben Shelton  b19 b2 f3 j2*",
      "text/html": "<div>\n<style scoped>\n    .dataframe tbody tr th:only-of-type {\n        vertical-align: middle;\n    }\n\n    .dataframe tbody tr th {\n        vertical-align: top;\n    }\n\n    .dataframe thead th {\n        text-align: right;\n    }\n</style>\n<table border=\"1\" class=\"dataframe\">\n  <thead>\n    <tr style=\"text-align: right;\">\n      <th></th>\n      <th>Player</th>\n      <th>Sequence</th>\n    </tr>\n  </thead>\n  <tbody>\n    <tr>\n      <th>0</th>\n      <td>Novak Djokovic</td>\n      <td>6</td>\n    </tr>\n    <tr>\n      <th>1</th>\n      <td>Ben Shelton</td>\n      <td>f2n#</td>\n    </tr>\n    <tr>\n      <th>2</th>\n      <td>Novak Djokovic</td>\n      <td>4n</td>\n    </tr>\n    <tr>\n      <th>3</th>\n      <td>Novak Djokovic</td>\n      <td>6 f1 s1 f2</td>\n    </tr>\n    <tr>\n      <th>4</th>\n      <td>Ben Shelton</td>\n      <td>b19 b2 f3 j2*</td>\n    </tr>\n  </tbody>\n</table>\n</div>"
     },
     "execution_count": 121,
     "metadata": {},
     "output_type": "execute_result"
    }
   ],
   "source": [
    "print(df_exploded.shape)\n",
    "df_exploded.head()"
   ],
   "metadata": {
    "collapsed": false,
    "ExecuteTime": {
     "end_time": "2024-11-19T22:17:16.022680Z",
     "start_time": "2024-11-19T22:17:16.007667Z"
    }
   },
   "id": "22631358729664b8",
   "execution_count": 121
  },
  {
   "cell_type": "code",
   "outputs": [],
   "source": [
    "import pandas as pd\n",
    "from sklearn.model_selection import train_test_split\n",
    "from tensorflow.keras.preprocessing.text import Tokenizer\n",
    "from tensorflow.keras.preprocessing.sequence import pad_sequences\n",
    "from tensorflow.keras.models import Sequential\n",
    "from tensorflow.keras.layers import Embedding, LSTM, Dense, Dropout, Input"
   ],
   "metadata": {
    "collapsed": false,
    "ExecuteTime": {
     "end_time": "2024-11-19T22:17:16.038678Z",
     "start_time": "2024-11-19T22:17:16.023681Z"
    }
   },
   "id": "abbe57d88da5f1bb",
   "execution_count": 122
  },
  {
   "cell_type": "code",
   "outputs": [
    {
     "data": {
      "text/plain": "                        Player                   Sequence\n105786           Jannik Sinner                    6 f3 f1\n865366         Agustin Velotti                      5 f3*\n1303401         Lleyton Hewitt          f38 f3 f3 f1 y3n@\n1321011            Carlos Moya                        f27\n208316   Felix Auger Aliassime                   f18 b1n#\n...                        ...                        ...\n1610457          Henri Leconte                         6d\n895739           Bernard Tomic  4 b1 f3 f3 f1 f1 f1 f3 s1\n1022112           Rafael Nadal                    6 f3 o3\n484913           Dominic Thiem                b18 s2 f1w@\n1510609             Petr Korda                    4 f3 r2\n\n[167905 rows x 2 columns]",
      "text/html": "<div>\n<style scoped>\n    .dataframe tbody tr th:only-of-type {\n        vertical-align: middle;\n    }\n\n    .dataframe tbody tr th {\n        vertical-align: top;\n    }\n\n    .dataframe thead th {\n        text-align: right;\n    }\n</style>\n<table border=\"1\" class=\"dataframe\">\n  <thead>\n    <tr style=\"text-align: right;\">\n      <th></th>\n      <th>Player</th>\n      <th>Sequence</th>\n    </tr>\n  </thead>\n  <tbody>\n    <tr>\n      <th>105786</th>\n      <td>Jannik Sinner</td>\n      <td>6 f3 f1</td>\n    </tr>\n    <tr>\n      <th>865366</th>\n      <td>Agustin Velotti</td>\n      <td>5 f3*</td>\n    </tr>\n    <tr>\n      <th>1303401</th>\n      <td>Lleyton Hewitt</td>\n      <td>f38 f3 f3 f1 y3n@</td>\n    </tr>\n    <tr>\n      <th>1321011</th>\n      <td>Carlos Moya</td>\n      <td>f27</td>\n    </tr>\n    <tr>\n      <th>208316</th>\n      <td>Felix Auger Aliassime</td>\n      <td>f18 b1n#</td>\n    </tr>\n    <tr>\n      <th>...</th>\n      <td>...</td>\n      <td>...</td>\n    </tr>\n    <tr>\n      <th>1610457</th>\n      <td>Henri Leconte</td>\n      <td>6d</td>\n    </tr>\n    <tr>\n      <th>895739</th>\n      <td>Bernard Tomic</td>\n      <td>4 b1 f3 f3 f1 f1 f1 f3 s1</td>\n    </tr>\n    <tr>\n      <th>1022112</th>\n      <td>Rafael Nadal</td>\n      <td>6 f3 o3</td>\n    </tr>\n    <tr>\n      <th>484913</th>\n      <td>Dominic Thiem</td>\n      <td>b18 s2 f1w@</td>\n    </tr>\n    <tr>\n      <th>1510609</th>\n      <td>Petr Korda</td>\n      <td>4 f3 r2</td>\n    </tr>\n  </tbody>\n</table>\n<p>167905 rows × 2 columns</p>\n</div>"
     },
     "execution_count": 123,
     "metadata": {},
     "output_type": "execute_result"
    }
   ],
   "source": [
    "df_exploded.sample(frac=0.1, random_state=42)"
   ],
   "metadata": {
    "collapsed": false,
    "ExecuteTime": {
     "end_time": "2024-11-19T22:17:16.116488Z",
     "start_time": "2024-11-19T22:17:16.039693Z"
    }
   },
   "id": "f09456940ca8c92b",
   "execution_count": 123
  },
  {
   "cell_type": "code",
   "outputs": [
    {
     "name": "stderr",
     "output_type": "stream",
     "text": [
      "C:\\Users\\agusd\\AppData\\Local\\Packages\\PythonSoftwareFoundation.Python.3.10_qbz5n2kfra8p0\\LocalCache\\local-packages\\Python310\\site-packages\\keras\\src\\layers\\core\\embedding.py:90: UserWarning: Argument `input_length` is deprecated. Just remove it.\n",
      "  warnings.warn(\n"
     ]
    },
    {
     "name": "stdout",
     "output_type": "stream",
     "text": [
      "\u001B[1m1050/1050\u001B[0m \u001B[32m━━━━━━━━━━━━━━━━━━━━\u001B[0m\u001B[37m\u001B[0m \u001B[1m6s\u001B[0m 5ms/step - accuracy: 9.9319e-06 - loss: 6.2758\n",
      "Test Loss: 6.275824546813965\n",
      "Test Accuracy: 1.2053301361447666e-05\n"
     ]
    }
   ],
   "source": [
    "df_exploded = df_exploded.sample(frac=0.1, random_state=42)\n",
    "\n",
    "\n",
    "# Preprocess the data\n",
    "tokenizer = Tokenizer()\n",
    "tokenizer.fit_on_texts(df_exploded['Sequence'])\n",
    "sequences = tokenizer.texts_to_sequences(df_exploded['Sequence'])\n",
    "word_index = tokenizer.word_index\n",
    "\n",
    "# Pad sequences\n",
    "max_sequence_length = max(len(seq) for seq in sequences)\n",
    "data = pad_sequences(sequences, maxlen=max_sequence_length)\n",
    "\n",
    "# Prepare labels (next shot)\n",
    "labels = df_exploded['Sequence'].shift(-1).fillna('').apply(lambda x: tokenizer.texts_to_sequences([x])[0] if x else [0])\n",
    "labels = pad_sequences(labels, maxlen=max_sequence_length)\n",
    "\n",
    "# Split the data into training and testing sets\n",
    "X_train, X_test, y_train, y_test = train_test_split(data, labels, test_size=0.2, random_state=42)\n",
    "\n",
    "# Build the RNN model\n",
    "model = Sequential()\n",
    "model.add(Embedding(input_dim=len(word_index) + 1, output_dim=64, input_length=max_sequence_length))\n",
    "model.add(LSTM(64, return_sequences=True))\n",
    "model.add(Dropout(0.2))\n",
    "model.add(Dense(len(word_index) + 1, activation='softmax'))\n",
    "\n",
    "# Compile the model\n",
    "model.compile(optimizer='adam', loss='sparse_categorical_crossentropy', metrics=['accuracy'])\n",
    "\n",
    "# Train the model\n",
    "\"\"\"model.fit(X_train, y_train, epochs=3, batch_size=64, validation_split=0.2)\"\"\"\n",
    "\n",
    "# Evaluate the model\n",
    "loss, accuracy = model.evaluate(X_test, y_test)\n",
    "print(f'Test Loss: {loss}')\n",
    "print(f'Test Accuracy: {accuracy}')"
   ],
   "metadata": {
    "collapsed": false,
    "ExecuteTime": {
     "end_time": "2024-11-19T22:17:26.562903Z",
     "start_time": "2024-11-19T22:17:16.117489Z"
    }
   },
   "id": "a08f7628cce378dd",
   "execution_count": 124
  },
  {
   "cell_type": "code",
   "outputs": [
    {
     "name": "stdout",
     "output_type": "stream",
     "text": [
      "Num GPUs Available:  0\n"
     ]
    }
   ],
   "source": [
    "import tensorflow as tf\n",
    "print(\"Num GPUs Available: \", len(tf.config.list_physical_devices('GPU')))\n"
   ],
   "metadata": {
    "collapsed": false,
    "ExecuteTime": {
     "end_time": "2024-11-19T22:17:26.578906Z",
     "start_time": "2024-11-19T22:17:26.563903Z"
    }
   },
   "id": "ed6a6880c5c60658",
   "execution_count": 125
  },
  {
   "cell_type": "code",
   "outputs": [
    {
     "name": "stdout",
     "output_type": "stream",
     "text": [
      "Num GPUs Available:  0\n"
     ]
    }
   ],
   "source": [
    "import tensorflow as tf\n",
    "print(\"Num GPUs Available: \", len(tf.config.list_physical_devices('GPU')))\n"
   ],
   "metadata": {
    "collapsed": false,
    "ExecuteTime": {
     "end_time": "2024-11-19T22:17:26.594334Z",
     "start_time": "2024-11-19T22:17:26.580340Z"
    }
   },
   "id": "4f90241524399b4e",
   "execution_count": 126
  },
  {
   "cell_type": "markdown",
   "source": [
    "# Uso de modelo"
   ],
   "metadata": {
    "collapsed": false
   },
   "id": "9348c68b098bd942"
  },
  {
   "cell_type": "code",
   "outputs": [
    {
     "name": "stderr",
     "output_type": "stream",
     "text": [
      "C:\\Users\\agusd\\AppData\\Local\\Packages\\PythonSoftwareFoundation.Python.3.10_qbz5n2kfra8p0\\LocalCache\\local-packages\\Python310\\site-packages\\keras\\src\\saving\\saving_lib.py:719: UserWarning: Skipping variable loading for optimizer 'adam', because it has 14 variables whereas the saved optimizer has 2 variables. \n",
      "  saveable.load_own_variables(weights_store.get(inner_path))\n"
     ]
    }
   ],
   "source": [
    "# Save the model\n",
    "# Save the model using the recommended native Keras format\n",
    "model.save('tennis_rnn_model_sample.keras')\n",
    "\n",
    "# Load the model (when needed)\n",
    "from tensorflow.keras.models import load_model\n",
    "model = load_model('tennis_rnn_model.keras')\n"
   ],
   "metadata": {
    "collapsed": false,
    "ExecuteTime": {
     "end_time": "2024-11-19T22:17:26.824432Z",
     "start_time": "2024-11-19T22:17:26.595334Z"
    }
   },
   "id": "4e6f3a228e7dc688",
   "execution_count": 127
  },
  {
   "cell_type": "code",
   "outputs": [
    {
     "name": "stdout",
     "output_type": "stream",
     "text": [
      "[[ 0  0  0  0  0  0  0  0  0  0  0  0  0  0  0  0  0  0  0  0  0  0  0  0\n",
      "   0  0  0  0  0  0  0  0  0  0  0  0  0  0  0 11  7  3]]\n"
     ]
    }
   ],
   "source": [
    "new_sequence = \"4n f2 b3\"  # Example sequence (shots separated by spaces)\n",
    "\n",
    "# Tokenize the new sequence\n",
    "new_sequence_tokenized = tokenizer.texts_to_sequences([new_sequence])\n",
    "\n",
    "# Pad the sequence\n",
    "new_sequence_padded = pad_sequences(new_sequence_tokenized, maxlen=max_sequence_length)\n",
    "\n",
    "# Display the padded sequence\n",
    "print(new_sequence_padded)\n"
   ],
   "metadata": {
    "collapsed": false,
    "ExecuteTime": {
     "end_time": "2024-11-19T22:17:26.839480Z",
     "start_time": "2024-11-19T22:17:26.825433Z"
    }
   },
   "id": "f3fb095d433c253",
   "execution_count": 128
  },
  {
   "cell_type": "code",
   "outputs": [
    {
     "name": "stdout",
     "output_type": "stream",
     "text": [
      "\u001B[1m1/1\u001B[0m \u001B[32m━━━━━━━━━━━━━━━━━━━━\u001B[0m\u001B[37m\u001B[0m \u001B[1m0s\u001B[0m 122ms/step\n",
      "Predicted next shot: f1\n"
     ]
    }
   ],
   "source": [
    "import numpy as np\n",
    "\n",
    "# Assume we have a new sequence for which we want to predict the next shot\n",
    "new_sequence = \"6 b19 f1 s1\"\n",
    "\n",
    "# Tokenize the new sequence\n",
    "new_sequence_tokenized = tokenizer.texts_to_sequences([new_sequence])\n",
    "\n",
    "# Pad the sequence to match the input length the model expects\n",
    "new_sequence_padded = pad_sequences(new_sequence_tokenized, maxlen=max_sequence_length)\n",
    "\n",
    "# Make a prediction\n",
    "prediction = model.predict(new_sequence_padded)\n",
    "\n",
    "# Get the predicted index with the highest probability\n",
    "# Since the prediction output is of shape (1, sequence_length, vocabulary_size),\n",
    "# we need to properly index it to extract the most probable class for the next shot\n",
    "predicted_index = np.argmax(prediction[0], axis=-1)\n",
    "\n",
    "# Extract only the next prediction (assuming you want to predict just the next shot)\n",
    "# Since predicted_index can be an array, you want the last value in the sequence:\n",
    "predicted_index = int(predicted_index[-1])\n",
    "\n",
    "# Map the predicted index back to the actual shot (using the word index)\n",
    "int_to_char = {idx: char for char, idx in word_index.items()}\n",
    "predicted_shot = int_to_char.get(predicted_index, '')\n",
    "\n",
    "# Display the predicted next shot\n",
    "print(f\"Predicted next shot: {predicted_shot}\")\n"
   ],
   "metadata": {
    "collapsed": false,
    "ExecuteTime": {
     "end_time": "2024-11-19T22:17:27.012457Z",
     "start_time": "2024-11-19T22:17:26.840435Z"
    }
   },
   "id": "f6c5994a70355355",
   "execution_count": 129
  },
  {
   "cell_type": "code",
   "outputs": [
    {
     "name": "stdout",
     "output_type": "stream",
     "text": [
      "\u001B[1m1/1\u001B[0m \u001B[32m━━━━━━━━━━━━━━━━━━━━\u001B[0m\u001B[37m\u001B[0m \u001B[1m0s\u001B[0m 20ms/step\n",
      "\u001B[1m1/1\u001B[0m \u001B[32m━━━━━━━━━━━━━━━━━━━━\u001B[0m\u001B[37m\u001B[0m \u001B[1m0s\u001B[0m 18ms/step\n",
      "\u001B[1m1/1\u001B[0m \u001B[32m━━━━━━━━━━━━━━━━━━━━\u001B[0m\u001B[37m\u001B[0m \u001B[1m0s\u001B[0m 16ms/step\n",
      "Generated sequence: 6 f13 f3 f3 b3 b3 b3\n"
     ]
    }
   ],
   "source": [
    "import numpy as np\n",
    "\n",
    "# Assume we have a new starting sequence for which we want to predict the next shots\n",
    "starting_sequence = \"6 f13 f3 f3\"\n",
    "\n",
    "# Initialize the sequence with the starting point\n",
    "current_sequence = starting_sequence\n",
    "\n",
    "# Define how many additional shots we want to predict\n",
    "num_shots_to_predict = 3\n",
    "\n",
    "# Create a dictionary to map indices back to characters/shots\n",
    "int_to_char = {idx: char for char, idx in word_index.items()}\n",
    "\n",
    "for _ in range(num_shots_to_predict):\n",
    "    # Tokenize the current sequence\n",
    "    sequence_tokenized = tokenizer.texts_to_sequences([current_sequence])\n",
    "\n",
    "    # Pad the sequence to match the input length that the model expects\n",
    "    sequence_padded = pad_sequences(sequence_tokenized, maxlen=max_sequence_length)\n",
    "\n",
    "    # Make a prediction\n",
    "    prediction = model.predict(sequence_padded)\n",
    "\n",
    "    # Get the predicted index with the highest probability for the next shot\n",
    "    predicted_index = np.argmax(prediction[0], axis=-1)\n",
    "    predicted_index = int(predicted_index[-1])  # Extract the index of the predicted shot\n",
    "\n",
    "    # Map the predicted index back to the actual shot\n",
    "    predicted_shot = int_to_char.get(predicted_index, '')\n",
    "\n",
    "    # Append the predicted shot to the current sequence\n",
    "    if predicted_shot:\n",
    "        current_sequence += f\" {predicted_shot}\"\n",
    "\n",
    "# Print the final sequence after all predictions\n",
    "print(f\"Generated sequence: {current_sequence}\")\n"
   ],
   "metadata": {
    "collapsed": false,
    "ExecuteTime": {
     "end_time": "2024-11-19T22:17:27.164473Z",
     "start_time": "2024-11-19T22:17:27.015458Z"
    }
   },
   "id": "209bc152548a5e08",
   "execution_count": 130
  },
  {
   "cell_type": "code",
   "outputs": [
    {
     "name": "stdout",
     "output_type": "stream",
     "text": [
      "\u001B[1m1/1\u001B[0m \u001B[32m━━━━━━━━━━━━━━━━━━━━\u001B[0m\u001B[37m\u001B[0m \u001B[1m0s\u001B[0m 17ms/step\n",
      "Rank 1: Shot = b3, Probability = 0.2432\n",
      "Rank 2: Shot = b2, Probability = 0.1994\n",
      "Rank 3: Shot = s3, Probability = 0.1269\n"
     ]
    }
   ],
   "source": [
    "import numpy as np\n",
    "\n",
    "# Assume we have a new sequence for which we want to predict the next shots\n",
    "new_sequence = \"6 f13 f3 f3\"\n",
    "\n",
    "# Tokenize the new sequence\n",
    "new_sequence_tokenized = tokenizer.texts_to_sequences([new_sequence])\n",
    "\n",
    "# Pad the sequence to match the input length the model expects\n",
    "new_sequence_padded = pad_sequences(new_sequence_tokenized, maxlen=max_sequence_length)\n",
    "\n",
    "# Make a prediction\n",
    "prediction = model.predict(new_sequence_padded)\n",
    "\n",
    "# Since the prediction is a 3D array, we take the first element\n",
    "# which is of shape (sequence_length, vocabulary_size)\n",
    "# We are interested in the last time step\n",
    "prediction_last_step = prediction[0, -1]  # Get the last time step's prediction\n",
    "\n",
    "# Get the indices of the top 3 most probable shots\n",
    "top_3_indices = np.argsort(prediction_last_step)[-3:][::-1]  # Sort and take the top 3 in descending order\n",
    "\n",
    "# Create a dictionary to map indices to shots\n",
    "int_to_char = {idx: char for char, idx in word_index.items()}\n",
    "\n",
    "# Extract the top 3 predictions and their probabilities\n",
    "top_3_shots = [(int_to_char.get(idx, ''), prediction_last_step[idx]) for idx in top_3_indices]\n",
    "\n",
    "# Display the top 3 most probable shots and their respective probabilities\n",
    "for i, (shot, probability) in enumerate(top_3_shots):\n",
    "    print(f\"Rank {i+1}: Shot = {shot}, Probability = {probability:.4f}\")\n"
   ],
   "metadata": {
    "collapsed": false,
    "ExecuteTime": {
     "end_time": "2024-11-19T22:17:27.225534Z",
     "start_time": "2024-11-19T22:17:27.164473Z"
    }
   },
   "id": "2f7740d0383a788f",
   "execution_count": 131
  },
  {
   "cell_type": "markdown",
   "source": [
    "# Winner Prediction"
   ],
   "metadata": {
    "collapsed": false
   },
   "id": "a41d1bf2742fbf62"
  },
  {
   "cell_type": "code",
   "outputs": [
    {
     "name": "stdout",
     "output_type": "stream",
     "text": [
      "X shape: (167905, 42), y_ending shape: (167905,), y_ending_type shape: (167905,)\n"
     ]
    }
   ],
   "source": [
    "# Step 1: Initialize Tokenizer and fit on all sequences\n",
    "tokenizer = Tokenizer()\n",
    "tokenizer.fit_on_texts(df_exploded['Sequence'])\n",
    "word_index = tokenizer.word_index\n",
    "vocab_size = len(word_index) + 1\n",
    "\n",
    "# Step 2: Tokenize sequences\n",
    "tokenized_sequences = []\n",
    "ending_labels = []\n",
    "ending_type_labels = []\n",
    "\n",
    "for seq in df_exploded['Sequence']:\n",
    "    tokens = seq.split()\n",
    "    tokenized_sequence = tokenizer.texts_to_sequences(tokens)\n",
    "    tokenized_sequence = [item for sublist in tokenized_sequence for item in sublist]  # Flatten list of lists\n",
    "    tokenized_sequences.append(tokenized_sequence)\n",
    "\n",
    "    # Check if the sequence ends, and with what type\n",
    "    last_token = tokens[-1]\n",
    "    if last_token[-1] in ['#', '@', '*']:\n",
    "        ending_labels.append(1)  # 1 means rally ends\n",
    "        ending_type_labels.append({'#': 0, '@': 1, '*': 2}[last_token[-1]])  # Assign a class index to each type\n",
    "    else:\n",
    "        ending_labels.append(0)  # 0 means rally does not end\n",
    "        ending_type_labels.append(3)  # 3 means no ending type\n",
    "\n",
    "# Step 3: Pad sequences\n",
    "max_sequence_length = max(len(seq) for seq in tokenized_sequences)\n",
    "X = pad_sequences(tokenized_sequences, maxlen=max_sequence_length, padding='post')\n",
    "\n",
    "# Convert labels to numpy arrays\n",
    "y_ending = np.array(ending_labels)  # Binary labels for whether the point ends\n",
    "y_ending_type = np.array(ending_type_labels)  # Multi-class labels for the type of ending\n",
    "\n",
    "print(f\"X shape: {X.shape}, y_ending shape: {y_ending.shape}, y_ending_type shape: {y_ending_type.shape}\")\n"
   ],
   "metadata": {
    "collapsed": false,
    "ExecuteTime": {
     "end_time": "2024-11-19T22:17:30.402548Z",
     "start_time": "2024-11-19T22:17:27.226534Z"
    }
   },
   "id": "fb087dde62ac4bf5",
   "execution_count": 132
  },
  {
   "cell_type": "code",
   "outputs": [],
   "source": [
    "from keras.models import Model\n",
    "from keras.layers import Input, Embedding, LSTM, Dense, Dropout\n",
    "\n",
    "# Define the input layer\n",
    "input_layer = Input(shape=(max_sequence_length,))\n",
    "\n",
    "# Embedding layer\n",
    "embedding_layer = Embedding(input_dim=vocab_size, output_dim=64, input_length=max_sequence_length)(input_layer)\n",
    "\n",
    "# LSTM layer\n",
    "lstm_layer = LSTM(64, return_sequences=False)(embedding_layer)  # Set return_sequences=False for a single output vector\n",
    "dropout_layer = Dropout(0.2)(lstm_layer)\n",
    "\n",
    "# Output for predicting if the rally ends (binary classification)\n",
    "ending_output = Dense(1, activation='sigmoid', name='ending_output')(dropout_layer)\n",
    "\n",
    "# Output for predicting the type of ending (multi-class classification)\n",
    "ending_type_output = Dense(4, activation='softmax', name='ending_type_output')(dropout_layer)\n",
    "\n",
    "# Define the model with two outputs\n",
    "model = Model(inputs=input_layer, outputs=[ending_output, ending_type_output])\n",
    "\n",
    "# Compile the model\n",
    "model.compile(optimizer='adam',\n",
    "              loss={'ending_output': 'binary_crossentropy', 'ending_type_output': 'sparse_categorical_crossentropy'},\n",
    "              metrics={'ending_output': 'accuracy', 'ending_type_output': 'accuracy'})\n"
   ],
   "metadata": {
    "collapsed": false,
    "ExecuteTime": {
     "end_time": "2024-11-19T22:17:30.449594Z",
     "start_time": "2024-11-19T22:17:30.403548Z"
    }
   },
   "id": "60308bbfe02e3e2a",
   "execution_count": 133
  },
  {
   "cell_type": "code",
   "outputs": [
    {
     "data": {
      "text/plain": "\"history = model.fit(\\n    X, \\n    {'ending_output': y_ending, 'ending_type_output': y_ending_type},\\n    epochs=10,\\n    batch_size=32,\\n    validation_split=0.2\\n)\""
     },
     "execution_count": 134,
     "metadata": {},
     "output_type": "execute_result"
    }
   ],
   "source": [
    "# Train the model with both outputs\n",
    "\"\"\"history = model.fit(\n",
    "    X, \n",
    "    {'ending_output': y_ending, 'ending_type_output': y_ending_type},\n",
    "    epochs=10,\n",
    "    batch_size=32,\n",
    "    validation_split=0.2\n",
    ")\"\"\"\n"
   ],
   "metadata": {
    "collapsed": false,
    "ExecuteTime": {
     "end_time": "2024-11-19T22:17:30.465552Z",
     "start_time": "2024-11-19T22:17:30.450555Z"
    }
   },
   "id": "e4dce00fdd482cce",
   "execution_count": 134
  },
  {
   "cell_type": "code",
   "outputs": [
    {
     "name": "stdout",
     "output_type": "stream",
     "text": [
      "\u001B[1m1/1\u001B[0m \u001B[32m━━━━━━━━━━━━━━━━━━━━\u001B[0m\u001B[37m\u001B[0m \u001B[1m0s\u001B[0m 132ms/step\n",
      "Rally is likely to continue.\n"
     ]
    }
   ],
   "source": [
    "# Predict for a new sequence\n",
    "new_sequence = \"6\"  # Example sequence\n",
    "new_sequence_tokenized = tokenizer.texts_to_sequences([new_sequence.split()])\n",
    "new_sequence_padded = pad_sequences(new_sequence_tokenized, maxlen=max_sequence_length)\n",
    "\n",
    "# Make predictions\n",
    "predictions = model.predict(new_sequence_padded)\n",
    "\n",
    "# Extract predictions\n",
    "ending_prediction = predictions[0][0]  # Probability that the rally ends\n",
    "ending_type_prediction = np.argmax(predictions[1][0])  # Predicted ending type\n",
    "\n",
    "# Interpret the results\n",
    "if ending_prediction > 0.5:\n",
    "    ending_types = {0: \"Forced Error (#)\", 1: \"Unforced Error (@)\", 2: \"Winner (*)\"}\n",
    "    print(f\"Rally will end with a {ending_types.get(ending_type_prediction, 'No ending')}\")\n",
    "else:\n",
    "    print(\"Rally is likely to continue.\")\n"
   ],
   "metadata": {
    "collapsed": false,
    "ExecuteTime": {
     "end_time": "2024-11-19T22:17:30.650540Z",
     "start_time": "2024-11-19T22:17:30.466553Z"
    }
   },
   "id": "54f0b35b3fb5ee2c",
   "execution_count": 135
  },
  {
   "cell_type": "code",
   "outputs": [
    {
     "data": {
      "text/plain": "                        Player                   Sequence\n105786           Jannik Sinner                    6 f3 f1\n865366         Agustin Velotti                      5 f3*\n1303401         Lleyton Hewitt          f38 f3 f3 f1 y3n@\n1321011            Carlos Moya                        f27\n208316   Felix Auger Aliassime                   f18 b1n#\n...                        ...                        ...\n1610457          Henri Leconte                         6d\n895739           Bernard Tomic  4 b1 f3 f3 f1 f1 f1 f3 s1\n1022112           Rafael Nadal                    6 f3 o3\n484913           Dominic Thiem                b18 s2 f1w@\n1510609             Petr Korda                    4 f3 r2\n\n[167905 rows x 2 columns]",
      "text/html": "<div>\n<style scoped>\n    .dataframe tbody tr th:only-of-type {\n        vertical-align: middle;\n    }\n\n    .dataframe tbody tr th {\n        vertical-align: top;\n    }\n\n    .dataframe thead th {\n        text-align: right;\n    }\n</style>\n<table border=\"1\" class=\"dataframe\">\n  <thead>\n    <tr style=\"text-align: right;\">\n      <th></th>\n      <th>Player</th>\n      <th>Sequence</th>\n    </tr>\n  </thead>\n  <tbody>\n    <tr>\n      <th>105786</th>\n      <td>Jannik Sinner</td>\n      <td>6 f3 f1</td>\n    </tr>\n    <tr>\n      <th>865366</th>\n      <td>Agustin Velotti</td>\n      <td>5 f3*</td>\n    </tr>\n    <tr>\n      <th>1303401</th>\n      <td>Lleyton Hewitt</td>\n      <td>f38 f3 f3 f1 y3n@</td>\n    </tr>\n    <tr>\n      <th>1321011</th>\n      <td>Carlos Moya</td>\n      <td>f27</td>\n    </tr>\n    <tr>\n      <th>208316</th>\n      <td>Felix Auger Aliassime</td>\n      <td>f18 b1n#</td>\n    </tr>\n    <tr>\n      <th>...</th>\n      <td>...</td>\n      <td>...</td>\n    </tr>\n    <tr>\n      <th>1610457</th>\n      <td>Henri Leconte</td>\n      <td>6d</td>\n    </tr>\n    <tr>\n      <th>895739</th>\n      <td>Bernard Tomic</td>\n      <td>4 b1 f3 f3 f1 f1 f1 f3 s1</td>\n    </tr>\n    <tr>\n      <th>1022112</th>\n      <td>Rafael Nadal</td>\n      <td>6 f3 o3</td>\n    </tr>\n    <tr>\n      <th>484913</th>\n      <td>Dominic Thiem</td>\n      <td>b18 s2 f1w@</td>\n    </tr>\n    <tr>\n      <th>1510609</th>\n      <td>Petr Korda</td>\n      <td>4 f3 r2</td>\n    </tr>\n  </tbody>\n</table>\n<p>167905 rows × 2 columns</p>\n</div>"
     },
     "execution_count": 136,
     "metadata": {},
     "output_type": "execute_result"
    }
   ],
   "source": [
    "df_exploded"
   ],
   "metadata": {
    "collapsed": false,
    "ExecuteTime": {
     "end_time": "2024-11-19T22:17:30.666581Z",
     "start_time": "2024-11-19T22:17:30.651541Z"
    }
   },
   "id": "67e8674691db4fe6",
   "execution_count": 136
  },
  {
   "cell_type": "markdown",
   "source": [
    "# Point ending"
   ],
   "metadata": {
    "collapsed": false
   },
   "id": "5adb7af31913686a"
  },
  {
   "cell_type": "code",
   "outputs": [],
   "source": [
    "point_winning_data = df[['1stIn', '2ndIn','1st_final', '1st_final']]"
   ],
   "metadata": {
    "collapsed": false,
    "ExecuteTime": {
     "end_time": "2024-11-19T22:18:16.489565Z",
     "start_time": "2024-11-19T22:18:16.461559Z"
    }
   },
   "id": "be50df59b836b8c2",
   "execution_count": 141
  },
  {
   "cell_type": "code",
   "outputs": [
    {
     "data": {
      "text/plain": "   1stIn  2ndIn  1st_final                 2nd_final\n0      1    NaN     6 f2n#                       NaN\n1      0    1.0         4n  6 b19 f1 b2 s1 f3 f2 j2*\n2      0    1.0         4d              4 b28 f2 o1*\n3      1    NaN  6 s28 f3*                       NaN\n4      1    NaN  4 b37 b3*                       NaN",
      "text/html": "<div>\n<style scoped>\n    .dataframe tbody tr th:only-of-type {\n        vertical-align: middle;\n    }\n\n    .dataframe tbody tr th {\n        vertical-align: top;\n    }\n\n    .dataframe thead th {\n        text-align: right;\n    }\n</style>\n<table border=\"1\" class=\"dataframe\">\n  <thead>\n    <tr style=\"text-align: right;\">\n      <th></th>\n      <th>1stIn</th>\n      <th>2ndIn</th>\n      <th>1st_final</th>\n      <th>2nd_final</th>\n    </tr>\n  </thead>\n  <tbody>\n    <tr>\n      <th>0</th>\n      <td>1</td>\n      <td>NaN</td>\n      <td>6 f2n#</td>\n      <td>NaN</td>\n    </tr>\n    <tr>\n      <th>1</th>\n      <td>0</td>\n      <td>1.0</td>\n      <td>4n</td>\n      <td>6 b19 f1 b2 s1 f3 f2 j2*</td>\n    </tr>\n    <tr>\n      <th>2</th>\n      <td>0</td>\n      <td>1.0</td>\n      <td>4d</td>\n      <td>4 b28 f2 o1*</td>\n    </tr>\n    <tr>\n      <th>3</th>\n      <td>1</td>\n      <td>NaN</td>\n      <td>6 s28 f3*</td>\n      <td>NaN</td>\n    </tr>\n    <tr>\n      <th>4</th>\n      <td>1</td>\n      <td>NaN</td>\n      <td>4 b37 b3*</td>\n      <td>NaN</td>\n    </tr>\n  </tbody>\n</table>\n</div>"
     },
     "execution_count": 143,
     "metadata": {},
     "output_type": "execute_result"
    }
   ],
   "source": [
    "point_winning_data.head()"
   ],
   "metadata": {
    "collapsed": false,
    "ExecuteTime": {
     "end_time": "2024-11-19T22:18:27.929393Z",
     "start_time": "2024-11-19T22:18:27.915390Z"
    }
   },
   "id": "79fb8ccebf921bab",
   "execution_count": 143
  },
  {
   "cell_type": "code",
   "outputs": [
    {
     "name": "stderr",
     "output_type": "stream",
     "text": [
      "C:\\Users\\agusd\\AppData\\Local\\Temp\\ipykernel_13648\\38753786.py:2: SettingWithCopyWarning: \n",
      "A value is trying to be set on a copy of a slice from a DataFrame.\n",
      "Try using .loc[row_indexer,col_indexer] = value instead\n",
      "\n",
      "See the caveats in the documentation: https://pandas.pydata.org/pandas-docs/stable/user_guide/indexing.html#returning-a-view-versus-a-copy\n",
      "  point_winning_data['1st_final'] = np.where(point_winning_data['1stIn'] == 0, point_winning_data['1st_final'], point_winning_data['1st_final'])\n"
     ]
    },
    {
     "data": {
      "text/plain": "   1stIn  2ndIn  1st_final                 2nd_final\n0      1    NaN     6 f2n#                       NaN\n1      0    1.0         4n  6 b19 f1 b2 s1 f3 f2 j2*\n2      0    1.0         4d              4 b28 f2 o1*\n3      1    NaN  6 s28 f3*                       NaN\n4      1    NaN  4 b37 b3*                       NaN",
      "text/html": "<div>\n<style scoped>\n    .dataframe tbody tr th:only-of-type {\n        vertical-align: middle;\n    }\n\n    .dataframe tbody tr th {\n        vertical-align: top;\n    }\n\n    .dataframe thead th {\n        text-align: right;\n    }\n</style>\n<table border=\"1\" class=\"dataframe\">\n  <thead>\n    <tr style=\"text-align: right;\">\n      <th></th>\n      <th>1stIn</th>\n      <th>2ndIn</th>\n      <th>1st_final</th>\n      <th>2nd_final</th>\n    </tr>\n  </thead>\n  <tbody>\n    <tr>\n      <th>0</th>\n      <td>1</td>\n      <td>NaN</td>\n      <td>6 f2n#</td>\n      <td>NaN</td>\n    </tr>\n    <tr>\n      <th>1</th>\n      <td>0</td>\n      <td>1.0</td>\n      <td>4n</td>\n      <td>6 b19 f1 b2 s1 f3 f2 j2*</td>\n    </tr>\n    <tr>\n      <th>2</th>\n      <td>0</td>\n      <td>1.0</td>\n      <td>4d</td>\n      <td>4 b28 f2 o1*</td>\n    </tr>\n    <tr>\n      <th>3</th>\n      <td>1</td>\n      <td>NaN</td>\n      <td>6 s28 f3*</td>\n      <td>NaN</td>\n    </tr>\n    <tr>\n      <th>4</th>\n      <td>1</td>\n      <td>NaN</td>\n      <td>4 b37 b3*</td>\n      <td>NaN</td>\n    </tr>\n  </tbody>\n</table>\n</div>"
     },
     "execution_count": 145,
     "metadata": {},
     "output_type": "execute_result"
    }
   ],
   "source": [
    "#Reemplazo los valores de 1st_test por 2nd_test si 1stIn == 0, de manera que solo tengo los puntos en donde el saque entra\n",
    "point_winning_data['1st_final'] = np.where(point_winning_data['1stIn'] == 0, point_winning_data['1st_final'], point_winning_data['1st_final'])\n",
    "#Drop de las filas donde no entra el segundo saque\n",
    "point_winning_data = point_winning_data[point_winning_data['2ndIn'] != 0]\n",
    "point_winning_data.head()"
   ],
   "metadata": {
    "collapsed": false,
    "ExecuteTime": {
     "end_time": "2024-11-19T22:18:46.476806Z",
     "start_time": "2024-11-19T22:18:46.387442Z"
    }
   },
   "id": "8d32bda4a25c4054",
   "execution_count": 145
  },
  {
   "cell_type": "code",
   "outputs": [],
   "source": [
    "point_winning_data"
   ],
   "metadata": {
    "collapsed": false
   },
   "id": "4775721654869b57",
   "execution_count": 155
  },
  {
   "cell_type": "markdown",
   "source": [
    "## Modelo point ending"
   ],
   "metadata": {
    "collapsed": false
   },
   "id": "d5efb2fa0ca5fd18"
  },
  {
   "cell_type": "code",
   "outputs": [
    {
     "name": "stdout",
     "output_type": "stream",
     "text": [
      "X shape: (354003, 83), y_ending shape: (354003,)\n"
     ]
    }
   ],
   "source": [
    "tokenizer = Tokenizer()\n",
    "tokenizer.fit_on_texts(df_sequences['1st_test'])\n",
    "word_index = tokenizer.word_index\n",
    "vocab_size = len(word_index) + 1\n",
    "\n",
    "# Step 2: Tokenize sequences and create labels for when the point ends\n",
    "tokenized_sequences = []\n",
    "ending_labels = []\n",
    "\n",
    "for seq in df_sequences['1st_test']:\n",
    "    tokens = seq.split()\n",
    "    \n",
    "    # Generate partial sequences and labels\n",
    "    for i in range(1, len(tokens)):\n",
    "        partial_sequence = tokens[:i]  # Create partial sequence up to shot i\n",
    "        tokenized_sequence = tokenizer.texts_to_sequences([partial_sequence])\n",
    "        tokenized_sequence = [item for sublist in tokenized_sequence for item in sublist]  # Flatten list of lists\n",
    "        tokenized_sequences.append(tokenized_sequence)\n",
    "\n",
    "        # Label for whether the next shot is the end of the rally\n",
    "        if tokens[i][-1] in ['#', '@', '*']:\n",
    "            ending_labels.append(1)  # Next shot ends the rally\n",
    "        else:\n",
    "            ending_labels.append(0)  # Next shot does not end the rally\n",
    "\n",
    "# Step 3: Pad sequences\n",
    "max_sequence_length = max(len(seq) for seq in tokenized_sequences)\n",
    "X = pad_sequences(tokenized_sequences, maxlen=max_sequence_length, padding='post')\n",
    "\n",
    "# Convert labels to numpy array\n",
    "y_ending = np.array(ending_labels)  # Labels for whether the next shot ends the rally\n",
    "\n",
    "# Display data shape for verification\n",
    "print(f\"X shape: {X.shape}, y_ending shape: {y_ending.shape}\")"
   ],
   "metadata": {
    "collapsed": false,
    "ExecuteTime": {
     "end_time": "2024-11-19T22:19:35.319812Z",
     "start_time": "2024-11-19T22:19:32.708468Z"
    }
   },
   "id": "f33a75e301795cc7",
   "execution_count": 147
  },
  {
   "cell_type": "code",
   "outputs": [
    {
     "name": "stderr",
     "output_type": "stream",
     "text": [
      "C:\\Users\\agusd\\AppData\\Local\\Packages\\PythonSoftwareFoundation.Python.3.10_qbz5n2kfra8p0\\LocalCache\\local-packages\\Python310\\site-packages\\keras\\src\\layers\\core\\embedding.py:90: UserWarning: Argument `input_length` is deprecated. Just remove it.\n",
      "  warnings.warn(\n"
     ]
    }
   ],
   "source": [
    "# Define the RNN model\n",
    "model = Sequential()\n",
    "model.add(Embedding(input_dim=vocab_size, output_dim=64, input_length=max_sequence_length))\n",
    "model.add(LSTM(64, return_sequences=False))  # Only want the final output\n",
    "model.add(Dropout(0.2))\n",
    "model.add(Dense(1, activation='sigmoid'))  # Predict the probability that the next shot ends the rally\n",
    "\n",
    "# Compile the model\n",
    "model.compile(optimizer='adam', loss='binary_crossentropy', metrics=['accuracy'])"
   ],
   "metadata": {
    "collapsed": false,
    "ExecuteTime": {
     "end_time": "2024-11-19T22:19:46.533798Z",
     "start_time": "2024-11-19T22:19:46.510987Z"
    }
   },
   "id": "e30f361380fd891e",
   "execution_count": 149
  },
  {
   "cell_type": "code",
   "outputs": [
    {
     "name": "stdout",
     "output_type": "stream",
     "text": [
      "Epoch 1/10\n",
      "\u001B[1m8851/8851\u001B[0m \u001B[32m━━━━━━━━━━━━━━━━━━━━\u001B[0m\u001B[37m\u001B[0m \u001B[1m156s\u001B[0m 17ms/step - accuracy: 0.7985 - loss: 0.5052 - val_accuracy: 0.7990 - val_loss: 0.5020\n",
      "Epoch 2/10\n",
      "\u001B[1m8851/8851\u001B[0m \u001B[32m━━━━━━━━━━━━━━━━━━━━\u001B[0m\u001B[37m\u001B[0m \u001B[1m148s\u001B[0m 17ms/step - accuracy: 0.7974 - loss: 0.5049 - val_accuracy: 0.7990 - val_loss: 0.5026\n",
      "Epoch 3/10\n",
      "\u001B[1m8851/8851\u001B[0m \u001B[32m━━━━━━━━━━━━━━━━━━━━\u001B[0m\u001B[37m\u001B[0m \u001B[1m153s\u001B[0m 17ms/step - accuracy: 0.7981 - loss: 0.5018 - val_accuracy: 0.7996 - val_loss: 0.4902\n",
      "Epoch 4/10\n",
      "\u001B[1m8851/8851\u001B[0m \u001B[32m━━━━━━━━━━━━━━━━━━━━\u001B[0m\u001B[37m\u001B[0m \u001B[1m146s\u001B[0m 17ms/step - accuracy: 0.7997 - loss: 0.4909 - val_accuracy: 0.8003 - val_loss: 0.4895\n",
      "Epoch 5/10\n",
      "\u001B[1m8851/8851\u001B[0m \u001B[32m━━━━━━━━━━━━━━━━━━━━\u001B[0m\u001B[37m\u001B[0m \u001B[1m148s\u001B[0m 17ms/step - accuracy: 0.8084 - loss: 0.4848 - val_accuracy: 0.8193 - val_loss: 0.4703\n",
      "Epoch 6/10\n",
      "\u001B[1m8851/8851\u001B[0m \u001B[32m━━━━━━━━━━━━━━━━━━━━\u001B[0m\u001B[37m\u001B[0m \u001B[1m149s\u001B[0m 17ms/step - accuracy: 0.8224 - loss: 0.4639 - val_accuracy: 0.8243 - val_loss: 0.4579\n",
      "Epoch 7/10\n",
      "\u001B[1m8851/8851\u001B[0m \u001B[32m━━━━━━━━━━━━━━━━━━━━\u001B[0m\u001B[37m\u001B[0m \u001B[1m147s\u001B[0m 17ms/step - accuracy: 0.8249 - loss: 0.4584 - val_accuracy: 0.8242 - val_loss: 0.4602\n",
      "Epoch 8/10\n",
      "\u001B[1m8851/8851\u001B[0m \u001B[32m━━━━━━━━━━━━━━━━━━━━\u001B[0m\u001B[37m\u001B[0m \u001B[1m149s\u001B[0m 17ms/step - accuracy: 0.8244 - loss: 0.4605 - val_accuracy: 0.8242 - val_loss: 0.4617\n",
      "Epoch 9/10\n",
      "\u001B[1m8851/8851\u001B[0m \u001B[32m━━━━━━━━━━━━━━━━━━━━\u001B[0m\u001B[37m\u001B[0m \u001B[1m148s\u001B[0m 17ms/step - accuracy: 0.8235 - loss: 0.4612 - val_accuracy: 0.8240 - val_loss: 0.4604\n",
      "Epoch 10/10\n",
      "\u001B[1m4968/8851\u001B[0m \u001B[32m━━━━━━━━━━━\u001B[0m\u001B[37m━━━━━━━━━\u001B[0m \u001B[1m58s\u001B[0m 15ms/step - accuracy: 0.8216 - loss: 0.4641"
     ]
    }
   ],
   "source": [
    "# Train the model\n",
    "history = model.fit(\n",
    "    X, y_ending,\n",
    "    epochs=10,\n",
    "    batch_size=32,\n",
    "    validation_split=0.2\n",
    ")"
   ],
   "metadata": {
    "collapsed": false,
    "ExecuteTime": {
     "end_time": "2024-11-19T22:44:41.232140Z",
     "start_time": "2024-11-19T22:19:53.277500Z"
    }
   },
   "id": "e93c6216b02648dc",
   "execution_count": 150
  },
  {
   "cell_type": "code",
   "outputs": [],
   "source": [
    "# Save the model\n",
    "model.save('tennis_rnn_when_point_ends.keras')"
   ],
   "metadata": {
    "collapsed": false
   },
   "id": "9d7783bbce77cb66",
   "execution_count": 151
  },
  {
   "cell_type": "code",
   "outputs": [],
   "source": [
    "# Load the model\n",
    "model_when = load_model('tennis_rnn_when_point_ends.keras')\n"
   ],
   "metadata": {
    "collapsed": false
   },
   "id": "e8fcd5b257d3f89",
   "execution_count": 152
  },
  {
   "cell_type": "code",
   "outputs": [],
   "source": [],
   "metadata": {
    "collapsed": false
   },
   "id": "b6ff3e885c75d701"
  }
 ],
 "metadata": {
  "kernelspec": {
   "display_name": "Python 3",
   "language": "python",
   "name": "python3"
  },
  "language_info": {
   "codemirror_mode": {
    "name": "ipython",
    "version": 2
   },
   "file_extension": ".py",
   "mimetype": "text/x-python",
   "name": "python",
   "nbconvert_exporter": "python",
   "pygments_lexer": "ipython2",
   "version": "2.7.6"
  }
 },
 "nbformat": 4,
 "nbformat_minor": 5
}
