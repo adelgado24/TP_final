{
 "cells": [
  {
   "cell_type": "code",
   "execution_count": 1,
   "id": "initial_id",
   "metadata": {
    "collapsed": true,
    "ExecuteTime": {
     "end_time": "2024-11-27T17:34:35.101585Z",
     "start_time": "2024-11-27T17:34:30.935504Z"
    }
   },
   "outputs": [],
   "source": [
    "import pandas as pd\n",
    "import numpy as np\n",
    "import matplotlib.pyplot as plt\n",
    "import seaborn as sns\n",
    "from sklearn.model_selection import train_test_split\n",
    "import chardet\n",
    "import re\n",
    "import warnings\n",
    "import tensorflow as tf\n",
    "from tensorflow import keras\n",
    "from tensorflow.keras import layers\n",
    "from tensorflow.keras import Sequential\n",
    "from tensorflow.keras.layers import Dense, LSTM, Dropout, Embedding, Concatenate, Input, RepeatVector\n",
    "from tensorflow.keras.preprocessing.text import Tokenizer\n",
    "pd.options.mode.chained_assignment = None\n",
    "import warnings\n",
    "warnings.filterwarnings(\"ignore\", message=\"The structure of `inputs` doesn't match the expected structure\")\n",
    "from tensorflow.keras.preprocessing.sequence import pad_sequences\n",
    "from keras.models import Model\n",
    "from keras.optimizers import Adam\n",
    "from sklearn.preprocessing import MinMaxScaler"
   ]
  },
  {
   "cell_type": "code",
   "outputs": [],
   "source": [
    "df_exploded = pd.read_csv('data_output/df_exploded_full.csv')"
   ],
   "metadata": {
    "collapsed": false,
    "ExecuteTime": {
     "end_time": "2024-11-27T17:34:36.815936Z",
     "start_time": "2024-11-27T17:34:35.102585Z"
    }
   },
   "id": "e02dd2ebe23c2eb9",
   "execution_count": 2
  },
  {
   "cell_type": "code",
   "outputs": [
    {
     "data": {
      "text/plain": "(1679050, 9)"
     },
     "execution_count": 3,
     "metadata": {},
     "output_type": "execute_result"
    }
   ],
   "source": [
    "df_exploded.shape"
   ],
   "metadata": {
    "collapsed": false,
    "ExecuteTime": {
     "end_time": "2024-11-27T17:34:36.831906Z",
     "start_time": "2024-11-27T17:34:36.816901Z"
    }
   },
   "id": "a604a20c3055738a",
   "execution_count": 3
  },
  {
   "cell_type": "markdown",
   "source": [
    "# Modelo de prediccion de proximo golpe: Plus Otros golpes\n",
    "Similar al modelo de \"Predict_next_player_shot_tuning.ipynb\" pero con la inclusion de otros golpes que no sean forehand, backhand o slice, en la categoria \"other\"."
   ],
   "metadata": {
    "collapsed": false
   },
   "id": "4840b2c0986d133"
  },
  {
   "cell_type": "code",
   "outputs": [
    {
     "name": "stderr",
     "output_type": "stream",
     "text": [
      "C:\\Users\\agusd\\AppData\\Local\\Temp\\ipykernel_27324\\1369187152.py:4: SettingWithCopyWarning: \n",
      "A value is trying to be set on a copy of a slice from a DataFrame.\n",
      "Try using .loc[row_indexer,col_indexer] = value instead\n",
      "\n",
      "See the caveats in the documentation: https://pandas.pydata.org/pandas-docs/stable/user_guide/indexing.html#returning-a-view-versus-a-copy\n",
      "  df_exploded_test['cuarto'] = df_exploded_test['Sequence'].str.split().str[3].apply(\n"
     ]
    },
    {
     "data": {
      "text/plain": "f    0.439085\nb    0.344230\no    0.119495\ns    0.097190\nName: cuarto, dtype: float64"
     },
     "execution_count": 4,
     "metadata": {},
     "output_type": "execute_result"
    }
   ],
   "source": [
    "#Conditional column: where the fourth item in the 'Sequence' column contains 's' new column return 's', when 'b' return 'b', when 'f' return 'f', and when other return 'o'\n",
    "\n",
    "df_exploded_test = df_exploded[df_exploded['Sequence'].str.split().apply(len) > 3]\n",
    "df_exploded_test['cuarto'] = df_exploded_test['Sequence'].str.split().str[3].apply(\n",
    "    lambda x: x[0] if isinstance(x, str) and x[0] in ['s', 'b', 'f'] else 'o'\n",
    ")\n",
    "df_exploded_test['cuarto'].value_counts(normalize=True)"
   ],
   "metadata": {
    "collapsed": false,
    "ExecuteTime": {
     "end_time": "2024-11-27T17:34:40.387777Z",
     "start_time": "2024-11-27T17:34:36.832905Z"
    }
   },
   "id": "7cabb15fb011eeb3",
   "execution_count": 4
  },
  {
   "cell_type": "code",
   "outputs": [
    {
     "name": "stdout",
     "output_type": "stream",
     "text": [
      "Total de filas: 297519\n"
     ]
    }
   ],
   "source": [
    "jugador_elegido = \"Roger Federer\"\n",
    "\n",
    "df_exploded = df_exploded.dropna(subset=['Sequence'])\n",
    "\n",
    "df_exploded_filtered = df_exploded[df_exploded['Sequence'].str.split().apply(len) > 3]\n",
    "# Filter rows where the fourth item in the 'Sequence' column contains 's', 'b', or 'f'\n",
    "\"\"\"df_exploded_filtered = df_exploded_filtered[\n",
    "    df_exploded_filtered['Sequence'].str.split().str[3].str.contains(r'^[sbf]')\n",
    "]\"\"\"\n",
    "\n",
    "print(f\"Total de filas: {df_exploded_filtered.shape[0]}\")"
   ],
   "metadata": {
    "collapsed": false,
    "ExecuteTime": {
     "end_time": "2024-11-27T17:34:43.160729Z",
     "start_time": "2024-11-27T17:34:40.388777Z"
    }
   },
   "id": "3725960c8b5023ad",
   "execution_count": 5
  },
  {
   "cell_type": "code",
   "outputs": [
    {
     "data": {
      "text/plain": "                     Player               Sequence  \\\n3            Novak Djokovic             6 f1 s1 f2   \n4               Ben Shelton          b19 b2 f3 j2*   \n23           Novak Djokovic       4 b2 b1 b3 f2 f1   \n24              Ben Shelton   b28 f2 s3 f1 b1 b3n@   \n46           Novak Djokovic            6 f3 f1 v3*   \n...                     ...                    ...   \n1679023  Nicola Pietrangeli  b28 m2 s2 b3 f3 s3 s1   \n1679025          Luis Ayala         4 f3 o1 z3 o1*   \n1679026  Nicola Pietrangeli           s28 m2 f3 m2   \n1679031          Luis Ayala             5 s3 s3 r3   \n1679032  Nicola Pietrangeli          s38 b3 s1 b3*   \n\n                                                  match_id   Pt  Set1  Set2  \\\n3        20230908-M-US_Open-SF-Novak_Djokovic_-Ben_Shelton    2     0     0   \n4        20230908-M-US_Open-SF-Novak_Djokovic_-Ben_Shelton    2     0     0   \n23       20230908-M-US_Open-SF-Novak_Djokovic_-Ben_Shelton   11     0     0   \n24       20230908-M-US_Open-SF-Novak_Djokovic_-Ben_Shelton   11     0     0   \n46       20230908-M-US_Open-SF-Novak_Djokovic_-Ben_Shelton   22     0     0   \n...                                                    ...  ...   ...   ...   \n1679023  19600529-M-Roland_Garros-F-Nicola_Pietrangeli-...  164     1     1   \n1679025  19600529-M-Roland_Garros-F-Nicola_Pietrangeli-...  165     1     1   \n1679026  19600529-M-Roland_Garros-F-Nicola_Pietrangeli-...  165     1     1   \n1679031  19600529-M-Roland_Garros-F-Nicola_Pietrangeli-...  167     1     1   \n1679032  19600529-M-Roland_Garros-F-Nicola_Pietrangeli-...  167     1     1   \n\n         Gm1  Gm2    Pts  \n3        0.0  0.0   15-0  \n4        0.0  0.0   15-0  \n23       1.0  1.0    0-0  \n24       1.0  1.0    0-0  \n46       2.0  2.0   15-0  \n...      ...  ...    ...  \n1679023  5.0  4.0  15-15  \n1679025  5.0  4.0  15-30  \n1679026  5.0  4.0  15-30  \n1679031  5.0  4.0  40-30  \n1679032  5.0  4.0  40-30  \n\n[297519 rows x 9 columns]",
      "text/html": "<div>\n<style scoped>\n    .dataframe tbody tr th:only-of-type {\n        vertical-align: middle;\n    }\n\n    .dataframe tbody tr th {\n        vertical-align: top;\n    }\n\n    .dataframe thead th {\n        text-align: right;\n    }\n</style>\n<table border=\"1\" class=\"dataframe\">\n  <thead>\n    <tr style=\"text-align: right;\">\n      <th></th>\n      <th>Player</th>\n      <th>Sequence</th>\n      <th>match_id</th>\n      <th>Pt</th>\n      <th>Set1</th>\n      <th>Set2</th>\n      <th>Gm1</th>\n      <th>Gm2</th>\n      <th>Pts</th>\n    </tr>\n  </thead>\n  <tbody>\n    <tr>\n      <th>3</th>\n      <td>Novak Djokovic</td>\n      <td>6 f1 s1 f2</td>\n      <td>20230908-M-US_Open-SF-Novak_Djokovic_-Ben_Shelton</td>\n      <td>2</td>\n      <td>0</td>\n      <td>0</td>\n      <td>0.0</td>\n      <td>0.0</td>\n      <td>15-0</td>\n    </tr>\n    <tr>\n      <th>4</th>\n      <td>Ben Shelton</td>\n      <td>b19 b2 f3 j2*</td>\n      <td>20230908-M-US_Open-SF-Novak_Djokovic_-Ben_Shelton</td>\n      <td>2</td>\n      <td>0</td>\n      <td>0</td>\n      <td>0.0</td>\n      <td>0.0</td>\n      <td>15-0</td>\n    </tr>\n    <tr>\n      <th>23</th>\n      <td>Novak Djokovic</td>\n      <td>4 b2 b1 b3 f2 f1</td>\n      <td>20230908-M-US_Open-SF-Novak_Djokovic_-Ben_Shelton</td>\n      <td>11</td>\n      <td>0</td>\n      <td>0</td>\n      <td>1.0</td>\n      <td>1.0</td>\n      <td>0-0</td>\n    </tr>\n    <tr>\n      <th>24</th>\n      <td>Ben Shelton</td>\n      <td>b28 f2 s3 f1 b1 b3n@</td>\n      <td>20230908-M-US_Open-SF-Novak_Djokovic_-Ben_Shelton</td>\n      <td>11</td>\n      <td>0</td>\n      <td>0</td>\n      <td>1.0</td>\n      <td>1.0</td>\n      <td>0-0</td>\n    </tr>\n    <tr>\n      <th>46</th>\n      <td>Novak Djokovic</td>\n      <td>6 f3 f1 v3*</td>\n      <td>20230908-M-US_Open-SF-Novak_Djokovic_-Ben_Shelton</td>\n      <td>22</td>\n      <td>0</td>\n      <td>0</td>\n      <td>2.0</td>\n      <td>2.0</td>\n      <td>15-0</td>\n    </tr>\n    <tr>\n      <th>...</th>\n      <td>...</td>\n      <td>...</td>\n      <td>...</td>\n      <td>...</td>\n      <td>...</td>\n      <td>...</td>\n      <td>...</td>\n      <td>...</td>\n      <td>...</td>\n    </tr>\n    <tr>\n      <th>1679023</th>\n      <td>Nicola Pietrangeli</td>\n      <td>b28 m2 s2 b3 f3 s3 s1</td>\n      <td>19600529-M-Roland_Garros-F-Nicola_Pietrangeli-...</td>\n      <td>164</td>\n      <td>1</td>\n      <td>1</td>\n      <td>5.0</td>\n      <td>4.0</td>\n      <td>15-15</td>\n    </tr>\n    <tr>\n      <th>1679025</th>\n      <td>Luis Ayala</td>\n      <td>4 f3 o1 z3 o1*</td>\n      <td>19600529-M-Roland_Garros-F-Nicola_Pietrangeli-...</td>\n      <td>165</td>\n      <td>1</td>\n      <td>1</td>\n      <td>5.0</td>\n      <td>4.0</td>\n      <td>15-30</td>\n    </tr>\n    <tr>\n      <th>1679026</th>\n      <td>Nicola Pietrangeli</td>\n      <td>s28 m2 f3 m2</td>\n      <td>19600529-M-Roland_Garros-F-Nicola_Pietrangeli-...</td>\n      <td>165</td>\n      <td>1</td>\n      <td>1</td>\n      <td>5.0</td>\n      <td>4.0</td>\n      <td>15-30</td>\n    </tr>\n    <tr>\n      <th>1679031</th>\n      <td>Luis Ayala</td>\n      <td>5 s3 s3 r3</td>\n      <td>19600529-M-Roland_Garros-F-Nicola_Pietrangeli-...</td>\n      <td>167</td>\n      <td>1</td>\n      <td>1</td>\n      <td>5.0</td>\n      <td>4.0</td>\n      <td>40-30</td>\n    </tr>\n    <tr>\n      <th>1679032</th>\n      <td>Nicola Pietrangeli</td>\n      <td>s38 b3 s1 b3*</td>\n      <td>19600529-M-Roland_Garros-F-Nicola_Pietrangeli-...</td>\n      <td>167</td>\n      <td>1</td>\n      <td>1</td>\n      <td>5.0</td>\n      <td>4.0</td>\n      <td>40-30</td>\n    </tr>\n  </tbody>\n</table>\n<p>297519 rows × 9 columns</p>\n</div>"
     },
     "execution_count": 6,
     "metadata": {},
     "output_type": "execute_result"
    }
   ],
   "source": [
    "df_exploded_filtered"
   ],
   "metadata": {
    "collapsed": false,
    "ExecuteTime": {
     "end_time": "2024-11-27T17:34:43.191729Z",
     "start_time": "2024-11-27T17:34:43.161729Z"
    }
   },
   "id": "be286a4e20e1adbd",
   "execution_count": 6
  },
  {
   "cell_type": "code",
   "outputs": [
    {
     "name": "stderr",
     "output_type": "stream",
     "text": [
      "C:\\Users\\agusd\\AppData\\Local\\Temp\\ipykernel_27324\\3193206234.py:1: SettingWithCopyWarning: \n",
      "A value is trying to be set on a copy of a slice from a DataFrame.\n",
      "Try using .loc[row_indexer,col_indexer] = value instead\n",
      "\n",
      "See the caveats in the documentation: https://pandas.pydata.org/pandas-docs/stable/user_guide/indexing.html#returning-a-view-versus-a-copy\n",
      "  df_exploded_filtered['X'] = df_exploded_filtered['Sequence'].str.split().str[:3]\n",
      "C:\\Users\\agusd\\AppData\\Local\\Temp\\ipykernel_27324\\3193206234.py:2: SettingWithCopyWarning: \n",
      "A value is trying to be set on a copy of a slice from a DataFrame.\n",
      "Try using .loc[row_indexer,col_indexer] = value instead\n",
      "\n",
      "See the caveats in the documentation: https://pandas.pydata.org/pandas-docs/stable/user_guide/indexing.html#returning-a-view-versus-a-copy\n",
      "  df_exploded_filtered['y'] = df_exploded_filtered['Sequence'].str.split().str[3].str[0]\n"
     ]
    },
    {
     "data": {
      "text/plain": "f    0.439085\nb    0.344230\ns    0.097190\nz    0.022977\nr    0.021827\nv    0.021726\no    0.015707\nm    0.010312\ny    0.007156\nl    0.006158\nu    0.005620\nh    0.002010\ni    0.001751\np    0.001556\nj    0.001425\nt    0.000840\nk    0.000329\nq    0.000081\nn    0.000010\nd    0.000003\nw    0.000003\nx    0.000003\nName: y, dtype: float64"
     },
     "execution_count": 8,
     "metadata": {},
     "output_type": "execute_result"
    }
   ],
   "source": [
    "df_exploded_filtered['X'] = df_exploded_filtered['Sequence'].str.split().str[:3]\n",
    "df_exploded_filtered['y'] = df_exploded_filtered['Sequence'].str.split().str[3].str[0]\n",
    "\n",
    "df_exploded_filtered['y'].value_counts(normalize=True)"
   ],
   "metadata": {
    "collapsed": false,
    "ExecuteTime": {
     "end_time": "2024-11-27T17:34:45.677585Z",
     "start_time": "2024-11-27T17:34:44.075739Z"
    }
   },
   "id": "4f635e6cf38a9663",
   "execution_count": 8
  },
  {
   "cell_type": "code",
   "outputs": [
    {
     "name": "stderr",
     "output_type": "stream",
     "text": [
      "C:\\Users\\agusd\\AppData\\Local\\Temp\\ipykernel_27324\\1115539204.py:9: SettingWithCopyWarning: \n",
      "A value is trying to be set on a copy of a slice from a DataFrame.\n",
      "Try using .loc[row_indexer,col_indexer] = value instead\n",
      "\n",
      "See the caveats in the documentation: https://pandas.pydata.org/pandas-docs/stable/user_guide/indexing.html#returning-a-view-versus-a-copy\n",
      "  o_class['y'] = 'o'\n"
     ]
    }
   ],
   "source": [
    "#resample df_exploded_filtered so that f = 40% and s = 30% and b = 30%\n",
    "from sklearn.utils import resample\n",
    "\n",
    "# Separar las clases\n",
    "f_class = df_exploded_filtered[df_exploded_filtered['y'] == 'f']\n",
    "b_class = df_exploded_filtered[df_exploded_filtered['y'] == 'b']\n",
    "s_class = df_exploded_filtered[df_exploded_filtered['y'] == 's']\n",
    "o_class = df_exploded_filtered[~df_exploded_filtered['y'].isin(['f', 'b', 's'])]\n",
    "o_class['y'] = 'o'\n",
    "\n",
    "# Número total de muestras objetivo\n",
    "total_samples = len(df_exploded_filtered)\n",
    "\n",
    "# Calcular el número de muestras para cada clase según las proporciones deseadas\n",
    "f_target = int(total_samples * 0.25)\n",
    "b_target = int(total_samples * 0.25)\n",
    "s_target = int(total_samples * 0.25)\n",
    "o_target = int(total_samples * 0.25)\n",
    "\n",
    "# Aplicar resampling (sobremuestreo o submuestreo)\n",
    "f_resampled = resample(f_class, replace=True, n_samples=f_target, random_state=42)\n",
    "b_resampled = resample(b_class, replace=True, n_samples=b_target, random_state=42)\n",
    "s_resampled = resample(s_class, replace=True, n_samples=s_target, random_state=42)\n",
    "o_resampled = resample(o_class, replace=True, n_samples=o_target, random_state=42)\n",
    "\n",
    "# Combinar las clases resampleadas\n",
    "df_resampled = pd.concat([f_resampled, b_resampled, s_resampled, o_resampled])\n",
    "\n",
    "# Barajar el dataset para mezclar las clases\n",
    "df_resampled = df_resampled.sample(frac=1, random_state=42).reset_index(drop=True)\n",
    "\n",
    "df_exploded_filtered = df_resampled.copy() "
   ],
   "metadata": {
    "collapsed": false,
    "ExecuteTime": {
     "end_time": "2024-11-27T17:37:56.560697Z",
     "start_time": "2024-11-27T17:37:56.203309Z"
    }
   },
   "id": "93a6dea59572c40b",
   "execution_count": 16
  },
  {
   "cell_type": "code",
   "outputs": [
    {
     "data": {
      "text/plain": "             Player              X  y\n0   Daniil Medvedev  [f29, f1, f1]  b\n1      Andy Roddick  [b38, f1, f3]  s\n2  Marco Cecchinato  [b38, b3, f1]  o\n3      Rafael Nadal    [4, f3, f3]  f\n4    Novak Djokovic  [f29, b2, b1]  b",
      "text/html": "<div>\n<style scoped>\n    .dataframe tbody tr th:only-of-type {\n        vertical-align: middle;\n    }\n\n    .dataframe tbody tr th {\n        vertical-align: top;\n    }\n\n    .dataframe thead th {\n        text-align: right;\n    }\n</style>\n<table border=\"1\" class=\"dataframe\">\n  <thead>\n    <tr style=\"text-align: right;\">\n      <th></th>\n      <th>Player</th>\n      <th>X</th>\n      <th>y</th>\n    </tr>\n  </thead>\n  <tbody>\n    <tr>\n      <th>0</th>\n      <td>Daniil Medvedev</td>\n      <td>[f29, f1, f1]</td>\n      <td>b</td>\n    </tr>\n    <tr>\n      <th>1</th>\n      <td>Andy Roddick</td>\n      <td>[b38, f1, f3]</td>\n      <td>s</td>\n    </tr>\n    <tr>\n      <th>2</th>\n      <td>Marco Cecchinato</td>\n      <td>[b38, b3, f1]</td>\n      <td>o</td>\n    </tr>\n    <tr>\n      <th>3</th>\n      <td>Rafael Nadal</td>\n      <td>[4, f3, f3]</td>\n      <td>f</td>\n    </tr>\n    <tr>\n      <th>4</th>\n      <td>Novak Djokovic</td>\n      <td>[f29, b2, b1]</td>\n      <td>b</td>\n    </tr>\n  </tbody>\n</table>\n</div>"
     },
     "execution_count": 17,
     "metadata": {},
     "output_type": "execute_result"
    }
   ],
   "source": [
    "df_exploded_filtered[['Player', 'X', 'y']].head()"
   ],
   "metadata": {
    "collapsed": false,
    "ExecuteTime": {
     "end_time": "2024-11-27T17:37:57.727715Z",
     "start_time": "2024-11-27T17:37:57.699840Z"
    }
   },
   "id": "3cbf7ecda83b3f9e",
   "execution_count": 17
  },
  {
   "cell_type": "code",
   "outputs": [
    {
     "data": {
      "text/plain": "b    0.25\ns    0.25\no    0.25\nf    0.25\nName: y, dtype: float64"
     },
     "execution_count": 18,
     "metadata": {},
     "output_type": "execute_result"
    }
   ],
   "source": [
    "df_exploded_filtered['y'].value_counts(normalize = True)"
   ],
   "metadata": {
    "collapsed": false,
    "ExecuteTime": {
     "end_time": "2024-11-27T17:37:59.309922Z",
     "start_time": "2024-11-27T17:37:59.285388Z"
    }
   },
   "id": "5b3c1e6cafea0fee",
   "execution_count": 18
  },
  {
   "cell_type": "code",
   "outputs": [],
   "source": [
    "from tensorflow.keras.preprocessing.text import Tokenizer\n",
    "from sklearn.preprocessing import LabelEncoder\n",
    "from tensorflow.keras.utils import to_categorical\n",
    "\n",
    "n_steps = 3\n",
    "\n",
    "X = df_exploded_filtered['X']\n",
    "players = df_exploded_filtered['Player']\n",
    "y = df_exploded_filtered['y']\n",
    "\n",
    "# Tokenizador para las secuencias\n",
    "tokenizer = Tokenizer()\n",
    "tokenizer.fit_on_texts([' '.join(seq) for seq in X])\n",
    "X_encoded = tokenizer.texts_to_sequences([' '.join(seq) for seq in X])\n",
    "X_padded = tf.keras.preprocessing.sequence.pad_sequences(X_encoded, maxlen=n_steps)\n",
    "\n",
    "# Codificar jugadores\n",
    "player_encoder = LabelEncoder()\n",
    "players_encoded = player_encoder.fit_transform(players)\n",
    "\n",
    "# Codificar etiquetas (y)\n",
    "label_encoder = LabelEncoder()\n",
    "y_encoded = label_encoder.fit_transform(y)\n",
    "y_categorical = to_categorical(y_encoded)\n"
   ],
   "metadata": {
    "collapsed": false,
    "ExecuteTime": {
     "end_time": "2024-11-27T17:38:17.093333Z",
     "start_time": "2024-11-27T17:38:12.561631Z"
    }
   },
   "id": "c185640032a962ef",
   "execution_count": 19
  },
  {
   "cell_type": "code",
   "outputs": [
    {
     "data": {
      "text/plain": "\u001B[1mModel: \"functional\"\u001B[0m\n",
      "text/html": "<pre style=\"white-space:pre;overflow-x:auto;line-height:normal;font-family:Menlo,'DejaVu Sans Mono',consolas,'Courier New',monospace\"><span style=\"font-weight: bold\">Model: \"functional\"</span>\n</pre>\n"
     },
     "metadata": {},
     "output_type": "display_data"
    },
    {
     "data": {
      "text/plain": "┏━━━━━━━━━━━━━━━━━━━━━┳━━━━━━━━━━━━━━━━━━━┳━━━━━━━━━━━━┳━━━━━━━━━━━━━━━━━━━┓\n┃\u001B[1m \u001B[0m\u001B[1mLayer (type)       \u001B[0m\u001B[1m \u001B[0m┃\u001B[1m \u001B[0m\u001B[1mOutput Shape     \u001B[0m\u001B[1m \u001B[0m┃\u001B[1m \u001B[0m\u001B[1m   Param #\u001B[0m\u001B[1m \u001B[0m┃\u001B[1m \u001B[0m\u001B[1mConnected to     \u001B[0m\u001B[1m \u001B[0m┃\n┡━━━━━━━━━━━━━━━━━━━━━╇━━━━━━━━━━━━━━━━━━━╇━━━━━━━━━━━━╇━━━━━━━━━━━━━━━━━━━┩\n│ sequence_input      │ (\u001B[38;5;45mNone\u001B[0m, \u001B[38;5;34m3\u001B[0m)         │          \u001B[38;5;34m0\u001B[0m │ -                 │\n│ (\u001B[38;5;33mInputLayer\u001B[0m)        │                   │            │                   │\n├─────────────────────┼───────────────────┼────────────┼───────────────────┤\n│ player_input        │ (\u001B[38;5;45mNone\u001B[0m, \u001B[38;5;34m1\u001B[0m)         │          \u001B[38;5;34m0\u001B[0m │ -                 │\n│ (\u001B[38;5;33mInputLayer\u001B[0m)        │                   │            │                   │\n├─────────────────────┼───────────────────┼────────────┼───────────────────┤\n│ embedding           │ (\u001B[38;5;45mNone\u001B[0m, \u001B[38;5;34m3\u001B[0m, \u001B[38;5;34m50\u001B[0m)     │      \u001B[38;5;34m6,900\u001B[0m │ sequence_input[\u001B[38;5;34m0\u001B[0m… │\n│ (\u001B[38;5;33mEmbedding\u001B[0m)         │                   │            │                   │\n├─────────────────────┼───────────────────┼────────────┼───────────────────┤\n│ embedding_1         │ (\u001B[38;5;45mNone\u001B[0m, \u001B[38;5;34m1\u001B[0m, \u001B[38;5;34m5\u001B[0m)      │      \u001B[38;5;34m3,975\u001B[0m │ player_input[\u001B[38;5;34m0\u001B[0m][\u001B[38;5;34m…\u001B[0m │\n│ (\u001B[38;5;33mEmbedding\u001B[0m)         │                   │            │                   │\n├─────────────────────┼───────────────────┼────────────┼───────────────────┤\n│ lstm (\u001B[38;5;33mLSTM\u001B[0m)         │ (\u001B[38;5;45mNone\u001B[0m, \u001B[38;5;34m64\u001B[0m)        │     \u001B[38;5;34m29,440\u001B[0m │ embedding[\u001B[38;5;34m0\u001B[0m][\u001B[38;5;34m0\u001B[0m]   │\n├─────────────────────┼───────────────────┼────────────┼───────────────────┤\n│ flatten (\u001B[38;5;33mFlatten\u001B[0m)   │ (\u001B[38;5;45mNone\u001B[0m, \u001B[38;5;34m5\u001B[0m)         │          \u001B[38;5;34m0\u001B[0m │ embedding_1[\u001B[38;5;34m0\u001B[0m][\u001B[38;5;34m0\u001B[0m] │\n├─────────────────────┼───────────────────┼────────────┼───────────────────┤\n│ concatenate         │ (\u001B[38;5;45mNone\u001B[0m, \u001B[38;5;34m69\u001B[0m)        │          \u001B[38;5;34m0\u001B[0m │ lstm[\u001B[38;5;34m0\u001B[0m][\u001B[38;5;34m0\u001B[0m],       │\n│ (\u001B[38;5;33mConcatenate\u001B[0m)       │                   │            │ flatten[\u001B[38;5;34m0\u001B[0m][\u001B[38;5;34m0\u001B[0m]     │\n├─────────────────────┼───────────────────┼────────────┼───────────────────┤\n│ output (\u001B[38;5;33mDense\u001B[0m)      │ (\u001B[38;5;45mNone\u001B[0m, \u001B[38;5;34m4\u001B[0m)         │        \u001B[38;5;34m280\u001B[0m │ concatenate[\u001B[38;5;34m0\u001B[0m][\u001B[38;5;34m0\u001B[0m] │\n└─────────────────────┴───────────────────┴────────────┴───────────────────┘\n",
      "text/html": "<pre style=\"white-space:pre;overflow-x:auto;line-height:normal;font-family:Menlo,'DejaVu Sans Mono',consolas,'Courier New',monospace\">┏━━━━━━━━━━━━━━━━━━━━━┳━━━━━━━━━━━━━━━━━━━┳━━━━━━━━━━━━┳━━━━━━━━━━━━━━━━━━━┓\n┃<span style=\"font-weight: bold\"> Layer (type)        </span>┃<span style=\"font-weight: bold\"> Output Shape      </span>┃<span style=\"font-weight: bold\">    Param # </span>┃<span style=\"font-weight: bold\"> Connected to      </span>┃\n┡━━━━━━━━━━━━━━━━━━━━━╇━━━━━━━━━━━━━━━━━━━╇━━━━━━━━━━━━╇━━━━━━━━━━━━━━━━━━━┩\n│ sequence_input      │ (<span style=\"color: #00d7ff; text-decoration-color: #00d7ff\">None</span>, <span style=\"color: #00af00; text-decoration-color: #00af00\">3</span>)         │          <span style=\"color: #00af00; text-decoration-color: #00af00\">0</span> │ -                 │\n│ (<span style=\"color: #0087ff; text-decoration-color: #0087ff\">InputLayer</span>)        │                   │            │                   │\n├─────────────────────┼───────────────────┼────────────┼───────────────────┤\n│ player_input        │ (<span style=\"color: #00d7ff; text-decoration-color: #00d7ff\">None</span>, <span style=\"color: #00af00; text-decoration-color: #00af00\">1</span>)         │          <span style=\"color: #00af00; text-decoration-color: #00af00\">0</span> │ -                 │\n│ (<span style=\"color: #0087ff; text-decoration-color: #0087ff\">InputLayer</span>)        │                   │            │                   │\n├─────────────────────┼───────────────────┼────────────┼───────────────────┤\n│ embedding           │ (<span style=\"color: #00d7ff; text-decoration-color: #00d7ff\">None</span>, <span style=\"color: #00af00; text-decoration-color: #00af00\">3</span>, <span style=\"color: #00af00; text-decoration-color: #00af00\">50</span>)     │      <span style=\"color: #00af00; text-decoration-color: #00af00\">6,900</span> │ sequence_input[<span style=\"color: #00af00; text-decoration-color: #00af00\">0</span>… │\n│ (<span style=\"color: #0087ff; text-decoration-color: #0087ff\">Embedding</span>)         │                   │            │                   │\n├─────────────────────┼───────────────────┼────────────┼───────────────────┤\n│ embedding_1         │ (<span style=\"color: #00d7ff; text-decoration-color: #00d7ff\">None</span>, <span style=\"color: #00af00; text-decoration-color: #00af00\">1</span>, <span style=\"color: #00af00; text-decoration-color: #00af00\">5</span>)      │      <span style=\"color: #00af00; text-decoration-color: #00af00\">3,975</span> │ player_input[<span style=\"color: #00af00; text-decoration-color: #00af00\">0</span>][<span style=\"color: #00af00; text-decoration-color: #00af00\">…</span> │\n│ (<span style=\"color: #0087ff; text-decoration-color: #0087ff\">Embedding</span>)         │                   │            │                   │\n├─────────────────────┼───────────────────┼────────────┼───────────────────┤\n│ lstm (<span style=\"color: #0087ff; text-decoration-color: #0087ff\">LSTM</span>)         │ (<span style=\"color: #00d7ff; text-decoration-color: #00d7ff\">None</span>, <span style=\"color: #00af00; text-decoration-color: #00af00\">64</span>)        │     <span style=\"color: #00af00; text-decoration-color: #00af00\">29,440</span> │ embedding[<span style=\"color: #00af00; text-decoration-color: #00af00\">0</span>][<span style=\"color: #00af00; text-decoration-color: #00af00\">0</span>]   │\n├─────────────────────┼───────────────────┼────────────┼───────────────────┤\n│ flatten (<span style=\"color: #0087ff; text-decoration-color: #0087ff\">Flatten</span>)   │ (<span style=\"color: #00d7ff; text-decoration-color: #00d7ff\">None</span>, <span style=\"color: #00af00; text-decoration-color: #00af00\">5</span>)         │          <span style=\"color: #00af00; text-decoration-color: #00af00\">0</span> │ embedding_1[<span style=\"color: #00af00; text-decoration-color: #00af00\">0</span>][<span style=\"color: #00af00; text-decoration-color: #00af00\">0</span>] │\n├─────────────────────┼───────────────────┼────────────┼───────────────────┤\n│ concatenate         │ (<span style=\"color: #00d7ff; text-decoration-color: #00d7ff\">None</span>, <span style=\"color: #00af00; text-decoration-color: #00af00\">69</span>)        │          <span style=\"color: #00af00; text-decoration-color: #00af00\">0</span> │ lstm[<span style=\"color: #00af00; text-decoration-color: #00af00\">0</span>][<span style=\"color: #00af00; text-decoration-color: #00af00\">0</span>],       │\n│ (<span style=\"color: #0087ff; text-decoration-color: #0087ff\">Concatenate</span>)       │                   │            │ flatten[<span style=\"color: #00af00; text-decoration-color: #00af00\">0</span>][<span style=\"color: #00af00; text-decoration-color: #00af00\">0</span>]     │\n├─────────────────────┼───────────────────┼────────────┼───────────────────┤\n│ output (<span style=\"color: #0087ff; text-decoration-color: #0087ff\">Dense</span>)      │ (<span style=\"color: #00d7ff; text-decoration-color: #00d7ff\">None</span>, <span style=\"color: #00af00; text-decoration-color: #00af00\">4</span>)         │        <span style=\"color: #00af00; text-decoration-color: #00af00\">280</span> │ concatenate[<span style=\"color: #00af00; text-decoration-color: #00af00\">0</span>][<span style=\"color: #00af00; text-decoration-color: #00af00\">0</span>] │\n└─────────────────────┴───────────────────┴────────────┴───────────────────┘\n</pre>\n"
     },
     "metadata": {},
     "output_type": "display_data"
    },
    {
     "data": {
      "text/plain": "\u001B[1m Total params: \u001B[0m\u001B[38;5;34m40,595\u001B[0m (158.57 KB)\n",
      "text/html": "<pre style=\"white-space:pre;overflow-x:auto;line-height:normal;font-family:Menlo,'DejaVu Sans Mono',consolas,'Courier New',monospace\"><span style=\"font-weight: bold\"> Total params: </span><span style=\"color: #00af00; text-decoration-color: #00af00\">40,595</span> (158.57 KB)\n</pre>\n"
     },
     "metadata": {},
     "output_type": "display_data"
    },
    {
     "data": {
      "text/plain": "\u001B[1m Trainable params: \u001B[0m\u001B[38;5;34m40,595\u001B[0m (158.57 KB)\n",
      "text/html": "<pre style=\"white-space:pre;overflow-x:auto;line-height:normal;font-family:Menlo,'DejaVu Sans Mono',consolas,'Courier New',monospace\"><span style=\"font-weight: bold\"> Trainable params: </span><span style=\"color: #00af00; text-decoration-color: #00af00\">40,595</span> (158.57 KB)\n</pre>\n"
     },
     "metadata": {},
     "output_type": "display_data"
    },
    {
     "data": {
      "text/plain": "\u001B[1m Non-trainable params: \u001B[0m\u001B[38;5;34m0\u001B[0m (0.00 B)\n",
      "text/html": "<pre style=\"white-space:pre;overflow-x:auto;line-height:normal;font-family:Menlo,'DejaVu Sans Mono',consolas,'Courier New',monospace\"><span style=\"font-weight: bold\"> Non-trainable params: </span><span style=\"color: #00af00; text-decoration-color: #00af00\">0</span> (0.00 B)\n</pre>\n"
     },
     "metadata": {},
     "output_type": "display_data"
    },
    {
     "name": "stdout",
     "output_type": "stream",
     "text": [
      "None\n"
     ]
    }
   ],
   "source": [
    "vocab_size = len(tokenizer.word_index) + 1\n",
    "embedding_dim = 50\n",
    "\n",
    "# Input 1: Secuencia\n",
    "seq_input = Input(shape=(n_steps,), name='sequence_input')\n",
    "embedding = Embedding(input_dim=vocab_size, output_dim=embedding_dim)(seq_input)\n",
    "lstm = LSTM(64)(embedding)\n",
    "\n",
    "# Input 2: Jugador\n",
    "player_input = Input(shape=(1,), name='player_input')\n",
    "player_embedding = Embedding(input_dim=len(player_encoder.classes_), output_dim=5)(player_input)\n",
    "player_flattened = tf.keras.layers.Flatten()(player_embedding)\n",
    "\n",
    "# Combinar ambas entradas\n",
    "combined = Concatenate()([lstm, player_flattened])\n",
    "\n",
    "# Salida\n",
    "output = Dense(y_categorical.shape[1], activation='softmax', name='output')(combined)\n",
    "\n",
    "# Crear modelo\n",
    "model = Model(inputs=[seq_input, player_input], outputs=output)\n",
    "model.compile(optimizer='adam', loss='categorical_crossentropy', metrics=['accuracy'])"
   ],
   "metadata": {
    "collapsed": false,
    "ExecuteTime": {
     "end_time": "2024-11-27T17:38:17.732676Z",
     "start_time": "2024-11-27T17:38:17.094333Z"
    }
   },
   "id": "44b56a861161142a",
   "execution_count": 20
  },
  {
   "cell_type": "code",
   "outputs": [
    {
     "name": "stdout",
     "output_type": "stream",
     "text": [
      "Epoch 1/10\n"
     ]
    },
    {
     "name": "stderr",
     "output_type": "stream",
     "text": [
      "C:\\Users\\agusd\\AppData\\Local\\Packages\\PythonSoftwareFoundation.Python.3.10_qbz5n2kfra8p0\\LocalCache\\local-packages\\Python310\\site-packages\\keras\\src\\models\\functional.py:225: UserWarning: The structure of `inputs` doesn't match the expected structure: ['sequence_input', 'player_input']. Received: the structure of inputs=('*', '*')\n",
      "  warnings.warn(\n"
     ]
    },
    {
     "name": "stdout",
     "output_type": "stream",
     "text": [
      "\u001B[1m7438/7438\u001B[0m \u001B[32m━━━━━━━━━━━━━━━━━━━━\u001B[0m\u001B[37m\u001B[0m \u001B[1m14s\u001B[0m 2ms/step - accuracy: 0.4118 - loss: 1.2586 - val_accuracy: 0.4372 - val_loss: 1.2189\n",
      "Epoch 2/10\n",
      "\u001B[1m7438/7438\u001B[0m \u001B[32m━━━━━━━━━━━━━━━━━━━━\u001B[0m\u001B[37m\u001B[0m \u001B[1m11s\u001B[0m 1ms/step - accuracy: 0.4416 - loss: 1.2173 - val_accuracy: 0.4433 - val_loss: 1.2154\n",
      "Epoch 3/10\n",
      "\u001B[1m7438/7438\u001B[0m \u001B[32m━━━━━━━━━━━━━━━━━━━━\u001B[0m\u001B[37m\u001B[0m \u001B[1m11s\u001B[0m 2ms/step - accuracy: 0.4476 - loss: 1.2082 - val_accuracy: 0.4445 - val_loss: 1.2123\n",
      "Epoch 4/10\n",
      "\u001B[1m7438/7438\u001B[0m \u001B[32m━━━━━━━━━━━━━━━━━━━━\u001B[0m\u001B[37m\u001B[0m \u001B[1m12s\u001B[0m 2ms/step - accuracy: 0.4472 - loss: 1.2063 - val_accuracy: 0.4456 - val_loss: 1.2102\n",
      "Epoch 5/10\n",
      "\u001B[1m7438/7438\u001B[0m \u001B[32m━━━━━━━━━━━━━━━━━━━━\u001B[0m\u001B[37m\u001B[0m \u001B[1m12s\u001B[0m 2ms/step - accuracy: 0.4489 - loss: 1.2055 - val_accuracy: 0.4454 - val_loss: 1.2075\n",
      "Epoch 6/10\n",
      "\u001B[1m7438/7438\u001B[0m \u001B[32m━━━━━━━━━━━━━━━━━━━━\u001B[0m\u001B[37m\u001B[0m \u001B[1m11s\u001B[0m 2ms/step - accuracy: 0.4538 - loss: 1.1991 - val_accuracy: 0.4468 - val_loss: 1.2063\n",
      "Epoch 7/10\n",
      "\u001B[1m7438/7438\u001B[0m \u001B[32m━━━━━━━━━━━━━━━━━━━━\u001B[0m\u001B[37m\u001B[0m \u001B[1m12s\u001B[0m 2ms/step - accuracy: 0.4551 - loss: 1.1943 - val_accuracy: 0.4500 - val_loss: 1.2030\n",
      "Epoch 8/10\n",
      "\u001B[1m7438/7438\u001B[0m \u001B[32m━━━━━━━━━━━━━━━━━━━━\u001B[0m\u001B[37m\u001B[0m \u001B[1m12s\u001B[0m 2ms/step - accuracy: 0.4574 - loss: 1.1896 - val_accuracy: 0.4495 - val_loss: 1.2012\n",
      "Epoch 9/10\n",
      "\u001B[1m7438/7438\u001B[0m \u001B[32m━━━━━━━━━━━━━━━━━━━━\u001B[0m\u001B[37m\u001B[0m \u001B[1m12s\u001B[0m 2ms/step - accuracy: 0.4610 - loss: 1.1848 - val_accuracy: 0.4520 - val_loss: 1.1982\n",
      "Epoch 10/10\n",
      "\u001B[1m7438/7438\u001B[0m \u001B[32m━━━━━━━━━━━━━━━━━━━━\u001B[0m\u001B[37m\u001B[0m \u001B[1m11s\u001B[0m 2ms/step - accuracy: 0.4602 - loss: 1.1827 - val_accuracy: 0.4539 - val_loss: 1.1957\n"
     ]
    }
   ],
   "source": [
    "# Dividir en conjuntos de entrenamiento y prueba\n",
    "from sklearn.model_selection import train_test_split\n",
    "\n",
    "X_train, X_test, y_train, y_test, players_train, players_test = train_test_split(\n",
    "    X_padded, y_categorical, players_encoded, test_size=0.2, random_state=42\n",
    ")\n",
    "\n",
    "# Entrenar el modelo\n",
    "history = model.fit(\n",
    "    [X_train, players_train],\n",
    "    y_train,\n",
    "    validation_data=([X_test, players_test], y_test),\n",
    "    epochs=10,\n",
    "    batch_size=32\n",
    ")\n"
   ],
   "metadata": {
    "collapsed": false,
    "ExecuteTime": {
     "end_time": "2024-11-27T17:40:15.792627Z",
     "start_time": "2024-11-27T17:38:17.733676Z"
    }
   },
   "id": "d4a57be5c87deada",
   "execution_count": 21
  },
  {
   "cell_type": "code",
   "outputs": [
    {
     "name": "stdout",
     "output_type": "stream",
     "text": [
      "\u001B[1m1860/1860\u001B[0m \u001B[32m━━━━━━━━━━━━━━━━━━━━\u001B[0m\u001B[37m\u001B[0m \u001B[1m2s\u001B[0m 869us/step - accuracy: 0.4535 - loss: 1.1932\n",
      "Test Loss: 1.1957441568374634, Test Accuracy: 0.4539022445678711\n"
     ]
    }
   ],
   "source": [
    "# Predecir el próximo golpe\n",
    "def predict_next_shot(sequence, player):\n",
    "    # Preprocesar entrada\n",
    "    seq_encoded = tokenizer.texts_to_sequences([sequence])\n",
    "    seq_padded = tf.keras.preprocessing.sequence.pad_sequences(seq_encoded, maxlen=n_steps)\n",
    "    player_encoded = player_encoder.transform([player])\n",
    "    \n",
    "    # Hacer predicción\n",
    "    prediction = model.predict([seq_padded, player_encoded])[0]  # Vector de probabilidades para la fila\n",
    "    \n",
    "    # Mapear índices a las clases\n",
    "    class_probabilities = {label_encoder.inverse_transform([i])[0]: prob for i, prob in enumerate(prediction)}\n",
    "    return class_probabilities\n",
    "\n",
    "# Evaluar en el conjunto de prueba\n",
    "loss, accuracy = model.evaluate([X_test, players_test], y_test)\n",
    "print(f\"Test Loss: {loss}, Test Accuracy: {accuracy}\")"
   ],
   "metadata": {
    "collapsed": false,
    "ExecuteTime": {
     "end_time": "2024-11-27T17:40:56.762911Z",
     "start_time": "2024-11-27T17:40:55.079147Z"
    }
   },
   "id": "9ea235641efe87bc",
   "execution_count": 22
  },
  {
   "cell_type": "code",
   "outputs": [
    {
     "name": "stdout",
     "output_type": "stream",
     "text": [
      "\u001B[1m1/1\u001B[0m \u001B[32m━━━━━━━━━━━━━━━━━━━━\u001B[0m\u001B[37m\u001B[0m \u001B[1m0s\u001B[0m 134ms/step\n",
      "{'b': 0.1681054, 'f': 0.114540145, 'o': 0.1543693, 's': 0.5629852}\n",
      "\u001B[1m1/1\u001B[0m \u001B[32m━━━━━━━━━━━━━━━━━━━━\u001B[0m\u001B[37m\u001B[0m \u001B[1m0s\u001B[0m 19ms/step\n"
     ]
    },
    {
     "name": "stderr",
     "output_type": "stream",
     "text": [
      "C:\\Users\\agusd\\AppData\\Local\\Packages\\PythonSoftwareFoundation.Python.3.10_qbz5n2kfra8p0\\LocalCache\\local-packages\\Python310\\site-packages\\keras\\src\\models\\functional.py:225: UserWarning: The structure of `inputs` doesn't match the expected structure: ['sequence_input', 'player_input']. Received: the structure of inputs=('*', '*')\n",
      "  warnings.warn(\n"
     ]
    },
    {
     "name": "stdout",
     "output_type": "stream",
     "text": [
      "{'b': 0.3073151, 'f': 0.15559845, 'o': 0.2078012, 's': 0.32928523}\n",
      "\u001B[1m1/1\u001B[0m \u001B[32m━━━━━━━━━━━━━━━━━━━━\u001B[0m\u001B[37m\u001B[0m \u001B[1m0s\u001B[0m 18ms/step\n",
      "{'b': 0.25600618, 'f': 0.14888479, 'o': 0.121123426, 's': 0.47398558}\n"
     ]
    }
   ],
   "source": [
    "secuencia = ['f2', 's2', 'f2']\n",
    "\n",
    "print(predict_next_shot(secuencia, \"Roger Federer\"))\n",
    "print(predict_next_shot(secuencia, \"Novak Djokovic\"))\n",
    "print(predict_next_shot(secuencia, \"Rafael Nadal\"))"
   ],
   "metadata": {
    "collapsed": false,
    "ExecuteTime": {
     "end_time": "2024-11-27T17:40:58.046874Z",
     "start_time": "2024-11-27T17:40:57.766524Z"
    }
   },
   "id": "1fa4b61187000a94",
   "execution_count": 23
  },
  {
   "cell_type": "markdown",
   "source": [
    "A priori y sin ningun analisis mas extenso, el output es coherente. Federer (reves a una mano) es mas propenso al slice reves y el que tiene mas p de este golpe.\n",
    "Djokovic, mas polivalente, tiene probabilidades similares.\n",
    "Nadal mas defensivo tambien tiene mas chance de slice de reves."
   ],
   "metadata": {
    "collapsed": false
   },
   "id": "53d3021b68fee8fe"
  }
 ],
 "metadata": {
  "kernelspec": {
   "display_name": "Python 3",
   "language": "python",
   "name": "python3"
  },
  "language_info": {
   "codemirror_mode": {
    "name": "ipython",
    "version": 2
   },
   "file_extension": ".py",
   "mimetype": "text/x-python",
   "name": "python",
   "nbconvert_exporter": "python",
   "pygments_lexer": "ipython2",
   "version": "2.7.6"
  }
 },
 "nbformat": 4,
 "nbformat_minor": 5
}
