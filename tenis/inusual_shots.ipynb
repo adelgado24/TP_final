{
 "cells": [
  {
   "cell_type": "code",
   "execution_count": 44,
   "id": "initial_id",
   "metadata": {
    "collapsed": true,
    "ExecuteTime": {
     "end_time": "2024-11-26T19:55:44.638741Z",
     "start_time": "2024-11-26T19:55:44.625746Z"
    }
   },
   "outputs": [],
   "source": [
    "import pandas as pd\n",
    "import numpy as np\n",
    "import matplotlib.pyplot as plt\n",
    "import seaborn as sns\n",
    "from sklearn.model_selection import train_test_split\n",
    "import chardet\n",
    "import re\n",
    "import warnings\n",
    "import tensorflow as tf\n",
    "from tensorflow import keras\n",
    "from tensorflow.keras import layers\n",
    "from tensorflow.keras import Sequential\n",
    "from tensorflow.keras.layers import Dense, LSTM, Dropout, Embedding, Concatenate, Input, RepeatVector\n",
    "from tensorflow.keras.preprocessing.text import Tokenizer\n",
    "from tensorflow.keras.preprocessing.sequence import pad_sequences\n",
    "from keras.models import Model\n",
    "from keras.optimizers import Adam\n",
    "from sklearn.preprocessing import MinMaxScaler"
   ]
  },
  {
   "cell_type": "code",
   "outputs": [],
   "source": [
    "df_exploded = pd.read_csv('data_output/df_exploded_full.csv')"
   ],
   "metadata": {
    "collapsed": false,
    "ExecuteTime": {
     "end_time": "2024-11-26T19:55:46.479004Z",
     "start_time": "2024-11-26T19:55:44.871798Z"
    }
   },
   "id": "e02dd2ebe23c2eb9",
   "execution_count": 45
  },
  {
   "cell_type": "code",
   "outputs": [
    {
     "data": {
      "text/plain": "(1679050, 9)"
     },
     "execution_count": 46,
     "metadata": {},
     "output_type": "execute_result"
    }
   ],
   "source": [
    "df_exploded.shape"
   ],
   "metadata": {
    "collapsed": false,
    "ExecuteTime": {
     "end_time": "2024-11-26T19:55:46.572294Z",
     "start_time": "2024-11-26T19:55:46.564383Z"
    }
   },
   "id": "a604a20c3055738a",
   "execution_count": 46
  },
  {
   "cell_type": "code",
   "outputs": [
    {
     "name": "stderr",
     "output_type": "stream",
     "text": [
      "C:\\Users\\agusd\\AppData\\Local\\Temp\\ipykernel_11252\\1369187152.py:4: SettingWithCopyWarning: \n",
      "A value is trying to be set on a copy of a slice from a DataFrame.\n",
      "Try using .loc[row_indexer,col_indexer] = value instead\n",
      "\n",
      "See the caveats in the documentation: https://pandas.pydata.org/pandas-docs/stable/user_guide/indexing.html#returning-a-view-versus-a-copy\n",
      "  df_exploded_test['cuarto'] = df_exploded_test['Sequence'].str.split().str[3].apply(\n"
     ]
    },
    {
     "data": {
      "text/plain": "f    0.439085\nb    0.344230\no    0.119495\ns    0.097190\nName: cuarto, dtype: float64"
     },
     "execution_count": 118,
     "metadata": {},
     "output_type": "execute_result"
    }
   ],
   "source": [
    "#Conditional column: where the fourth item in the 'Sequence' column contains 's' new column return 's', when 'b' return 'b', when 'f' return 'f', and when other return 'o'\n",
    "\n",
    "df_exploded_test = df_exploded[df_exploded['Sequence'].str.split().apply(len) > 3]\n",
    "df_exploded_test['cuarto'] = df_exploded_test['Sequence'].str.split().str[3].apply(\n",
    "    lambda x: x[0] if isinstance(x, str) and x[0] in ['s', 'b', 'f'] else 'o'\n",
    ")\n",
    "df_exploded_test['cuarto'].value_counts(normalize=True)"
   ],
   "metadata": {
    "collapsed": false,
    "ExecuteTime": {
     "end_time": "2024-11-26T20:22:57.674609Z",
     "start_time": "2024-11-26T20:22:54.830972Z"
    }
   },
   "id": "7cabb15fb011eeb3",
   "execution_count": 118
  },
  {
   "cell_type": "code",
   "outputs": [
    {
     "name": "stdout",
     "output_type": "stream",
     "text": [
      "Total de filas: 261967\n"
     ]
    }
   ],
   "source": [
    "jugador_elegido = \"Roger Federer\"\n",
    "\n",
    "df_exploded = df_exploded.dropna(subset=['Sequence'])\n",
    "\n",
    "df_exploded_filtered = df_exploded[df_exploded['Sequence'].str.split().apply(len) > 3]\n",
    "# Filter rows where the fourth item in the 'Sequence' column contains 's', 'b', or 'f'\n",
    "df_exploded_filtered = df_exploded_filtered[\n",
    "    df_exploded_filtered['Sequence'].str.split().str[3].str.contains(r'^[sbf]')\n",
    "]\n",
    "\n",
    "print(f\"Total de filas: {df_exploded_filtered.shape[0]}\")"
   ],
   "metadata": {
    "collapsed": false,
    "ExecuteTime": {
     "end_time": "2024-11-26T19:55:57.533822Z",
     "start_time": "2024-11-26T19:55:54.553153Z"
    }
   },
   "id": "3725960c8b5023ad",
   "execution_count": 48
  },
  {
   "cell_type": "code",
   "outputs": [
    {
     "data": {
      "text/plain": "                     Player                            Sequence  \\\n3            Novak Djokovic                          6 f1 s1 f2   \n23           Novak Djokovic                    4 b2 b1 b3 f2 f1   \n24              Ben Shelton                b28 f2 s3 f1 b1 b3n@   \n53              Ben Shelton                     4 f3 f1 f1 f3w@   \n54           Novak Djokovic                        f29 b2 f1 f1   \n...                     ...                                 ...   \n1679003          Luis Ayala     4 s3 s3 f3 s3 s1 f3 s1 m2 s3 m2   \n1679004  Nicola Pietrangeli  b37 s3 b2 f3 b3 f3 s3 r3 b3 s3 o3*   \n1679022          Luis Ayala            6 z3 o2 s3 s1 s2 s3 l2d@   \n1679023  Nicola Pietrangeli               b28 m2 s2 b3 f3 s3 s1   \n1679032  Nicola Pietrangeli                       s38 b3 s1 b3*   \n\n                                                  match_id   Pt  Set1  Set2  \\\n3        20230908-M-US_Open-SF-Novak_Djokovic_-Ben_Shelton    2     0     0   \n23       20230908-M-US_Open-SF-Novak_Djokovic_-Ben_Shelton   11     0     0   \n24       20230908-M-US_Open-SF-Novak_Djokovic_-Ben_Shelton   11     0     0   \n53       20230908-M-US_Open-SF-Novak_Djokovic_-Ben_Shelton   25     0     0   \n54       20230908-M-US_Open-SF-Novak_Djokovic_-Ben_Shelton   25     0     0   \n...                                                    ...  ...   ...   ...   \n1679003  19600529-M-Roland_Garros-F-Nicola_Pietrangeli-...  155     1     1   \n1679004  19600529-M-Roland_Garros-F-Nicola_Pietrangeli-...  155     1     1   \n1679022  19600529-M-Roland_Garros-F-Nicola_Pietrangeli-...  164     1     1   \n1679023  19600529-M-Roland_Garros-F-Nicola_Pietrangeli-...  164     1     1   \n1679032  19600529-M-Roland_Garros-F-Nicola_Pietrangeli-...  167     1     1   \n\n         Gm1  Gm2    Pts              X  y  \n3        0.0  0.0   15-0    [6, f1, s1]  f  \n23       1.0  1.0    0-0    [4, b2, b1]  b  \n24       1.0  1.0    0-0  [b28, f2, s3]  f  \n53       3.0  2.0    0-0    [4, f3, f1]  f  \n54       3.0  2.0    0-0  [f29, b2, f1]  f  \n...      ...  ...    ...            ... ..  \n1679003  3.0  4.0  15-30    [4, s3, s3]  f  \n1679004  3.0  4.0  15-30  [b37, s3, b2]  f  \n1679022  5.0  4.0  15-15    [6, z3, o2]  s  \n1679023  5.0  4.0  15-15  [b28, m2, s2]  b  \n1679032  5.0  4.0  40-30  [s38, b3, s1]  b  \n\n[261967 rows x 11 columns]",
      "text/html": "<div>\n<style scoped>\n    .dataframe tbody tr th:only-of-type {\n        vertical-align: middle;\n    }\n\n    .dataframe tbody tr th {\n        vertical-align: top;\n    }\n\n    .dataframe thead th {\n        text-align: right;\n    }\n</style>\n<table border=\"1\" class=\"dataframe\">\n  <thead>\n    <tr style=\"text-align: right;\">\n      <th></th>\n      <th>Player</th>\n      <th>Sequence</th>\n      <th>match_id</th>\n      <th>Pt</th>\n      <th>Set1</th>\n      <th>Set2</th>\n      <th>Gm1</th>\n      <th>Gm2</th>\n      <th>Pts</th>\n      <th>X</th>\n      <th>y</th>\n    </tr>\n  </thead>\n  <tbody>\n    <tr>\n      <th>3</th>\n      <td>Novak Djokovic</td>\n      <td>6 f1 s1 f2</td>\n      <td>20230908-M-US_Open-SF-Novak_Djokovic_-Ben_Shelton</td>\n      <td>2</td>\n      <td>0</td>\n      <td>0</td>\n      <td>0.0</td>\n      <td>0.0</td>\n      <td>15-0</td>\n      <td>[6, f1, s1]</td>\n      <td>f</td>\n    </tr>\n    <tr>\n      <th>23</th>\n      <td>Novak Djokovic</td>\n      <td>4 b2 b1 b3 f2 f1</td>\n      <td>20230908-M-US_Open-SF-Novak_Djokovic_-Ben_Shelton</td>\n      <td>11</td>\n      <td>0</td>\n      <td>0</td>\n      <td>1.0</td>\n      <td>1.0</td>\n      <td>0-0</td>\n      <td>[4, b2, b1]</td>\n      <td>b</td>\n    </tr>\n    <tr>\n      <th>24</th>\n      <td>Ben Shelton</td>\n      <td>b28 f2 s3 f1 b1 b3n@</td>\n      <td>20230908-M-US_Open-SF-Novak_Djokovic_-Ben_Shelton</td>\n      <td>11</td>\n      <td>0</td>\n      <td>0</td>\n      <td>1.0</td>\n      <td>1.0</td>\n      <td>0-0</td>\n      <td>[b28, f2, s3]</td>\n      <td>f</td>\n    </tr>\n    <tr>\n      <th>53</th>\n      <td>Ben Shelton</td>\n      <td>4 f3 f1 f1 f3w@</td>\n      <td>20230908-M-US_Open-SF-Novak_Djokovic_-Ben_Shelton</td>\n      <td>25</td>\n      <td>0</td>\n      <td>0</td>\n      <td>3.0</td>\n      <td>2.0</td>\n      <td>0-0</td>\n      <td>[4, f3, f1]</td>\n      <td>f</td>\n    </tr>\n    <tr>\n      <th>54</th>\n      <td>Novak Djokovic</td>\n      <td>f29 b2 f1 f1</td>\n      <td>20230908-M-US_Open-SF-Novak_Djokovic_-Ben_Shelton</td>\n      <td>25</td>\n      <td>0</td>\n      <td>0</td>\n      <td>3.0</td>\n      <td>2.0</td>\n      <td>0-0</td>\n      <td>[f29, b2, f1]</td>\n      <td>f</td>\n    </tr>\n    <tr>\n      <th>...</th>\n      <td>...</td>\n      <td>...</td>\n      <td>...</td>\n      <td>...</td>\n      <td>...</td>\n      <td>...</td>\n      <td>...</td>\n      <td>...</td>\n      <td>...</td>\n      <td>...</td>\n      <td>...</td>\n    </tr>\n    <tr>\n      <th>1679003</th>\n      <td>Luis Ayala</td>\n      <td>4 s3 s3 f3 s3 s1 f3 s1 m2 s3 m2</td>\n      <td>19600529-M-Roland_Garros-F-Nicola_Pietrangeli-...</td>\n      <td>155</td>\n      <td>1</td>\n      <td>1</td>\n      <td>3.0</td>\n      <td>4.0</td>\n      <td>15-30</td>\n      <td>[4, s3, s3]</td>\n      <td>f</td>\n    </tr>\n    <tr>\n      <th>1679004</th>\n      <td>Nicola Pietrangeli</td>\n      <td>b37 s3 b2 f3 b3 f3 s3 r3 b3 s3 o3*</td>\n      <td>19600529-M-Roland_Garros-F-Nicola_Pietrangeli-...</td>\n      <td>155</td>\n      <td>1</td>\n      <td>1</td>\n      <td>3.0</td>\n      <td>4.0</td>\n      <td>15-30</td>\n      <td>[b37, s3, b2]</td>\n      <td>f</td>\n    </tr>\n    <tr>\n      <th>1679022</th>\n      <td>Luis Ayala</td>\n      <td>6 z3 o2 s3 s1 s2 s3 l2d@</td>\n      <td>19600529-M-Roland_Garros-F-Nicola_Pietrangeli-...</td>\n      <td>164</td>\n      <td>1</td>\n      <td>1</td>\n      <td>5.0</td>\n      <td>4.0</td>\n      <td>15-15</td>\n      <td>[6, z3, o2]</td>\n      <td>s</td>\n    </tr>\n    <tr>\n      <th>1679023</th>\n      <td>Nicola Pietrangeli</td>\n      <td>b28 m2 s2 b3 f3 s3 s1</td>\n      <td>19600529-M-Roland_Garros-F-Nicola_Pietrangeli-...</td>\n      <td>164</td>\n      <td>1</td>\n      <td>1</td>\n      <td>5.0</td>\n      <td>4.0</td>\n      <td>15-15</td>\n      <td>[b28, m2, s2]</td>\n      <td>b</td>\n    </tr>\n    <tr>\n      <th>1679032</th>\n      <td>Nicola Pietrangeli</td>\n      <td>s38 b3 s1 b3*</td>\n      <td>19600529-M-Roland_Garros-F-Nicola_Pietrangeli-...</td>\n      <td>167</td>\n      <td>1</td>\n      <td>1</td>\n      <td>5.0</td>\n      <td>4.0</td>\n      <td>40-30</td>\n      <td>[s38, b3, s1]</td>\n      <td>b</td>\n    </tr>\n  </tbody>\n</table>\n<p>261967 rows × 11 columns</p>\n</div>"
     },
     "execution_count": 112,
     "metadata": {},
     "output_type": "execute_result"
    }
   ],
   "source": [
    "df_exploded_filtered"
   ],
   "metadata": {
    "collapsed": false,
    "ExecuteTime": {
     "end_time": "2024-11-26T20:19:28.498479Z",
     "start_time": "2024-11-26T20:19:28.481474Z"
    }
   },
   "id": "be286a4e20e1adbd",
   "execution_count": 112
  },
  {
   "cell_type": "code",
   "outputs": [
    {
     "data": {
      "text/plain": "f    0.498673\nb    0.390946\ns    0.110380\nName: Sequence, dtype: float64"
     },
     "execution_count": 49,
     "metadata": {},
     "output_type": "execute_result"
    }
   ],
   "source": [
    "df_exploded_filtered['Sequence'].str.split().str[3].str[0].value_counts(normalize=True)"
   ],
   "metadata": {
    "collapsed": false,
    "ExecuteTime": {
     "end_time": "2024-11-26T19:56:01.387860Z",
     "start_time": "2024-11-26T19:56:00.969533Z"
    }
   },
   "id": "4c00fac872e5d4d3",
   "execution_count": 49
  },
  {
   "cell_type": "code",
   "outputs": [
    {
     "data": {
      "text/plain": "f    0.498673\nb    0.390946\ns    0.110380\nName: y, dtype: float64"
     },
     "execution_count": 59,
     "metadata": {},
     "output_type": "execute_result"
    }
   ],
   "source": [
    "df_exploded_filtered['X'] = df_exploded_filtered['Sequence'].str.split().str[:3]\n",
    "df_exploded_filtered['y'] = df_exploded_filtered['Sequence'].str.split().str[3].str[0]\n",
    "\n",
    "df_exploded_filtered['y'].value_counts(normalize=True)"
   ],
   "metadata": {
    "collapsed": false,
    "ExecuteTime": {
     "end_time": "2024-11-26T20:00:03.707488Z",
     "start_time": "2024-11-26T20:00:02.309258Z"
    }
   },
   "id": "4f635e6cf38a9663",
   "execution_count": 59
  },
  {
   "cell_type": "code",
   "outputs": [],
   "source": [
    "#resample df_exploded_filtered so that f = 40% and s = 30% and b = 30%\n",
    "from sklearn.utils import resample\n",
    "\n",
    "# Separar las clases\n",
    "f_class = df_exploded_filtered[df_exploded_filtered['y'] == 'f']\n",
    "b_class = df_exploded_filtered[df_exploded_filtered['y'] == 'b']\n",
    "s_class = df_exploded_filtered[df_exploded_filtered['y'] == 's']\n",
    "\n",
    "# Número total de muestras objetivo\n",
    "total_samples = len(df_exploded_filtered)\n",
    "\n",
    "# Calcular el número de muestras para cada clase según las proporciones deseadas\n",
    "f_target = int(total_samples * 0.4)\n",
    "b_target = int(total_samples * 0.35)\n",
    "s_target = int(total_samples * 0.25)\n",
    "\n",
    "# Aplicar resampling (sobremuestreo o submuestreo)\n",
    "f_resampled = resample(f_class, replace=True, n_samples=f_target, random_state=42)\n",
    "b_resampled = resample(b_class, replace=True, n_samples=b_target, random_state=42)\n",
    "s_resampled = resample(s_class, replace=True, n_samples=s_target, random_state=42)\n",
    "\n",
    "# Combinar las clases resampleadas\n",
    "df_resampled = pd.concat([f_resampled, b_resampled, s_resampled])\n",
    "\n",
    "# Barajar el dataset para mezclar las clases\n",
    "df_resampled = df_resampled.sample(frac=1, random_state=42).reset_index(drop=True)\n",
    "\n",
    "df_exploded_filtered = df_resampled.copy() "
   ],
   "metadata": {
    "collapsed": false,
    "ExecuteTime": {
     "end_time": "2024-11-26T20:25:54.620226Z",
     "start_time": "2024-11-26T20:25:54.347165Z"
    }
   },
   "id": "93a6dea59572c40b",
   "execution_count": 121
  },
  {
   "cell_type": "code",
   "outputs": [
    {
     "data": {
      "text/plain": "             Player              X  y\n0  Vitas Gerulaitis    [6, f3, s3]  s\n1      Rafael Nadal    [6, s2, f2]  b\n2     Jimmy Connors  [f38, f1, f3]  b\n3     Roger Federer  [f38, b2, f1]  b\n4     Stefan Edberg  [s38, s2, f2]  s",
      "text/html": "<div>\n<style scoped>\n    .dataframe tbody tr th:only-of-type {\n        vertical-align: middle;\n    }\n\n    .dataframe tbody tr th {\n        vertical-align: top;\n    }\n\n    .dataframe thead th {\n        text-align: right;\n    }\n</style>\n<table border=\"1\" class=\"dataframe\">\n  <thead>\n    <tr style=\"text-align: right;\">\n      <th></th>\n      <th>Player</th>\n      <th>X</th>\n      <th>y</th>\n    </tr>\n  </thead>\n  <tbody>\n    <tr>\n      <th>0</th>\n      <td>Vitas Gerulaitis</td>\n      <td>[6, f3, s3]</td>\n      <td>s</td>\n    </tr>\n    <tr>\n      <th>1</th>\n      <td>Rafael Nadal</td>\n      <td>[6, s2, f2]</td>\n      <td>b</td>\n    </tr>\n    <tr>\n      <th>2</th>\n      <td>Jimmy Connors</td>\n      <td>[f38, f1, f3]</td>\n      <td>b</td>\n    </tr>\n    <tr>\n      <th>3</th>\n      <td>Roger Federer</td>\n      <td>[f38, b2, f1]</td>\n      <td>b</td>\n    </tr>\n    <tr>\n      <th>4</th>\n      <td>Stefan Edberg</td>\n      <td>[s38, s2, f2]</td>\n      <td>s</td>\n    </tr>\n  </tbody>\n</table>\n</div>"
     },
     "execution_count": 122,
     "metadata": {},
     "output_type": "execute_result"
    }
   ],
   "source": [
    "df_exploded_filtered[['Player', 'X', 'y']].head()"
   ],
   "metadata": {
    "collapsed": false,
    "ExecuteTime": {
     "end_time": "2024-11-26T20:25:54.807268Z",
     "start_time": "2024-11-26T20:25:54.789264Z"
    }
   },
   "id": "3cbf7ecda83b3f9e",
   "execution_count": 122
  },
  {
   "cell_type": "code",
   "outputs": [],
   "source": [
    "from tensorflow.keras.preprocessing.text import Tokenizer\n",
    "from sklearn.preprocessing import LabelEncoder\n",
    "from tensorflow.keras.utils import to_categorical\n",
    "\n",
    "n_steps = 3\n",
    "\n",
    "X = df_exploded_filtered['X']\n",
    "players = df_exploded_filtered['Player']\n",
    "y = df_exploded_filtered['y']\n",
    "\n",
    "# Tokenizador para las secuencias\n",
    "tokenizer = Tokenizer()\n",
    "tokenizer.fit_on_texts([' '.join(seq) for seq in X])\n",
    "X_encoded = tokenizer.texts_to_sequences([' '.join(seq) for seq in X])\n",
    "X_padded = tf.keras.preprocessing.sequence.pad_sequences(X_encoded, maxlen=n_steps)\n",
    "\n",
    "# Codificar jugadores\n",
    "player_encoder = LabelEncoder()\n",
    "players_encoded = player_encoder.fit_transform(players)\n",
    "\n",
    "# Codificar etiquetas (y)\n",
    "label_encoder = LabelEncoder()\n",
    "y_encoded = label_encoder.fit_transform(y)\n",
    "y_categorical = to_categorical(y_encoded)\n"
   ],
   "metadata": {
    "collapsed": false,
    "ExecuteTime": {
     "end_time": "2024-11-26T20:26:01.453434Z",
     "start_time": "2024-11-26T20:25:57.196481Z"
    }
   },
   "id": "c185640032a962ef",
   "execution_count": 123
  },
  {
   "cell_type": "code",
   "outputs": [
    {
     "data": {
      "text/plain": "\u001B[1mModel: \"functional_1\"\u001B[0m\n",
      "text/html": "<pre style=\"white-space:pre;overflow-x:auto;line-height:normal;font-family:Menlo,'DejaVu Sans Mono',consolas,'Courier New',monospace\"><span style=\"font-weight: bold\">Model: \"functional_1\"</span>\n</pre>\n"
     },
     "metadata": {},
     "output_type": "display_data"
    },
    {
     "data": {
      "text/plain": "┏━━━━━━━━━━━━━━━━━━━━━┳━━━━━━━━━━━━━━━━━━━┳━━━━━━━━━━━━┳━━━━━━━━━━━━━━━━━━━┓\n┃\u001B[1m \u001B[0m\u001B[1mLayer (type)       \u001B[0m\u001B[1m \u001B[0m┃\u001B[1m \u001B[0m\u001B[1mOutput Shape     \u001B[0m\u001B[1m \u001B[0m┃\u001B[1m \u001B[0m\u001B[1m   Param #\u001B[0m\u001B[1m \u001B[0m┃\u001B[1m \u001B[0m\u001B[1mConnected to     \u001B[0m\u001B[1m \u001B[0m┃\n┡━━━━━━━━━━━━━━━━━━━━━╇━━━━━━━━━━━━━━━━━━━╇━━━━━━━━━━━━╇━━━━━━━━━━━━━━━━━━━┩\n│ sequence_input      │ (\u001B[38;5;45mNone\u001B[0m, \u001B[38;5;34m3\u001B[0m)         │          \u001B[38;5;34m0\u001B[0m │ -                 │\n│ (\u001B[38;5;33mInputLayer\u001B[0m)        │                   │            │                   │\n├─────────────────────┼───────────────────┼────────────┼───────────────────┤\n│ player_input        │ (\u001B[38;5;45mNone\u001B[0m, \u001B[38;5;34m1\u001B[0m)         │          \u001B[38;5;34m0\u001B[0m │ -                 │\n│ (\u001B[38;5;33mInputLayer\u001B[0m)        │                   │            │                   │\n├─────────────────────┼───────────────────┼────────────┼───────────────────┤\n│ embedding_2         │ (\u001B[38;5;45mNone\u001B[0m, \u001B[38;5;34m3\u001B[0m, \u001B[38;5;34m50\u001B[0m)     │      \u001B[38;5;34m7,350\u001B[0m │ sequence_input[\u001B[38;5;34m0\u001B[0m… │\n│ (\u001B[38;5;33mEmbedding\u001B[0m)         │                   │            │                   │\n├─────────────────────┼───────────────────┼────────────┼───────────────────┤\n│ embedding_3         │ (\u001B[38;5;45mNone\u001B[0m, \u001B[38;5;34m1\u001B[0m, \u001B[38;5;34m5\u001B[0m)      │      \u001B[38;5;34m3,965\u001B[0m │ player_input[\u001B[38;5;34m0\u001B[0m][\u001B[38;5;34m…\u001B[0m │\n│ (\u001B[38;5;33mEmbedding\u001B[0m)         │                   │            │                   │\n├─────────────────────┼───────────────────┼────────────┼───────────────────┤\n│ lstm_1 (\u001B[38;5;33mLSTM\u001B[0m)       │ (\u001B[38;5;45mNone\u001B[0m, \u001B[38;5;34m64\u001B[0m)        │     \u001B[38;5;34m29,440\u001B[0m │ embedding_2[\u001B[38;5;34m0\u001B[0m][\u001B[38;5;34m0\u001B[0m] │\n├─────────────────────┼───────────────────┼────────────┼───────────────────┤\n│ flatten_1 (\u001B[38;5;33mFlatten\u001B[0m) │ (\u001B[38;5;45mNone\u001B[0m, \u001B[38;5;34m5\u001B[0m)         │          \u001B[38;5;34m0\u001B[0m │ embedding_3[\u001B[38;5;34m0\u001B[0m][\u001B[38;5;34m0\u001B[0m] │\n├─────────────────────┼───────────────────┼────────────┼───────────────────┤\n│ concatenate_1       │ (\u001B[38;5;45mNone\u001B[0m, \u001B[38;5;34m69\u001B[0m)        │          \u001B[38;5;34m0\u001B[0m │ lstm_1[\u001B[38;5;34m0\u001B[0m][\u001B[38;5;34m0\u001B[0m],     │\n│ (\u001B[38;5;33mConcatenate\u001B[0m)       │                   │            │ flatten_1[\u001B[38;5;34m0\u001B[0m][\u001B[38;5;34m0\u001B[0m]   │\n├─────────────────────┼───────────────────┼────────────┼───────────────────┤\n│ output (\u001B[38;5;33mDense\u001B[0m)      │ (\u001B[38;5;45mNone\u001B[0m, \u001B[38;5;34m3\u001B[0m)         │        \u001B[38;5;34m210\u001B[0m │ concatenate_1[\u001B[38;5;34m0\u001B[0m]… │\n└─────────────────────┴───────────────────┴────────────┴───────────────────┘\n",
      "text/html": "<pre style=\"white-space:pre;overflow-x:auto;line-height:normal;font-family:Menlo,'DejaVu Sans Mono',consolas,'Courier New',monospace\">┏━━━━━━━━━━━━━━━━━━━━━┳━━━━━━━━━━━━━━━━━━━┳━━━━━━━━━━━━┳━━━━━━━━━━━━━━━━━━━┓\n┃<span style=\"font-weight: bold\"> Layer (type)        </span>┃<span style=\"font-weight: bold\"> Output Shape      </span>┃<span style=\"font-weight: bold\">    Param # </span>┃<span style=\"font-weight: bold\"> Connected to      </span>┃\n┡━━━━━━━━━━━━━━━━━━━━━╇━━━━━━━━━━━━━━━━━━━╇━━━━━━━━━━━━╇━━━━━━━━━━━━━━━━━━━┩\n│ sequence_input      │ (<span style=\"color: #00d7ff; text-decoration-color: #00d7ff\">None</span>, <span style=\"color: #00af00; text-decoration-color: #00af00\">3</span>)         │          <span style=\"color: #00af00; text-decoration-color: #00af00\">0</span> │ -                 │\n│ (<span style=\"color: #0087ff; text-decoration-color: #0087ff\">InputLayer</span>)        │                   │            │                   │\n├─────────────────────┼───────────────────┼────────────┼───────────────────┤\n│ player_input        │ (<span style=\"color: #00d7ff; text-decoration-color: #00d7ff\">None</span>, <span style=\"color: #00af00; text-decoration-color: #00af00\">1</span>)         │          <span style=\"color: #00af00; text-decoration-color: #00af00\">0</span> │ -                 │\n│ (<span style=\"color: #0087ff; text-decoration-color: #0087ff\">InputLayer</span>)        │                   │            │                   │\n├─────────────────────┼───────────────────┼────────────┼───────────────────┤\n│ embedding_2         │ (<span style=\"color: #00d7ff; text-decoration-color: #00d7ff\">None</span>, <span style=\"color: #00af00; text-decoration-color: #00af00\">3</span>, <span style=\"color: #00af00; text-decoration-color: #00af00\">50</span>)     │      <span style=\"color: #00af00; text-decoration-color: #00af00\">7,350</span> │ sequence_input[<span style=\"color: #00af00; text-decoration-color: #00af00\">0</span>… │\n│ (<span style=\"color: #0087ff; text-decoration-color: #0087ff\">Embedding</span>)         │                   │            │                   │\n├─────────────────────┼───────────────────┼────────────┼───────────────────┤\n│ embedding_3         │ (<span style=\"color: #00d7ff; text-decoration-color: #00d7ff\">None</span>, <span style=\"color: #00af00; text-decoration-color: #00af00\">1</span>, <span style=\"color: #00af00; text-decoration-color: #00af00\">5</span>)      │      <span style=\"color: #00af00; text-decoration-color: #00af00\">3,965</span> │ player_input[<span style=\"color: #00af00; text-decoration-color: #00af00\">0</span>][<span style=\"color: #00af00; text-decoration-color: #00af00\">…</span> │\n│ (<span style=\"color: #0087ff; text-decoration-color: #0087ff\">Embedding</span>)         │                   │            │                   │\n├─────────────────────┼───────────────────┼────────────┼───────────────────┤\n│ lstm_1 (<span style=\"color: #0087ff; text-decoration-color: #0087ff\">LSTM</span>)       │ (<span style=\"color: #00d7ff; text-decoration-color: #00d7ff\">None</span>, <span style=\"color: #00af00; text-decoration-color: #00af00\">64</span>)        │     <span style=\"color: #00af00; text-decoration-color: #00af00\">29,440</span> │ embedding_2[<span style=\"color: #00af00; text-decoration-color: #00af00\">0</span>][<span style=\"color: #00af00; text-decoration-color: #00af00\">0</span>] │\n├─────────────────────┼───────────────────┼────────────┼───────────────────┤\n│ flatten_1 (<span style=\"color: #0087ff; text-decoration-color: #0087ff\">Flatten</span>) │ (<span style=\"color: #00d7ff; text-decoration-color: #00d7ff\">None</span>, <span style=\"color: #00af00; text-decoration-color: #00af00\">5</span>)         │          <span style=\"color: #00af00; text-decoration-color: #00af00\">0</span> │ embedding_3[<span style=\"color: #00af00; text-decoration-color: #00af00\">0</span>][<span style=\"color: #00af00; text-decoration-color: #00af00\">0</span>] │\n├─────────────────────┼───────────────────┼────────────┼───────────────────┤\n│ concatenate_1       │ (<span style=\"color: #00d7ff; text-decoration-color: #00d7ff\">None</span>, <span style=\"color: #00af00; text-decoration-color: #00af00\">69</span>)        │          <span style=\"color: #00af00; text-decoration-color: #00af00\">0</span> │ lstm_1[<span style=\"color: #00af00; text-decoration-color: #00af00\">0</span>][<span style=\"color: #00af00; text-decoration-color: #00af00\">0</span>],     │\n│ (<span style=\"color: #0087ff; text-decoration-color: #0087ff\">Concatenate</span>)       │                   │            │ flatten_1[<span style=\"color: #00af00; text-decoration-color: #00af00\">0</span>][<span style=\"color: #00af00; text-decoration-color: #00af00\">0</span>]   │\n├─────────────────────┼───────────────────┼────────────┼───────────────────┤\n│ output (<span style=\"color: #0087ff; text-decoration-color: #0087ff\">Dense</span>)      │ (<span style=\"color: #00d7ff; text-decoration-color: #00d7ff\">None</span>, <span style=\"color: #00af00; text-decoration-color: #00af00\">3</span>)         │        <span style=\"color: #00af00; text-decoration-color: #00af00\">210</span> │ concatenate_1[<span style=\"color: #00af00; text-decoration-color: #00af00\">0</span>]… │\n└─────────────────────┴───────────────────┴────────────┴───────────────────┘\n</pre>\n"
     },
     "metadata": {},
     "output_type": "display_data"
    },
    {
     "data": {
      "text/plain": "\u001B[1m Total params: \u001B[0m\u001B[38;5;34m40,965\u001B[0m (160.02 KB)\n",
      "text/html": "<pre style=\"white-space:pre;overflow-x:auto;line-height:normal;font-family:Menlo,'DejaVu Sans Mono',consolas,'Courier New',monospace\"><span style=\"font-weight: bold\"> Total params: </span><span style=\"color: #00af00; text-decoration-color: #00af00\">40,965</span> (160.02 KB)\n</pre>\n"
     },
     "metadata": {},
     "output_type": "display_data"
    },
    {
     "data": {
      "text/plain": "\u001B[1m Trainable params: \u001B[0m\u001B[38;5;34m40,965\u001B[0m (160.02 KB)\n",
      "text/html": "<pre style=\"white-space:pre;overflow-x:auto;line-height:normal;font-family:Menlo,'DejaVu Sans Mono',consolas,'Courier New',monospace\"><span style=\"font-weight: bold\"> Trainable params: </span><span style=\"color: #00af00; text-decoration-color: #00af00\">40,965</span> (160.02 KB)\n</pre>\n"
     },
     "metadata": {},
     "output_type": "display_data"
    },
    {
     "data": {
      "text/plain": "\u001B[1m Non-trainable params: \u001B[0m\u001B[38;5;34m0\u001B[0m (0.00 B)\n",
      "text/html": "<pre style=\"white-space:pre;overflow-x:auto;line-height:normal;font-family:Menlo,'DejaVu Sans Mono',consolas,'Courier New',monospace\"><span style=\"font-weight: bold\"> Non-trainable params: </span><span style=\"color: #00af00; text-decoration-color: #00af00\">0</span> (0.00 B)\n</pre>\n"
     },
     "metadata": {},
     "output_type": "display_data"
    },
    {
     "name": "stdout",
     "output_type": "stream",
     "text": [
      "None\n"
     ]
    }
   ],
   "source": [
    "vocab_size = len(tokenizer.word_index) + 1\n",
    "embedding_dim = 50\n",
    "\n",
    "# Input 1: Secuencia\n",
    "seq_input = Input(shape=(n_steps,), name='sequence_input')\n",
    "embedding = Embedding(input_dim=vocab_size, output_dim=embedding_dim)(seq_input)\n",
    "lstm = LSTM(64)(embedding)\n",
    "\n",
    "# Input 2: Jugador\n",
    "player_input = Input(shape=(1,), name='player_input')\n",
    "player_embedding = Embedding(input_dim=len(player_encoder.classes_), output_dim=5)(player_input)\n",
    "player_flattened = tf.keras.layers.Flatten()(player_embedding)\n",
    "\n",
    "# Combinar ambas entradas\n",
    "combined = Concatenate()([lstm, player_flattened])\n",
    "\n",
    "# Salida\n",
    "output = Dense(y_categorical.shape[1], activation='softmax', name='output')(combined)\n",
    "\n",
    "# Crear modelo\n",
    "model = Model(inputs=[seq_input, player_input], outputs=output)\n",
    "model.compile(optimizer='adam', loss='categorical_crossentropy', metrics=['accuracy'])\n",
    "\n",
    "print(model.summary())\n"
   ],
   "metadata": {
    "collapsed": false,
    "ExecuteTime": {
     "end_time": "2024-11-26T20:26:01.499444Z",
     "start_time": "2024-11-26T20:26:01.454434Z"
    }
   },
   "id": "44b56a861161142a",
   "execution_count": 124
  },
  {
   "cell_type": "code",
   "outputs": [
    {
     "name": "stdout",
     "output_type": "stream",
     "text": [
      "Epoch 1/20\n"
     ]
    },
    {
     "name": "stderr",
     "output_type": "stream",
     "text": [
      "C:\\Users\\agusd\\AppData\\Local\\Packages\\PythonSoftwareFoundation.Python.3.10_qbz5n2kfra8p0\\LocalCache\\local-packages\\Python310\\site-packages\\keras\\src\\models\\functional.py:225: UserWarning: The structure of `inputs` doesn't match the expected structure: ['sequence_input', 'player_input']. Received: the structure of inputs=('*', '*')\n",
      "  warnings.warn(\n"
     ]
    },
    {
     "name": "stdout",
     "output_type": "stream",
     "text": [
      "\u001B[1m6550/6550\u001B[0m \u001B[32m━━━━━━━━━━━━━━━━━━━━\u001B[0m\u001B[37m\u001B[0m \u001B[1m11s\u001B[0m 2ms/step - accuracy: 0.4627 - loss: 1.0264 - val_accuracy: 0.4796 - val_loss: 1.0059\n",
      "Epoch 2/20\n",
      "\u001B[1m6550/6550\u001B[0m \u001B[32m━━━━━━━━━━━━━━━━━━━━\u001B[0m\u001B[37m\u001B[0m \u001B[1m10s\u001B[0m 1ms/step - accuracy: 0.4827 - loss: 1.0033 - val_accuracy: 0.4838 - val_loss: 1.0039\n",
      "Epoch 3/20\n",
      "\u001B[1m6550/6550\u001B[0m \u001B[32m━━━━━━━━━━━━━━━━━━━━\u001B[0m\u001B[37m\u001B[0m \u001B[1m10s\u001B[0m 1ms/step - accuracy: 0.4850 - loss: 1.0009 - val_accuracy: 0.4855 - val_loss: 1.0024\n",
      "Epoch 4/20\n",
      "\u001B[1m6550/6550\u001B[0m \u001B[32m━━━━━━━━━━━━━━━━━━━━\u001B[0m\u001B[37m\u001B[0m \u001B[1m10s\u001B[0m 1ms/step - accuracy: 0.4900 - loss: 0.9972 - val_accuracy: 0.4834 - val_loss: 1.0029\n",
      "Epoch 5/20\n",
      "\u001B[1m6550/6550\u001B[0m \u001B[32m━━━━━━━━━━━━━━━━━━━━\u001B[0m\u001B[37m\u001B[0m \u001B[1m10s\u001B[0m 1ms/step - accuracy: 0.4900 - loss: 0.9959 - val_accuracy: 0.4860 - val_loss: 1.0024\n",
      "Epoch 6/20\n",
      "\u001B[1m6550/6550\u001B[0m \u001B[32m━━━━━━━━━━━━━━━━━━━━\u001B[0m\u001B[37m\u001B[0m \u001B[1m10s\u001B[0m 1ms/step - accuracy: 0.4894 - loss: 0.9960 - val_accuracy: 0.4854 - val_loss: 1.0017\n",
      "Epoch 7/20\n",
      "\u001B[1m6550/6550\u001B[0m \u001B[32m━━━━━━━━━━━━━━━━━━━━\u001B[0m\u001B[37m\u001B[0m \u001B[1m10s\u001B[0m 1ms/step - accuracy: 0.4905 - loss: 0.9954 - val_accuracy: 0.4872 - val_loss: 1.0018\n",
      "Epoch 8/20\n",
      "\u001B[1m6550/6550\u001B[0m \u001B[32m━━━━━━━━━━━━━━━━━━━━\u001B[0m\u001B[37m\u001B[0m \u001B[1m10s\u001B[0m 1ms/step - accuracy: 0.4918 - loss: 0.9932 - val_accuracy: 0.4886 - val_loss: 1.0011\n",
      "Epoch 9/20\n",
      "\u001B[1m6550/6550\u001B[0m \u001B[32m━━━━━━━━━━━━━━━━━━━━\u001B[0m\u001B[37m\u001B[0m \u001B[1m10s\u001B[0m 2ms/step - accuracy: 0.4958 - loss: 0.9911 - val_accuracy: 0.4866 - val_loss: 1.0000\n",
      "Epoch 10/20\n",
      "\u001B[1m6550/6550\u001B[0m \u001B[32m━━━━━━━━━━━━━━━━━━━━\u001B[0m\u001B[37m\u001B[0m \u001B[1m10s\u001B[0m 1ms/step - accuracy: 0.4940 - loss: 0.9899 - val_accuracy: 0.4886 - val_loss: 0.9986\n",
      "Epoch 11/20\n",
      "\u001B[1m6550/6550\u001B[0m \u001B[32m━━━━━━━━━━━━━━━━━━━━\u001B[0m\u001B[37m\u001B[0m \u001B[1m10s\u001B[0m 1ms/step - accuracy: 0.4972 - loss: 0.9865 - val_accuracy: 0.4905 - val_loss: 0.9996\n",
      "Epoch 12/20\n",
      "\u001B[1m6550/6550\u001B[0m \u001B[32m━━━━━━━━━━━━━━━━━━━━\u001B[0m\u001B[37m\u001B[0m \u001B[1m10s\u001B[0m 2ms/step - accuracy: 0.4971 - loss: 0.9861 - val_accuracy: 0.4907 - val_loss: 0.9987\n",
      "Epoch 13/20\n",
      "\u001B[1m6550/6550\u001B[0m \u001B[32m━━━━━━━━━━━━━━━━━━━━\u001B[0m\u001B[37m\u001B[0m \u001B[1m10s\u001B[0m 1ms/step - accuracy: 0.4998 - loss: 0.9839 - val_accuracy: 0.4889 - val_loss: 0.9981\n",
      "Epoch 14/20\n",
      "\u001B[1m6550/6550\u001B[0m \u001B[32m━━━━━━━━━━━━━━━━━━━━\u001B[0m\u001B[37m\u001B[0m \u001B[1m10s\u001B[0m 2ms/step - accuracy: 0.5020 - loss: 0.9800 - val_accuracy: 0.4912 - val_loss: 0.9982\n",
      "Epoch 15/20\n",
      "\u001B[1m6550/6550\u001B[0m \u001B[32m━━━━━━━━━━━━━━━━━━━━\u001B[0m\u001B[37m\u001B[0m \u001B[1m10s\u001B[0m 2ms/step - accuracy: 0.5033 - loss: 0.9792 - val_accuracy: 0.4901 - val_loss: 0.9975\n",
      "Epoch 16/20\n",
      "\u001B[1m6550/6550\u001B[0m \u001B[32m━━━━━━━━━━━━━━━━━━━━\u001B[0m\u001B[37m\u001B[0m \u001B[1m10s\u001B[0m 2ms/step - accuracy: 0.5053 - loss: 0.9759 - val_accuracy: 0.4918 - val_loss: 0.9973\n",
      "Epoch 17/20\n",
      "\u001B[1m6550/6550\u001B[0m \u001B[32m━━━━━━━━━━━━━━━━━━━━\u001B[0m\u001B[37m\u001B[0m \u001B[1m10s\u001B[0m 1ms/step - accuracy: 0.5059 - loss: 0.9757 - val_accuracy: 0.4929 - val_loss: 0.9971\n",
      "Epoch 18/20\n",
      "\u001B[1m6550/6550\u001B[0m \u001B[32m━━━━━━━━━━━━━━━━━━━━\u001B[0m\u001B[37m\u001B[0m \u001B[1m10s\u001B[0m 1ms/step - accuracy: 0.5071 - loss: 0.9719 - val_accuracy: 0.4919 - val_loss: 0.9968\n",
      "Epoch 19/20\n",
      "\u001B[1m6550/6550\u001B[0m \u001B[32m━━━━━━━━━━━━━━━━━━━━\u001B[0m\u001B[37m\u001B[0m \u001B[1m10s\u001B[0m 1ms/step - accuracy: 0.5056 - loss: 0.9718 - val_accuracy: 0.4941 - val_loss: 0.9956\n",
      "Epoch 20/20\n",
      "\u001B[1m6550/6550\u001B[0m \u001B[32m━━━━━━━━━━━━━━━━━━━━\u001B[0m\u001B[37m\u001B[0m \u001B[1m10s\u001B[0m 1ms/step - accuracy: 0.5085 - loss: 0.9697 - val_accuracy: 0.4921 - val_loss: 0.9963\n"
     ]
    }
   ],
   "source": [
    "# Dividir en conjuntos de entrenamiento y prueba\n",
    "from sklearn.model_selection import train_test_split\n",
    "\n",
    "X_train, X_test, y_train, y_test, players_train, players_test = train_test_split(\n",
    "    X_padded, y_categorical, players_encoded, test_size=0.2, random_state=42\n",
    ")\n",
    "\n",
    "# Entrenar el modelo\n",
    "history = model.fit(\n",
    "    [X_train, players_train],\n",
    "    y_train,\n",
    "    validation_data=([X_test, players_test], y_test),\n",
    "    epochs=20,\n",
    "    batch_size=32\n",
    ")\n"
   ],
   "metadata": {
    "collapsed": false,
    "ExecuteTime": {
     "end_time": "2024-11-26T20:29:19.674686Z",
     "start_time": "2024-11-26T20:26:01.500445Z"
    }
   },
   "id": "d4a57be5c87deada",
   "execution_count": 125
  },
  {
   "cell_type": "code",
   "outputs": [
    {
     "name": "stdout",
     "output_type": "stream",
     "text": [
      "\u001B[1m1638/1638\u001B[0m \u001B[32m━━━━━━━━━━━━━━━━━━━━\u001B[0m\u001B[37m\u001B[0m \u001B[1m1s\u001B[0m 824us/step - accuracy: 0.4917 - loss: 0.9970\n",
      "Test Loss: 0.9963498711585999, Test Accuracy: 0.4921458959579468\n"
     ]
    }
   ],
   "source": [
    "# Predecir el próximo golpe\n",
    "def predict_next_shot(sequence, player):\n",
    "    # Preprocesar entrada\n",
    "    seq_encoded = tokenizer.texts_to_sequences([sequence])\n",
    "    seq_padded = tf.keras.preprocessing.sequence.pad_sequences(seq_encoded, maxlen=n_steps)\n",
    "    player_encoded = player_encoder.transform([player])\n",
    "    \n",
    "    # Hacer predicción\n",
    "    prediction = model.predict([seq_padded, player_encoded])[0]  # Vector de probabilidades para la fila\n",
    "    \n",
    "    # Mapear índices a las clases\n",
    "    class_probabilities = {label_encoder.inverse_transform([i])[0]: prob for i, prob in enumerate(prediction)}\n",
    "    return class_probabilities\n",
    "\n",
    "# Evaluar en el conjunto de prueba\n",
    "loss, accuracy = model.evaluate([X_test, players_test], y_test)\n",
    "print(f\"Test Loss: {loss}, Test Accuracy: {accuracy}\")"
   ],
   "metadata": {
    "collapsed": false,
    "ExecuteTime": {
     "end_time": "2024-11-26T20:29:21.087002Z",
     "start_time": "2024-11-26T20:29:19.675686Z"
    }
   },
   "id": "9ea235641efe87bc",
   "execution_count": 126
  },
  {
   "cell_type": "code",
   "outputs": [
    {
     "name": "stdout",
     "output_type": "stream",
     "text": [
      "\u001B[1m1/1\u001B[0m \u001B[32m━━━━━━━━━━━━━━━━━━━━\u001B[0m\u001B[37m\u001B[0m \u001B[1m0s\u001B[0m 133ms/step\n",
      "{'b': 0.15614006, 'f': 0.15875413, 's': 0.68510586}\n",
      "\u001B[1m1/1\u001B[0m \u001B[32m━━━━━━━━━━━━━━━━━━━━\u001B[0m\u001B[37m\u001B[0m \u001B[1m0s\u001B[0m 17ms/step\n"
     ]
    },
    {
     "name": "stderr",
     "output_type": "stream",
     "text": [
      "C:\\Users\\agusd\\AppData\\Local\\Packages\\PythonSoftwareFoundation.Python.3.10_qbz5n2kfra8p0\\LocalCache\\local-packages\\Python310\\site-packages\\keras\\src\\models\\functional.py:225: UserWarning: The structure of `inputs` doesn't match the expected structure: ['sequence_input', 'player_input']. Received: the structure of inputs=('*', '*')\n",
      "  warnings.warn(\n"
     ]
    },
    {
     "name": "stdout",
     "output_type": "stream",
     "text": [
      "{'b': 0.30139023, 'f': 0.23746009, 's': 0.4611497}\n",
      "\u001B[1m1/1\u001B[0m \u001B[32m━━━━━━━━━━━━━━━━━━━━\u001B[0m\u001B[37m\u001B[0m \u001B[1m0s\u001B[0m 19ms/step\n",
      "{'b': 0.23236082, 'f': 0.20397472, 's': 0.5636645}\n"
     ]
    }
   ],
   "source": [
    "secuencia = ['f2', 's2', 'f3']\n",
    "\n",
    "print(predict_next_shot(secuencia, \"Roger Federer\"))\n",
    "print(predict_next_shot(secuencia, \"Novak Djokovic\"))\n",
    "print(predict_next_shot(secuencia, \"Rafael Nadal\"))"
   ],
   "metadata": {
    "collapsed": false,
    "ExecuteTime": {
     "end_time": "2024-11-26T20:29:29.910919Z",
     "start_time": "2024-11-26T20:29:29.643860Z"
    }
   },
   "id": "1fa4b61187000a94",
   "execution_count": 127
  }
 ],
 "metadata": {
  "kernelspec": {
   "display_name": "Python 3",
   "language": "python",
   "name": "python3"
  },
  "language_info": {
   "codemirror_mode": {
    "name": "ipython",
    "version": 2
   },
   "file_extension": ".py",
   "mimetype": "text/x-python",
   "name": "python",
   "nbconvert_exporter": "python",
   "pygments_lexer": "ipython2",
   "version": "2.7.6"
  }
 },
 "nbformat": 4,
 "nbformat_minor": 5
}
