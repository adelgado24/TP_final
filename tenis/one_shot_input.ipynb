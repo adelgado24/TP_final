{
 "cells": [
  {
   "cell_type": "code",
   "execution_count": 7,
   "id": "initial_id",
   "metadata": {
    "collapsed": true,
    "ExecuteTime": {
     "end_time": "2024-11-26T15:58:48.134497Z",
     "start_time": "2024-11-26T15:58:48.125497Z"
    }
   },
   "outputs": [],
   "source": [
    "import pandas as pd\n",
    "import numpy as np\n",
    "import matplotlib.pyplot as plt\n",
    "import seaborn as sns\n",
    "from sklearn.model_selection import train_test_split\n",
    "import chardet\n",
    "import re\n",
    "import warnings\n",
    "import tensorflow as tf\n",
    "from tensorflow import keras\n",
    "from tensorflow.keras import layers\n",
    "from tensorflow.keras import Sequential\n",
    "from tensorflow.keras.layers import Dense, LSTM, Dropout, Embedding, Concatenate, Input\n",
    "import warnings\n",
    "warnings.filterwarnings(\"ignore\", message=\"The structure of `inputs` doesn't match the expected structure\")\n",
    "from tensorflow.keras.preprocessing.sequence import pad_sequences\n",
    "from tensorflow.keras.preprocessing.text import Tokenizer\n",
    "from tensorflow.keras.preprocessing.sequence import pad_sequences\n",
    "from keras.models import Model\n",
    "from keras.optimizers import Adam\n",
    "from sklearn.preprocessing import MinMaxScaler"
   ]
  },
  {
   "cell_type": "code",
   "outputs": [],
   "source": [
    "df = pd.read_csv('data_output/df_exploded_clustered.csv')"
   ],
   "metadata": {
    "collapsed": false,
    "ExecuteTime": {
     "end_time": "2024-11-26T15:58:48.867595Z",
     "start_time": "2024-11-26T15:58:48.172030Z"
    }
   },
   "id": "139b4db0012e00d",
   "execution_count": 8
  },
  {
   "cell_type": "code",
   "outputs": [],
   "source": [
    "df = df[df['Sequence'].apply(lambda x: len(x.split())) >= 2]\n",
    "df = df.sample(frac=0.4, random_state=42)"
   ],
   "metadata": {
    "collapsed": false,
    "ExecuteTime": {
     "end_time": "2024-11-26T15:58:49.225639Z",
     "start_time": "2024-11-26T15:58:48.868595Z"
    }
   },
   "id": "139881b183fd1f53",
   "execution_count": 9
  },
  {
   "cell_type": "code",
   "outputs": [
    {
     "data": {
      "text/plain": "                    Player                   Sequence  \\\n259263       Stan Wawrinka  5 b3 b3 b3 b3 s3 f1 b3 b3   \n491668        John Mcenroe          f28 f1 b2 f3 f1d@   \n259397        Gael Monfils                  6 f1 f1w@   \n271179        Milos Raonic                5 f2 v3 v1*   \n141274  Daniel Elahi Galan                   6 f1 f3*   \n\n                                                 match_id   Pt  Set1  Set2  \\\n259263  20160909-M-US_Open-SF-Stan_Wawrinka-Kei_Nishikori   87     0     1   \n491668  19860826-M-US_Open-R128-John_Mcenroe-Paul_Anna...  122     1     1   \n259397  20160909-M-US_Open-SF-Novak_Djokovic-Gael_Monfils   35     0     0   \n271179  20160125-M-Australian_Open-R16-Stan_Wawrinka-M...  317     2     2   \n141274  20201129-M-Lima_CH-F-Daniel_Elahi_Galan-Thiago...   84     1     0   \n\n        Gm1  Gm2    Pts  cluster  \n259263  3.0  3.0  40-40        1  \n491668  1.0  0.0  AD-40        1  \n259397  5.0  0.0  30-30        2  \n271179  3.0  5.0    0-0        0  \n141274  2.0  5.0   15-0        2  ",
      "text/html": "<div>\n<style scoped>\n    .dataframe tbody tr th:only-of-type {\n        vertical-align: middle;\n    }\n\n    .dataframe tbody tr th {\n        vertical-align: top;\n    }\n\n    .dataframe thead th {\n        text-align: right;\n    }\n</style>\n<table border=\"1\" class=\"dataframe\">\n  <thead>\n    <tr style=\"text-align: right;\">\n      <th></th>\n      <th>Player</th>\n      <th>Sequence</th>\n      <th>match_id</th>\n      <th>Pt</th>\n      <th>Set1</th>\n      <th>Set2</th>\n      <th>Gm1</th>\n      <th>Gm2</th>\n      <th>Pts</th>\n      <th>cluster</th>\n    </tr>\n  </thead>\n  <tbody>\n    <tr>\n      <th>259263</th>\n      <td>Stan Wawrinka</td>\n      <td>5 b3 b3 b3 b3 s3 f1 b3 b3</td>\n      <td>20160909-M-US_Open-SF-Stan_Wawrinka-Kei_Nishikori</td>\n      <td>87</td>\n      <td>0</td>\n      <td>1</td>\n      <td>3.0</td>\n      <td>3.0</td>\n      <td>40-40</td>\n      <td>1</td>\n    </tr>\n    <tr>\n      <th>491668</th>\n      <td>John Mcenroe</td>\n      <td>f28 f1 b2 f3 f1d@</td>\n      <td>19860826-M-US_Open-R128-John_Mcenroe-Paul_Anna...</td>\n      <td>122</td>\n      <td>1</td>\n      <td>1</td>\n      <td>1.0</td>\n      <td>0.0</td>\n      <td>AD-40</td>\n      <td>1</td>\n    </tr>\n    <tr>\n      <th>259397</th>\n      <td>Gael Monfils</td>\n      <td>6 f1 f1w@</td>\n      <td>20160909-M-US_Open-SF-Novak_Djokovic-Gael_Monfils</td>\n      <td>35</td>\n      <td>0</td>\n      <td>0</td>\n      <td>5.0</td>\n      <td>0.0</td>\n      <td>30-30</td>\n      <td>2</td>\n    </tr>\n    <tr>\n      <th>271179</th>\n      <td>Milos Raonic</td>\n      <td>5 f2 v3 v1*</td>\n      <td>20160125-M-Australian_Open-R16-Stan_Wawrinka-M...</td>\n      <td>317</td>\n      <td>2</td>\n      <td>2</td>\n      <td>3.0</td>\n      <td>5.0</td>\n      <td>0-0</td>\n      <td>0</td>\n    </tr>\n    <tr>\n      <th>141274</th>\n      <td>Daniel Elahi Galan</td>\n      <td>6 f1 f3*</td>\n      <td>20201129-M-Lima_CH-F-Daniel_Elahi_Galan-Thiago...</td>\n      <td>84</td>\n      <td>1</td>\n      <td>0</td>\n      <td>2.0</td>\n      <td>5.0</td>\n      <td>15-0</td>\n      <td>2</td>\n    </tr>\n  </tbody>\n</table>\n</div>"
     },
     "execution_count": 10,
     "metadata": {},
     "output_type": "execute_result"
    }
   ],
   "source": [
    "df.head()"
   ],
   "metadata": {
    "collapsed": false,
    "ExecuteTime": {
     "end_time": "2024-11-26T15:58:49.241299Z",
     "start_time": "2024-11-26T15:58:49.226640Z"
    }
   },
   "id": "c02c387d67ce8338",
   "execution_count": 10
  },
  {
   "cell_type": "code",
   "outputs": [],
   "source": [
    "df[['Pt1', 'Pt2']] = df['Pts'].str.split(\"-\", expand=True)\n",
    "# if value in Pt1 or Pt2 isn't 15, 30, 40, or AD, then replace with TB\n",
    "df['Pt1'] = df['Pt1'].apply(lambda x: 55 if x not in ['15', '30', '40'] else x)\n",
    "df['Pt2'] = df['Pt2'].apply(lambda x: 55 if x not in ['15', '30', '40'] else x)"
   ],
   "metadata": {
    "collapsed": false,
    "ExecuteTime": {
     "end_time": "2024-11-26T15:58:49.881380Z",
     "start_time": "2024-11-26T15:58:49.243299Z"
    }
   },
   "id": "bdb29d5f26938f98",
   "execution_count": 11
  },
  {
   "cell_type": "markdown",
   "source": [
    "# Objetivo\n",
    "Determinar que golpes se suelen realizar luego de **un solo** golpe en particular. No a modo de devolucion, sino secuencia de golpes de un mismo jugador."
   ],
   "metadata": {
    "collapsed": false
   },
   "id": "a943e82c35c54de5"
  },
  {
   "cell_type": "markdown",
   "source": [
    "# Preprocesamiento de los datos"
   ],
   "metadata": {
    "collapsed": false
   },
   "id": "316caf561543ecc7"
  },
  {
   "cell_type": "code",
   "outputs": [],
   "source": [
    "context_data = df[['Pt','Pt1', 'Pt2', 'Set1', 'Set2', 'Gm1', 'Gm2', 'cluster']]\n",
    "\n",
    "scaler = MinMaxScaler()\n",
    "context_data_normalized = scaler.fit_transform(context_data)"
   ],
   "metadata": {
    "collapsed": false,
    "ExecuteTime": {
     "end_time": "2024-11-26T15:58:50.242422Z",
     "start_time": "2024-11-26T15:58:49.882381Z"
    }
   },
   "id": "87afb8264843aec4",
   "execution_count": 12
  },
  {
   "cell_type": "code",
   "outputs": [],
   "source": [
    "jugador_elegido = 'Roger Federer'\n",
    "df = df[df['Player'] == jugador_elegido]"
   ],
   "metadata": {
    "collapsed": false,
    "ExecuteTime": {
     "end_time": "2024-11-26T15:58:50.272944Z",
     "start_time": "2024-11-26T15:58:50.243423Z"
    }
   },
   "id": "5c66ea99fd154c5e",
   "execution_count": 13
  },
  {
   "cell_type": "code",
   "outputs": [],
   "source": [
    "tokenizer = Tokenizer()\n",
    "tokenizer.fit_on_texts(df['Sequence'])\n",
    "word_index = tokenizer.word_index\n",
    "vocab_size = len(word_index) + 1 "
   ],
   "metadata": {
    "collapsed": false,
    "ExecuteTime": {
     "end_time": "2024-11-26T15:58:50.367434Z",
     "start_time": "2024-11-26T15:58:50.273946Z"
    }
   },
   "id": "7e3720154394b16f",
   "execution_count": 14
  },
  {
   "cell_type": "code",
   "outputs": [],
   "source": [
    "sequences_tokenized = tokenizer.texts_to_sequences(df['Sequence'])"
   ],
   "metadata": {
    "collapsed": false,
    "ExecuteTime": {
     "end_time": "2024-11-26T15:58:50.444112Z",
     "start_time": "2024-11-26T15:58:50.368435Z"
    }
   },
   "id": "90cfc1dc728e2e43",
   "execution_count": 15
  },
  {
   "cell_type": "code",
   "outputs": [
    {
     "name": "stdout",
     "output_type": "stream",
     "text": [
      "Verificación\n",
      "Entrada X (golpe actual): 7\n",
      "Salida y (siguiente golpe): 2\n"
     ]
    },
    {
     "data": {
      "text/plain": "[7, 2, 2, 39]"
     },
     "execution_count": 16,
     "metadata": {},
     "output_type": "execute_result"
    }
   ],
   "source": [
    "# Preparar X (golpe actual) e y (siguiente golpe) a partir de secuencias\n",
    "X = []\n",
    "y = []\n",
    "context_features = []\n",
    "\n",
    "for seq in sequences_tokenized:\n",
    "    for i in range(len(seq) - 1):\n",
    "        X.append(seq[i])   # Golpe actual\n",
    "        y.append(seq[i + 1])  # Siguiente golpe\n",
    "        context_features.append(context_data_normalized[i])\n",
    "\n",
    "X = np.array(X).reshape(-1, 1)  # Redimensionar X para que sea una matriz de una columna\n",
    "y = np.array(y)\n",
    "X_context = np.array(context_features)\n",
    "\n",
    "print(f\"Verificación\")\n",
    "print(f\"Entrada X (golpe actual): {X[0][0]}\")\n",
    "print(f\"Salida y (siguiente golpe): {y[0]}\")\n",
    "\n",
    "sequences_tokenized[0]"
   ],
   "metadata": {
    "collapsed": false,
    "ExecuteTime": {
     "end_time": "2024-11-26T15:58:50.506125Z",
     "start_time": "2024-11-26T15:58:50.445111Z"
    }
   },
   "id": "5404c5daab4abf78",
   "execution_count": 16
  },
  {
   "cell_type": "markdown",
   "source": [
    "Efectivamente el primer golpe es \"9\" y el siguiente es \"2\""
   ],
   "metadata": {
    "collapsed": false
   },
   "id": "5301c551a1631545"
  },
  {
   "cell_type": "markdown",
   "source": [
    "# Modelo"
   ],
   "metadata": {
    "collapsed": false
   },
   "id": "f5b7f6afc3755a30"
  },
  {
   "cell_type": "code",
   "outputs": [],
   "source": [
    "# Definir la entrada para el golpe actual\n",
    "input_golpe = Input(shape=(1,))\n",
    "embedding_layer = Embedding(input_dim=vocab_size, output_dim=32)(input_golpe)\n",
    "lstm_layer = LSTM(32)(embedding_layer)\n",
    "\n",
    "# Definir la entrada para las características contextuales\n",
    "input_context = Input(shape=(X_context.shape[1],))\n",
    "\n",
    "# Concatenar las dos entradas (golpe actual + contexto)\n",
    "concat_layer = Concatenate()([lstm_layer, input_context])\n",
    "\n",
    "# Añadir una capa densa para la predicción del siguiente golpe\n",
    "output = Dense(vocab_size, activation='softmax')(concat_layer)\n",
    "\n",
    "# Definir el modelo con las dos entradas\n",
    "model = Model(inputs=[input_golpe, input_context], outputs=output)\n",
    "\n",
    "# Compilar el modelo\n",
    "model.compile(optimizer='adam', loss='sparse_categorical_crossentropy', metrics=['accuracy'])"
   ],
   "metadata": {
    "collapsed": false,
    "ExecuteTime": {
     "end_time": "2024-11-26T15:58:50.612807Z",
     "start_time": "2024-11-26T15:58:50.508125Z"
    }
   },
   "id": "c29f1f9d781a030c",
   "execution_count": 17
  },
  {
   "cell_type": "code",
   "outputs": [
    {
     "name": "stdout",
     "output_type": "stream",
     "text": [
      "Epoch 1/10\n",
      "\u001B[1m2053/2053\u001B[0m \u001B[32m━━━━━━━━━━━━━━━━━━━━\u001B[0m\u001B[37m\u001B[0m \u001B[1m2s\u001B[0m 1ms/step - accuracy: 0.1908 - loss: 2.8210 - val_accuracy: 0.1847 - val_loss: 2.9135\n",
      "Epoch 2/10\n",
      "\u001B[1m2053/2053\u001B[0m \u001B[32m━━━━━━━━━━━━━━━━━━━━\u001B[0m\u001B[37m\u001B[0m \u001B[1m2s\u001B[0m 1ms/step - accuracy: 0.1905 - loss: 2.8041 - val_accuracy: 0.1858 - val_loss: 2.9123\n",
      "Epoch 3/10\n",
      "\u001B[1m2053/2053\u001B[0m \u001B[32m━━━━━━━━━━━━━━━━━━━━\u001B[0m\u001B[37m\u001B[0m \u001B[1m2s\u001B[0m 1ms/step - accuracy: 0.1934 - loss: 2.7982 - val_accuracy: 0.1842 - val_loss: 2.9134\n",
      "Epoch 4/10\n",
      "\u001B[1m2053/2053\u001B[0m \u001B[32m━━━━━━━━━━━━━━━━━━━━\u001B[0m\u001B[37m\u001B[0m \u001B[1m2s\u001B[0m 1ms/step - accuracy: 0.1923 - loss: 2.7816 - val_accuracy: 0.1869 - val_loss: 2.9157\n",
      "Epoch 5/10\n",
      "\u001B[1m2053/2053\u001B[0m \u001B[32m━━━━━━━━━━━━━━━━━━━━\u001B[0m\u001B[37m\u001B[0m \u001B[1m2s\u001B[0m 1ms/step - accuracy: 0.1928 - loss: 2.7991 - val_accuracy: 0.1853 - val_loss: 2.9181\n",
      "Epoch 6/10\n",
      "\u001B[1m2053/2053\u001B[0m \u001B[32m━━━━━━━━━━━━━━━━━━━━\u001B[0m\u001B[37m\u001B[0m \u001B[1m2s\u001B[0m 1ms/step - accuracy: 0.1933 - loss: 2.7887 - val_accuracy: 0.1861 - val_loss: 2.9160\n",
      "Epoch 7/10\n",
      "\u001B[1m2053/2053\u001B[0m \u001B[32m━━━━━━━━━━━━━━━━━━━━\u001B[0m\u001B[37m\u001B[0m \u001B[1m2s\u001B[0m 1ms/step - accuracy: 0.1960 - loss: 2.7943 - val_accuracy: 0.1846 - val_loss: 2.9207\n",
      "Epoch 8/10\n",
      "\u001B[1m2053/2053\u001B[0m \u001B[32m━━━━━━━━━━━━━━━━━━━━\u001B[0m\u001B[37m\u001B[0m \u001B[1m2s\u001B[0m 1ms/step - accuracy: 0.1920 - loss: 2.7884 - val_accuracy: 0.1840 - val_loss: 2.9181\n",
      "Epoch 9/10\n",
      "\u001B[1m2053/2053\u001B[0m \u001B[32m━━━━━━━━━━━━━━━━━━━━\u001B[0m\u001B[37m\u001B[0m \u001B[1m2s\u001B[0m 1ms/step - accuracy: 0.1946 - loss: 2.8045 - val_accuracy: 0.1834 - val_loss: 2.9195\n",
      "Epoch 10/10\n",
      "\u001B[1m2053/2053\u001B[0m \u001B[32m━━━━━━━━━━━━━━━━━━━━\u001B[0m\u001B[37m\u001B[0m \u001B[1m2s\u001B[0m 1ms/step - accuracy: 0.1936 - loss: 2.7815 - val_accuracy: 0.1870 - val_loss: 2.9215\n"
     ]
    },
    {
     "data": {
      "text/plain": "<keras.src.callbacks.history.History at 0x23424b2ac20>"
     },
     "execution_count": 22,
     "metadata": {},
     "output_type": "execute_result"
    }
   ],
   "source": [
    "from sklearn.model_selection import train_test_split\n",
    "\n",
    "# Dividir los datos en conjuntos de entrenamiento y testeo (80%-20%)\n",
    "X_train_golpe, X_test_golpe, X_train_context, X_test_context, y_train, y_test = train_test_split(\n",
    "    X, X_context, y, test_size=0.2, random_state=42\n",
    ")\n",
    "\n",
    "# Entrenar el modelo con las dos entradas\n",
    "model.fit(\n",
    "    [X_train_golpe, X_train_context],\n",
    "    y_train,\n",
    "    epochs=10,\n",
    "    batch_size=16,\n",
    "    validation_data=([X_test_golpe, X_test_context], y_test)\n",
    ")\n"
   ],
   "metadata": {
    "collapsed": false,
    "ExecuteTime": {
     "end_time": "2024-11-26T16:00:09.199125Z",
     "start_time": "2024-11-26T15:59:45.837951Z"
    }
   },
   "id": "80edf958b864e919",
   "execution_count": 22
  },
  {
   "cell_type": "code",
   "outputs": [],
   "source": [
    "# Save model\n",
    "#model.save('tenis_rnn_model_one_shot_input.keras')"
   ],
   "metadata": {
    "collapsed": false,
    "ExecuteTime": {
     "end_time": "2024-11-26T16:00:11.430314Z",
     "start_time": "2024-11-26T16:00:11.416267Z"
    }
   },
   "id": "7016a6edd9d18750",
   "execution_count": 23
  },
  {
   "cell_type": "code",
   "outputs": [
    {
     "name": "stdout",
     "output_type": "stream",
     "text": [
      "\u001B[1m1/1\u001B[0m \u001B[32m━━━━━━━━━━━━━━━━━━━━\u001B[0m\u001B[37m\u001B[0m \u001B[1m0s\u001B[0m 17ms/step\n",
      "Golpe actual: f3\n",
      "Los 3 golpes más probables que siguen: ['f1', 'f3', 'b3']\n"
     ]
    }
   ],
   "source": [
    "# Ejemplo de predicción con el golpe 'f2' y algunas características contextuales\n",
    "input_golpe_test = 'f3'\n",
    "input_golpe_sequence = tokenizer.texts_to_sequences([input_golpe_test])\n",
    "input_context_test = context_data_normalized[0]  # Usamos la primera fila de las características normalizadas como ejemplo\n",
    "\n",
    "# Realizar la predicción\n",
    "predicted_probabilities = model.predict([np.array(input_golpe_sequence), np.array([input_context_test])])\n",
    "\n",
    "# Obtener los tres índices con las mayores probabilidades\n",
    "top_3_indices = predicted_probabilities[0].argsort()[-3:][::-1]  # Ordenar y obtener los 3 índices más altos\n",
    "\n",
    "# Convertir los índices a los golpes correspondientes\n",
    "top_3_golpes = [tokenizer.index_word[idx] for idx in top_3_indices]\n",
    "\n",
    "# Mostrar resultados\n",
    "print(f\"Golpe actual: {input_golpe_test}\")\n",
    "print(f\"Los 3 golpes más probables que siguen: {top_3_golpes}\")\n"
   ],
   "metadata": {
    "collapsed": false,
    "ExecuteTime": {
     "end_time": "2024-11-26T16:00:14.921681Z",
     "start_time": "2024-11-26T16:00:14.868352Z"
    }
   },
   "id": "eec585aa9bf15bcb",
   "execution_count": 24
  },
  {
   "cell_type": "markdown",
   "source": [
    "El modelo que peor performa. Demasiadas variables contextuales para un modelo tan simple."
   ],
   "metadata": {
    "collapsed": false
   },
   "id": "b143cb3f74031a25"
  }
 ],
 "metadata": {
  "kernelspec": {
   "display_name": "Python 3",
   "language": "python",
   "name": "python3"
  },
  "language_info": {
   "codemirror_mode": {
    "name": "ipython",
    "version": 2
   },
   "file_extension": ".py",
   "mimetype": "text/x-python",
   "name": "python",
   "nbconvert_exporter": "python",
   "pygments_lexer": "ipython2",
   "version": "2.7.6"
  }
 },
 "nbformat": 4,
 "nbformat_minor": 5
}
