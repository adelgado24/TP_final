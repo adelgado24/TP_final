{
 "cells": [
  {
   "cell_type": "code",
   "execution_count": 1,
   "id": "initial_id",
   "metadata": {
    "collapsed": true,
    "ExecuteTime": {
     "end_time": "2024-11-28T02:04:25.201068Z",
     "start_time": "2024-11-28T02:04:14.906555Z"
    }
   },
   "outputs": [],
   "source": [
    "import pandas as pd\n",
    "import numpy as np\n",
    "import matplotlib.pyplot as plt\n",
    "import seaborn as sns\n",
    "from sklearn.model_selection import train_test_split\n",
    "import chardet\n",
    "import re\n",
    "import warnings\n",
    "import tensorflow as tf\n",
    "from tensorflow import keras\n",
    "from tensorflow.keras import layers\n",
    "from tensorflow.keras import Sequential\n",
    "import warnings\n",
    "warnings.filterwarnings(\"ignore\", message=\"The structure of `inputs` doesn't match the expected structure\")\n",
    "from tensorflow.keras.layers import Dense, LSTM, Dropout, Embedding, Concatenate, Input, RepeatVector\n",
    "from tensorflow.keras.preprocessing.text import Tokenizer\n",
    "from tensorflow.keras.preprocessing.sequence import pad_sequences\n",
    "from keras.models import Model\n",
    "from keras.optimizers import Adam\n",
    "from sklearn.preprocessing import MinMaxScaler\n",
    "\n",
    "pd.options.mode.chained_assignment = None"
   ]
  },
  {
   "cell_type": "code",
   "outputs": [],
   "source": [
    "df_exploded = pd.read_csv('data_output/df_exploded_full.csv')"
   ],
   "metadata": {
    "collapsed": false,
    "ExecuteTime": {
     "end_time": "2024-11-28T02:04:27.060555Z",
     "start_time": "2024-11-28T02:04:25.202070Z"
    }
   },
   "id": "e02dd2ebe23c2eb9",
   "execution_count": 2
  },
  {
   "cell_type": "code",
   "outputs": [
    {
     "data": {
      "text/plain": "(1679050, 9)"
     },
     "execution_count": 3,
     "metadata": {},
     "output_type": "execute_result"
    }
   ],
   "source": [
    "df_exploded.shape"
   ],
   "metadata": {
    "collapsed": false,
    "ExecuteTime": {
     "end_time": "2024-11-28T02:04:27.076559Z",
     "start_time": "2024-11-28T02:04:27.061556Z"
    }
   },
   "id": "a604a20c3055738a",
   "execution_count": 3
  },
  {
   "cell_type": "markdown",
   "source": [
    "# Modelo RNN: Prediccion del siguiente golpe del jugador\n",
    "\n",
    "El objetivo del modelo es tomar como input una seuencia de golpes y un jugador y predecir el siguiente golpe que este jugador dara. "
   ],
   "metadata": {
    "collapsed": false
   },
   "id": "607ec7da99abfd4"
  },
  {
   "cell_type": "code",
   "outputs": [
    {
     "data": {
      "text/plain": "f    0.439085\nb    0.344230\no    0.119495\ns    0.097190\nName: cuarto, dtype: float64"
     },
     "execution_count": 4,
     "metadata": {},
     "output_type": "execute_result"
    }
   ],
   "source": [
    "#Conditional column: where the fourth item in the 'Sequence' column contains 's' new column return 's', when 'b' return 'b', when 'f' return 'f', and when other return 'o'\n",
    "\n",
    "df_exploded_test = df_exploded[df_exploded['Sequence'].str.split().apply(len) > 3]\n",
    "df_exploded_test['cuarto'] = df_exploded_test['Sequence'].str.split().str[3].apply(\n",
    "    lambda x: x[0] if isinstance(x, str) and x[0] in ['s', 'b', 'f'] else 'o'\n",
    ")\n",
    "df_exploded_test['cuarto'].value_counts(normalize=True)"
   ],
   "metadata": {
    "collapsed": false,
    "ExecuteTime": {
     "end_time": "2024-11-28T02:04:29.879186Z",
     "start_time": "2024-11-28T02:04:27.077560Z"
    }
   },
   "id": "7cabb15fb011eeb3",
   "execution_count": 4
  },
  {
   "cell_type": "code",
   "outputs": [
    {
     "name": "stdout",
     "output_type": "stream",
     "text": [
      "Total de filas: 261967\n"
     ]
    }
   ],
   "source": [
    "jugador_elegido = \"Roger Federer\"\n",
    "\n",
    "df_exploded = df_exploded.dropna(subset=['Sequence'])\n",
    "\n",
    "df_exploded_filtered = df_exploded[df_exploded['Sequence'].str.split().apply(len) > 3]\n",
    "# Filter rows where the fourth item in the 'Sequence' column contains 's', 'b', or 'f'\n",
    "df_exploded_filtered = df_exploded_filtered[\n",
    "    df_exploded_filtered['Sequence'].str.split().str[3].str.contains(r'^[sbf]')\n",
    "]\n",
    "\n",
    "print(f\"Total de filas: {df_exploded_filtered.shape[0]}\")"
   ],
   "metadata": {
    "collapsed": false,
    "ExecuteTime": {
     "end_time": "2024-11-27T20:16:04.209038Z",
     "start_time": "2024-11-27T20:16:00.768594Z"
    }
   },
   "id": "3725960c8b5023ad",
   "execution_count": 61
  },
  {
   "cell_type": "code",
   "outputs": [
    {
     "data": {
      "text/plain": "f    0.498673\nb    0.390946\ns    0.110380\nName: Sequence, dtype: float64"
     },
     "execution_count": 63,
     "metadata": {},
     "output_type": "execute_result"
    }
   ],
   "source": [
    "df_exploded_filtered['Sequence'].str.split().str[3].str[0].value_counts(normalize=True)"
   ],
   "metadata": {
    "collapsed": false,
    "ExecuteTime": {
     "end_time": "2024-11-27T20:16:04.642748Z",
     "start_time": "2024-11-27T20:16:04.225060Z"
    }
   },
   "id": "4c00fac872e5d4d3",
   "execution_count": 63
  },
  {
   "cell_type": "code",
   "outputs": [
    {
     "data": {
      "text/plain": "f    0.498673\nb    0.390946\ns    0.110380\nName: y, dtype: float64"
     },
     "execution_count": 64,
     "metadata": {},
     "output_type": "execute_result"
    }
   ],
   "source": [
    "df_exploded_filtered['X'] = df_exploded_filtered['Sequence'].str.split().str[:3]\n",
    "df_exploded_filtered['y'] = df_exploded_filtered['Sequence'].str.split().str[3].str[0]\n",
    "\n",
    "df_exploded_filtered['y'].value_counts(normalize=True)"
   ],
   "metadata": {
    "collapsed": false,
    "ExecuteTime": {
     "end_time": "2024-11-27T20:16:06.307990Z",
     "start_time": "2024-11-27T20:16:04.643749Z"
    }
   },
   "id": "4f635e6cf38a9663",
   "execution_count": 64
  },
  {
   "cell_type": "markdown",
   "source": [
    "# Resampling\n",
    "El mejor desempeño se dio con el siguiente resampling:"
   ],
   "metadata": {
    "collapsed": false
   },
   "id": "238532911fd83d6b"
  },
  {
   "cell_type": "code",
   "outputs": [],
   "source": [
    "#resample df_exploded_filtered so that f = 40% and s = 30% and b = 30%\n",
    "from sklearn.utils import resample\n",
    "\n",
    "# Separar las clases\n",
    "f_class = df_exploded_filtered[df_exploded_filtered['y'] == 'f']\n",
    "b_class = df_exploded_filtered[df_exploded_filtered['y'] == 'b']\n",
    "s_class = df_exploded_filtered[df_exploded_filtered['y'] == 's']\n",
    "\n",
    "# Número total de muestras objetivo\n",
    "total_samples = len(df_exploded_filtered)\n",
    "\n",
    "# Calcular el número de muestras para cada clase según las proporciones deseadas\n",
    "f_target = int(total_samples * 0.33)\n",
    "b_target = int(total_samples * 0.33)\n",
    "s_target = int(total_samples * 0.33)\n",
    "\n",
    "# Aplicar resampling (sobremuestreo o submuestreo)\n",
    "f_resampled = resample(f_class, replace=True, n_samples=f_target, random_state=42)\n",
    "b_resampled = resample(b_class, replace=True, n_samples=b_target, random_state=42)\n",
    "s_resampled = resample(s_class, replace=True, n_samples=s_target, random_state=42)\n",
    "\n",
    "# Combinar las clases resampleadas\n",
    "df_resampled = pd.concat([f_resampled, b_resampled, s_resampled])\n",
    "\n",
    "# Barajar el dataset para mezclar las clases\n",
    "df_resampled = df_resampled.sample(frac=1, random_state=42).reset_index(drop=True)\n",
    "\n",
    "df_exploded_filtered = df_resampled.copy() "
   ],
   "metadata": {
    "collapsed": false,
    "ExecuteTime": {
     "end_time": "2024-11-27T20:16:06.682006Z",
     "start_time": "2024-11-27T20:16:06.308962Z"
    }
   },
   "id": "93a6dea59572c40b",
   "execution_count": 65
  },
  {
   "cell_type": "code",
   "outputs": [
    {
     "data": {
      "text/plain": "               Player              X  y\n0        Andy Roddick  [b39, s3, b3]  f\n1       Mats Wilander    [4, f3, b3]  s\n2       Mats Wilander    [6, b3, s3]  s\n3       Pablo Andujar    [4, b3, f1]  f\n4  Yevgeny Kafelnikov  [b29, f1, b2]  b",
      "text/html": "<div>\n<style scoped>\n    .dataframe tbody tr th:only-of-type {\n        vertical-align: middle;\n    }\n\n    .dataframe tbody tr th {\n        vertical-align: top;\n    }\n\n    .dataframe thead th {\n        text-align: right;\n    }\n</style>\n<table border=\"1\" class=\"dataframe\">\n  <thead>\n    <tr style=\"text-align: right;\">\n      <th></th>\n      <th>Player</th>\n      <th>X</th>\n      <th>y</th>\n    </tr>\n  </thead>\n  <tbody>\n    <tr>\n      <th>0</th>\n      <td>Andy Roddick</td>\n      <td>[b39, s3, b3]</td>\n      <td>f</td>\n    </tr>\n    <tr>\n      <th>1</th>\n      <td>Mats Wilander</td>\n      <td>[4, f3, b3]</td>\n      <td>s</td>\n    </tr>\n    <tr>\n      <th>2</th>\n      <td>Mats Wilander</td>\n      <td>[6, b3, s3]</td>\n      <td>s</td>\n    </tr>\n    <tr>\n      <th>3</th>\n      <td>Pablo Andujar</td>\n      <td>[4, b3, f1]</td>\n      <td>f</td>\n    </tr>\n    <tr>\n      <th>4</th>\n      <td>Yevgeny Kafelnikov</td>\n      <td>[b29, f1, b2]</td>\n      <td>b</td>\n    </tr>\n  </tbody>\n</table>\n</div>"
     },
     "execution_count": 66,
     "metadata": {},
     "output_type": "execute_result"
    }
   ],
   "source": [
    "df_exploded_filtered[['Player', 'X', 'y']].head()"
   ],
   "metadata": {
    "collapsed": false,
    "ExecuteTime": {
     "end_time": "2024-11-27T20:16:06.697540Z",
     "start_time": "2024-11-27T20:16:06.683006Z"
    }
   },
   "id": "3cbf7ecda83b3f9e",
   "execution_count": 66
  },
  {
   "cell_type": "code",
   "outputs": [
    {
     "data": {
      "text/plain": "f    0.333333\ns    0.333333\nb    0.333333\nName: y, dtype: float64"
     },
     "execution_count": 67,
     "metadata": {},
     "output_type": "execute_result"
    }
   ],
   "source": [
    "df_exploded_filtered['y'].value_counts(normalize = True)"
   ],
   "metadata": {
    "collapsed": false,
    "ExecuteTime": {
     "end_time": "2024-11-27T20:16:06.713372Z",
     "start_time": "2024-11-27T20:16:06.699540Z"
    }
   },
   "id": "5b3c1e6cafea0fee",
   "execution_count": 67
  },
  {
   "cell_type": "code",
   "outputs": [],
   "source": [
    "from tensorflow.keras.preprocessing.text import Tokenizer\n",
    "from sklearn.preprocessing import LabelEncoder\n",
    "from tensorflow.keras.utils import to_categorical\n",
    "\n",
    "n_steps = 3\n",
    "\n",
    "X = df_exploded_filtered['X']\n",
    "players = df_exploded_filtered['Player']\n",
    "y = df_exploded_filtered['y']\n",
    "\n",
    "# Tokenizador para las secuencias\n",
    "tokenizer = Tokenizer()\n",
    "tokenizer.fit_on_texts([' '.join(seq) for seq in X])\n",
    "X_encoded = tokenizer.texts_to_sequences([' '.join(seq) for seq in X])\n",
    "X_padded = tf.keras.preprocessing.sequence.pad_sequences(X_encoded, maxlen=n_steps)\n",
    "\n",
    "# Codificar jugadores\n",
    "player_encoder = LabelEncoder()\n",
    "players_encoded = player_encoder.fit_transform(players)\n",
    "\n",
    "# Codificar etiquetas (y)\n",
    "label_encoder = LabelEncoder()\n",
    "y_encoded = label_encoder.fit_transform(y)\n",
    "y_categorical = to_categorical(y_encoded)\n"
   ],
   "metadata": {
    "collapsed": false,
    "ExecuteTime": {
     "end_time": "2024-11-27T20:16:10.197866Z",
     "start_time": "2024-11-27T20:16:06.714372Z"
    }
   },
   "id": "c185640032a962ef",
   "execution_count": 68
  },
  {
   "cell_type": "code",
   "outputs": [],
   "source": [
    "vocab_size = len(tokenizer.word_index) + 1\n",
    "embedding_dim = 50\n",
    "\n",
    "# Aumentar la capacidad del modelo\n",
    "seq_input = Input(shape=(n_steps,), name='sequence_input')\n",
    "embedding = Embedding(input_dim=vocab_size, output_dim=100)(seq_input)  # Embeddings (vectorizaciones de las secuencias)\n",
    "lstm = LSTM(128, return_sequences=True)(embedding)  # Red LSTM, unidades y capas adicionales\n",
    "lstm = LSTM(128)(lstm)\n",
    "dropout = Dropout(0.5)(lstm)\n",
    "\n",
    "player_input = Input(shape=(1,), name='player_input')\n",
    "player_embedding = Embedding(input_dim=len(player_encoder.classes_), output_dim=10)(player_input)  # Embeddings (vectorizacions de jugadores)\n",
    "player_flattened = tf.keras.layers.Flatten()(player_embedding)\n",
    "\n",
    "combined = Concatenate()([dropout, player_flattened])\n",
    "output = Dense(y_categorical.shape[1], activation='softmax', name='output')(combined)\n",
    "\n",
    "model = Model(inputs=[seq_input, player_input], outputs=output)\n",
    "model.compile(optimizer=Adam(learning_rate=0.001), loss='categorical_crossentropy', metrics=['accuracy'])"
   ],
   "metadata": {
    "collapsed": false,
    "ExecuteTime": {
     "end_time": "2024-11-27T20:16:10.257842Z",
     "start_time": "2024-11-27T20:16:10.198822Z"
    }
   },
   "id": "44b56a861161142a",
   "execution_count": 69
  },
  {
   "cell_type": "code",
   "outputs": [
    {
     "name": "stdout",
     "output_type": "stream",
     "text": [
      "Epoch 1/50\n"
     ]
    },
    {
     "name": "stderr",
     "output_type": "stream",
     "text": [
      "C:\\Users\\agusd\\AppData\\Local\\Packages\\PythonSoftwareFoundation.Python.3.10_qbz5n2kfra8p0\\LocalCache\\local-packages\\Python310\\site-packages\\keras\\src\\models\\functional.py:225: UserWarning: The structure of `inputs` doesn't match the expected structure: ['sequence_input', 'player_input']. Received: the structure of inputs=('*', '*')\n",
      "  warnings.warn(\n"
     ]
    },
    {
     "name": "stdout",
     "output_type": "stream",
     "text": [
      "\u001B[1m3242/3242\u001B[0m \u001B[32m━━━━━━━━━━━━━━━━━━━━\u001B[0m\u001B[37m\u001B[0m \u001B[1m16s\u001B[0m 4ms/step - accuracy: 0.4558 - loss: 1.0393 - val_accuracy: 0.4814 - val_loss: 1.0148\n",
      "Epoch 2/50\n",
      "\u001B[1m3242/3242\u001B[0m \u001B[32m━━━━━━━━━━━━━━━━━━━━\u001B[0m\u001B[37m\u001B[0m \u001B[1m14s\u001B[0m 4ms/step - accuracy: 0.4847 - loss: 1.0128 - val_accuracy: 0.4814 - val_loss: 1.0136\n",
      "Epoch 3/50\n",
      "\u001B[1m3242/3242\u001B[0m \u001B[32m━━━━━━━━━━━━━━━━━━━━\u001B[0m\u001B[37m\u001B[0m \u001B[1m14s\u001B[0m 4ms/step - accuracy: 0.4889 - loss: 1.0079 - val_accuracy: 0.4814 - val_loss: 1.0137\n",
      "Epoch 4/50\n",
      "\u001B[1m3242/3242\u001B[0m \u001B[32m━━━━━━━━━━━━━━━━━━━━\u001B[0m\u001B[37m\u001B[0m \u001B[1m14s\u001B[0m 4ms/step - accuracy: 0.4866 - loss: 1.0097 - val_accuracy: 0.4836 - val_loss: 1.0131\n",
      "Epoch 5/50\n",
      "\u001B[1m3242/3242\u001B[0m \u001B[32m━━━━━━━━━━━━━━━━━━━━\u001B[0m\u001B[37m\u001B[0m \u001B[1m14s\u001B[0m 4ms/step - accuracy: 0.4902 - loss: 1.0065 - val_accuracy: 0.4838 - val_loss: 1.0129\n",
      "Epoch 6/50\n",
      "\u001B[1m3242/3242\u001B[0m \u001B[32m━━━━━━━━━━━━━━━━━━━━\u001B[0m\u001B[37m\u001B[0m \u001B[1m14s\u001B[0m 4ms/step - accuracy: 0.4893 - loss: 1.0054 - val_accuracy: 0.4837 - val_loss: 1.0117\n",
      "Epoch 7/50\n",
      "\u001B[1m3242/3242\u001B[0m \u001B[32m━━━━━━━━━━━━━━━━━━━━\u001B[0m\u001B[37m\u001B[0m \u001B[1m14s\u001B[0m 4ms/step - accuracy: 0.4918 - loss: 1.0033 - val_accuracy: 0.4846 - val_loss: 1.0111\n",
      "Epoch 8/50\n",
      "\u001B[1m3242/3242\u001B[0m \u001B[32m━━━━━━━━━━━━━━━━━━━━\u001B[0m\u001B[37m\u001B[0m \u001B[1m14s\u001B[0m 4ms/step - accuracy: 0.4917 - loss: 1.0021 - val_accuracy: 0.4847 - val_loss: 1.0105\n",
      "Epoch 9/50\n",
      "\u001B[1m3242/3242\u001B[0m \u001B[32m━━━━━━━━━━━━━━━━━━━━\u001B[0m\u001B[37m\u001B[0m \u001B[1m14s\u001B[0m 4ms/step - accuracy: 0.4944 - loss: 0.9997 - val_accuracy: 0.4866 - val_loss: 1.0101\n",
      "Epoch 10/50\n",
      "\u001B[1m3242/3242\u001B[0m \u001B[32m━━━━━━━━━━━━━━━━━━━━\u001B[0m\u001B[37m\u001B[0m \u001B[1m14s\u001B[0m 4ms/step - accuracy: 0.4932 - loss: 0.9992 - val_accuracy: 0.4870 - val_loss: 1.0094\n",
      "Epoch 11/50\n",
      "\u001B[1m3242/3242\u001B[0m \u001B[32m━━━━━━━━━━━━━━━━━━━━\u001B[0m\u001B[37m\u001B[0m \u001B[1m14s\u001B[0m 4ms/step - accuracy: 0.4978 - loss: 0.9945 - val_accuracy: 0.4882 - val_loss: 1.0092\n",
      "Epoch 12/50\n",
      "\u001B[1m3242/3242\u001B[0m \u001B[32m━━━━━━━━━━━━━━━━━━━━\u001B[0m\u001B[37m\u001B[0m \u001B[1m15s\u001B[0m 5ms/step - accuracy: 0.4990 - loss: 0.9926 - val_accuracy: 0.4880 - val_loss: 1.0078\n",
      "Epoch 13/50\n",
      "\u001B[1m3242/3242\u001B[0m \u001B[32m━━━━━━━━━━━━━━━━━━━━\u001B[0m\u001B[37m\u001B[0m \u001B[1m14s\u001B[0m 4ms/step - accuracy: 0.5010 - loss: 0.9884 - val_accuracy: 0.4917 - val_loss: 1.0056\n",
      "Epoch 14/50\n",
      "\u001B[1m3242/3242\u001B[0m \u001B[32m━━━━━━━━━━━━━━━━━━━━\u001B[0m\u001B[37m\u001B[0m \u001B[1m15s\u001B[0m 4ms/step - accuracy: 0.5040 - loss: 0.9860 - val_accuracy: 0.4904 - val_loss: 1.0052\n",
      "Epoch 15/50\n",
      "\u001B[1m3242/3242\u001B[0m \u001B[32m━━━━━━━━━━━━━━━━━━━━\u001B[0m\u001B[37m\u001B[0m \u001B[1m15s\u001B[0m 5ms/step - accuracy: 0.5067 - loss: 0.9820 - val_accuracy: 0.4918 - val_loss: 1.0050\n",
      "Epoch 16/50\n",
      "\u001B[1m3242/3242\u001B[0m \u001B[32m━━━━━━━━━━━━━━━━━━━━\u001B[0m\u001B[37m\u001B[0m \u001B[1m15s\u001B[0m 5ms/step - accuracy: 0.5053 - loss: 0.9808 - val_accuracy: 0.4944 - val_loss: 1.0027\n",
      "Epoch 17/50\n",
      "\u001B[1m3242/3242\u001B[0m \u001B[32m━━━━━━━━━━━━━━━━━━━━\u001B[0m\u001B[37m\u001B[0m \u001B[1m15s\u001B[0m 5ms/step - accuracy: 0.5087 - loss: 0.9779 - val_accuracy: 0.4919 - val_loss: 1.0049\n",
      "Epoch 18/50\n",
      "\u001B[1m3242/3242\u001B[0m \u001B[32m━━━━━━━━━━━━━━━━━━━━\u001B[0m\u001B[37m\u001B[0m \u001B[1m16s\u001B[0m 5ms/step - accuracy: 0.5127 - loss: 0.9724 - val_accuracy: 0.4944 - val_loss: 1.0026\n",
      "Epoch 19/50\n",
      "\u001B[1m3242/3242\u001B[0m \u001B[32m━━━━━━━━━━━━━━━━━━━━\u001B[0m\u001B[37m\u001B[0m \u001B[1m15s\u001B[0m 5ms/step - accuracy: 0.5114 - loss: 0.9711 - val_accuracy: 0.4932 - val_loss: 1.0045\n",
      "Epoch 20/50\n",
      "\u001B[1m3242/3242\u001B[0m \u001B[32m━━━━━━━━━━━━━━━━━━━━\u001B[0m\u001B[37m\u001B[0m \u001B[1m15s\u001B[0m 5ms/step - accuracy: 0.5127 - loss: 0.9697 - val_accuracy: 0.4935 - val_loss: 1.0036\n",
      "Epoch 21/50\n",
      "\u001B[1m3242/3242\u001B[0m \u001B[32m━━━━━━━━━━━━━━━━━━━━\u001B[0m\u001B[37m\u001B[0m \u001B[1m15s\u001B[0m 5ms/step - accuracy: 0.5125 - loss: 0.9683 - val_accuracy: 0.4949 - val_loss: 1.0039\n",
      "Epoch 22/50\n",
      "\u001B[1m3242/3242\u001B[0m \u001B[32m━━━━━━━━━━━━━━━━━━━━\u001B[0m\u001B[37m\u001B[0m \u001B[1m15s\u001B[0m 5ms/step - accuracy: 0.5167 - loss: 0.9649 - val_accuracy: 0.4950 - val_loss: 1.0047\n",
      "Epoch 23/50\n",
      "\u001B[1m3242/3242\u001B[0m \u001B[32m━━━━━━━━━━━━━━━━━━━━\u001B[0m\u001B[37m\u001B[0m \u001B[1m15s\u001B[0m 5ms/step - accuracy: 0.5161 - loss: 0.9655 - val_accuracy: 0.4952 - val_loss: 1.0049\n",
      "Epoch 24/50\n",
      "\u001B[1m3242/3242\u001B[0m \u001B[32m━━━━━━━━━━━━━━━━━━━━\u001B[0m\u001B[37m\u001B[0m \u001B[1m15s\u001B[0m 5ms/step - accuracy: 0.5151 - loss: 0.9636 - val_accuracy: 0.4963 - val_loss: 1.0082\n",
      "Epoch 25/50\n",
      "\u001B[1m3242/3242\u001B[0m \u001B[32m━━━━━━━━━━━━━━━━━━━━\u001B[0m\u001B[37m\u001B[0m \u001B[1m15s\u001B[0m 5ms/step - accuracy: 0.5156 - loss: 0.9627 - val_accuracy: 0.4965 - val_loss: 1.0071\n",
      "Epoch 26/50\n",
      "\u001B[1m3242/3242\u001B[0m \u001B[32m━━━━━━━━━━━━━━━━━━━━\u001B[0m\u001B[37m\u001B[0m \u001B[1m15s\u001B[0m 5ms/step - accuracy: 0.5194 - loss: 0.9596 - val_accuracy: 0.4974 - val_loss: 1.0048\n",
      "Epoch 27/50\n",
      "\u001B[1m3242/3242\u001B[0m \u001B[32m━━━━━━━━━━━━━━━━━━━━\u001B[0m\u001B[37m\u001B[0m \u001B[1m15s\u001B[0m 5ms/step - accuracy: 0.5178 - loss: 0.9608 - val_accuracy: 0.4974 - val_loss: 1.0082\n",
      "Epoch 28/50\n",
      "\u001B[1m3242/3242\u001B[0m \u001B[32m━━━━━━━━━━━━━━━━━━━━\u001B[0m\u001B[37m\u001B[0m \u001B[1m16s\u001B[0m 5ms/step - accuracy: 0.5173 - loss: 0.9597 - val_accuracy: 0.4968 - val_loss: 1.0074\n",
      "Epoch 29/50\n",
      "\u001B[1m3242/3242\u001B[0m \u001B[32m━━━━━━━━━━━━━━━━━━━━\u001B[0m\u001B[37m\u001B[0m \u001B[1m16s\u001B[0m 5ms/step - accuracy: 0.5178 - loss: 0.9582 - val_accuracy: 0.4979 - val_loss: 1.0081\n",
      "Epoch 30/50\n",
      "\u001B[1m3242/3242\u001B[0m \u001B[32m━━━━━━━━━━━━━━━━━━━━\u001B[0m\u001B[37m\u001B[0m \u001B[1m16s\u001B[0m 5ms/step - accuracy: 0.5177 - loss: 0.9577 - val_accuracy: 0.4971 - val_loss: 1.0114\n",
      "Epoch 31/50\n",
      "\u001B[1m3242/3242\u001B[0m \u001B[32m━━━━━━━━━━━━━━━━━━━━\u001B[0m\u001B[37m\u001B[0m \u001B[1m15s\u001B[0m 5ms/step - accuracy: 0.5178 - loss: 0.9588 - val_accuracy: 0.4976 - val_loss: 1.0092\n",
      "Epoch 32/50\n",
      "\u001B[1m3242/3242\u001B[0m \u001B[32m━━━━━━━━━━━━━━━━━━━━\u001B[0m\u001B[37m\u001B[0m \u001B[1m15s\u001B[0m 5ms/step - accuracy: 0.5186 - loss: 0.9563 - val_accuracy: 0.4983 - val_loss: 1.0073\n",
      "Epoch 33/50\n",
      "\u001B[1m3242/3242\u001B[0m \u001B[32m━━━━━━━━━━━━━━━━━━━━\u001B[0m\u001B[37m\u001B[0m \u001B[1m15s\u001B[0m 5ms/step - accuracy: 0.5236 - loss: 0.9543 - val_accuracy: 0.4975 - val_loss: 1.0089\n",
      "Epoch 34/50\n",
      "\u001B[1m3242/3242\u001B[0m \u001B[32m━━━━━━━━━━━━━━━━━━━━\u001B[0m\u001B[37m\u001B[0m \u001B[1m15s\u001B[0m 5ms/step - accuracy: 0.5198 - loss: 0.9577 - val_accuracy: 0.4987 - val_loss: 1.0104\n",
      "Epoch 35/50\n",
      "\u001B[1m3242/3242\u001B[0m \u001B[32m━━━━━━━━━━━━━━━━━━━━\u001B[0m\u001B[37m\u001B[0m \u001B[1m15s\u001B[0m 5ms/step - accuracy: 0.5188 - loss: 0.9563 - val_accuracy: 0.4997 - val_loss: 1.0094\n",
      "Epoch 36/50\n",
      "\u001B[1m3242/3242\u001B[0m \u001B[32m━━━━━━━━━━━━━━━━━━━━\u001B[0m\u001B[37m\u001B[0m \u001B[1m16s\u001B[0m 5ms/step - accuracy: 0.5212 - loss: 0.9556 - val_accuracy: 0.4983 - val_loss: 1.0099\n",
      "Epoch 37/50\n",
      "\u001B[1m3242/3242\u001B[0m \u001B[32m━━━━━━━━━━━━━━━━━━━━\u001B[0m\u001B[37m\u001B[0m \u001B[1m15s\u001B[0m 5ms/step - accuracy: 0.5197 - loss: 0.9554 - val_accuracy: 0.4986 - val_loss: 1.0107\n",
      "Epoch 38/50\n",
      "\u001B[1m3242/3242\u001B[0m \u001B[32m━━━━━━━━━━━━━━━━━━━━\u001B[0m\u001B[37m\u001B[0m \u001B[1m15s\u001B[0m 5ms/step - accuracy: 0.5214 - loss: 0.9544 - val_accuracy: 0.4978 - val_loss: 1.0111\n",
      "Epoch 39/50\n",
      "\u001B[1m3242/3242\u001B[0m \u001B[32m━━━━━━━━━━━━━━━━━━━━\u001B[0m\u001B[37m\u001B[0m \u001B[1m15s\u001B[0m 5ms/step - accuracy: 0.5196 - loss: 0.9537 - val_accuracy: 0.4990 - val_loss: 1.0116\n",
      "Epoch 40/50\n",
      "\u001B[1m3242/3242\u001B[0m \u001B[32m━━━━━━━━━━━━━━━━━━━━\u001B[0m\u001B[37m\u001B[0m \u001B[1m16s\u001B[0m 5ms/step - accuracy: 0.5218 - loss: 0.9531 - val_accuracy: 0.5004 - val_loss: 1.0104\n",
      "Epoch 41/50\n",
      "\u001B[1m3242/3242\u001B[0m \u001B[32m━━━━━━━━━━━━━━━━━━━━\u001B[0m\u001B[37m\u001B[0m \u001B[1m15s\u001B[0m 5ms/step - accuracy: 0.5222 - loss: 0.9514 - val_accuracy: 0.4990 - val_loss: 1.0125\n",
      "Epoch 42/50\n",
      "\u001B[1m3242/3242\u001B[0m \u001B[32m━━━━━━━━━━━━━━━━━━━━\u001B[0m\u001B[37m\u001B[0m \u001B[1m15s\u001B[0m 5ms/step - accuracy: 0.5238 - loss: 0.9510 - val_accuracy: 0.4997 - val_loss: 1.0134\n",
      "Epoch 43/50\n",
      "\u001B[1m3242/3242\u001B[0m \u001B[32m━━━━━━━━━━━━━━━━━━━━\u001B[0m\u001B[37m\u001B[0m \u001B[1m15s\u001B[0m 5ms/step - accuracy: 0.5218 - loss: 0.9519 - val_accuracy: 0.4997 - val_loss: 1.0132\n",
      "Epoch 44/50\n",
      "\u001B[1m3242/3242\u001B[0m \u001B[32m━━━━━━━━━━━━━━━━━━━━\u001B[0m\u001B[37m\u001B[0m \u001B[1m15s\u001B[0m 5ms/step - accuracy: 0.5220 - loss: 0.9529 - val_accuracy: 0.4981 - val_loss: 1.0145\n",
      "Epoch 45/50\n",
      "\u001B[1m3242/3242\u001B[0m \u001B[32m━━━━━━━━━━━━━━━━━━━━\u001B[0m\u001B[37m\u001B[0m \u001B[1m15s\u001B[0m 5ms/step - accuracy: 0.5208 - loss: 0.9508 - val_accuracy: 0.4998 - val_loss: 1.0117\n",
      "Epoch 46/50\n",
      "\u001B[1m3242/3242\u001B[0m \u001B[32m━━━━━━━━━━━━━━━━━━━━\u001B[0m\u001B[37m\u001B[0m \u001B[1m15s\u001B[0m 5ms/step - accuracy: 0.5224 - loss: 0.9514 - val_accuracy: 0.4994 - val_loss: 1.0180\n",
      "Epoch 47/50\n",
      "\u001B[1m3242/3242\u001B[0m \u001B[32m━━━━━━━━━━━━━━━━━━━━\u001B[0m\u001B[37m\u001B[0m \u001B[1m15s\u001B[0m 5ms/step - accuracy: 0.5216 - loss: 0.9530 - val_accuracy: 0.4988 - val_loss: 1.0147\n",
      "Epoch 48/50\n",
      "\u001B[1m3242/3242\u001B[0m \u001B[32m━━━━━━━━━━━━━━━━━━━━\u001B[0m\u001B[37m\u001B[0m \u001B[1m15s\u001B[0m 5ms/step - accuracy: 0.5211 - loss: 0.9508 - val_accuracy: 0.5004 - val_loss: 1.0132\n",
      "Epoch 49/50\n",
      "\u001B[1m3242/3242\u001B[0m \u001B[32m━━━━━━━━━━━━━━━━━━━━\u001B[0m\u001B[37m\u001B[0m \u001B[1m15s\u001B[0m 5ms/step - accuracy: 0.5221 - loss: 0.9511 - val_accuracy: 0.5000 - val_loss: 1.0150\n",
      "Epoch 50/50\n",
      "\u001B[1m3242/3242\u001B[0m \u001B[32m━━━━━━━━━━━━━━━━━━━━\u001B[0m\u001B[37m\u001B[0m \u001B[1m14s\u001B[0m 4ms/step - accuracy: 0.5246 - loss: 0.9506 - val_accuracy: 0.4987 - val_loss: 1.0188\n"
     ]
    }
   ],
   "source": [
    "from tensorflow.keras.callbacks import EarlyStopping\n",
    "\n",
    "# Early stopping para evitar overfitting\n",
    "early_stopping = EarlyStopping(\n",
    "    monitor='val_loss',  # Métrica que se monitorea\n",
    "    patience=10,          # Número de épocas sin mejora antes de detener\n",
    "    restore_best_weights=True  # Restaurar los mejores pesos\n",
    ")\n",
    "\n",
    "# Dividir en conjuntos de entrenamiento y prueba\n",
    "from sklearn.model_selection import train_test_split\n",
    "\n",
    "X_train, X_test, y_train, y_test, players_train, players_test = train_test_split(\n",
    "    X_padded, y_categorical, players_encoded, test_size=0.2, random_state=42\n",
    ")\n",
    "\n",
    "# Entrenar el modelo\n",
    "history = model.fit(\n",
    "    [X_train, players_train],\n",
    "    y_train,\n",
    "    validation_data=([X_test, players_test], y_test),\n",
    "    epochs=50,\n",
    "    batch_size=64,\n",
    "   # callbacks=[early_stopping]\n",
    ")\n"
   ],
   "metadata": {
    "collapsed": false,
    "ExecuteTime": {
     "end_time": "2024-11-27T20:28:37.284724Z",
     "start_time": "2024-11-27T20:16:10.258822Z"
    }
   },
   "id": "d4a57be5c87deada",
   "execution_count": 70
  },
  {
   "cell_type": "code",
   "outputs": [
    {
     "name": "stdout",
     "output_type": "stream",
     "text": [
      "\u001B[1m1621/1621\u001B[0m \u001B[32m━━━━━━━━━━━━━━━━━━━━\u001B[0m\u001B[37m\u001B[0m \u001B[1m2s\u001B[0m 1ms/step - accuracy: 0.4983 - loss: 1.0186\n",
      "Test Loss: 1.0187658071517944, Test Accuracy: 0.498650461435318\n"
     ]
    }
   ],
   "source": [
    "# Predecir el próximo golpe\n",
    "def predict_next_shot(sequence, player):\n",
    "    # Preprocesar entrada\n",
    "    seq_encoded = tokenizer.texts_to_sequences([sequence])\n",
    "    seq_padded = tf.keras.preprocessing.sequence.pad_sequences(seq_encoded, maxlen=n_steps)\n",
    "    player_encoded = player_encoder.transform([player])\n",
    "    \n",
    "    # Hacer predicción\n",
    "    prediction = model.predict([seq_padded, player_encoded])[0]  # Vector de probabilidades para la fila\n",
    "    \n",
    "    # Mapear índices a las clases\n",
    "    class_probabilities = {label_encoder.inverse_transform([i])[0]: prob for i, prob in enumerate(prediction)}\n",
    "    return class_probabilities\n",
    "\n",
    "# Evaluar en el conjunto de prueba\n",
    "loss, accuracy = model.evaluate([X_test, players_test], y_test)\n",
    "print(f\"Test Loss: {loss}, Test Accuracy: {accuracy}\")"
   ],
   "metadata": {
    "collapsed": false,
    "ExecuteTime": {
     "end_time": "2024-11-27T20:28:39.645494Z",
     "start_time": "2024-11-27T20:28:37.285724Z"
    }
   },
   "id": "9ea235641efe87bc",
   "execution_count": 71
  },
  {
   "cell_type": "code",
   "outputs": [
    {
     "name": "stdout",
     "output_type": "stream",
     "text": [
      "\u001B[1m1621/1621\u001B[0m \u001B[32m━━━━━━━━━━━━━━━━━━━━\u001B[0m\u001B[37m\u001B[0m \u001B[1m3s\u001B[0m 2ms/step\n",
      "Test Loss: 1.02\n",
      "Test Accuracy: 0.50\n",
      "Precision: 0.50\n",
      "Recall: 0.50\n",
      "F1-Score: 0.50\n"
     ]
    }
   ],
   "source": [
    "from sklearn.metrics import classification_report, f1_score, precision_score, recall_score\n",
    "\n",
    "# Calcular y mostrar métricas\n",
    "y_pred = model.predict([X_test, players_test])\n",
    "y_pred_classes = y_pred.argmax(axis=1)\n",
    "y_true_classes = y_test.argmax(axis=1)\n",
    "\n",
    "precision = precision_score(y_true_classes, y_pred_classes, average='weighted')\n",
    "recall = recall_score(y_true_classes, y_pred_classes, average='weighted')\n",
    "f1 = f1_score(y_true_classes, y_pred_classes, average='weighted')\n",
    "\n",
    "print(f\"Test Loss: {loss:.2f}\")\n",
    "print(f\"Test Accuracy: {accuracy:.2f}\")\n",
    "print(f\"Precision: {precision:.2f}\")\n",
    "print(f\"Recall: {recall:.2f}\")\n",
    "print(f\"F1-Score: {f1:.2f}\")\n"
   ],
   "metadata": {
    "collapsed": false,
    "ExecuteTime": {
     "end_time": "2024-11-27T20:28:43.180836Z",
     "start_time": "2024-11-27T20:28:39.646494Z"
    }
   },
   "id": "f6d66061788a19be",
   "execution_count": 72
  },
  {
   "cell_type": "code",
   "outputs": [
    {
     "name": "stdout",
     "output_type": "stream",
     "text": [
      "\u001B[1m1/1\u001B[0m \u001B[32m━━━━━━━━━━━━━━━━━━━━\u001B[0m\u001B[37m\u001B[0m \u001B[1m0s\u001B[0m 18ms/step\n",
      "{'b': 0.2917914, 'f': 0.19745621, 's': 0.5107524}\n",
      "\u001B[1m1/1\u001B[0m \u001B[32m━━━━━━━━━━━━━━━━━━━━\u001B[0m\u001B[37m\u001B[0m \u001B[1m0s\u001B[0m 18ms/step\n",
      "{'b': 0.4685634, 'f': 0.2544115, 's': 0.2770251}\n",
      "\u001B[1m1/1\u001B[0m \u001B[32m━━━━━━━━━━━━━━━━━━━━\u001B[0m\u001B[37m\u001B[0m \u001B[1m0s\u001B[0m 19ms/step\n",
      "{'b': 0.40689754, 'f': 0.23035334, 's': 0.36274916}\n"
     ]
    }
   ],
   "source": [
    "secuencia = ['b1', 'b3', 'f3']\n",
    "\n",
    "print(predict_next_shot(secuencia, \"Roger Federer\"))\n",
    "print(predict_next_shot(secuencia, \"Novak Djokovic\"))\n",
    "print(predict_next_shot(secuencia, \"Rafael Nadal\"))"
   ],
   "metadata": {
    "collapsed": false,
    "ExecuteTime": {
     "end_time": "2024-11-27T20:30:10.158588Z",
     "start_time": "2024-11-27T20:30:10.006699Z"
    }
   },
   "id": "1fa4b61187000a94",
   "execution_count": 77
  },
  {
   "cell_type": "code",
   "outputs": [
    {
     "data": {
      "text/plain": "84456     [b28, f1, b2]\n225732     [b8, f3, b2]\n75590       [4, f2, s3]\nName: X, dtype: object"
     },
     "execution_count": 74,
     "metadata": {},
     "output_type": "execute_result"
    }
   ],
   "source": [
    "X.sample(3)"
   ],
   "metadata": {
    "collapsed": false,
    "ExecuteTime": {
     "end_time": "2024-11-27T20:28:43.397902Z",
     "start_time": "2024-11-27T20:28:43.383774Z"
    }
   },
   "id": "954608fbc5358e72",
   "execution_count": 74
  },
  {
   "cell_type": "code",
   "outputs": [
    {
     "data": {
      "text/plain": "['b27', 'b2', 'f3']"
     },
     "execution_count": 75,
     "metadata": {},
     "output_type": "execute_result"
    }
   ],
   "source": [
    "X.iloc[163614]"
   ],
   "metadata": {
    "collapsed": false,
    "ExecuteTime": {
     "end_time": "2024-11-27T20:28:43.412878Z",
     "start_time": "2024-11-27T20:28:43.398872Z"
    }
   },
   "id": "39fe09841b5930d4",
   "execution_count": 75
  },
  {
   "cell_type": "markdown",
   "source": [
    "El modelo podría tener mejor accuracy, pero tiene un buen desempeño dando predicciones coherentes con los estilos de juego de los jugadores. Por ejemplo, Federer de Reves a una mano tiene mas propension a dar un slice que otros jugadores y esto es reflejado en las predicciones del modelo. \n",
    "También una sucesión de golpes simples al medio son seguidos por altas probabilidades de un reves, lo cual tiene sentido porque la mayoría de los rivales prefieren forzar que el jugador de un reves."
   ],
   "metadata": {
    "collapsed": false
   },
   "id": "53d3021b68fee8fe"
  }
 ],
 "metadata": {
  "kernelspec": {
   "display_name": "Python 3",
   "language": "python",
   "name": "python3"
  },
  "language_info": {
   "codemirror_mode": {
    "name": "ipython",
    "version": 2
   },
   "file_extension": ".py",
   "mimetype": "text/x-python",
   "name": "python",
   "nbconvert_exporter": "python",
   "pygments_lexer": "ipython2",
   "version": "2.7.6"
  }
 },
 "nbformat": 4,
 "nbformat_minor": 5
}
