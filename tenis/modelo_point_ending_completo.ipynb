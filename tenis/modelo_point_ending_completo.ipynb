{
 "cells": [
  {
   "cell_type": "code",
   "execution_count": 35,
   "id": "initial_id",
   "metadata": {
    "collapsed": true,
    "ExecuteTime": {
     "end_time": "2024-11-28T02:17:54.029922Z",
     "start_time": "2024-11-28T02:17:54.020914Z"
    }
   },
   "outputs": [],
   "source": [
    "import pandas as pd\n",
    "import numpy as np\n",
    "import matplotlib.pyplot as plt\n",
    "import seaborn as sns\n",
    "from sklearn.model_selection import train_test_split\n",
    "import chardet\n",
    "import re\n",
    "import warnings\n",
    "import tensorflow as tf\n",
    "from tensorflow import keras\n",
    "from tensorflow.keras import layers\n",
    "from tensorflow.keras import Sequential\n",
    "pd.options.mode.chained_assignment = None\n",
    "import warnings\n",
    "warnings.filterwarnings(\"ignore\", message=\"The structure of `inputs` doesn't match the expected structure\")\n",
    "from tensorflow.keras.layers import Dense, LSTM, Dropout, Embedding, Concatenate, Input\n",
    "from tensorflow.keras.preprocessing.text import Tokenizer\n",
    "from tensorflow.keras.preprocessing.sequence import pad_sequences\n",
    "from keras.models import Model\n",
    "from keras.optimizers import Adam"
   ]
  },
  {
   "cell_type": "code",
   "outputs": [],
   "source": [
    "df = pd.read_csv('data_output/charting_clean.csv', low_memory=False)"
   ],
   "metadata": {
    "collapsed": false,
    "ExecuteTime": {
     "end_time": "2024-11-28T02:17:58.021956Z",
     "start_time": "2024-11-28T02:17:54.039902Z"
    }
   },
   "id": "a65f7b653da1ac1f",
   "execution_count": 36
  },
  {
   "cell_type": "code",
   "outputs": [
    {
     "data": {
      "text/plain": "                                            match_id  Pt  Set1  Set2  Gm1  \\\n0  20230908-M-US_Open-SF-Novak_Djokovic_-Ben_Shelton   1     0     0  0.0   \n1  20230908-M-US_Open-SF-Novak_Djokovic_-Ben_Shelton   2     0     0  0.0   \n2  20230908-M-US_Open-SF-Novak_Djokovic_-Ben_Shelton   3     0     0  0.0   \n3  20230908-M-US_Open-SF-Novak_Djokovic_-Ben_Shelton   4     0     0  0.0   \n4  20230908-M-US_Open-SF-Novak_Djokovic_-Ben_Shelton   5     0     0  0.0   \n\n   Gm2    Pts    Gm# TbSet TB?  ...                   2nd_test  \\\n0  0.0    0-0  1 (1)     1   0  ...                        NaN   \n1  0.0   15-0  1 (2)     1   0  ...  6 b19 f1 b2 s1 f3 f2 j2 *   \n2  0.0  15-15  1 (3)     1   0  ...              4 b28 f2 o1 *   \n3  0.0  15-30  1 (4)     1   0  ...                        NaN   \n4  0.0  30-30  1 (5)     1   0  ...                        NaN   \n\n   rallyCountVerification      Player_svr   Player_ret 1st_player_svr  \\\n0                       1  Novak Djokovic  Ben Shelton              6   \n1                       8  Novak Djokovic  Ben Shelton             4n   \n2                       4  Novak Djokovic  Ben Shelton             4d   \n3                       3  Novak Djokovic  Ben Shelton          6 f3*   \n4                       3  Novak Djokovic  Ben Shelton          4 b3*   \n\n  1st_player_ret 2nd_player_svr  2nd_player_ret  1st_final  \\\n0           f2n#            NaN             NaN     6 f2n#   \n1            NaN     6 f1 s1 f2   b19 b2 f3 j2*         4n   \n2            NaN           4 f2         b28 o1*         4d   \n3            s28            NaN             NaN  6 s28 f3*   \n4            b37            NaN             NaN  4 b37 b3*   \n\n                  2nd_final  \n0                       NaN  \n1  6 b19 f1 b2 s1 f3 f2 j2*  \n2              4 b28 f2 o1*  \n3                       NaN  \n4                       NaN  \n\n[5 rows x 41 columns]",
      "text/html": "<div>\n<style scoped>\n    .dataframe tbody tr th:only-of-type {\n        vertical-align: middle;\n    }\n\n    .dataframe tbody tr th {\n        vertical-align: top;\n    }\n\n    .dataframe thead th {\n        text-align: right;\n    }\n</style>\n<table border=\"1\" class=\"dataframe\">\n  <thead>\n    <tr style=\"text-align: right;\">\n      <th></th>\n      <th>match_id</th>\n      <th>Pt</th>\n      <th>Set1</th>\n      <th>Set2</th>\n      <th>Gm1</th>\n      <th>Gm2</th>\n      <th>Pts</th>\n      <th>Gm#</th>\n      <th>TbSet</th>\n      <th>TB?</th>\n      <th>...</th>\n      <th>2nd_test</th>\n      <th>rallyCountVerification</th>\n      <th>Player_svr</th>\n      <th>Player_ret</th>\n      <th>1st_player_svr</th>\n      <th>1st_player_ret</th>\n      <th>2nd_player_svr</th>\n      <th>2nd_player_ret</th>\n      <th>1st_final</th>\n      <th>2nd_final</th>\n    </tr>\n  </thead>\n  <tbody>\n    <tr>\n      <th>0</th>\n      <td>20230908-M-US_Open-SF-Novak_Djokovic_-Ben_Shelton</td>\n      <td>1</td>\n      <td>0</td>\n      <td>0</td>\n      <td>0.0</td>\n      <td>0.0</td>\n      <td>0-0</td>\n      <td>1 (1)</td>\n      <td>1</td>\n      <td>0</td>\n      <td>...</td>\n      <td>NaN</td>\n      <td>1</td>\n      <td>Novak Djokovic</td>\n      <td>Ben Shelton</td>\n      <td>6</td>\n      <td>f2n#</td>\n      <td>NaN</td>\n      <td>NaN</td>\n      <td>6 f2n#</td>\n      <td>NaN</td>\n    </tr>\n    <tr>\n      <th>1</th>\n      <td>20230908-M-US_Open-SF-Novak_Djokovic_-Ben_Shelton</td>\n      <td>2</td>\n      <td>0</td>\n      <td>0</td>\n      <td>0.0</td>\n      <td>0.0</td>\n      <td>15-0</td>\n      <td>1 (2)</td>\n      <td>1</td>\n      <td>0</td>\n      <td>...</td>\n      <td>6 b19 f1 b2 s1 f3 f2 j2 *</td>\n      <td>8</td>\n      <td>Novak Djokovic</td>\n      <td>Ben Shelton</td>\n      <td>4n</td>\n      <td>NaN</td>\n      <td>6 f1 s1 f2</td>\n      <td>b19 b2 f3 j2*</td>\n      <td>4n</td>\n      <td>6 b19 f1 b2 s1 f3 f2 j2*</td>\n    </tr>\n    <tr>\n      <th>2</th>\n      <td>20230908-M-US_Open-SF-Novak_Djokovic_-Ben_Shelton</td>\n      <td>3</td>\n      <td>0</td>\n      <td>0</td>\n      <td>0.0</td>\n      <td>0.0</td>\n      <td>15-15</td>\n      <td>1 (3)</td>\n      <td>1</td>\n      <td>0</td>\n      <td>...</td>\n      <td>4 b28 f2 o1 *</td>\n      <td>4</td>\n      <td>Novak Djokovic</td>\n      <td>Ben Shelton</td>\n      <td>4d</td>\n      <td>NaN</td>\n      <td>4 f2</td>\n      <td>b28 o1*</td>\n      <td>4d</td>\n      <td>4 b28 f2 o1*</td>\n    </tr>\n    <tr>\n      <th>3</th>\n      <td>20230908-M-US_Open-SF-Novak_Djokovic_-Ben_Shelton</td>\n      <td>4</td>\n      <td>0</td>\n      <td>0</td>\n      <td>0.0</td>\n      <td>0.0</td>\n      <td>15-30</td>\n      <td>1 (4)</td>\n      <td>1</td>\n      <td>0</td>\n      <td>...</td>\n      <td>NaN</td>\n      <td>3</td>\n      <td>Novak Djokovic</td>\n      <td>Ben Shelton</td>\n      <td>6 f3*</td>\n      <td>s28</td>\n      <td>NaN</td>\n      <td>NaN</td>\n      <td>6 s28 f3*</td>\n      <td>NaN</td>\n    </tr>\n    <tr>\n      <th>4</th>\n      <td>20230908-M-US_Open-SF-Novak_Djokovic_-Ben_Shelton</td>\n      <td>5</td>\n      <td>0</td>\n      <td>0</td>\n      <td>0.0</td>\n      <td>0.0</td>\n      <td>30-30</td>\n      <td>1 (5)</td>\n      <td>1</td>\n      <td>0</td>\n      <td>...</td>\n      <td>NaN</td>\n      <td>3</td>\n      <td>Novak Djokovic</td>\n      <td>Ben Shelton</td>\n      <td>4 b3*</td>\n      <td>b37</td>\n      <td>NaN</td>\n      <td>NaN</td>\n      <td>4 b37 b3*</td>\n      <td>NaN</td>\n    </tr>\n  </tbody>\n</table>\n<p>5 rows × 41 columns</p>\n</div>"
     },
     "execution_count": 37,
     "metadata": {},
     "output_type": "execute_result"
    }
   ],
   "source": [
    "df.head()"
   ],
   "metadata": {
    "collapsed": false,
    "ExecuteTime": {
     "end_time": "2024-11-28T02:17:58.036960Z",
     "start_time": "2024-11-28T02:17:58.022956Z"
    }
   },
   "id": "b6a997646c968c55",
   "execution_count": 37
  },
  {
   "cell_type": "markdown",
   "source": [
    "# Modelo de predicción de final de punto\n",
    "El objetivo de este modelo es predecir el final de un punto en un partido de tenis, es decir, si el punto terminará con un golpe ganador, un error forzado o un error no forzado."
   ],
   "metadata": {
    "collapsed": false
   },
   "id": "95ab22ff0ec660da"
  },
  {
   "cell_type": "code",
   "outputs": [
    {
     "data": {
      "text/plain": "   1stIn  2ndIn                 1st_final                 2nd_final  Pt  Set1  \\\n0      1    NaN                    6 f2n#                       NaN   1     0   \n1      0    1.0  6 b19 f1 b2 s1 f3 f2 j2*  6 b19 f1 b2 s1 f3 f2 j2*   2     0   \n2      0    1.0              4 b28 f2 o1*              4 b28 f2 o1*   3     0   \n3      1    NaN                 6 s28 f3*                       NaN   4     0   \n4      1    NaN                 4 b37 b3*                       NaN   5     0   \n\n   Set2  Gm1  Gm2 TbSet  ... Ret  isAce  isUnret  isRallyWinner  isForced  \\\n0     0  0.0  0.0     1  ...   2  False    False          False      True   \n1     0  0.0  0.0     1  ...   2  False    False           True     False   \n2     0  0.0  0.0     1  ...   2  False    False           True     False   \n3     0  0.0  0.0     1  ...   2  False    False           True     False   \n4     0  0.0  0.0     1  ...   2  False    False           True     False   \n\n   isUnforced  isDouble  PtWinner  isSvrWinner  rallyCount  \n0       False     False         1            1           1  \n1       False     False         2            0           8  \n2       False     False         2            0           4  \n3       False     False         1            1           3  \n4       False     False         1            1           3  \n\n[5 rows x 23 columns]",
      "text/html": "<div>\n<style scoped>\n    .dataframe tbody tr th:only-of-type {\n        vertical-align: middle;\n    }\n\n    .dataframe tbody tr th {\n        vertical-align: top;\n    }\n\n    .dataframe thead th {\n        text-align: right;\n    }\n</style>\n<table border=\"1\" class=\"dataframe\">\n  <thead>\n    <tr style=\"text-align: right;\">\n      <th></th>\n      <th>1stIn</th>\n      <th>2ndIn</th>\n      <th>1st_final</th>\n      <th>2nd_final</th>\n      <th>Pt</th>\n      <th>Set1</th>\n      <th>Set2</th>\n      <th>Gm1</th>\n      <th>Gm2</th>\n      <th>TbSet</th>\n      <th>...</th>\n      <th>Ret</th>\n      <th>isAce</th>\n      <th>isUnret</th>\n      <th>isRallyWinner</th>\n      <th>isForced</th>\n      <th>isUnforced</th>\n      <th>isDouble</th>\n      <th>PtWinner</th>\n      <th>isSvrWinner</th>\n      <th>rallyCount</th>\n    </tr>\n  </thead>\n  <tbody>\n    <tr>\n      <th>0</th>\n      <td>1</td>\n      <td>NaN</td>\n      <td>6 f2n#</td>\n      <td>NaN</td>\n      <td>1</td>\n      <td>0</td>\n      <td>0</td>\n      <td>0.0</td>\n      <td>0.0</td>\n      <td>1</td>\n      <td>...</td>\n      <td>2</td>\n      <td>False</td>\n      <td>False</td>\n      <td>False</td>\n      <td>True</td>\n      <td>False</td>\n      <td>False</td>\n      <td>1</td>\n      <td>1</td>\n      <td>1</td>\n    </tr>\n    <tr>\n      <th>1</th>\n      <td>0</td>\n      <td>1.0</td>\n      <td>6 b19 f1 b2 s1 f3 f2 j2*</td>\n      <td>6 b19 f1 b2 s1 f3 f2 j2*</td>\n      <td>2</td>\n      <td>0</td>\n      <td>0</td>\n      <td>0.0</td>\n      <td>0.0</td>\n      <td>1</td>\n      <td>...</td>\n      <td>2</td>\n      <td>False</td>\n      <td>False</td>\n      <td>True</td>\n      <td>False</td>\n      <td>False</td>\n      <td>False</td>\n      <td>2</td>\n      <td>0</td>\n      <td>8</td>\n    </tr>\n    <tr>\n      <th>2</th>\n      <td>0</td>\n      <td>1.0</td>\n      <td>4 b28 f2 o1*</td>\n      <td>4 b28 f2 o1*</td>\n      <td>3</td>\n      <td>0</td>\n      <td>0</td>\n      <td>0.0</td>\n      <td>0.0</td>\n      <td>1</td>\n      <td>...</td>\n      <td>2</td>\n      <td>False</td>\n      <td>False</td>\n      <td>True</td>\n      <td>False</td>\n      <td>False</td>\n      <td>False</td>\n      <td>2</td>\n      <td>0</td>\n      <td>4</td>\n    </tr>\n    <tr>\n      <th>3</th>\n      <td>1</td>\n      <td>NaN</td>\n      <td>6 s28 f3*</td>\n      <td>NaN</td>\n      <td>4</td>\n      <td>0</td>\n      <td>0</td>\n      <td>0.0</td>\n      <td>0.0</td>\n      <td>1</td>\n      <td>...</td>\n      <td>2</td>\n      <td>False</td>\n      <td>False</td>\n      <td>True</td>\n      <td>False</td>\n      <td>False</td>\n      <td>False</td>\n      <td>1</td>\n      <td>1</td>\n      <td>3</td>\n    </tr>\n    <tr>\n      <th>4</th>\n      <td>1</td>\n      <td>NaN</td>\n      <td>4 b37 b3*</td>\n      <td>NaN</td>\n      <td>5</td>\n      <td>0</td>\n      <td>0</td>\n      <td>0.0</td>\n      <td>0.0</td>\n      <td>1</td>\n      <td>...</td>\n      <td>2</td>\n      <td>False</td>\n      <td>False</td>\n      <td>True</td>\n      <td>False</td>\n      <td>False</td>\n      <td>False</td>\n      <td>1</td>\n      <td>1</td>\n      <td>3</td>\n    </tr>\n  </tbody>\n</table>\n<p>5 rows × 23 columns</p>\n</div>"
     },
     "execution_count": 38,
     "metadata": {},
     "output_type": "execute_result"
    }
   ],
   "source": [
    "# Select relevant columns\n",
    "point_winning_data = df[['1stIn', '2ndIn', '1st_final', '2nd_final', 'Pt', 'Set1', 'Set2', 'Gm1', 'Gm2', 'TbSet', 'TB?', 'TBpt', 'Svr', 'Ret', 'isAce', 'isUnret', 'isRallyWinner', 'isForced', 'isUnforced', 'isDouble', 'PtWinner', 'isSvrWinner', 'rallyCount']]\n",
    "\n",
    "# Replace values in '1st_final' with '2nd_final' if '1stIn' == 0\n",
    "point_winning_data['1st_final'] = np.where(point_winning_data['1stIn'] == 0, point_winning_data['2nd_final'], point_winning_data['1st_final'])\n",
    "\n",
    "# Drop rows where '2ndIn' is 0\n",
    "point_winning_data = point_winning_data[point_winning_data['2ndIn'] != 0]\n",
    "\n",
    "# Display the first few rows of the DataFrame\n",
    "point_winning_data.head()"
   ],
   "metadata": {
    "collapsed": false,
    "ExecuteTime": {
     "end_time": "2024-11-28T02:17:58.273437Z",
     "start_time": "2024-11-28T02:17:58.037961Z"
    }
   },
   "id": "c841c297be17c9e0",
   "execution_count": 38
  },
  {
   "cell_type": "code",
   "outputs": [],
   "source": [
    "#drop na if na in 1st_final\n",
    "point_winning_data = point_winning_data.dropna(subset=['1st_final'])"
   ],
   "metadata": {
    "collapsed": false,
    "ExecuteTime": {
     "end_time": "2024-11-28T02:17:58.443378Z",
     "start_time": "2024-11-28T02:17:58.274437Z"
    }
   },
   "id": "dc1e20e0a54686ec",
   "execution_count": 39
  },
  {
   "cell_type": "code",
   "outputs": [],
   "source": [
    "#point_winning_data.to_csv('data_output/full_sequence.csv', index=False)"
   ],
   "metadata": {
    "collapsed": false,
    "ExecuteTime": {
     "end_time": "2024-11-28T02:17:58.459299Z",
     "start_time": "2024-11-28T02:17:58.444378Z"
    }
   },
   "id": "f3726b0f4fa5e1a8",
   "execution_count": 40
  },
  {
   "cell_type": "code",
   "outputs": [],
   "source": [
    "point_winning_data = point_winning_data.sample(frac=0.5, random_state=42) # 50% de los datos"
   ],
   "metadata": {
    "collapsed": false,
    "ExecuteTime": {
     "end_time": "2024-11-28T02:17:58.583031Z",
     "start_time": "2024-11-28T02:17:58.460265Z"
    }
   },
   "id": "46807164869dba3b",
   "execution_count": 41
  },
  {
   "cell_type": "markdown",
   "source": [
    "# Preprocesamiento de datos"
   ],
   "metadata": {
    "collapsed": false
   },
   "id": "d4164c83b5aae231"
  },
  {
   "cell_type": "code",
   "outputs": [],
   "source": [
    "tokenizer = Tokenizer()\n",
    "tokenizer.fit_on_texts(point_winning_data['1st_final'])\n",
    "word_index = tokenizer.word_index\n",
    "vocab_size = len(word_index) + 1\n",
    "\n",
    "# Convertir las secuencias en listas de tokens\n",
    "tokenized_sequences = []\n",
    "for seq in point_winning_data['1st_final']:\n",
    "    tokens = seq.split()\n",
    "    tokenized_sequence = tokenizer.texts_to_sequences([tokens])\n",
    "    tokenized_sequence = [item for sublist in tokenized_sequence for item in sublist]\n",
    "    tokenized_sequences.append(tokenized_sequence)\n",
    "\n",
    "# Rellenar secuencias para que todas tengan la misma longitud\n",
    "max_sequence_length = 10  # Máximo de 5 golpes para unificar el largo de las secuencias\n",
    "X_seq = pad_sequences(tokenized_sequences, maxlen=max_sequence_length, padding='post')\n"
   ],
   "metadata": {
    "collapsed": false,
    "ExecuteTime": {
     "end_time": "2024-11-28T02:18:02.942959Z",
     "start_time": "2024-11-28T02:17:58.584032Z"
    }
   },
   "id": "1a7719d33f7fd88f",
   "execution_count": 42
  },
  {
   "cell_type": "code",
   "outputs": [],
   "source": [
    "point_winning_data['TbSet'] = point_winning_data['TbSet'].replace('T',2).astype(float)\n",
    "point_winning_data['TB?'] = point_winning_data['TbSet'].replace('S',2).astype(float)"
   ],
   "metadata": {
    "collapsed": false,
    "ExecuteTime": {
     "end_time": "2024-11-28T02:18:03.051956Z",
     "start_time": "2024-11-28T02:18:02.943950Z"
    }
   },
   "id": "f7454dbf9cd7c360",
   "execution_count": 43
  },
  {
   "cell_type": "code",
   "outputs": [
    {
     "data": {
      "text/plain": "        1stIn  2ndIn                      1st_final   2nd_final   Pt  Set1  \\\n592200      0    1.0                     5 b38 s2n@  5 b38 s2n@  149     2   \n484980      1    NaN                         6 f2n#         NaN  101     1   \n411659      1    NaN            4 b38 b2 f1 f1 f3n@         NaN  109     1   \n570119      0    1.0                     5 b28 b3w@  5 b28 b3w@  136     2   \n159868      1    NaN  6 b29 b2 b2 f2 b2 f2 b2 f19w@         NaN  198     2   \n\n        Set2  Gm1  Gm2  TbSet  ...  Ret  isAce  isUnret  isRallyWinner  \\\n592200     0  0.0  1.0    1.0  ...    2  False    False          False   \n484980     0  5.0  4.0    1.0  ...    2  False    False          False   \n411659     0  0.0  0.0    1.0  ...    1  False    False          False   \n570119     0  4.0  5.0    1.0  ...    2  False    False          False   \n159868     1  0.0  0.0    1.0  ...    1  False    False          False   \n\n        isForced  isUnforced  isDouble  PtWinner  isSvrWinner  rallyCount  \n592200     False        True     False         2            0           2  \n484980      True       False     False         1            1           1  \n411659     False        True     False         2            1           5  \n570119     False        True     False         2            0           2  \n159868     False        True     False         1            0           8  \n\n[5 rows x 23 columns]",
      "text/html": "<div>\n<style scoped>\n    .dataframe tbody tr th:only-of-type {\n        vertical-align: middle;\n    }\n\n    .dataframe tbody tr th {\n        vertical-align: top;\n    }\n\n    .dataframe thead th {\n        text-align: right;\n    }\n</style>\n<table border=\"1\" class=\"dataframe\">\n  <thead>\n    <tr style=\"text-align: right;\">\n      <th></th>\n      <th>1stIn</th>\n      <th>2ndIn</th>\n      <th>1st_final</th>\n      <th>2nd_final</th>\n      <th>Pt</th>\n      <th>Set1</th>\n      <th>Set2</th>\n      <th>Gm1</th>\n      <th>Gm2</th>\n      <th>TbSet</th>\n      <th>...</th>\n      <th>Ret</th>\n      <th>isAce</th>\n      <th>isUnret</th>\n      <th>isRallyWinner</th>\n      <th>isForced</th>\n      <th>isUnforced</th>\n      <th>isDouble</th>\n      <th>PtWinner</th>\n      <th>isSvrWinner</th>\n      <th>rallyCount</th>\n    </tr>\n  </thead>\n  <tbody>\n    <tr>\n      <th>592200</th>\n      <td>0</td>\n      <td>1.0</td>\n      <td>5 b38 s2n@</td>\n      <td>5 b38 s2n@</td>\n      <td>149</td>\n      <td>2</td>\n      <td>0</td>\n      <td>0.0</td>\n      <td>1.0</td>\n      <td>1.0</td>\n      <td>...</td>\n      <td>2</td>\n      <td>False</td>\n      <td>False</td>\n      <td>False</td>\n      <td>False</td>\n      <td>True</td>\n      <td>False</td>\n      <td>2</td>\n      <td>0</td>\n      <td>2</td>\n    </tr>\n    <tr>\n      <th>484980</th>\n      <td>1</td>\n      <td>NaN</td>\n      <td>6 f2n#</td>\n      <td>NaN</td>\n      <td>101</td>\n      <td>1</td>\n      <td>0</td>\n      <td>5.0</td>\n      <td>4.0</td>\n      <td>1.0</td>\n      <td>...</td>\n      <td>2</td>\n      <td>False</td>\n      <td>False</td>\n      <td>False</td>\n      <td>True</td>\n      <td>False</td>\n      <td>False</td>\n      <td>1</td>\n      <td>1</td>\n      <td>1</td>\n    </tr>\n    <tr>\n      <th>411659</th>\n      <td>1</td>\n      <td>NaN</td>\n      <td>4 b38 b2 f1 f1 f3n@</td>\n      <td>NaN</td>\n      <td>109</td>\n      <td>1</td>\n      <td>0</td>\n      <td>0.0</td>\n      <td>0.0</td>\n      <td>1.0</td>\n      <td>...</td>\n      <td>1</td>\n      <td>False</td>\n      <td>False</td>\n      <td>False</td>\n      <td>False</td>\n      <td>True</td>\n      <td>False</td>\n      <td>2</td>\n      <td>1</td>\n      <td>5</td>\n    </tr>\n    <tr>\n      <th>570119</th>\n      <td>0</td>\n      <td>1.0</td>\n      <td>5 b28 b3w@</td>\n      <td>5 b28 b3w@</td>\n      <td>136</td>\n      <td>2</td>\n      <td>0</td>\n      <td>4.0</td>\n      <td>5.0</td>\n      <td>1.0</td>\n      <td>...</td>\n      <td>2</td>\n      <td>False</td>\n      <td>False</td>\n      <td>False</td>\n      <td>False</td>\n      <td>True</td>\n      <td>False</td>\n      <td>2</td>\n      <td>0</td>\n      <td>2</td>\n    </tr>\n    <tr>\n      <th>159868</th>\n      <td>1</td>\n      <td>NaN</td>\n      <td>6 b29 b2 b2 f2 b2 f2 b2 f19w@</td>\n      <td>NaN</td>\n      <td>198</td>\n      <td>2</td>\n      <td>1</td>\n      <td>0.0</td>\n      <td>0.0</td>\n      <td>1.0</td>\n      <td>...</td>\n      <td>1</td>\n      <td>False</td>\n      <td>False</td>\n      <td>False</td>\n      <td>False</td>\n      <td>True</td>\n      <td>False</td>\n      <td>1</td>\n      <td>0</td>\n      <td>8</td>\n    </tr>\n  </tbody>\n</table>\n<p>5 rows × 23 columns</p>\n</div>"
     },
     "execution_count": 44,
     "metadata": {},
     "output_type": "execute_result"
    }
   ],
   "source": [
    "point_winning_data.head()"
   ],
   "metadata": {
    "collapsed": false,
    "ExecuteTime": {
     "end_time": "2024-11-28T02:18:03.067891Z",
     "start_time": "2024-11-28T02:18:03.052955Z"
    }
   },
   "id": "d54e6c8f4e01485f",
   "execution_count": 44
  },
  {
   "cell_type": "code",
   "outputs": [
    {
     "name": "stdout",
     "output_type": "stream",
     "text": [
      "X_seq shape: (356652, 10), context_features shape: (356652, 19)\n"
     ]
    }
   ],
   "source": [
    "from sklearn.preprocessing import StandardScaler\n",
    "\n",
    "X_context_features = point_winning_data[['Pt', 'Set1', 'Set2', 'Gm1', 'Gm2', 'TbSet', 'TB?', 'TBpt', 'Svr', 'Ret', 'isAce', 'isUnret', 'isRallyWinner', 'isForced', 'isUnforced', 'isDouble', 'PtWinner', 'isSvrWinner', 'rallyCount']]\n",
    "\n",
    "scaler = StandardScaler()\n",
    "context_features = scaler.fit_transform(X_context_features)\n",
    "\n",
    "print(f\"X_seq shape: {X_seq.shape}, context_features shape: {X_context_features.shape}\")"
   ],
   "metadata": {
    "collapsed": false,
    "ExecuteTime": {
     "end_time": "2024-11-28T02:18:03.432015Z",
     "start_time": "2024-11-28T02:18:03.070067Z"
    }
   },
   "id": "999e715a7d2ee750",
   "execution_count": 45
  },
  {
   "cell_type": "code",
   "outputs": [
    {
     "name": "stdout",
     "output_type": "stream",
     "text": [
      "X_seq shape: (356652, 10), context_features shape: (356652, 19), y_type shape: 356652\n"
     ]
    }
   ],
   "source": [
    "# definir las etiquetas y, 0 si fue winner (*), 1 si fue error forzado (#), 2 si fue error no forzado(@)\n",
    "point_winning_data.head()\n",
    "#Si ultimo caracter de 1st_final es *, entonces 0, si es # entonces 1, si es @ entonces 2\n",
    "y_type = []\n",
    "for i in point_winning_data['1st_final']:\n",
    "    if i[-1] == '*':\n",
    "        y_type.append(0)\n",
    "    elif i[-1] == '#':\n",
    "        y_type.append(1)\n",
    "    else:\n",
    "        y_type.append(2)\n",
    "        \n",
    "print(f'X_seq shape: {X_seq.shape}, context_features shape: {X_context_features.shape}, y_type shape: {len(y_type)}')"
   ],
   "metadata": {
    "collapsed": false,
    "ExecuteTime": {
     "end_time": "2024-11-28T02:18:03.542722Z",
     "start_time": "2024-11-28T02:18:03.433015Z"
    }
   },
   "id": "3390a789b8a9a468",
   "execution_count": 46
  },
  {
   "cell_type": "code",
   "outputs": [
    {
     "data": {
      "text/plain": "\u001B[1mModel: \"functional_2\"\u001B[0m\n",
      "text/html": "<pre style=\"white-space:pre;overflow-x:auto;line-height:normal;font-family:Menlo,'DejaVu Sans Mono',consolas,'Courier New',monospace\"><span style=\"font-weight: bold\">Model: \"functional_2\"</span>\n</pre>\n"
     },
     "metadata": {},
     "output_type": "display_data"
    },
    {
     "data": {
      "text/plain": "┏━━━━━━━━━━━━━━━━━━━━━┳━━━━━━━━━━━━━━━━━━━┳━━━━━━━━━━━━┳━━━━━━━━━━━━━━━━━━━┓\n┃\u001B[1m \u001B[0m\u001B[1mLayer (type)       \u001B[0m\u001B[1m \u001B[0m┃\u001B[1m \u001B[0m\u001B[1mOutput Shape     \u001B[0m\u001B[1m \u001B[0m┃\u001B[1m \u001B[0m\u001B[1m   Param #\u001B[0m\u001B[1m \u001B[0m┃\u001B[1m \u001B[0m\u001B[1mConnected to     \u001B[0m\u001B[1m \u001B[0m┃\n┡━━━━━━━━━━━━━━━━━━━━━╇━━━━━━━━━━━━━━━━━━━╇━━━━━━━━━━━━╇━━━━━━━━━━━━━━━━━━━┩\n│ input_layer_4       │ (\u001B[38;5;45mNone\u001B[0m, \u001B[38;5;34m10\u001B[0m)        │          \u001B[38;5;34m0\u001B[0m │ -                 │\n│ (\u001B[38;5;33mInputLayer\u001B[0m)        │                   │            │                   │\n├─────────────────────┼───────────────────┼────────────┼───────────────────┤\n│ embedding_3         │ (\u001B[38;5;45mNone\u001B[0m, \u001B[38;5;34m10\u001B[0m, \u001B[38;5;34m64\u001B[0m)    │     \u001B[38;5;34m43,008\u001B[0m │ input_layer_4[\u001B[38;5;34m0\u001B[0m]… │\n│ (\u001B[38;5;33mEmbedding\u001B[0m)         │                   │            │                   │\n├─────────────────────┼───────────────────┼────────────┼───────────────────┤\n│ input_layer_5       │ (\u001B[38;5;45mNone\u001B[0m, \u001B[38;5;34m19\u001B[0m)        │          \u001B[38;5;34m0\u001B[0m │ -                 │\n│ (\u001B[38;5;33mInputLayer\u001B[0m)        │                   │            │                   │\n├─────────────────────┼───────────────────┼────────────┼───────────────────┤\n│ lstm_4 (\u001B[38;5;33mLSTM\u001B[0m)       │ (\u001B[38;5;45mNone\u001B[0m, \u001B[38;5;34m64\u001B[0m)        │     \u001B[38;5;34m33,024\u001B[0m │ embedding_3[\u001B[38;5;34m0\u001B[0m][\u001B[38;5;34m0\u001B[0m] │\n├─────────────────────┼───────────────────┼────────────┼───────────────────┤\n│ dense_6 (\u001B[38;5;33mDense\u001B[0m)     │ (\u001B[38;5;45mNone\u001B[0m, \u001B[38;5;34m32\u001B[0m)        │        \u001B[38;5;34m640\u001B[0m │ input_layer_5[\u001B[38;5;34m0\u001B[0m]… │\n├─────────────────────┼───────────────────┼────────────┼───────────────────┤\n│ concatenate_2       │ (\u001B[38;5;45mNone\u001B[0m, \u001B[38;5;34m96\u001B[0m)        │          \u001B[38;5;34m0\u001B[0m │ lstm_4[\u001B[38;5;34m0\u001B[0m][\u001B[38;5;34m0\u001B[0m],     │\n│ (\u001B[38;5;33mConcatenate\u001B[0m)       │                   │            │ dense_6[\u001B[38;5;34m0\u001B[0m][\u001B[38;5;34m0\u001B[0m]     │\n├─────────────────────┼───────────────────┼────────────┼───────────────────┤\n│ dropout_4 (\u001B[38;5;33mDropout\u001B[0m) │ (\u001B[38;5;45mNone\u001B[0m, \u001B[38;5;34m96\u001B[0m)        │          \u001B[38;5;34m0\u001B[0m │ concatenate_2[\u001B[38;5;34m0\u001B[0m]… │\n├─────────────────────┼───────────────────┼────────────┼───────────────────┤\n│ dense_7 (\u001B[38;5;33mDense\u001B[0m)     │ (\u001B[38;5;45mNone\u001B[0m, \u001B[38;5;34m3\u001B[0m)         │        \u001B[38;5;34m291\u001B[0m │ dropout_4[\u001B[38;5;34m0\u001B[0m][\u001B[38;5;34m0\u001B[0m]   │\n└─────────────────────┴───────────────────┴────────────┴───────────────────┘\n",
      "text/html": "<pre style=\"white-space:pre;overflow-x:auto;line-height:normal;font-family:Menlo,'DejaVu Sans Mono',consolas,'Courier New',monospace\">┏━━━━━━━━━━━━━━━━━━━━━┳━━━━━━━━━━━━━━━━━━━┳━━━━━━━━━━━━┳━━━━━━━━━━━━━━━━━━━┓\n┃<span style=\"font-weight: bold\"> Layer (type)        </span>┃<span style=\"font-weight: bold\"> Output Shape      </span>┃<span style=\"font-weight: bold\">    Param # </span>┃<span style=\"font-weight: bold\"> Connected to      </span>┃\n┡━━━━━━━━━━━━━━━━━━━━━╇━━━━━━━━━━━━━━━━━━━╇━━━━━━━━━━━━╇━━━━━━━━━━━━━━━━━━━┩\n│ input_layer_4       │ (<span style=\"color: #00d7ff; text-decoration-color: #00d7ff\">None</span>, <span style=\"color: #00af00; text-decoration-color: #00af00\">10</span>)        │          <span style=\"color: #00af00; text-decoration-color: #00af00\">0</span> │ -                 │\n│ (<span style=\"color: #0087ff; text-decoration-color: #0087ff\">InputLayer</span>)        │                   │            │                   │\n├─────────────────────┼───────────────────┼────────────┼───────────────────┤\n│ embedding_3         │ (<span style=\"color: #00d7ff; text-decoration-color: #00d7ff\">None</span>, <span style=\"color: #00af00; text-decoration-color: #00af00\">10</span>, <span style=\"color: #00af00; text-decoration-color: #00af00\">64</span>)    │     <span style=\"color: #00af00; text-decoration-color: #00af00\">43,008</span> │ input_layer_4[<span style=\"color: #00af00; text-decoration-color: #00af00\">0</span>]… │\n│ (<span style=\"color: #0087ff; text-decoration-color: #0087ff\">Embedding</span>)         │                   │            │                   │\n├─────────────────────┼───────────────────┼────────────┼───────────────────┤\n│ input_layer_5       │ (<span style=\"color: #00d7ff; text-decoration-color: #00d7ff\">None</span>, <span style=\"color: #00af00; text-decoration-color: #00af00\">19</span>)        │          <span style=\"color: #00af00; text-decoration-color: #00af00\">0</span> │ -                 │\n│ (<span style=\"color: #0087ff; text-decoration-color: #0087ff\">InputLayer</span>)        │                   │            │                   │\n├─────────────────────┼───────────────────┼────────────┼───────────────────┤\n│ lstm_4 (<span style=\"color: #0087ff; text-decoration-color: #0087ff\">LSTM</span>)       │ (<span style=\"color: #00d7ff; text-decoration-color: #00d7ff\">None</span>, <span style=\"color: #00af00; text-decoration-color: #00af00\">64</span>)        │     <span style=\"color: #00af00; text-decoration-color: #00af00\">33,024</span> │ embedding_3[<span style=\"color: #00af00; text-decoration-color: #00af00\">0</span>][<span style=\"color: #00af00; text-decoration-color: #00af00\">0</span>] │\n├─────────────────────┼───────────────────┼────────────┼───────────────────┤\n│ dense_6 (<span style=\"color: #0087ff; text-decoration-color: #0087ff\">Dense</span>)     │ (<span style=\"color: #00d7ff; text-decoration-color: #00d7ff\">None</span>, <span style=\"color: #00af00; text-decoration-color: #00af00\">32</span>)        │        <span style=\"color: #00af00; text-decoration-color: #00af00\">640</span> │ input_layer_5[<span style=\"color: #00af00; text-decoration-color: #00af00\">0</span>]… │\n├─────────────────────┼───────────────────┼────────────┼───────────────────┤\n│ concatenate_2       │ (<span style=\"color: #00d7ff; text-decoration-color: #00d7ff\">None</span>, <span style=\"color: #00af00; text-decoration-color: #00af00\">96</span>)        │          <span style=\"color: #00af00; text-decoration-color: #00af00\">0</span> │ lstm_4[<span style=\"color: #00af00; text-decoration-color: #00af00\">0</span>][<span style=\"color: #00af00; text-decoration-color: #00af00\">0</span>],     │\n│ (<span style=\"color: #0087ff; text-decoration-color: #0087ff\">Concatenate</span>)       │                   │            │ dense_6[<span style=\"color: #00af00; text-decoration-color: #00af00\">0</span>][<span style=\"color: #00af00; text-decoration-color: #00af00\">0</span>]     │\n├─────────────────────┼───────────────────┼────────────┼───────────────────┤\n│ dropout_4 (<span style=\"color: #0087ff; text-decoration-color: #0087ff\">Dropout</span>) │ (<span style=\"color: #00d7ff; text-decoration-color: #00d7ff\">None</span>, <span style=\"color: #00af00; text-decoration-color: #00af00\">96</span>)        │          <span style=\"color: #00af00; text-decoration-color: #00af00\">0</span> │ concatenate_2[<span style=\"color: #00af00; text-decoration-color: #00af00\">0</span>]… │\n├─────────────────────┼───────────────────┼────────────┼───────────────────┤\n│ dense_7 (<span style=\"color: #0087ff; text-decoration-color: #0087ff\">Dense</span>)     │ (<span style=\"color: #00d7ff; text-decoration-color: #00d7ff\">None</span>, <span style=\"color: #00af00; text-decoration-color: #00af00\">3</span>)         │        <span style=\"color: #00af00; text-decoration-color: #00af00\">291</span> │ dropout_4[<span style=\"color: #00af00; text-decoration-color: #00af00\">0</span>][<span style=\"color: #00af00; text-decoration-color: #00af00\">0</span>]   │\n└─────────────────────┴───────────────────┴────────────┴───────────────────┘\n</pre>\n"
     },
     "metadata": {},
     "output_type": "display_data"
    },
    {
     "data": {
      "text/plain": "\u001B[1m Total params: \u001B[0m\u001B[38;5;34m76,963\u001B[0m (300.64 KB)\n",
      "text/html": "<pre style=\"white-space:pre;overflow-x:auto;line-height:normal;font-family:Menlo,'DejaVu Sans Mono',consolas,'Courier New',monospace\"><span style=\"font-weight: bold\"> Total params: </span><span style=\"color: #00af00; text-decoration-color: #00af00\">76,963</span> (300.64 KB)\n</pre>\n"
     },
     "metadata": {},
     "output_type": "display_data"
    },
    {
     "data": {
      "text/plain": "\u001B[1m Trainable params: \u001B[0m\u001B[38;5;34m76,963\u001B[0m (300.64 KB)\n",
      "text/html": "<pre style=\"white-space:pre;overflow-x:auto;line-height:normal;font-family:Menlo,'DejaVu Sans Mono',consolas,'Courier New',monospace\"><span style=\"font-weight: bold\"> Trainable params: </span><span style=\"color: #00af00; text-decoration-color: #00af00\">76,963</span> (300.64 KB)\n</pre>\n"
     },
     "metadata": {},
     "output_type": "display_data"
    },
    {
     "data": {
      "text/plain": "\u001B[1m Non-trainable params: \u001B[0m\u001B[38;5;34m0\u001B[0m (0.00 B)\n",
      "text/html": "<pre style=\"white-space:pre;overflow-x:auto;line-height:normal;font-family:Menlo,'DejaVu Sans Mono',consolas,'Courier New',monospace\"><span style=\"font-weight: bold\"> Non-trainable params: </span><span style=\"color: #00af00; text-decoration-color: #00af00\">0</span> (0.00 B)\n</pre>\n"
     },
     "metadata": {},
     "output_type": "display_data"
    },
    {
     "name": "stdout",
     "output_type": "stream",
     "text": [
      "Epoch 1/10\n",
      "\u001B[1m4459/4459\u001B[0m \u001B[32m━━━━━━━━━━━━━━━━━━━━\u001B[0m\u001B[37m\u001B[0m \u001B[1m17s\u001B[0m 4ms/step - accuracy: 0.4921 - loss: 0.9692 - val_accuracy: 0.5833 - val_loss: 0.8663\n",
      "Epoch 2/10\n",
      "\u001B[1m4459/4459\u001B[0m \u001B[32m━━━━━━━━━━━━━━━━━━━━\u001B[0m\u001B[37m\u001B[0m \u001B[1m16s\u001B[0m 4ms/step - accuracy: 0.5870 - loss: 0.8639 - val_accuracy: 0.5966 - val_loss: 0.8471\n",
      "Epoch 3/10\n",
      "\u001B[1m4459/4459\u001B[0m \u001B[32m━━━━━━━━━━━━━━━━━━━━\u001B[0m\u001B[37m\u001B[0m \u001B[1m16s\u001B[0m 3ms/step - accuracy: 0.5995 - loss: 0.8462 - val_accuracy: 0.6065 - val_loss: 0.8367\n",
      "Epoch 4/10\n",
      "\u001B[1m4459/4459\u001B[0m \u001B[32m━━━━━━━━━━━━━━━━━━━━\u001B[0m\u001B[37m\u001B[0m \u001B[1m16s\u001B[0m 4ms/step - accuracy: 0.6071 - loss: 0.8349 - val_accuracy: 0.6079 - val_loss: 0.8274\n",
      "Epoch 5/10\n",
      "\u001B[1m4459/4459\u001B[0m \u001B[32m━━━━━━━━━━━━━━━━━━━━\u001B[0m\u001B[37m\u001B[0m \u001B[1m16s\u001B[0m 4ms/step - accuracy: 0.6101 - loss: 0.8263 - val_accuracy: 0.6108 - val_loss: 0.8209\n",
      "Epoch 6/10\n",
      "\u001B[1m4459/4459\u001B[0m \u001B[32m━━━━━━━━━━━━━━━━━━━━\u001B[0m\u001B[37m\u001B[0m \u001B[1m16s\u001B[0m 4ms/step - accuracy: 0.6138 - loss: 0.8204 - val_accuracy: 0.6153 - val_loss: 0.8149\n",
      "Epoch 7/10\n",
      "\u001B[1m4459/4459\u001B[0m \u001B[32m━━━━━━━━━━━━━━━━━━━━\u001B[0m\u001B[37m\u001B[0m \u001B[1m16s\u001B[0m 3ms/step - accuracy: 0.6162 - loss: 0.8138 - val_accuracy: 0.6188 - val_loss: 0.8112\n",
      "Epoch 8/10\n",
      "\u001B[1m4459/4459\u001B[0m \u001B[32m━━━━━━━━━━━━━━━━━━━━\u001B[0m\u001B[37m\u001B[0m \u001B[1m16s\u001B[0m 3ms/step - accuracy: 0.6201 - loss: 0.8101 - val_accuracy: 0.6199 - val_loss: 0.8068\n",
      "Epoch 9/10\n",
      "\u001B[1m4459/4459\u001B[0m \u001B[32m━━━━━━━━━━━━━━━━━━━━\u001B[0m\u001B[37m\u001B[0m \u001B[1m16s\u001B[0m 3ms/step - accuracy: 0.6211 - loss: 0.8078 - val_accuracy: 0.6213 - val_loss: 0.8053\n",
      "Epoch 10/10\n",
      "\u001B[1m4459/4459\u001B[0m \u001B[32m━━━━━━━━━━━━━━━━━━━━\u001B[0m\u001B[37m\u001B[0m \u001B[1m15s\u001B[0m 3ms/step - accuracy: 0.6240 - loss: 0.8042 - val_accuracy: 0.6222 - val_loss: 0.8036\n"
     ]
    }
   ],
   "source": [
    "seq_input = Input(shape=(max_sequence_length,))\n",
    "context_input = Input(shape=(X_context_features.shape[1],))\n",
    "\n",
    "# Procesamiento secuencial con Embedding y LSTM\n",
    "embedding_layer = Embedding(input_dim=vocab_size, output_dim=64)(seq_input)\n",
    "lstm_layer = LSTM(64)(embedding_layer)\n",
    "\n",
    "# Procesamiento de características contextuales con capas densas\n",
    "dense_context = Dense(32, activation='relu')(context_input)\n",
    "\n",
    "# Combinar ambas entradas\n",
    "merged = Concatenate()([lstm_layer, dense_context])\n",
    "dropout_layer = Dropout(0.2)(merged)\n",
    "output = Dense(3, activation='softmax')(dropout_layer)  # 3 clases: ganador, error forzado, error no forzado\n",
    "\n",
    "# Definir y compilar el modelo\n",
    "model = Model(inputs=[seq_input, context_input], outputs=output)\n",
    "model.compile(optimizer=Adam(learning_rate= 0.0001), loss='sparse_categorical_crossentropy', metrics=['accuracy'])\n",
    "\n",
    "# Mostrar resumen del modelo\n",
    "model.summary()\n",
    "\n",
    "# Etiquetas de entrenamiento (por simplicidad, generamos algunas etiquetas para el ejemplo)\n",
    "y_type = np.array(y_type)  # Ejemplo: 0 - ganador, 1 - error forzado, 2 - error no forzado\n",
    "\n",
    "# Entrenar el modelo\n",
    "history = model.fit(\n",
    "    [X_seq, X_context_features], y_type,\n",
    "    epochs=10,  # Reducido para una prueba rápida\n",
    "    batch_size=64,\n",
    "    validation_split=0.2\n",
    ")\n"
   ],
   "metadata": {
    "collapsed": false,
    "ExecuteTime": {
     "end_time": "2024-11-28T02:20:42.604149Z",
     "start_time": "2024-11-28T02:18:03.543722Z"
    }
   },
   "id": "b3bcf44b54bd806d",
   "execution_count": 47
  },
  {
   "cell_type": "markdown",
   "source": [
    "# Prediccion"
   ],
   "metadata": {
    "collapsed": false
   },
   "id": "5ed2fc8dc406e5f8"
  },
  {
   "cell_type": "code",
   "outputs": [
    {
     "name": "stdout",
     "output_type": "stream",
     "text": [
      "\u001B[1m1/1\u001B[0m \u001B[32m━━━━━━━━━━━━━━━━━━━━\u001B[0m\u001B[37m\u001B[0m \u001B[1m0s\u001B[0m 130ms/step\n",
      "Predicción: Winner (*)\n"
     ]
    }
   ],
   "source": [
    "# Secuencia y características contextuales de ejemplo\n",
    "new_sequence = \"6 f2 f1 f3 o1 s2\"  # Ejemplo de secuencia de golpes\n",
    "new_sequence_tokenized = tokenizer.texts_to_sequences([new_sequence.split()])\n",
    "new_sequence_padded = pad_sequences(new_sequence_tokenized, maxlen=max_sequence_length, padding='post')\n",
    "\n",
    "# Nuevas características contextuales (tomando la primera muestra del contexto de prueba)\n",
    "test_context_features = context_features[0]  # X_context contiene las características normalizadas del conjunto de datos original\n",
    "\n",
    "# Transformar la nueva característica a una matriz con una fila\n",
    "test_context_features = test_context_features.reshape(1, -1)\n",
    "\n",
    "# Hacer la predicción\n",
    "predicted_probabilities = model.predict([new_sequence_padded, test_context_features])\n",
    "predicted_class = np.argmax(predicted_probabilities)\n",
    "\n",
    "# Interpretar la predicción\n",
    "ending_types = {0: \"Winner (*)\", 1: \"Forced Error (#)\", 2: \"Unforced Error (@)\"}\n",
    "print(f\"Predicción: {ending_types[predicted_class]}\")\n"
   ],
   "metadata": {
    "collapsed": false,
    "ExecuteTime": {
     "end_time": "2024-11-28T02:20:42.780200Z",
     "start_time": "2024-11-28T02:20:42.605150Z"
    }
   },
   "id": "cbd669c8611fb6c2",
   "execution_count": 48
  },
  {
   "cell_type": "code",
   "outputs": [
    {
     "name": "stdout",
     "output_type": "stream",
     "text": [
      "\u001B[1m1/1\u001B[0m \u001B[32m━━━━━━━━━━━━━━━━━━━━\u001B[0m\u001B[37m\u001B[0m \u001B[1m0s\u001B[0m 21ms/step\n",
      "Probabilidades de cada clase:\n",
      "Winner (*): 0.1554\n",
      "Forced Error (#): 0.7373\n",
      "Unforced Error (@): 0.1073\n"
     ]
    }
   ],
   "source": [
    "# Secuencia y características contextuales de ejemplo\n",
    "new_sequence = (\"f1 b2 o1\")  # Ejemplo de secuencia de golpes\n",
    "new_sequence_tokenized = tokenizer.texts_to_sequences([new_sequence.split()])\n",
    "new_sequence_padded = pad_sequences(new_sequence_tokenized, maxlen=max_sequence_length, padding='post')\n",
    "\n",
    "# Nuevas características contextuales (tomando la primera muestra del contexto de prueba)\n",
    "test_context_features = context_features[42]  # X_context contiene las características normalizadas del conjunto de datos original\n",
    "\n",
    "# Transformar la nueva característica a una matriz con una fila\n",
    "test_context_features = test_context_features.reshape(1, -1)\n",
    "\n",
    "# Hacer la predicción\n",
    "predicted_probabilities = model.predict([new_sequence_padded, test_context_features])[0]\n",
    "\n",
    "# Interpretar la predicción y mostrar las probabilidades\n",
    "ending_types = {0: \"Winner (*)\", 1: \"Forced Error (#)\", 2: \"Unforced Error (@)\"}\n",
    "print(\"Probabilidades de cada clase:\")\n",
    "for i, probability in enumerate(predicted_probabilities):\n",
    "    print(f\"{ending_types[i]}: {probability:.4f}\")\n"
   ],
   "metadata": {
    "collapsed": false,
    "ExecuteTime": {
     "end_time": "2024-11-28T02:23:14.294062Z",
     "start_time": "2024-11-28T02:23:14.226635Z"
    }
   },
   "id": "97117103467db9b4",
   "execution_count": 60
  },
  {
   "cell_type": "markdown",
   "source": [
    "**Interpretación**\n",
    "Tiene sentido que luego de un golpe de fondo (b2) y un smash (o1) el siguiente sea un error forzado (#). Las probabilidades de meter un winner luego de un smash es muy baja, y es dificil considerar un error no forzado luego de un smash."
   ],
   "metadata": {
    "collapsed": false
   },
   "id": "f7cff5acb764f845"
  }
 ],
 "metadata": {
  "kernelspec": {
   "display_name": "Python 3",
   "language": "python",
   "name": "python3"
  },
  "language_info": {
   "codemirror_mode": {
    "name": "ipython",
    "version": 2
   },
   "file_extension": ".py",
   "mimetype": "text/x-python",
   "name": "python",
   "nbconvert_exporter": "python",
   "pygments_lexer": "ipython2",
   "version": "2.7.6"
  }
 },
 "nbformat": 4,
 "nbformat_minor": 5
}
