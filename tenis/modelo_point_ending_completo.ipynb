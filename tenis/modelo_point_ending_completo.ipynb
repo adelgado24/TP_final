{
 "cells": [
  {
   "cell_type": "code",
   "execution_count": 1,
   "id": "initial_id",
   "metadata": {
    "collapsed": true,
    "ExecuteTime": {
     "end_time": "2024-11-21T22:48:38.704555Z",
     "start_time": "2024-11-21T22:48:30.525505Z"
    }
   },
   "outputs": [],
   "source": [
    "import pandas as pd\n",
    "import numpy as np\n",
    "import matplotlib.pyplot as plt\n",
    "import seaborn as sns\n",
    "from sklearn.model_selection import train_test_split\n",
    "import chardet\n",
    "import re\n",
    "import warnings\n",
    "import tensorflow as tf\n",
    "from tensorflow import keras\n",
    "from tensorflow.keras import layers\n",
    "from tensorflow.keras import Sequential\n",
    "from tensorflow.keras.layers import Dense, LSTM, Dropout, Embedding, Concatenate, Input\n",
    "from tensorflow.keras.preprocessing.text import Tokenizer\n",
    "from tensorflow.keras.preprocessing.sequence import pad_sequences\n",
    "from keras.models import Model\n",
    "from keras.optimizers import Adam"
   ]
  },
  {
   "cell_type": "code",
   "outputs": [],
   "source": [
    "df = pd.read_csv('data_output/charting_clean.csv', low_memory=False)"
   ],
   "metadata": {
    "collapsed": false,
    "ExecuteTime": {
     "end_time": "2024-11-21T22:48:42.639449Z",
     "start_time": "2024-11-21T22:48:38.704947Z"
    }
   },
   "id": "a65f7b653da1ac1f",
   "execution_count": 2
  },
  {
   "cell_type": "code",
   "outputs": [
    {
     "data": {
      "text/plain": "                                            match_id  Pt  Set1  Set2  Gm1  \\\n0  20230908-M-US_Open-SF-Novak_Djokovic_-Ben_Shelton   1     0     0  0.0   \n1  20230908-M-US_Open-SF-Novak_Djokovic_-Ben_Shelton   2     0     0  0.0   \n2  20230908-M-US_Open-SF-Novak_Djokovic_-Ben_Shelton   3     0     0  0.0   \n3  20230908-M-US_Open-SF-Novak_Djokovic_-Ben_Shelton   4     0     0  0.0   \n4  20230908-M-US_Open-SF-Novak_Djokovic_-Ben_Shelton   5     0     0  0.0   \n\n   Gm2    Pts    Gm# TbSet TB?  ...                   2nd_test  \\\n0  0.0    0-0  1 (1)     1   0  ...                        NaN   \n1  0.0   15-0  1 (2)     1   0  ...  6 b19 f1 b2 s1 f3 f2 j2 *   \n2  0.0  15-15  1 (3)     1   0  ...              4 b28 f2 o1 *   \n3  0.0  15-30  1 (4)     1   0  ...                        NaN   \n4  0.0  30-30  1 (5)     1   0  ...                        NaN   \n\n   rallyCountVerification      Player_svr   Player_ret 1st_player_svr  \\\n0                       1  Novak Djokovic  Ben Shelton              6   \n1                       8  Novak Djokovic  Ben Shelton             4n   \n2                       4  Novak Djokovic  Ben Shelton             4d   \n3                       3  Novak Djokovic  Ben Shelton          6 f3*   \n4                       3  Novak Djokovic  Ben Shelton          4 b3*   \n\n  1st_player_ret 2nd_player_svr  2nd_player_ret  1st_final  \\\n0           f2n#            NaN             NaN     6 f2n#   \n1            NaN     6 f1 s1 f2   b19 b2 f3 j2*         4n   \n2            NaN           4 f2         b28 o1*         4d   \n3            s28            NaN             NaN  6 s28 f3*   \n4            b37            NaN             NaN  4 b37 b3*   \n\n                  2nd_final  \n0                       NaN  \n1  6 b19 f1 b2 s1 f3 f2 j2*  \n2              4 b28 f2 o1*  \n3                       NaN  \n4                       NaN  \n\n[5 rows x 41 columns]",
      "text/html": "<div>\n<style scoped>\n    .dataframe tbody tr th:only-of-type {\n        vertical-align: middle;\n    }\n\n    .dataframe tbody tr th {\n        vertical-align: top;\n    }\n\n    .dataframe thead th {\n        text-align: right;\n    }\n</style>\n<table border=\"1\" class=\"dataframe\">\n  <thead>\n    <tr style=\"text-align: right;\">\n      <th></th>\n      <th>match_id</th>\n      <th>Pt</th>\n      <th>Set1</th>\n      <th>Set2</th>\n      <th>Gm1</th>\n      <th>Gm2</th>\n      <th>Pts</th>\n      <th>Gm#</th>\n      <th>TbSet</th>\n      <th>TB?</th>\n      <th>...</th>\n      <th>2nd_test</th>\n      <th>rallyCountVerification</th>\n      <th>Player_svr</th>\n      <th>Player_ret</th>\n      <th>1st_player_svr</th>\n      <th>1st_player_ret</th>\n      <th>2nd_player_svr</th>\n      <th>2nd_player_ret</th>\n      <th>1st_final</th>\n      <th>2nd_final</th>\n    </tr>\n  </thead>\n  <tbody>\n    <tr>\n      <th>0</th>\n      <td>20230908-M-US_Open-SF-Novak_Djokovic_-Ben_Shelton</td>\n      <td>1</td>\n      <td>0</td>\n      <td>0</td>\n      <td>0.0</td>\n      <td>0.0</td>\n      <td>0-0</td>\n      <td>1 (1)</td>\n      <td>1</td>\n      <td>0</td>\n      <td>...</td>\n      <td>NaN</td>\n      <td>1</td>\n      <td>Novak Djokovic</td>\n      <td>Ben Shelton</td>\n      <td>6</td>\n      <td>f2n#</td>\n      <td>NaN</td>\n      <td>NaN</td>\n      <td>6 f2n#</td>\n      <td>NaN</td>\n    </tr>\n    <tr>\n      <th>1</th>\n      <td>20230908-M-US_Open-SF-Novak_Djokovic_-Ben_Shelton</td>\n      <td>2</td>\n      <td>0</td>\n      <td>0</td>\n      <td>0.0</td>\n      <td>0.0</td>\n      <td>15-0</td>\n      <td>1 (2)</td>\n      <td>1</td>\n      <td>0</td>\n      <td>...</td>\n      <td>6 b19 f1 b2 s1 f3 f2 j2 *</td>\n      <td>8</td>\n      <td>Novak Djokovic</td>\n      <td>Ben Shelton</td>\n      <td>4n</td>\n      <td>NaN</td>\n      <td>6 f1 s1 f2</td>\n      <td>b19 b2 f3 j2*</td>\n      <td>4n</td>\n      <td>6 b19 f1 b2 s1 f3 f2 j2*</td>\n    </tr>\n    <tr>\n      <th>2</th>\n      <td>20230908-M-US_Open-SF-Novak_Djokovic_-Ben_Shelton</td>\n      <td>3</td>\n      <td>0</td>\n      <td>0</td>\n      <td>0.0</td>\n      <td>0.0</td>\n      <td>15-15</td>\n      <td>1 (3)</td>\n      <td>1</td>\n      <td>0</td>\n      <td>...</td>\n      <td>4 b28 f2 o1 *</td>\n      <td>4</td>\n      <td>Novak Djokovic</td>\n      <td>Ben Shelton</td>\n      <td>4d</td>\n      <td>NaN</td>\n      <td>4 f2</td>\n      <td>b28 o1*</td>\n      <td>4d</td>\n      <td>4 b28 f2 o1*</td>\n    </tr>\n    <tr>\n      <th>3</th>\n      <td>20230908-M-US_Open-SF-Novak_Djokovic_-Ben_Shelton</td>\n      <td>4</td>\n      <td>0</td>\n      <td>0</td>\n      <td>0.0</td>\n      <td>0.0</td>\n      <td>15-30</td>\n      <td>1 (4)</td>\n      <td>1</td>\n      <td>0</td>\n      <td>...</td>\n      <td>NaN</td>\n      <td>3</td>\n      <td>Novak Djokovic</td>\n      <td>Ben Shelton</td>\n      <td>6 f3*</td>\n      <td>s28</td>\n      <td>NaN</td>\n      <td>NaN</td>\n      <td>6 s28 f3*</td>\n      <td>NaN</td>\n    </tr>\n    <tr>\n      <th>4</th>\n      <td>20230908-M-US_Open-SF-Novak_Djokovic_-Ben_Shelton</td>\n      <td>5</td>\n      <td>0</td>\n      <td>0</td>\n      <td>0.0</td>\n      <td>0.0</td>\n      <td>30-30</td>\n      <td>1 (5)</td>\n      <td>1</td>\n      <td>0</td>\n      <td>...</td>\n      <td>NaN</td>\n      <td>3</td>\n      <td>Novak Djokovic</td>\n      <td>Ben Shelton</td>\n      <td>4 b3*</td>\n      <td>b37</td>\n      <td>NaN</td>\n      <td>NaN</td>\n      <td>4 b37 b3*</td>\n      <td>NaN</td>\n    </tr>\n  </tbody>\n</table>\n<p>5 rows × 41 columns</p>\n</div>"
     },
     "execution_count": 3,
     "metadata": {},
     "output_type": "execute_result"
    }
   ],
   "source": [
    "df.head()"
   ],
   "metadata": {
    "collapsed": false,
    "ExecuteTime": {
     "end_time": "2024-11-21T22:48:42.670454Z",
     "start_time": "2024-11-21T22:48:42.640451Z"
    }
   },
   "id": "b6a997646c968c55",
   "execution_count": 3
  },
  {
   "cell_type": "code",
   "outputs": [
    {
     "name": "stderr",
     "output_type": "stream",
     "text": [
      "C:\\Users\\agusd\\AppData\\Local\\Temp\\ipykernel_12516\\1418702483.py:5: SettingWithCopyWarning: \n",
      "A value is trying to be set on a copy of a slice from a DataFrame.\n",
      "Try using .loc[row_indexer,col_indexer] = value instead\n",
      "\n",
      "See the caveats in the documentation: https://pandas.pydata.org/pandas-docs/stable/user_guide/indexing.html#returning-a-view-versus-a-copy\n",
      "  point_winning_data['1st_final'] = np.where(point_winning_data['1stIn'] == 0, point_winning_data['2nd_final'], point_winning_data['1st_final'])\n"
     ]
    },
    {
     "data": {
      "text/plain": "   1stIn  2ndIn                 1st_final                 2nd_final  Pt  Set1  \\\n0      1    NaN                    6 f2n#                       NaN   1     0   \n1      0    1.0  6 b19 f1 b2 s1 f3 f2 j2*  6 b19 f1 b2 s1 f3 f2 j2*   2     0   \n2      0    1.0              4 b28 f2 o1*              4 b28 f2 o1*   3     0   \n3      1    NaN                 6 s28 f3*                       NaN   4     0   \n4      1    NaN                 4 b37 b3*                       NaN   5     0   \n\n   Set2  Gm1  Gm2 TbSet  ... Ret  isAce  isUnret  isRallyWinner  isForced  \\\n0     0  0.0  0.0     1  ...   2  False    False          False      True   \n1     0  0.0  0.0     1  ...   2  False    False           True     False   \n2     0  0.0  0.0     1  ...   2  False    False           True     False   \n3     0  0.0  0.0     1  ...   2  False    False           True     False   \n4     0  0.0  0.0     1  ...   2  False    False           True     False   \n\n   isUnforced  isDouble  PtWinner  isSvrWinner  rallyCount  \n0       False     False         1            1           1  \n1       False     False         2            0           8  \n2       False     False         2            0           4  \n3       False     False         1            1           3  \n4       False     False         1            1           3  \n\n[5 rows x 23 columns]",
      "text/html": "<div>\n<style scoped>\n    .dataframe tbody tr th:only-of-type {\n        vertical-align: middle;\n    }\n\n    .dataframe tbody tr th {\n        vertical-align: top;\n    }\n\n    .dataframe thead th {\n        text-align: right;\n    }\n</style>\n<table border=\"1\" class=\"dataframe\">\n  <thead>\n    <tr style=\"text-align: right;\">\n      <th></th>\n      <th>1stIn</th>\n      <th>2ndIn</th>\n      <th>1st_final</th>\n      <th>2nd_final</th>\n      <th>Pt</th>\n      <th>Set1</th>\n      <th>Set2</th>\n      <th>Gm1</th>\n      <th>Gm2</th>\n      <th>TbSet</th>\n      <th>...</th>\n      <th>Ret</th>\n      <th>isAce</th>\n      <th>isUnret</th>\n      <th>isRallyWinner</th>\n      <th>isForced</th>\n      <th>isUnforced</th>\n      <th>isDouble</th>\n      <th>PtWinner</th>\n      <th>isSvrWinner</th>\n      <th>rallyCount</th>\n    </tr>\n  </thead>\n  <tbody>\n    <tr>\n      <th>0</th>\n      <td>1</td>\n      <td>NaN</td>\n      <td>6 f2n#</td>\n      <td>NaN</td>\n      <td>1</td>\n      <td>0</td>\n      <td>0</td>\n      <td>0.0</td>\n      <td>0.0</td>\n      <td>1</td>\n      <td>...</td>\n      <td>2</td>\n      <td>False</td>\n      <td>False</td>\n      <td>False</td>\n      <td>True</td>\n      <td>False</td>\n      <td>False</td>\n      <td>1</td>\n      <td>1</td>\n      <td>1</td>\n    </tr>\n    <tr>\n      <th>1</th>\n      <td>0</td>\n      <td>1.0</td>\n      <td>6 b19 f1 b2 s1 f3 f2 j2*</td>\n      <td>6 b19 f1 b2 s1 f3 f2 j2*</td>\n      <td>2</td>\n      <td>0</td>\n      <td>0</td>\n      <td>0.0</td>\n      <td>0.0</td>\n      <td>1</td>\n      <td>...</td>\n      <td>2</td>\n      <td>False</td>\n      <td>False</td>\n      <td>True</td>\n      <td>False</td>\n      <td>False</td>\n      <td>False</td>\n      <td>2</td>\n      <td>0</td>\n      <td>8</td>\n    </tr>\n    <tr>\n      <th>2</th>\n      <td>0</td>\n      <td>1.0</td>\n      <td>4 b28 f2 o1*</td>\n      <td>4 b28 f2 o1*</td>\n      <td>3</td>\n      <td>0</td>\n      <td>0</td>\n      <td>0.0</td>\n      <td>0.0</td>\n      <td>1</td>\n      <td>...</td>\n      <td>2</td>\n      <td>False</td>\n      <td>False</td>\n      <td>True</td>\n      <td>False</td>\n      <td>False</td>\n      <td>False</td>\n      <td>2</td>\n      <td>0</td>\n      <td>4</td>\n    </tr>\n    <tr>\n      <th>3</th>\n      <td>1</td>\n      <td>NaN</td>\n      <td>6 s28 f3*</td>\n      <td>NaN</td>\n      <td>4</td>\n      <td>0</td>\n      <td>0</td>\n      <td>0.0</td>\n      <td>0.0</td>\n      <td>1</td>\n      <td>...</td>\n      <td>2</td>\n      <td>False</td>\n      <td>False</td>\n      <td>True</td>\n      <td>False</td>\n      <td>False</td>\n      <td>False</td>\n      <td>1</td>\n      <td>1</td>\n      <td>3</td>\n    </tr>\n    <tr>\n      <th>4</th>\n      <td>1</td>\n      <td>NaN</td>\n      <td>4 b37 b3*</td>\n      <td>NaN</td>\n      <td>5</td>\n      <td>0</td>\n      <td>0</td>\n      <td>0.0</td>\n      <td>0.0</td>\n      <td>1</td>\n      <td>...</td>\n      <td>2</td>\n      <td>False</td>\n      <td>False</td>\n      <td>True</td>\n      <td>False</td>\n      <td>False</td>\n      <td>False</td>\n      <td>1</td>\n      <td>1</td>\n      <td>3</td>\n    </tr>\n  </tbody>\n</table>\n<p>5 rows × 23 columns</p>\n</div>"
     },
     "execution_count": 4,
     "metadata": {},
     "output_type": "execute_result"
    }
   ],
   "source": [
    "# Select relevant columns\n",
    "point_winning_data = df[['1stIn', '2ndIn', '1st_final', '2nd_final', 'Pt', 'Set1', 'Set2', 'Gm1', 'Gm2', 'TbSet', 'TB?', 'TBpt', 'Svr', 'Ret', 'isAce', 'isUnret', 'isRallyWinner', 'isForced', 'isUnforced', 'isDouble', 'PtWinner', 'isSvrWinner', 'rallyCount']]\n",
    "\n",
    "# Replace values in '1st_final' with '2nd_final' if '1stIn' == 0\n",
    "point_winning_data['1st_final'] = np.where(point_winning_data['1stIn'] == 0, point_winning_data['2nd_final'], point_winning_data['1st_final'])\n",
    "\n",
    "# Drop rows where '2ndIn' is 0\n",
    "point_winning_data = point_winning_data[point_winning_data['2ndIn'] != 0]\n",
    "\n",
    "# Display the first few rows of the DataFrame\n",
    "point_winning_data.head()"
   ],
   "metadata": {
    "collapsed": false,
    "ExecuteTime": {
     "end_time": "2024-11-21T22:48:42.889134Z",
     "start_time": "2024-11-21T22:48:42.671455Z"
    }
   },
   "id": "c841c297be17c9e0",
   "execution_count": 4
  },
  {
   "cell_type": "code",
   "outputs": [],
   "source": [
    "#drop na if na in 1st_final\n",
    "point_winning_data = point_winning_data.dropna(subset=['1st_final'])"
   ],
   "metadata": {
    "collapsed": false,
    "ExecuteTime": {
     "end_time": "2024-11-21T22:48:43.041549Z",
     "start_time": "2024-11-21T22:48:42.890135Z"
    }
   },
   "id": "dc1e20e0a54686ec",
   "execution_count": 5
  },
  {
   "cell_type": "code",
   "outputs": [],
   "source": [
    "point_winning_data.to_csv('data_output/full_sequence.csv', index=False)"
   ],
   "metadata": {
    "collapsed": false,
    "ExecuteTime": {
     "end_time": "2024-11-21T22:51:20.178036Z",
     "start_time": "2024-11-21T22:51:16.609223Z"
    }
   },
   "id": "f3726b0f4fa5e1a8",
   "execution_count": 8
  },
  {
   "cell_type": "code",
   "outputs": [],
   "source": [
    "point_winning_data = point_winning_data.sample(frac=0.5, random_state=42)"
   ],
   "metadata": {
    "collapsed": false,
    "ExecuteTime": {
     "end_time": "2024-11-20T13:24:25.043022Z",
     "start_time": "2024-11-20T13:24:24.841978Z"
    }
   },
   "id": "46807164869dba3b",
   "execution_count": 116
  },
  {
   "cell_type": "code",
   "outputs": [],
   "source": [
    "tokenizer = Tokenizer()\n",
    "tokenizer.fit_on_texts(point_winning_data['1st_final'])\n",
    "word_index = tokenizer.word_index\n",
    "vocab_size = len(word_index) + 1\n",
    "\n",
    "# Convertir las secuencias en listas de tokens\n",
    "tokenized_sequences = []\n",
    "for seq in point_winning_data['1st_final']:\n",
    "    tokens = seq.split()\n",
    "    tokenized_sequence = tokenizer.texts_to_sequences([tokens])\n",
    "    tokenized_sequence = [item for sublist in tokenized_sequence for item in sublist]\n",
    "    tokenized_sequences.append(tokenized_sequence)\n",
    "\n",
    "# Rellenar secuencias para que todas tengan la misma longitud\n",
    "max_sequence_length = 10  # Máximo de 5 golpes para unificar el largo de las secuencias\n",
    "X_seq = pad_sequences(tokenized_sequences, maxlen=max_sequence_length, padding='post')\n"
   ],
   "metadata": {
    "collapsed": false,
    "ExecuteTime": {
     "end_time": "2024-11-20T13:24:29.594980Z",
     "start_time": "2024-11-20T13:24:25.044022Z"
    }
   },
   "id": "1a7719d33f7fd88f",
   "execution_count": 117
  },
  {
   "cell_type": "code",
   "outputs": [
    {
     "data": {
      "text/plain": "        1stIn  2ndIn                      1st_final  \\\n592200      0    1.0                     5 b38 s2n@   \n484980      1    NaN                         6 f2n#   \n411659      1    NaN            4 b38 b2 f1 f1 f3n@   \n570119      0    1.0                     5 b28 b3w@   \n159868      1    NaN  6 b29 b2 b2 f2 b2 f2 b2 f19w@   \n...       ...    ...                            ...   \n179267      1    NaN                    4 q28 f19w@   \n171718      0    1.0         5 f17 f1 f1 f1 f2 f38*   \n621610      1    NaN                             6*   \n162217      0    1.0                         5 b3d@   \n64110       0    1.0   4 f19 f3 b3 s3 f3 b3 s3 s3n@   \n\n                           2nd_final   Pt  Set1  Set2  Gm1  Gm2 TbSet  ...  \\\n592200                    5 b38 s2n@  149     2     0  0.0  1.0     1  ...   \n484980                           NaN  101     1     0  5.0  4.0     1  ...   \n411659                           NaN  109     1     0  0.0  0.0     1  ...   \n570119                    5 b28 b3w@  136     2     0  4.0  5.0     1  ...   \n159868                           NaN  198     2     1  0.0  0.0     1  ...   \n...                              ...  ...   ...   ...  ...  ...   ...  ...   \n179267                           NaN   67     1     0  1.0  1.0     1  ...   \n171718        5 f17 f1 f1 f1 f2 f38*  133     1     1  2.0  1.0     1  ...   \n621610                           NaN  228     1     2  3.0  2.0     1  ...   \n162217                        5 b3d@   49     1     0  0.0  0.0     1  ...   \n64110   4 f19 f3 b3 s3 f3 b3 s3 s3n@   68     0     0  6.0  5.0     1  ...   \n\n       Ret  isAce  isUnret  isRallyWinner  isForced  isUnforced  isDouble  \\\n592200   2  False    False          False     False        True     False   \n484980   2  False    False          False      True       False     False   \n411659   1  False    False          False     False        True     False   \n570119   2  False    False          False     False        True     False   \n159868   1  False    False          False     False        True     False   \n...     ..    ...      ...            ...       ...         ...       ...   \n179267   1  False    False          False     False        True     False   \n171718   1  False    False           True     False       False     False   \n621610   1   True    False          False     False       False     False   \n162217   2  False    False          False     False        True     False   \n64110    1  False    False          False     False        True     False   \n\n        PtWinner  isSvrWinner  rallyCount  \n592200         2            0           2  \n484980         1            1           1  \n411659         2            1           5  \n570119         2            0           2  \n159868         1            0           8  \n...          ...          ...         ...  \n179267         1            0           2  \n171718         2            1           7  \n621610         2            1           1  \n162217         1            1           1  \n64110          1            0           8  \n\n[356652 rows x 23 columns]",
      "text/html": "<div>\n<style scoped>\n    .dataframe tbody tr th:only-of-type {\n        vertical-align: middle;\n    }\n\n    .dataframe tbody tr th {\n        vertical-align: top;\n    }\n\n    .dataframe thead th {\n        text-align: right;\n    }\n</style>\n<table border=\"1\" class=\"dataframe\">\n  <thead>\n    <tr style=\"text-align: right;\">\n      <th></th>\n      <th>1stIn</th>\n      <th>2ndIn</th>\n      <th>1st_final</th>\n      <th>2nd_final</th>\n      <th>Pt</th>\n      <th>Set1</th>\n      <th>Set2</th>\n      <th>Gm1</th>\n      <th>Gm2</th>\n      <th>TbSet</th>\n      <th>...</th>\n      <th>Ret</th>\n      <th>isAce</th>\n      <th>isUnret</th>\n      <th>isRallyWinner</th>\n      <th>isForced</th>\n      <th>isUnforced</th>\n      <th>isDouble</th>\n      <th>PtWinner</th>\n      <th>isSvrWinner</th>\n      <th>rallyCount</th>\n    </tr>\n  </thead>\n  <tbody>\n    <tr>\n      <th>592200</th>\n      <td>0</td>\n      <td>1.0</td>\n      <td>5 b38 s2n@</td>\n      <td>5 b38 s2n@</td>\n      <td>149</td>\n      <td>2</td>\n      <td>0</td>\n      <td>0.0</td>\n      <td>1.0</td>\n      <td>1</td>\n      <td>...</td>\n      <td>2</td>\n      <td>False</td>\n      <td>False</td>\n      <td>False</td>\n      <td>False</td>\n      <td>True</td>\n      <td>False</td>\n      <td>2</td>\n      <td>0</td>\n      <td>2</td>\n    </tr>\n    <tr>\n      <th>484980</th>\n      <td>1</td>\n      <td>NaN</td>\n      <td>6 f2n#</td>\n      <td>NaN</td>\n      <td>101</td>\n      <td>1</td>\n      <td>0</td>\n      <td>5.0</td>\n      <td>4.0</td>\n      <td>1</td>\n      <td>...</td>\n      <td>2</td>\n      <td>False</td>\n      <td>False</td>\n      <td>False</td>\n      <td>True</td>\n      <td>False</td>\n      <td>False</td>\n      <td>1</td>\n      <td>1</td>\n      <td>1</td>\n    </tr>\n    <tr>\n      <th>411659</th>\n      <td>1</td>\n      <td>NaN</td>\n      <td>4 b38 b2 f1 f1 f3n@</td>\n      <td>NaN</td>\n      <td>109</td>\n      <td>1</td>\n      <td>0</td>\n      <td>0.0</td>\n      <td>0.0</td>\n      <td>1</td>\n      <td>...</td>\n      <td>1</td>\n      <td>False</td>\n      <td>False</td>\n      <td>False</td>\n      <td>False</td>\n      <td>True</td>\n      <td>False</td>\n      <td>2</td>\n      <td>1</td>\n      <td>5</td>\n    </tr>\n    <tr>\n      <th>570119</th>\n      <td>0</td>\n      <td>1.0</td>\n      <td>5 b28 b3w@</td>\n      <td>5 b28 b3w@</td>\n      <td>136</td>\n      <td>2</td>\n      <td>0</td>\n      <td>4.0</td>\n      <td>5.0</td>\n      <td>1</td>\n      <td>...</td>\n      <td>2</td>\n      <td>False</td>\n      <td>False</td>\n      <td>False</td>\n      <td>False</td>\n      <td>True</td>\n      <td>False</td>\n      <td>2</td>\n      <td>0</td>\n      <td>2</td>\n    </tr>\n    <tr>\n      <th>159868</th>\n      <td>1</td>\n      <td>NaN</td>\n      <td>6 b29 b2 b2 f2 b2 f2 b2 f19w@</td>\n      <td>NaN</td>\n      <td>198</td>\n      <td>2</td>\n      <td>1</td>\n      <td>0.0</td>\n      <td>0.0</td>\n      <td>1</td>\n      <td>...</td>\n      <td>1</td>\n      <td>False</td>\n      <td>False</td>\n      <td>False</td>\n      <td>False</td>\n      <td>True</td>\n      <td>False</td>\n      <td>1</td>\n      <td>0</td>\n      <td>8</td>\n    </tr>\n    <tr>\n      <th>...</th>\n      <td>...</td>\n      <td>...</td>\n      <td>...</td>\n      <td>...</td>\n      <td>...</td>\n      <td>...</td>\n      <td>...</td>\n      <td>...</td>\n      <td>...</td>\n      <td>...</td>\n      <td>...</td>\n      <td>...</td>\n      <td>...</td>\n      <td>...</td>\n      <td>...</td>\n      <td>...</td>\n      <td>...</td>\n      <td>...</td>\n      <td>...</td>\n      <td>...</td>\n      <td>...</td>\n    </tr>\n    <tr>\n      <th>179267</th>\n      <td>1</td>\n      <td>NaN</td>\n      <td>4 q28 f19w@</td>\n      <td>NaN</td>\n      <td>67</td>\n      <td>1</td>\n      <td>0</td>\n      <td>1.0</td>\n      <td>1.0</td>\n      <td>1</td>\n      <td>...</td>\n      <td>1</td>\n      <td>False</td>\n      <td>False</td>\n      <td>False</td>\n      <td>False</td>\n      <td>True</td>\n      <td>False</td>\n      <td>1</td>\n      <td>0</td>\n      <td>2</td>\n    </tr>\n    <tr>\n      <th>171718</th>\n      <td>0</td>\n      <td>1.0</td>\n      <td>5 f17 f1 f1 f1 f2 f38*</td>\n      <td>5 f17 f1 f1 f1 f2 f38*</td>\n      <td>133</td>\n      <td>1</td>\n      <td>1</td>\n      <td>2.0</td>\n      <td>1.0</td>\n      <td>1</td>\n      <td>...</td>\n      <td>1</td>\n      <td>False</td>\n      <td>False</td>\n      <td>True</td>\n      <td>False</td>\n      <td>False</td>\n      <td>False</td>\n      <td>2</td>\n      <td>1</td>\n      <td>7</td>\n    </tr>\n    <tr>\n      <th>621610</th>\n      <td>1</td>\n      <td>NaN</td>\n      <td>6*</td>\n      <td>NaN</td>\n      <td>228</td>\n      <td>1</td>\n      <td>2</td>\n      <td>3.0</td>\n      <td>2.0</td>\n      <td>1</td>\n      <td>...</td>\n      <td>1</td>\n      <td>True</td>\n      <td>False</td>\n      <td>False</td>\n      <td>False</td>\n      <td>False</td>\n      <td>False</td>\n      <td>2</td>\n      <td>1</td>\n      <td>1</td>\n    </tr>\n    <tr>\n      <th>162217</th>\n      <td>0</td>\n      <td>1.0</td>\n      <td>5 b3d@</td>\n      <td>5 b3d@</td>\n      <td>49</td>\n      <td>1</td>\n      <td>0</td>\n      <td>0.0</td>\n      <td>0.0</td>\n      <td>1</td>\n      <td>...</td>\n      <td>2</td>\n      <td>False</td>\n      <td>False</td>\n      <td>False</td>\n      <td>False</td>\n      <td>True</td>\n      <td>False</td>\n      <td>1</td>\n      <td>1</td>\n      <td>1</td>\n    </tr>\n    <tr>\n      <th>64110</th>\n      <td>0</td>\n      <td>1.0</td>\n      <td>4 f19 f3 b3 s3 f3 b3 s3 s3n@</td>\n      <td>4 f19 f3 b3 s3 f3 b3 s3 s3n@</td>\n      <td>68</td>\n      <td>0</td>\n      <td>0</td>\n      <td>6.0</td>\n      <td>5.0</td>\n      <td>1</td>\n      <td>...</td>\n      <td>1</td>\n      <td>False</td>\n      <td>False</td>\n      <td>False</td>\n      <td>False</td>\n      <td>True</td>\n      <td>False</td>\n      <td>1</td>\n      <td>0</td>\n      <td>8</td>\n    </tr>\n  </tbody>\n</table>\n<p>356652 rows × 23 columns</p>\n</div>"
     },
     "execution_count": 118,
     "metadata": {},
     "output_type": "execute_result"
    }
   ],
   "source": [
    "point_winning_data"
   ],
   "metadata": {
    "collapsed": false,
    "ExecuteTime": {
     "end_time": "2024-11-20T13:24:29.733011Z",
     "start_time": "2024-11-20T13:24:29.595981Z"
    }
   },
   "id": "3b89f73ea6d4072c",
   "execution_count": 118
  },
  {
   "cell_type": "code",
   "outputs": [
    {
     "data": {
      "text/plain": "1stIn              int64\n2ndIn            float64\n1st_final         object\n2nd_final         object\nPt                 int64\nSet1               int64\nSet2               int64\nGm1              float64\nGm2              float64\nTbSet             object\nTB?               object\nTBpt             float64\nSvr                int64\nRet                int64\nisAce               bool\nisUnret             bool\nisRallyWinner       bool\nisForced            bool\nisUnforced          bool\nisDouble            bool\nPtWinner           int64\nisSvrWinner        int64\nrallyCount         int64\ndtype: object"
     },
     "execution_count": 119,
     "metadata": {},
     "output_type": "execute_result"
    }
   ],
   "source": [
    "point_winning_data.dtypes"
   ],
   "metadata": {
    "collapsed": false,
    "ExecuteTime": {
     "end_time": "2024-11-20T13:24:29.748015Z",
     "start_time": "2024-11-20T13:24:29.734011Z"
    }
   },
   "id": "950262f42d081b3e",
   "execution_count": 119
  },
  {
   "cell_type": "code",
   "outputs": [
    {
     "data": {
      "text/plain": "1stIn              int64\n2ndIn            float64\n1st_final         object\n2nd_final         object\nPt                 int64\nSet1               int64\nSet2               int64\nGm1              float64\nGm2              float64\nTbSet            float64\nTB?              float64\nTBpt             float64\nSvr                int64\nRet                int64\nisAce               bool\nisUnret             bool\nisRallyWinner       bool\nisForced            bool\nisUnforced          bool\nisDouble            bool\nPtWinner           int64\nisSvrWinner        int64\nrallyCount         int64\ndtype: object"
     },
     "execution_count": 120,
     "metadata": {},
     "output_type": "execute_result"
    }
   ],
   "source": [
    "point_winning_data['TbSet'] = point_winning_data['TbSet'].replace('T',2).astype(float)\n",
    "point_winning_data['TB?'] = point_winning_data['TbSet'].replace('S',2).astype(float)\n",
    "point_winning_data.dtypes"
   ],
   "metadata": {
    "collapsed": false,
    "ExecuteTime": {
     "end_time": "2024-11-20T13:24:29.871042Z",
     "start_time": "2024-11-20T13:24:29.750016Z"
    }
   },
   "id": "f7454dbf9cd7c360",
   "execution_count": 120
  },
  {
   "cell_type": "code",
   "outputs": [
    {
     "data": {
      "text/plain": "        1stIn  2ndIn                      1st_final   2nd_final   Pt  Set1  \\\n592200      0    1.0                     5 b38 s2n@  5 b38 s2n@  149     2   \n484980      1    NaN                         6 f2n#         NaN  101     1   \n411659      1    NaN            4 b38 b2 f1 f1 f3n@         NaN  109     1   \n570119      0    1.0                     5 b28 b3w@  5 b28 b3w@  136     2   \n159868      1    NaN  6 b29 b2 b2 f2 b2 f2 b2 f19w@         NaN  198     2   \n\n        Set2  Gm1  Gm2  TbSet  ...  Ret  isAce  isUnret  isRallyWinner  \\\n592200     0  0.0  1.0    1.0  ...    2  False    False          False   \n484980     0  5.0  4.0    1.0  ...    2  False    False          False   \n411659     0  0.0  0.0    1.0  ...    1  False    False          False   \n570119     0  4.0  5.0    1.0  ...    2  False    False          False   \n159868     1  0.0  0.0    1.0  ...    1  False    False          False   \n\n        isForced  isUnforced  isDouble  PtWinner  isSvrWinner  rallyCount  \n592200     False        True     False         2            0           2  \n484980      True       False     False         1            1           1  \n411659     False        True     False         2            1           5  \n570119     False        True     False         2            0           2  \n159868     False        True     False         1            0           8  \n\n[5 rows x 23 columns]",
      "text/html": "<div>\n<style scoped>\n    .dataframe tbody tr th:only-of-type {\n        vertical-align: middle;\n    }\n\n    .dataframe tbody tr th {\n        vertical-align: top;\n    }\n\n    .dataframe thead th {\n        text-align: right;\n    }\n</style>\n<table border=\"1\" class=\"dataframe\">\n  <thead>\n    <tr style=\"text-align: right;\">\n      <th></th>\n      <th>1stIn</th>\n      <th>2ndIn</th>\n      <th>1st_final</th>\n      <th>2nd_final</th>\n      <th>Pt</th>\n      <th>Set1</th>\n      <th>Set2</th>\n      <th>Gm1</th>\n      <th>Gm2</th>\n      <th>TbSet</th>\n      <th>...</th>\n      <th>Ret</th>\n      <th>isAce</th>\n      <th>isUnret</th>\n      <th>isRallyWinner</th>\n      <th>isForced</th>\n      <th>isUnforced</th>\n      <th>isDouble</th>\n      <th>PtWinner</th>\n      <th>isSvrWinner</th>\n      <th>rallyCount</th>\n    </tr>\n  </thead>\n  <tbody>\n    <tr>\n      <th>592200</th>\n      <td>0</td>\n      <td>1.0</td>\n      <td>5 b38 s2n@</td>\n      <td>5 b38 s2n@</td>\n      <td>149</td>\n      <td>2</td>\n      <td>0</td>\n      <td>0.0</td>\n      <td>1.0</td>\n      <td>1.0</td>\n      <td>...</td>\n      <td>2</td>\n      <td>False</td>\n      <td>False</td>\n      <td>False</td>\n      <td>False</td>\n      <td>True</td>\n      <td>False</td>\n      <td>2</td>\n      <td>0</td>\n      <td>2</td>\n    </tr>\n    <tr>\n      <th>484980</th>\n      <td>1</td>\n      <td>NaN</td>\n      <td>6 f2n#</td>\n      <td>NaN</td>\n      <td>101</td>\n      <td>1</td>\n      <td>0</td>\n      <td>5.0</td>\n      <td>4.0</td>\n      <td>1.0</td>\n      <td>...</td>\n      <td>2</td>\n      <td>False</td>\n      <td>False</td>\n      <td>False</td>\n      <td>True</td>\n      <td>False</td>\n      <td>False</td>\n      <td>1</td>\n      <td>1</td>\n      <td>1</td>\n    </tr>\n    <tr>\n      <th>411659</th>\n      <td>1</td>\n      <td>NaN</td>\n      <td>4 b38 b2 f1 f1 f3n@</td>\n      <td>NaN</td>\n      <td>109</td>\n      <td>1</td>\n      <td>0</td>\n      <td>0.0</td>\n      <td>0.0</td>\n      <td>1.0</td>\n      <td>...</td>\n      <td>1</td>\n      <td>False</td>\n      <td>False</td>\n      <td>False</td>\n      <td>False</td>\n      <td>True</td>\n      <td>False</td>\n      <td>2</td>\n      <td>1</td>\n      <td>5</td>\n    </tr>\n    <tr>\n      <th>570119</th>\n      <td>0</td>\n      <td>1.0</td>\n      <td>5 b28 b3w@</td>\n      <td>5 b28 b3w@</td>\n      <td>136</td>\n      <td>2</td>\n      <td>0</td>\n      <td>4.0</td>\n      <td>5.0</td>\n      <td>1.0</td>\n      <td>...</td>\n      <td>2</td>\n      <td>False</td>\n      <td>False</td>\n      <td>False</td>\n      <td>False</td>\n      <td>True</td>\n      <td>False</td>\n      <td>2</td>\n      <td>0</td>\n      <td>2</td>\n    </tr>\n    <tr>\n      <th>159868</th>\n      <td>1</td>\n      <td>NaN</td>\n      <td>6 b29 b2 b2 f2 b2 f2 b2 f19w@</td>\n      <td>NaN</td>\n      <td>198</td>\n      <td>2</td>\n      <td>1</td>\n      <td>0.0</td>\n      <td>0.0</td>\n      <td>1.0</td>\n      <td>...</td>\n      <td>1</td>\n      <td>False</td>\n      <td>False</td>\n      <td>False</td>\n      <td>False</td>\n      <td>True</td>\n      <td>False</td>\n      <td>1</td>\n      <td>0</td>\n      <td>8</td>\n    </tr>\n  </tbody>\n</table>\n<p>5 rows × 23 columns</p>\n</div>"
     },
     "execution_count": 121,
     "metadata": {},
     "output_type": "execute_result"
    }
   ],
   "source": [
    "point_winning_data.head()"
   ],
   "metadata": {
    "collapsed": false,
    "ExecuteTime": {
     "end_time": "2024-11-20T13:24:29.901049Z",
     "start_time": "2024-11-20T13:24:29.873043Z"
    }
   },
   "id": "d54e6c8f4e01485f",
   "execution_count": 121
  },
  {
   "cell_type": "code",
   "outputs": [
    {
     "name": "stdout",
     "output_type": "stream",
     "text": [
      "X_seq shape: (356652, 10), context_features shape: (356652, 19)\n"
     ]
    }
   ],
   "source": [
    "from sklearn.preprocessing import StandardScaler\n",
    "\n",
    "X_context_features = point_winning_data[['Pt', 'Set1', 'Set2', 'Gm1', 'Gm2', 'TbSet', 'TB?', 'TBpt', 'Svr', 'Ret', 'isAce', 'isUnret', 'isRallyWinner', 'isForced', 'isUnforced', 'isDouble', 'PtWinner', 'isSvrWinner', 'rallyCount']]\n",
    "\n",
    "scaler = StandardScaler()\n",
    "context_features = scaler.fit_transform(X_context_features)\n",
    "\n",
    "print(f\"X_seq shape: {X_seq.shape}, context_features shape: {X_context_features.shape}\")"
   ],
   "metadata": {
    "collapsed": false,
    "ExecuteTime": {
     "end_time": "2024-11-20T13:24:30.384158Z",
     "start_time": "2024-11-20T13:24:29.902050Z"
    }
   },
   "id": "999e715a7d2ee750",
   "execution_count": 122
  },
  {
   "cell_type": "code",
   "outputs": [
    {
     "name": "stdout",
     "output_type": "stream",
     "text": [
      "X_seq shape: (356652, 10), context_features shape: (356652, 19), y_type shape: 356652\n"
     ]
    }
   ],
   "source": [
    "# definir las etiquetas y, 0 si fue winner (*), 1 si fue error forzado (#), 2 si fue error no forzado(@)\n",
    "point_winning_data.head()\n",
    "#Si ultimo caracter de 1st_final es *, entonces 0, si es # entonces 1, si es @ entonces 2\n",
    "y_type = []\n",
    "for i in point_winning_data['1st_final']:\n",
    "    if i[-1] == '*':\n",
    "        y_type.append(0)\n",
    "    elif i[-1] == '#':\n",
    "        y_type.append(1)\n",
    "    else:\n",
    "        y_type.append(2)\n",
    "        \n",
    "print(f'X_seq shape: {X_seq.shape}, context_features shape: {X_context_features.shape}, y_type shape: {len(y_type)}')"
   ],
   "metadata": {
    "collapsed": false,
    "ExecuteTime": {
     "end_time": "2024-11-20T13:24:30.494183Z",
     "start_time": "2024-11-20T13:24:30.385158Z"
    }
   },
   "id": "3390a789b8a9a468",
   "execution_count": 123
  },
  {
   "cell_type": "code",
   "outputs": [
    {
     "name": "stderr",
     "output_type": "stream",
     "text": [
      "C:\\Users\\agusd\\AppData\\Local\\Packages\\PythonSoftwareFoundation.Python.3.10_qbz5n2kfra8p0\\LocalCache\\local-packages\\Python310\\site-packages\\keras\\src\\layers\\core\\embedding.py:90: UserWarning: Argument `input_length` is deprecated. Just remove it.\n",
      "  warnings.warn(\n"
     ]
    },
    {
     "data": {
      "text/plain": "\u001B[1mModel: \"functional_5\"\u001B[0m\n",
      "text/html": "<pre style=\"white-space:pre;overflow-x:auto;line-height:normal;font-family:Menlo,'DejaVu Sans Mono',consolas,'Courier New',monospace\"><span style=\"font-weight: bold\">Model: \"functional_5\"</span>\n</pre>\n"
     },
     "metadata": {},
     "output_type": "display_data"
    },
    {
     "data": {
      "text/plain": "┏━━━━━━━━━━━━━━━━━━━━━┳━━━━━━━━━━━━━━━━━━━┳━━━━━━━━━━━━┳━━━━━━━━━━━━━━━━━━━┓\n┃\u001B[1m \u001B[0m\u001B[1mLayer (type)       \u001B[0m\u001B[1m \u001B[0m┃\u001B[1m \u001B[0m\u001B[1mOutput Shape     \u001B[0m\u001B[1m \u001B[0m┃\u001B[1m \u001B[0m\u001B[1m   Param #\u001B[0m\u001B[1m \u001B[0m┃\u001B[1m \u001B[0m\u001B[1mConnected to     \u001B[0m\u001B[1m \u001B[0m┃\n┡━━━━━━━━━━━━━━━━━━━━━╇━━━━━━━━━━━━━━━━━━━╇━━━━━━━━━━━━╇━━━━━━━━━━━━━━━━━━━┩\n│ input_layer_12      │ (\u001B[38;5;45mNone\u001B[0m, \u001B[38;5;34m10\u001B[0m)        │          \u001B[38;5;34m0\u001B[0m │ -                 │\n│ (\u001B[38;5;33mInputLayer\u001B[0m)        │                   │            │                   │\n├─────────────────────┼───────────────────┼────────────┼───────────────────┤\n│ embedding_15        │ (\u001B[38;5;45mNone\u001B[0m, \u001B[38;5;34m10\u001B[0m, \u001B[38;5;34m64\u001B[0m)    │     \u001B[38;5;34m43,008\u001B[0m │ input_layer_12[\u001B[38;5;34m0\u001B[0m… │\n│ (\u001B[38;5;33mEmbedding\u001B[0m)         │                   │            │                   │\n├─────────────────────┼───────────────────┼────────────┼───────────────────┤\n│ input_layer_13      │ (\u001B[38;5;45mNone\u001B[0m, \u001B[38;5;34m19\u001B[0m)        │          \u001B[38;5;34m0\u001B[0m │ -                 │\n│ (\u001B[38;5;33mInputLayer\u001B[0m)        │                   │            │                   │\n├─────────────────────┼───────────────────┼────────────┼───────────────────┤\n│ lstm_24 (\u001B[38;5;33mLSTM\u001B[0m)      │ (\u001B[38;5;45mNone\u001B[0m, \u001B[38;5;34m64\u001B[0m)        │     \u001B[38;5;34m33,024\u001B[0m │ embedding_15[\u001B[38;5;34m0\u001B[0m][\u001B[38;5;34m…\u001B[0m │\n├─────────────────────┼───────────────────┼────────────┼───────────────────┤\n│ dense_28 (\u001B[38;5;33mDense\u001B[0m)    │ (\u001B[38;5;45mNone\u001B[0m, \u001B[38;5;34m32\u001B[0m)        │        \u001B[38;5;34m640\u001B[0m │ input_layer_13[\u001B[38;5;34m0\u001B[0m… │\n├─────────────────────┼───────────────────┼────────────┼───────────────────┤\n│ concatenate_6       │ (\u001B[38;5;45mNone\u001B[0m, \u001B[38;5;34m96\u001B[0m)        │          \u001B[38;5;34m0\u001B[0m │ lstm_24[\u001B[38;5;34m0\u001B[0m][\u001B[38;5;34m0\u001B[0m],    │\n│ (\u001B[38;5;33mConcatenate\u001B[0m)       │                   │            │ dense_28[\u001B[38;5;34m0\u001B[0m][\u001B[38;5;34m0\u001B[0m]    │\n├─────────────────────┼───────────────────┼────────────┼───────────────────┤\n│ dropout_23          │ (\u001B[38;5;45mNone\u001B[0m, \u001B[38;5;34m96\u001B[0m)        │          \u001B[38;5;34m0\u001B[0m │ concatenate_6[\u001B[38;5;34m0\u001B[0m]… │\n│ (\u001B[38;5;33mDropout\u001B[0m)           │                   │            │                   │\n├─────────────────────┼───────────────────┼────────────┼───────────────────┤\n│ dense_29 (\u001B[38;5;33mDense\u001B[0m)    │ (\u001B[38;5;45mNone\u001B[0m, \u001B[38;5;34m3\u001B[0m)         │        \u001B[38;5;34m291\u001B[0m │ dropout_23[\u001B[38;5;34m0\u001B[0m][\u001B[38;5;34m0\u001B[0m]  │\n└─────────────────────┴───────────────────┴────────────┴───────────────────┘\n",
      "text/html": "<pre style=\"white-space:pre;overflow-x:auto;line-height:normal;font-family:Menlo,'DejaVu Sans Mono',consolas,'Courier New',monospace\">┏━━━━━━━━━━━━━━━━━━━━━┳━━━━━━━━━━━━━━━━━━━┳━━━━━━━━━━━━┳━━━━━━━━━━━━━━━━━━━┓\n┃<span style=\"font-weight: bold\"> Layer (type)        </span>┃<span style=\"font-weight: bold\"> Output Shape      </span>┃<span style=\"font-weight: bold\">    Param # </span>┃<span style=\"font-weight: bold\"> Connected to      </span>┃\n┡━━━━━━━━━━━━━━━━━━━━━╇━━━━━━━━━━━━━━━━━━━╇━━━━━━━━━━━━╇━━━━━━━━━━━━━━━━━━━┩\n│ input_layer_12      │ (<span style=\"color: #00d7ff; text-decoration-color: #00d7ff\">None</span>, <span style=\"color: #00af00; text-decoration-color: #00af00\">10</span>)        │          <span style=\"color: #00af00; text-decoration-color: #00af00\">0</span> │ -                 │\n│ (<span style=\"color: #0087ff; text-decoration-color: #0087ff\">InputLayer</span>)        │                   │            │                   │\n├─────────────────────┼───────────────────┼────────────┼───────────────────┤\n│ embedding_15        │ (<span style=\"color: #00d7ff; text-decoration-color: #00d7ff\">None</span>, <span style=\"color: #00af00; text-decoration-color: #00af00\">10</span>, <span style=\"color: #00af00; text-decoration-color: #00af00\">64</span>)    │     <span style=\"color: #00af00; text-decoration-color: #00af00\">43,008</span> │ input_layer_12[<span style=\"color: #00af00; text-decoration-color: #00af00\">0</span>… │\n│ (<span style=\"color: #0087ff; text-decoration-color: #0087ff\">Embedding</span>)         │                   │            │                   │\n├─────────────────────┼───────────────────┼────────────┼───────────────────┤\n│ input_layer_13      │ (<span style=\"color: #00d7ff; text-decoration-color: #00d7ff\">None</span>, <span style=\"color: #00af00; text-decoration-color: #00af00\">19</span>)        │          <span style=\"color: #00af00; text-decoration-color: #00af00\">0</span> │ -                 │\n│ (<span style=\"color: #0087ff; text-decoration-color: #0087ff\">InputLayer</span>)        │                   │            │                   │\n├─────────────────────┼───────────────────┼────────────┼───────────────────┤\n│ lstm_24 (<span style=\"color: #0087ff; text-decoration-color: #0087ff\">LSTM</span>)      │ (<span style=\"color: #00d7ff; text-decoration-color: #00d7ff\">None</span>, <span style=\"color: #00af00; text-decoration-color: #00af00\">64</span>)        │     <span style=\"color: #00af00; text-decoration-color: #00af00\">33,024</span> │ embedding_15[<span style=\"color: #00af00; text-decoration-color: #00af00\">0</span>][<span style=\"color: #00af00; text-decoration-color: #00af00\">…</span> │\n├─────────────────────┼───────────────────┼────────────┼───────────────────┤\n│ dense_28 (<span style=\"color: #0087ff; text-decoration-color: #0087ff\">Dense</span>)    │ (<span style=\"color: #00d7ff; text-decoration-color: #00d7ff\">None</span>, <span style=\"color: #00af00; text-decoration-color: #00af00\">32</span>)        │        <span style=\"color: #00af00; text-decoration-color: #00af00\">640</span> │ input_layer_13[<span style=\"color: #00af00; text-decoration-color: #00af00\">0</span>… │\n├─────────────────────┼───────────────────┼────────────┼───────────────────┤\n│ concatenate_6       │ (<span style=\"color: #00d7ff; text-decoration-color: #00d7ff\">None</span>, <span style=\"color: #00af00; text-decoration-color: #00af00\">96</span>)        │          <span style=\"color: #00af00; text-decoration-color: #00af00\">0</span> │ lstm_24[<span style=\"color: #00af00; text-decoration-color: #00af00\">0</span>][<span style=\"color: #00af00; text-decoration-color: #00af00\">0</span>],    │\n│ (<span style=\"color: #0087ff; text-decoration-color: #0087ff\">Concatenate</span>)       │                   │            │ dense_28[<span style=\"color: #00af00; text-decoration-color: #00af00\">0</span>][<span style=\"color: #00af00; text-decoration-color: #00af00\">0</span>]    │\n├─────────────────────┼───────────────────┼────────────┼───────────────────┤\n│ dropout_23          │ (<span style=\"color: #00d7ff; text-decoration-color: #00d7ff\">None</span>, <span style=\"color: #00af00; text-decoration-color: #00af00\">96</span>)        │          <span style=\"color: #00af00; text-decoration-color: #00af00\">0</span> │ concatenate_6[<span style=\"color: #00af00; text-decoration-color: #00af00\">0</span>]… │\n│ (<span style=\"color: #0087ff; text-decoration-color: #0087ff\">Dropout</span>)           │                   │            │                   │\n├─────────────────────┼───────────────────┼────────────┼───────────────────┤\n│ dense_29 (<span style=\"color: #0087ff; text-decoration-color: #0087ff\">Dense</span>)    │ (<span style=\"color: #00d7ff; text-decoration-color: #00d7ff\">None</span>, <span style=\"color: #00af00; text-decoration-color: #00af00\">3</span>)         │        <span style=\"color: #00af00; text-decoration-color: #00af00\">291</span> │ dropout_23[<span style=\"color: #00af00; text-decoration-color: #00af00\">0</span>][<span style=\"color: #00af00; text-decoration-color: #00af00\">0</span>]  │\n└─────────────────────┴───────────────────┴────────────┴───────────────────┘\n</pre>\n"
     },
     "metadata": {},
     "output_type": "display_data"
    },
    {
     "data": {
      "text/plain": "\u001B[1m Total params: \u001B[0m\u001B[38;5;34m76,963\u001B[0m (300.64 KB)\n",
      "text/html": "<pre style=\"white-space:pre;overflow-x:auto;line-height:normal;font-family:Menlo,'DejaVu Sans Mono',consolas,'Courier New',monospace\"><span style=\"font-weight: bold\"> Total params: </span><span style=\"color: #00af00; text-decoration-color: #00af00\">76,963</span> (300.64 KB)\n</pre>\n"
     },
     "metadata": {},
     "output_type": "display_data"
    },
    {
     "data": {
      "text/plain": "\u001B[1m Trainable params: \u001B[0m\u001B[38;5;34m76,963\u001B[0m (300.64 KB)\n",
      "text/html": "<pre style=\"white-space:pre;overflow-x:auto;line-height:normal;font-family:Menlo,'DejaVu Sans Mono',consolas,'Courier New',monospace\"><span style=\"font-weight: bold\"> Trainable params: </span><span style=\"color: #00af00; text-decoration-color: #00af00\">76,963</span> (300.64 KB)\n</pre>\n"
     },
     "metadata": {},
     "output_type": "display_data"
    },
    {
     "data": {
      "text/plain": "\u001B[1m Non-trainable params: \u001B[0m\u001B[38;5;34m0\u001B[0m (0.00 B)\n",
      "text/html": "<pre style=\"white-space:pre;overflow-x:auto;line-height:normal;font-family:Menlo,'DejaVu Sans Mono',consolas,'Courier New',monospace\"><span style=\"font-weight: bold\"> Non-trainable params: </span><span style=\"color: #00af00; text-decoration-color: #00af00\">0</span> (0.00 B)\n</pre>\n"
     },
     "metadata": {},
     "output_type": "display_data"
    },
    {
     "name": "stdout",
     "output_type": "stream",
     "text": [
      "Epoch 1/10\n"
     ]
    },
    {
     "name": "stderr",
     "output_type": "stream",
     "text": [
      "C:\\Users\\agusd\\AppData\\Local\\Packages\\PythonSoftwareFoundation.Python.3.10_qbz5n2kfra8p0\\LocalCache\\local-packages\\Python310\\site-packages\\keras\\src\\models\\functional.py:225: UserWarning: The structure of `inputs` doesn't match the expected structure: ['keras_tensor_48', 'keras_tensor_49']. Received: the structure of inputs=('*', '*')\n",
      "  warnings.warn(\n"
     ]
    },
    {
     "name": "stdout",
     "output_type": "stream",
     "text": [
      "\u001B[1m1905/4459\u001B[0m \u001B[32m━━━━━━━━\u001B[0m\u001B[37m━━━━━━━━━━━━\u001B[0m \u001B[1m7s\u001B[0m 3ms/step - accuracy: 0.4459 - loss: 1.0198"
     ]
    },
    {
     "ename": "KeyboardInterrupt",
     "evalue": "",
     "output_type": "error",
     "traceback": [
      "\u001B[1;31m---------------------------------------------------------------------------\u001B[0m",
      "\u001B[1;31mKeyboardInterrupt\u001B[0m                         Traceback (most recent call last)",
      "Cell \u001B[1;32mIn[140], line 27\u001B[0m\n\u001B[0;32m     24\u001B[0m y_type \u001B[38;5;241m=\u001B[39m np\u001B[38;5;241m.\u001B[39marray(y_type)  \u001B[38;5;66;03m# Ejemplo: 0 - ganador, 1 - error forzado, 2 - error no forzado\u001B[39;00m\n\u001B[0;32m     26\u001B[0m \u001B[38;5;66;03m# Entrenar el modelo\u001B[39;00m\n\u001B[1;32m---> 27\u001B[0m history \u001B[38;5;241m=\u001B[39m \u001B[43mmodel\u001B[49m\u001B[38;5;241;43m.\u001B[39;49m\u001B[43mfit\u001B[49m\u001B[43m(\u001B[49m\n\u001B[0;32m     28\u001B[0m \u001B[43m    \u001B[49m\u001B[43m[\u001B[49m\u001B[43mX_seq\u001B[49m\u001B[43m,\u001B[49m\u001B[43m \u001B[49m\u001B[43mX_context_features\u001B[49m\u001B[43m]\u001B[49m\u001B[43m,\u001B[49m\u001B[43m \u001B[49m\u001B[43my_type\u001B[49m\u001B[43m,\u001B[49m\n\u001B[0;32m     29\u001B[0m \u001B[43m    \u001B[49m\u001B[43mepochs\u001B[49m\u001B[38;5;241;43m=\u001B[39;49m\u001B[38;5;241;43m10\u001B[39;49m\u001B[43m,\u001B[49m\u001B[43m  \u001B[49m\u001B[38;5;66;43;03m# Reducido para una prueba rápida\u001B[39;49;00m\n\u001B[0;32m     30\u001B[0m \u001B[43m    \u001B[49m\u001B[43mbatch_size\u001B[49m\u001B[38;5;241;43m=\u001B[39;49m\u001B[38;5;241;43m64\u001B[39;49m\u001B[43m,\u001B[49m\n\u001B[0;32m     31\u001B[0m \u001B[43m    \u001B[49m\u001B[43mvalidation_split\u001B[49m\u001B[38;5;241;43m=\u001B[39;49m\u001B[38;5;241;43m0.2\u001B[39;49m\n\u001B[0;32m     32\u001B[0m \u001B[43m)\u001B[49m\n",
      "File \u001B[1;32m~\\AppData\\Local\\Packages\\PythonSoftwareFoundation.Python.3.10_qbz5n2kfra8p0\\LocalCache\\local-packages\\Python310\\site-packages\\keras\\src\\utils\\traceback_utils.py:117\u001B[0m, in \u001B[0;36mfilter_traceback.<locals>.error_handler\u001B[1;34m(*args, **kwargs)\u001B[0m\n\u001B[0;32m    115\u001B[0m filtered_tb \u001B[38;5;241m=\u001B[39m \u001B[38;5;28;01mNone\u001B[39;00m\n\u001B[0;32m    116\u001B[0m \u001B[38;5;28;01mtry\u001B[39;00m:\n\u001B[1;32m--> 117\u001B[0m     \u001B[38;5;28;01mreturn\u001B[39;00m fn(\u001B[38;5;241m*\u001B[39margs, \u001B[38;5;241m*\u001B[39m\u001B[38;5;241m*\u001B[39mkwargs)\n\u001B[0;32m    118\u001B[0m \u001B[38;5;28;01mexcept\u001B[39;00m \u001B[38;5;167;01mException\u001B[39;00m \u001B[38;5;28;01mas\u001B[39;00m e:\n\u001B[0;32m    119\u001B[0m     filtered_tb \u001B[38;5;241m=\u001B[39m _process_traceback_frames(e\u001B[38;5;241m.\u001B[39m__traceback__)\n",
      "File \u001B[1;32m~\\AppData\\Local\\Packages\\PythonSoftwareFoundation.Python.3.10_qbz5n2kfra8p0\\LocalCache\\local-packages\\Python310\\site-packages\\keras\\src\\backend\\tensorflow\\trainer.py:320\u001B[0m, in \u001B[0;36mTensorFlowTrainer.fit\u001B[1;34m(self, x, y, batch_size, epochs, verbose, callbacks, validation_split, validation_data, shuffle, class_weight, sample_weight, initial_epoch, steps_per_epoch, validation_steps, validation_batch_size, validation_freq)\u001B[0m\n\u001B[0;32m    318\u001B[0m \u001B[38;5;28;01mfor\u001B[39;00m step, iterator \u001B[38;5;129;01min\u001B[39;00m epoch_iterator\u001B[38;5;241m.\u001B[39menumerate_epoch():\n\u001B[0;32m    319\u001B[0m     callbacks\u001B[38;5;241m.\u001B[39mon_train_batch_begin(step)\n\u001B[1;32m--> 320\u001B[0m     logs \u001B[38;5;241m=\u001B[39m \u001B[38;5;28;43mself\u001B[39;49m\u001B[38;5;241;43m.\u001B[39;49m\u001B[43mtrain_function\u001B[49m\u001B[43m(\u001B[49m\u001B[43miterator\u001B[49m\u001B[43m)\u001B[49m\n\u001B[0;32m    321\u001B[0m     callbacks\u001B[38;5;241m.\u001B[39mon_train_batch_end(step, logs)\n\u001B[0;32m    322\u001B[0m     \u001B[38;5;28;01mif\u001B[39;00m \u001B[38;5;28mself\u001B[39m\u001B[38;5;241m.\u001B[39mstop_training:\n",
      "File \u001B[1;32m~\\AppData\\Local\\Packages\\PythonSoftwareFoundation.Python.3.10_qbz5n2kfra8p0\\LocalCache\\local-packages\\Python310\\site-packages\\tensorflow\\python\\util\\traceback_utils.py:150\u001B[0m, in \u001B[0;36mfilter_traceback.<locals>.error_handler\u001B[1;34m(*args, **kwargs)\u001B[0m\n\u001B[0;32m    148\u001B[0m filtered_tb \u001B[38;5;241m=\u001B[39m \u001B[38;5;28;01mNone\u001B[39;00m\n\u001B[0;32m    149\u001B[0m \u001B[38;5;28;01mtry\u001B[39;00m:\n\u001B[1;32m--> 150\u001B[0m   \u001B[38;5;28;01mreturn\u001B[39;00m fn(\u001B[38;5;241m*\u001B[39margs, \u001B[38;5;241m*\u001B[39m\u001B[38;5;241m*\u001B[39mkwargs)\n\u001B[0;32m    151\u001B[0m \u001B[38;5;28;01mexcept\u001B[39;00m \u001B[38;5;167;01mException\u001B[39;00m \u001B[38;5;28;01mas\u001B[39;00m e:\n\u001B[0;32m    152\u001B[0m   filtered_tb \u001B[38;5;241m=\u001B[39m _process_traceback_frames(e\u001B[38;5;241m.\u001B[39m__traceback__)\n",
      "File \u001B[1;32m~\\AppData\\Local\\Packages\\PythonSoftwareFoundation.Python.3.10_qbz5n2kfra8p0\\LocalCache\\local-packages\\Python310\\site-packages\\tensorflow\\python\\eager\\polymorphic_function\\polymorphic_function.py:833\u001B[0m, in \u001B[0;36mFunction.__call__\u001B[1;34m(self, *args, **kwds)\u001B[0m\n\u001B[0;32m    830\u001B[0m compiler \u001B[38;5;241m=\u001B[39m \u001B[38;5;124m\"\u001B[39m\u001B[38;5;124mxla\u001B[39m\u001B[38;5;124m\"\u001B[39m \u001B[38;5;28;01mif\u001B[39;00m \u001B[38;5;28mself\u001B[39m\u001B[38;5;241m.\u001B[39m_jit_compile \u001B[38;5;28;01melse\u001B[39;00m \u001B[38;5;124m\"\u001B[39m\u001B[38;5;124mnonXla\u001B[39m\u001B[38;5;124m\"\u001B[39m\n\u001B[0;32m    832\u001B[0m \u001B[38;5;28;01mwith\u001B[39;00m OptionalXlaContext(\u001B[38;5;28mself\u001B[39m\u001B[38;5;241m.\u001B[39m_jit_compile):\n\u001B[1;32m--> 833\u001B[0m   result \u001B[38;5;241m=\u001B[39m \u001B[38;5;28mself\u001B[39m\u001B[38;5;241m.\u001B[39m_call(\u001B[38;5;241m*\u001B[39margs, \u001B[38;5;241m*\u001B[39m\u001B[38;5;241m*\u001B[39mkwds)\n\u001B[0;32m    835\u001B[0m new_tracing_count \u001B[38;5;241m=\u001B[39m \u001B[38;5;28mself\u001B[39m\u001B[38;5;241m.\u001B[39mexperimental_get_tracing_count()\n\u001B[0;32m    836\u001B[0m without_tracing \u001B[38;5;241m=\u001B[39m (tracing_count \u001B[38;5;241m==\u001B[39m new_tracing_count)\n",
      "File \u001B[1;32m~\\AppData\\Local\\Packages\\PythonSoftwareFoundation.Python.3.10_qbz5n2kfra8p0\\LocalCache\\local-packages\\Python310\\site-packages\\tensorflow\\python\\eager\\polymorphic_function\\polymorphic_function.py:878\u001B[0m, in \u001B[0;36mFunction._call\u001B[1;34m(self, *args, **kwds)\u001B[0m\n\u001B[0;32m    875\u001B[0m \u001B[38;5;28mself\u001B[39m\u001B[38;5;241m.\u001B[39m_lock\u001B[38;5;241m.\u001B[39mrelease()\n\u001B[0;32m    876\u001B[0m \u001B[38;5;66;03m# In this case we have not created variables on the first call. So we can\u001B[39;00m\n\u001B[0;32m    877\u001B[0m \u001B[38;5;66;03m# run the first trace but we should fail if variables are created.\u001B[39;00m\n\u001B[1;32m--> 878\u001B[0m results \u001B[38;5;241m=\u001B[39m \u001B[43mtracing_compilation\u001B[49m\u001B[38;5;241;43m.\u001B[39;49m\u001B[43mcall_function\u001B[49m\u001B[43m(\u001B[49m\n\u001B[0;32m    879\u001B[0m \u001B[43m    \u001B[49m\u001B[43margs\u001B[49m\u001B[43m,\u001B[49m\u001B[43m \u001B[49m\u001B[43mkwds\u001B[49m\u001B[43m,\u001B[49m\u001B[43m \u001B[49m\u001B[38;5;28;43mself\u001B[39;49m\u001B[38;5;241;43m.\u001B[39;49m\u001B[43m_variable_creation_config\u001B[49m\n\u001B[0;32m    880\u001B[0m \u001B[43m\u001B[49m\u001B[43m)\u001B[49m\n\u001B[0;32m    881\u001B[0m \u001B[38;5;28;01mif\u001B[39;00m \u001B[38;5;28mself\u001B[39m\u001B[38;5;241m.\u001B[39m_created_variables:\n\u001B[0;32m    882\u001B[0m   \u001B[38;5;28;01mraise\u001B[39;00m \u001B[38;5;167;01mValueError\u001B[39;00m(\u001B[38;5;124m\"\u001B[39m\u001B[38;5;124mCreating variables on a non-first call to a function\u001B[39m\u001B[38;5;124m\"\u001B[39m\n\u001B[0;32m    883\u001B[0m                    \u001B[38;5;124m\"\u001B[39m\u001B[38;5;124m decorated with tf.function.\u001B[39m\u001B[38;5;124m\"\u001B[39m)\n",
      "File \u001B[1;32m~\\AppData\\Local\\Packages\\PythonSoftwareFoundation.Python.3.10_qbz5n2kfra8p0\\LocalCache\\local-packages\\Python310\\site-packages\\tensorflow\\python\\eager\\polymorphic_function\\tracing_compilation.py:139\u001B[0m, in \u001B[0;36mcall_function\u001B[1;34m(args, kwargs, tracing_options)\u001B[0m\n\u001B[0;32m    137\u001B[0m bound_args \u001B[38;5;241m=\u001B[39m function\u001B[38;5;241m.\u001B[39mfunction_type\u001B[38;5;241m.\u001B[39mbind(\u001B[38;5;241m*\u001B[39margs, \u001B[38;5;241m*\u001B[39m\u001B[38;5;241m*\u001B[39mkwargs)\n\u001B[0;32m    138\u001B[0m flat_inputs \u001B[38;5;241m=\u001B[39m function\u001B[38;5;241m.\u001B[39mfunction_type\u001B[38;5;241m.\u001B[39munpack_inputs(bound_args)\n\u001B[1;32m--> 139\u001B[0m \u001B[38;5;28;01mreturn\u001B[39;00m \u001B[43mfunction\u001B[49m\u001B[38;5;241;43m.\u001B[39;49m\u001B[43m_call_flat\u001B[49m\u001B[43m(\u001B[49m\u001B[43m  \u001B[49m\u001B[38;5;66;43;03m# pylint: disable=protected-access\u001B[39;49;00m\n\u001B[0;32m    140\u001B[0m \u001B[43m    \u001B[49m\u001B[43mflat_inputs\u001B[49m\u001B[43m,\u001B[49m\u001B[43m \u001B[49m\u001B[43mcaptured_inputs\u001B[49m\u001B[38;5;241;43m=\u001B[39;49m\u001B[43mfunction\u001B[49m\u001B[38;5;241;43m.\u001B[39;49m\u001B[43mcaptured_inputs\u001B[49m\n\u001B[0;32m    141\u001B[0m \u001B[43m\u001B[49m\u001B[43m)\u001B[49m\n",
      "File \u001B[1;32m~\\AppData\\Local\\Packages\\PythonSoftwareFoundation.Python.3.10_qbz5n2kfra8p0\\LocalCache\\local-packages\\Python310\\site-packages\\tensorflow\\python\\eager\\polymorphic_function\\concrete_function.py:1322\u001B[0m, in \u001B[0;36mConcreteFunction._call_flat\u001B[1;34m(self, tensor_inputs, captured_inputs)\u001B[0m\n\u001B[0;32m   1318\u001B[0m possible_gradient_type \u001B[38;5;241m=\u001B[39m gradients_util\u001B[38;5;241m.\u001B[39mPossibleTapeGradientTypes(args)\n\u001B[0;32m   1319\u001B[0m \u001B[38;5;28;01mif\u001B[39;00m (possible_gradient_type \u001B[38;5;241m==\u001B[39m gradients_util\u001B[38;5;241m.\u001B[39mPOSSIBLE_GRADIENT_TYPES_NONE\n\u001B[0;32m   1320\u001B[0m     \u001B[38;5;129;01mand\u001B[39;00m executing_eagerly):\n\u001B[0;32m   1321\u001B[0m   \u001B[38;5;66;03m# No tape is watching; skip to running the function.\u001B[39;00m\n\u001B[1;32m-> 1322\u001B[0m   \u001B[38;5;28;01mreturn\u001B[39;00m \u001B[38;5;28;43mself\u001B[39;49m\u001B[38;5;241;43m.\u001B[39;49m\u001B[43m_inference_function\u001B[49m\u001B[38;5;241;43m.\u001B[39;49m\u001B[43mcall_preflattened\u001B[49m\u001B[43m(\u001B[49m\u001B[43margs\u001B[49m\u001B[43m)\u001B[49m\n\u001B[0;32m   1323\u001B[0m forward_backward \u001B[38;5;241m=\u001B[39m \u001B[38;5;28mself\u001B[39m\u001B[38;5;241m.\u001B[39m_select_forward_and_backward_functions(\n\u001B[0;32m   1324\u001B[0m     args,\n\u001B[0;32m   1325\u001B[0m     possible_gradient_type,\n\u001B[0;32m   1326\u001B[0m     executing_eagerly)\n\u001B[0;32m   1327\u001B[0m forward_function, args_with_tangents \u001B[38;5;241m=\u001B[39m forward_backward\u001B[38;5;241m.\u001B[39mforward()\n",
      "File \u001B[1;32m~\\AppData\\Local\\Packages\\PythonSoftwareFoundation.Python.3.10_qbz5n2kfra8p0\\LocalCache\\local-packages\\Python310\\site-packages\\tensorflow\\python\\eager\\polymorphic_function\\atomic_function.py:216\u001B[0m, in \u001B[0;36mAtomicFunction.call_preflattened\u001B[1;34m(self, args)\u001B[0m\n\u001B[0;32m    214\u001B[0m \u001B[38;5;28;01mdef\u001B[39;00m \u001B[38;5;21mcall_preflattened\u001B[39m(\u001B[38;5;28mself\u001B[39m, args: Sequence[core\u001B[38;5;241m.\u001B[39mTensor]) \u001B[38;5;241m-\u001B[39m\u001B[38;5;241m>\u001B[39m Any:\n\u001B[0;32m    215\u001B[0m \u001B[38;5;250m  \u001B[39m\u001B[38;5;124;03m\"\"\"Calls with flattened tensor inputs and returns the structured output.\"\"\"\u001B[39;00m\n\u001B[1;32m--> 216\u001B[0m   flat_outputs \u001B[38;5;241m=\u001B[39m \u001B[38;5;28;43mself\u001B[39;49m\u001B[38;5;241;43m.\u001B[39;49m\u001B[43mcall_flat\u001B[49m\u001B[43m(\u001B[49m\u001B[38;5;241;43m*\u001B[39;49m\u001B[43margs\u001B[49m\u001B[43m)\u001B[49m\n\u001B[0;32m    217\u001B[0m   \u001B[38;5;28;01mreturn\u001B[39;00m \u001B[38;5;28mself\u001B[39m\u001B[38;5;241m.\u001B[39mfunction_type\u001B[38;5;241m.\u001B[39mpack_output(flat_outputs)\n",
      "File \u001B[1;32m~\\AppData\\Local\\Packages\\PythonSoftwareFoundation.Python.3.10_qbz5n2kfra8p0\\LocalCache\\local-packages\\Python310\\site-packages\\tensorflow\\python\\eager\\polymorphic_function\\atomic_function.py:251\u001B[0m, in \u001B[0;36mAtomicFunction.call_flat\u001B[1;34m(self, *args)\u001B[0m\n\u001B[0;32m    249\u001B[0m \u001B[38;5;28;01mwith\u001B[39;00m record\u001B[38;5;241m.\u001B[39mstop_recording():\n\u001B[0;32m    250\u001B[0m   \u001B[38;5;28;01mif\u001B[39;00m \u001B[38;5;28mself\u001B[39m\u001B[38;5;241m.\u001B[39m_bound_context\u001B[38;5;241m.\u001B[39mexecuting_eagerly():\n\u001B[1;32m--> 251\u001B[0m     outputs \u001B[38;5;241m=\u001B[39m \u001B[38;5;28;43mself\u001B[39;49m\u001B[38;5;241;43m.\u001B[39;49m\u001B[43m_bound_context\u001B[49m\u001B[38;5;241;43m.\u001B[39;49m\u001B[43mcall_function\u001B[49m\u001B[43m(\u001B[49m\n\u001B[0;32m    252\u001B[0m \u001B[43m        \u001B[49m\u001B[38;5;28;43mself\u001B[39;49m\u001B[38;5;241;43m.\u001B[39;49m\u001B[43mname\u001B[49m\u001B[43m,\u001B[49m\n\u001B[0;32m    253\u001B[0m \u001B[43m        \u001B[49m\u001B[38;5;28;43mlist\u001B[39;49m\u001B[43m(\u001B[49m\u001B[43margs\u001B[49m\u001B[43m)\u001B[49m\u001B[43m,\u001B[49m\n\u001B[0;32m    254\u001B[0m \u001B[43m        \u001B[49m\u001B[38;5;28;43mlen\u001B[39;49m\u001B[43m(\u001B[49m\u001B[38;5;28;43mself\u001B[39;49m\u001B[38;5;241;43m.\u001B[39;49m\u001B[43mfunction_type\u001B[49m\u001B[38;5;241;43m.\u001B[39;49m\u001B[43mflat_outputs\u001B[49m\u001B[43m)\u001B[49m\u001B[43m,\u001B[49m\n\u001B[0;32m    255\u001B[0m \u001B[43m    \u001B[49m\u001B[43m)\u001B[49m\n\u001B[0;32m    256\u001B[0m   \u001B[38;5;28;01melse\u001B[39;00m:\n\u001B[0;32m    257\u001B[0m     outputs \u001B[38;5;241m=\u001B[39m make_call_op_in_graph(\n\u001B[0;32m    258\u001B[0m         \u001B[38;5;28mself\u001B[39m,\n\u001B[0;32m    259\u001B[0m         \u001B[38;5;28mlist\u001B[39m(args),\n\u001B[0;32m    260\u001B[0m         \u001B[38;5;28mself\u001B[39m\u001B[38;5;241m.\u001B[39m_bound_context\u001B[38;5;241m.\u001B[39mfunction_call_options\u001B[38;5;241m.\u001B[39mas_attrs(),\n\u001B[0;32m    261\u001B[0m     )\n",
      "File \u001B[1;32m~\\AppData\\Local\\Packages\\PythonSoftwareFoundation.Python.3.10_qbz5n2kfra8p0\\LocalCache\\local-packages\\Python310\\site-packages\\tensorflow\\python\\eager\\context.py:1683\u001B[0m, in \u001B[0;36mContext.call_function\u001B[1;34m(self, name, tensor_inputs, num_outputs)\u001B[0m\n\u001B[0;32m   1681\u001B[0m cancellation_context \u001B[38;5;241m=\u001B[39m cancellation\u001B[38;5;241m.\u001B[39mcontext()\n\u001B[0;32m   1682\u001B[0m \u001B[38;5;28;01mif\u001B[39;00m cancellation_context \u001B[38;5;129;01mis\u001B[39;00m \u001B[38;5;28;01mNone\u001B[39;00m:\n\u001B[1;32m-> 1683\u001B[0m   outputs \u001B[38;5;241m=\u001B[39m \u001B[43mexecute\u001B[49m\u001B[38;5;241;43m.\u001B[39;49m\u001B[43mexecute\u001B[49m\u001B[43m(\u001B[49m\n\u001B[0;32m   1684\u001B[0m \u001B[43m      \u001B[49m\u001B[43mname\u001B[49m\u001B[38;5;241;43m.\u001B[39;49m\u001B[43mdecode\u001B[49m\u001B[43m(\u001B[49m\u001B[38;5;124;43m\"\u001B[39;49m\u001B[38;5;124;43mutf-8\u001B[39;49m\u001B[38;5;124;43m\"\u001B[39;49m\u001B[43m)\u001B[49m\u001B[43m,\u001B[49m\n\u001B[0;32m   1685\u001B[0m \u001B[43m      \u001B[49m\u001B[43mnum_outputs\u001B[49m\u001B[38;5;241;43m=\u001B[39;49m\u001B[43mnum_outputs\u001B[49m\u001B[43m,\u001B[49m\n\u001B[0;32m   1686\u001B[0m \u001B[43m      \u001B[49m\u001B[43minputs\u001B[49m\u001B[38;5;241;43m=\u001B[39;49m\u001B[43mtensor_inputs\u001B[49m\u001B[43m,\u001B[49m\n\u001B[0;32m   1687\u001B[0m \u001B[43m      \u001B[49m\u001B[43mattrs\u001B[49m\u001B[38;5;241;43m=\u001B[39;49m\u001B[43mattrs\u001B[49m\u001B[43m,\u001B[49m\n\u001B[0;32m   1688\u001B[0m \u001B[43m      \u001B[49m\u001B[43mctx\u001B[49m\u001B[38;5;241;43m=\u001B[39;49m\u001B[38;5;28;43mself\u001B[39;49m\u001B[43m,\u001B[49m\n\u001B[0;32m   1689\u001B[0m \u001B[43m  \u001B[49m\u001B[43m)\u001B[49m\n\u001B[0;32m   1690\u001B[0m \u001B[38;5;28;01melse\u001B[39;00m:\n\u001B[0;32m   1691\u001B[0m   outputs \u001B[38;5;241m=\u001B[39m execute\u001B[38;5;241m.\u001B[39mexecute_with_cancellation(\n\u001B[0;32m   1692\u001B[0m       name\u001B[38;5;241m.\u001B[39mdecode(\u001B[38;5;124m\"\u001B[39m\u001B[38;5;124mutf-8\u001B[39m\u001B[38;5;124m\"\u001B[39m),\n\u001B[0;32m   1693\u001B[0m       num_outputs\u001B[38;5;241m=\u001B[39mnum_outputs,\n\u001B[1;32m   (...)\u001B[0m\n\u001B[0;32m   1697\u001B[0m       cancellation_manager\u001B[38;5;241m=\u001B[39mcancellation_context,\n\u001B[0;32m   1698\u001B[0m   )\n",
      "File \u001B[1;32m~\\AppData\\Local\\Packages\\PythonSoftwareFoundation.Python.3.10_qbz5n2kfra8p0\\LocalCache\\local-packages\\Python310\\site-packages\\tensorflow\\python\\eager\\execute.py:53\u001B[0m, in \u001B[0;36mquick_execute\u001B[1;34m(op_name, num_outputs, inputs, attrs, ctx, name)\u001B[0m\n\u001B[0;32m     51\u001B[0m \u001B[38;5;28;01mtry\u001B[39;00m:\n\u001B[0;32m     52\u001B[0m   ctx\u001B[38;5;241m.\u001B[39mensure_initialized()\n\u001B[1;32m---> 53\u001B[0m   tensors \u001B[38;5;241m=\u001B[39m \u001B[43mpywrap_tfe\u001B[49m\u001B[38;5;241;43m.\u001B[39;49m\u001B[43mTFE_Py_Execute\u001B[49m\u001B[43m(\u001B[49m\u001B[43mctx\u001B[49m\u001B[38;5;241;43m.\u001B[39;49m\u001B[43m_handle\u001B[49m\u001B[43m,\u001B[49m\u001B[43m \u001B[49m\u001B[43mdevice_name\u001B[49m\u001B[43m,\u001B[49m\u001B[43m \u001B[49m\u001B[43mop_name\u001B[49m\u001B[43m,\u001B[49m\n\u001B[0;32m     54\u001B[0m \u001B[43m                                      \u001B[49m\u001B[43minputs\u001B[49m\u001B[43m,\u001B[49m\u001B[43m \u001B[49m\u001B[43mattrs\u001B[49m\u001B[43m,\u001B[49m\u001B[43m \u001B[49m\u001B[43mnum_outputs\u001B[49m\u001B[43m)\u001B[49m\n\u001B[0;32m     55\u001B[0m \u001B[38;5;28;01mexcept\u001B[39;00m core\u001B[38;5;241m.\u001B[39m_NotOkStatusException \u001B[38;5;28;01mas\u001B[39;00m e:\n\u001B[0;32m     56\u001B[0m   \u001B[38;5;28;01mif\u001B[39;00m name \u001B[38;5;129;01mis\u001B[39;00m \u001B[38;5;129;01mnot\u001B[39;00m \u001B[38;5;28;01mNone\u001B[39;00m:\n",
      "\u001B[1;31mKeyboardInterrupt\u001B[0m: "
     ]
    }
   ],
   "source": [
    "seq_input = Input(shape=(max_sequence_length,))\n",
    "context_input = Input(shape=(X_context_features.shape[1],))\n",
    "\n",
    "# Procesamiento secuencial con Embedding y LSTM\n",
    "embedding_layer = Embedding(input_dim=vocab_size, output_dim=64, input_length=max_sequence_length)(seq_input)\n",
    "lstm_layer = LSTM(64)(embedding_layer)\n",
    "\n",
    "# Procesamiento de características contextuales con capas densas\n",
    "dense_context = Dense(32, activation='relu')(context_input)\n",
    "\n",
    "# Combinar ambas entradas\n",
    "merged = Concatenate()([lstm_layer, dense_context])\n",
    "dropout_layer = Dropout(0.2)(merged)\n",
    "output = Dense(3, activation='softmax')(dropout_layer)  # 3 clases: ganador, error forzado, error no forzado\n",
    "\n",
    "# Definir y compilar el modelo\n",
    "model = Model(inputs=[seq_input, context_input], outputs=output)\n",
    "model.compile(optimizer=Adam(learning_rate= 0.0001), loss='sparse_categorical_crossentropy', metrics=['accuracy'])\n",
    "\n",
    "# Mostrar resumen del modelo\n",
    "model.summary()\n",
    "\n",
    "# Etiquetas de entrenamiento (por simplicidad, generamos algunas etiquetas para el ejemplo)\n",
    "y_type = np.array(y_type)  # Ejemplo: 0 - ganador, 1 - error forzado, 2 - error no forzado\n",
    "\n",
    "# Entrenar el modelo\n",
    "history = model.fit(\n",
    "    [X_seq, X_context_features], y_type,\n",
    "    epochs=10,  # Reducido para una prueba rápida\n",
    "    batch_size=64,\n",
    "    validation_split=0.2\n",
    ")\n"
   ],
   "metadata": {
    "collapsed": false,
    "ExecuteTime": {
     "end_time": "2024-11-20T13:39:10.149168Z",
     "start_time": "2024-11-20T13:39:02.787506Z"
    }
   },
   "id": "b3bcf44b54bd806d",
   "execution_count": 140
  },
  {
   "cell_type": "code",
   "outputs": [
    {
     "name": "stdout",
     "output_type": "stream",
     "text": [
      "Epoch 1/10\n"
     ]
    },
    {
     "name": "stderr",
     "output_type": "stream",
     "text": [
      "C:\\Users\\agusd\\AppData\\Local\\Packages\\PythonSoftwareFoundation.Python.3.10_qbz5n2kfra8p0\\LocalCache\\local-packages\\Python310\\site-packages\\keras\\src\\layers\\core\\embedding.py:90: UserWarning: Argument `input_length` is deprecated. Just remove it.\n",
      "  warnings.warn(\n"
     ]
    },
    {
     "ename": "AttributeError",
     "evalue": "Exception encountered when calling Embedding.call().\n\n\u001B[1m'tuple' object has no attribute 'dtype'\u001B[0m\n\nArguments received by Embedding.call():\n  • inputs=('tf.Tensor(shape=(None, 10), dtype=int32)', 'tf.Tensor(shape=(None, 19), dtype=float32)')",
     "output_type": "error",
     "traceback": [
      "\u001B[1;31m---------------------------------------------------------------------------\u001B[0m",
      "\u001B[1;31mAttributeError\u001B[0m                            Traceback (most recent call last)",
      "Cell \u001B[1;32mIn[139], line 20\u001B[0m\n\u001B[0;32m     17\u001B[0m model\u001B[38;5;241m.\u001B[39mcompile(optimizer\u001B[38;5;241m=\u001B[39mAdam(learning_rate\u001B[38;5;241m=\u001B[39m\u001B[38;5;241m0.0001\u001B[39m), loss\u001B[38;5;241m=\u001B[39m\u001B[38;5;124m'\u001B[39m\u001B[38;5;124msparse_categorical_crossentropy\u001B[39m\u001B[38;5;124m'\u001B[39m, metrics\u001B[38;5;241m=\u001B[39m[\u001B[38;5;124m'\u001B[39m\u001B[38;5;124maccuracy\u001B[39m\u001B[38;5;124m'\u001B[39m])\n\u001B[0;32m     19\u001B[0m \u001B[38;5;66;03m# Entrenar el modelo\u001B[39;00m\n\u001B[1;32m---> 20\u001B[0m history \u001B[38;5;241m=\u001B[39m \u001B[43mmodel\u001B[49m\u001B[38;5;241;43m.\u001B[39;49m\u001B[43mfit\u001B[49m\u001B[43m(\u001B[49m\n\u001B[0;32m     21\u001B[0m \u001B[43m    \u001B[49m\u001B[43m[\u001B[49m\u001B[43mX_seq\u001B[49m\u001B[43m,\u001B[49m\u001B[43m \u001B[49m\u001B[43mX_context_features\u001B[49m\u001B[43m]\u001B[49m\u001B[43m,\u001B[49m\u001B[43m \u001B[49m\u001B[43my_type\u001B[49m\u001B[43m,\u001B[49m\n\u001B[0;32m     22\u001B[0m \u001B[43m    \u001B[49m\u001B[43mepochs\u001B[49m\u001B[38;5;241;43m=\u001B[39;49m\u001B[38;5;241;43m10\u001B[39;49m\u001B[43m,\u001B[49m\u001B[43m  \u001B[49m\u001B[38;5;66;43;03m# Puedes ajustar según los resultados observados\u001B[39;49;00m\n\u001B[0;32m     23\u001B[0m \u001B[43m    \u001B[49m\u001B[43mbatch_size\u001B[49m\u001B[38;5;241;43m=\u001B[39;49m\u001B[38;5;241;43m32\u001B[39;49m\u001B[43m,\u001B[49m\n\u001B[0;32m     24\u001B[0m \u001B[43m    \u001B[49m\u001B[43mvalidation_split\u001B[49m\u001B[38;5;241;43m=\u001B[39;49m\u001B[38;5;241;43m0.2\u001B[39;49m\n\u001B[0;32m     25\u001B[0m \u001B[43m)\u001B[49m\n",
      "File \u001B[1;32m~\\AppData\\Local\\Packages\\PythonSoftwareFoundation.Python.3.10_qbz5n2kfra8p0\\LocalCache\\local-packages\\Python310\\site-packages\\keras\\src\\utils\\traceback_utils.py:122\u001B[0m, in \u001B[0;36mfilter_traceback.<locals>.error_handler\u001B[1;34m(*args, **kwargs)\u001B[0m\n\u001B[0;32m    119\u001B[0m     filtered_tb \u001B[38;5;241m=\u001B[39m _process_traceback_frames(e\u001B[38;5;241m.\u001B[39m__traceback__)\n\u001B[0;32m    120\u001B[0m     \u001B[38;5;66;03m# To get the full stack trace, call:\u001B[39;00m\n\u001B[0;32m    121\u001B[0m     \u001B[38;5;66;03m# `keras.config.disable_traceback_filtering()`\u001B[39;00m\n\u001B[1;32m--> 122\u001B[0m     \u001B[38;5;28;01mraise\u001B[39;00m e\u001B[38;5;241m.\u001B[39mwith_traceback(filtered_tb) \u001B[38;5;28;01mfrom\u001B[39;00m \u001B[38;5;28mNone\u001B[39m\n\u001B[0;32m    123\u001B[0m \u001B[38;5;28;01mfinally\u001B[39;00m:\n\u001B[0;32m    124\u001B[0m     \u001B[38;5;28;01mdel\u001B[39;00m filtered_tb\n",
      "File \u001B[1;32m~\\AppData\\Local\\Packages\\PythonSoftwareFoundation.Python.3.10_qbz5n2kfra8p0\\LocalCache\\local-packages\\Python310\\site-packages\\keras\\src\\layers\\core\\embedding.py:138\u001B[0m, in \u001B[0;36mEmbedding.call\u001B[1;34m(self, inputs)\u001B[0m\n\u001B[0;32m    137\u001B[0m \u001B[38;5;28;01mdef\u001B[39;00m \u001B[38;5;21mcall\u001B[39m(\u001B[38;5;28mself\u001B[39m, inputs):\n\u001B[1;32m--> 138\u001B[0m     \u001B[38;5;28;01mif\u001B[39;00m \u001B[43minputs\u001B[49m\u001B[38;5;241;43m.\u001B[39;49m\u001B[43mdtype\u001B[49m \u001B[38;5;241m!=\u001B[39m \u001B[38;5;124m\"\u001B[39m\u001B[38;5;124mint32\u001B[39m\u001B[38;5;124m\"\u001B[39m \u001B[38;5;129;01mand\u001B[39;00m inputs\u001B[38;5;241m.\u001B[39mdtype \u001B[38;5;241m!=\u001B[39m \u001B[38;5;124m\"\u001B[39m\u001B[38;5;124mint64\u001B[39m\u001B[38;5;124m\"\u001B[39m:\n\u001B[0;32m    139\u001B[0m         inputs \u001B[38;5;241m=\u001B[39m ops\u001B[38;5;241m.\u001B[39mcast(inputs, \u001B[38;5;124m\"\u001B[39m\u001B[38;5;124mint32\u001B[39m\u001B[38;5;124m\"\u001B[39m)\n\u001B[0;32m    140\u001B[0m     outputs \u001B[38;5;241m=\u001B[39m ops\u001B[38;5;241m.\u001B[39mtake(\u001B[38;5;28mself\u001B[39m\u001B[38;5;241m.\u001B[39membeddings, inputs, axis\u001B[38;5;241m=\u001B[39m\u001B[38;5;241m0\u001B[39m)\n",
      "\u001B[1;31mAttributeError\u001B[0m: Exception encountered when calling Embedding.call().\n\n\u001B[1m'tuple' object has no attribute 'dtype'\u001B[0m\n\nArguments received by Embedding.call():\n  • inputs=('tf.Tensor(shape=(None, 10), dtype=int32)', 'tf.Tensor(shape=(None, 19), dtype=float32)')"
     ]
    }
   ],
   "source": [
    "from keras.models import Sequential\n",
    "from keras.layers import Embedding, LSTM, Dense, Dropout, BatchNormalization\n",
    "from keras.optimizers import Adam\n",
    "from keras.regularizers import l2\n",
    "\n",
    "model = Sequential()\n",
    "model.add(Embedding(input_dim=vocab_size, output_dim=128, input_length=max_sequence_length))\n",
    "model.add(LSTM(128, return_sequences=True))\n",
    "model.add(Dropout(0.3))\n",
    "model.add(LSTM(64, return_sequences=False))\n",
    "model.add(BatchNormalization())\n",
    "model.add(Dense(32, activation='relu', kernel_regularizer=l2(0.01)))\n",
    "model.add(Dropout(0.3))\n",
    "model.add(Dense(3, activation='softmax'))\n",
    "\n",
    "# Compilar el modelo con una tasa de aprendizaje más baja\n",
    "model.compile(optimizer=Adam(learning_rate=0.0001), loss='sparse_categorical_crossentropy', metrics=['accuracy'])\n",
    "\n",
    "# Entrenar el modelo\n",
    "history = model.fit(\n",
    "    [X_seq, X_context_features], y_type,\n",
    "    epochs=10,  # Puedes ajustar según los resultados observados\n",
    "    batch_size=32,\n",
    "    validation_split=0.2\n",
    ")\n"
   ],
   "metadata": {
    "collapsed": false,
    "ExecuteTime": {
     "end_time": "2024-11-20T13:37:22.761908Z",
     "start_time": "2024-11-20T13:37:22.602872Z"
    }
   },
   "id": "80b5829cebd61d2e",
   "execution_count": 139
  },
  {
   "cell_type": "markdown",
   "source": [
    "# Prediccion"
   ],
   "metadata": {
    "collapsed": false
   },
   "id": "5ed2fc8dc406e5f8"
  },
  {
   "cell_type": "code",
   "outputs": [
    {
     "name": "stdout",
     "output_type": "stream",
     "text": [
      "\u001B[1m1/1\u001B[0m \u001B[32m━━━━━━━━━━━━━━━━━━━━\u001B[0m\u001B[37m\u001B[0m \u001B[1m0s\u001B[0m 126ms/step\n",
      "Predicción: Winner (*)\n"
     ]
    }
   ],
   "source": [
    "# Secuencia y características contextuales de ejemplo\n",
    "new_sequence = \"6 f2 f1 f3 o1 s2\"  # Ejemplo de secuencia de golpes\n",
    "new_sequence_tokenized = tokenizer.texts_to_sequences([new_sequence.split()])\n",
    "new_sequence_padded = pad_sequences(new_sequence_tokenized, maxlen=max_sequence_length, padding='post')\n",
    "\n",
    "# Nuevas características contextuales (tomando la primera muestra del contexto de prueba)\n",
    "test_context_features = context_features[0]  # X_context contiene las características normalizadas del conjunto de datos original\n",
    "\n",
    "# Transformar la nueva característica a una matriz con una fila\n",
    "test_context_features = test_context_features.reshape(1, -1)\n",
    "\n",
    "# Hacer la predicción\n",
    "predicted_probabilities = model.predict([new_sequence_padded, test_context_features])\n",
    "predicted_class = np.argmax(predicted_probabilities)\n",
    "\n",
    "# Interpretar la predicción\n",
    "ending_types = {0: \"Winner (*)\", 1: \"Forced Error (#)\", 2: \"Unforced Error (@)\"}\n",
    "print(f\"Predicción: {ending_types[predicted_class]}\")\n"
   ],
   "metadata": {
    "collapsed": false,
    "ExecuteTime": {
     "end_time": "2024-11-20T13:27:14.489903Z",
     "start_time": "2024-11-20T13:27:14.320866Z"
    }
   },
   "id": "cbd669c8611fb6c2",
   "execution_count": 125
  },
  {
   "cell_type": "code",
   "outputs": [
    {
     "name": "stdout",
     "output_type": "stream",
     "text": [
      "\u001B[1m1/1\u001B[0m \u001B[32m━━━━━━━━━━━━━━━━━━━━\u001B[0m\u001B[37m\u001B[0m \u001B[1m0s\u001B[0m 18ms/step\n",
      "Probabilidades de cada clase:\n",
      "Winner (*): 0.7506\n",
      "Forced Error (#): 0.0078\n",
      "Unforced Error (@): 0.2416\n"
     ]
    }
   ],
   "source": [
    "# Secuencia y características contextuales de ejemplo\n",
    "new_sequence = (\"s2\")  # Ejemplo de secuencia de golpes\n",
    "new_sequence_tokenized = tokenizer.texts_to_sequences([new_sequence.split()])\n",
    "new_sequence_padded = pad_sequences(new_sequence_tokenized, maxlen=max_sequence_length, padding='post')\n",
    "\n",
    "# Nuevas características contextuales (tomando la primera muestra del contexto de prueba)\n",
    "test_context_features = context_features[42]  # X_context contiene las características normalizadas del conjunto de datos original\n",
    "\n",
    "# Transformar la nueva característica a una matriz con una fila\n",
    "test_context_features = test_context_features.reshape(1, -1)\n",
    "\n",
    "# Hacer la predicción\n",
    "predicted_probabilities = model.predict([new_sequence_padded, test_context_features])[0]\n",
    "\n",
    "# Interpretar la predicción y mostrar las probabilidades\n",
    "ending_types = {0: \"Winner (*)\", 1: \"Forced Error (#)\", 2: \"Unforced Error (@)\"}\n",
    "print(\"Probabilidades de cada clase:\")\n",
    "for i, probability in enumerate(predicted_probabilities):\n",
    "    print(f\"{ending_types[i]}: {probability:.4f}\")\n"
   ],
   "metadata": {
    "collapsed": false,
    "ExecuteTime": {
     "end_time": "2024-11-20T13:32:07.163314Z",
     "start_time": "2024-11-20T13:32:07.099300Z"
    }
   },
   "id": "97117103467db9b4",
   "execution_count": 128
  },
  {
   "cell_type": "code",
   "outputs": [
    {
     "data": {
      "text/plain": "        1stIn  2ndIn                                 1st_final  \\\n347564      1    NaN        4 b28 b2 b2 f1 f1 f2 b2 b2 f3 b3w@   \n411510      1    NaN                                 4 b37 b1*   \n599782      0    1.0                          4 b38 b3 b3 f2d@   \n305525      0    1.0                                 6 b27 f1*   \n510677      0    1.0                       5 b29 f1 f1 f1 f3w@   \n55514       0    1.0  6 b28 f3 b2 f1 f2 f3 b3 f1 f1 f1 f3 s3w#   \n691941      0    1.0                             6 b28 v2 z1n@   \n615807      0    1.0                          4 b37 b3 f1 f1d@   \n79689       0    1.0                          5 b28 f3 b2 f1n@   \n663762      0    1.0                                5 f27 z2n@   \n\n                                       2nd_final   Pt  Set1  Set2  Gm1  Gm2  \\\n347564                                       NaN   41     0     0  4.0  2.0   \n411510                                       NaN  120     0     1  4.0  5.0   \n599782                          4 b38 b3 b3 f2d@   94     1     0  0.0  1.0   \n305525                                 6 b27 f1*    8     0     0  1.0  0.0   \n510677                       5 b29 f1 f1 f1 f3w@    7     0     0  1.0  0.0   \n55514   6 b28 f3 b2 f1 f2 f3 b3 f1 f1 f1 f3 s3w#  196     1     2  0.0  0.0   \n691941                             6 b28 v2 z1n@  183     1     1  1.0  5.0   \n615807                          4 b37 b3 f1 f1d@   22     0     0  1.0  2.0   \n79689                           5 b28 f3 b2 f1n@  121     1     0  5.0  5.0   \n663762                                5 f27 z2n@  318     2     2  1.0  2.0   \n\n        TbSet  ...  Ret  isAce  isUnret  isRallyWinner  isForced  isUnforced  \\\n347564    1.0  ...    2  False    False          False     False        True   \n411510    1.0  ...    2  False    False           True     False       False   \n599782    1.0  ...    2  False    False          False     False        True   \n305525    1.0  ...    1  False    False           True     False       False   \n510677    1.0  ...    1  False    False          False     False        True   \n55514     1.0  ...    1  False    False          False      True       False   \n691941    1.0  ...    2  False    False          False     False        True   \n615807    1.0  ...    1  False    False          False     False        True   \n79689     1.0  ...    2  False    False          False     False        True   \n663762    0.0  ...    1  False    False          False     False        True   \n\n        isDouble  PtWinner  isSvrWinner  rallyCount  \n347564     False         2            0          10  \n411510     False         1            1           3  \n599782     False         2            0           4  \n305525     False         2            1           3  \n510677     False         2            1           5  \n55514      False         1            0          12  \n691941     False         1            1           3  \n615807     False         1            0           4  \n79689      False         2            0           4  \n663762     False         1            0           2  \n\n[10 rows x 23 columns]",
      "text/html": "<div>\n<style scoped>\n    .dataframe tbody tr th:only-of-type {\n        vertical-align: middle;\n    }\n\n    .dataframe tbody tr th {\n        vertical-align: top;\n    }\n\n    .dataframe thead th {\n        text-align: right;\n    }\n</style>\n<table border=\"1\" class=\"dataframe\">\n  <thead>\n    <tr style=\"text-align: right;\">\n      <th></th>\n      <th>1stIn</th>\n      <th>2ndIn</th>\n      <th>1st_final</th>\n      <th>2nd_final</th>\n      <th>Pt</th>\n      <th>Set1</th>\n      <th>Set2</th>\n      <th>Gm1</th>\n      <th>Gm2</th>\n      <th>TbSet</th>\n      <th>...</th>\n      <th>Ret</th>\n      <th>isAce</th>\n      <th>isUnret</th>\n      <th>isRallyWinner</th>\n      <th>isForced</th>\n      <th>isUnforced</th>\n      <th>isDouble</th>\n      <th>PtWinner</th>\n      <th>isSvrWinner</th>\n      <th>rallyCount</th>\n    </tr>\n  </thead>\n  <tbody>\n    <tr>\n      <th>347564</th>\n      <td>1</td>\n      <td>NaN</td>\n      <td>4 b28 b2 b2 f1 f1 f2 b2 b2 f3 b3w@</td>\n      <td>NaN</td>\n      <td>41</td>\n      <td>0</td>\n      <td>0</td>\n      <td>4.0</td>\n      <td>2.0</td>\n      <td>1.0</td>\n      <td>...</td>\n      <td>2</td>\n      <td>False</td>\n      <td>False</td>\n      <td>False</td>\n      <td>False</td>\n      <td>True</td>\n      <td>False</td>\n      <td>2</td>\n      <td>0</td>\n      <td>10</td>\n    </tr>\n    <tr>\n      <th>411510</th>\n      <td>1</td>\n      <td>NaN</td>\n      <td>4 b37 b1*</td>\n      <td>NaN</td>\n      <td>120</td>\n      <td>0</td>\n      <td>1</td>\n      <td>4.0</td>\n      <td>5.0</td>\n      <td>1.0</td>\n      <td>...</td>\n      <td>2</td>\n      <td>False</td>\n      <td>False</td>\n      <td>True</td>\n      <td>False</td>\n      <td>False</td>\n      <td>False</td>\n      <td>1</td>\n      <td>1</td>\n      <td>3</td>\n    </tr>\n    <tr>\n      <th>599782</th>\n      <td>0</td>\n      <td>1.0</td>\n      <td>4 b38 b3 b3 f2d@</td>\n      <td>4 b38 b3 b3 f2d@</td>\n      <td>94</td>\n      <td>1</td>\n      <td>0</td>\n      <td>0.0</td>\n      <td>1.0</td>\n      <td>1.0</td>\n      <td>...</td>\n      <td>2</td>\n      <td>False</td>\n      <td>False</td>\n      <td>False</td>\n      <td>False</td>\n      <td>True</td>\n      <td>False</td>\n      <td>2</td>\n      <td>0</td>\n      <td>4</td>\n    </tr>\n    <tr>\n      <th>305525</th>\n      <td>0</td>\n      <td>1.0</td>\n      <td>6 b27 f1*</td>\n      <td>6 b27 f1*</td>\n      <td>8</td>\n      <td>0</td>\n      <td>0</td>\n      <td>1.0</td>\n      <td>0.0</td>\n      <td>1.0</td>\n      <td>...</td>\n      <td>1</td>\n      <td>False</td>\n      <td>False</td>\n      <td>True</td>\n      <td>False</td>\n      <td>False</td>\n      <td>False</td>\n      <td>2</td>\n      <td>1</td>\n      <td>3</td>\n    </tr>\n    <tr>\n      <th>510677</th>\n      <td>0</td>\n      <td>1.0</td>\n      <td>5 b29 f1 f1 f1 f3w@</td>\n      <td>5 b29 f1 f1 f1 f3w@</td>\n      <td>7</td>\n      <td>0</td>\n      <td>0</td>\n      <td>1.0</td>\n      <td>0.0</td>\n      <td>1.0</td>\n      <td>...</td>\n      <td>1</td>\n      <td>False</td>\n      <td>False</td>\n      <td>False</td>\n      <td>False</td>\n      <td>True</td>\n      <td>False</td>\n      <td>2</td>\n      <td>1</td>\n      <td>5</td>\n    </tr>\n    <tr>\n      <th>55514</th>\n      <td>0</td>\n      <td>1.0</td>\n      <td>6 b28 f3 b2 f1 f2 f3 b3 f1 f1 f1 f3 s3w#</td>\n      <td>6 b28 f3 b2 f1 f2 f3 b3 f1 f1 f1 f3 s3w#</td>\n      <td>196</td>\n      <td>1</td>\n      <td>2</td>\n      <td>0.0</td>\n      <td>0.0</td>\n      <td>1.0</td>\n      <td>...</td>\n      <td>1</td>\n      <td>False</td>\n      <td>False</td>\n      <td>False</td>\n      <td>True</td>\n      <td>False</td>\n      <td>False</td>\n      <td>1</td>\n      <td>0</td>\n      <td>12</td>\n    </tr>\n    <tr>\n      <th>691941</th>\n      <td>0</td>\n      <td>1.0</td>\n      <td>6 b28 v2 z1n@</td>\n      <td>6 b28 v2 z1n@</td>\n      <td>183</td>\n      <td>1</td>\n      <td>1</td>\n      <td>1.0</td>\n      <td>5.0</td>\n      <td>1.0</td>\n      <td>...</td>\n      <td>2</td>\n      <td>False</td>\n      <td>False</td>\n      <td>False</td>\n      <td>False</td>\n      <td>True</td>\n      <td>False</td>\n      <td>1</td>\n      <td>1</td>\n      <td>3</td>\n    </tr>\n    <tr>\n      <th>615807</th>\n      <td>0</td>\n      <td>1.0</td>\n      <td>4 b37 b3 f1 f1d@</td>\n      <td>4 b37 b3 f1 f1d@</td>\n      <td>22</td>\n      <td>0</td>\n      <td>0</td>\n      <td>1.0</td>\n      <td>2.0</td>\n      <td>1.0</td>\n      <td>...</td>\n      <td>1</td>\n      <td>False</td>\n      <td>False</td>\n      <td>False</td>\n      <td>False</td>\n      <td>True</td>\n      <td>False</td>\n      <td>1</td>\n      <td>0</td>\n      <td>4</td>\n    </tr>\n    <tr>\n      <th>79689</th>\n      <td>0</td>\n      <td>1.0</td>\n      <td>5 b28 f3 b2 f1n@</td>\n      <td>5 b28 f3 b2 f1n@</td>\n      <td>121</td>\n      <td>1</td>\n      <td>0</td>\n      <td>5.0</td>\n      <td>5.0</td>\n      <td>1.0</td>\n      <td>...</td>\n      <td>2</td>\n      <td>False</td>\n      <td>False</td>\n      <td>False</td>\n      <td>False</td>\n      <td>True</td>\n      <td>False</td>\n      <td>2</td>\n      <td>0</td>\n      <td>4</td>\n    </tr>\n    <tr>\n      <th>663762</th>\n      <td>0</td>\n      <td>1.0</td>\n      <td>5 f27 z2n@</td>\n      <td>5 f27 z2n@</td>\n      <td>318</td>\n      <td>2</td>\n      <td>2</td>\n      <td>1.0</td>\n      <td>2.0</td>\n      <td>0.0</td>\n      <td>...</td>\n      <td>1</td>\n      <td>False</td>\n      <td>False</td>\n      <td>False</td>\n      <td>False</td>\n      <td>True</td>\n      <td>False</td>\n      <td>1</td>\n      <td>0</td>\n      <td>2</td>\n    </tr>\n  </tbody>\n</table>\n<p>10 rows × 23 columns</p>\n</div>"
     },
     "execution_count": 146,
     "metadata": {},
     "output_type": "execute_result"
    }
   ],
   "source": [
    "point_winning_data.sample(10)"
   ],
   "metadata": {
    "collapsed": false,
    "ExecuteTime": {
     "end_time": "2024-11-20T22:50:14.423637Z",
     "start_time": "2024-11-20T22:50:14.391639Z"
    }
   },
   "id": "a0b88fbfd341c55",
   "execution_count": 146
  },
  {
   "cell_type": "code",
   "outputs": [],
   "source": [],
   "metadata": {
    "collapsed": false
   },
   "id": "72a50f3759f5dee6"
  }
 ],
 "metadata": {
  "kernelspec": {
   "display_name": "Python 3",
   "language": "python",
   "name": "python3"
  },
  "language_info": {
   "codemirror_mode": {
    "name": "ipython",
    "version": 2
   },
   "file_extension": ".py",
   "mimetype": "text/x-python",
   "name": "python",
   "nbconvert_exporter": "python",
   "pygments_lexer": "ipython2",
   "version": "2.7.6"
  }
 },
 "nbformat": 4,
 "nbformat_minor": 5
}
