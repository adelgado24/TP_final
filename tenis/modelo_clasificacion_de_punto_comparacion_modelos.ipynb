{
 "cells": [
  {
   "cell_type": "code",
   "execution_count": 1,
   "id": "initial_id",
   "metadata": {
    "collapsed": true,
    "ExecuteTime": {
     "end_time": "2024-12-05T17:20:58.116713Z",
     "start_time": "2024-12-05T17:20:55.234517Z"
    }
   },
   "outputs": [],
   "source": [
    "import pandas as pd\n",
    "import numpy as np\n",
    "import matplotlib.pyplot as plt\n",
    "import seaborn as sns\n",
    "from sklearn.model_selection import train_test_split\n",
    "import chardet\n",
    "import re\n",
    "import warnings\n",
    "import tensorflow as tf\n",
    "from tensorflow import keras\n",
    "from tensorflow.keras import layers\n",
    "from tensorflow.keras import Sequential\n",
    "from tensorflow.keras.layers import Dense, LSTM, Dropout, Embedding, Concatenate, Input\n",
    "from tensorflow.keras.preprocessing.text import Tokenizer\n",
    "from tensorflow.keras.preprocessing.sequence import pad_sequences\n",
    "from keras.models import Model\n",
    "from keras.optimizers import Adam"
   ]
  },
  {
   "cell_type": "code",
   "outputs": [],
   "source": [
    "df = pd.read_csv('data_output/charting_clean.csv', low_memory=False)"
   ],
   "metadata": {
    "collapsed": false,
    "ExecuteTime": {
     "end_time": "2024-12-05T17:21:01.947403Z",
     "start_time": "2024-12-05T17:20:58.117714Z"
    }
   },
   "id": "a65f7b653da1ac1f",
   "execution_count": 2
  },
  {
   "cell_type": "code",
   "outputs": [],
   "source": [
    "df_exploded = pd.read_csv('data_output/df_exploded_full.csv', low_memory=False)"
   ],
   "metadata": {
    "collapsed": false,
    "ExecuteTime": {
     "end_time": "2024-12-05T17:21:03.798625Z",
     "start_time": "2024-12-05T17:21:01.948412Z"
    }
   },
   "id": "d18af40e8ff3628c",
   "execution_count": 3
  },
  {
   "cell_type": "code",
   "outputs": [
    {
     "data": {
      "text/plain": "           Player       Sequence  \\\n0  Novak Djokovic              6   \n1     Ben Shelton           f2n#   \n2  Novak Djokovic             4n   \n3  Novak Djokovic     6 f1 s1 f2   \n4     Ben Shelton  b19 b2 f3 j2*   \n\n                                            match_id  Pt  Set1  Set2  Gm1  \\\n0  20230908-M-US_Open-SF-Novak_Djokovic_-Ben_Shelton   1     0     0  0.0   \n1  20230908-M-US_Open-SF-Novak_Djokovic_-Ben_Shelton   1     0     0  0.0   \n2  20230908-M-US_Open-SF-Novak_Djokovic_-Ben_Shelton   2     0     0  0.0   \n3  20230908-M-US_Open-SF-Novak_Djokovic_-Ben_Shelton   2     0     0  0.0   \n4  20230908-M-US_Open-SF-Novak_Djokovic_-Ben_Shelton   2     0     0  0.0   \n\n   Gm2   Pts  \n0  0.0   0-0  \n1  0.0   0-0  \n2  0.0  15-0  \n3  0.0  15-0  \n4  0.0  15-0  ",
      "text/html": "<div>\n<style scoped>\n    .dataframe tbody tr th:only-of-type {\n        vertical-align: middle;\n    }\n\n    .dataframe tbody tr th {\n        vertical-align: top;\n    }\n\n    .dataframe thead th {\n        text-align: right;\n    }\n</style>\n<table border=\"1\" class=\"dataframe\">\n  <thead>\n    <tr style=\"text-align: right;\">\n      <th></th>\n      <th>Player</th>\n      <th>Sequence</th>\n      <th>match_id</th>\n      <th>Pt</th>\n      <th>Set1</th>\n      <th>Set2</th>\n      <th>Gm1</th>\n      <th>Gm2</th>\n      <th>Pts</th>\n    </tr>\n  </thead>\n  <tbody>\n    <tr>\n      <th>0</th>\n      <td>Novak Djokovic</td>\n      <td>6</td>\n      <td>20230908-M-US_Open-SF-Novak_Djokovic_-Ben_Shelton</td>\n      <td>1</td>\n      <td>0</td>\n      <td>0</td>\n      <td>0.0</td>\n      <td>0.0</td>\n      <td>0-0</td>\n    </tr>\n    <tr>\n      <th>1</th>\n      <td>Ben Shelton</td>\n      <td>f2n#</td>\n      <td>20230908-M-US_Open-SF-Novak_Djokovic_-Ben_Shelton</td>\n      <td>1</td>\n      <td>0</td>\n      <td>0</td>\n      <td>0.0</td>\n      <td>0.0</td>\n      <td>0-0</td>\n    </tr>\n    <tr>\n      <th>2</th>\n      <td>Novak Djokovic</td>\n      <td>4n</td>\n      <td>20230908-M-US_Open-SF-Novak_Djokovic_-Ben_Shelton</td>\n      <td>2</td>\n      <td>0</td>\n      <td>0</td>\n      <td>0.0</td>\n      <td>0.0</td>\n      <td>15-0</td>\n    </tr>\n    <tr>\n      <th>3</th>\n      <td>Novak Djokovic</td>\n      <td>6 f1 s1 f2</td>\n      <td>20230908-M-US_Open-SF-Novak_Djokovic_-Ben_Shelton</td>\n      <td>2</td>\n      <td>0</td>\n      <td>0</td>\n      <td>0.0</td>\n      <td>0.0</td>\n      <td>15-0</td>\n    </tr>\n    <tr>\n      <th>4</th>\n      <td>Ben Shelton</td>\n      <td>b19 b2 f3 j2*</td>\n      <td>20230908-M-US_Open-SF-Novak_Djokovic_-Ben_Shelton</td>\n      <td>2</td>\n      <td>0</td>\n      <td>0</td>\n      <td>0.0</td>\n      <td>0.0</td>\n      <td>15-0</td>\n    </tr>\n  </tbody>\n</table>\n</div>"
     },
     "execution_count": 4,
     "metadata": {},
     "output_type": "execute_result"
    }
   ],
   "source": [
    "df_exploded.head()"
   ],
   "metadata": {
    "collapsed": false,
    "ExecuteTime": {
     "end_time": "2024-12-05T17:21:03.814629Z",
     "start_time": "2024-12-05T17:21:03.800626Z"
    }
   },
   "id": "b83898b4c5705806",
   "execution_count": 4
  },
  {
   "cell_type": "markdown",
   "source": [
    "# Clasificacion de Rallies\n",
    "El objetivo del modelo es clasificar los rallies en tres categorías: agresivo, donde el jugador toma la iniciativa **clara** de ganar el punto (independientemente de si lo logra o no), seguro (puntos de pocos riesgos, extensos, buscando que el rival cometa un error) y convencionales (puntos comunes, poco destacados). Para ello, se utilizará un modelo de clustering basado en K-Means.\n",
    " Lo destacable de este proceso no es el modelo de clustering en si sino la creacion de los parametros que se utilizaran para clasificar los rallies, porque una secuencia de golpes no es un dato que se pueda utilizar directamente en un modelo de clustering."
   ],
   "metadata": {
    "collapsed": false
   },
   "id": "f6d270c08ddbc911"
  },
  {
   "cell_type": "markdown",
   "source": [
    "## Creación de parametros\n",
    "Ponemos un minimo de 3 golpes por rally. Si fuera menos, no se podria clasificar, y habria un cluster enorme dedicado a puntos de simplemente saque devolución."
   ],
   "metadata": {
    "collapsed": false
   },
   "id": "cf37ab0451d03e73"
  },
  {
   "cell_type": "code",
   "outputs": [
    {
     "data": {
      "text/plain": "           Player              Sequence  \\\n0  Novak Djokovic            6 f1 s1 f2   \n1     Ben Shelton         b19 b2 f3 j2*   \n2  Novak Djokovic      4 b2 b1 b3 f2 f1   \n3     Ben Shelton  b28 f2 s3 f1 b1 b3n@   \n4     Ben Shelton             6 f2 f3d@   \n\n                                            match_id  Pt  Set1  Set2  Gm1  \\\n0  20230908-M-US_Open-SF-Novak_Djokovic_-Ben_Shelton   2     0     0  0.0   \n1  20230908-M-US_Open-SF-Novak_Djokovic_-Ben_Shelton   2     0     0  0.0   \n2  20230908-M-US_Open-SF-Novak_Djokovic_-Ben_Shelton  11     0     0  1.0   \n3  20230908-M-US_Open-SF-Novak_Djokovic_-Ben_Shelton  11     0     0  1.0   \n4  20230908-M-US_Open-SF-Novak_Djokovic_-Ben_Shelton  19     0     0  2.0   \n\n   Gm2    Pts  \n0  0.0   15-0  \n1  0.0   15-0  \n2  1.0    0-0  \n3  1.0    0-0  \n4  1.0  40-15  ",
      "text/html": "<div>\n<style scoped>\n    .dataframe tbody tr th:only-of-type {\n        vertical-align: middle;\n    }\n\n    .dataframe tbody tr th {\n        vertical-align: top;\n    }\n\n    .dataframe thead th {\n        text-align: right;\n    }\n</style>\n<table border=\"1\" class=\"dataframe\">\n  <thead>\n    <tr style=\"text-align: right;\">\n      <th></th>\n      <th>Player</th>\n      <th>Sequence</th>\n      <th>match_id</th>\n      <th>Pt</th>\n      <th>Set1</th>\n      <th>Set2</th>\n      <th>Gm1</th>\n      <th>Gm2</th>\n      <th>Pts</th>\n    </tr>\n  </thead>\n  <tbody>\n    <tr>\n      <th>0</th>\n      <td>Novak Djokovic</td>\n      <td>6 f1 s1 f2</td>\n      <td>20230908-M-US_Open-SF-Novak_Djokovic_-Ben_Shelton</td>\n      <td>2</td>\n      <td>0</td>\n      <td>0</td>\n      <td>0.0</td>\n      <td>0.0</td>\n      <td>15-0</td>\n    </tr>\n    <tr>\n      <th>1</th>\n      <td>Ben Shelton</td>\n      <td>b19 b2 f3 j2*</td>\n      <td>20230908-M-US_Open-SF-Novak_Djokovic_-Ben_Shelton</td>\n      <td>2</td>\n      <td>0</td>\n      <td>0</td>\n      <td>0.0</td>\n      <td>0.0</td>\n      <td>15-0</td>\n    </tr>\n    <tr>\n      <th>2</th>\n      <td>Novak Djokovic</td>\n      <td>4 b2 b1 b3 f2 f1</td>\n      <td>20230908-M-US_Open-SF-Novak_Djokovic_-Ben_Shelton</td>\n      <td>11</td>\n      <td>0</td>\n      <td>0</td>\n      <td>1.0</td>\n      <td>1.0</td>\n      <td>0-0</td>\n    </tr>\n    <tr>\n      <th>3</th>\n      <td>Ben Shelton</td>\n      <td>b28 f2 s3 f1 b1 b3n@</td>\n      <td>20230908-M-US_Open-SF-Novak_Djokovic_-Ben_Shelton</td>\n      <td>11</td>\n      <td>0</td>\n      <td>0</td>\n      <td>1.0</td>\n      <td>1.0</td>\n      <td>0-0</td>\n    </tr>\n    <tr>\n      <th>4</th>\n      <td>Ben Shelton</td>\n      <td>6 f2 f3d@</td>\n      <td>20230908-M-US_Open-SF-Novak_Djokovic_-Ben_Shelton</td>\n      <td>19</td>\n      <td>0</td>\n      <td>0</td>\n      <td>2.0</td>\n      <td>1.0</td>\n      <td>40-15</td>\n    </tr>\n  </tbody>\n</table>\n</div>"
     },
     "execution_count": 5,
     "metadata": {},
     "output_type": "execute_result"
    }
   ],
   "source": [
    "#Filtro de rallies con menos de 3 golpes\n",
    "df_exploded = df_exploded[df_exploded['Sequence'].apply(lambda x: len(x.split())) >= 3].reset_index(drop=True)\n",
    "df_exploded.head()"
   ],
   "metadata": {
    "collapsed": false,
    "ExecuteTime": {
     "end_time": "2024-12-05T17:21:04.593725Z",
     "start_time": "2024-12-05T17:21:03.815629Z"
    }
   },
   "id": "6d328bea355a833a",
   "execution_count": 5
  },
  {
   "cell_type": "markdown",
   "source": [
    "La extracción de características se realizará a partir de la secuencia de golpes de cada rally. Se contabilizarán los diferentes tipos de golpes y se calcularán las proporciones de cada uno de ellos. Además, se aplicarán pesos a las proporciones para influir en los clusters."
   ],
   "metadata": {
    "collapsed": false
   },
   "id": "141baa055d84973c"
  },
  {
   "cell_type": "code",
   "outputs": [
    {
     "data": {
      "text/plain": "        num_shots   corners    middle  forehand  backhand  groundstrokes  \\\n228993          4  0.750000  0.000000       0.5  0.250000       0.750000   \n299448          3  0.000000  0.666667       0.0  0.666667       0.666667   \n20039           3  0.666667  0.000000       0.0  0.000000       0.000000   \n\n           slice     smash  volley  drop  lob  neutral  defensive  aggressive  \n228993  0.000000  0.000000     0.0   0.0  0.0     2.25   0.500000    0.000000  \n299448  0.000000  0.000000     0.0   0.0  0.0     3.00   0.666667    0.000000  \n20039   0.333333  0.333333     0.0   0.0  0.0     0.00   1.333333    0.833333  ",
      "text/html": "<div>\n<style scoped>\n    .dataframe tbody tr th:only-of-type {\n        vertical-align: middle;\n    }\n\n    .dataframe tbody tr th {\n        vertical-align: top;\n    }\n\n    .dataframe thead th {\n        text-align: right;\n    }\n</style>\n<table border=\"1\" class=\"dataframe\">\n  <thead>\n    <tr style=\"text-align: right;\">\n      <th></th>\n      <th>num_shots</th>\n      <th>corners</th>\n      <th>middle</th>\n      <th>forehand</th>\n      <th>backhand</th>\n      <th>groundstrokes</th>\n      <th>slice</th>\n      <th>smash</th>\n      <th>volley</th>\n      <th>drop</th>\n      <th>lob</th>\n      <th>neutral</th>\n      <th>defensive</th>\n      <th>aggressive</th>\n    </tr>\n  </thead>\n  <tbody>\n    <tr>\n      <th>228993</th>\n      <td>4</td>\n      <td>0.750000</td>\n      <td>0.000000</td>\n      <td>0.5</td>\n      <td>0.250000</td>\n      <td>0.750000</td>\n      <td>0.000000</td>\n      <td>0.000000</td>\n      <td>0.0</td>\n      <td>0.0</td>\n      <td>0.0</td>\n      <td>2.25</td>\n      <td>0.500000</td>\n      <td>0.000000</td>\n    </tr>\n    <tr>\n      <th>299448</th>\n      <td>3</td>\n      <td>0.000000</td>\n      <td>0.666667</td>\n      <td>0.0</td>\n      <td>0.666667</td>\n      <td>0.666667</td>\n      <td>0.000000</td>\n      <td>0.000000</td>\n      <td>0.0</td>\n      <td>0.0</td>\n      <td>0.0</td>\n      <td>3.00</td>\n      <td>0.666667</td>\n      <td>0.000000</td>\n    </tr>\n    <tr>\n      <th>20039</th>\n      <td>3</td>\n      <td>0.666667</td>\n      <td>0.000000</td>\n      <td>0.0</td>\n      <td>0.000000</td>\n      <td>0.000000</td>\n      <td>0.333333</td>\n      <td>0.333333</td>\n      <td>0.0</td>\n      <td>0.0</td>\n      <td>0.0</td>\n      <td>0.00</td>\n      <td>1.333333</td>\n      <td>0.833333</td>\n    </tr>\n  </tbody>\n</table>\n</div>"
     },
     "execution_count": 6,
     "metadata": {},
     "output_type": "execute_result"
    }
   ],
   "source": [
    "def extract_features_with_weights(sequence):\n",
    "    # Diccionario para contar diferentes tipos de golpes\n",
    "    counts = {\n",
    "        \"num_shots\": 0,\n",
    "        \"num_corners\": 0,\n",
    "        \"num_middle\": 0,\n",
    "        \"num_forehand\": 0,\n",
    "        \"num_backhand\": 0,\n",
    "        \"num_groundstrokes\": 0,\n",
    "        \"num_smash\": 0,\n",
    "        \"num_volley\": 0,\n",
    "        \"num_drop\": 0,\n",
    "        \"num_lob\": 0,\n",
    "        \"num_slice\": 0\n",
    "    }\n",
    "\n",
    "    # Recorrer cada carácter en la secuencia\n",
    "    for token in sequence.split():\n",
    "        counts[\"num_shots\"] += 1\n",
    "\n",
    "        if '1' in token or '3' in token:\n",
    "            counts[\"num_corners\"] += 1\n",
    "        if '2' in token:\n",
    "            counts[\"num_middle\"] += 1\n",
    "        if 'f' in token:\n",
    "            counts[\"num_forehand\"] += 1\n",
    "        if 'b' in token:\n",
    "            counts[\"num_backhand\"] += 1\n",
    "        if 'f' in token or 'b' in token:  # Agrupa forehand y backhand\n",
    "            counts[\"num_groundstrokes\"] += 1\n",
    "        if 's' in token or 'r' in token:\n",
    "            counts[\"num_slice\"] += 1\n",
    "        if 'p' in token or 'o' in token:\n",
    "            counts[\"num_smash\"] += 1\n",
    "        if any(c in token for c in 'vzhiqjk'):\n",
    "            counts[\"num_volley\"] += 1\n",
    "        if 'u' in token or 'y' in token:\n",
    "            counts[\"num_drop\"] += 1\n",
    "        if 'l' in token or 'm' in token:\n",
    "            counts[\"num_lob\"] += 1\n",
    "\n",
    "    # Calcular proporciones\n",
    "    total_shots = counts[\"num_shots\"]\n",
    "    if total_shots > 0:\n",
    "        props = {\n",
    "            \"corners\": counts[\"num_corners\"] / total_shots,\n",
    "            \"middle\": counts[\"num_middle\"] / total_shots,\n",
    "            \"groundstrokes\": counts[\"num_groundstrokes\"] / total_shots,\n",
    "            \"forehand\": counts[\"num_forehand\"] / total_shots,\n",
    "            \"backhand\": counts[\"num_backhand\"] / total_shots,\n",
    "            \"slice\": counts[\"num_slice\"] / total_shots,\n",
    "            \"smash\": counts[\"num_smash\"] / total_shots,\n",
    "            \"volley\": counts[\"num_volley\"] / total_shots,\n",
    "            \"drop\": counts[\"num_drop\"] / total_shots,\n",
    "            \"lob\": counts[\"num_lob\"] / total_shots,\n",
    "        }\n",
    "    else:\n",
    "        props = {key: 0 for key in counts.keys()}\n",
    "\n",
    "    # Aplicar pesos para influir en los clusters\n",
    "    features = {\n",
    "        \"neutral_weighted\": (props[\"forehand\"] + props[\"backhand\"] + props[\"groundstrokes\"] + props[\"middle\"]) * 1.5,\n",
    "        \"defensive_weighted\": (props[\"lob\"] + props[\"drop\"] + props[\"slice\"] + (1 / total_shots if total_shots > 0 else 0)) * 2,\n",
    "        \"aggressive_weighted\": (props[\"smash\"] + props[\"volley\"]) * 2.5,\n",
    "    }\n",
    "\n",
    "    return [\n",
    "        #add number of shots\n",
    "        counts[\"num_shots\"],\n",
    "        props[\"corners\"],\n",
    "        props[\"middle\"],\n",
    "        props[\"forehand\"],\n",
    "        props[\"backhand\"],\n",
    "        props[\"groundstrokes\"],\n",
    "        props[\"slice\"],\n",
    "        props[\"smash\"],\n",
    "        props[\"volley\"],\n",
    "        props[\"drop\"],\n",
    "        props[\"lob\"],\n",
    "        features[\"neutral_weighted\"],\n",
    "        features[\"defensive_weighted\"],\n",
    "        features[\"aggressive_weighted\"],\n",
    "    ]\n",
    "\n",
    "# Aplicar la función al DataFrame\n",
    "df_features = df_exploded['Sequence'].apply(extract_features_with_weights).tolist()\n",
    "\n",
    "# Crear el DataFrame con todas las características\n",
    "columns = [\n",
    "    \"num_shots\",\n",
    "    \"corners\", \n",
    "    \"middle\",\n",
    "    \"forehand\", \n",
    "    \"backhand\",\n",
    "    \"groundstrokes\",\n",
    "    \"slice\",\n",
    "    \"smash\", \n",
    "    \"volley\", \n",
    "    \"drop\", \n",
    "    \"lob\", \n",
    "    \"neutral\", \n",
    "    \"defensive\", \n",
    "    \"aggressive\"\n",
    "]\n",
    "\n",
    "df_features = pd.DataFrame(df_features, columns=columns)\n",
    "\n",
    "df_features.sample(3)"
   ],
   "metadata": {
    "collapsed": false,
    "ExecuteTime": {
     "end_time": "2024-12-05T17:21:09.734395Z",
     "start_time": "2024-12-05T17:21:04.594727Z"
    }
   },
   "id": "1bc1a1acd29f5b78",
   "execution_count": 6
  },
  {
   "cell_type": "code",
   "outputs": [],
   "source": [
    "#copia de testeo\n",
    "features_df = df_features.copy()\n",
    "#features_df = features_df.drop(columns=['num_shots'])\n",
    "#features_df = features_df.drop(columns=['slice'])"
   ],
   "metadata": {
    "collapsed": false,
    "ExecuteTime": {
     "end_time": "2024-12-05T17:21:09.750392Z",
     "start_time": "2024-12-05T17:21:09.735395Z"
    }
   },
   "id": "14635deef9c6c933",
   "execution_count": 7
  },
  {
   "cell_type": "code",
   "outputs": [
    {
     "data": {
      "text/plain": "'#apply min max scaler\\nfrom sklearn.preprocessing import MinMaxScaler\\nscaler = MinMaxScaler()\\nfeatures_normalized = scaler.fit_transform(features_df)'"
     },
     "execution_count": 8,
     "metadata": {},
     "output_type": "execute_result"
    }
   ],
   "source": [
    "\"\"\"#apply min max scaler\n",
    "from sklearn.preprocessing import MinMaxScaler\n",
    "scaler = MinMaxScaler()\n",
    "features_normalized = scaler.fit_transform(features_df)\"\"\""
   ],
   "metadata": {
    "collapsed": false,
    "ExecuteTime": {
     "end_time": "2024-12-05T17:21:09.766304Z",
     "start_time": "2024-12-05T17:21:09.751393Z"
    }
   },
   "id": "b911fe4bf7d40806",
   "execution_count": 8
  },
  {
   "cell_type": "code",
   "outputs": [],
   "source": [
    "#Use standard scaler\n",
    "from sklearn.preprocessing import StandardScaler\n",
    "scaler = StandardScaler()\n",
    "features_normalized = scaler.fit_transform(features_df)"
   ],
   "metadata": {
    "collapsed": false,
    "ExecuteTime": {
     "end_time": "2024-12-05T17:21:09.889041Z",
     "start_time": "2024-12-05T17:21:09.767305Z"
    }
   },
   "id": "d8b9d3634104c99",
   "execution_count": 9
  },
  {
   "cell_type": "code",
   "outputs": [
    {
     "name": "stderr",
     "output_type": "stream",
     "text": [
      "C:\\Users\\agusd\\AppData\\Local\\Packages\\PythonSoftwareFoundation.Python.3.10_qbz5n2kfra8p0\\LocalCache\\local-packages\\Python310\\site-packages\\sklearn\\cluster\\_kmeans.py:1412: FutureWarning: The default value of `n_init` will change from 10 to 'auto' in 1.4. Set the value of `n_init` explicitly to suppress the warning\n",
      "  super()._check_params_vs_input(X, default_n_init=10)\n"
     ]
    },
    {
     "data": {
      "text/plain": "KMeans(n_clusters=3, random_state=42)",
      "text/html": "<style>#sk-container-id-1 {color: black;}#sk-container-id-1 pre{padding: 0;}#sk-container-id-1 div.sk-toggleable {background-color: white;}#sk-container-id-1 label.sk-toggleable__label {cursor: pointer;display: block;width: 100%;margin-bottom: 0;padding: 0.3em;box-sizing: border-box;text-align: center;}#sk-container-id-1 label.sk-toggleable__label-arrow:before {content: \"▸\";float: left;margin-right: 0.25em;color: #696969;}#sk-container-id-1 label.sk-toggleable__label-arrow:hover:before {color: black;}#sk-container-id-1 div.sk-estimator:hover label.sk-toggleable__label-arrow:before {color: black;}#sk-container-id-1 div.sk-toggleable__content {max-height: 0;max-width: 0;overflow: hidden;text-align: left;background-color: #f0f8ff;}#sk-container-id-1 div.sk-toggleable__content pre {margin: 0.2em;color: black;border-radius: 0.25em;background-color: #f0f8ff;}#sk-container-id-1 input.sk-toggleable__control:checked~div.sk-toggleable__content {max-height: 200px;max-width: 100%;overflow: auto;}#sk-container-id-1 input.sk-toggleable__control:checked~label.sk-toggleable__label-arrow:before {content: \"▾\";}#sk-container-id-1 div.sk-estimator input.sk-toggleable__control:checked~label.sk-toggleable__label {background-color: #d4ebff;}#sk-container-id-1 div.sk-label input.sk-toggleable__control:checked~label.sk-toggleable__label {background-color: #d4ebff;}#sk-container-id-1 input.sk-hidden--visually {border: 0;clip: rect(1px 1px 1px 1px);clip: rect(1px, 1px, 1px, 1px);height: 1px;margin: -1px;overflow: hidden;padding: 0;position: absolute;width: 1px;}#sk-container-id-1 div.sk-estimator {font-family: monospace;background-color: #f0f8ff;border: 1px dotted black;border-radius: 0.25em;box-sizing: border-box;margin-bottom: 0.5em;}#sk-container-id-1 div.sk-estimator:hover {background-color: #d4ebff;}#sk-container-id-1 div.sk-parallel-item::after {content: \"\";width: 100%;border-bottom: 1px solid gray;flex-grow: 1;}#sk-container-id-1 div.sk-label:hover label.sk-toggleable__label {background-color: #d4ebff;}#sk-container-id-1 div.sk-serial::before {content: \"\";position: absolute;border-left: 1px solid gray;box-sizing: border-box;top: 0;bottom: 0;left: 50%;z-index: 0;}#sk-container-id-1 div.sk-serial {display: flex;flex-direction: column;align-items: center;background-color: white;padding-right: 0.2em;padding-left: 0.2em;position: relative;}#sk-container-id-1 div.sk-item {position: relative;z-index: 1;}#sk-container-id-1 div.sk-parallel {display: flex;align-items: stretch;justify-content: center;background-color: white;position: relative;}#sk-container-id-1 div.sk-item::before, #sk-container-id-1 div.sk-parallel-item::before {content: \"\";position: absolute;border-left: 1px solid gray;box-sizing: border-box;top: 0;bottom: 0;left: 50%;z-index: -1;}#sk-container-id-1 div.sk-parallel-item {display: flex;flex-direction: column;z-index: 1;position: relative;background-color: white;}#sk-container-id-1 div.sk-parallel-item:first-child::after {align-self: flex-end;width: 50%;}#sk-container-id-1 div.sk-parallel-item:last-child::after {align-self: flex-start;width: 50%;}#sk-container-id-1 div.sk-parallel-item:only-child::after {width: 0;}#sk-container-id-1 div.sk-dashed-wrapped {border: 1px dashed gray;margin: 0 0.4em 0.5em 0.4em;box-sizing: border-box;padding-bottom: 0.4em;background-color: white;}#sk-container-id-1 div.sk-label label {font-family: monospace;font-weight: bold;display: inline-block;line-height: 1.2em;}#sk-container-id-1 div.sk-label-container {text-align: center;}#sk-container-id-1 div.sk-container {/* jupyter's `normalize.less` sets `[hidden] { display: none; }` but bootstrap.min.css set `[hidden] { display: none !important; }` so we also need the `!important` here to be able to override the default hidden behavior on the sphinx rendered scikit-learn.org. See: https://github.com/scikit-learn/scikit-learn/issues/21755 */display: inline-block !important;position: relative;}#sk-container-id-1 div.sk-text-repr-fallback {display: none;}</style><div id=\"sk-container-id-1\" class=\"sk-top-container\"><div class=\"sk-text-repr-fallback\"><pre>KMeans(n_clusters=3, random_state=42)</pre><b>In a Jupyter environment, please rerun this cell to show the HTML representation or trust the notebook. <br />On GitHub, the HTML representation is unable to render, please try loading this page with nbviewer.org.</b></div><div class=\"sk-container\" hidden><div class=\"sk-item\"><div class=\"sk-estimator sk-toggleable\"><input class=\"sk-toggleable__control sk-hidden--visually\" id=\"sk-estimator-id-1\" type=\"checkbox\" checked><label for=\"sk-estimator-id-1\" class=\"sk-toggleable__label sk-toggleable__label-arrow\">KMeans</label><div class=\"sk-toggleable__content\"><pre>KMeans(n_clusters=3, random_state=42)</pre></div></div></div></div></div>"
     },
     "execution_count": 14,
     "metadata": {},
     "output_type": "execute_result"
    }
   ],
   "source": [
    "from sklearn.preprocessing import StandardScaler\n",
    "from sklearn.cluster import KMeans\n",
    "import matplotlib.pyplot as plt\n",
    "\n",
    "\n",
    "# Aplicar K-Means con 3 clusters (agresivo, defensivo, neutral)\n",
    "kmeans = KMeans(n_clusters=3, random_state=42)\n",
    "kmeans.fit(features_normalized)"
   ],
   "metadata": {
    "collapsed": false,
    "ExecuteTime": {
     "end_time": "2024-12-05T17:24:08.912511Z",
     "start_time": "2024-12-05T17:24:07.162620Z"
    }
   },
   "id": "866eaa47fec02d65",
   "execution_count": 14
  },
  {
   "cell_type": "code",
   "outputs": [],
   "source": [
    "from sklearn.mixture import GaussianMixture\n",
    "from sklearn.metrics import silhouette_score\n",
    "import pandas as pd\n",
    "\n",
    "# Updated code excluding DBSCAN\n",
    "# Gaussian Mixture\n",
    "gaussian = GaussianMixture(n_components=3, random_state=42)\n",
    "gaussian_labels = gaussian.fit_predict(features_normalized)\n",
    "\n",
    "sample_indices = np.random.choice(range(features_normalized.shape[0]), size=30000, replace=False)\n",
    "sample_features = features_normalized[sample_indices]\n",
    "sample_labels = kmeans.labels_[sample_indices]\n",
    "sample_labels_gaussian = gaussian_labels[sample_indices]\n",
    "\n",
    "# Calculate Silhouette Score for KMeans and Gaussian Mixture\n",
    "kmeans_silhouette = silhouette_score(sample_features, sample_labels)\n",
    "gaussian_silhouette = silhouette_score(sample_features, sample_labels_gaussian)\n",
    "\n",
    "\n",
    "# Calculate Inertia for KMeans and Gaussian Mixture\n",
    "kmeans_inertia = kmeans.inertia_\n",
    "gaussian_inertia = gaussian.lower_bound_  # Approximation for Gaussian Mixture\n",
    "\n",
    "# Create comparison table without DBSCAN\n",
    "comparison_data = {\n",
    "    \"Model\": [\"KMeans\", \"Gaussian Mixture\"],\n",
    "    \"Silhouette Score\": [kmeans_silhouette, gaussian_silhouette],\n",
    "    \"Inertia/Lower Bound\": [kmeans_inertia, gaussian_inertia],\n",
    "    \"Number of Clusters\": [len(set(kmeans.labels_)), len(set(gaussian_labels))],\n",
    "}\n",
    "\n",
    "comparison_df = pd.DataFrame(comparison_data)"
   ],
   "metadata": {
    "collapsed": false,
    "ExecuteTime": {
     "end_time": "2024-12-05T17:41:30.333180Z",
     "start_time": "2024-12-05T17:41:05.647381Z"
    }
   },
   "id": "4df97e3be05f568f",
   "execution_count": 31
  },
  {
   "cell_type": "code",
   "outputs": [
    {
     "data": {
      "text/plain": "              Model  Silhouette Score  Inertia/Lower Bound  Number of Clusters\n0            KMeans          0.297761         4.730590e+06                   3\n1  Gaussian Mixture          0.313022         3.139038e+01                   3",
      "text/html": "<div>\n<style scoped>\n    .dataframe tbody tr th:only-of-type {\n        vertical-align: middle;\n    }\n\n    .dataframe tbody tr th {\n        vertical-align: top;\n    }\n\n    .dataframe thead th {\n        text-align: right;\n    }\n</style>\n<table border=\"1\" class=\"dataframe\">\n  <thead>\n    <tr style=\"text-align: right;\">\n      <th></th>\n      <th>Model</th>\n      <th>Silhouette Score</th>\n      <th>Inertia/Lower Bound</th>\n      <th>Number of Clusters</th>\n    </tr>\n  </thead>\n  <tbody>\n    <tr>\n      <th>0</th>\n      <td>KMeans</td>\n      <td>0.297761</td>\n      <td>4.730590e+06</td>\n      <td>3</td>\n    </tr>\n    <tr>\n      <th>1</th>\n      <td>Gaussian Mixture</td>\n      <td>0.313022</td>\n      <td>3.139038e+01</td>\n      <td>3</td>\n    </tr>\n  </tbody>\n</table>\n</div>"
     },
     "execution_count": 32,
     "metadata": {},
     "output_type": "execute_result"
    }
   ],
   "source": [
    "comparison_df"
   ],
   "metadata": {
    "collapsed": false,
    "ExecuteTime": {
     "end_time": "2024-12-05T17:43:39.249893Z",
     "start_time": "2024-12-05T17:43:39.219884Z"
    }
   },
   "id": "31b1be05c49d00f0",
   "execution_count": 32
  },
  {
   "cell_type": "code",
   "outputs": [],
   "source": [
    "features_df['cluster'] = kmeans.labels_\n",
    "features_df['cluster_gaussian'] = gaussian_labels"
   ],
   "metadata": {
    "collapsed": false,
    "ExecuteTime": {
     "end_time": "2024-12-05T17:44:10.890067Z",
     "start_time": "2024-12-05T17:44:10.870063Z"
    }
   },
   "id": "3e82f6a43d50b590",
   "execution_count": 33
  },
  {
   "cell_type": "markdown",
   "source": [
    "# Clasificacion"
   ],
   "metadata": {
    "collapsed": false
   },
   "id": "8b334e5fbdab1561"
  },
  {
   "cell_type": "code",
   "outputs": [],
   "source": [
    "df_exploded['cluster'] = features_df['cluster']\n",
    "df_exploded['cluster_gaussian'] = features_df['cluster_gaussian']"
   ],
   "metadata": {
    "collapsed": false,
    "ExecuteTime": {
     "end_time": "2024-12-05T17:44:32.738262Z",
     "start_time": "2024-12-05T17:44:32.687251Z"
    }
   },
   "id": "8c8472ee39bf2bf0",
   "execution_count": 36
  },
  {
   "cell_type": "code",
   "outputs": [
    {
     "data": {
      "text/plain": "<Figure size 400x400 with 1 Axes>",
      "image/png": "[encoded data removed]"
     },
     "metadata": {},
     "output_type": "display_data"
    }
   ],
   "source": [
    "import matplotlib.pyplot as plt\n",
    "\n",
    "# Contar y normalizar la distribución de los clusters\n",
    "cluster_distribution = df_exploded['cluster'].value_counts(normalize=True)\n",
    "\n",
    "# Mapeo de etiquetas\n",
    "labels = {\n",
    "    1: \"Seguro\",\n",
    "    0: \"Defensivo\",\n",
    "    2: \"Agresivo\"\n",
    "}\n",
    "\n",
    "# Etiquetas actualizadas para el gráfico\n",
    "updated_labels = [labels[cluster] for cluster in cluster_distribution.index]\n",
    "\n",
    "# Pie plot\n",
    "plt.figure(figsize=(4, 4))\n",
    "plt.pie(cluster_distribution, labels=updated_labels, autopct='%1.1f%%', startangle=90, colors=['lightblue', 'lightgreen', 'salmon'])\n",
    "plt.title(\"Distribución de Clústeres con K-Means\", fontweight='bold')\n",
    "\n",
    "plt.savefig('viz_outputs/cluster_distribution_kmeans.png')\n",
    "plt.show()"
   ],
   "metadata": {
    "collapsed": false,
    "ExecuteTime": {
     "end_time": "2024-12-05T18:46:35.768781Z",
     "start_time": "2024-12-05T18:46:35.663941Z"
    }
   },
   "id": "e7360a69b3ec2ac1",
   "execution_count": 222
  },
  {
   "cell_type": "code",
   "outputs": [
    {
     "data": {
      "text/plain": "<Figure size 400x400 with 1 Axes>",
      "image/png": "[encoded data removed]"
     },
     "metadata": {},
     "output_type": "display_data"
    }
   ],
   "source": [
    "# Contar y normalizar la distribución de los clusters para Gaussian Mixture\n",
    "cluster_gaussian_distribution = df_exploded['cluster_gaussian'].value_counts(normalize=True)\n",
    "\n",
    "# Mapeo de etiquetas para Gaussian Mixture\n",
    "gaussian_labels = {\n",
    "    2: \"Seguro\",\n",
    "    0: \"Agresivo\",\n",
    "    1: \"Defensivo\"\n",
    "}\n",
    "\n",
    "# Etiquetas actualizadas para el gráfico\n",
    "updated_gaussian_labels = [gaussian_labels[cluster] for cluster in cluster_gaussian_distribution.index]\n",
    "\n",
    "# Pie plot para Gaussian Mixture\n",
    "plt.figure(figsize=(4, 4))\n",
    "plt.pie(cluster_gaussian_distribution, labels=updated_gaussian_labels, autopct='%1.1f%%', startangle=90, colors=['lightblue', 'salmon', 'lightgreen'])\n",
    "plt.title(\"Distribución de Clústeres con Gaussian Mixture\", fontweight='bold')\n",
    "\n",
    "plt.savefig('viz_outputs/cluster_distribution_gaussian.png')\n",
    "plt.show()\n"
   ],
   "metadata": {
    "collapsed": false,
    "ExecuteTime": {
     "end_time": "2024-12-05T18:00:59.922678Z",
     "start_time": "2024-12-05T18:00:59.801175Z"
    }
   },
   "id": "c76b4c4f14b2014c",
   "execution_count": 97
  },
  {
   "cell_type": "code",
   "outputs": [],
   "source": [
    "#df_exploded.to_csv('data_output/df_exploded_clustered.csv', index=False)"
   ],
   "metadata": {
    "collapsed": false,
    "ExecuteTime": {
     "end_time": "2024-11-27T00:54:49.123680Z",
     "start_time": "2024-11-27T00:54:47.268439Z"
    }
   },
   "id": "ca9d967edd17a73f",
   "execution_count": 468
  },
  {
   "cell_type": "markdown",
   "source": [
    "# Conclusiones"
   ],
   "metadata": {
    "collapsed": false
   },
   "id": "d6fca9b38070e0ec"
  },
  {
   "cell_type": "code",
   "outputs": [
    {
     "data": {
      "text/plain": "   num_shots   corners    middle  forehand  backhand  groundstrokes     slice  \\\n0  -0.241164 -0.168574  0.291024 -0.527699 -0.368489      -0.867530  1.429567   \n1   0.169660  0.032771  0.005812  0.294525  0.270759       0.548308 -0.378013   \n2  -0.505222  0.110140 -0.526927 -0.691373 -0.834181      -1.482713 -0.393623   \n\n      smash    volley      drop       lob   neutral  defensive  aggressive  \n0 -0.185446 -0.302801  0.417092  0.608158 -0.624617   1.575810   -0.340666  \n1 -0.178372 -0.298446 -0.134130 -0.165986  0.471731  -0.471462   -0.333964  \n2  1.278683  2.126706  0.013855 -0.139522 -1.482956  -0.138176    2.382919  ",
      "text/html": "<div>\n<style scoped>\n    .dataframe tbody tr th:only-of-type {\n        vertical-align: middle;\n    }\n\n    .dataframe tbody tr th {\n        vertical-align: top;\n    }\n\n    .dataframe thead th {\n        text-align: right;\n    }\n</style>\n<table border=\"1\" class=\"dataframe\">\n  <thead>\n    <tr style=\"text-align: right;\">\n      <th></th>\n      <th>num_shots</th>\n      <th>corners</th>\n      <th>middle</th>\n      <th>forehand</th>\n      <th>backhand</th>\n      <th>groundstrokes</th>\n      <th>slice</th>\n      <th>smash</th>\n      <th>volley</th>\n      <th>drop</th>\n      <th>lob</th>\n      <th>neutral</th>\n      <th>defensive</th>\n      <th>aggressive</th>\n    </tr>\n  </thead>\n  <tbody>\n    <tr>\n      <th>0</th>\n      <td>-0.241164</td>\n      <td>-0.168574</td>\n      <td>0.291024</td>\n      <td>-0.527699</td>\n      <td>-0.368489</td>\n      <td>-0.867530</td>\n      <td>1.429567</td>\n      <td>-0.185446</td>\n      <td>-0.302801</td>\n      <td>0.417092</td>\n      <td>0.608158</td>\n      <td>-0.624617</td>\n      <td>1.575810</td>\n      <td>-0.340666</td>\n    </tr>\n    <tr>\n      <th>1</th>\n      <td>0.169660</td>\n      <td>0.032771</td>\n      <td>0.005812</td>\n      <td>0.294525</td>\n      <td>0.270759</td>\n      <td>0.548308</td>\n      <td>-0.378013</td>\n      <td>-0.178372</td>\n      <td>-0.298446</td>\n      <td>-0.134130</td>\n      <td>-0.165986</td>\n      <td>0.471731</td>\n      <td>-0.471462</td>\n      <td>-0.333964</td>\n    </tr>\n    <tr>\n      <th>2</th>\n      <td>-0.505222</td>\n      <td>0.110140</td>\n      <td>-0.526927</td>\n      <td>-0.691373</td>\n      <td>-0.834181</td>\n      <td>-1.482713</td>\n      <td>-0.393623</td>\n      <td>1.278683</td>\n      <td>2.126706</td>\n      <td>0.013855</td>\n      <td>-0.139522</td>\n      <td>-1.482956</td>\n      <td>-0.138176</td>\n      <td>2.382919</td>\n    </tr>\n  </tbody>\n</table>\n</div>"
     },
     "execution_count": 469,
     "metadata": {},
     "output_type": "execute_result"
    }
   ],
   "source": [
    "cluster_centers = kmeans.cluster_centers_\n",
    "centroid_df = pd.DataFrame(cluster_centers, columns=features_df.columns[:-1])\n",
    "centroid_df"
   ],
   "metadata": {
    "collapsed": false,
    "ExecuteTime": {
     "end_time": "2024-11-27T00:54:49.139683Z",
     "start_time": "2024-11-27T00:54:49.124680Z"
    }
   },
   "id": "d17523468da18322",
   "execution_count": 469
  },
  {
   "cell_type": "code",
   "outputs": [
    {
     "data": {
      "text/plain": "                       Player            Sequence  \\\n74468   Felix Auger Aliassime             6 b3 f3   \n22689         Daniil Medvedev  b28 f1 f3 b2 b3 b2   \n324912           Gilles Simon           b29 b1 f1   \n\n                                                 match_id   Pt  Set1  Set2  \\\n74468   20220628-M-Wimbledon-R128-Maxime_Cressy-Felix_...  297     2     1   \n22689   20230413-M-Monte_Carlo_Masters-R16-Alexander_Z...  152     1     1   \n324912  20121103-M-Paris_Masters-SF-Gilles_Simon-Jerzy...   31     0     0   \n\n        Gm1  Gm2    Pts  cluster  \n74468   6.0  5.0  40-40        1  \n22689   2.0  3.0   15-0        1  \n324912  2.0  3.0  15-15        1  ",
      "text/html": "<div>\n<style scoped>\n    .dataframe tbody tr th:only-of-type {\n        vertical-align: middle;\n    }\n\n    .dataframe tbody tr th {\n        vertical-align: top;\n    }\n\n    .dataframe thead th {\n        text-align: right;\n    }\n</style>\n<table border=\"1\" class=\"dataframe\">\n  <thead>\n    <tr style=\"text-align: right;\">\n      <th></th>\n      <th>Player</th>\n      <th>Sequence</th>\n      <th>match_id</th>\n      <th>Pt</th>\n      <th>Set1</th>\n      <th>Set2</th>\n      <th>Gm1</th>\n      <th>Gm2</th>\n      <th>Pts</th>\n      <th>cluster</th>\n    </tr>\n  </thead>\n  <tbody>\n    <tr>\n      <th>74468</th>\n      <td>Felix Auger Aliassime</td>\n      <td>6 b3 f3</td>\n      <td>20220628-M-Wimbledon-R128-Maxime_Cressy-Felix_...</td>\n      <td>297</td>\n      <td>2</td>\n      <td>1</td>\n      <td>6.0</td>\n      <td>5.0</td>\n      <td>40-40</td>\n      <td>1</td>\n    </tr>\n    <tr>\n      <th>22689</th>\n      <td>Daniil Medvedev</td>\n      <td>b28 f1 f3 b2 b3 b2</td>\n      <td>20230413-M-Monte_Carlo_Masters-R16-Alexander_Z...</td>\n      <td>152</td>\n      <td>1</td>\n      <td>1</td>\n      <td>2.0</td>\n      <td>3.0</td>\n      <td>15-0</td>\n      <td>1</td>\n    </tr>\n    <tr>\n      <th>324912</th>\n      <td>Gilles Simon</td>\n      <td>b29 b1 f1</td>\n      <td>20121103-M-Paris_Masters-SF-Gilles_Simon-Jerzy...</td>\n      <td>31</td>\n      <td>0</td>\n      <td>0</td>\n      <td>2.0</td>\n      <td>3.0</td>\n      <td>15-15</td>\n      <td>1</td>\n    </tr>\n  </tbody>\n</table>\n</div>"
     },
     "execution_count": 470,
     "metadata": {},
     "output_type": "execute_result"
    }
   ],
   "source": [
    "df_exploded[df_exploded['cluster'] == 1].sample(3)"
   ],
   "metadata": {
    "collapsed": false,
    "ExecuteTime": {
     "end_time": "2024-11-27T00:54:49.186694Z",
     "start_time": "2024-11-27T00:54:49.140684Z"
    }
   },
   "id": "a16c887354c3edf8",
   "execution_count": 470
  },
  {
   "cell_type": "markdown",
   "source": [
    "Vemos que el cluster 1 es el más común, ademas si ponemos foco en sus secuencias, estas estan compuestas por golpes habituales. Son en su mayoria golpes de fondo de, reves y drive y esquinados."
   ],
   "metadata": {
    "collapsed": false
   },
   "id": "1930b7154e31b6c3"
  },
  {
   "cell_type": "code",
   "outputs": [
    {
     "data": {
      "text/plain": "               Player                  Sequence  \\\n320579  Fabio Fognini              b28 f3 s3 s1   \n452535   Pete Sampras                  4 s1 f3*   \n424799   Pete Sampras  s29 f3 s2 b3 s2 f1 b3 b1   \n\n                                                 match_id   Pt  Set1  Set2  \\\n320579  20130419-M-Monte_Carlo_Masters-SF-Novak_Djokov...   30     0     0   \n452535     19950910-M-US_Open-F-Pete_Sampras-Andre_Agassi  188     2     1   \n424799    20010906-M-US_Open-QF-Pete_Sampras-Andre_Agassi  258     2     1   \n\n        Gm1  Gm2    Pts  cluster  \n320579  3.0  1.0  30-15        0  \n452535  0.0  1.0  40-30        0  \n424799  0.0  0.0  15-30        0  ",
      "text/html": "<div>\n<style scoped>\n    .dataframe tbody tr th:only-of-type {\n        vertical-align: middle;\n    }\n\n    .dataframe tbody tr th {\n        vertical-align: top;\n    }\n\n    .dataframe thead th {\n        text-align: right;\n    }\n</style>\n<table border=\"1\" class=\"dataframe\">\n  <thead>\n    <tr style=\"text-align: right;\">\n      <th></th>\n      <th>Player</th>\n      <th>Sequence</th>\n      <th>match_id</th>\n      <th>Pt</th>\n      <th>Set1</th>\n      <th>Set2</th>\n      <th>Gm1</th>\n      <th>Gm2</th>\n      <th>Pts</th>\n      <th>cluster</th>\n    </tr>\n  </thead>\n  <tbody>\n    <tr>\n      <th>320579</th>\n      <td>Fabio Fognini</td>\n      <td>b28 f3 s3 s1</td>\n      <td>20130419-M-Monte_Carlo_Masters-SF-Novak_Djokov...</td>\n      <td>30</td>\n      <td>0</td>\n      <td>0</td>\n      <td>3.0</td>\n      <td>1.0</td>\n      <td>30-15</td>\n      <td>0</td>\n    </tr>\n    <tr>\n      <th>452535</th>\n      <td>Pete Sampras</td>\n      <td>4 s1 f3*</td>\n      <td>19950910-M-US_Open-F-Pete_Sampras-Andre_Agassi</td>\n      <td>188</td>\n      <td>2</td>\n      <td>1</td>\n      <td>0.0</td>\n      <td>1.0</td>\n      <td>40-30</td>\n      <td>0</td>\n    </tr>\n    <tr>\n      <th>424799</th>\n      <td>Pete Sampras</td>\n      <td>s29 f3 s2 b3 s2 f1 b3 b1</td>\n      <td>20010906-M-US_Open-QF-Pete_Sampras-Andre_Agassi</td>\n      <td>258</td>\n      <td>2</td>\n      <td>1</td>\n      <td>0.0</td>\n      <td>0.0</td>\n      <td>15-30</td>\n      <td>0</td>\n    </tr>\n  </tbody>\n</table>\n</div>"
     },
     "execution_count": 471,
     "metadata": {},
     "output_type": "execute_result"
    }
   ],
   "source": [
    "df_exploded[df_exploded['cluster'] == 0].sample(3)"
   ],
   "metadata": {
    "collapsed": false,
    "ExecuteTime": {
     "end_time": "2024-11-27T00:54:49.216701Z",
     "start_time": "2024-11-27T00:54:49.187694Z"
    }
   },
   "id": "64f09dd55f84ecd1",
   "execution_count": 471
  },
  {
   "cell_type": "markdown",
   "source": [
    "El cluster 0 es menos comun. Se caracteriza por golpes mas conservadores, como slices, drops y lobs, al centro de la cancha. Este cluster es el mas defensivo o seguro."
   ],
   "metadata": {
    "collapsed": false
   },
   "id": "f3654fa3745ddbee"
  },
  {
   "cell_type": "code",
   "outputs": [
    {
     "data": {
      "text/plain": "                   Player     Sequence  \\\n381423  Fernando Gonzalez  6 f3 f1 o3*   \n441530   Goran Ivanisevic    6 v3 z2n#   \n495147       John Mcenroe      4 f1 z3   \n\n                                                 match_id   Pt  Set1  Set2  \\\n381423  20070123-M-Australian_Open-QF-Rafael_Nadal-Fer...   57     0     1   \n441530  19980704-M-Wimbledon-SF-Goran_Ivanisevic-Richa...  234     2     1   \n495147   19840908-M-US_Open-SF-John_Mcenroe-Jimmy_Connors  223     2     1   \n\n        Gm1  Gm2    Pts  cluster  \n381423  0.0  1.0  15-30        2  \n441530  5.0  6.0   30-0        2  \n495147  1.0  3.0  15-30        2  ",
      "text/html": "<div>\n<style scoped>\n    .dataframe tbody tr th:only-of-type {\n        vertical-align: middle;\n    }\n\n    .dataframe tbody tr th {\n        vertical-align: top;\n    }\n\n    .dataframe thead th {\n        text-align: right;\n    }\n</style>\n<table border=\"1\" class=\"dataframe\">\n  <thead>\n    <tr style=\"text-align: right;\">\n      <th></th>\n      <th>Player</th>\n      <th>Sequence</th>\n      <th>match_id</th>\n      <th>Pt</th>\n      <th>Set1</th>\n      <th>Set2</th>\n      <th>Gm1</th>\n      <th>Gm2</th>\n      <th>Pts</th>\n      <th>cluster</th>\n    </tr>\n  </thead>\n  <tbody>\n    <tr>\n      <th>381423</th>\n      <td>Fernando Gonzalez</td>\n      <td>6 f3 f1 o3*</td>\n      <td>20070123-M-Australian_Open-QF-Rafael_Nadal-Fer...</td>\n      <td>57</td>\n      <td>0</td>\n      <td>1</td>\n      <td>0.0</td>\n      <td>1.0</td>\n      <td>15-30</td>\n      <td>2</td>\n    </tr>\n    <tr>\n      <th>441530</th>\n      <td>Goran Ivanisevic</td>\n      <td>6 v3 z2n#</td>\n      <td>19980704-M-Wimbledon-SF-Goran_Ivanisevic-Richa...</td>\n      <td>234</td>\n      <td>2</td>\n      <td>1</td>\n      <td>5.0</td>\n      <td>6.0</td>\n      <td>30-0</td>\n      <td>2</td>\n    </tr>\n    <tr>\n      <th>495147</th>\n      <td>John Mcenroe</td>\n      <td>4 f1 z3</td>\n      <td>19840908-M-US_Open-SF-John_Mcenroe-Jimmy_Connors</td>\n      <td>223</td>\n      <td>2</td>\n      <td>1</td>\n      <td>1.0</td>\n      <td>3.0</td>\n      <td>15-30</td>\n      <td>2</td>\n    </tr>\n  </tbody>\n</table>\n</div>"
     },
     "execution_count": 472,
     "metadata": {},
     "output_type": "execute_result"
    }
   ],
   "source": [
    "df_exploded[df_exploded['cluster'] == 2].sample(3)"
   ],
   "metadata": {
    "collapsed": false,
    "ExecuteTime": {
     "end_time": "2024-11-27T00:54:49.247708Z",
     "start_time": "2024-11-27T00:54:49.217701Z"
    }
   },
   "id": "cf11794e1609200",
   "execution_count": 472
  },
  {
   "cell_type": "markdown",
   "source": [
    "El cluster 2 es el menos comun. Se caracteriza por golpes mas definitorios, como voleas y smashes. Este cluster es el mas agresivo."
   ],
   "metadata": {
    "collapsed": false
   },
   "id": "5f4ca3498affe018"
  },
  {
   "cell_type": "code",
   "outputs": [
    {
     "name": "stdout",
     "output_type": "stream",
     "text": [
      "Longitud media de rallies seguros: 4.911577575975705\n",
      "Longitud media de rallies defensivos: 4.052882212603845\n",
      "Longitud media de rallies agresivos: 3.501107757513486\n"
     ]
    }
   ],
   "source": [
    "safe_mean_rally_length_k = df_exploded[df_exploded['cluster'] == 1]['Sequence'].apply(lambda x: len(x.split())).mean()\n",
    "defensive_mean_rally_length_k = df_exploded[df_exploded['cluster'] == 0]['Sequence'].apply(lambda x: len(x.split())).mean()\n",
    "agressive_mean_rally_length_k = df_exploded[df_exploded['cluster'] == 2]['Sequence'].apply(lambda x: len(x.split())).mean()\n",
    "\n",
    "print(f\"Longitud media de rallies seguros: {safe_mean_rally_length_k}\"\n",
    "      f\"\\nLongitud media de rallies defensivos: {defensive_mean_rally_length_k}\"\n",
    "      f\"\\nLongitud media de rallies agresivos: {agressive_mean_rally_length_k}\")"
   ],
   "metadata": {
    "collapsed": false,
    "ExecuteTime": {
     "end_time": "2024-12-05T18:03:39.948529Z",
     "start_time": "2024-12-05T18:03:39.657464Z"
    }
   },
   "id": "670e4f0e87e98a5f",
   "execution_count": 100
  },
  {
   "cell_type": "markdown",
   "source": [
    "Logicamente los rallies mas largos son los del cluster 1, ya que son los mas comunes convencionales y los mas cortos son los del cluster 2, ya que buscan cerrar el punto (ya sea con winner o error)."
   ],
   "metadata": {
    "collapsed": false
   },
   "id": "3f272124692017af"
  },
  {
   "cell_type": "markdown",
   "source": [
    "# Comparación de Modelos"
   ],
   "metadata": {
    "collapsed": false
   },
   "id": "d5644b7e98a31dbf"
  },
  {
   "cell_type": "code",
   "outputs": [],
   "source": [
    "safe_mean_rally_length_g = df_exploded[df_exploded['cluster_gaussian'] == 2]['Sequence'].apply(lambda x: len(x.split())).mean()\n",
    "agressive_mean_rally_length_g = df_exploded[df_exploded['cluster_gaussian'] == 0]['Sequence'].apply(lambda x: len(x.split())).mean()\n",
    "defensive_mean_rally_length_g = df_exploded[df_exploded['cluster_gaussian'] == 1]['Sequence'].apply(lambda x: len(x.split())).mean()"
   ],
   "metadata": {
    "collapsed": false,
    "ExecuteTime": {
     "end_time": "2024-12-05T17:55:26.358399Z",
     "start_time": "2024-12-05T17:55:26.060326Z"
    }
   },
   "id": "ae358901f0bcc4c",
   "execution_count": 84
  },
  {
   "cell_type": "code",
   "outputs": [
    {
     "data": {
      "text/plain": "              model  silloutte_score  agressive_mean_rally_length  \\\n0            KMeans             0.30                         3.50   \n1  Gaussian Mixture             0.31                         3.97   \n\n   defensive_mean_rally_length  safe_mean_rally_length  \n0                         4.05                    4.91  \n1                         5.27                    4.58  ",
      "text/html": "<div>\n<style scoped>\n    .dataframe tbody tr th:only-of-type {\n        vertical-align: middle;\n    }\n\n    .dataframe tbody tr th {\n        vertical-align: top;\n    }\n\n    .dataframe thead th {\n        text-align: right;\n    }\n</style>\n<table border=\"1\" class=\"dataframe\">\n  <thead>\n    <tr style=\"text-align: right;\">\n      <th></th>\n      <th>model</th>\n      <th>silloutte_score</th>\n      <th>agressive_mean_rally_length</th>\n      <th>defensive_mean_rally_length</th>\n      <th>safe_mean_rally_length</th>\n    </tr>\n  </thead>\n  <tbody>\n    <tr>\n      <th>0</th>\n      <td>KMeans</td>\n      <td>0.30</td>\n      <td>3.50</td>\n      <td>4.05</td>\n      <td>4.91</td>\n    </tr>\n    <tr>\n      <th>1</th>\n      <td>Gaussian Mixture</td>\n      <td>0.31</td>\n      <td>3.97</td>\n      <td>5.27</td>\n      <td>4.58</td>\n    </tr>\n  </tbody>\n</table>\n</div>"
     },
     "execution_count": 106,
     "metadata": {},
     "output_type": "execute_result"
    }
   ],
   "source": [
    "model_comparison_df = {\n",
    "    'model': ['KMeans', 'Gaussian Mixture'],\n",
    "    'silloutte_score': [round(kmeans_silhouette,2), round(gaussian_silhouette,2)],\n",
    "    'agressive_mean_rally_length': [round(agressive_mean_rally_length_k,2), round(agressive_mean_rally_length_g,2)],\n",
    "    'defensive_mean_rally_length': [round(defensive_mean_rally_length_k,2), round(defensive_mean_rally_length_g,2)],\n",
    "    'safe_mean_rally_length': [round(safe_mean_rally_length_k,2), round(safe_mean_rally_length_g,2)],\n",
    "}\n",
    "\n",
    "model_comparison_df = pd.DataFrame(model_comparison_df)\n",
    "model_comparison_df"
   ],
   "metadata": {
    "collapsed": false,
    "ExecuteTime": {
     "end_time": "2024-12-05T18:08:16.117711Z",
     "start_time": "2024-12-05T18:08:16.100707Z"
    }
   },
   "id": "81b39e029265a528",
   "execution_count": 106
  },
  {
   "cell_type": "code",
   "outputs": [
    {
     "data": {
      "text/plain": "<Figure size 500x100 with 1 Axes>",
      "image/png": "[encoded data removed]"
     },
     "metadata": {},
     "output_type": "display_data"
    }
   ],
   "source": [
    "import matplotlib.pyplot as plt\n",
    "\n",
    "# Configuración de la tabla\n",
    "fig, ax = plt.subplots(figsize=(5, 1))  # Ajusta el tamaño general de la tabla\n",
    "ax.axis('tight')\n",
    "ax.axis('off')\n",
    "\n",
    "# Crear la tabla con ajustes en las celdas\n",
    "table = ax.table(\n",
    "    cellText=model_comparison_df.values,\n",
    "    colLabels=model_comparison_df.columns,\n",
    "    cellLoc='center',\n",
    "    loc='center',\n",
    "    colWidths=[0.46] * len(model_comparison_df.columns)  # Reducir el ancho de las celdas\n",
    ")\n",
    "\n",
    "# Establecer estilo para las cabeceras y valores\n",
    "for (i, j), cell in table.get_celld().items():\n",
    "    if i == 0:  # Cabecera\n",
    "        cell.set_text_props(weight='bold', fontsize=15)  # Texto en negrita y más grande\n",
    "        cell.set_facecolor('#f4f4f4')  # Fondo claro opcional\n",
    "    else:  # Celdas de datos\n",
    "        cell.set_fontsize(12)  # Valores más grandes\n",
    "\n",
    "# Guardar como imagen\n",
    "plt.savefig('viz_outputs/df_clusters_comparison_adjusted.png', dpi=300, bbox_inches='tight')\n",
    "plt.show()\n"
   ],
   "metadata": {
    "collapsed": false,
    "ExecuteTime": {
     "end_time": "2024-12-05T18:45:00.623111Z",
     "start_time": "2024-12-05T18:45:00.307112Z"
    }
   },
   "id": "48afd04c26819627",
   "execution_count": 221
  },
  {
   "cell_type": "markdown",
   "source": [
    "Con un rendimiento similar en el coeficiente de silueta, por una cuestion de interpretacion de los clusters, se eligio el modelo KMeans, que parece tener mayor utilidad sobretodo en la exigencia de la clusterizacion de los rallies agresivos."
   ],
   "metadata": {
    "collapsed": false
   },
   "id": "e2cd7ed2db7792a6"
  },
  {
   "cell_type": "code",
   "outputs": [],
   "source": [
    "import pandas as pd\n",
    "\n",
    "golpes_totales_agresivos = df_exploded[df_exploded['cluster'] == 2]['Sequence'].str.split().str.len().sum()\n",
    "golpes_totales_seguros = df_exploded[df_exploded['cluster'] == 1]['Sequence'].str.split().str.len().sum()\n",
    "golpes_totales_defensivos = df_exploded[df_exploded['cluster'] == 0]['Sequence'].str.split().str.len().sum()\n",
    "\n",
    "# Contar la aparición de cada carácter en \"Sequence\"\n",
    "characters = ['v', 'z', 'o', 'p', 'f', 'b', 's', 'r', 'l', 'm']\n",
    "char_counts_agressive = {char: df_exploded[df_exploded['cluster'] == 2]['Sequence'].str.count(char).sum() for char in characters}\n",
    "char_counts_safe = {char: df_exploded[df_exploded['cluster'] == 1]['Sequence'].str.count(char).sum() for char in characters}\n",
    "char_counts_defensive = {char: df_exploded[df_exploded['cluster'] == 0]['Sequence'].str.count(char).sum() for char in characters}\n",
    "\n",
    "# Convertir los resultados en un DataFrame para mayor claridad\n",
    "char_counts_df = pd.DataFrame(list(char_counts_agressive.items()), columns=[\"Character\", \"Count_aggressive\"])\n",
    "#append safe\n",
    "char_counts_df['Count_safe'] = list(char_counts_safe.values())\n",
    "#append defensive\n",
    "char_counts_df['Count_defensive'] = list(char_counts_defensive.values())\n",
    "\n",
    "code_dict = {\n",
    "    \"f\": \"Golpe de derecha\",\n",
    "    \"b\": \"Golpe de revés\",\n",
    "    \"r\": \"Slice de derecha\",\n",
    "    \"s\": \"Slice de revés\",\n",
    "    \"v\": \"Volea de derecha\",\n",
    "    \"z\": \"Volea de revés\",\n",
    "    \"o\": \"Smash\",\n",
    "    \"p\": \"Smash de revés\",\n",
    "    \"u\": \"Drop shot de derecha\",\n",
    "    \"y\": \"Drop shot de revés\",\n",
    "    \"t\": \"Golpe de fantasía\",\n",
    "    \"q\": \"Golpe desconocido\",\n",
    "    \"l\": \"Globo de derecha\",\n",
    "    \"m\": \"Globo de revés\",\n",
    "    \"h\": \"Media volea de derecha\",\n",
    "    \"i\": \"Media volea de revés\",\n",
    "    \"j\": \"Volea swing de derecha\",\n",
    "    \"k\": \"Volea swing de revés\",\n",
    "}\n",
    "\n",
    "# reemplazar por golpes \n",
    "char_counts_df[\"Character\"] = char_counts_df[\"Character\"].replace(code_dict)"
   ],
   "metadata": {
    "collapsed": false,
    "ExecuteTime": {
     "end_time": "2024-12-05T19:16:25.230863Z",
     "start_time": "2024-12-05T19:16:20.571534Z"
    }
   },
   "id": "c8b81cabff383ee3",
   "execution_count": 226
  },
  {
   "cell_type": "code",
   "outputs": [
    {
     "data": {
      "text/plain": "          Character  Count_aggressive  Count_safe  Count_defensive\n0  Volea de derecha             28523        5532             1343\n1    Volea de revés             30565        5954             1437\n2             Smash             18278        3498              602\n3    Smash de revés              1583         254              122\n4  Golpe de derecha             47911      742098           110232\n5    Golpe de revés             19674      611936            86186\n6    Slice de revés              6281       61563           121484\n7  Slice de derecha              1429       14053            28965\n8  Globo de derecha               463        1701             7766\n9    Globo de revés               521        3063            12397",
      "text/html": "<div>\n<style scoped>\n    .dataframe tbody tr th:only-of-type {\n        vertical-align: middle;\n    }\n\n    .dataframe tbody tr th {\n        vertical-align: top;\n    }\n\n    .dataframe thead th {\n        text-align: right;\n    }\n</style>\n<table border=\"1\" class=\"dataframe\">\n  <thead>\n    <tr style=\"text-align: right;\">\n      <th></th>\n      <th>Character</th>\n      <th>Count_aggressive</th>\n      <th>Count_safe</th>\n      <th>Count_defensive</th>\n    </tr>\n  </thead>\n  <tbody>\n    <tr>\n      <th>0</th>\n      <td>Volea de derecha</td>\n      <td>28523</td>\n      <td>5532</td>\n      <td>1343</td>\n    </tr>\n    <tr>\n      <th>1</th>\n      <td>Volea de revés</td>\n      <td>30565</td>\n      <td>5954</td>\n      <td>1437</td>\n    </tr>\n    <tr>\n      <th>2</th>\n      <td>Smash</td>\n      <td>18278</td>\n      <td>3498</td>\n      <td>602</td>\n    </tr>\n    <tr>\n      <th>3</th>\n      <td>Smash de revés</td>\n      <td>1583</td>\n      <td>254</td>\n      <td>122</td>\n    </tr>\n    <tr>\n      <th>4</th>\n      <td>Golpe de derecha</td>\n      <td>47911</td>\n      <td>742098</td>\n      <td>110232</td>\n    </tr>\n    <tr>\n      <th>5</th>\n      <td>Golpe de revés</td>\n      <td>19674</td>\n      <td>611936</td>\n      <td>86186</td>\n    </tr>\n    <tr>\n      <th>6</th>\n      <td>Slice de revés</td>\n      <td>6281</td>\n      <td>61563</td>\n      <td>121484</td>\n    </tr>\n    <tr>\n      <th>7</th>\n      <td>Slice de derecha</td>\n      <td>1429</td>\n      <td>14053</td>\n      <td>28965</td>\n    </tr>\n    <tr>\n      <th>8</th>\n      <td>Globo de derecha</td>\n      <td>463</td>\n      <td>1701</td>\n      <td>7766</td>\n    </tr>\n    <tr>\n      <th>9</th>\n      <td>Globo de revés</td>\n      <td>521</td>\n      <td>3063</td>\n      <td>12397</td>\n    </tr>\n  </tbody>\n</table>\n</div>"
     },
     "execution_count": 227,
     "metadata": {},
     "output_type": "execute_result"
    }
   ],
   "source": [
    "char_counts_df"
   ],
   "metadata": {
    "collapsed": false,
    "ExecuteTime": {
     "end_time": "2024-12-05T19:16:25.246867Z",
     "start_time": "2024-12-05T19:16:25.231864Z"
    }
   },
   "id": "94571e80c8df08dc",
   "execution_count": 227
  },
  {
   "cell_type": "code",
   "outputs": [
    {
     "data": {
      "text/plain": "          Character  Count_aggressive_pct  Count_safe_pct  Count_defensive_pct\n0  Volea de derecha                 13.08            0.34                 0.31\n1    Volea de revés                 14.02            0.36                 0.33\n2             Smash                  8.38            0.21                 0.14\n3    Smash de revés                  0.73            0.02                 0.03\n4  Golpe de derecha                 21.97           44.94                25.65\n5    Golpe de revés                  9.02           37.06                20.05\n6    Slice de revés                  2.88            3.73                28.27\n7  Slice de derecha                  0.66            0.85                 6.74\n8  Globo de derecha                  0.21            0.10                 1.81\n9    Globo de revés                  0.24            0.19                 2.88",
      "text/html": "<div>\n<style scoped>\n    .dataframe tbody tr th:only-of-type {\n        vertical-align: middle;\n    }\n\n    .dataframe tbody tr th {\n        vertical-align: top;\n    }\n\n    .dataframe thead th {\n        text-align: right;\n    }\n</style>\n<table border=\"1\" class=\"dataframe\">\n  <thead>\n    <tr style=\"text-align: right;\">\n      <th></th>\n      <th>Character</th>\n      <th>Count_aggressive_pct</th>\n      <th>Count_safe_pct</th>\n      <th>Count_defensive_pct</th>\n    </tr>\n  </thead>\n  <tbody>\n    <tr>\n      <th>0</th>\n      <td>Volea de derecha</td>\n      <td>13.08</td>\n      <td>0.34</td>\n      <td>0.31</td>\n    </tr>\n    <tr>\n      <th>1</th>\n      <td>Volea de revés</td>\n      <td>14.02</td>\n      <td>0.36</td>\n      <td>0.33</td>\n    </tr>\n    <tr>\n      <th>2</th>\n      <td>Smash</td>\n      <td>8.38</td>\n      <td>0.21</td>\n      <td>0.14</td>\n    </tr>\n    <tr>\n      <th>3</th>\n      <td>Smash de revés</td>\n      <td>0.73</td>\n      <td>0.02</td>\n      <td>0.03</td>\n    </tr>\n    <tr>\n      <th>4</th>\n      <td>Golpe de derecha</td>\n      <td>21.97</td>\n      <td>44.94</td>\n      <td>25.65</td>\n    </tr>\n    <tr>\n      <th>5</th>\n      <td>Golpe de revés</td>\n      <td>9.02</td>\n      <td>37.06</td>\n      <td>20.05</td>\n    </tr>\n    <tr>\n      <th>6</th>\n      <td>Slice de revés</td>\n      <td>2.88</td>\n      <td>3.73</td>\n      <td>28.27</td>\n    </tr>\n    <tr>\n      <th>7</th>\n      <td>Slice de derecha</td>\n      <td>0.66</td>\n      <td>0.85</td>\n      <td>6.74</td>\n    </tr>\n    <tr>\n      <th>8</th>\n      <td>Globo de derecha</td>\n      <td>0.21</td>\n      <td>0.10</td>\n      <td>1.81</td>\n    </tr>\n    <tr>\n      <th>9</th>\n      <td>Globo de revés</td>\n      <td>0.24</td>\n      <td>0.19</td>\n      <td>2.88</td>\n    </tr>\n  </tbody>\n</table>\n</div>"
     },
     "execution_count": 228,
     "metadata": {},
     "output_type": "execute_result"
    }
   ],
   "source": [
    "# divide each column by each cluster total shots\n",
    "char_counts_df['Count_aggressive_pct'] = round(char_counts_df['Count_aggressive'] / golpes_totales_agresivos *100,2)\n",
    "char_counts_df['Count_safe_pct'] = round(char_counts_df['Count_safe'] / golpes_totales_seguros *100,2)\n",
    "char_counts_df['Count_defensive_pct'] = round(char_counts_df['Count_defensive'] / golpes_totales_defensivos *100,2)\n",
    "\n",
    "char_counts_df[['Character', 'Count_aggressive_pct', 'Count_safe_pct', 'Count_defensive_pct']]"
   ],
   "metadata": {
    "collapsed": false,
    "ExecuteTime": {
     "end_time": "2024-12-05T19:16:25.262871Z",
     "start_time": "2024-12-05T19:16:25.247868Z"
    }
   },
   "id": "ef31278fdf4e2e0b",
   "execution_count": 228
  },
  {
   "cell_type": "code",
   "outputs": [
    {
     "data": {
      "text/plain": "<Figure size 1100x700 with 1 Axes>",
      "image/png": "[encoded data removed]"
     },
     "metadata": {},
     "output_type": "display_data"
    }
   ],
   "source": [
    "import matplotlib.pyplot as plt\n",
    "import numpy as np\n",
    "\n",
    "# Definir las columnas y los datos\n",
    "characters = char_counts_df['Character']\n",
    "aggressive = char_counts_df['Count_aggressive_pct']\n",
    "safe = char_counts_df['Count_safe_pct']\n",
    "defensive = char_counts_df['Count_defensive_pct']\n",
    "\n",
    "# Configurar la posición de las barras\n",
    "x = np.arange(len(characters))  # Posiciones de las barras para cada categoría\n",
    "width = 0.25  # Ancho de cada barra\n",
    "\n",
    "# Crear el gráfico de barras agrupadas con bordes negros\n",
    "fig, ax = plt.subplots(figsize=(11, 7))\n",
    "ax.bar(x - width, aggressive, width, label='Agresivo (%)', color='salmon', edgecolor='black')\n",
    "ax.bar(x, safe, width, label='Seguro (%)', color='lightblue', edgecolor='black')\n",
    "ax.bar(x + width, defensive, width, label='Defensivo (%)', color='lightgreen', edgecolor='black')\n",
    "\n",
    "# Añadir etiquetas y título\n",
    "ax.set_xlabel('Golpe', fontsize=12)\n",
    "ax.set_ylabel('Porcentaje (%)', fontsize=12)\n",
    "ax.set_title('Distribución por Tipo de Golpe y Estilo de Juego con K-means', fontsize=14, fontweight='bold')  # Título en negrita\n",
    "ax.set_xticks(x)\n",
    "ax.set_xticklabels(characters, rotation=45, ha='right', fontsize=10)\n",
    "ax.legend()\n",
    "\n",
    "# Ajustar diseño\n",
    "plt.tight_layout()\n",
    "\n",
    "plt.savefig('viz_outputs/conteo_golpes_por_cluster.png')\n",
    "# Mostrar el gráfico\n",
    "plt.show()\n"
   ],
   "metadata": {
    "collapsed": false,
    "ExecuteTime": {
     "end_time": "2024-12-05T19:16:25.821996Z",
     "start_time": "2024-12-05T19:16:25.264872Z"
    }
   },
   "id": "95d6a377e246c309",
   "execution_count": 229
  },
  {
   "cell_type": "code",
   "outputs": [],
   "source": [],
   "metadata": {
    "collapsed": false
   },
   "id": "9264d9ac8e2cc33a"
  }
 ],
 "metadata": {
  "kernelspec": {
   "display_name": "Python 3",
   "language": "python",
   "name": "python3"
  },
  "language_info": {
   "codemirror_mode": {
    "name": "ipython",
    "version": 2
   },
   "file_extension": ".py",
   "mimetype": "text/x-python",
   "name": "python",
   "nbconvert_exporter": "python",
   "pygments_lexer": "ipython2",
   "version": "2.7.6"
  }
 },
 "nbformat": 4,
 "nbformat_minor": 5
}
