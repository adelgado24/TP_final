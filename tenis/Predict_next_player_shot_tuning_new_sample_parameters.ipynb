{
 "cells": [
  {
   "cell_type": "code",
   "execution_count": 1,
   "id": "initial_id",
   "metadata": {
    "collapsed": true,
    "ExecuteTime": {
     "end_time": "2024-12-15T14:49:30.417496Z",
     "start_time": "2024-12-15T14:49:20.525849Z"
    }
   },
   "outputs": [],
   "source": [
    "import pandas as pd\n",
    "import numpy as np\n",
    "import matplotlib.pyplot as plt\n",
    "import seaborn as sns\n",
    "from sklearn.model_selection import train_test_split\n",
    "import chardet\n",
    "import re\n",
    "import warnings\n",
    "import tensorflow as tf\n",
    "from tensorflow import keras\n",
    "from tensorflow.keras import layers\n",
    "from tensorflow.keras import Sequential\n",
    "import warnings\n",
    "warnings.filterwarnings(\"ignore\", message=\"The structure of `inputs` doesn't match the expected structure\")\n",
    "from tensorflow.keras.layers import Dense, LSTM, Dropout, Embedding, Concatenate, Input, RepeatVector\n",
    "from tensorflow.keras.preprocessing.text import Tokenizer\n",
    "from tensorflow.keras.preprocessing.sequence import pad_sequences\n",
    "from keras.models import Model\n",
    "from keras.optimizers import Adam\n",
    "from sklearn.preprocessing import MinMaxScaler\n",
    "\n",
    "pd.options.mode.chained_assignment = None"
   ]
  },
  {
   "cell_type": "code",
   "outputs": [],
   "source": [
    "df_exploded = pd.read_csv('data_output/df_exploded_full.csv')"
   ],
   "metadata": {
    "collapsed": false,
    "ExecuteTime": {
     "end_time": "2024-12-15T14:49:32.256738Z",
     "start_time": "2024-12-15T14:49:30.418497Z"
    }
   },
   "id": "e02dd2ebe23c2eb9",
   "execution_count": 2
  },
  {
   "cell_type": "code",
   "outputs": [
    {
     "data": {
      "text/plain": "(1679050, 9)"
     },
     "execution_count": 3,
     "metadata": {},
     "output_type": "execute_result"
    }
   ],
   "source": [
    "df_exploded.shape"
   ],
   "metadata": {
    "collapsed": false,
    "ExecuteTime": {
     "end_time": "2024-12-15T14:49:32.272759Z",
     "start_time": "2024-12-15T14:49:32.257738Z"
    }
   },
   "id": "a604a20c3055738a",
   "execution_count": 3
  },
  {
   "cell_type": "markdown",
   "source": [
    "# Modelo RNN: Prediccion del siguiente golpe del jugador\n",
    "\n",
    "El objetivo del modelo es tomar como input una seuencia de golpes y un jugador y predecir el siguiente golpe que este jugador dara. "
   ],
   "metadata": {
    "collapsed": false
   },
   "id": "607ec7da99abfd4"
  },
  {
   "cell_type": "code",
   "outputs": [
    {
     "data": {
      "text/plain": "f    0.439085\nb    0.344230\no    0.119495\ns    0.097190\nName: cuarto, dtype: float64"
     },
     "execution_count": 4,
     "metadata": {},
     "output_type": "execute_result"
    }
   ],
   "source": [
    "#Conditional column: where the fourth item in the 'Sequence' column contains 's' new column return 's', when 'b' return 'b', when 'f' return 'f', and when other return 'o'\n",
    "\n",
    "df_exploded_test = df_exploded[df_exploded['Sequence'].str.split().apply(len) > 3]\n",
    "df_exploded_test['cuarto'] = df_exploded_test['Sequence'].str.split().str[3].apply(\n",
    "    lambda x: x[0] if isinstance(x, str) and x[0] in ['s', 'b', 'f'] else 'o'\n",
    ")\n",
    "df_exploded_test['cuarto'].value_counts(normalize=True)"
   ],
   "metadata": {
    "collapsed": false,
    "ExecuteTime": {
     "end_time": "2024-12-15T14:49:35.725844Z",
     "start_time": "2024-12-15T14:49:32.273760Z"
    }
   },
   "id": "7cabb15fb011eeb3",
   "execution_count": 4
  },
  {
   "cell_type": "code",
   "outputs": [
    {
     "name": "stdout",
     "output_type": "stream",
     "text": [
      "Total de filas: 261967\n"
     ]
    }
   ],
   "source": [
    "jugador_elegido = \"Roger Federer\"\n",
    "\n",
    "df_exploded = df_exploded.dropna(subset=['Sequence'])\n",
    "\n",
    "df_exploded_filtered = df_exploded[df_exploded['Sequence'].str.split().apply(len) > 3]\n",
    "# Filter rows where the fourth item in the 'Sequence' column contains 's', 'b', or 'f'\n",
    "df_exploded_filtered = df_exploded_filtered[\n",
    "    df_exploded_filtered['Sequence'].str.split().str[3].str.contains(r'^[sbf]')\n",
    "]\n",
    "\n",
    "print(f\"Total de filas: {df_exploded_filtered.shape[0]}\")"
   ],
   "metadata": {
    "collapsed": false,
    "ExecuteTime": {
     "end_time": "2024-12-15T14:49:39.245657Z",
     "start_time": "2024-12-15T14:49:35.726845Z"
    }
   },
   "id": "3725960c8b5023ad",
   "execution_count": 5
  },
  {
   "cell_type": "code",
   "outputs": [
    {
     "data": {
      "text/plain": "f    0.498673\nb    0.390946\ns    0.110380\nName: Sequence, dtype: float64"
     },
     "execution_count": 6,
     "metadata": {},
     "output_type": "execute_result"
    }
   ],
   "source": [
    "df_exploded_filtered['Sequence'].str.split().str[3].str[0].value_counts(normalize=True)"
   ],
   "metadata": {
    "collapsed": false,
    "ExecuteTime": {
     "end_time": "2024-12-15T14:49:39.798745Z",
     "start_time": "2024-12-15T14:49:39.246656Z"
    }
   },
   "id": "4c00fac872e5d4d3",
   "execution_count": 6
  },
  {
   "cell_type": "code",
   "outputs": [
    {
     "data": {
      "text/plain": "f    0.498673\nb    0.390946\ns    0.110380\nName: y, dtype: float64"
     },
     "execution_count": 7,
     "metadata": {},
     "output_type": "execute_result"
    }
   ],
   "source": [
    "df_exploded_filtered['X'] = df_exploded_filtered['Sequence'].str.split().str[:3]\n",
    "df_exploded_filtered['y'] = df_exploded_filtered['Sequence'].str.split().str[3].str[0]\n",
    "\n",
    "df_exploded_filtered['y'].value_counts(normalize=True)"
   ],
   "metadata": {
    "collapsed": false,
    "ExecuteTime": {
     "end_time": "2024-12-15T14:49:41.181566Z",
     "start_time": "2024-12-15T14:49:39.799746Z"
    }
   },
   "id": "4f635e6cf38a9663",
   "execution_count": 7
  },
  {
   "cell_type": "markdown",
   "source": [
    "# Resampling\n",
    "El mejor desempeño se dio con el siguiente resampling:"
   ],
   "metadata": {
    "collapsed": false
   },
   "id": "238532911fd83d6b"
  },
  {
   "cell_type": "code",
   "outputs": [],
   "source": [
    "#resample df_exploded_filtered so that f = 40% and s = 30% and b = 30%\n",
    "from sklearn.utils import resample\n",
    "\n",
    "# Separar las clases\n",
    "f_class = df_exploded_filtered[df_exploded_filtered['y'] == 'f']\n",
    "b_class = df_exploded_filtered[df_exploded_filtered['y'] == 'b']\n",
    "s_class = df_exploded_filtered[df_exploded_filtered['y'] == 's']\n",
    "\n",
    "# Número total de muestras objetivo\n",
    "total_samples = len(df_exploded_filtered)\n",
    "\n",
    "# Calcular el número de muestras para cada clase según las proporciones deseadas\n",
    "f_target = int(total_samples * 0.49)\n",
    "b_target = int(total_samples * 0.39)\n",
    "s_target = int(total_samples * 0.11)\n",
    "\n",
    "# Aplicar resampling (sobremuestreo o submuestreo)\n",
    "f_resampled = resample(f_class, replace=True, n_samples=f_target, random_state=42)\n",
    "b_resampled = resample(b_class, replace=True, n_samples=b_target, random_state=42)\n",
    "s_resampled = resample(s_class, replace=True, n_samples=s_target, random_state=42)\n",
    "\n",
    "# Combinar las clases resampleadas\n",
    "df_resampled = pd.concat([f_resampled, b_resampled, s_resampled])\n",
    "\n",
    "# Barajar el dataset para mezclar las clases\n",
    "df_resampled = df_resampled.sample(frac=1, random_state=42).reset_index(drop=True)\n",
    "\n",
    "df_exploded_filtered = df_resampled.copy() "
   ],
   "metadata": {
    "collapsed": false,
    "ExecuteTime": {
     "end_time": "2024-12-15T14:49:41.694621Z",
     "start_time": "2024-12-15T14:49:41.182566Z"
    }
   },
   "id": "93a6dea59572c40b",
   "execution_count": 8
  },
  {
   "cell_type": "code",
   "outputs": [
    {
     "data": {
      "text/plain": "                  Player              X  y\n0   Aleksandar Kovacevic  [f28, s3, f1]  b\n1          Jannik Sinner    [6, b3, f3]  f\n2         Xavier Malisse    [6, b2, b3]  b\n3          Andrey Rublev  [f18, s2, b2]  f\n4  Juan Martin Del Potro  [s28, b2, f1]  b",
      "text/html": "<div>\n<style scoped>\n    .dataframe tbody tr th:only-of-type {\n        vertical-align: middle;\n    }\n\n    .dataframe tbody tr th {\n        vertical-align: top;\n    }\n\n    .dataframe thead th {\n        text-align: right;\n    }\n</style>\n<table border=\"1\" class=\"dataframe\">\n  <thead>\n    <tr style=\"text-align: right;\">\n      <th></th>\n      <th>Player</th>\n      <th>X</th>\n      <th>y</th>\n    </tr>\n  </thead>\n  <tbody>\n    <tr>\n      <th>0</th>\n      <td>Aleksandar Kovacevic</td>\n      <td>[f28, s3, f1]</td>\n      <td>b</td>\n    </tr>\n    <tr>\n      <th>1</th>\n      <td>Jannik Sinner</td>\n      <td>[6, b3, f3]</td>\n      <td>f</td>\n    </tr>\n    <tr>\n      <th>2</th>\n      <td>Xavier Malisse</td>\n      <td>[6, b2, b3]</td>\n      <td>b</td>\n    </tr>\n    <tr>\n      <th>3</th>\n      <td>Andrey Rublev</td>\n      <td>[f18, s2, b2]</td>\n      <td>f</td>\n    </tr>\n    <tr>\n      <th>4</th>\n      <td>Juan Martin Del Potro</td>\n      <td>[s28, b2, f1]</td>\n      <td>b</td>\n    </tr>\n  </tbody>\n</table>\n</div>"
     },
     "execution_count": 9,
     "metadata": {},
     "output_type": "execute_result"
    }
   ],
   "source": [
    "df_exploded_filtered[['Player', 'X', 'y']].head()"
   ],
   "metadata": {
    "collapsed": false,
    "ExecuteTime": {
     "end_time": "2024-12-15T14:49:41.726629Z",
     "start_time": "2024-12-15T14:49:41.695622Z"
    }
   },
   "id": "3cbf7ecda83b3f9e",
   "execution_count": 9
  },
  {
   "cell_type": "markdown",
   "source": [
    "# Modelo SIN resampling\n",
    "El modelo previo por alguna razon tenia un f1-score mucho menor que el accuracy, lo cual indica que el modelo estaba prediciendo una clase en particular con mucha frecuencia. Ahora con la "
   ],
   "metadata": {
    "collapsed": false
   },
   "id": "a440b42c6fa621cb"
  },
  {
   "cell_type": "code",
   "outputs": [
    {
     "data": {
      "text/plain": "f    0.494949\nb    0.393941\ns    0.111110\nName: y, dtype: float64"
     },
     "execution_count": 10,
     "metadata": {},
     "output_type": "execute_result"
    }
   ],
   "source": [
    "df_exploded_filtered['y'].value_counts(normalize = True)"
   ],
   "metadata": {
    "collapsed": false,
    "ExecuteTime": {
     "end_time": "2024-12-15T14:49:41.757635Z",
     "start_time": "2024-12-15T14:49:41.727629Z"
    }
   },
   "id": "5b3c1e6cafea0fee",
   "execution_count": 10
  },
  {
   "cell_type": "markdown",
   "source": [],
   "metadata": {
    "collapsed": false
   },
   "id": "225074be201d548c"
  },
  {
   "cell_type": "code",
   "outputs": [],
   "source": [
    "from tensorflow.keras.preprocessing.text import Tokenizer\n",
    "from sklearn.preprocessing import LabelEncoder\n",
    "from tensorflow.keras.utils import to_categorical\n",
    "\n",
    "n_steps = 3\n",
    "\n",
    "X = df_exploded_filtered['X']\n",
    "players = df_exploded_filtered['Player']\n",
    "y = df_exploded_filtered['y']\n",
    "\n",
    "# Tokenizador para las secuencias\n",
    "tokenizer = Tokenizer()\n",
    "tokenizer.fit_on_texts([' '.join(seq) for seq in X])\n",
    "X_encoded = tokenizer.texts_to_sequences([' '.join(seq) for seq in X])\n",
    "X_padded = tf.keras.preprocessing.sequence.pad_sequences(X_encoded, maxlen=n_steps)\n",
    "\n",
    "# Codificar jugadores\n",
    "player_encoder = LabelEncoder()\n",
    "players_encoded = player_encoder.fit_transform(players)\n",
    "\n",
    "# Codificar etiquetas (y)\n",
    "label_encoder = LabelEncoder()\n",
    "y_encoded = label_encoder.fit_transform(y)\n",
    "y_categorical = to_categorical(y_encoded)\n"
   ],
   "metadata": {
    "collapsed": false,
    "ExecuteTime": {
     "end_time": "2024-12-15T14:49:45.511065Z",
     "start_time": "2024-12-15T14:49:41.758636Z"
    }
   },
   "id": "c185640032a962ef",
   "execution_count": 11
  },
  {
   "cell_type": "code",
   "outputs": [
    {
     "data": {
      "text/plain": "\"vocab_size = len(tokenizer.word_index) + 1\\nembedding_dim = 50\\n\\n# Aumentar la capacidad del modelo\\nseq_input = Input(shape=(n_steps,), name='sequence_input')\\nembedding = Embedding(input_dim=vocab_size, output_dim=100)(seq_input)  # Embeddings (vectorizaciones de las secuencias)\\nlstm = LSTM(128, return_sequences=True)(embedding)  # Red LSTM, unidades y capas adicionales\\nlstm = LSTM(128)(lstm)\\ndropout = Dropout(0.3)(lstm)\\n\\nplayer_input = Input(shape=(1,), name='player_input')\\nplayer_embedding = Embedding(input_dim=len(player_encoder.classes_), output_dim=10)(player_input)  # Embeddings (vectorizacions de jugadores)\\nplayer_flattened = tf.keras.layers.Flatten()(player_embedding)\\n\\ncombined = Concatenate()([dropout, player_flattened])\\noutput = Dense(y_categorical.shape[1], activation='softmax', name='output')(combined)\\n\\nmodel = Model(inputs=[seq_input, player_input], outputs=output)\\nmodel.compile(optimizer=Adam(learning_rate=0.001), loss='categorical_crossentropy', metrics=['accuracy'])\""
     },
     "execution_count": 12,
     "metadata": {},
     "output_type": "execute_result"
    }
   ],
   "source": [
    "\"\"\"vocab_size = len(tokenizer.word_index) + 1\n",
    "embedding_dim = 50\n",
    "\n",
    "# Aumentar la capacidad del modelo\n",
    "seq_input = Input(shape=(n_steps,), name='sequence_input')\n",
    "embedding = Embedding(input_dim=vocab_size, output_dim=100)(seq_input)  # Embeddings (vectorizaciones de las secuencias)\n",
    "lstm = LSTM(128, return_sequences=True)(embedding)  # Red LSTM, unidades y capas adicionales\n",
    "lstm = LSTM(128)(lstm)\n",
    "dropout = Dropout(0.3)(lstm)\n",
    "\n",
    "player_input = Input(shape=(1,), name='player_input')\n",
    "player_embedding = Embedding(input_dim=len(player_encoder.classes_), output_dim=10)(player_input)  # Embeddings (vectorizacions de jugadores)\n",
    "player_flattened = tf.keras.layers.Flatten()(player_embedding)\n",
    "\n",
    "combined = Concatenate()([dropout, player_flattened])\n",
    "output = Dense(y_categorical.shape[1], activation='softmax', name='output')(combined)\n",
    "\n",
    "model = Model(inputs=[seq_input, player_input], outputs=output)\n",
    "model.compile(optimizer=Adam(learning_rate=0.001), loss='categorical_crossentropy', metrics=['accuracy'])\"\"\""
   ],
   "metadata": {
    "collapsed": false,
    "ExecuteTime": {
     "end_time": "2024-12-15T14:49:45.527069Z",
     "start_time": "2024-12-15T14:49:45.512066Z"
    }
   },
   "id": "44b56a861161142a",
   "execution_count": 12
  },
  {
   "cell_type": "code",
   "outputs": [
    {
     "data": {
      "text/plain": "\"from tensorflow.keras.callbacks import EarlyStopping\\n\\n# Early stopping para evitar overfitting\\nearly_stopping = EarlyStopping(\\n    monitor='val_loss',  # Métrica que se monitorea\\n    patience=10,          # Número de épocas sin mejora antes de detener\\n    restore_best_weights=True  # Restaurar los mejores pesos\\n)\\n\\n# Dividir en conjuntos de entrenamiento y prueba\\nfrom sklearn.model_selection import train_test_split\\n\\nX_train, X_test, y_train, y_test, players_train, players_test = train_test_split(\\n    X_padded, y_categorical, players_encoded, test_size=0.2, random_state=42\\n)\\n\\n# Entrenar el modelo\\nhistory = model.fit(\\n    [X_train, players_train],\\n    y_train,\\n    validation_data=([X_test, players_test], y_test),\\n    epochs=10,\\n    batch_size=64,\\n   # callbacks=[early_stopping]\\n)\\n\""
     },
     "execution_count": 13,
     "metadata": {},
     "output_type": "execute_result"
    }
   ],
   "source": [
    "\"\"\"from tensorflow.keras.callbacks import EarlyStopping\n",
    "\n",
    "# Early stopping para evitar overfitting\n",
    "early_stopping = EarlyStopping(\n",
    "    monitor='val_loss',  # Métrica que se monitorea\n",
    "    patience=10,          # Número de épocas sin mejora antes de detener\n",
    "    restore_best_weights=True  # Restaurar los mejores pesos\n",
    ")\n",
    "\n",
    "# Dividir en conjuntos de entrenamiento y prueba\n",
    "from sklearn.model_selection import train_test_split\n",
    "\n",
    "X_train, X_test, y_train, y_test, players_train, players_test = train_test_split(\n",
    "    X_padded, y_categorical, players_encoded, test_size=0.2, random_state=42\n",
    ")\n",
    "\n",
    "# Entrenar el modelo\n",
    "history = model.fit(\n",
    "    [X_train, players_train],\n",
    "    y_train,\n",
    "    validation_data=([X_test, players_test], y_test),\n",
    "    epochs=10,\n",
    "    batch_size=64,\n",
    "   # callbacks=[early_stopping]\n",
    ")\n",
    "\"\"\""
   ],
   "metadata": {
    "collapsed": false,
    "ExecuteTime": {
     "end_time": "2024-12-15T14:49:45.543073Z",
     "start_time": "2024-12-15T14:49:45.528070Z"
    }
   },
   "id": "d4a57be5c87deada",
   "execution_count": 13
  },
  {
   "cell_type": "code",
   "outputs": [],
   "source": [
    "from sklearn.model_selection import train_test_split\n",
    "\n",
    "X_train, X_test, y_train, y_test, players_train, players_test = train_test_split(\n",
    "    X_padded, y_categorical, players_encoded, test_size=0.2, random_state=42\n",
    ")"
   ],
   "metadata": {
    "collapsed": false,
    "ExecuteTime": {
     "end_time": "2024-12-15T14:49:45.574491Z",
     "start_time": "2024-12-15T14:49:45.544073Z"
    }
   },
   "id": "3b7ab9c0c4b83a4f",
   "execution_count": 14
  },
  {
   "cell_type": "code",
   "outputs": [
    {
     "data": {
      "text/plain": "'vocab_size = len(tokenizer.word_index) + 1\\nembedding_dim = 50\\n\\ndef build_model(hp):\\n    # Hiperparámetros a optimizar\\n    lstm_units = hp.Choice(\\'lstm_units\\', [64, 128, 256])  # Tamaño de las capas LSTM\\n    dropout_rate = hp.Float(\\'dropout_rate\\', 0.2, 0.5, step=0.1)  # Dropout entre 0.2 y 0.5\\n    learning_rate = hp.Choice(\\'learning_rate\\', [0.0001, 0.0005, 0.001, 0.005])  # Learning rates\\n    \\n    # Modelo\\n    seq_input = Input(shape=(n_steps,), name=\\'sequence_input\\')\\n    embedding = Embedding(input_dim=vocab_size, output_dim=100)(seq_input)\\n    lstm = LSTM(lstm_units, return_sequences=True)(embedding)\\n    lstm = LSTM(lstm_units)(lstm)\\n    dropout = Dropout(dropout_rate)(lstm)\\n    \\n    player_input = Input(shape=(1,), name=\\'player_input\\')\\n    player_embedding = Embedding(input_dim=len(player_encoder.classes_), output_dim=10)(player_input)\\n    player_flattened = tf.keras.layers.Flatten()(player_embedding)\\n    \\n    combined = Concatenate()([dropout, player_flattened])\\n    output = Dense(y_categorical.shape[1], activation=\\'softmax\\', name=\\'output\\')(combined)\\n    \\n    model = Model(inputs=[seq_input, player_input], outputs=output)\\n    model.compile(optimizer=Adam(learning_rate=learning_rate),\\n                  loss=\\'categorical_crossentropy\\', metrics=[\\'accuracy\\'])\\n    \\n    return model\\n\\n# Crear un tuner para buscar los mejores hiperparámetros\\ntuner = kt.Hyperband(\\n    build_model,\\n    objective=\\'val_accuracy\\',\\n    max_epochs=10,\\n    factor=3,\\n    directory=\\'kt_tuning\\',\\n    project_name=\\'rnn_tuning\\'\\n)\\n\\n# Ejecutar la búsqueda\\ntuner.search([X_train, players_train], y_train, \\n             validation_data=([X_test, players_test], y_test), \\n             epochs=10, batch_size=64)\\n\\n# Obtener el mejor modelo\\nbest_hps = tuner.get_best_hyperparameters(num_trials=1)[0]\\nprint(f\"Best hyperparameters: {best_hps.values}\")\\n'"
     },
     "execution_count": 15,
     "metadata": {},
     "output_type": "execute_result"
    }
   ],
   "source": [
    "import keras_tuner as kt\n",
    "from tensorflow.keras.models import Model\n",
    "from tensorflow.keras.optimizers import Adam\n",
    "\n",
    "\"\"\"vocab_size = len(tokenizer.word_index) + 1\n",
    "embedding_dim = 50\n",
    "\n",
    "def build_model(hp):\n",
    "    # Hiperparámetros a optimizar\n",
    "    lstm_units = hp.Choice('lstm_units', [64, 128, 256])  # Tamaño de las capas LSTM\n",
    "    dropout_rate = hp.Float('dropout_rate', 0.2, 0.5, step=0.1)  # Dropout entre 0.2 y 0.5\n",
    "    learning_rate = hp.Choice('learning_rate', [0.0001, 0.0005, 0.001, 0.005])  # Learning rates\n",
    "    \n",
    "    # Modelo\n",
    "    seq_input = Input(shape=(n_steps,), name='sequence_input')\n",
    "    embedding = Embedding(input_dim=vocab_size, output_dim=100)(seq_input)\n",
    "    lstm = LSTM(lstm_units, return_sequences=True)(embedding)\n",
    "    lstm = LSTM(lstm_units)(lstm)\n",
    "    dropout = Dropout(dropout_rate)(lstm)\n",
    "    \n",
    "    player_input = Input(shape=(1,), name='player_input')\n",
    "    player_embedding = Embedding(input_dim=len(player_encoder.classes_), output_dim=10)(player_input)\n",
    "    player_flattened = tf.keras.layers.Flatten()(player_embedding)\n",
    "    \n",
    "    combined = Concatenate()([dropout, player_flattened])\n",
    "    output = Dense(y_categorical.shape[1], activation='softmax', name='output')(combined)\n",
    "    \n",
    "    model = Model(inputs=[seq_input, player_input], outputs=output)\n",
    "    model.compile(optimizer=Adam(learning_rate=learning_rate),\n",
    "                  loss='categorical_crossentropy', metrics=['accuracy'])\n",
    "    \n",
    "    return model\n",
    "\n",
    "# Crear un tuner para buscar los mejores hiperparámetros\n",
    "tuner = kt.Hyperband(\n",
    "    build_model,\n",
    "    objective='val_accuracy',\n",
    "    max_epochs=10,\n",
    "    factor=3,\n",
    "    directory='kt_tuning',\n",
    "    project_name='rnn_tuning'\n",
    ")\n",
    "\n",
    "# Ejecutar la búsqueda\n",
    "tuner.search([X_train, players_train], y_train, \n",
    "             validation_data=([X_test, players_test], y_test), \n",
    "             epochs=10, batch_size=64)\n",
    "\n",
    "# Obtener el mejor modelo\n",
    "best_hps = tuner.get_best_hyperparameters(num_trials=1)[0]\n",
    "print(f\"Best hyperparameters: {best_hps.values}\")\n",
    "\"\"\""
   ],
   "metadata": {
    "collapsed": false,
    "ExecuteTime": {
     "end_time": "2024-12-15T14:49:45.964074Z",
     "start_time": "2024-12-15T14:49:45.575492Z"
    }
   },
   "id": "39a67bdfa4153498",
   "execution_count": 15
  },
  {
   "cell_type": "code",
   "outputs": [
    {
     "data": {
      "text/plain": "'best_model = tuner.hypermodel.build(best_hps)\\n\\n# Entrenar el modelo con los datos\\nhistory = best_model.fit(\\n    [X_train, players_train], y_train,\\n    validation_data=([X_test, players_test], y_test),\\n    epochs=20,  # Puedes ajustar este valor si es necesario\\n    batch_size=64\\n)'"
     },
     "execution_count": 16,
     "metadata": {},
     "output_type": "execute_result"
    }
   ],
   "source": [
    "\"\"\"best_model = tuner.hypermodel.build(best_hps)\n",
    "\n",
    "# Entrenar el modelo con los datos\n",
    "history = best_model.fit(\n",
    "    [X_train, players_train], y_train,\n",
    "    validation_data=([X_test, players_test], y_test),\n",
    "    epochs=20,  # Puedes ajustar este valor si es necesario\n",
    "    batch_size=64\n",
    ")\"\"\""
   ],
   "metadata": {
    "collapsed": false,
    "ExecuteTime": {
     "end_time": "2024-12-15T14:49:45.979693Z",
     "start_time": "2024-12-15T14:49:45.967074Z"
    }
   },
   "id": "ccdc3a291c20607f",
   "execution_count": 16
  },
  {
   "cell_type": "code",
   "outputs": [],
   "source": [
    "Best_hyperparameters = {'lstm_units': 256, 'dropout_rate': 0.2, 'learning_rate': 0.001, 'tuner/epochs': 10, 'tuner/initial_epoch': 4, 'tuner/bracket': 2, 'tuner/round': 2, 'tuner/trial_id': '0015'}\n",
    "\n",
    "# Create and train model with dict \"Best_hyperparameters\"\n",
    "vocab_size = len(tokenizer.word_index) + 1\n",
    "embedding_dim = 50\n",
    "\n",
    "seq_input = Input(shape=(n_steps,), name='sequence_input')\n",
    "embedding = Embedding(input_dim=vocab_size, output_dim=100)(seq_input)\n",
    "lstm = LSTM(256, return_sequences=True)(embedding)\n",
    "lstm = LSTM(256)(lstm)\n",
    "dropout = Dropout(0.2)(lstm)\n",
    "\n",
    "player_input = Input(shape=(1,), name='player_input')\n",
    "player_embedding = Embedding(input_dim=len(player_encoder.classes_), output_dim=10)(player_input)\n",
    "player_flattened = tf.keras.layers.Flatten()(player_embedding)\n",
    "\n",
    "combined = Concatenate()([dropout, player_flattened])\n",
    "output = Dense(y_categorical.shape[1], activation='softmax', name='output')(combined)\n",
    "\n",
    "best_model = Model(inputs=[seq_input, player_input], outputs=output)\n",
    "best_model.compile(optimizer=Adam(learning_rate=0.001), loss='categorical_crossentropy', metrics=['accuracy'])\n"
   ],
   "metadata": {
    "collapsed": false,
    "ExecuteTime": {
     "end_time": "2024-12-15T14:49:46.464606Z",
     "start_time": "2024-12-15T14:49:45.980694Z"
    }
   },
   "id": "d5dc329a77dd3e4d",
   "execution_count": 17
  },
  {
   "cell_type": "code",
   "outputs": [
    {
     "name": "stdout",
     "output_type": "stream",
     "text": [
      "Epoch 1/10\n",
      "\u001B[1m3242/3242\u001B[0m \u001B[32m━━━━━━━━━━━━━━━━━━━━\u001B[0m\u001B[37m\u001B[0m \u001B[1m42s\u001B[0m 12ms/step - accuracy: 0.5150 - loss: 0.9315 - val_accuracy: 0.5369 - val_loss: 0.9079\n",
      "Epoch 2/10\n",
      "\u001B[1m3242/3242\u001B[0m \u001B[32m━━━━━━━━━━━━━━━━━━━━\u001B[0m\u001B[37m\u001B[0m \u001B[1m39s\u001B[0m 12ms/step - accuracy: 0.5328 - loss: 0.9072 - val_accuracy: 0.5344 - val_loss: 0.9069\n",
      "Epoch 3/10\n",
      "\u001B[1m3242/3242\u001B[0m \u001B[32m━━━━━━━━━━━━━━━━━━━━\u001B[0m\u001B[37m\u001B[0m \u001B[1m39s\u001B[0m 12ms/step - accuracy: 0.5340 - loss: 0.9047 - val_accuracy: 0.5349 - val_loss: 0.9071\n",
      "Epoch 4/10\n",
      "\u001B[1m3242/3242\u001B[0m \u001B[32m━━━━━━━━━━━━━━━━━━━━\u001B[0m\u001B[37m\u001B[0m \u001B[1m39s\u001B[0m 12ms/step - accuracy: 0.5389 - loss: 0.9011 - val_accuracy: 0.5360 - val_loss: 0.9048\n",
      "Epoch 5/10\n",
      "\u001B[1m3242/3242\u001B[0m \u001B[32m━━━━━━━━━━━━━━━━━━━━\u001B[0m\u001B[37m\u001B[0m \u001B[1m40s\u001B[0m 12ms/step - accuracy: 0.5384 - loss: 0.9019 - val_accuracy: 0.5376 - val_loss: 0.9052\n",
      "Epoch 6/10\n",
      "\u001B[1m3242/3242\u001B[0m \u001B[32m━━━━━━━━━━━━━━━━━━━━\u001B[0m\u001B[37m\u001B[0m \u001B[1m41s\u001B[0m 13ms/step - accuracy: 0.5383 - loss: 0.9017 - val_accuracy: 0.5347 - val_loss: 0.9054\n",
      "Epoch 7/10\n",
      "\u001B[1m3242/3242\u001B[0m \u001B[32m━━━━━━━━━━━━━━━━━━━━\u001B[0m\u001B[37m\u001B[0m \u001B[1m40s\u001B[0m 12ms/step - accuracy: 0.5391 - loss: 0.8996 - val_accuracy: 0.5365 - val_loss: 0.9041\n",
      "Epoch 8/10\n",
      "\u001B[1m3242/3242\u001B[0m \u001B[32m━━━━━━━━━━━━━━━━━━━━\u001B[0m\u001B[37m\u001B[0m \u001B[1m40s\u001B[0m 12ms/step - accuracy: 0.5388 - loss: 0.8979 - val_accuracy: 0.5361 - val_loss: 0.9034\n",
      "Epoch 9/10\n",
      "\u001B[1m3242/3242\u001B[0m \u001B[32m━━━━━━━━━━━━━━━━━━━━\u001B[0m\u001B[37m\u001B[0m \u001B[1m40s\u001B[0m 12ms/step - accuracy: 0.5431 - loss: 0.8956 - val_accuracy: 0.5396 - val_loss: 0.9038\n",
      "Epoch 10/10\n",
      "\u001B[1m3242/3242\u001B[0m \u001B[32m━━━━━━━━━━━━━━━━━━━━\u001B[0m\u001B[37m\u001B[0m \u001B[1m39s\u001B[0m 12ms/step - accuracy: 0.5447 - loss: 0.8920 - val_accuracy: 0.5418 - val_loss: 0.9030\n"
     ]
    }
   ],
   "source": [
    "# Entrenar el modelo\n",
    "history = best_model.fit(\n",
    "    [X_train, players_train],\n",
    "    y_train,\n",
    "    validation_data=([X_test, players_test], y_test),\n",
    "    epochs=10,\n",
    "    batch_size=64,\n",
    "    # callbacks=[early_stopping]\n",
    ")"
   ],
   "metadata": {
    "collapsed": false,
    "ExecuteTime": {
     "end_time": "2024-12-15T14:56:25.776687Z",
     "start_time": "2024-12-15T14:49:46.465608Z"
    }
   },
   "id": "11d1fb39b4d84fba",
   "execution_count": 18
  },
  {
   "cell_type": "code",
   "outputs": [
    {
     "name": "stdout",
     "output_type": "stream",
     "text": [
      "\u001B[1m1621/1621\u001B[0m \u001B[32m━━━━━━━━━━━━━━━━━━━━\u001B[0m\u001B[37m\u001B[0m \u001B[1m4s\u001B[0m 2ms/step - accuracy: 0.5418 - loss: 0.9034\n",
      "Test Loss: 0.9030194282531738, Test Accuracy: 0.541777491569519\n"
     ]
    }
   ],
   "source": [
    "# Predecir el próximo golpe\n",
    "def predict_next_shot(sequence, player):\n",
    "    # Preprocesar entrada\n",
    "    seq_encoded = tokenizer.texts_to_sequences([sequence])\n",
    "    seq_padded = tf.keras.preprocessing.sequence.pad_sequences(seq_encoded, maxlen=n_steps)\n",
    "    player_encoded = player_encoder.transform([player])\n",
    "    \n",
    "    # Hacer predicción\n",
    "    prediction = best_model.predict([seq_padded, player_encoded])[0]  # Vector de probabilidades para la fila\n",
    "    \n",
    "    # Mapear índices a las clases\n",
    "    class_probabilities = {label_encoder.inverse_transform([i])[0]: prob for i, prob in enumerate(prediction)}\n",
    "    return class_probabilities\n",
    "\n",
    "# Evaluar en el conjunto de prueba\n",
    "loss, accuracy = best_model.evaluate([X_test, players_test], y_test)\n",
    "print(f\"Test Loss: {loss}, Test Accuracy: {accuracy}\")"
   ],
   "metadata": {
    "collapsed": false,
    "ExecuteTime": {
     "end_time": "2024-12-15T14:56:42.712117Z",
     "start_time": "2024-12-15T14:56:38.777132Z"
    }
   },
   "id": "9ea235641efe87bc",
   "execution_count": 19
  },
  {
   "cell_type": "code",
   "outputs": [
    {
     "name": "stdout",
     "output_type": "stream",
     "text": [
      "\u001B[1m1621/1621\u001B[0m \u001B[32m━━━━━━━━━━━━━━━━━━━━\u001B[0m\u001B[37m\u001B[0m \u001B[1m4s\u001B[0m 3ms/step\n",
      "Test Loss: 0.90\n",
      "Test Accuracy: 0.54\n",
      "Precision: 0.53\n",
      "Recall: 0.54\n",
      "F1-Score: 0.51\n",
      "ROC AUC: 0.66\n"
     ]
    }
   ],
   "source": [
    "from sklearn.metrics import classification_report, f1_score, precision_score, recall_score\n",
    "\n",
    "# Calcular y mostrar métricas\n",
    "y_pred = best_model.predict([X_test, players_test])\n",
    "y_pred_classes = y_pred.argmax(axis=1)\n",
    "y_true_classes = y_test.argmax(axis=1)\n",
    "\n",
    "precision = precision_score(y_true_classes, y_pred_classes, average='weighted')\n",
    "recall = recall_score(y_true_classes, y_pred_classes, average='weighted')\n",
    "f1 = f1_score(y_true_classes, y_pred_classes, average='weighted')\n",
    "\n",
    "print(f\"Test Loss: {loss:.2f}\")\n",
    "print(f\"Test Accuracy: {accuracy:.2f}\")\n",
    "print(f\"Precision: {precision:.2f}\")\n",
    "print(f\"Recall: {recall:.2f}\")\n",
    "print(f\"F1-Score: {f1:.2f}\")\n",
    "\n",
    "#calculate ROC AUC\n",
    "from sklearn.metrics import roc_auc_score\n",
    "\n",
    "# Calculate ROC AUC score for multi-class classification\n",
    "roc_auc = roc_auc_score(y_true_classes, y_pred, multi_class='ovr')\n",
    "print(f\"ROC AUC: {roc_auc:.2f}\")\n"
   ],
   "metadata": {
    "collapsed": false,
    "ExecuteTime": {
     "end_time": "2024-12-15T14:58:17.217725Z",
     "start_time": "2024-12-15T14:58:12.316178Z"
    }
   },
   "id": "f6d66061788a19be",
   "execution_count": 21
  },
  {
   "cell_type": "code",
   "outputs": [
    {
     "name": "stdout",
     "output_type": "stream",
     "text": [
      "\u001B[1m1/1\u001B[0m \u001B[32m━━━━━━━━━━━━━━━━━━━━\u001B[0m\u001B[37m\u001B[0m \u001B[1m0s\u001B[0m 41ms/step\n",
      "{'b': 0.34836102, 'f': 0.47610682, 's': 0.1755321}\n",
      "\u001B[1m1/1\u001B[0m \u001B[32m━━━━━━━━━━━━━━━━━━━━\u001B[0m\u001B[37m\u001B[0m \u001B[1m0s\u001B[0m 22ms/step\n",
      "{'b': 0.4657231, 'f': 0.45734632, 's': 0.07693064}\n",
      "\u001B[1m1/1\u001B[0m \u001B[32m━━━━━━━━━━━━━━━━━━━━\u001B[0m\u001B[37m\u001B[0m \u001B[1m0s\u001B[0m 20ms/step\n",
      "{'b': 0.4159245, 'f': 0.48010632, 's': 0.1039691}\n"
     ]
    }
   ],
   "source": [
    "secuencia = ['b1', 'b3', 'f3']\n",
    "\n",
    "print(predict_next_shot(secuencia, \"Roger Federer\"))\n",
    "print(predict_next_shot(secuencia, \"Novak Djokovic\"))\n",
    "print(predict_next_shot(secuencia, \"Rafael Nadal\"))"
   ],
   "metadata": {
    "collapsed": false,
    "ExecuteTime": {
     "end_time": "2024-12-05T19:53:32.244763Z",
     "start_time": "2024-12-05T19:53:32.048721Z"
    }
   },
   "id": "1fa4b61187000a94",
   "execution_count": 64
  },
  {
   "cell_type": "markdown",
   "source": [
    "# Evaluación del modelo: Metricas"
   ],
   "metadata": {
    "collapsed": false
   },
   "id": "ee3054ec96d7e6e3"
  },
  {
   "cell_type": "code",
   "outputs": [
    {
     "name": "stdout",
     "output_type": "stream",
     "text": [
      "\u001B[1m6484/6484\u001B[0m \u001B[32m━━━━━━━━━━━━━━━━━━━━\u001B[0m\u001B[37m\u001B[0m \u001B[1m17s\u001B[0m 3ms/step\n"
     ]
    },
    {
     "data": {
      "text/plain": "<Figure size 1000x600 with 1 Axes>",
      "image/png": "[encoded data removed]"
     },
     "metadata": {},
     "output_type": "display_data"
    },
    {
     "data": {
      "text/plain": "  Dataset  Precision    Recall  F1-Score  Overfitting_Evaluation\n0   Train   0.563829  0.565449  0.548880                0.000000\n1    Test   0.531652  0.542105  0.523465                0.025415",
      "text/html": "<div>\n<style scoped>\n    .dataframe tbody tr th:only-of-type {\n        vertical-align: middle;\n    }\n\n    .dataframe tbody tr th {\n        vertical-align: top;\n    }\n\n    .dataframe thead th {\n        text-align: right;\n    }\n</style>\n<table border=\"1\" class=\"dataframe\">\n  <thead>\n    <tr style=\"text-align: right;\">\n      <th></th>\n      <th>Dataset</th>\n      <th>Precision</th>\n      <th>Recall</th>\n      <th>F1-Score</th>\n      <th>Overfitting_Evaluation</th>\n    </tr>\n  </thead>\n  <tbody>\n    <tr>\n      <th>0</th>\n      <td>Train</td>\n      <td>0.563829</td>\n      <td>0.565449</td>\n      <td>0.548880</td>\n      <td>0.000000</td>\n    </tr>\n    <tr>\n      <th>1</th>\n      <td>Test</td>\n      <td>0.531652</td>\n      <td>0.542105</td>\n      <td>0.523465</td>\n      <td>0.025415</td>\n    </tr>\n  </tbody>\n</table>\n</div>"
     },
     "execution_count": 65,
     "metadata": {},
     "output_type": "execute_result"
    }
   ],
   "source": [
    "# Calcular métricas para el conjunto de entrenamiento\n",
    "y_train_pred = best_model.predict([X_train, players_train])\n",
    "y_train_pred_classes = y_train_pred.argmax(axis=1)\n",
    "y_train_true_classes = y_train.argmax(axis=1)\n",
    "\n",
    "train_precision = precision_score(y_train_true_classes, y_train_pred_classes, average='weighted')\n",
    "train_recall = recall_score(y_train_true_classes, y_train_pred_classes, average='weighted')\n",
    "train_f1 = f1_score(y_train_true_classes, y_train_pred_classes, average='weighted')\n",
    "\n",
    "# Crear un DataFrame para mostrar las métricas\n",
    "metrics_df = pd.DataFrame({\n",
    "    'Dataset': ['Train', 'Test'],\n",
    "    'Precision': [train_precision, precision],\n",
    "    'Recall': [train_recall, recall],\n",
    "    'F1-Score': [train_f1, f1]\n",
    "})\n",
    "\n",
    "# Evaluar el overfitting comparando las métricas entre train y test\n",
    "metrics_df['Overfitting_Evaluation'] = metrics_df['F1-Score'].diff().fillna(0).abs()\n",
    "\n",
    "# Visualizar las métricas en una tabla\n",
    "\n",
    "# Visualizar las métricas en un plot, con linea entre train y test\n",
    "plt.figure(figsize=(10, 6))\n",
    "plt.plot(['Train', 'Test'], metrics_df['Precision'], label='Precision', marker='o', color = 'blue')\n",
    "plt.plot(['Train', 'Test'], metrics_df['Recall'], label='Recall', marker='o',  color = '#416591')\n",
    "plt.plot(['Train', 'Test'], metrics_df['F1-Score'], label='F1-Score', marker='o',  color = 'red', linestyle='--')\n",
    "\n",
    "for i, (precision, recall, f1) in enumerate(zip(metrics_df['Precision'], metrics_df['Recall'], metrics_df['F1-Score'])):\n",
    "    plt.text(i, precision - 0.005, f\"{precision:.2f}\", ha='center', fontsize=10, color='blue', fontweight='bold')\n",
    "    plt.text(i, recall + 0.003, f\"{recall:.2f}\", ha='center', fontsize=10, color='#416591', fontweight='bold')\n",
    "    plt.text(i, f1 - 0.007, f\"{f1:.2f}\", ha='center', fontsize=10, color='red', fontweight='bold')\n",
    "\n",
    "plt.title(\"Metricas para Train y Test\", fontsize=14, fontweight='bold')\n",
    "plt.xlabel(\"Dataset\")\n",
    "plt.ylabel(\"Score\")\n",
    "plt.ylim(0.45, 0.575)\n",
    "plt.legend()\n",
    "plt.grid(True)\n",
    "\n",
    "plt.savefig('viz_outputs/metricas_RNN.png')\n",
    "plt.show()\n",
    "\n",
    "metrics_df\n"
   ],
   "metadata": {
    "collapsed": false,
    "ExecuteTime": {
     "end_time": "2024-12-05T19:54:01.421182Z",
     "start_time": "2024-12-05T19:53:42.110945Z"
    }
   },
   "id": "44229de752113d20",
   "execution_count": 65
  },
  {
   "cell_type": "code",
   "outputs": [
    {
     "data": {
      "text/plain": "<Figure size 1000x800 with 2 Axes>",
      "image/png": "[encoded data removed]"
     },
     "metadata": {},
     "output_type": "display_data"
    }
   ],
   "source": [
    "#Make confusion matrix in percentages\n",
    "from sklearn.metrics import confusion_matrix\n",
    "import seaborn as sns\n",
    "\n",
    "conf_matrix = confusion_matrix(y_true_classes, y_pred_classes)\n",
    "conf_matrix = conf_matrix / conf_matrix.sum(axis=1)[:, np.newaxis]\n",
    "\n",
    "plt.figure(figsize=(10, 8))\n",
    "sns.heatmap(conf_matrix, annot=True, fmt=\".2f\", cmap='Blues', xticklabels=label_encoder.classes_, yticklabels=label_encoder.classes_)\n",
    "plt.title(\"Matriz de Confusión Normalizada\", fontsize=14, fontweight='bold')\n",
    "plt.xlabel(\"Predicción\")\n",
    "plt.ylabel(\"Real\")\n",
    "plt.savefig('viz_outputs/confusion_matrix_RNN_test.png')\n",
    "plt.show()\n"
   ],
   "metadata": {
    "collapsed": false,
    "ExecuteTime": {
     "end_time": "2024-12-05T20:20:08.254662Z",
     "start_time": "2024-12-05T20:20:07.978601Z"
    }
   },
   "id": "37a08ff16fcabaed",
   "execution_count": 75
  },
  {
   "cell_type": "markdown",
   "source": [
    "El modelo podría tener mejor accuracy, pero tiene un buen desempeño dando predicciones coherentes con los estilos de juego de los jugadores. Por ejemplo, Federer de Reves a una mano tiene mas propension a dar un slice que otros jugadores y esto es reflejado en las predicciones del modelo. \n",
    "También una sucesión de golpes simples al medio son seguidos por altas probabilidades de un reves, lo cual tiene sentido porque la mayoría de los rivales prefieren forzar que el jugador de un reves."
   ],
   "metadata": {
    "collapsed": false
   },
   "id": "53d3021b68fee8fe"
  },
  {
   "cell_type": "code",
   "outputs": [],
   "source": [
    "#resample target and train model\n",
    "from sklearn.utils import resample\n",
    "\n",
    "# Separar las clases\n",
    "f_class = df_exploded_filtered[df_exploded_filtered['y'] == 'f']\n",
    "b_class = df_exploded_filtered[df_exploded_filtered['y'] == 'b']\n",
    "s_class = df_exploded_filtered[df_exploded_filtered['y'] == 's']\n",
    "\n",
    "# Número total de muestras objetivo\n",
    "total_samples = len(df_exploded_filtered)\n",
    "\n",
    "# Calcular el número de muestras para cada clase según las proporciones deseadas\n",
    "f_target = int(total_samples * 0.45)\n",
    "b_target = int(total_samples * 0.35)\n",
    "s_target = int(total_samples * 0.20)\n",
    "\n",
    "# Aplicar resampling (sobremuestreo o submuestreo)\n",
    "f_resampled = resample(f_class, replace=True, n_samples=f_target, random_state=42)\n",
    "b_resampled = resample(b_class, replace=True, n_samples=b_target, random_state=42)\n",
    "s_resampled = resample(s_class, replace=True, n_samples=s_target, random_state=42)\n",
    "\n",
    "# Combinar las clases resampleadas\n",
    "df_resampled = pd.concat([f_resampled, b_resampled, s_resampled])\n",
    "\n",
    "# Barajar el dataset para mezclar las clases\n",
    "df_resampled = df_resampled.sample(frac=1, random_state=42).reset_index(drop=True)\n",
    "\n",
    "df_exploded_filtered_resampled = df_resampled.copy()\n"
   ],
   "metadata": {
    "collapsed": false,
    "ExecuteTime": {
     "end_time": "2024-12-05T20:04:15.459376Z",
     "start_time": "2024-12-05T20:04:13.779932Z"
    }
   },
   "id": "125bc7d8d8cc0656",
   "execution_count": 68
  },
  {
   "cell_type": "code",
   "outputs": [],
   "source": [
    "\n",
    "n_steps = 3\n",
    "\n",
    "X = df_exploded_filtered_resampled['X']\n",
    "players = df_exploded_filtered_resampled['Player']\n",
    "y = df_exploded_filtered_resampled['y']\n",
    "\n",
    "# Tokenizador para las secuencias\n",
    "tokenizer = Tokenizer()\n",
    "tokenizer.fit_on_texts([' '.join(seq) for seq in X])\n",
    "X_encoded = tokenizer.texts_to_sequences([' '.join(seq) for seq in X])\n",
    "X_padded = tf.keras.preprocessing.sequence.pad_sequences(X_encoded, maxlen=n_steps)\n",
    "\n",
    "# Codificar jugadores\n",
    "player_encoder = LabelEncoder()\n",
    "players_encoded = player_encoder.fit_transform(players)\n",
    "\n",
    "# Codificar etiquetas (y)\n",
    "label_encoder = LabelEncoder()\n",
    "y_encoded = label_encoder.fit_transform(y)\n",
    "y_categorical = to_categorical(y_encoded)\n"
   ],
   "metadata": {
    "collapsed": false,
    "ExecuteTime": {
     "end_time": "2024-12-05T20:05:16.744591Z",
     "start_time": "2024-12-05T20:05:11.097207Z"
    }
   },
   "id": "98d755d83f4bd519",
   "execution_count": 71
  },
  {
   "cell_type": "code",
   "outputs": [
    {
     "name": "stdout",
     "output_type": "stream",
     "text": [
      "Epoch 1/10\n",
      "\u001B[1m3242/3242\u001B[0m \u001B[32m━━━━━━━━━━━━━━━━━━━━\u001B[0m\u001B[37m\u001B[0m \u001B[1m38s\u001B[0m 12ms/step - accuracy: 0.5034 - loss: 0.9932 - val_accuracy: 0.5174 - val_loss: 0.9517\n",
      "Epoch 2/10\n",
      "\u001B[1m3242/3242\u001B[0m \u001B[32m━━━━━━━━━━━━━━━━━━━━\u001B[0m\u001B[37m\u001B[0m \u001B[1m37s\u001B[0m 12ms/step - accuracy: 0.5241 - loss: 0.9409 - val_accuracy: 0.5224 - val_loss: 0.9450\n",
      "Epoch 3/10\n",
      "\u001B[1m3242/3242\u001B[0m \u001B[32m━━━━━━━━━━━━━━━━━━━━\u001B[0m\u001B[37m\u001B[0m \u001B[1m38s\u001B[0m 12ms/step - accuracy: 0.5320 - loss: 0.9290 - val_accuracy: 0.5243 - val_loss: 0.9431\n",
      "Epoch 4/10\n",
      "\u001B[1m3242/3242\u001B[0m \u001B[32m━━━━━━━━━━━━━━━━━━━━\u001B[0m\u001B[37m\u001B[0m \u001B[1m38s\u001B[0m 12ms/step - accuracy: 0.5376 - loss: 0.9207 - val_accuracy: 0.5237 - val_loss: 0.9416\n",
      "Epoch 5/10\n",
      "\u001B[1m3242/3242\u001B[0m \u001B[32m━━━━━━━━━━━━━━━━━━━━\u001B[0m\u001B[37m\u001B[0m \u001B[1m38s\u001B[0m 12ms/step - accuracy: 0.5382 - loss: 0.9184 - val_accuracy: 0.5261 - val_loss: 0.9410\n",
      "Epoch 6/10\n",
      "\u001B[1m3242/3242\u001B[0m \u001B[32m━━━━━━━━━━━━━━━━━━━━\u001B[0m\u001B[37m\u001B[0m \u001B[1m38s\u001B[0m 12ms/step - accuracy: 0.5406 - loss: 0.9130 - val_accuracy: 0.5246 - val_loss: 0.9427\n",
      "Epoch 7/10\n",
      "\u001B[1m3242/3242\u001B[0m \u001B[32m━━━━━━━━━━━━━━━━━━━━\u001B[0m\u001B[37m\u001B[0m \u001B[1m38s\u001B[0m 12ms/step - accuracy: 0.5409 - loss: 0.9124 - val_accuracy: 0.5269 - val_loss: 0.9412\n",
      "Epoch 8/10\n",
      "\u001B[1m3242/3242\u001B[0m \u001B[32m━━━━━━━━━━━━━━━━━━━━\u001B[0m\u001B[37m\u001B[0m \u001B[1m39s\u001B[0m 12ms/step - accuracy: 0.5423 - loss: 0.9110 - val_accuracy: 0.5237 - val_loss: 0.9432\n",
      "Epoch 9/10\n",
      "\u001B[1m3242/3242\u001B[0m \u001B[32m━━━━━━━━━━━━━━━━━━━━\u001B[0m\u001B[37m\u001B[0m \u001B[1m39s\u001B[0m 12ms/step - accuracy: 0.5433 - loss: 0.9088 - val_accuracy: 0.5256 - val_loss: 0.9440\n",
      "Epoch 10/10\n",
      "\u001B[1m3242/3242\u001B[0m \u001B[32m━━━━━━━━━━━━━━━━━━━━\u001B[0m\u001B[37m\u001B[0m \u001B[1m39s\u001B[0m 12ms/step - accuracy: 0.5455 - loss: 0.9052 - val_accuracy: 0.5262 - val_loss: 0.9421\n"
     ]
    }
   ],
   "source": [
    "\n",
    "# Dividir en conjuntos de entrenamiento y prueba\n",
    "X_train, X_test, y_train, y_test, players_train, players_test = train_test_split(\n",
    "    X_padded, y_categorical, players_encoded, test_size=0.2, random_state=42\n",
    ")\n",
    "\n",
    "# Entrenar el modelo\n",
    "history = best_model.fit(\n",
    "    [X_train, players_train],\n",
    "    y_train,\n",
    "    validation_data=([X_test, players_test], y_test),\n",
    "    epochs=10,\n",
    "    batch_size=64,\n",
    "   # callbacks=[early_stopping]\n",
    ")\n"
   ],
   "metadata": {
    "collapsed": false,
    "ExecuteTime": {
     "end_time": "2024-12-05T20:12:24.282195Z",
     "start_time": "2024-12-05T20:06:03.190870Z"
    }
   },
   "id": "b2e52f643822bcd3",
   "execution_count": 72
  },
  {
   "cell_type": "code",
   "outputs": [
    {
     "name": "stdout",
     "output_type": "stream",
     "text": [
      "\u001B[1m1621/1621\u001B[0m \u001B[32m━━━━━━━━━━━━━━━━━━━━\u001B[0m\u001B[37m\u001B[0m \u001B[1m4s\u001B[0m 3ms/step\n",
      "Test Loss: 0.91\n",
      "Test Accuracy: 0.54\n",
      "Precision: 0.52\n",
      "Recall: 0.53\n",
      "F1-Score: 0.51\n"
     ]
    }
   ],
   "source": [
    "#predict with new model and make confusion matrix\n",
    "y_pred = best_model.predict([X_test, players_test])\n",
    "y_pred_classes = y_pred.argmax(axis=1)\n",
    "y_true_classes = y_test.argmax(axis=1)\n",
    "\n",
    "precision = precision_score(y_true_classes, y_pred_classes, average='weighted')\n",
    "recall = recall_score(y_true_classes, y_pred_classes, average='weighted')\n",
    "f1 = f1_score(y_true_classes, y_pred_classes, average='weighted')\n",
    "\n",
    "print(f\"Test Loss: {loss:.2f}\")\n",
    "print(f\"Test Accuracy: {accuracy:.2f}\")\n",
    "print(f\"Precision: {precision:.2f}\")\n",
    "print(f\"Recall: {recall:.2f}\")\n",
    "print(f\"F1-Score: {f1:.2f}\")\n"
   ],
   "metadata": {
    "collapsed": false,
    "ExecuteTime": {
     "end_time": "2024-12-05T20:18:18.198491Z",
     "start_time": "2024-12-05T20:18:13.225379Z"
    }
   },
   "id": "6878d0bafac11e4e",
   "execution_count": 73
  },
  {
   "cell_type": "code",
   "outputs": [
    {
     "data": {
      "text/plain": "<Figure size 1000x800 with 2 Axes>",
      "image/png": "[encoded data removed]"
     },
     "metadata": {},
     "output_type": "display_data"
    }
   ],
   "source": [
    "# confusion matrix in percentages\n",
    "conf_matrix = confusion_matrix(y_true_classes, y_pred_classes)\n",
    "conf_matrix = conf_matrix / conf_matrix.sum(axis=1)[:, np.newaxis]\n",
    "    \n",
    "plt.figure(figsize=(10, 8))\n",
    "sns.heatmap(conf_matrix, annot=True, fmt=\".2f\", cmap='Blues', xticklabels=label_encoder.classes_, yticklabels=label_encoder.classes_)\n",
    "plt.title(\"Matriz de Confusión Normalizada\", fontsize=14, fontweight='bold')\n",
    "plt.xlabel(\"Predicción\")\n",
    "plt.ylabel(\"Real\")\n",
    "#plt.savefig('viz_outputs/confusion_matrix_RNN_resampled.png')\n",
    "plt.show()\n",
    "\n"
   ],
   "metadata": {
    "collapsed": false,
    "ExecuteTime": {
     "end_time": "2024-12-05T20:18:52.444578Z",
     "start_time": "2024-12-05T20:18:52.241532Z"
    }
   },
   "id": "74ab9e6ebe804390",
   "execution_count": 74
  }
 ],
 "metadata": {
  "kernelspec": {
   "display_name": "Python 3",
   "language": "python",
   "name": "python3"
  },
  "language_info": {
   "codemirror_mode": {
    "name": "ipython",
    "version": 2
   },
   "file_extension": ".py",
   "mimetype": "text/x-python",
   "name": "python",
   "nbconvert_exporter": "python",
   "pygments_lexer": "ipython2",
   "version": "2.7.6"
  }
 },
 "nbformat": 4,
 "nbformat_minor": 5
}
