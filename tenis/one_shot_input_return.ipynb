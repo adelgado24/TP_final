{
 "cells": [
  {
   "cell_type": "code",
   "execution_count": 11,
   "id": "initial_id",
   "metadata": {
    "collapsed": true,
    "ExecuteTime": {
     "end_time": "2024-11-28T02:30:20.679837Z",
     "start_time": "2024-11-28T02:30:20.670780Z"
    }
   },
   "outputs": [],
   "source": [
    "import pandas as pd\n",
    "import numpy as np\n",
    "import matplotlib.pyplot as plt\n",
    "import seaborn as sns\n",
    "from sklearn.model_selection import train_test_split\n",
    "import chardet\n",
    "import re\n",
    "import warnings\n",
    "import tensorflow as tf\n",
    "from tensorflow import keras\n",
    "from tensorflow.keras import layers\n",
    "from tensorflow.keras import Sequential\n",
    "from tensorflow.keras.layers import Dense, LSTM, Dropout, Embedding, Concatenate, Input\n",
    "import warnings\n",
    "warnings.filterwarnings(\"ignore\", message=\"The structure of `inputs` doesn't match the expected structure\")\n",
    "from tensorflow.keras.preprocessing.sequence import pad_sequences\n",
    "from tensorflow.keras.preprocessing.text import Tokenizer\n",
    "from tensorflow.keras.preprocessing.sequence import pad_sequences\n",
    "from keras.models import Model\n",
    "from keras.optimizers import Adam\n",
    "from sklearn.preprocessing import MinMaxScaler"
   ]
  },
  {
   "cell_type": "markdown",
   "source": [
    "# Modelo devolucion\n",
    "\n",
    "Este modelo busca predecir el **retorno** de un golpe de tenis, es decir, el siguiente golpe que se realizará después de un golpe actual. Este no permite analizar por jugador, porque intervienen ambos en el intercambio."
   ],
   "metadata": {
    "collapsed": false
   },
   "id": "42960306eee4d780"
  },
  {
   "cell_type": "code",
   "outputs": [],
   "source": [
    "df_devolucion = pd.read_csv('data_output/full_sequence.csv', low_memory=False)"
   ],
   "metadata": {
    "collapsed": false,
    "ExecuteTime": {
     "end_time": "2024-11-28T02:30:22.231975Z",
     "start_time": "2024-11-28T02:30:20.694361Z"
    }
   },
   "id": "1ef2897f82e8a996",
   "execution_count": 12
  },
  {
   "cell_type": "code",
   "outputs": [
    {
     "data": {
      "text/plain": "   1stIn  2ndIn                 1st_final                 2nd_final  Pt  Set1  \\\n0      1    NaN                    6 f2n#                       NaN   1     0   \n1      0    1.0  6 b19 f1 b2 s1 f3 f2 j2*  6 b19 f1 b2 s1 f3 f2 j2*   2     0   \n2      0    1.0              4 b28 f2 o1*              4 b28 f2 o1*   3     0   \n3      1    NaN                 6 s28 f3*                       NaN   4     0   \n4      1    NaN                 4 b37 b3*                       NaN   5     0   \n\n   Set2  Gm1  Gm2 TbSet  ... Ret  isAce  isUnret  isRallyWinner  isForced  \\\n0     0  0.0  0.0     1  ...   2  False    False          False      True   \n1     0  0.0  0.0     1  ...   2  False    False           True     False   \n2     0  0.0  0.0     1  ...   2  False    False           True     False   \n3     0  0.0  0.0     1  ...   2  False    False           True     False   \n4     0  0.0  0.0     1  ...   2  False    False           True     False   \n\n   isUnforced  isDouble  PtWinner  isSvrWinner  rallyCount  \n0       False     False         1            1           1  \n1       False     False         2            0           8  \n2       False     False         2            0           4  \n3       False     False         1            1           3  \n4       False     False         1            1           3  \n\n[5 rows x 23 columns]",
      "text/html": "<div>\n<style scoped>\n    .dataframe tbody tr th:only-of-type {\n        vertical-align: middle;\n    }\n\n    .dataframe tbody tr th {\n        vertical-align: top;\n    }\n\n    .dataframe thead th {\n        text-align: right;\n    }\n</style>\n<table border=\"1\" class=\"dataframe\">\n  <thead>\n    <tr style=\"text-align: right;\">\n      <th></th>\n      <th>1stIn</th>\n      <th>2ndIn</th>\n      <th>1st_final</th>\n      <th>2nd_final</th>\n      <th>Pt</th>\n      <th>Set1</th>\n      <th>Set2</th>\n      <th>Gm1</th>\n      <th>Gm2</th>\n      <th>TbSet</th>\n      <th>...</th>\n      <th>Ret</th>\n      <th>isAce</th>\n      <th>isUnret</th>\n      <th>isRallyWinner</th>\n      <th>isForced</th>\n      <th>isUnforced</th>\n      <th>isDouble</th>\n      <th>PtWinner</th>\n      <th>isSvrWinner</th>\n      <th>rallyCount</th>\n    </tr>\n  </thead>\n  <tbody>\n    <tr>\n      <th>0</th>\n      <td>1</td>\n      <td>NaN</td>\n      <td>6 f2n#</td>\n      <td>NaN</td>\n      <td>1</td>\n      <td>0</td>\n      <td>0</td>\n      <td>0.0</td>\n      <td>0.0</td>\n      <td>1</td>\n      <td>...</td>\n      <td>2</td>\n      <td>False</td>\n      <td>False</td>\n      <td>False</td>\n      <td>True</td>\n      <td>False</td>\n      <td>False</td>\n      <td>1</td>\n      <td>1</td>\n      <td>1</td>\n    </tr>\n    <tr>\n      <th>1</th>\n      <td>0</td>\n      <td>1.0</td>\n      <td>6 b19 f1 b2 s1 f3 f2 j2*</td>\n      <td>6 b19 f1 b2 s1 f3 f2 j2*</td>\n      <td>2</td>\n      <td>0</td>\n      <td>0</td>\n      <td>0.0</td>\n      <td>0.0</td>\n      <td>1</td>\n      <td>...</td>\n      <td>2</td>\n      <td>False</td>\n      <td>False</td>\n      <td>True</td>\n      <td>False</td>\n      <td>False</td>\n      <td>False</td>\n      <td>2</td>\n      <td>0</td>\n      <td>8</td>\n    </tr>\n    <tr>\n      <th>2</th>\n      <td>0</td>\n      <td>1.0</td>\n      <td>4 b28 f2 o1*</td>\n      <td>4 b28 f2 o1*</td>\n      <td>3</td>\n      <td>0</td>\n      <td>0</td>\n      <td>0.0</td>\n      <td>0.0</td>\n      <td>1</td>\n      <td>...</td>\n      <td>2</td>\n      <td>False</td>\n      <td>False</td>\n      <td>True</td>\n      <td>False</td>\n      <td>False</td>\n      <td>False</td>\n      <td>2</td>\n      <td>0</td>\n      <td>4</td>\n    </tr>\n    <tr>\n      <th>3</th>\n      <td>1</td>\n      <td>NaN</td>\n      <td>6 s28 f3*</td>\n      <td>NaN</td>\n      <td>4</td>\n      <td>0</td>\n      <td>0</td>\n      <td>0.0</td>\n      <td>0.0</td>\n      <td>1</td>\n      <td>...</td>\n      <td>2</td>\n      <td>False</td>\n      <td>False</td>\n      <td>True</td>\n      <td>False</td>\n      <td>False</td>\n      <td>False</td>\n      <td>1</td>\n      <td>1</td>\n      <td>3</td>\n    </tr>\n    <tr>\n      <th>4</th>\n      <td>1</td>\n      <td>NaN</td>\n      <td>4 b37 b3*</td>\n      <td>NaN</td>\n      <td>5</td>\n      <td>0</td>\n      <td>0</td>\n      <td>0.0</td>\n      <td>0.0</td>\n      <td>1</td>\n      <td>...</td>\n      <td>2</td>\n      <td>False</td>\n      <td>False</td>\n      <td>True</td>\n      <td>False</td>\n      <td>False</td>\n      <td>False</td>\n      <td>1</td>\n      <td>1</td>\n      <td>3</td>\n    </tr>\n  </tbody>\n</table>\n<p>5 rows × 23 columns</p>\n</div>"
     },
     "execution_count": 13,
     "metadata": {},
     "output_type": "execute_result"
    }
   ],
   "source": [
    "df_devolucion.head()"
   ],
   "metadata": {
    "collapsed": false,
    "ExecuteTime": {
     "end_time": "2024-11-28T02:30:22.246979Z",
     "start_time": "2024-11-28T02:30:22.232975Z"
    }
   },
   "id": "c08a86e40e49f05f",
   "execution_count": 13
  },
  {
   "cell_type": "code",
   "outputs": [],
   "source": [
    "df_devolucion = df_devolucion[df_devolucion['1st_final'].apply(lambda x: len(x.split())) >= 2]\n",
    "df_devolucion = df_devolucion.sample(frac=0.5, random_state=42).reset_index(drop=True)"
   ],
   "metadata": {
    "collapsed": false,
    "ExecuteTime": {
     "end_time": "2024-11-28T02:30:22.854908Z",
     "start_time": "2024-11-28T02:30:22.247979Z"
    }
   },
   "id": "10ea591b1d8ec522",
   "execution_count": 14
  },
  {
   "cell_type": "markdown",
   "source": [
    "# Preprocesamiento de los datos"
   ],
   "metadata": {
    "collapsed": false
   },
   "id": "bd5b1083cbefbbd6"
  },
  {
   "cell_type": "code",
   "outputs": [],
   "source": [
    "context_data_devolucion = df_devolucion[['Pt', 'Set1', 'Set2', 'Gm1', 'Gm2']]\n",
    "\n",
    "scaler = MinMaxScaler()\n",
    "context_data_normalized = scaler.fit_transform(context_data_devolucion)"
   ],
   "metadata": {
    "collapsed": false,
    "ExecuteTime": {
     "end_time": "2024-11-28T02:30:22.900464Z",
     "start_time": "2024-11-28T02:30:22.856908Z"
    }
   },
   "id": "cb12bf33fdec594d",
   "execution_count": 15
  },
  {
   "cell_type": "code",
   "outputs": [],
   "source": [
    "tokenizer = Tokenizer()\n",
    "tokenizer.fit_on_texts(df_devolucion['1st_final'])\n",
    "word_index = tokenizer.word_index\n",
    "vocab_size = len(word_index) + 1"
   ],
   "metadata": {
    "collapsed": false,
    "ExecuteTime": {
     "end_time": "2024-11-28T02:30:25.161230Z",
     "start_time": "2024-11-28T02:30:22.901421Z"
    }
   },
   "id": "1e07decfac942ba0",
   "execution_count": 16
  },
  {
   "cell_type": "code",
   "outputs": [],
   "source": [
    "sequences_tokenized = tokenizer.texts_to_sequences(df_devolucion['1st_final'])"
   ],
   "metadata": {
    "collapsed": false,
    "ExecuteTime": {
     "end_time": "2024-11-28T02:30:27.403992Z",
     "start_time": "2024-11-28T02:30:25.162232Z"
    }
   },
   "id": "83fc5b7b0b2e8397",
   "execution_count": 17
  },
  {
   "cell_type": "code",
   "outputs": [
    {
     "name": "stdout",
     "output_type": "stream",
     "text": [
      "Verificación\n",
      "Entrada X (golpe actual): 4\n",
      "Salida y (siguiente golpe): 14\n"
     ]
    },
    {
     "data": {
      "text/plain": "[4, 14, 10, 1, 1, 7, 48]"
     },
     "execution_count": 18,
     "metadata": {},
     "output_type": "execute_result"
    }
   ],
   "source": [
    "# Preparar X (golpe actual) e y (siguiente golpe) a partir de secuencias\n",
    "X = []\n",
    "y = []\n",
    "context_features = []\n",
    "\n",
    "for seq in sequences_tokenized:\n",
    "    for i in range(len(seq) - 1):\n",
    "        X.append(seq[i])   # Golpe actual\n",
    "        y.append(seq[i + 1])  # Siguiente golpe\n",
    "        context_features.append(context_data_normalized[i])\n",
    "\n",
    "X = np.array(X).reshape(-1, 1)  # Redimensionar X para que sea una matriz de una columna\n",
    "y = np.array(y)\n",
    "X_context = np.array(context_features)\n",
    "\n",
    "print(f\"Verificación\")\n",
    "print(f\"Entrada X (golpe actual): {X[0][0]}\")\n",
    "print(f\"Salida y (siguiente golpe): {y[0]}\")\n",
    "\n",
    "sequences_tokenized[0]"
   ],
   "metadata": {
    "collapsed": false,
    "ExecuteTime": {
     "end_time": "2024-11-28T02:30:28.819859Z",
     "start_time": "2024-11-28T02:30:27.404993Z"
    }
   },
   "id": "196055da8d5dfd8e",
   "execution_count": 18
  },
  {
   "cell_type": "markdown",
   "source": [
    "# Modelo"
   ],
   "metadata": {
    "collapsed": false
   },
   "id": "ba715b62af7b6794"
  },
  {
   "cell_type": "code",
   "outputs": [],
   "source": [
    "# Definir la entrada para el golpe actual\n",
    "input_golpe = Input(shape=(1,))\n",
    "embedding_layer = Embedding(input_dim=vocab_size, output_dim=32)(input_golpe)\n",
    "lstm_layer = LSTM(32)(embedding_layer)\n",
    "\n",
    "# Definir la entrada para las características contextuales\n",
    "input_context = Input(shape=(X_context.shape[1],))\n",
    "\n",
    "# Concatenar las dos entradas (golpe actual + contexto)\n",
    "concat_layer = Concatenate()([lstm_layer, input_context])\n",
    "\n",
    "# Añadir una capa densa para la predicción del siguiente golpe\n",
    "output = Dense(vocab_size, activation='softmax')(concat_layer)\n",
    "\n",
    "# Definir el modelo con las dos entradas\n",
    "model = Model(inputs=[input_golpe, input_context], outputs=output)\n",
    "\n",
    "# Compilar el modelo\n",
    "model.compile(optimizer='RMSprop', loss='sparse_categorical_crossentropy', metrics=['accuracy'])"
   ],
   "metadata": {
    "collapsed": false,
    "ExecuteTime": {
     "end_time": "2024-11-28T02:30:28.850753Z",
     "start_time": "2024-11-28T02:30:28.820826Z"
    }
   },
   "id": "c3141f29248b1d48",
   "execution_count": 19
  },
  {
   "cell_type": "code",
   "outputs": [
    {
     "name": "stdout",
     "output_type": "stream",
     "text": [
      "Epoch 1/8\n",
      "\u001B[1m8830/8830\u001B[0m \u001B[32m━━━━━━━━━━━━━━━━━━━━\u001B[0m\u001B[37m\u001B[0m \u001B[1m18s\u001B[0m 2ms/step - accuracy: 0.1699 - loss: 3.6252 - val_accuracy: 0.2121 - val_loss: 3.1625\n",
      "Epoch 2/8\n",
      "\u001B[1m8830/8830\u001B[0m \u001B[32m━━━━━━━━━━━━━━━━━━━━\u001B[0m\u001B[37m\u001B[0m \u001B[1m16s\u001B[0m 2ms/step - accuracy: 0.2118 - loss: 3.1632 - val_accuracy: 0.2127 - val_loss: 3.1497\n",
      "Epoch 3/8\n",
      "\u001B[1m8830/8830\u001B[0m \u001B[32m━━━━━━━━━━━━━━━━━━━━\u001B[0m\u001B[37m\u001B[0m \u001B[1m16s\u001B[0m 2ms/step - accuracy: 0.2118 - loss: 3.1540 - val_accuracy: 0.2124 - val_loss: 3.1465\n",
      "Epoch 4/8\n",
      "\u001B[1m8830/8830\u001B[0m \u001B[32m━━━━━━━━━━━━━━━━━━━━\u001B[0m\u001B[37m\u001B[0m \u001B[1m16s\u001B[0m 2ms/step - accuracy: 0.2129 - loss: 3.1457 - val_accuracy: 0.2137 - val_loss: 3.1440\n",
      "Epoch 5/8\n",
      "\u001B[1m8830/8830\u001B[0m \u001B[32m━━━━━━━━━━━━━━━━━━━━\u001B[0m\u001B[37m\u001B[0m \u001B[1m17s\u001B[0m 2ms/step - accuracy: 0.2135 - loss: 3.1458 - val_accuracy: 0.2144 - val_loss: 3.1422\n",
      "Epoch 6/8\n",
      "\u001B[1m8830/8830\u001B[0m \u001B[32m━━━━━━━━━━━━━━━━━━━━\u001B[0m\u001B[37m\u001B[0m \u001B[1m17s\u001B[0m 2ms/step - accuracy: 0.2134 - loss: 3.1434 - val_accuracy: 0.2142 - val_loss: 3.1417\n",
      "Epoch 7/8\n",
      "\u001B[1m8830/8830\u001B[0m \u001B[32m━━━━━━━━━━━━━━━━━━━━\u001B[0m\u001B[37m\u001B[0m \u001B[1m17s\u001B[0m 2ms/step - accuracy: 0.2132 - loss: 3.1456 - val_accuracy: 0.2140 - val_loss: 3.1426\n",
      "Epoch 8/8\n",
      "\u001B[1m8830/8830\u001B[0m \u001B[32m━━━━━━━━━━━━━━━━━━━━\u001B[0m\u001B[37m\u001B[0m \u001B[1m17s\u001B[0m 2ms/step - accuracy: 0.2130 - loss: 3.1437 - val_accuracy: 0.2139 - val_loss: 3.1434\n"
     ]
    },
    {
     "data": {
      "text/plain": "<keras.src.callbacks.history.History at 0x19125c4c130>"
     },
     "execution_count": 20,
     "metadata": {},
     "output_type": "execute_result"
    }
   ],
   "source": [
    "from sklearn.model_selection import train_test_split\n",
    "\n",
    "# Dividir los datos en conjuntos de entrenamiento y testeo (80%-20%)\n",
    "X_train_golpe, X_test_golpe, X_train_context, X_test_context, y_train, y_test = train_test_split(\n",
    "    X, X_context, y, test_size=0.2, random_state=42\n",
    ")\n",
    "\n",
    "# Entrenar el modelo con las dos entradas\n",
    "model.fit(\n",
    "    [X_train_golpe, X_train_context],\n",
    "    y_train,\n",
    "    epochs=8,\n",
    "    batch_size=128,\n",
    "    validation_data=([X_test_golpe, X_test_context], y_test)\n",
    ")"
   ],
   "metadata": {
    "collapsed": false,
    "ExecuteTime": {
     "end_time": "2024-11-28T02:32:42.943123Z",
     "start_time": "2024-11-28T02:30:28.851719Z"
    }
   },
   "id": "23f5972c06f4543e",
   "execution_count": 20
  },
  {
   "cell_type": "code",
   "outputs": [],
   "source": [
    "# Guardar el modelo\n",
    "#model.save('model_one_shot_devolucion.keras')"
   ],
   "metadata": {
    "collapsed": false,
    "ExecuteTime": {
     "end_time": "2024-11-28T02:32:42.958492Z",
     "start_time": "2024-11-28T02:32:42.945124Z"
    }
   },
   "id": "60297b48aa6c192",
   "execution_count": 21
  },
  {
   "cell_type": "code",
   "outputs": [
    {
     "name": "stdout",
     "output_type": "stream",
     "text": [
      "\u001B[1m1/1\u001B[0m \u001B[32m━━━━━━━━━━━━━━━━━━━━\u001B[0m\u001B[37m\u001B[0m \u001B[1m0s\u001B[0m 19ms/step\n",
      "Golpe actual: l3\n",
      "Los 3 golpes más probables que siguen: ['o3', 'o1', 'o2']\n"
     ]
    }
   ],
   "source": [
    "# Ejemplo de predicción con el golpe 'f2' y algunas características contextuales\n",
    "input_golpe_test = 'l3'\n",
    "input_golpe_sequence = tokenizer.texts_to_sequences([input_golpe_test])\n",
    "input_context_test = context_data_normalized[0]  # Usamos la primera fila de las características normalizadas como ejemplo\n",
    "\n",
    "# Realizar la predicción\n",
    "predicted_probabilities = model.predict([np.array(input_golpe_sequence), np.array([input_context_test])])\n",
    "\n",
    "# Obtener los tres índices con las mayores probabilidades\n",
    "top_3_indices = predicted_probabilities[0].argsort()[-3:][::-1]  # Ordenar y obtener los 3 índices más altos\n",
    "\n",
    "# Convertir los índices a los golpes correspondientes\n",
    "top_3_golpes = [tokenizer.index_word[idx] for idx in top_3_indices]\n",
    "\n",
    "# Mostrar resultados\n",
    "print(f\"Golpe actual: {input_golpe_test}\")\n",
    "print(f\"Los 3 golpes más probables que siguen: {top_3_golpes}\")"
   ],
   "metadata": {
    "collapsed": false,
    "ExecuteTime": {
     "end_time": "2024-11-28T02:33:34.292093Z",
     "start_time": "2024-11-28T02:33:34.226101Z"
    }
   },
   "id": "3f5f0bb83fe4ecb3",
   "execution_count": 29
  },
  {
   "cell_type": "markdown",
   "source": [
    "**Interpretacion**: Dado un globo (l3), los retornos mas probables son: smashs (o1, o2, o3)"
   ],
   "metadata": {
    "collapsed": false
   },
   "id": "bb8f8da78f6be9e9"
  }
 ],
 "metadata": {
  "kernelspec": {
   "display_name": "Python 3",
   "language": "python",
   "name": "python3"
  },
  "language_info": {
   "codemirror_mode": {
    "name": "ipython",
    "version": 2
   },
   "file_extension": ".py",
   "mimetype": "text/x-python",
   "name": "python",
   "nbconvert_exporter": "python",
   "pygments_lexer": "ipython2",
   "version": "2.7.6"
  }
 },
 "nbformat": 4,
 "nbformat_minor": 5
}
