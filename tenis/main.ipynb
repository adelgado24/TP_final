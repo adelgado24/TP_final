{
 "cells": [
  {
   "cell_type": "code",
   "execution_count": 50,
   "id": "initial_id",
   "metadata": {
    "collapsed": true,
    "ExecuteTime": {
     "end_time": "2024-09-10T21:40:11.693480Z",
     "start_time": "2024-09-10T21:40:11.675554Z"
    }
   },
   "outputs": [],
   "source": [
    "import pandas as pd\n",
    "import numpy as np\n",
    "import matplotlib.pyplot as plt\n",
    "import seaborn as sns\n",
    "from sklearn.model_selection import train_test_split\n",
    "import chardet\n"
   ]
  },
  {
   "cell_type": "code",
   "outputs": [],
   "source": [
    "df = pd.read_csv('tennis_atp-master/atp_matches_2023.csv')"
   ],
   "metadata": {
    "collapsed": false,
    "ExecuteTime": {
     "end_time": "2024-09-10T21:40:11.737713Z",
     "start_time": "2024-09-10T21:40:11.702326Z"
    }
   },
   "id": "88310a1497237323",
   "execution_count": 51
  },
  {
   "cell_type": "code",
   "outputs": [
    {
     "data": {
      "text/plain": "                            tourney_id                  tourney_name surface   \n0                            2023-9900                    United Cup    Hard  \\\n1                            2023-9900                    United Cup    Hard   \n2                            2023-9900                    United Cup    Hard   \n3                            2023-9900                    United Cup    Hard   \n4                            2023-9900                    United Cup    Hard   \n...                                ...                           ...     ...   \n2981  2023-M-DC-2023-WG2-PO-RSA-LUX-01  Davis Cup WG2 PO: RSA vs LUX     NaN   \n2982  2023-M-DC-2023-WG2-PO-TUN-CYP-01  Davis Cup WG2 PO: TUN vs CYP     NaN   \n2983  2023-M-DC-2023-WG2-PO-TUN-CYP-01  Davis Cup WG2 PO: TUN vs CYP     NaN   \n2984  2023-M-DC-2023-WG2-PO-TUN-CYP-01  Davis Cup WG2 PO: TUN vs CYP     NaN   \n2985  2023-M-DC-2023-WG2-PO-TUN-CYP-01  Davis Cup WG2 PO: TUN vs CYP     NaN   \n\n      draw_size tourney_level  tourney_date  match_num  winner_id   \n0            18             A      20230102        300     126203  \\\n1            18             A      20230102        299     126207   \n2            18             A      20230102        296     126203   \n3            18             A      20230102        295     126207   \n4            18             A      20230102        292     126774   \n...         ...           ...           ...        ...        ...   \n2981          4             D      20230204          5     202335   \n2982          4             D      20230203          1     117365   \n2983          4             D      20230203          2     121411   \n2984          4             D      20230203          4     144949   \n2985          4             D      20230203          5     121411   \n\n      winner_seed winner_entry  ... l_1stIn l_1stWon  l_2ndWon l_SvGms   \n0             3.0          NaN  ...    62.0     47.0      15.0    12.0  \\\n1             NaN          NaN  ...    12.0      8.0       3.0     4.0   \n2             3.0          NaN  ...    62.0     51.0       7.0    12.0   \n3             NaN          NaN  ...    41.0     26.0      12.0     9.0   \n4             1.0          NaN  ...    58.0     48.0      18.0    16.0   \n...           ...          ...  ...     ...      ...       ...     ...   \n2981          NaN          NaN  ...     NaN      NaN       NaN     NaN   \n2982          NaN          NaN  ...     NaN      NaN       NaN     NaN   \n2983          NaN          NaN  ...     NaN      NaN       NaN     NaN   \n2984          NaN          NaN  ...     NaN      NaN       NaN     NaN   \n2985          NaN          NaN  ...     NaN      NaN       NaN     NaN   \n\n      l_bpSaved  l_bpFaced  winner_rank winner_rank_points loser_rank   \n0           9.0        9.0          9.0             3355.0       16.0  \\\n1           1.0        3.0         19.0             2000.0       23.0   \n2           2.0        2.0          9.0             3355.0       10.0   \n3           6.0        9.0         19.0             2000.0      245.0   \n4           1.0        2.0          4.0             5550.0       16.0   \n...         ...        ...          ...                ...        ...   \n2981        NaN        NaN          NaN                NaN     1717.0   \n2982        NaN        NaN        990.0               11.0      279.0   \n2983        NaN        NaN        364.0              131.0      894.0   \n2984        NaN        NaN        894.0               15.0      285.0   \n2985        NaN        NaN        364.0              131.0      990.0   \n\n     loser_rank_points  \n0               2375.0  \n1               1865.0  \n2               2905.0  \n3                220.0  \n4               2375.0  \n...                ...  \n2981               1.0  \n2982             190.0  \n2983              15.0  \n2984             184.0  \n2985              11.0  \n\n[2986 rows x 49 columns]",
      "text/html": "<div>\n<style scoped>\n    .dataframe tbody tr th:only-of-type {\n        vertical-align: middle;\n    }\n\n    .dataframe tbody tr th {\n        vertical-align: top;\n    }\n\n    .dataframe thead th {\n        text-align: right;\n    }\n</style>\n<table border=\"1\" class=\"dataframe\">\n  <thead>\n    <tr style=\"text-align: right;\">\n      <th></th>\n      <th>tourney_id</th>\n      <th>tourney_name</th>\n      <th>surface</th>\n      <th>draw_size</th>\n      <th>tourney_level</th>\n      <th>tourney_date</th>\n      <th>match_num</th>\n      <th>winner_id</th>\n      <th>winner_seed</th>\n      <th>winner_entry</th>\n      <th>...</th>\n      <th>l_1stIn</th>\n      <th>l_1stWon</th>\n      <th>l_2ndWon</th>\n      <th>l_SvGms</th>\n      <th>l_bpSaved</th>\n      <th>l_bpFaced</th>\n      <th>winner_rank</th>\n      <th>winner_rank_points</th>\n      <th>loser_rank</th>\n      <th>loser_rank_points</th>\n    </tr>\n  </thead>\n  <tbody>\n    <tr>\n      <th>0</th>\n      <td>2023-9900</td>\n      <td>United Cup</td>\n      <td>Hard</td>\n      <td>18</td>\n      <td>A</td>\n      <td>20230102</td>\n      <td>300</td>\n      <td>126203</td>\n      <td>3.0</td>\n      <td>NaN</td>\n      <td>...</td>\n      <td>62.0</td>\n      <td>47.0</td>\n      <td>15.0</td>\n      <td>12.0</td>\n      <td>9.0</td>\n      <td>9.0</td>\n      <td>9.0</td>\n      <td>3355.0</td>\n      <td>16.0</td>\n      <td>2375.0</td>\n    </tr>\n    <tr>\n      <th>1</th>\n      <td>2023-9900</td>\n      <td>United Cup</td>\n      <td>Hard</td>\n      <td>18</td>\n      <td>A</td>\n      <td>20230102</td>\n      <td>299</td>\n      <td>126207</td>\n      <td>NaN</td>\n      <td>NaN</td>\n      <td>...</td>\n      <td>12.0</td>\n      <td>8.0</td>\n      <td>3.0</td>\n      <td>4.0</td>\n      <td>1.0</td>\n      <td>3.0</td>\n      <td>19.0</td>\n      <td>2000.0</td>\n      <td>23.0</td>\n      <td>1865.0</td>\n    </tr>\n    <tr>\n      <th>2</th>\n      <td>2023-9900</td>\n      <td>United Cup</td>\n      <td>Hard</td>\n      <td>18</td>\n      <td>A</td>\n      <td>20230102</td>\n      <td>296</td>\n      <td>126203</td>\n      <td>3.0</td>\n      <td>NaN</td>\n      <td>...</td>\n      <td>62.0</td>\n      <td>51.0</td>\n      <td>7.0</td>\n      <td>12.0</td>\n      <td>2.0</td>\n      <td>2.0</td>\n      <td>9.0</td>\n      <td>3355.0</td>\n      <td>10.0</td>\n      <td>2905.0</td>\n    </tr>\n    <tr>\n      <th>3</th>\n      <td>2023-9900</td>\n      <td>United Cup</td>\n      <td>Hard</td>\n      <td>18</td>\n      <td>A</td>\n      <td>20230102</td>\n      <td>295</td>\n      <td>126207</td>\n      <td>NaN</td>\n      <td>NaN</td>\n      <td>...</td>\n      <td>41.0</td>\n      <td>26.0</td>\n      <td>12.0</td>\n      <td>9.0</td>\n      <td>6.0</td>\n      <td>9.0</td>\n      <td>19.0</td>\n      <td>2000.0</td>\n      <td>245.0</td>\n      <td>220.0</td>\n    </tr>\n    <tr>\n      <th>4</th>\n      <td>2023-9900</td>\n      <td>United Cup</td>\n      <td>Hard</td>\n      <td>18</td>\n      <td>A</td>\n      <td>20230102</td>\n      <td>292</td>\n      <td>126774</td>\n      <td>1.0</td>\n      <td>NaN</td>\n      <td>...</td>\n      <td>58.0</td>\n      <td>48.0</td>\n      <td>18.0</td>\n      <td>16.0</td>\n      <td>1.0</td>\n      <td>2.0</td>\n      <td>4.0</td>\n      <td>5550.0</td>\n      <td>16.0</td>\n      <td>2375.0</td>\n    </tr>\n    <tr>\n      <th>...</th>\n      <td>...</td>\n      <td>...</td>\n      <td>...</td>\n      <td>...</td>\n      <td>...</td>\n      <td>...</td>\n      <td>...</td>\n      <td>...</td>\n      <td>...</td>\n      <td>...</td>\n      <td>...</td>\n      <td>...</td>\n      <td>...</td>\n      <td>...</td>\n      <td>...</td>\n      <td>...</td>\n      <td>...</td>\n      <td>...</td>\n      <td>...</td>\n      <td>...</td>\n      <td>...</td>\n    </tr>\n    <tr>\n      <th>2981</th>\n      <td>2023-M-DC-2023-WG2-PO-RSA-LUX-01</td>\n      <td>Davis Cup WG2 PO: RSA vs LUX</td>\n      <td>NaN</td>\n      <td>4</td>\n      <td>D</td>\n      <td>20230204</td>\n      <td>5</td>\n      <td>202335</td>\n      <td>NaN</td>\n      <td>NaN</td>\n      <td>...</td>\n      <td>NaN</td>\n      <td>NaN</td>\n      <td>NaN</td>\n      <td>NaN</td>\n      <td>NaN</td>\n      <td>NaN</td>\n      <td>NaN</td>\n      <td>NaN</td>\n      <td>1717.0</td>\n      <td>1.0</td>\n    </tr>\n    <tr>\n      <th>2982</th>\n      <td>2023-M-DC-2023-WG2-PO-TUN-CYP-01</td>\n      <td>Davis Cup WG2 PO: TUN vs CYP</td>\n      <td>NaN</td>\n      <td>4</td>\n      <td>D</td>\n      <td>20230203</td>\n      <td>1</td>\n      <td>117365</td>\n      <td>NaN</td>\n      <td>NaN</td>\n      <td>...</td>\n      <td>NaN</td>\n      <td>NaN</td>\n      <td>NaN</td>\n      <td>NaN</td>\n      <td>NaN</td>\n      <td>NaN</td>\n      <td>990.0</td>\n      <td>11.0</td>\n      <td>279.0</td>\n      <td>190.0</td>\n    </tr>\n    <tr>\n      <th>2983</th>\n      <td>2023-M-DC-2023-WG2-PO-TUN-CYP-01</td>\n      <td>Davis Cup WG2 PO: TUN vs CYP</td>\n      <td>NaN</td>\n      <td>4</td>\n      <td>D</td>\n      <td>20230203</td>\n      <td>2</td>\n      <td>121411</td>\n      <td>NaN</td>\n      <td>NaN</td>\n      <td>...</td>\n      <td>NaN</td>\n      <td>NaN</td>\n      <td>NaN</td>\n      <td>NaN</td>\n      <td>NaN</td>\n      <td>NaN</td>\n      <td>364.0</td>\n      <td>131.0</td>\n      <td>894.0</td>\n      <td>15.0</td>\n    </tr>\n    <tr>\n      <th>2984</th>\n      <td>2023-M-DC-2023-WG2-PO-TUN-CYP-01</td>\n      <td>Davis Cup WG2 PO: TUN vs CYP</td>\n      <td>NaN</td>\n      <td>4</td>\n      <td>D</td>\n      <td>20230203</td>\n      <td>4</td>\n      <td>144949</td>\n      <td>NaN</td>\n      <td>NaN</td>\n      <td>...</td>\n      <td>NaN</td>\n      <td>NaN</td>\n      <td>NaN</td>\n      <td>NaN</td>\n      <td>NaN</td>\n      <td>NaN</td>\n      <td>894.0</td>\n      <td>15.0</td>\n      <td>285.0</td>\n      <td>184.0</td>\n    </tr>\n    <tr>\n      <th>2985</th>\n      <td>2023-M-DC-2023-WG2-PO-TUN-CYP-01</td>\n      <td>Davis Cup WG2 PO: TUN vs CYP</td>\n      <td>NaN</td>\n      <td>4</td>\n      <td>D</td>\n      <td>20230203</td>\n      <td>5</td>\n      <td>121411</td>\n      <td>NaN</td>\n      <td>NaN</td>\n      <td>...</td>\n      <td>NaN</td>\n      <td>NaN</td>\n      <td>NaN</td>\n      <td>NaN</td>\n      <td>NaN</td>\n      <td>NaN</td>\n      <td>364.0</td>\n      <td>131.0</td>\n      <td>990.0</td>\n      <td>11.0</td>\n    </tr>\n  </tbody>\n</table>\n<p>2986 rows × 49 columns</p>\n</div>"
     },
     "execution_count": 52,
     "metadata": {},
     "output_type": "execute_result"
    }
   ],
   "source": [
    "df"
   ],
   "metadata": {
    "collapsed": false,
    "ExecuteTime": {
     "end_time": "2024-09-10T21:40:11.831154Z",
     "start_time": "2024-09-10T21:40:11.783464Z"
    }
   },
   "id": "ce00e6de96cfdd6b",
   "execution_count": 52
  },
  {
   "cell_type": "code",
   "outputs": [],
   "source": [
    "pbp = pd.read_csv('tennis_slam_pointbypoint-master/2023-wimbledon-points.csv')"
   ],
   "metadata": {
    "collapsed": false,
    "ExecuteTime": {
     "end_time": "2024-09-10T21:40:12.111526Z",
     "start_time": "2024-09-10T21:40:11.834599Z"
    }
   },
   "id": "13436bef39320c5b",
   "execution_count": 53
  },
  {
   "cell_type": "code",
   "outputs": [
    {
     "data": {
      "text/plain": "array(['2023-wimbledon-1101', '2023-wimbledon-1102',\n       '2023-wimbledon-1103', '2023-wimbledon-1104',\n       '2023-wimbledon-1105', '2023-wimbledon-1106',\n       '2023-wimbledon-1107', '2023-wimbledon-1108',\n       '2023-wimbledon-1109', '2023-wimbledon-1110',\n       '2023-wimbledon-1111', '2023-wimbledon-1112',\n       '2023-wimbledon-1113', '2023-wimbledon-1114',\n       '2023-wimbledon-1115', '2023-wimbledon-1116',\n       '2023-wimbledon-1117', '2023-wimbledon-1118',\n       '2023-wimbledon-1119', '2023-wimbledon-1120',\n       '2023-wimbledon-1121', '2023-wimbledon-1122',\n       '2023-wimbledon-1123', '2023-wimbledon-1124',\n       '2023-wimbledon-1125', '2023-wimbledon-1126',\n       '2023-wimbledon-1127', '2023-wimbledon-1128',\n       '2023-wimbledon-1129', '2023-wimbledon-1130',\n       '2023-wimbledon-1131', '2023-wimbledon-1132',\n       '2023-wimbledon-1133', '2023-wimbledon-1134',\n       '2023-wimbledon-1135', '2023-wimbledon-1136',\n       '2023-wimbledon-1137', '2023-wimbledon-1138',\n       '2023-wimbledon-1139', '2023-wimbledon-1140',\n       '2023-wimbledon-1141', '2023-wimbledon-1142',\n       '2023-wimbledon-1143', '2023-wimbledon-1144',\n       '2023-wimbledon-1145', '2023-wimbledon-1146',\n       '2023-wimbledon-1147', '2023-wimbledon-1148',\n       '2023-wimbledon-1149', '2023-wimbledon-1150',\n       '2023-wimbledon-1151', '2023-wimbledon-1152',\n       '2023-wimbledon-1153', '2023-wimbledon-1154',\n       '2023-wimbledon-1155', '2023-wimbledon-1156',\n       '2023-wimbledon-1157', '2023-wimbledon-1158',\n       '2023-wimbledon-1159', '2023-wimbledon-1160',\n       '2023-wimbledon-1161', '2023-wimbledon-1162',\n       '2023-wimbledon-1163', '2023-wimbledon-1164',\n       '2023-wimbledon-1201', '2023-wimbledon-1202',\n       '2023-wimbledon-1203', '2023-wimbledon-1204',\n       '2023-wimbledon-1205', '2023-wimbledon-1206',\n       '2023-wimbledon-1207', '2023-wimbledon-1208',\n       '2023-wimbledon-1209', '2023-wimbledon-1210',\n       '2023-wimbledon-1211', '2023-wimbledon-1212',\n       '2023-wimbledon-1213', '2023-wimbledon-1214',\n       '2023-wimbledon-1215', '2023-wimbledon-1216',\n       '2023-wimbledon-1217', '2023-wimbledon-1218',\n       '2023-wimbledon-1219', '2023-wimbledon-1220',\n       '2023-wimbledon-1221', '2023-wimbledon-1222',\n       '2023-wimbledon-1223', '2023-wimbledon-1224',\n       '2023-wimbledon-1225', '2023-wimbledon-1226',\n       '2023-wimbledon-1227', '2023-wimbledon-1228',\n       '2023-wimbledon-1229', '2023-wimbledon-1230',\n       '2023-wimbledon-1231', '2023-wimbledon-1232',\n       '2023-wimbledon-1301', '2023-wimbledon-1302',\n       '2023-wimbledon-1303', '2023-wimbledon-1304',\n       '2023-wimbledon-1305', '2023-wimbledon-1306',\n       '2023-wimbledon-1307', '2023-wimbledon-1308',\n       '2023-wimbledon-1309', '2023-wimbledon-1310',\n       '2023-wimbledon-1311', '2023-wimbledon-1312',\n       '2023-wimbledon-1313', '2023-wimbledon-1314',\n       '2023-wimbledon-1315', '2023-wimbledon-1316',\n       '2023-wimbledon-1401', '2023-wimbledon-1402',\n       '2023-wimbledon-1403', '2023-wimbledon-1404',\n       '2023-wimbledon-1405', '2023-wimbledon-1406',\n       '2023-wimbledon-1407', '2023-wimbledon-1408',\n       '2023-wimbledon-1501', '2023-wimbledon-1502',\n       '2023-wimbledon-1503', '2023-wimbledon-1504',\n       '2023-wimbledon-1601', '2023-wimbledon-1602',\n       '2023-wimbledon-1701', '2023-wimbledon-2101',\n       '2023-wimbledon-2102', '2023-wimbledon-2103',\n       '2023-wimbledon-2104', '2023-wimbledon-2105',\n       '2023-wimbledon-2106', '2023-wimbledon-2107',\n       '2023-wimbledon-2108', '2023-wimbledon-2109',\n       '2023-wimbledon-2110', '2023-wimbledon-2111',\n       '2023-wimbledon-2112', '2023-wimbledon-2113',\n       '2023-wimbledon-2114', '2023-wimbledon-2115',\n       '2023-wimbledon-2116', '2023-wimbledon-2117',\n       '2023-wimbledon-2118', '2023-wimbledon-2119',\n       '2023-wimbledon-2120', '2023-wimbledon-2121',\n       '2023-wimbledon-2122', '2023-wimbledon-2123',\n       '2023-wimbledon-2124', '2023-wimbledon-2125',\n       '2023-wimbledon-2126', '2023-wimbledon-2127',\n       '2023-wimbledon-2128', '2023-wimbledon-2129',\n       '2023-wimbledon-2130', '2023-wimbledon-2131',\n       '2023-wimbledon-2132', '2023-wimbledon-2133',\n       '2023-wimbledon-2134', '2023-wimbledon-2135',\n       '2023-wimbledon-2136', '2023-wimbledon-2137',\n       '2023-wimbledon-2138', '2023-wimbledon-2139',\n       '2023-wimbledon-2140', '2023-wimbledon-2141',\n       '2023-wimbledon-2142', '2023-wimbledon-2143',\n       '2023-wimbledon-2144', '2023-wimbledon-2145',\n       '2023-wimbledon-2146', '2023-wimbledon-2147',\n       '2023-wimbledon-2148', '2023-wimbledon-2149',\n       '2023-wimbledon-2150', '2023-wimbledon-2151',\n       '2023-wimbledon-2152', '2023-wimbledon-2153',\n       '2023-wimbledon-2154', '2023-wimbledon-2155',\n       '2023-wimbledon-2156', '2023-wimbledon-2157',\n       '2023-wimbledon-2158', '2023-wimbledon-2159',\n       '2023-wimbledon-2160', '2023-wimbledon-2161',\n       '2023-wimbledon-2162', '2023-wimbledon-2163',\n       '2023-wimbledon-2164', '2023-wimbledon-2201',\n       '2023-wimbledon-2202', '2023-wimbledon-2203',\n       '2023-wimbledon-2204', '2023-wimbledon-2205',\n       '2023-wimbledon-2206', '2023-wimbledon-2207',\n       '2023-wimbledon-2208', '2023-wimbledon-2209',\n       '2023-wimbledon-2210', '2023-wimbledon-2211',\n       '2023-wimbledon-2212', '2023-wimbledon-2213',\n       '2023-wimbledon-2214', '2023-wimbledon-2215',\n       '2023-wimbledon-2216', '2023-wimbledon-2217',\n       '2023-wimbledon-2218', '2023-wimbledon-2219',\n       '2023-wimbledon-2220', '2023-wimbledon-2221',\n       '2023-wimbledon-2222', '2023-wimbledon-2223',\n       '2023-wimbledon-2224', '2023-wimbledon-2225',\n       '2023-wimbledon-2226', '2023-wimbledon-2227',\n       '2023-wimbledon-2228', '2023-wimbledon-2229',\n       '2023-wimbledon-2230', '2023-wimbledon-2231',\n       '2023-wimbledon-2232', '2023-wimbledon-2301',\n       '2023-wimbledon-2302', '2023-wimbledon-2303',\n       '2023-wimbledon-2304', '2023-wimbledon-2305',\n       '2023-wimbledon-2306', '2023-wimbledon-2307',\n       '2023-wimbledon-2308', '2023-wimbledon-2309',\n       '2023-wimbledon-2310', '2023-wimbledon-2311',\n       '2023-wimbledon-2312', '2023-wimbledon-2313',\n       '2023-wimbledon-2314', '2023-wimbledon-2315',\n       '2023-wimbledon-2316', '2023-wimbledon-2401',\n       '2023-wimbledon-2402', '2023-wimbledon-2403',\n       '2023-wimbledon-2404', '2023-wimbledon-2405',\n       '2023-wimbledon-2406', '2023-wimbledon-2407',\n       '2023-wimbledon-2408', '2023-wimbledon-2501',\n       '2023-wimbledon-2502', '2023-wimbledon-2503',\n       '2023-wimbledon-2504', '2023-wimbledon-2601',\n       '2023-wimbledon-2602', '2023-wimbledon-2701'], dtype=object)"
     },
     "execution_count": 54,
     "metadata": {},
     "output_type": "execute_result"
    }
   ],
   "source": [
    "pbp['match_id'].unique()"
   ],
   "metadata": {
    "collapsed": false,
    "ExecuteTime": {
     "end_time": "2024-09-10T21:40:12.143169Z",
     "start_time": "2024-09-10T21:40:12.113704Z"
    }
   },
   "id": "2217dbc9e0fec209",
   "execution_count": 54
  },
  {
   "cell_type": "code",
   "outputs": [],
   "source": [
    "charting = pd.read_csv('tennis_MatchChartingProject-master/charting-m-points-2020s.csv', encoding= 'latin1', low_memory=False)"
   ],
   "metadata": {
    "collapsed": false,
    "ExecuteTime": {
     "end_time": "2024-09-10T21:40:13.279911Z",
     "start_time": "2024-09-10T21:40:12.145655Z"
    }
   },
   "id": "3fb35c41ac7beea9",
   "execution_count": 55
  },
  {
   "cell_type": "code",
   "outputs": [
    {
     "data": {
      "text/plain": "                                                 match_id   Pt  Set1  Set2   \n0       20230908-M-US_Open-SF-Novak_Djokovic_-Ben_Shelton    1     0     0  \\\n1       20230908-M-US_Open-SF-Novak_Djokovic_-Ben_Shelton    2     0     0   \n2       20230908-M-US_Open-SF-Novak_Djokovic_-Ben_Shelton    3     0     0   \n3       20230908-M-US_Open-SF-Novak_Djokovic_-Ben_Shelton    4     0     0   \n4       20230908-M-US_Open-SF-Novak_Djokovic_-Ben_Shelton    5     0     0   \n...                                                   ...  ...   ...   ...   \n246625  20200103-M-ATP_Cup-RR-Alex_De_Minaur-Alexander...  203     1     1   \n246626  20200103-M-ATP_Cup-RR-Alex_De_Minaur-Alexander...  204     1     1   \n246627  20200103-M-ATP_Cup-RR-Alex_De_Minaur-Alexander...  205     1     1   \n246628  20200103-M-ATP_Cup-RR-Alex_De_Minaur-Alexander...  206     1     1   \n246629  20200103-M-ATP_Cup-RR-Alex_De_Minaur-Alexander...  207     1     1   \n\n        Gm1  Gm2    Pts     Gm# TbSet TB?  ...  2ndIn  isAce  isUnret   \n0         0    0    0-0   1 (1)     1   0  ...    NaN  False    False  \\\n1         0    0   15-0   1 (2)     1   0  ...    1.0  False    False   \n2         0    0  15-15   1 (3)     1   0  ...    1.0  False    False   \n3         0    0  15-30   1 (4)     1   0  ...    NaN  False    False   \n4         0    0  30-30   1 (5)     1   0  ...    NaN  False    False   \n...     ...  ...    ...     ...   ...  ..  ...    ...    ...      ...   \n246625    5    2   15-0  31 (2)     1   0  ...    1.0  False    False   \n246626    5    2   30-0  31 (3)     1   0  ...    1.0  False    False   \n246627    5    2   40-0  31 (4)     1   0  ...    NaN  False    False   \n246628    5    2  40-15  31 (5)     1   0  ...    NaN  False    False   \n246629    5    2  40-30  31 (6)     1   0  ...    NaN  False    False   \n\n       isRallyWinner isForced isUnforced isDouble  PtWinner  isSvrWinner   \n0              False     True      False    False         1            1  \\\n1               True    False      False    False         2            0   \n2               True    False      False    False         2            0   \n3               True    False      False    False         1            1   \n4               True    False      False    False         1            1   \n...              ...      ...        ...      ...       ...          ...   \n246625         False    False       True    False         1            1   \n246626          True    False      False    False         1            1   \n246627         False    False       True    False         2            0   \n246628         False    False       True    False         2            0   \n246629         False     True      False    False         1            1   \n\n        rallyCount  \n0                1  \n1                8  \n2                4  \n3                3  \n4                3  \n...            ...  \n246625          11  \n246626           9  \n246627          10  \n246628           6  \n246629          11  \n\n[246630 rows x 30 columns]",
      "text/html": "<div>\n<style scoped>\n    .dataframe tbody tr th:only-of-type {\n        vertical-align: middle;\n    }\n\n    .dataframe tbody tr th {\n        vertical-align: top;\n    }\n\n    .dataframe thead th {\n        text-align: right;\n    }\n</style>\n<table border=\"1\" class=\"dataframe\">\n  <thead>\n    <tr style=\"text-align: right;\">\n      <th></th>\n      <th>match_id</th>\n      <th>Pt</th>\n      <th>Set1</th>\n      <th>Set2</th>\n      <th>Gm1</th>\n      <th>Gm2</th>\n      <th>Pts</th>\n      <th>Gm#</th>\n      <th>TbSet</th>\n      <th>TB?</th>\n      <th>...</th>\n      <th>2ndIn</th>\n      <th>isAce</th>\n      <th>isUnret</th>\n      <th>isRallyWinner</th>\n      <th>isForced</th>\n      <th>isUnforced</th>\n      <th>isDouble</th>\n      <th>PtWinner</th>\n      <th>isSvrWinner</th>\n      <th>rallyCount</th>\n    </tr>\n  </thead>\n  <tbody>\n    <tr>\n      <th>0</th>\n      <td>20230908-M-US_Open-SF-Novak_Djokovic_-Ben_Shelton</td>\n      <td>1</td>\n      <td>0</td>\n      <td>0</td>\n      <td>0</td>\n      <td>0</td>\n      <td>0-0</td>\n      <td>1 (1)</td>\n      <td>1</td>\n      <td>0</td>\n      <td>...</td>\n      <td>NaN</td>\n      <td>False</td>\n      <td>False</td>\n      <td>False</td>\n      <td>True</td>\n      <td>False</td>\n      <td>False</td>\n      <td>1</td>\n      <td>1</td>\n      <td>1</td>\n    </tr>\n    <tr>\n      <th>1</th>\n      <td>20230908-M-US_Open-SF-Novak_Djokovic_-Ben_Shelton</td>\n      <td>2</td>\n      <td>0</td>\n      <td>0</td>\n      <td>0</td>\n      <td>0</td>\n      <td>15-0</td>\n      <td>1 (2)</td>\n      <td>1</td>\n      <td>0</td>\n      <td>...</td>\n      <td>1.0</td>\n      <td>False</td>\n      <td>False</td>\n      <td>True</td>\n      <td>False</td>\n      <td>False</td>\n      <td>False</td>\n      <td>2</td>\n      <td>0</td>\n      <td>8</td>\n    </tr>\n    <tr>\n      <th>2</th>\n      <td>20230908-M-US_Open-SF-Novak_Djokovic_-Ben_Shelton</td>\n      <td>3</td>\n      <td>0</td>\n      <td>0</td>\n      <td>0</td>\n      <td>0</td>\n      <td>15-15</td>\n      <td>1 (3)</td>\n      <td>1</td>\n      <td>0</td>\n      <td>...</td>\n      <td>1.0</td>\n      <td>False</td>\n      <td>False</td>\n      <td>True</td>\n      <td>False</td>\n      <td>False</td>\n      <td>False</td>\n      <td>2</td>\n      <td>0</td>\n      <td>4</td>\n    </tr>\n    <tr>\n      <th>3</th>\n      <td>20230908-M-US_Open-SF-Novak_Djokovic_-Ben_Shelton</td>\n      <td>4</td>\n      <td>0</td>\n      <td>0</td>\n      <td>0</td>\n      <td>0</td>\n      <td>15-30</td>\n      <td>1 (4)</td>\n      <td>1</td>\n      <td>0</td>\n      <td>...</td>\n      <td>NaN</td>\n      <td>False</td>\n      <td>False</td>\n      <td>True</td>\n      <td>False</td>\n      <td>False</td>\n      <td>False</td>\n      <td>1</td>\n      <td>1</td>\n      <td>3</td>\n    </tr>\n    <tr>\n      <th>4</th>\n      <td>20230908-M-US_Open-SF-Novak_Djokovic_-Ben_Shelton</td>\n      <td>5</td>\n      <td>0</td>\n      <td>0</td>\n      <td>0</td>\n      <td>0</td>\n      <td>30-30</td>\n      <td>1 (5)</td>\n      <td>1</td>\n      <td>0</td>\n      <td>...</td>\n      <td>NaN</td>\n      <td>False</td>\n      <td>False</td>\n      <td>True</td>\n      <td>False</td>\n      <td>False</td>\n      <td>False</td>\n      <td>1</td>\n      <td>1</td>\n      <td>3</td>\n    </tr>\n    <tr>\n      <th>...</th>\n      <td>...</td>\n      <td>...</td>\n      <td>...</td>\n      <td>...</td>\n      <td>...</td>\n      <td>...</td>\n      <td>...</td>\n      <td>...</td>\n      <td>...</td>\n      <td>...</td>\n      <td>...</td>\n      <td>...</td>\n      <td>...</td>\n      <td>...</td>\n      <td>...</td>\n      <td>...</td>\n      <td>...</td>\n      <td>...</td>\n      <td>...</td>\n      <td>...</td>\n      <td>...</td>\n    </tr>\n    <tr>\n      <th>246625</th>\n      <td>20200103-M-ATP_Cup-RR-Alex_De_Minaur-Alexander...</td>\n      <td>203</td>\n      <td>1</td>\n      <td>1</td>\n      <td>5</td>\n      <td>2</td>\n      <td>15-0</td>\n      <td>31 (2)</td>\n      <td>1</td>\n      <td>0</td>\n      <td>...</td>\n      <td>1.0</td>\n      <td>False</td>\n      <td>False</td>\n      <td>False</td>\n      <td>False</td>\n      <td>True</td>\n      <td>False</td>\n      <td>1</td>\n      <td>1</td>\n      <td>11</td>\n    </tr>\n    <tr>\n      <th>246626</th>\n      <td>20200103-M-ATP_Cup-RR-Alex_De_Minaur-Alexander...</td>\n      <td>204</td>\n      <td>1</td>\n      <td>1</td>\n      <td>5</td>\n      <td>2</td>\n      <td>30-0</td>\n      <td>31 (3)</td>\n      <td>1</td>\n      <td>0</td>\n      <td>...</td>\n      <td>1.0</td>\n      <td>False</td>\n      <td>False</td>\n      <td>True</td>\n      <td>False</td>\n      <td>False</td>\n      <td>False</td>\n      <td>1</td>\n      <td>1</td>\n      <td>9</td>\n    </tr>\n    <tr>\n      <th>246627</th>\n      <td>20200103-M-ATP_Cup-RR-Alex_De_Minaur-Alexander...</td>\n      <td>205</td>\n      <td>1</td>\n      <td>1</td>\n      <td>5</td>\n      <td>2</td>\n      <td>40-0</td>\n      <td>31 (4)</td>\n      <td>1</td>\n      <td>0</td>\n      <td>...</td>\n      <td>NaN</td>\n      <td>False</td>\n      <td>False</td>\n      <td>False</td>\n      <td>False</td>\n      <td>True</td>\n      <td>False</td>\n      <td>2</td>\n      <td>0</td>\n      <td>10</td>\n    </tr>\n    <tr>\n      <th>246628</th>\n      <td>20200103-M-ATP_Cup-RR-Alex_De_Minaur-Alexander...</td>\n      <td>206</td>\n      <td>1</td>\n      <td>1</td>\n      <td>5</td>\n      <td>2</td>\n      <td>40-15</td>\n      <td>31 (5)</td>\n      <td>1</td>\n      <td>0</td>\n      <td>...</td>\n      <td>NaN</td>\n      <td>False</td>\n      <td>False</td>\n      <td>False</td>\n      <td>False</td>\n      <td>True</td>\n      <td>False</td>\n      <td>2</td>\n      <td>0</td>\n      <td>6</td>\n    </tr>\n    <tr>\n      <th>246629</th>\n      <td>20200103-M-ATP_Cup-RR-Alex_De_Minaur-Alexander...</td>\n      <td>207</td>\n      <td>1</td>\n      <td>1</td>\n      <td>5</td>\n      <td>2</td>\n      <td>40-30</td>\n      <td>31 (6)</td>\n      <td>1</td>\n      <td>0</td>\n      <td>...</td>\n      <td>NaN</td>\n      <td>False</td>\n      <td>False</td>\n      <td>False</td>\n      <td>True</td>\n      <td>False</td>\n      <td>False</td>\n      <td>1</td>\n      <td>1</td>\n      <td>11</td>\n    </tr>\n  </tbody>\n</table>\n<p>246630 rows × 30 columns</p>\n</div>"
     },
     "execution_count": 56,
     "metadata": {},
     "output_type": "execute_result"
    }
   ],
   "source": [
    "charting    "
   ],
   "metadata": {
    "collapsed": false,
    "ExecuteTime": {
     "end_time": "2024-09-10T21:40:13.528184Z",
     "start_time": "2024-09-10T21:40:13.281578Z"
    }
   },
   "id": "c381415eea739df2",
   "execution_count": 56
  },
  {
   "cell_type": "code",
   "outputs": [
    {
     "data": {
      "text/plain": "array(['20230908-M-US_Open-SF-Novak_Djokovic_-Ben_Shelton',\n       '20230905-M-US_Open-QF-Novak_Djokovic_-Taylor_Fritz',\n       '20230831-M-US_Open-R64-Hubert_Hurkacz-Jack_Draper', ...,\n       '20200103-M-ATP_Cup-RR-Steve_Darcis-Alexander_Cozbinov',\n       '20200103-M-ATP_Cup-RR-Stefanos_Tsitsipas-Denis_Shapovalov',\n       '20200103-M-ATP_Cup-RR-Alex_De_Minaur-Alexander_Zverev'],\n      dtype=object)"
     },
     "execution_count": 57,
     "metadata": {},
     "output_type": "execute_result"
    }
   ],
   "source": [
    "charting['match_id'].unique()"
   ],
   "metadata": {
    "collapsed": false,
    "ExecuteTime": {
     "end_time": "2024-09-10T21:40:13.588263Z",
     "start_time": "2024-09-10T21:40:13.530108Z"
    }
   },
   "id": "97e3509b537c72a",
   "execution_count": 57
  },
  {
   "cell_type": "code",
   "outputs": [
    {
     "data": {
      "text/plain": "4.145064043563409"
     },
     "execution_count": 58,
     "metadata": {},
     "output_type": "execute_result"
    }
   ],
   "source": [
    "charting['rallyCount'] = pd.to_numeric(charting['rallyCount'], errors='coerce')\n",
    "charting['rallyCount'].mean()"
   ],
   "metadata": {
    "collapsed": false,
    "ExecuteTime": {
     "end_time": "2024-09-10T21:40:13.766826Z",
     "start_time": "2024-09-10T21:40:13.590724Z"
    }
   },
   "id": "2f52e8ad208fef2c",
   "execution_count": 58
  },
  {
   "cell_type": "code",
   "outputs": [],
   "source": [
    "#fix: charting.drop(charting.iloc[[187254]])\n",
    "charting = charting.drop(charting.index[187254])"
   ],
   "metadata": {
    "collapsed": false,
    "ExecuteTime": {
     "end_time": "2024-09-10T21:40:13.844947Z",
     "start_time": "2024-09-10T21:40:13.770048Z"
    }
   },
   "id": "358357a1a48973b3",
   "execution_count": 59
  },
  {
   "cell_type": "code",
   "outputs": [
    {
     "ename": "ValueError",
     "evalue": "Input data must be a pandas object to reorder",
     "output_type": "error",
     "traceback": [
      "\u001B[1;31m---------------------------------------------------------------------------\u001B[0m",
      "\u001B[1;31mValueError\u001B[0m                                Traceback (most recent call last)",
      "Cell \u001B[1;32mIn[78], line 2\u001B[0m\n\u001B[0;32m      1\u001B[0m \u001B[38;5;66;03m#median of rally count\u001B[39;00m\n\u001B[1;32m----> 2\u001B[0m \u001B[43msns\u001B[49m\u001B[38;5;241;43m.\u001B[39;49m\u001B[43mcountplot\u001B[49m\u001B[43m(\u001B[49m\u001B[43mcharting\u001B[49m\u001B[43m[\u001B[49m\u001B[38;5;124;43m'\u001B[39;49m\u001B[38;5;124;43mrallyCount\u001B[39;49m\u001B[38;5;124;43m'\u001B[39;49m\u001B[43m]\u001B[49m\u001B[43m,\u001B[49m\u001B[43m \u001B[49m\u001B[43morder\u001B[49m\u001B[43m \u001B[49m\u001B[38;5;241;43m=\u001B[39;49m\u001B[43m \u001B[49m\u001B[43mcharting\u001B[49m\u001B[43m[\u001B[49m\u001B[38;5;124;43m'\u001B[39;49m\u001B[38;5;124;43mrallyCount\u001B[39;49m\u001B[38;5;124;43m'\u001B[39;49m\u001B[43m]\u001B[49m\u001B[38;5;241;43m.\u001B[39;49m\u001B[43mvalue_counts\u001B[49m\u001B[43m(\u001B[49m\u001B[43m)\u001B[49m\u001B[38;5;241;43m.\u001B[39;49m\u001B[43mindex\u001B[49m\u001B[43m)\u001B[49m\n\u001B[0;32m      3\u001B[0m plt\u001B[38;5;241m.\u001B[39mshow()\n",
      "File \u001B[1;32m~\\code\\movie_analysis\\venv\\lib\\site-packages\\seaborn\\categorical.py:2943\u001B[0m, in \u001B[0;36mcountplot\u001B[1;34m(data, x, y, hue, order, hue_order, orient, color, palette, saturation, width, dodge, ax, **kwargs)\u001B[0m\n\u001B[0;32m   2940\u001B[0m \u001B[38;5;28;01melif\u001B[39;00m x \u001B[38;5;129;01mis\u001B[39;00m \u001B[38;5;129;01mnot\u001B[39;00m \u001B[38;5;28;01mNone\u001B[39;00m \u001B[38;5;129;01mand\u001B[39;00m y \u001B[38;5;129;01mis\u001B[39;00m \u001B[38;5;129;01mnot\u001B[39;00m \u001B[38;5;28;01mNone\u001B[39;00m:\n\u001B[0;32m   2941\u001B[0m     \u001B[38;5;28;01mraise\u001B[39;00m \u001B[38;5;167;01mValueError\u001B[39;00m(\u001B[38;5;124m\"\u001B[39m\u001B[38;5;124mCannot pass values for both `x` and `y`\u001B[39m\u001B[38;5;124m\"\u001B[39m)\n\u001B[1;32m-> 2943\u001B[0m plotter \u001B[38;5;241m=\u001B[39m \u001B[43m_CountPlotter\u001B[49m\u001B[43m(\u001B[49m\n\u001B[0;32m   2944\u001B[0m \u001B[43m    \u001B[49m\u001B[43mx\u001B[49m\u001B[43m,\u001B[49m\u001B[43m \u001B[49m\u001B[43my\u001B[49m\u001B[43m,\u001B[49m\u001B[43m \u001B[49m\u001B[43mhue\u001B[49m\u001B[43m,\u001B[49m\u001B[43m \u001B[49m\u001B[43mdata\u001B[49m\u001B[43m,\u001B[49m\u001B[43m \u001B[49m\u001B[43morder\u001B[49m\u001B[43m,\u001B[49m\u001B[43m \u001B[49m\u001B[43mhue_order\u001B[49m\u001B[43m,\u001B[49m\n\u001B[0;32m   2945\u001B[0m \u001B[43m    \u001B[49m\u001B[43mestimator\u001B[49m\u001B[43m,\u001B[49m\u001B[43m \u001B[49m\u001B[43merrorbar\u001B[49m\u001B[43m,\u001B[49m\u001B[43m \u001B[49m\u001B[43mn_boot\u001B[49m\u001B[43m,\u001B[49m\u001B[43m \u001B[49m\u001B[43munits\u001B[49m\u001B[43m,\u001B[49m\u001B[43m \u001B[49m\u001B[43mseed\u001B[49m\u001B[43m,\u001B[49m\n\u001B[0;32m   2946\u001B[0m \u001B[43m    \u001B[49m\u001B[43morient\u001B[49m\u001B[43m,\u001B[49m\u001B[43m \u001B[49m\u001B[43mcolor\u001B[49m\u001B[43m,\u001B[49m\u001B[43m \u001B[49m\u001B[43mpalette\u001B[49m\u001B[43m,\u001B[49m\u001B[43m \u001B[49m\u001B[43msaturation\u001B[49m\u001B[43m,\u001B[49m\n\u001B[0;32m   2947\u001B[0m \u001B[43m    \u001B[49m\u001B[43mwidth\u001B[49m\u001B[43m,\u001B[49m\u001B[43m \u001B[49m\u001B[43merrcolor\u001B[49m\u001B[43m,\u001B[49m\u001B[43m \u001B[49m\u001B[43merrwidth\u001B[49m\u001B[43m,\u001B[49m\u001B[43m \u001B[49m\u001B[43mcapsize\u001B[49m\u001B[43m,\u001B[49m\u001B[43m \u001B[49m\u001B[43mdodge\u001B[49m\n\u001B[0;32m   2948\u001B[0m \u001B[43m\u001B[49m\u001B[43m)\u001B[49m\n\u001B[0;32m   2950\u001B[0m plotter\u001B[38;5;241m.\u001B[39mvalue_label \u001B[38;5;241m=\u001B[39m \u001B[38;5;124m\"\u001B[39m\u001B[38;5;124mcount\u001B[39m\u001B[38;5;124m\"\u001B[39m\n\u001B[0;32m   2952\u001B[0m \u001B[38;5;28;01mif\u001B[39;00m ax \u001B[38;5;129;01mis\u001B[39;00m \u001B[38;5;28;01mNone\u001B[39;00m:\n",
      "File \u001B[1;32m~\\code\\movie_analysis\\venv\\lib\\site-packages\\seaborn\\categorical.py:1530\u001B[0m, in \u001B[0;36m_BarPlotter.__init__\u001B[1;34m(self, x, y, hue, data, order, hue_order, estimator, errorbar, n_boot, units, seed, orient, color, palette, saturation, width, errcolor, errwidth, capsize, dodge)\u001B[0m\n\u001B[0;32m   1525\u001B[0m \u001B[38;5;28;01mdef\u001B[39;00m \u001B[38;5;21m__init__\u001B[39m(\u001B[38;5;28mself\u001B[39m, x, y, hue, data, order, hue_order,\n\u001B[0;32m   1526\u001B[0m              estimator, errorbar, n_boot, units, seed,\n\u001B[0;32m   1527\u001B[0m              orient, color, palette, saturation, width,\n\u001B[0;32m   1528\u001B[0m              errcolor, errwidth, capsize, dodge):\n\u001B[0;32m   1529\u001B[0m \u001B[38;5;250m    \u001B[39m\u001B[38;5;124;03m\"\"\"Initialize the plotter.\"\"\"\u001B[39;00m\n\u001B[1;32m-> 1530\u001B[0m     \u001B[38;5;28;43mself\u001B[39;49m\u001B[38;5;241;43m.\u001B[39;49m\u001B[43mestablish_variables\u001B[49m\u001B[43m(\u001B[49m\u001B[43mx\u001B[49m\u001B[43m,\u001B[49m\u001B[43m \u001B[49m\u001B[43my\u001B[49m\u001B[43m,\u001B[49m\u001B[43m \u001B[49m\u001B[43mhue\u001B[49m\u001B[43m,\u001B[49m\u001B[43m \u001B[49m\u001B[43mdata\u001B[49m\u001B[43m,\u001B[49m\u001B[43m \u001B[49m\u001B[43morient\u001B[49m\u001B[43m,\u001B[49m\n\u001B[0;32m   1531\u001B[0m \u001B[43m                             \u001B[49m\u001B[43morder\u001B[49m\u001B[43m,\u001B[49m\u001B[43m \u001B[49m\u001B[43mhue_order\u001B[49m\u001B[43m,\u001B[49m\u001B[43m \u001B[49m\u001B[43munits\u001B[49m\u001B[43m)\u001B[49m\n\u001B[0;32m   1532\u001B[0m     \u001B[38;5;28mself\u001B[39m\u001B[38;5;241m.\u001B[39mestablish_colors(color, palette, saturation)\n\u001B[0;32m   1533\u001B[0m     \u001B[38;5;28mself\u001B[39m\u001B[38;5;241m.\u001B[39mestimate_statistic(estimator, errorbar, n_boot, seed)\n",
      "File \u001B[1;32m~\\code\\movie_analysis\\venv\\lib\\site-packages\\seaborn\\categorical.py:481\u001B[0m, in \u001B[0;36m_CategoricalPlotter.establish_variables\u001B[1;34m(self, x, y, hue, data, orient, order, hue_order, units)\u001B[0m\n\u001B[0;32m    479\u001B[0m \u001B[38;5;28;01mif\u001B[39;00m order \u001B[38;5;129;01mis\u001B[39;00m \u001B[38;5;129;01mnot\u001B[39;00m \u001B[38;5;28;01mNone\u001B[39;00m:\n\u001B[0;32m    480\u001B[0m     error \u001B[38;5;241m=\u001B[39m \u001B[38;5;124m\"\u001B[39m\u001B[38;5;124mInput data must be a pandas object to reorder\u001B[39m\u001B[38;5;124m\"\u001B[39m\n\u001B[1;32m--> 481\u001B[0m     \u001B[38;5;28;01mraise\u001B[39;00m \u001B[38;5;167;01mValueError\u001B[39;00m(error)\n\u001B[0;32m    483\u001B[0m \u001B[38;5;66;03m# The input data is an array\u001B[39;00m\n\u001B[0;32m    484\u001B[0m \u001B[38;5;28;01mif\u001B[39;00m \u001B[38;5;28mhasattr\u001B[39m(data, \u001B[38;5;124m\"\u001B[39m\u001B[38;5;124mshape\u001B[39m\u001B[38;5;124m\"\u001B[39m):\n",
      "\u001B[1;31mValueError\u001B[0m: Input data must be a pandas object to reorder"
     ]
    }
   ],
   "source": [],
   "metadata": {
    "collapsed": false,
    "ExecuteTime": {
     "end_time": "2024-09-10T22:14:34.632906Z",
     "start_time": "2024-09-10T22:14:34.346346Z"
    }
   },
   "id": "5d7e9c8eada34470",
   "execution_count": 78
  }
 ],
 "metadata": {
  "kernelspec": {
   "display_name": "Python 3",
   "language": "python",
   "name": "python3"
  },
  "language_info": {
   "codemirror_mode": {
    "name": "ipython",
    "version": 2
   },
   "file_extension": ".py",
   "mimetype": "text/x-python",
   "name": "python",
   "nbconvert_exporter": "python",
   "pygments_lexer": "ipython2",
   "version": "2.7.6"
  }
 },
 "nbformat": 4,
 "nbformat_minor": 5
}
