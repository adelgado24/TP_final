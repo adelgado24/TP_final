{
 "cells": [
  {
   "cell_type": "code",
   "execution_count": 1,
   "id": "initial_id",
   "metadata": {
    "collapsed": true,
    "ExecuteTime": {
     "end_time": "2024-09-14T00:08:12.850979Z",
     "start_time": "2024-09-14T00:08:12.690943Z"
    }
   },
   "outputs": [],
   "source": [
    "import pandas as pd\n",
    "import numpy as np\n",
    "import matplotlib.pyplot as plt\n",
    "import seaborn as sns\n",
    "from sklearn.model_selection import train_test_split\n",
    "import chardet\n",
    "import re\n"
   ]
  },
  {
   "cell_type": "code",
   "outputs": [],
   "source": [
    "df = pd.read_csv('tennis_atp-master/atp_matches_2023.csv')"
   ],
   "metadata": {
    "collapsed": false,
    "ExecuteTime": {
     "end_time": "2024-09-14T00:08:12.882986Z",
     "start_time": "2024-09-14T00:08:12.851980Z"
    }
   },
   "id": "88310a1497237323",
   "execution_count": 2
  },
  {
   "cell_type": "code",
   "outputs": [
    {
     "data": {
      "text/plain": "  tourney_id tourney_name surface  draw_size tourney_level  tourney_date  \\\n0  2023-9900   United Cup    Hard         18             A      20230102   \n1  2023-9900   United Cup    Hard         18             A      20230102   \n2  2023-9900   United Cup    Hard         18             A      20230102   \n3  2023-9900   United Cup    Hard         18             A      20230102   \n4  2023-9900   United Cup    Hard         18             A      20230102   \n\n   match_num  winner_id  winner_seed winner_entry  ... l_1stIn l_1stWon  \\\n0        300     126203          3.0          NaN  ...    62.0     47.0   \n1        299     126207          NaN          NaN  ...    12.0      8.0   \n2        296     126203          3.0          NaN  ...    62.0     51.0   \n3        295     126207          NaN          NaN  ...    41.0     26.0   \n4        292     126774          1.0          NaN  ...    58.0     48.0   \n\n   l_2ndWon l_SvGms  l_bpSaved  l_bpFaced  winner_rank winner_rank_points  \\\n0      15.0    12.0        9.0        9.0          9.0             3355.0   \n1       3.0     4.0        1.0        3.0         19.0             2000.0   \n2       7.0    12.0        2.0        2.0          9.0             3355.0   \n3      12.0     9.0        6.0        9.0         19.0             2000.0   \n4      18.0    16.0        1.0        2.0          4.0             5550.0   \n\n  loser_rank loser_rank_points  \n0       16.0            2375.0  \n1       23.0            1865.0  \n2       10.0            2905.0  \n3      245.0             220.0  \n4       16.0            2375.0  \n\n[5 rows x 49 columns]",
      "text/html": "<div>\n<style scoped>\n    .dataframe tbody tr th:only-of-type {\n        vertical-align: middle;\n    }\n\n    .dataframe tbody tr th {\n        vertical-align: top;\n    }\n\n    .dataframe thead th {\n        text-align: right;\n    }\n</style>\n<table border=\"1\" class=\"dataframe\">\n  <thead>\n    <tr style=\"text-align: right;\">\n      <th></th>\n      <th>tourney_id</th>\n      <th>tourney_name</th>\n      <th>surface</th>\n      <th>draw_size</th>\n      <th>tourney_level</th>\n      <th>tourney_date</th>\n      <th>match_num</th>\n      <th>winner_id</th>\n      <th>winner_seed</th>\n      <th>winner_entry</th>\n      <th>...</th>\n      <th>l_1stIn</th>\n      <th>l_1stWon</th>\n      <th>l_2ndWon</th>\n      <th>l_SvGms</th>\n      <th>l_bpSaved</th>\n      <th>l_bpFaced</th>\n      <th>winner_rank</th>\n      <th>winner_rank_points</th>\n      <th>loser_rank</th>\n      <th>loser_rank_points</th>\n    </tr>\n  </thead>\n  <tbody>\n    <tr>\n      <th>0</th>\n      <td>2023-9900</td>\n      <td>United Cup</td>\n      <td>Hard</td>\n      <td>18</td>\n      <td>A</td>\n      <td>20230102</td>\n      <td>300</td>\n      <td>126203</td>\n      <td>3.0</td>\n      <td>NaN</td>\n      <td>...</td>\n      <td>62.0</td>\n      <td>47.0</td>\n      <td>15.0</td>\n      <td>12.0</td>\n      <td>9.0</td>\n      <td>9.0</td>\n      <td>9.0</td>\n      <td>3355.0</td>\n      <td>16.0</td>\n      <td>2375.0</td>\n    </tr>\n    <tr>\n      <th>1</th>\n      <td>2023-9900</td>\n      <td>United Cup</td>\n      <td>Hard</td>\n      <td>18</td>\n      <td>A</td>\n      <td>20230102</td>\n      <td>299</td>\n      <td>126207</td>\n      <td>NaN</td>\n      <td>NaN</td>\n      <td>...</td>\n      <td>12.0</td>\n      <td>8.0</td>\n      <td>3.0</td>\n      <td>4.0</td>\n      <td>1.0</td>\n      <td>3.0</td>\n      <td>19.0</td>\n      <td>2000.0</td>\n      <td>23.0</td>\n      <td>1865.0</td>\n    </tr>\n    <tr>\n      <th>2</th>\n      <td>2023-9900</td>\n      <td>United Cup</td>\n      <td>Hard</td>\n      <td>18</td>\n      <td>A</td>\n      <td>20230102</td>\n      <td>296</td>\n      <td>126203</td>\n      <td>3.0</td>\n      <td>NaN</td>\n      <td>...</td>\n      <td>62.0</td>\n      <td>51.0</td>\n      <td>7.0</td>\n      <td>12.0</td>\n      <td>2.0</td>\n      <td>2.0</td>\n      <td>9.0</td>\n      <td>3355.0</td>\n      <td>10.0</td>\n      <td>2905.0</td>\n    </tr>\n    <tr>\n      <th>3</th>\n      <td>2023-9900</td>\n      <td>United Cup</td>\n      <td>Hard</td>\n      <td>18</td>\n      <td>A</td>\n      <td>20230102</td>\n      <td>295</td>\n      <td>126207</td>\n      <td>NaN</td>\n      <td>NaN</td>\n      <td>...</td>\n      <td>41.0</td>\n      <td>26.0</td>\n      <td>12.0</td>\n      <td>9.0</td>\n      <td>6.0</td>\n      <td>9.0</td>\n      <td>19.0</td>\n      <td>2000.0</td>\n      <td>245.0</td>\n      <td>220.0</td>\n    </tr>\n    <tr>\n      <th>4</th>\n      <td>2023-9900</td>\n      <td>United Cup</td>\n      <td>Hard</td>\n      <td>18</td>\n      <td>A</td>\n      <td>20230102</td>\n      <td>292</td>\n      <td>126774</td>\n      <td>1.0</td>\n      <td>NaN</td>\n      <td>...</td>\n      <td>58.0</td>\n      <td>48.0</td>\n      <td>18.0</td>\n      <td>16.0</td>\n      <td>1.0</td>\n      <td>2.0</td>\n      <td>4.0</td>\n      <td>5550.0</td>\n      <td>16.0</td>\n      <td>2375.0</td>\n    </tr>\n  </tbody>\n</table>\n<p>5 rows × 49 columns</p>\n</div>"
     },
     "execution_count": 3,
     "metadata": {},
     "output_type": "execute_result"
    }
   ],
   "source": [
    "df.head()"
   ],
   "metadata": {
    "collapsed": false,
    "ExecuteTime": {
     "end_time": "2024-09-14T00:08:12.914994Z",
     "start_time": "2024-09-14T00:08:12.883987Z"
    }
   },
   "id": "ce00e6de96cfdd6b",
   "execution_count": 3
  },
  {
   "cell_type": "code",
   "outputs": [],
   "source": [
    "pbp = pd.read_csv('tennis_slam_pointbypoint-master/2023-wimbledon-points.csv')"
   ],
   "metadata": {
    "collapsed": false,
    "ExecuteTime": {
     "end_time": "2024-09-14T00:08:13.075029Z",
     "start_time": "2024-09-14T00:08:12.915994Z"
    }
   },
   "id": "13436bef39320c5b",
   "execution_count": 4
  },
  {
   "cell_type": "code",
   "outputs": [
    {
     "data": {
      "text/plain": "array(['2023-wimbledon-1101', '2023-wimbledon-1102',\n       '2023-wimbledon-1103', '2023-wimbledon-1104',\n       '2023-wimbledon-1105', '2023-wimbledon-1106',\n       '2023-wimbledon-1107', '2023-wimbledon-1108',\n       '2023-wimbledon-1109', '2023-wimbledon-1110',\n       '2023-wimbledon-1111', '2023-wimbledon-1112',\n       '2023-wimbledon-1113', '2023-wimbledon-1114',\n       '2023-wimbledon-1115', '2023-wimbledon-1116',\n       '2023-wimbledon-1117', '2023-wimbledon-1118',\n       '2023-wimbledon-1119', '2023-wimbledon-1120',\n       '2023-wimbledon-1121', '2023-wimbledon-1122',\n       '2023-wimbledon-1123', '2023-wimbledon-1124',\n       '2023-wimbledon-1125', '2023-wimbledon-1126',\n       '2023-wimbledon-1127', '2023-wimbledon-1128',\n       '2023-wimbledon-1129', '2023-wimbledon-1130',\n       '2023-wimbledon-1131', '2023-wimbledon-1132',\n       '2023-wimbledon-1133', '2023-wimbledon-1134',\n       '2023-wimbledon-1135', '2023-wimbledon-1136',\n       '2023-wimbledon-1137', '2023-wimbledon-1138',\n       '2023-wimbledon-1139', '2023-wimbledon-1140',\n       '2023-wimbledon-1141', '2023-wimbledon-1142',\n       '2023-wimbledon-1143', '2023-wimbledon-1144',\n       '2023-wimbledon-1145', '2023-wimbledon-1146',\n       '2023-wimbledon-1147', '2023-wimbledon-1148',\n       '2023-wimbledon-1149', '2023-wimbledon-1150',\n       '2023-wimbledon-1151', '2023-wimbledon-1152',\n       '2023-wimbledon-1153', '2023-wimbledon-1154',\n       '2023-wimbledon-1155', '2023-wimbledon-1156',\n       '2023-wimbledon-1157', '2023-wimbledon-1158',\n       '2023-wimbledon-1159', '2023-wimbledon-1160',\n       '2023-wimbledon-1161', '2023-wimbledon-1162',\n       '2023-wimbledon-1163', '2023-wimbledon-1164',\n       '2023-wimbledon-1201', '2023-wimbledon-1202',\n       '2023-wimbledon-1203', '2023-wimbledon-1204',\n       '2023-wimbledon-1205', '2023-wimbledon-1206',\n       '2023-wimbledon-1207', '2023-wimbledon-1208',\n       '2023-wimbledon-1209', '2023-wimbledon-1210',\n       '2023-wimbledon-1211', '2023-wimbledon-1212',\n       '2023-wimbledon-1213', '2023-wimbledon-1214',\n       '2023-wimbledon-1215', '2023-wimbledon-1216',\n       '2023-wimbledon-1217', '2023-wimbledon-1218',\n       '2023-wimbledon-1219', '2023-wimbledon-1220',\n       '2023-wimbledon-1221', '2023-wimbledon-1222',\n       '2023-wimbledon-1223', '2023-wimbledon-1224',\n       '2023-wimbledon-1225', '2023-wimbledon-1226',\n       '2023-wimbledon-1227', '2023-wimbledon-1228',\n       '2023-wimbledon-1229', '2023-wimbledon-1230',\n       '2023-wimbledon-1231', '2023-wimbledon-1232',\n       '2023-wimbledon-1301', '2023-wimbledon-1302',\n       '2023-wimbledon-1303', '2023-wimbledon-1304',\n       '2023-wimbledon-1305', '2023-wimbledon-1306',\n       '2023-wimbledon-1307', '2023-wimbledon-1308',\n       '2023-wimbledon-1309', '2023-wimbledon-1310',\n       '2023-wimbledon-1311', '2023-wimbledon-1312',\n       '2023-wimbledon-1313', '2023-wimbledon-1314',\n       '2023-wimbledon-1315', '2023-wimbledon-1316',\n       '2023-wimbledon-1401', '2023-wimbledon-1402',\n       '2023-wimbledon-1403', '2023-wimbledon-1404',\n       '2023-wimbledon-1405', '2023-wimbledon-1406',\n       '2023-wimbledon-1407', '2023-wimbledon-1408',\n       '2023-wimbledon-1501', '2023-wimbledon-1502',\n       '2023-wimbledon-1503', '2023-wimbledon-1504',\n       '2023-wimbledon-1601', '2023-wimbledon-1602',\n       '2023-wimbledon-1701', '2023-wimbledon-2101',\n       '2023-wimbledon-2102', '2023-wimbledon-2103',\n       '2023-wimbledon-2104', '2023-wimbledon-2105',\n       '2023-wimbledon-2106', '2023-wimbledon-2107',\n       '2023-wimbledon-2108', '2023-wimbledon-2109',\n       '2023-wimbledon-2110', '2023-wimbledon-2111',\n       '2023-wimbledon-2112', '2023-wimbledon-2113',\n       '2023-wimbledon-2114', '2023-wimbledon-2115',\n       '2023-wimbledon-2116', '2023-wimbledon-2117',\n       '2023-wimbledon-2118', '2023-wimbledon-2119',\n       '2023-wimbledon-2120', '2023-wimbledon-2121',\n       '2023-wimbledon-2122', '2023-wimbledon-2123',\n       '2023-wimbledon-2124', '2023-wimbledon-2125',\n       '2023-wimbledon-2126', '2023-wimbledon-2127',\n       '2023-wimbledon-2128', '2023-wimbledon-2129',\n       '2023-wimbledon-2130', '2023-wimbledon-2131',\n       '2023-wimbledon-2132', '2023-wimbledon-2133',\n       '2023-wimbledon-2134', '2023-wimbledon-2135',\n       '2023-wimbledon-2136', '2023-wimbledon-2137',\n       '2023-wimbledon-2138', '2023-wimbledon-2139',\n       '2023-wimbledon-2140', '2023-wimbledon-2141',\n       '2023-wimbledon-2142', '2023-wimbledon-2143',\n       '2023-wimbledon-2144', '2023-wimbledon-2145',\n       '2023-wimbledon-2146', '2023-wimbledon-2147',\n       '2023-wimbledon-2148', '2023-wimbledon-2149',\n       '2023-wimbledon-2150', '2023-wimbledon-2151',\n       '2023-wimbledon-2152', '2023-wimbledon-2153',\n       '2023-wimbledon-2154', '2023-wimbledon-2155',\n       '2023-wimbledon-2156', '2023-wimbledon-2157',\n       '2023-wimbledon-2158', '2023-wimbledon-2159',\n       '2023-wimbledon-2160', '2023-wimbledon-2161',\n       '2023-wimbledon-2162', '2023-wimbledon-2163',\n       '2023-wimbledon-2164', '2023-wimbledon-2201',\n       '2023-wimbledon-2202', '2023-wimbledon-2203',\n       '2023-wimbledon-2204', '2023-wimbledon-2205',\n       '2023-wimbledon-2206', '2023-wimbledon-2207',\n       '2023-wimbledon-2208', '2023-wimbledon-2209',\n       '2023-wimbledon-2210', '2023-wimbledon-2211',\n       '2023-wimbledon-2212', '2023-wimbledon-2213',\n       '2023-wimbledon-2214', '2023-wimbledon-2215',\n       '2023-wimbledon-2216', '2023-wimbledon-2217',\n       '2023-wimbledon-2218', '2023-wimbledon-2219',\n       '2023-wimbledon-2220', '2023-wimbledon-2221',\n       '2023-wimbledon-2222', '2023-wimbledon-2223',\n       '2023-wimbledon-2224', '2023-wimbledon-2225',\n       '2023-wimbledon-2226', '2023-wimbledon-2227',\n       '2023-wimbledon-2228', '2023-wimbledon-2229',\n       '2023-wimbledon-2230', '2023-wimbledon-2231',\n       '2023-wimbledon-2232', '2023-wimbledon-2301',\n       '2023-wimbledon-2302', '2023-wimbledon-2303',\n       '2023-wimbledon-2304', '2023-wimbledon-2305',\n       '2023-wimbledon-2306', '2023-wimbledon-2307',\n       '2023-wimbledon-2308', '2023-wimbledon-2309',\n       '2023-wimbledon-2310', '2023-wimbledon-2311',\n       '2023-wimbledon-2312', '2023-wimbledon-2313',\n       '2023-wimbledon-2314', '2023-wimbledon-2315',\n       '2023-wimbledon-2316', '2023-wimbledon-2401',\n       '2023-wimbledon-2402', '2023-wimbledon-2403',\n       '2023-wimbledon-2404', '2023-wimbledon-2405',\n       '2023-wimbledon-2406', '2023-wimbledon-2407',\n       '2023-wimbledon-2408', '2023-wimbledon-2501',\n       '2023-wimbledon-2502', '2023-wimbledon-2503',\n       '2023-wimbledon-2504', '2023-wimbledon-2601',\n       '2023-wimbledon-2602', '2023-wimbledon-2701'], dtype=object)"
     },
     "execution_count": 5,
     "metadata": {},
     "output_type": "execute_result"
    }
   ],
   "source": [
    "pbp['match_id'].unique()"
   ],
   "metadata": {
    "collapsed": false,
    "ExecuteTime": {
     "end_time": "2024-09-14T00:08:13.091033Z",
     "start_time": "2024-09-14T00:08:13.075029Z"
    }
   },
   "id": "2217dbc9e0fec209",
   "execution_count": 5
  },
  {
   "cell_type": "code",
   "outputs": [],
   "source": [
    "charting = pd.read_csv('tennis_MatchChartingProject-master/charting-m-points-2020s.csv', encoding= 'latin1', low_memory=False)"
   ],
   "metadata": {
    "collapsed": false,
    "ExecuteTime": {
     "end_time": "2024-09-14T00:08:13.807193Z",
     "start_time": "2024-09-14T00:08:13.092033Z"
    }
   },
   "id": "3fb35c41ac7beea9",
   "execution_count": 6
  },
  {
   "cell_type": "code",
   "outputs": [
    {
     "data": {
      "text/plain": "4.145064043563409"
     },
     "execution_count": 7,
     "metadata": {},
     "output_type": "execute_result"
    }
   ],
   "source": [
    "charting['rallyCount'] = pd.to_numeric(charting['rallyCount'], errors='coerce')\n",
    "charting['rallyCount'].mean()"
   ],
   "metadata": {
    "collapsed": false,
    "ExecuteTime": {
     "end_time": "2024-09-14T00:08:13.951226Z",
     "start_time": "2024-09-14T00:08:13.808194Z"
    }
   },
   "id": "2f52e8ad208fef2c",
   "execution_count": 7
  },
  {
   "cell_type": "code",
   "outputs": [
    {
     "data": {
      "text/plain": "'4b2d#'"
     },
     "execution_count": 8,
     "metadata": {},
     "output_type": "execute_result"
    }
   ],
   "source": [
    "charting.iloc[65]['1st'] "
   ],
   "metadata": {
    "collapsed": false,
    "ExecuteTime": {
     "end_time": "2024-09-14T00:08:13.967229Z",
     "start_time": "2024-09-14T00:08:13.952225Z"
    }
   },
   "id": "47792fc52636f20a",
   "execution_count": 8
  },
  {
   "cell_type": "code",
   "outputs": [
    {
     "data": {
      "text/plain": "0"
     },
     "execution_count": 9,
     "metadata": {},
     "output_type": "execute_result"
    }
   ],
   "source": [
    "partidos = pd.Series(charting['match_id'].unique())\n",
    "partidos.str.contains('Del Potro').sum()"
   ],
   "metadata": {
    "collapsed": false,
    "ExecuteTime": {
     "end_time": "2024-09-14T00:08:14.015244Z",
     "start_time": "2024-09-14T00:08:13.968230Z"
    }
   },
   "id": "f9bf79ed6c8f7235",
   "execution_count": 9
  },
  {
   "cell_type": "markdown",
   "source": [
    "# Rally tokenization"
   ],
   "metadata": {
    "collapsed": false
   },
   "id": "48dbe2964757ddb4"
  },
  {
   "cell_type": "code",
   "outputs": [],
   "source": [
    "# Quito informacion adicional que no aporta informacion relevante\n",
    "charting['1st'] = charting['1st'].str.replace(r'[c\\-=\\+;\\^]', '', regex = True)\n",
    "charting['2nd'] = charting['2nd'].str.replace(r'[c\\-=\\+;\\^]', '', regex = True)"
   ],
   "metadata": {
    "collapsed": false,
    "ExecuteTime": {
     "end_time": "2024-09-14T00:08:14.251297Z",
     "start_time": "2024-09-14T00:08:14.017246Z"
    }
   },
   "id": "e7542b55f0ce298e",
   "execution_count": 10
  },
  {
   "cell_type": "markdown",
   "source": [
    "#2da manera"
   ],
   "metadata": {
    "collapsed": false
   },
   "id": "cac6f896286c7d90"
  },
  {
   "cell_type": "code",
   "outputs": [],
   "source": [
    "import pandas as pd\n",
    "import re\n",
    "\n",
    "errores = r'[ndxwg!e+]' \n",
    "\n",
    "# Parsing function (customize as needed)\n",
    "def parse_sequence(sequence):\n",
    "    result = []\n",
    "    pos = 0  # Initialize position\n",
    "\n",
    "    # Extract the serve data\n",
    "    serve_pattern = rf'^([456]{errores}?)'\n",
    "    match = re.match(serve_pattern, sequence)\n",
    "    if match:\n",
    "        serve = match.group(1)\n",
    "        result.append(serve)\n",
    "        pos = match.end()\n",
    "\n",
    "    # Extract shot 1\n",
    "    shot1_pattern = fr'([a-zA-Z]\\d[789]?{errores}?)'\n",
    "    match = re.match(shot1_pattern, sequence[pos:])\n",
    "    if match:\n",
    "        shot1 = match.group(1)\n",
    "        result.append(shot1)\n",
    "        pos += match.end()\n",
    "\n",
    "    # Extract shots 2 to n\n",
    "    shots_pattern = rf'([a-zA-Z]\\d{errores}?)'\n",
    "    shots_matches = re.finditer(shots_pattern, sequence[pos:])\n",
    "    for m in shots_matches:\n",
    "        result.append(m.group(1))\n",
    "    pos += m.end() if 'm' in locals() else 0\n",
    "\n",
    "    # Extract the error\n",
    "    error = sequence[pos:]\n",
    "    if error:\n",
    "        result.append(error)\n",
    "\n",
    "    #count the number of shots\n",
    "    rallyCount = len(result) - 1\n",
    "\n",
    "    return f'{rallyCount}: ' + ' -> '.join(result)"
   ],
   "metadata": {
    "collapsed": false,
    "ExecuteTime": {
     "end_time": "2024-09-14T00:08:14.267300Z",
     "start_time": "2024-09-14T00:08:14.252298Z"
    }
   },
   "id": "2c6890747ad4c971",
   "execution_count": 11
  },
  {
   "cell_type": "code",
   "outputs": [],
   "source": [
    "charting['1st_test'] = charting['1st'].apply(parse_sequence)\n",
    "\n",
    "charting['2nd'] = charting['2nd'].astype(str)\n",
    "charting['2nd_test'] = charting['2nd'].apply(parse_sequence)"
   ],
   "metadata": {
    "collapsed": false,
    "ExecuteTime": {
     "end_time": "2024-09-14T00:08:16.471328Z",
     "start_time": "2024-09-14T00:08:14.268302Z"
    }
   },
   "id": "669534c4291e1c2d",
   "execution_count": 12
  },
  {
   "cell_type": "code",
   "outputs": [
    {
     "data": {
      "text/plain": "                                                 match_id   Pt  Set1  Set2  \\\n0       20230908-M-US_Open-SF-Novak_Djokovic_-Ben_Shelton    1     0     0   \n1       20230908-M-US_Open-SF-Novak_Djokovic_-Ben_Shelton    2     0     0   \n2       20230908-M-US_Open-SF-Novak_Djokovic_-Ben_Shelton    3     0     0   \n3       20230908-M-US_Open-SF-Novak_Djokovic_-Ben_Shelton    4     0     0   \n4       20230908-M-US_Open-SF-Novak_Djokovic_-Ben_Shelton    5     0     0   \n...                                                   ...  ...   ...   ...   \n246625  20200103-M-ATP_Cup-RR-Alex_De_Minaur-Alexander...  203     1     1   \n246626  20200103-M-ATP_Cup-RR-Alex_De_Minaur-Alexander...  204     1     1   \n246627  20200103-M-ATP_Cup-RR-Alex_De_Minaur-Alexander...  205     1     1   \n246628  20200103-M-ATP_Cup-RR-Alex_De_Minaur-Alexander...  206     1     1   \n246629  20200103-M-ATP_Cup-RR-Alex_De_Minaur-Alexander...  207     1     1   \n\n        Gm1  Gm2    Pts     Gm# TbSet TB?  ...  isUnret  isRallyWinner  \\\n0         0    0    0-0   1 (1)     1   0  ...    False          False   \n1         0    0   15-0   1 (2)     1   0  ...    False           True   \n2         0    0  15-15   1 (3)     1   0  ...    False           True   \n3         0    0  15-30   1 (4)     1   0  ...    False           True   \n4         0    0  30-30   1 (5)     1   0  ...    False           True   \n...     ...  ...    ...     ...   ...  ..  ...      ...            ...   \n246625    5    2   15-0  31 (2)     1   0  ...    False          False   \n246626    5    2   30-0  31 (3)     1   0  ...    False           True   \n246627    5    2   40-0  31 (4)     1   0  ...    False          False   \n246628    5    2  40-15  31 (5)     1   0  ...    False          False   \n246629    5    2  40-30  31 (6)     1   0  ...    False          False   \n\n        isForced isUnforced isDouble PtWinner isSvrWinner  rallyCount  \\\n0           True      False    False        1           1         1.0   \n1          False      False    False        2           0         8.0   \n2          False      False    False        2           0         4.0   \n3          False      False    False        1           1         3.0   \n4          False      False    False        1           1         3.0   \n...          ...        ...      ...      ...         ...         ...   \n246625     False       True    False        1           1        11.0   \n246626     False      False    False        1           1         9.0   \n246627     False       True    False        2           0        10.0   \n246628     False       True    False        2           0         6.0   \n246629      True      False    False        1           1        11.0   \n\n                                                 1st_test  \\\n0                                        2: 6 -> f2n -> #   \n1                                                   0: 4n   \n2                                                   0: 4d   \n3                                  3: 6 -> s28 -> f3 -> *   \n4                                  3: 4 -> b37 -> b3 -> *   \n...                                                   ...   \n246625                                              0: 6w   \n246626                                              0: 4n   \n246627  11: 6 -> f28 -> b2 -> b3 -> b2 -> f1 -> f1 -> ...   \n246628    7: 5 -> b37 -> b2 -> b1 -> f2 -> f2 -> b2d -> @   \n246629  12: 6 -> f28 -> f1 -> f1 -> f1 -> f2 -> b1 -> ...   \n\n                                                 2nd_test  \n0                                                  0: nan  \n1       8: 6 -> b19 -> f1 -> b2 -> s1 -> f3 -> f2 -> j...  \n2                            4: 4 -> b28 -> f2 -> o1 -> *  \n3                                                  0: nan  \n4                                                  0: nan  \n...                                                   ...  \n246625  12: 5 -> b39 -> b2 -> f1 -> f1 -> f2 -> b2 -> ...  \n246626  9: 4 -> f28 -> f3 -> b2 -> f1 -> f2 -> f1 -> r...  \n246627                                             0: nan  \n246628                                             0: nan  \n246629                                             0: nan  \n\n[246630 rows x 32 columns]",
      "text/html": "<div>\n<style scoped>\n    .dataframe tbody tr th:only-of-type {\n        vertical-align: middle;\n    }\n\n    .dataframe tbody tr th {\n        vertical-align: top;\n    }\n\n    .dataframe thead th {\n        text-align: right;\n    }\n</style>\n<table border=\"1\" class=\"dataframe\">\n  <thead>\n    <tr style=\"text-align: right;\">\n      <th></th>\n      <th>match_id</th>\n      <th>Pt</th>\n      <th>Set1</th>\n      <th>Set2</th>\n      <th>Gm1</th>\n      <th>Gm2</th>\n      <th>Pts</th>\n      <th>Gm#</th>\n      <th>TbSet</th>\n      <th>TB?</th>\n      <th>...</th>\n      <th>isUnret</th>\n      <th>isRallyWinner</th>\n      <th>isForced</th>\n      <th>isUnforced</th>\n      <th>isDouble</th>\n      <th>PtWinner</th>\n      <th>isSvrWinner</th>\n      <th>rallyCount</th>\n      <th>1st_test</th>\n      <th>2nd_test</th>\n    </tr>\n  </thead>\n  <tbody>\n    <tr>\n      <th>0</th>\n      <td>20230908-M-US_Open-SF-Novak_Djokovic_-Ben_Shelton</td>\n      <td>1</td>\n      <td>0</td>\n      <td>0</td>\n      <td>0</td>\n      <td>0</td>\n      <td>0-0</td>\n      <td>1 (1)</td>\n      <td>1</td>\n      <td>0</td>\n      <td>...</td>\n      <td>False</td>\n      <td>False</td>\n      <td>True</td>\n      <td>False</td>\n      <td>False</td>\n      <td>1</td>\n      <td>1</td>\n      <td>1.0</td>\n      <td>2: 6 -&gt; f2n -&gt; #</td>\n      <td>0: nan</td>\n    </tr>\n    <tr>\n      <th>1</th>\n      <td>20230908-M-US_Open-SF-Novak_Djokovic_-Ben_Shelton</td>\n      <td>2</td>\n      <td>0</td>\n      <td>0</td>\n      <td>0</td>\n      <td>0</td>\n      <td>15-0</td>\n      <td>1 (2)</td>\n      <td>1</td>\n      <td>0</td>\n      <td>...</td>\n      <td>False</td>\n      <td>True</td>\n      <td>False</td>\n      <td>False</td>\n      <td>False</td>\n      <td>2</td>\n      <td>0</td>\n      <td>8.0</td>\n      <td>0: 4n</td>\n      <td>8: 6 -&gt; b19 -&gt; f1 -&gt; b2 -&gt; s1 -&gt; f3 -&gt; f2 -&gt; j...</td>\n    </tr>\n    <tr>\n      <th>2</th>\n      <td>20230908-M-US_Open-SF-Novak_Djokovic_-Ben_Shelton</td>\n      <td>3</td>\n      <td>0</td>\n      <td>0</td>\n      <td>0</td>\n      <td>0</td>\n      <td>15-15</td>\n      <td>1 (3)</td>\n      <td>1</td>\n      <td>0</td>\n      <td>...</td>\n      <td>False</td>\n      <td>True</td>\n      <td>False</td>\n      <td>False</td>\n      <td>False</td>\n      <td>2</td>\n      <td>0</td>\n      <td>4.0</td>\n      <td>0: 4d</td>\n      <td>4: 4 -&gt; b28 -&gt; f2 -&gt; o1 -&gt; *</td>\n    </tr>\n    <tr>\n      <th>3</th>\n      <td>20230908-M-US_Open-SF-Novak_Djokovic_-Ben_Shelton</td>\n      <td>4</td>\n      <td>0</td>\n      <td>0</td>\n      <td>0</td>\n      <td>0</td>\n      <td>15-30</td>\n      <td>1 (4)</td>\n      <td>1</td>\n      <td>0</td>\n      <td>...</td>\n      <td>False</td>\n      <td>True</td>\n      <td>False</td>\n      <td>False</td>\n      <td>False</td>\n      <td>1</td>\n      <td>1</td>\n      <td>3.0</td>\n      <td>3: 6 -&gt; s28 -&gt; f3 -&gt; *</td>\n      <td>0: nan</td>\n    </tr>\n    <tr>\n      <th>4</th>\n      <td>20230908-M-US_Open-SF-Novak_Djokovic_-Ben_Shelton</td>\n      <td>5</td>\n      <td>0</td>\n      <td>0</td>\n      <td>0</td>\n      <td>0</td>\n      <td>30-30</td>\n      <td>1 (5)</td>\n      <td>1</td>\n      <td>0</td>\n      <td>...</td>\n      <td>False</td>\n      <td>True</td>\n      <td>False</td>\n      <td>False</td>\n      <td>False</td>\n      <td>1</td>\n      <td>1</td>\n      <td>3.0</td>\n      <td>3: 4 -&gt; b37 -&gt; b3 -&gt; *</td>\n      <td>0: nan</td>\n    </tr>\n    <tr>\n      <th>...</th>\n      <td>...</td>\n      <td>...</td>\n      <td>...</td>\n      <td>...</td>\n      <td>...</td>\n      <td>...</td>\n      <td>...</td>\n      <td>...</td>\n      <td>...</td>\n      <td>...</td>\n      <td>...</td>\n      <td>...</td>\n      <td>...</td>\n      <td>...</td>\n      <td>...</td>\n      <td>...</td>\n      <td>...</td>\n      <td>...</td>\n      <td>...</td>\n      <td>...</td>\n      <td>...</td>\n    </tr>\n    <tr>\n      <th>246625</th>\n      <td>20200103-M-ATP_Cup-RR-Alex_De_Minaur-Alexander...</td>\n      <td>203</td>\n      <td>1</td>\n      <td>1</td>\n      <td>5</td>\n      <td>2</td>\n      <td>15-0</td>\n      <td>31 (2)</td>\n      <td>1</td>\n      <td>0</td>\n      <td>...</td>\n      <td>False</td>\n      <td>False</td>\n      <td>False</td>\n      <td>True</td>\n      <td>False</td>\n      <td>1</td>\n      <td>1</td>\n      <td>11.0</td>\n      <td>0: 6w</td>\n      <td>12: 5 -&gt; b39 -&gt; b2 -&gt; f1 -&gt; f1 -&gt; f2 -&gt; b2 -&gt; ...</td>\n    </tr>\n    <tr>\n      <th>246626</th>\n      <td>20200103-M-ATP_Cup-RR-Alex_De_Minaur-Alexander...</td>\n      <td>204</td>\n      <td>1</td>\n      <td>1</td>\n      <td>5</td>\n      <td>2</td>\n      <td>30-0</td>\n      <td>31 (3)</td>\n      <td>1</td>\n      <td>0</td>\n      <td>...</td>\n      <td>False</td>\n      <td>True</td>\n      <td>False</td>\n      <td>False</td>\n      <td>False</td>\n      <td>1</td>\n      <td>1</td>\n      <td>9.0</td>\n      <td>0: 4n</td>\n      <td>9: 4 -&gt; f28 -&gt; f3 -&gt; b2 -&gt; f1 -&gt; f2 -&gt; f1 -&gt; r...</td>\n    </tr>\n    <tr>\n      <th>246627</th>\n      <td>20200103-M-ATP_Cup-RR-Alex_De_Minaur-Alexander...</td>\n      <td>205</td>\n      <td>1</td>\n      <td>1</td>\n      <td>5</td>\n      <td>2</td>\n      <td>40-0</td>\n      <td>31 (4)</td>\n      <td>1</td>\n      <td>0</td>\n      <td>...</td>\n      <td>False</td>\n      <td>False</td>\n      <td>False</td>\n      <td>True</td>\n      <td>False</td>\n      <td>2</td>\n      <td>0</td>\n      <td>10.0</td>\n      <td>11: 6 -&gt; f28 -&gt; b2 -&gt; b3 -&gt; b2 -&gt; f1 -&gt; f1 -&gt; ...</td>\n      <td>0: nan</td>\n    </tr>\n    <tr>\n      <th>246628</th>\n      <td>20200103-M-ATP_Cup-RR-Alex_De_Minaur-Alexander...</td>\n      <td>206</td>\n      <td>1</td>\n      <td>1</td>\n      <td>5</td>\n      <td>2</td>\n      <td>40-15</td>\n      <td>31 (5)</td>\n      <td>1</td>\n      <td>0</td>\n      <td>...</td>\n      <td>False</td>\n      <td>False</td>\n      <td>False</td>\n      <td>True</td>\n      <td>False</td>\n      <td>2</td>\n      <td>0</td>\n      <td>6.0</td>\n      <td>7: 5 -&gt; b37 -&gt; b2 -&gt; b1 -&gt; f2 -&gt; f2 -&gt; b2d -&gt; @</td>\n      <td>0: nan</td>\n    </tr>\n    <tr>\n      <th>246629</th>\n      <td>20200103-M-ATP_Cup-RR-Alex_De_Minaur-Alexander...</td>\n      <td>207</td>\n      <td>1</td>\n      <td>1</td>\n      <td>5</td>\n      <td>2</td>\n      <td>40-30</td>\n      <td>31 (6)</td>\n      <td>1</td>\n      <td>0</td>\n      <td>...</td>\n      <td>False</td>\n      <td>False</td>\n      <td>True</td>\n      <td>False</td>\n      <td>False</td>\n      <td>1</td>\n      <td>1</td>\n      <td>11.0</td>\n      <td>12: 6 -&gt; f28 -&gt; f1 -&gt; f1 -&gt; f1 -&gt; f2 -&gt; b1 -&gt; ...</td>\n      <td>0: nan</td>\n    </tr>\n  </tbody>\n</table>\n<p>246630 rows × 32 columns</p>\n</div>"
     },
     "execution_count": 13,
     "metadata": {},
     "output_type": "execute_result"
    }
   ],
   "source": [
    "charting"
   ],
   "metadata": {
    "collapsed": false,
    "ExecuteTime": {
     "end_time": "2024-09-14T00:08:16.583353Z",
     "start_time": "2024-09-14T00:08:16.472329Z"
    }
   },
   "id": "85a22e4684e0b19a",
   "execution_count": 13
  },
  {
   "cell_type": "code",
   "outputs": [],
   "source": [
    "def get_rally_count(row):\n",
    "    if row['1stIn'] == 1:\n",
    "        if row['1st_test'][-1] != '*':\n",
    "            return int(row['1st_test'].split(':')[0]) - 1\n",
    "        else:\n",
    "            return int(row['1st_test'].split(':')[0])\n",
    "    else:\n",
    "        if row['2nd_test'][-1] != '*':\n",
    "            return int(row['2nd_test'].split(':')[0]) - 1\n",
    "        else:\n",
    "            return int(row['2nd_test'].split(':')[0])"
   ],
   "metadata": {
    "collapsed": false,
    "ExecuteTime": {
     "end_time": "2024-09-14T00:08:16.599357Z",
     "start_time": "2024-09-14T00:08:16.584354Z"
    }
   },
   "id": "ffbff22ce1262f89",
   "execution_count": 14
  },
  {
   "cell_type": "code",
   "outputs": [],
   "source": [
    "charting.loc[:, 'rallyCountVerification'] = charting.apply(get_rally_count, axis=1)\n",
    "charting.loc[:, 'rallyCountVerification'] = charting['rallyCountVerification'].apply(lambda x: x if x != -1 else 0)"
   ],
   "metadata": {
    "collapsed": false,
    "ExecuteTime": {
     "end_time": "2024-09-14T00:08:18.957884Z",
     "start_time": "2024-09-14T00:08:16.599357Z"
    }
   },
   "id": "3fca4cc043a5c604",
   "execution_count": 15
  },
  {
   "cell_type": "code",
   "outputs": [
    {
     "name": "stderr",
     "output_type": "stream",
     "text": [
      "C:\\Users\\agusd\\AppData\\Local\\Temp\\ipykernel_428\\1235348759.py:2: SettingWithCopyWarning: \n",
      "A value is trying to be set on a copy of a slice from a DataFrame.\n",
      "Try using .loc[row_indexer,col_indexer] = value instead\n",
      "\n",
      "See the caveats in the documentation: https://pandas.pydata.org/pandas-docs/stable/user_guide/indexing.html#returning-a-view-versus-a-copy\n",
      "  charting.loc[:,'rallyCount'] = charting['rallyCount'].astype(int)\n",
      "C:\\Users\\agusd\\AppData\\Local\\Temp\\ipykernel_428\\1235348759.py:2: DeprecationWarning: In a future version, `df.iloc[:, i] = newvals` will attempt to set the values inplace instead of always setting a new array. To retain the old behavior, use either `df[df.columns[i]] = newvals` or, if columns are non-unique, `df.isetitem(i, newvals)`\n",
      "  charting.loc[:,'rallyCount'] = charting['rallyCount'].astype(int)\n"
     ]
    }
   ],
   "source": [
    "charting = charting.dropna(subset=['rallyCount'])\n",
    "charting.loc[:,'rallyCount'] = charting['rallyCount'].astype(int)"
   ],
   "metadata": {
    "collapsed": false,
    "ExecuteTime": {
     "end_time": "2024-09-14T00:08:19.021899Z",
     "start_time": "2024-09-14T00:08:18.958886Z"
    }
   },
   "id": "91c8e5214c5996be",
   "execution_count": 16
  },
  {
   "cell_type": "code",
   "outputs": [
    {
     "data": {
      "text/plain": "                                              match_id   Pt  Set1  Set2  Gm1  \\\n15   20230908-M-US_Open-SF-Novak_Djokovic_-Ben_Shelton   16     0     0    2   \n91   20230908-M-US_Open-SF-Novak_Djokovic_-Ben_Shelton   92     1     0    4   \n119  20230908-M-US_Open-SF-Novak_Djokovic_-Ben_Shelton  120     2     0    2   \n125  20230908-M-US_Open-SF-Novak_Djokovic_-Ben_Shelton  126     2     0    2   \n133  20230908-M-US_Open-SF-Novak_Djokovic_-Ben_Shelton  134     2     0    3   \n\n     Gm2    Pts     Gm# TbSet TB?  ...  isRallyWinner  isForced  isUnforced  \\\n15     1   15-0   4 (2)     1   0  ...          False      True       False   \n91     2  30-40  16 (6)     1   0  ...          False      True       False   \n119    0    0-0  20 (1)     1   0  ...          False      True       False   \n125    1   15-0  21 (2)     1   0  ...          False      True       False   \n133    1   0-15  22 (2)     1   0  ...          False     False       False   \n\n    isDouble PtWinner isSvrWinner rallyCount                       1st_test  \\\n15     False        1           0          4  4: 4 -> b37 -> h1 -> f1 -> z#   \n91     False        2           1          3        3: 4 -> b38 -> f1 -> f#   \n119    False        2           1          3                          0: 4w   \n125    False        2           0         22                          0: 4n   \n133    False        2           1          1                      1: 5 -> #   \n\n                                              2nd_test  rallyCountVerification  \n15                                              0: nan                       3  \n91                                              0: nan                       2  \n119                            3: 5 -> b29 -> f1 -> f#                       2  \n125  22: 6 -> b28 -> f2 -> b2 -> b2 -> b1 -> f1 -> ...                      21  \n133                                             0: nan                       0  \n\n[5 rows x 33 columns]",
      "text/html": "<div>\n<style scoped>\n    .dataframe tbody tr th:only-of-type {\n        vertical-align: middle;\n    }\n\n    .dataframe tbody tr th {\n        vertical-align: top;\n    }\n\n    .dataframe thead th {\n        text-align: right;\n    }\n</style>\n<table border=\"1\" class=\"dataframe\">\n  <thead>\n    <tr style=\"text-align: right;\">\n      <th></th>\n      <th>match_id</th>\n      <th>Pt</th>\n      <th>Set1</th>\n      <th>Set2</th>\n      <th>Gm1</th>\n      <th>Gm2</th>\n      <th>Pts</th>\n      <th>Gm#</th>\n      <th>TbSet</th>\n      <th>TB?</th>\n      <th>...</th>\n      <th>isRallyWinner</th>\n      <th>isForced</th>\n      <th>isUnforced</th>\n      <th>isDouble</th>\n      <th>PtWinner</th>\n      <th>isSvrWinner</th>\n      <th>rallyCount</th>\n      <th>1st_test</th>\n      <th>2nd_test</th>\n      <th>rallyCountVerification</th>\n    </tr>\n  </thead>\n  <tbody>\n    <tr>\n      <th>15</th>\n      <td>20230908-M-US_Open-SF-Novak_Djokovic_-Ben_Shelton</td>\n      <td>16</td>\n      <td>0</td>\n      <td>0</td>\n      <td>2</td>\n      <td>1</td>\n      <td>15-0</td>\n      <td>4 (2)</td>\n      <td>1</td>\n      <td>0</td>\n      <td>...</td>\n      <td>False</td>\n      <td>True</td>\n      <td>False</td>\n      <td>False</td>\n      <td>1</td>\n      <td>0</td>\n      <td>4</td>\n      <td>4: 4 -&gt; b37 -&gt; h1 -&gt; f1 -&gt; z#</td>\n      <td>0: nan</td>\n      <td>3</td>\n    </tr>\n    <tr>\n      <th>91</th>\n      <td>20230908-M-US_Open-SF-Novak_Djokovic_-Ben_Shelton</td>\n      <td>92</td>\n      <td>1</td>\n      <td>0</td>\n      <td>4</td>\n      <td>2</td>\n      <td>30-40</td>\n      <td>16 (6)</td>\n      <td>1</td>\n      <td>0</td>\n      <td>...</td>\n      <td>False</td>\n      <td>True</td>\n      <td>False</td>\n      <td>False</td>\n      <td>2</td>\n      <td>1</td>\n      <td>3</td>\n      <td>3: 4 -&gt; b38 -&gt; f1 -&gt; f#</td>\n      <td>0: nan</td>\n      <td>2</td>\n    </tr>\n    <tr>\n      <th>119</th>\n      <td>20230908-M-US_Open-SF-Novak_Djokovic_-Ben_Shelton</td>\n      <td>120</td>\n      <td>2</td>\n      <td>0</td>\n      <td>2</td>\n      <td>0</td>\n      <td>0-0</td>\n      <td>20 (1)</td>\n      <td>1</td>\n      <td>0</td>\n      <td>...</td>\n      <td>False</td>\n      <td>True</td>\n      <td>False</td>\n      <td>False</td>\n      <td>2</td>\n      <td>1</td>\n      <td>3</td>\n      <td>0: 4w</td>\n      <td>3: 5 -&gt; b29 -&gt; f1 -&gt; f#</td>\n      <td>2</td>\n    </tr>\n    <tr>\n      <th>125</th>\n      <td>20230908-M-US_Open-SF-Novak_Djokovic_-Ben_Shelton</td>\n      <td>126</td>\n      <td>2</td>\n      <td>0</td>\n      <td>2</td>\n      <td>1</td>\n      <td>15-0</td>\n      <td>21 (2)</td>\n      <td>1</td>\n      <td>0</td>\n      <td>...</td>\n      <td>False</td>\n      <td>True</td>\n      <td>False</td>\n      <td>False</td>\n      <td>2</td>\n      <td>0</td>\n      <td>22</td>\n      <td>0: 4n</td>\n      <td>22: 6 -&gt; b28 -&gt; f2 -&gt; b2 -&gt; b2 -&gt; b1 -&gt; f1 -&gt; ...</td>\n      <td>21</td>\n    </tr>\n    <tr>\n      <th>133</th>\n      <td>20230908-M-US_Open-SF-Novak_Djokovic_-Ben_Shelton</td>\n      <td>134</td>\n      <td>2</td>\n      <td>0</td>\n      <td>3</td>\n      <td>1</td>\n      <td>0-15</td>\n      <td>22 (2)</td>\n      <td>1</td>\n      <td>0</td>\n      <td>...</td>\n      <td>False</td>\n      <td>False</td>\n      <td>False</td>\n      <td>False</td>\n      <td>2</td>\n      <td>1</td>\n      <td>1</td>\n      <td>1: 5 -&gt; #</td>\n      <td>0: nan</td>\n      <td>0</td>\n    </tr>\n  </tbody>\n</table>\n<p>5 rows × 33 columns</p>\n</div>"
     },
     "execution_count": 17,
     "metadata": {},
     "output_type": "execute_result"
    }
   ],
   "source": [
    "#De esta manera se puede ver cuantos valores son diferentes, comprobando que la diferencia se da por errores de data entry\n",
    "differences = charting[charting['rallyCountVerification'].ne(charting['rallyCount'])]\n",
    "differences.head()"
   ],
   "metadata": {
    "collapsed": false,
    "ExecuteTime": {
     "end_time": "2024-09-14T00:08:19.053906Z",
     "start_time": "2024-09-14T00:08:19.022899Z"
    }
   },
   "id": "cfa1cbb2d655ed0c",
   "execution_count": 17
  },
  {
   "cell_type": "code",
   "outputs": [
    {
     "name": "stderr",
     "output_type": "stream",
     "text": [
      "C:\\Users\\agusd\\AppData\\Local\\Temp\\ipykernel_428\\4105296349.py:1: SettingWithCopyWarning: \n",
      "A value is trying to be set on a copy of a slice from a DataFrame.\n",
      "Try using .loc[row_indexer,col_indexer] = value instead\n",
      "\n",
      "See the caveats in the documentation: https://pandas.pydata.org/pandas-docs/stable/user_guide/indexing.html#returning-a-view-versus-a-copy\n",
      "  charting.loc[:,'1st_test'] = charting['1st_test'].str.split(':').str[1]\n",
      "C:\\Users\\agusd\\AppData\\Local\\Temp\\ipykernel_428\\4105296349.py:2: SettingWithCopyWarning: \n",
      "A value is trying to be set on a copy of a slice from a DataFrame.\n",
      "Try using .loc[row_indexer,col_indexer] = value instead\n",
      "\n",
      "See the caveats in the documentation: https://pandas.pydata.org/pandas-docs/stable/user_guide/indexing.html#returning-a-view-versus-a-copy\n",
      "  charting.loc[:,'2nd_test'] = charting['2nd_test'].str.split(':').str[1]\n"
     ]
    }
   ],
   "source": [
    "charting.loc[:,'1st_test'] = charting['1st_test'].str.split(':').str[1]\n",
    "charting.loc[:,'2nd_test'] = charting['2nd_test'].str.split(':').str[1]"
   ],
   "metadata": {
    "collapsed": false,
    "ExecuteTime": {
     "end_time": "2024-09-14T00:08:19.848604Z",
     "start_time": "2024-09-14T00:08:19.054907Z"
    }
   },
   "id": "dc6766ce4c3f453b",
   "execution_count": 18
  },
  {
   "cell_type": "code",
   "outputs": [
    {
     "data": {
      "text/plain": "                                                 match_id   Pt  Set1  Set2  \\\n0       20230908-M-US_Open-SF-Novak_Djokovic_-Ben_Shelton    1     0     0   \n1       20230908-M-US_Open-SF-Novak_Djokovic_-Ben_Shelton    2     0     0   \n2       20230908-M-US_Open-SF-Novak_Djokovic_-Ben_Shelton    3     0     0   \n3       20230908-M-US_Open-SF-Novak_Djokovic_-Ben_Shelton    4     0     0   \n4       20230908-M-US_Open-SF-Novak_Djokovic_-Ben_Shelton    5     0     0   \n...                                                   ...  ...   ...   ...   \n246625  20200103-M-ATP_Cup-RR-Alex_De_Minaur-Alexander...  203     1     1   \n246626  20200103-M-ATP_Cup-RR-Alex_De_Minaur-Alexander...  204     1     1   \n246627  20200103-M-ATP_Cup-RR-Alex_De_Minaur-Alexander...  205     1     1   \n246628  20200103-M-ATP_Cup-RR-Alex_De_Minaur-Alexander...  206     1     1   \n246629  20200103-M-ATP_Cup-RR-Alex_De_Minaur-Alexander...  207     1     1   \n\n        Gm1  Gm2    Pts     Gm# TbSet TB?  ...  isRallyWinner  isForced  \\\n0         0    0    0-0   1 (1)     1   0  ...          False      True   \n1         0    0   15-0   1 (2)     1   0  ...           True     False   \n2         0    0  15-15   1 (3)     1   0  ...           True     False   \n3         0    0  15-30   1 (4)     1   0  ...           True     False   \n4         0    0  30-30   1 (5)     1   0  ...           True     False   \n...     ...  ...    ...     ...   ...  ..  ...            ...       ...   \n246625    5    2   15-0  31 (2)     1   0  ...          False     False   \n246626    5    2   30-0  31 (3)     1   0  ...           True     False   \n246627    5    2   40-0  31 (4)     1   0  ...          False     False   \n246628    5    2  40-15  31 (5)     1   0  ...          False     False   \n246629    5    2  40-30  31 (6)     1   0  ...          False      True   \n\n        isUnforced isDouble PtWinner isSvrWinner rallyCount  \\\n0            False    False        1           1          1   \n1            False    False        2           0          8   \n2            False    False        2           0          4   \n3            False    False        1           1          3   \n4            False    False        1           1          3   \n...            ...      ...      ...         ...        ...   \n246625        True    False        1           1         11   \n246626       False    False        1           1          9   \n246627        True    False        2           0         10   \n246628        True    False        2           0          6   \n246629       False    False        1           1         11   \n\n                                                 1st_test  \\\n0                                           6 -> f2n -> #   \n1                                                      4n   \n2                                                      4d   \n3                                     6 -> s28 -> f3 -> *   \n4                                     4 -> b37 -> b3 -> *   \n...                                                   ...   \n246625                                                 6w   \n246626                                                 4n   \n246627   6 -> f28 -> b2 -> b3 -> b2 -> f1 -> f1 -> f3 ...   \n246628       5 -> b37 -> b2 -> b1 -> f2 -> f2 -> b2d -> @   \n246629   6 -> f28 -> f1 -> f1 -> f1 -> f2 -> b1 -> f2 ...   \n\n                                                 2nd_test  \\\n0                                                     nan   \n1        6 -> b19 -> f1 -> b2 -> s1 -> f3 -> f2 -> j2 ...   \n2                               4 -> b28 -> f2 -> o1 -> *   \n3                                                     nan   \n4                                                     nan   \n...                                                   ...   \n246625   5 -> b39 -> b2 -> f1 -> f1 -> f2 -> b2 -> b1 ...   \n246626   4 -> f28 -> f3 -> b2 -> f1 -> f2 -> f1 -> r2 ...   \n246627                                                nan   \n246628                                                nan   \n246629                                                nan   \n\n        rallyCountVerification  \n0                            1  \n1                            8  \n2                            4  \n3                            3  \n4                            3  \n...                        ...  \n246625                      11  \n246626                       9  \n246627                      10  \n246628                       6  \n246629                      11  \n\n[224495 rows x 33 columns]",
      "text/html": "<div>\n<style scoped>\n    .dataframe tbody tr th:only-of-type {\n        vertical-align: middle;\n    }\n\n    .dataframe tbody tr th {\n        vertical-align: top;\n    }\n\n    .dataframe thead th {\n        text-align: right;\n    }\n</style>\n<table border=\"1\" class=\"dataframe\">\n  <thead>\n    <tr style=\"text-align: right;\">\n      <th></th>\n      <th>match_id</th>\n      <th>Pt</th>\n      <th>Set1</th>\n      <th>Set2</th>\n      <th>Gm1</th>\n      <th>Gm2</th>\n      <th>Pts</th>\n      <th>Gm#</th>\n      <th>TbSet</th>\n      <th>TB?</th>\n      <th>...</th>\n      <th>isRallyWinner</th>\n      <th>isForced</th>\n      <th>isUnforced</th>\n      <th>isDouble</th>\n      <th>PtWinner</th>\n      <th>isSvrWinner</th>\n      <th>rallyCount</th>\n      <th>1st_test</th>\n      <th>2nd_test</th>\n      <th>rallyCountVerification</th>\n    </tr>\n  </thead>\n  <tbody>\n    <tr>\n      <th>0</th>\n      <td>20230908-M-US_Open-SF-Novak_Djokovic_-Ben_Shelton</td>\n      <td>1</td>\n      <td>0</td>\n      <td>0</td>\n      <td>0</td>\n      <td>0</td>\n      <td>0-0</td>\n      <td>1 (1)</td>\n      <td>1</td>\n      <td>0</td>\n      <td>...</td>\n      <td>False</td>\n      <td>True</td>\n      <td>False</td>\n      <td>False</td>\n      <td>1</td>\n      <td>1</td>\n      <td>1</td>\n      <td>6 -&gt; f2n -&gt; #</td>\n      <td>nan</td>\n      <td>1</td>\n    </tr>\n    <tr>\n      <th>1</th>\n      <td>20230908-M-US_Open-SF-Novak_Djokovic_-Ben_Shelton</td>\n      <td>2</td>\n      <td>0</td>\n      <td>0</td>\n      <td>0</td>\n      <td>0</td>\n      <td>15-0</td>\n      <td>1 (2)</td>\n      <td>1</td>\n      <td>0</td>\n      <td>...</td>\n      <td>True</td>\n      <td>False</td>\n      <td>False</td>\n      <td>False</td>\n      <td>2</td>\n      <td>0</td>\n      <td>8</td>\n      <td>4n</td>\n      <td>6 -&gt; b19 -&gt; f1 -&gt; b2 -&gt; s1 -&gt; f3 -&gt; f2 -&gt; j2 ...</td>\n      <td>8</td>\n    </tr>\n    <tr>\n      <th>2</th>\n      <td>20230908-M-US_Open-SF-Novak_Djokovic_-Ben_Shelton</td>\n      <td>3</td>\n      <td>0</td>\n      <td>0</td>\n      <td>0</td>\n      <td>0</td>\n      <td>15-15</td>\n      <td>1 (3)</td>\n      <td>1</td>\n      <td>0</td>\n      <td>...</td>\n      <td>True</td>\n      <td>False</td>\n      <td>False</td>\n      <td>False</td>\n      <td>2</td>\n      <td>0</td>\n      <td>4</td>\n      <td>4d</td>\n      <td>4 -&gt; b28 -&gt; f2 -&gt; o1 -&gt; *</td>\n      <td>4</td>\n    </tr>\n    <tr>\n      <th>3</th>\n      <td>20230908-M-US_Open-SF-Novak_Djokovic_-Ben_Shelton</td>\n      <td>4</td>\n      <td>0</td>\n      <td>0</td>\n      <td>0</td>\n      <td>0</td>\n      <td>15-30</td>\n      <td>1 (4)</td>\n      <td>1</td>\n      <td>0</td>\n      <td>...</td>\n      <td>True</td>\n      <td>False</td>\n      <td>False</td>\n      <td>False</td>\n      <td>1</td>\n      <td>1</td>\n      <td>3</td>\n      <td>6 -&gt; s28 -&gt; f3 -&gt; *</td>\n      <td>nan</td>\n      <td>3</td>\n    </tr>\n    <tr>\n      <th>4</th>\n      <td>20230908-M-US_Open-SF-Novak_Djokovic_-Ben_Shelton</td>\n      <td>5</td>\n      <td>0</td>\n      <td>0</td>\n      <td>0</td>\n      <td>0</td>\n      <td>30-30</td>\n      <td>1 (5)</td>\n      <td>1</td>\n      <td>0</td>\n      <td>...</td>\n      <td>True</td>\n      <td>False</td>\n      <td>False</td>\n      <td>False</td>\n      <td>1</td>\n      <td>1</td>\n      <td>3</td>\n      <td>4 -&gt; b37 -&gt; b3 -&gt; *</td>\n      <td>nan</td>\n      <td>3</td>\n    </tr>\n    <tr>\n      <th>...</th>\n      <td>...</td>\n      <td>...</td>\n      <td>...</td>\n      <td>...</td>\n      <td>...</td>\n      <td>...</td>\n      <td>...</td>\n      <td>...</td>\n      <td>...</td>\n      <td>...</td>\n      <td>...</td>\n      <td>...</td>\n      <td>...</td>\n      <td>...</td>\n      <td>...</td>\n      <td>...</td>\n      <td>...</td>\n      <td>...</td>\n      <td>...</td>\n      <td>...</td>\n      <td>...</td>\n    </tr>\n    <tr>\n      <th>246625</th>\n      <td>20200103-M-ATP_Cup-RR-Alex_De_Minaur-Alexander...</td>\n      <td>203</td>\n      <td>1</td>\n      <td>1</td>\n      <td>5</td>\n      <td>2</td>\n      <td>15-0</td>\n      <td>31 (2)</td>\n      <td>1</td>\n      <td>0</td>\n      <td>...</td>\n      <td>False</td>\n      <td>False</td>\n      <td>True</td>\n      <td>False</td>\n      <td>1</td>\n      <td>1</td>\n      <td>11</td>\n      <td>6w</td>\n      <td>5 -&gt; b39 -&gt; b2 -&gt; f1 -&gt; f1 -&gt; f2 -&gt; b2 -&gt; b1 ...</td>\n      <td>11</td>\n    </tr>\n    <tr>\n      <th>246626</th>\n      <td>20200103-M-ATP_Cup-RR-Alex_De_Minaur-Alexander...</td>\n      <td>204</td>\n      <td>1</td>\n      <td>1</td>\n      <td>5</td>\n      <td>2</td>\n      <td>30-0</td>\n      <td>31 (3)</td>\n      <td>1</td>\n      <td>0</td>\n      <td>...</td>\n      <td>True</td>\n      <td>False</td>\n      <td>False</td>\n      <td>False</td>\n      <td>1</td>\n      <td>1</td>\n      <td>9</td>\n      <td>4n</td>\n      <td>4 -&gt; f28 -&gt; f3 -&gt; b2 -&gt; f1 -&gt; f2 -&gt; f1 -&gt; r2 ...</td>\n      <td>9</td>\n    </tr>\n    <tr>\n      <th>246627</th>\n      <td>20200103-M-ATP_Cup-RR-Alex_De_Minaur-Alexander...</td>\n      <td>205</td>\n      <td>1</td>\n      <td>1</td>\n      <td>5</td>\n      <td>2</td>\n      <td>40-0</td>\n      <td>31 (4)</td>\n      <td>1</td>\n      <td>0</td>\n      <td>...</td>\n      <td>False</td>\n      <td>False</td>\n      <td>True</td>\n      <td>False</td>\n      <td>2</td>\n      <td>0</td>\n      <td>10</td>\n      <td>6 -&gt; f28 -&gt; b2 -&gt; b3 -&gt; b2 -&gt; f1 -&gt; f1 -&gt; f3 ...</td>\n      <td>nan</td>\n      <td>10</td>\n    </tr>\n    <tr>\n      <th>246628</th>\n      <td>20200103-M-ATP_Cup-RR-Alex_De_Minaur-Alexander...</td>\n      <td>206</td>\n      <td>1</td>\n      <td>1</td>\n      <td>5</td>\n      <td>2</td>\n      <td>40-15</td>\n      <td>31 (5)</td>\n      <td>1</td>\n      <td>0</td>\n      <td>...</td>\n      <td>False</td>\n      <td>False</td>\n      <td>True</td>\n      <td>False</td>\n      <td>2</td>\n      <td>0</td>\n      <td>6</td>\n      <td>5 -&gt; b37 -&gt; b2 -&gt; b1 -&gt; f2 -&gt; f2 -&gt; b2d -&gt; @</td>\n      <td>nan</td>\n      <td>6</td>\n    </tr>\n    <tr>\n      <th>246629</th>\n      <td>20200103-M-ATP_Cup-RR-Alex_De_Minaur-Alexander...</td>\n      <td>207</td>\n      <td>1</td>\n      <td>1</td>\n      <td>5</td>\n      <td>2</td>\n      <td>40-30</td>\n      <td>31 (6)</td>\n      <td>1</td>\n      <td>0</td>\n      <td>...</td>\n      <td>False</td>\n      <td>True</td>\n      <td>False</td>\n      <td>False</td>\n      <td>1</td>\n      <td>1</td>\n      <td>11</td>\n      <td>6 -&gt; f28 -&gt; f1 -&gt; f1 -&gt; f1 -&gt; f2 -&gt; b1 -&gt; f2 ...</td>\n      <td>nan</td>\n      <td>11</td>\n    </tr>\n  </tbody>\n</table>\n<p>224495 rows × 33 columns</p>\n</div>"
     },
     "execution_count": 19,
     "metadata": {},
     "output_type": "execute_result"
    }
   ],
   "source": [
    "charting_limpio = charting[charting['rallyCountVerification'].eq(charting['rallyCount'])]\n",
    "charting_limpio"
   ],
   "metadata": {
    "collapsed": false,
    "ExecuteTime": {
     "end_time": "2024-09-14T00:08:19.990636Z",
     "start_time": "2024-09-14T00:08:19.849605Z"
    }
   },
   "id": "dfa87d3c98ab47d4",
   "execution_count": 19
  },
  {
   "cell_type": "code",
   "outputs": [
    {
     "name": "stdout",
     "output_type": "stream",
     "text": [
      "(224495, 33)\n",
      "(246629, 33)\n"
     ]
    }
   ],
   "source": [
    "print(charting_limpio.shape)\n",
    "print(charting.shape)"
   ],
   "metadata": {
    "collapsed": false,
    "ExecuteTime": {
     "end_time": "2024-09-14T00:08:20.006640Z",
     "start_time": "2024-09-14T00:08:19.991637Z"
    }
   },
   "id": "8186eacd6966ff0",
   "execution_count": 20
  }
 ],
 "metadata": {
  "kernelspec": {
   "display_name": "Python 3",
   "language": "python",
   "name": "python3"
  },
  "language_info": {
   "codemirror_mode": {
    "name": "ipython",
    "version": 2
   },
   "file_extension": ".py",
   "mimetype": "text/x-python",
   "name": "python",
   "nbconvert_exporter": "python",
   "pygments_lexer": "ipython2",
   "version": "2.7.6"
  }
 },
 "nbformat": 4,
 "nbformat_minor": 5
}
