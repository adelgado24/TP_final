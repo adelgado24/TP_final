{
 "cells": [
  {
   "cell_type": "code",
   "execution_count": 1,
   "id": "initial_id",
   "metadata": {
    "collapsed": true,
    "ExecuteTime": {
     "end_time": "2024-09-17T22:23:51.649976Z",
     "start_time": "2024-09-17T22:23:51.363687Z"
    }
   },
   "outputs": [],
   "source": [
    "import pandas as pd\n",
    "import numpy as np\n",
    "import matplotlib.pyplot as plt\n",
    "import seaborn as sns\n",
    "from sklearn.model_selection import train_test_split\n",
    "import chardet\n",
    "import re"
   ]
  },
  {
   "cell_type": "code",
   "outputs": [],
   "source": [
    "df = pd.read_csv('tennis_atp-master/atp_matches_2023.csv')"
   ],
   "metadata": {
    "collapsed": false,
    "ExecuteTime": {
     "end_time": "2024-09-17T22:23:51.681226Z",
     "start_time": "2024-09-17T22:23:51.651134Z"
    }
   },
   "id": "88310a1497237323",
   "execution_count": 2
  },
  {
   "cell_type": "code",
   "outputs": [
    {
     "data": {
      "text/plain": "  tourney_id tourney_name surface  draw_size tourney_level  tourney_date   \n0  2023-9900   United Cup    Hard         18             A      20230102  \\\n1  2023-9900   United Cup    Hard         18             A      20230102   \n2  2023-9900   United Cup    Hard         18             A      20230102   \n3  2023-9900   United Cup    Hard         18             A      20230102   \n4  2023-9900   United Cup    Hard         18             A      20230102   \n\n   match_num  winner_id  winner_seed winner_entry  ... l_1stIn l_1stWon   \n0        300     126203          3.0          NaN  ...    62.0     47.0  \\\n1        299     126207          NaN          NaN  ...    12.0      8.0   \n2        296     126203          3.0          NaN  ...    62.0     51.0   \n3        295     126207          NaN          NaN  ...    41.0     26.0   \n4        292     126774          1.0          NaN  ...    58.0     48.0   \n\n   l_2ndWon l_SvGms  l_bpSaved  l_bpFaced  winner_rank winner_rank_points   \n0      15.0    12.0        9.0        9.0          9.0             3355.0  \\\n1       3.0     4.0        1.0        3.0         19.0             2000.0   \n2       7.0    12.0        2.0        2.0          9.0             3355.0   \n3      12.0     9.0        6.0        9.0         19.0             2000.0   \n4      18.0    16.0        1.0        2.0          4.0             5550.0   \n\n  loser_rank loser_rank_points  \n0       16.0            2375.0  \n1       23.0            1865.0  \n2       10.0            2905.0  \n3      245.0             220.0  \n4       16.0            2375.0  \n\n[5 rows x 49 columns]",
      "text/html": "<div>\n<style scoped>\n    .dataframe tbody tr th:only-of-type {\n        vertical-align: middle;\n    }\n\n    .dataframe tbody tr th {\n        vertical-align: top;\n    }\n\n    .dataframe thead th {\n        text-align: right;\n    }\n</style>\n<table border=\"1\" class=\"dataframe\">\n  <thead>\n    <tr style=\"text-align: right;\">\n      <th></th>\n      <th>tourney_id</th>\n      <th>tourney_name</th>\n      <th>surface</th>\n      <th>draw_size</th>\n      <th>tourney_level</th>\n      <th>tourney_date</th>\n      <th>match_num</th>\n      <th>winner_id</th>\n      <th>winner_seed</th>\n      <th>winner_entry</th>\n      <th>...</th>\n      <th>l_1stIn</th>\n      <th>l_1stWon</th>\n      <th>l_2ndWon</th>\n      <th>l_SvGms</th>\n      <th>l_bpSaved</th>\n      <th>l_bpFaced</th>\n      <th>winner_rank</th>\n      <th>winner_rank_points</th>\n      <th>loser_rank</th>\n      <th>loser_rank_points</th>\n    </tr>\n  </thead>\n  <tbody>\n    <tr>\n      <th>0</th>\n      <td>2023-9900</td>\n      <td>United Cup</td>\n      <td>Hard</td>\n      <td>18</td>\n      <td>A</td>\n      <td>20230102</td>\n      <td>300</td>\n      <td>126203</td>\n      <td>3.0</td>\n      <td>NaN</td>\n      <td>...</td>\n      <td>62.0</td>\n      <td>47.0</td>\n      <td>15.0</td>\n      <td>12.0</td>\n      <td>9.0</td>\n      <td>9.0</td>\n      <td>9.0</td>\n      <td>3355.0</td>\n      <td>16.0</td>\n      <td>2375.0</td>\n    </tr>\n    <tr>\n      <th>1</th>\n      <td>2023-9900</td>\n      <td>United Cup</td>\n      <td>Hard</td>\n      <td>18</td>\n      <td>A</td>\n      <td>20230102</td>\n      <td>299</td>\n      <td>126207</td>\n      <td>NaN</td>\n      <td>NaN</td>\n      <td>...</td>\n      <td>12.0</td>\n      <td>8.0</td>\n      <td>3.0</td>\n      <td>4.0</td>\n      <td>1.0</td>\n      <td>3.0</td>\n      <td>19.0</td>\n      <td>2000.0</td>\n      <td>23.0</td>\n      <td>1865.0</td>\n    </tr>\n    <tr>\n      <th>2</th>\n      <td>2023-9900</td>\n      <td>United Cup</td>\n      <td>Hard</td>\n      <td>18</td>\n      <td>A</td>\n      <td>20230102</td>\n      <td>296</td>\n      <td>126203</td>\n      <td>3.0</td>\n      <td>NaN</td>\n      <td>...</td>\n      <td>62.0</td>\n      <td>51.0</td>\n      <td>7.0</td>\n      <td>12.0</td>\n      <td>2.0</td>\n      <td>2.0</td>\n      <td>9.0</td>\n      <td>3355.0</td>\n      <td>10.0</td>\n      <td>2905.0</td>\n    </tr>\n    <tr>\n      <th>3</th>\n      <td>2023-9900</td>\n      <td>United Cup</td>\n      <td>Hard</td>\n      <td>18</td>\n      <td>A</td>\n      <td>20230102</td>\n      <td>295</td>\n      <td>126207</td>\n      <td>NaN</td>\n      <td>NaN</td>\n      <td>...</td>\n      <td>41.0</td>\n      <td>26.0</td>\n      <td>12.0</td>\n      <td>9.0</td>\n      <td>6.0</td>\n      <td>9.0</td>\n      <td>19.0</td>\n      <td>2000.0</td>\n      <td>245.0</td>\n      <td>220.0</td>\n    </tr>\n    <tr>\n      <th>4</th>\n      <td>2023-9900</td>\n      <td>United Cup</td>\n      <td>Hard</td>\n      <td>18</td>\n      <td>A</td>\n      <td>20230102</td>\n      <td>292</td>\n      <td>126774</td>\n      <td>1.0</td>\n      <td>NaN</td>\n      <td>...</td>\n      <td>58.0</td>\n      <td>48.0</td>\n      <td>18.0</td>\n      <td>16.0</td>\n      <td>1.0</td>\n      <td>2.0</td>\n      <td>4.0</td>\n      <td>5550.0</td>\n      <td>16.0</td>\n      <td>2375.0</td>\n    </tr>\n  </tbody>\n</table>\n<p>5 rows × 49 columns</p>\n</div>"
     },
     "execution_count": 3,
     "metadata": {},
     "output_type": "execute_result"
    }
   ],
   "source": [
    "df.head()"
   ],
   "metadata": {
    "collapsed": false,
    "ExecuteTime": {
     "end_time": "2024-09-17T22:23:51.714416Z",
     "start_time": "2024-09-17T22:23:51.682570Z"
    }
   },
   "id": "ce00e6de96cfdd6b",
   "execution_count": 3
  },
  {
   "cell_type": "code",
   "outputs": [],
   "source": [
    "pbp = pd.read_csv('tennis_slam_pointbypoint-master/2023-wimbledon-points.csv')"
   ],
   "metadata": {
    "collapsed": false,
    "ExecuteTime": {
     "end_time": "2024-09-17T22:23:51.915623Z",
     "start_time": "2024-09-17T22:23:51.719070Z"
    }
   },
   "id": "13436bef39320c5b",
   "execution_count": 4
  },
  {
   "cell_type": "code",
   "outputs": [
    {
     "name": "stdout",
     "output_type": "stream",
     "text": [
      "Cantidad de partidos unicos: 254\n"
     ]
    }
   ],
   "source": [
    "print(f'Cantidad de partidos unicos: {len(pbp[\"match_id\"].unique())}')"
   ],
   "metadata": {
    "collapsed": false,
    "ExecuteTime": {
     "end_time": "2024-09-17T22:23:51.930787Z",
     "start_time": "2024-09-17T22:23:51.917233Z"
    }
   },
   "id": "2217dbc9e0fec209",
   "execution_count": 5
  },
  {
   "cell_type": "code",
   "outputs": [],
   "source": [
    "charting = pd.read_csv('tennis_MatchChartingProject-master/charting-m-points-2020s.csv', encoding= 'latin1', low_memory=False)"
   ],
   "metadata": {
    "collapsed": false,
    "ExecuteTime": {
     "end_time": "2024-09-17T22:23:52.843418Z",
     "start_time": "2024-09-17T22:23:51.932904Z"
    }
   },
   "id": "3fb35c41ac7beea9",
   "execution_count": 6
  },
  {
   "cell_type": "code",
   "outputs": [
    {
     "data": {
      "text/plain": "4.145064043563409"
     },
     "execution_count": 7,
     "metadata": {},
     "output_type": "execute_result"
    }
   ],
   "source": [
    "charting['rallyCount'] = pd.to_numeric(charting['rallyCount'], errors='coerce')\n",
    "charting['rallyCount'].mean()"
   ],
   "metadata": {
    "collapsed": false,
    "ExecuteTime": {
     "end_time": "2024-09-17T22:23:52.937185Z",
     "start_time": "2024-09-17T22:23:52.845626Z"
    }
   },
   "id": "2f52e8ad208fef2c",
   "execution_count": 7
  },
  {
   "cell_type": "code",
   "outputs": [
    {
     "data": {
      "text/plain": "55"
     },
     "execution_count": 8,
     "metadata": {},
     "output_type": "execute_result"
    }
   ],
   "source": [
    "partidos = pd.Series(charting['match_id'].unique())\n",
    "jugador = 'Zverev'\n",
    "partidos.str.contains(jugador).sum()"
   ],
   "metadata": {
    "collapsed": false,
    "ExecuteTime": {
     "end_time": "2024-09-17T22:23:52.983301Z",
     "start_time": "2024-09-17T22:23:52.938217Z"
    }
   },
   "id": "f9bf79ed6c8f7235",
   "execution_count": 8
  },
  {
   "cell_type": "markdown",
   "source": [
    "# Rally tokenization"
   ],
   "metadata": {
    "collapsed": false
   },
   "id": "48dbe2964757ddb4"
  },
  {
   "cell_type": "code",
   "outputs": [],
   "source": [
    "# Quito informacion adicional que no aporta informacion relevante\n",
    "charting['1st'] = charting['1st'].str.replace(r'[c\\-=\\+;\\^]', '', regex = True)\n",
    "charting['2nd'] = charting['2nd'].str.replace(r'[c\\-=\\+;\\^]', '', regex = True)"
   ],
   "metadata": {
    "collapsed": false,
    "ExecuteTime": {
     "end_time": "2024-09-17T22:23:53.186433Z",
     "start_time": "2024-09-17T22:23:52.985527Z"
    }
   },
   "id": "e7542b55f0ce298e",
   "execution_count": 9
  },
  {
   "cell_type": "markdown",
   "source": [
    "#2da manera"
   ],
   "metadata": {
    "collapsed": false
   },
   "id": "cac6f896286c7d90"
  },
  {
   "cell_type": "code",
   "outputs": [],
   "source": [
    "import pandas as pd\n",
    "import re\n",
    "\n",
    "errores = r'[ndxwg!e+]' \n",
    "\n",
    "# Parsing function (customize as needed)\n",
    "def parse_sequence(sequence):\n",
    "    result = []\n",
    "    pos = 0  # Initialize position\n",
    "\n",
    "    # Extract the serve data\n",
    "    serve_pattern = rf'^([456]{errores}?)'\n",
    "    match = re.match(serve_pattern, sequence)\n",
    "    if match:\n",
    "        serve = match.group(1)\n",
    "        result.append(serve)\n",
    "        pos = match.end()\n",
    "\n",
    "    # Extract shot 1\n",
    "    shot1_pattern = fr'([a-zA-Z]\\d[789]?{errores}?)'\n",
    "    match = re.match(shot1_pattern, sequence[pos:])\n",
    "    if match:\n",
    "        shot1 = match.group(1)\n",
    "        result.append(shot1)\n",
    "        pos += match.end()\n",
    "\n",
    "    # Extract shots 2 to n\n",
    "    shots_pattern = rf'([a-zA-Z]\\d{errores}?)'\n",
    "    shots_matches = re.finditer(shots_pattern, sequence[pos:])\n",
    "    for m in shots_matches:\n",
    "        result.append(m.group(1))\n",
    "    pos += m.end() if 'm' in locals() else 0\n",
    "\n",
    "    # Extract the error\n",
    "    error = sequence[pos:]\n",
    "    if error:\n",
    "        result.append(error)\n",
    "\n",
    "    #count the number of shots\n",
    "    rallyCount = len(result) - 1\n",
    "\n",
    "    return f'{rallyCount}: ' + ' -> '.join(result)"
   ],
   "metadata": {
    "collapsed": false,
    "ExecuteTime": {
     "end_time": "2024-09-17T22:23:53.201872Z",
     "start_time": "2024-09-17T22:23:53.188748Z"
    }
   },
   "id": "2c6890747ad4c971",
   "execution_count": 10
  },
  {
   "cell_type": "code",
   "outputs": [],
   "source": [
    "charting['1st_test'] = charting['1st'].apply(parse_sequence)\n",
    "\n",
    "charting['2nd'] = charting['2nd'].astype(str)\n",
    "charting['2nd_test'] = charting['2nd'].apply(parse_sequence)"
   ],
   "metadata": {
    "collapsed": false,
    "ExecuteTime": {
     "end_time": "2024-09-17T22:23:55.215884Z",
     "start_time": "2024-09-17T22:23:53.202938Z"
    }
   },
   "id": "669534c4291e1c2d",
   "execution_count": 11
  },
  {
   "cell_type": "code",
   "outputs": [
    {
     "data": {
      "text/plain": "                                                 match_id   Pt  Set1  Set2   \n0       20230908-M-US_Open-SF-Novak_Djokovic_-Ben_Shelton    1     0     0  \\\n1       20230908-M-US_Open-SF-Novak_Djokovic_-Ben_Shelton    2     0     0   \n2       20230908-M-US_Open-SF-Novak_Djokovic_-Ben_Shelton    3     0     0   \n3       20230908-M-US_Open-SF-Novak_Djokovic_-Ben_Shelton    4     0     0   \n4       20230908-M-US_Open-SF-Novak_Djokovic_-Ben_Shelton    5     0     0   \n...                                                   ...  ...   ...   ...   \n246625  20200103-M-ATP_Cup-RR-Alex_De_Minaur-Alexander...  203     1     1   \n246626  20200103-M-ATP_Cup-RR-Alex_De_Minaur-Alexander...  204     1     1   \n246627  20200103-M-ATP_Cup-RR-Alex_De_Minaur-Alexander...  205     1     1   \n246628  20200103-M-ATP_Cup-RR-Alex_De_Minaur-Alexander...  206     1     1   \n246629  20200103-M-ATP_Cup-RR-Alex_De_Minaur-Alexander...  207     1     1   \n\n        Gm1  Gm2    Pts     Gm# TbSet TB?  ...  isUnret  isRallyWinner   \n0         0    0    0-0   1 (1)     1   0  ...    False          False  \\\n1         0    0   15-0   1 (2)     1   0  ...    False           True   \n2         0    0  15-15   1 (3)     1   0  ...    False           True   \n3         0    0  15-30   1 (4)     1   0  ...    False           True   \n4         0    0  30-30   1 (5)     1   0  ...    False           True   \n...     ...  ...    ...     ...   ...  ..  ...      ...            ...   \n246625    5    2   15-0  31 (2)     1   0  ...    False          False   \n246626    5    2   30-0  31 (3)     1   0  ...    False           True   \n246627    5    2   40-0  31 (4)     1   0  ...    False          False   \n246628    5    2  40-15  31 (5)     1   0  ...    False          False   \n246629    5    2  40-30  31 (6)     1   0  ...    False          False   \n\n        isForced isUnforced isDouble PtWinner isSvrWinner  rallyCount   \n0           True      False    False        1           1         1.0  \\\n1          False      False    False        2           0         8.0   \n2          False      False    False        2           0         4.0   \n3          False      False    False        1           1         3.0   \n4          False      False    False        1           1         3.0   \n...          ...        ...      ...      ...         ...         ...   \n246625     False       True    False        1           1        11.0   \n246626     False      False    False        1           1         9.0   \n246627     False       True    False        2           0        10.0   \n246628     False       True    False        2           0         6.0   \n246629      True      False    False        1           1        11.0   \n\n                                                 1st_test   \n0                                        2: 6 -> f2n -> #  \\\n1                                                   0: 4n   \n2                                                   0: 4d   \n3                                  3: 6 -> s28 -> f3 -> *   \n4                                  3: 4 -> b37 -> b3 -> *   \n...                                                   ...   \n246625                                              0: 6w   \n246626                                              0: 4n   \n246627  11: 6 -> f28 -> b2 -> b3 -> b2 -> f1 -> f1 -> ...   \n246628    7: 5 -> b37 -> b2 -> b1 -> f2 -> f2 -> b2d -> @   \n246629  12: 6 -> f28 -> f1 -> f1 -> f1 -> f2 -> b1 -> ...   \n\n                                                 2nd_test  \n0                                                  0: nan  \n1       8: 6 -> b19 -> f1 -> b2 -> s1 -> f3 -> f2 -> j...  \n2                            4: 4 -> b28 -> f2 -> o1 -> *  \n3                                                  0: nan  \n4                                                  0: nan  \n...                                                   ...  \n246625  12: 5 -> b39 -> b2 -> f1 -> f1 -> f2 -> b2 -> ...  \n246626  9: 4 -> f28 -> f3 -> b2 -> f1 -> f2 -> f1 -> r...  \n246627                                             0: nan  \n246628                                             0: nan  \n246629                                             0: nan  \n\n[246630 rows x 32 columns]",
      "text/html": "<div>\n<style scoped>\n    .dataframe tbody tr th:only-of-type {\n        vertical-align: middle;\n    }\n\n    .dataframe tbody tr th {\n        vertical-align: top;\n    }\n\n    .dataframe thead th {\n        text-align: right;\n    }\n</style>\n<table border=\"1\" class=\"dataframe\">\n  <thead>\n    <tr style=\"text-align: right;\">\n      <th></th>\n      <th>match_id</th>\n      <th>Pt</th>\n      <th>Set1</th>\n      <th>Set2</th>\n      <th>Gm1</th>\n      <th>Gm2</th>\n      <th>Pts</th>\n      <th>Gm#</th>\n      <th>TbSet</th>\n      <th>TB?</th>\n      <th>...</th>\n      <th>isUnret</th>\n      <th>isRallyWinner</th>\n      <th>isForced</th>\n      <th>isUnforced</th>\n      <th>isDouble</th>\n      <th>PtWinner</th>\n      <th>isSvrWinner</th>\n      <th>rallyCount</th>\n      <th>1st_test</th>\n      <th>2nd_test</th>\n    </tr>\n  </thead>\n  <tbody>\n    <tr>\n      <th>0</th>\n      <td>20230908-M-US_Open-SF-Novak_Djokovic_-Ben_Shelton</td>\n      <td>1</td>\n      <td>0</td>\n      <td>0</td>\n      <td>0</td>\n      <td>0</td>\n      <td>0-0</td>\n      <td>1 (1)</td>\n      <td>1</td>\n      <td>0</td>\n      <td>...</td>\n      <td>False</td>\n      <td>False</td>\n      <td>True</td>\n      <td>False</td>\n      <td>False</td>\n      <td>1</td>\n      <td>1</td>\n      <td>1.0</td>\n      <td>2: 6 -&gt; f2n -&gt; #</td>\n      <td>0: nan</td>\n    </tr>\n    <tr>\n      <th>1</th>\n      <td>20230908-M-US_Open-SF-Novak_Djokovic_-Ben_Shelton</td>\n      <td>2</td>\n      <td>0</td>\n      <td>0</td>\n      <td>0</td>\n      <td>0</td>\n      <td>15-0</td>\n      <td>1 (2)</td>\n      <td>1</td>\n      <td>0</td>\n      <td>...</td>\n      <td>False</td>\n      <td>True</td>\n      <td>False</td>\n      <td>False</td>\n      <td>False</td>\n      <td>2</td>\n      <td>0</td>\n      <td>8.0</td>\n      <td>0: 4n</td>\n      <td>8: 6 -&gt; b19 -&gt; f1 -&gt; b2 -&gt; s1 -&gt; f3 -&gt; f2 -&gt; j...</td>\n    </tr>\n    <tr>\n      <th>2</th>\n      <td>20230908-M-US_Open-SF-Novak_Djokovic_-Ben_Shelton</td>\n      <td>3</td>\n      <td>0</td>\n      <td>0</td>\n      <td>0</td>\n      <td>0</td>\n      <td>15-15</td>\n      <td>1 (3)</td>\n      <td>1</td>\n      <td>0</td>\n      <td>...</td>\n      <td>False</td>\n      <td>True</td>\n      <td>False</td>\n      <td>False</td>\n      <td>False</td>\n      <td>2</td>\n      <td>0</td>\n      <td>4.0</td>\n      <td>0: 4d</td>\n      <td>4: 4 -&gt; b28 -&gt; f2 -&gt; o1 -&gt; *</td>\n    </tr>\n    <tr>\n      <th>3</th>\n      <td>20230908-M-US_Open-SF-Novak_Djokovic_-Ben_Shelton</td>\n      <td>4</td>\n      <td>0</td>\n      <td>0</td>\n      <td>0</td>\n      <td>0</td>\n      <td>15-30</td>\n      <td>1 (4)</td>\n      <td>1</td>\n      <td>0</td>\n      <td>...</td>\n      <td>False</td>\n      <td>True</td>\n      <td>False</td>\n      <td>False</td>\n      <td>False</td>\n      <td>1</td>\n      <td>1</td>\n      <td>3.0</td>\n      <td>3: 6 -&gt; s28 -&gt; f3 -&gt; *</td>\n      <td>0: nan</td>\n    </tr>\n    <tr>\n      <th>4</th>\n      <td>20230908-M-US_Open-SF-Novak_Djokovic_-Ben_Shelton</td>\n      <td>5</td>\n      <td>0</td>\n      <td>0</td>\n      <td>0</td>\n      <td>0</td>\n      <td>30-30</td>\n      <td>1 (5)</td>\n      <td>1</td>\n      <td>0</td>\n      <td>...</td>\n      <td>False</td>\n      <td>True</td>\n      <td>False</td>\n      <td>False</td>\n      <td>False</td>\n      <td>1</td>\n      <td>1</td>\n      <td>3.0</td>\n      <td>3: 4 -&gt; b37 -&gt; b3 -&gt; *</td>\n      <td>0: nan</td>\n    </tr>\n    <tr>\n      <th>...</th>\n      <td>...</td>\n      <td>...</td>\n      <td>...</td>\n      <td>...</td>\n      <td>...</td>\n      <td>...</td>\n      <td>...</td>\n      <td>...</td>\n      <td>...</td>\n      <td>...</td>\n      <td>...</td>\n      <td>...</td>\n      <td>...</td>\n      <td>...</td>\n      <td>...</td>\n      <td>...</td>\n      <td>...</td>\n      <td>...</td>\n      <td>...</td>\n      <td>...</td>\n      <td>...</td>\n    </tr>\n    <tr>\n      <th>246625</th>\n      <td>20200103-M-ATP_Cup-RR-Alex_De_Minaur-Alexander...</td>\n      <td>203</td>\n      <td>1</td>\n      <td>1</td>\n      <td>5</td>\n      <td>2</td>\n      <td>15-0</td>\n      <td>31 (2)</td>\n      <td>1</td>\n      <td>0</td>\n      <td>...</td>\n      <td>False</td>\n      <td>False</td>\n      <td>False</td>\n      <td>True</td>\n      <td>False</td>\n      <td>1</td>\n      <td>1</td>\n      <td>11.0</td>\n      <td>0: 6w</td>\n      <td>12: 5 -&gt; b39 -&gt; b2 -&gt; f1 -&gt; f1 -&gt; f2 -&gt; b2 -&gt; ...</td>\n    </tr>\n    <tr>\n      <th>246626</th>\n      <td>20200103-M-ATP_Cup-RR-Alex_De_Minaur-Alexander...</td>\n      <td>204</td>\n      <td>1</td>\n      <td>1</td>\n      <td>5</td>\n      <td>2</td>\n      <td>30-0</td>\n      <td>31 (3)</td>\n      <td>1</td>\n      <td>0</td>\n      <td>...</td>\n      <td>False</td>\n      <td>True</td>\n      <td>False</td>\n      <td>False</td>\n      <td>False</td>\n      <td>1</td>\n      <td>1</td>\n      <td>9.0</td>\n      <td>0: 4n</td>\n      <td>9: 4 -&gt; f28 -&gt; f3 -&gt; b2 -&gt; f1 -&gt; f2 -&gt; f1 -&gt; r...</td>\n    </tr>\n    <tr>\n      <th>246627</th>\n      <td>20200103-M-ATP_Cup-RR-Alex_De_Minaur-Alexander...</td>\n      <td>205</td>\n      <td>1</td>\n      <td>1</td>\n      <td>5</td>\n      <td>2</td>\n      <td>40-0</td>\n      <td>31 (4)</td>\n      <td>1</td>\n      <td>0</td>\n      <td>...</td>\n      <td>False</td>\n      <td>False</td>\n      <td>False</td>\n      <td>True</td>\n      <td>False</td>\n      <td>2</td>\n      <td>0</td>\n      <td>10.0</td>\n      <td>11: 6 -&gt; f28 -&gt; b2 -&gt; b3 -&gt; b2 -&gt; f1 -&gt; f1 -&gt; ...</td>\n      <td>0: nan</td>\n    </tr>\n    <tr>\n      <th>246628</th>\n      <td>20200103-M-ATP_Cup-RR-Alex_De_Minaur-Alexander...</td>\n      <td>206</td>\n      <td>1</td>\n      <td>1</td>\n      <td>5</td>\n      <td>2</td>\n      <td>40-15</td>\n      <td>31 (5)</td>\n      <td>1</td>\n      <td>0</td>\n      <td>...</td>\n      <td>False</td>\n      <td>False</td>\n      <td>False</td>\n      <td>True</td>\n      <td>False</td>\n      <td>2</td>\n      <td>0</td>\n      <td>6.0</td>\n      <td>7: 5 -&gt; b37 -&gt; b2 -&gt; b1 -&gt; f2 -&gt; f2 -&gt; b2d -&gt; @</td>\n      <td>0: nan</td>\n    </tr>\n    <tr>\n      <th>246629</th>\n      <td>20200103-M-ATP_Cup-RR-Alex_De_Minaur-Alexander...</td>\n      <td>207</td>\n      <td>1</td>\n      <td>1</td>\n      <td>5</td>\n      <td>2</td>\n      <td>40-30</td>\n      <td>31 (6)</td>\n      <td>1</td>\n      <td>0</td>\n      <td>...</td>\n      <td>False</td>\n      <td>False</td>\n      <td>True</td>\n      <td>False</td>\n      <td>False</td>\n      <td>1</td>\n      <td>1</td>\n      <td>11.0</td>\n      <td>12: 6 -&gt; f28 -&gt; f1 -&gt; f1 -&gt; f1 -&gt; f2 -&gt; b1 -&gt; ...</td>\n      <td>0: nan</td>\n    </tr>\n  </tbody>\n</table>\n<p>246630 rows × 32 columns</p>\n</div>"
     },
     "execution_count": 12,
     "metadata": {},
     "output_type": "execute_result"
    }
   ],
   "source": [
    "charting"
   ],
   "metadata": {
    "collapsed": false,
    "ExecuteTime": {
     "end_time": "2024-09-17T22:23:55.341071Z",
     "start_time": "2024-09-17T22:23:55.217190Z"
    }
   },
   "id": "85a22e4684e0b19a",
   "execution_count": 12
  },
  {
   "cell_type": "code",
   "outputs": [],
   "source": [
    "def get_rally_count(row):\n",
    "    if row['1stIn'] == 1:\n",
    "        if row['1st_test'][-1] != '*':\n",
    "            return int(row['1st_test'].split(':')[0]) - 1\n",
    "        else:\n",
    "            return int(row['1st_test'].split(':')[0])\n",
    "    else:\n",
    "        if row['2nd_test'][-1] != '*':\n",
    "            return int(row['2nd_test'].split(':')[0]) - 1\n",
    "        else:\n",
    "            return int(row['2nd_test'].split(':')[0])"
   ],
   "metadata": {
    "collapsed": false,
    "ExecuteTime": {
     "end_time": "2024-09-17T22:23:55.356215Z",
     "start_time": "2024-09-17T22:23:55.343296Z"
    }
   },
   "id": "ffbff22ce1262f89",
   "execution_count": 13
  },
  {
   "cell_type": "code",
   "outputs": [],
   "source": [
    "charting.loc[:, 'rallyCountVerification'] = charting.apply(get_rally_count, axis=1)\n",
    "charting.loc[:, 'rallyCountVerification'] = charting['rallyCountVerification'].apply(lambda x: x if x != -1 else 0)"
   ],
   "metadata": {
    "collapsed": false,
    "ExecuteTime": {
     "end_time": "2024-09-17T22:23:57.521758Z",
     "start_time": "2024-09-17T22:23:55.357919Z"
    }
   },
   "id": "3fca4cc043a5c604",
   "execution_count": 14
  },
  {
   "cell_type": "code",
   "outputs": [],
   "source": [
    "charting = charting.dropna(subset=['rallyCount'])\n",
    "charting.loc[:,'rallyCount'] = charting['rallyCount'].astype(int)"
   ],
   "metadata": {
    "collapsed": false,
    "ExecuteTime": {
     "end_time": "2024-09-17T22:23:57.583760Z",
     "start_time": "2024-09-17T22:23:57.522814Z"
    }
   },
   "id": "91c8e5214c5996be",
   "execution_count": 15
  },
  {
   "cell_type": "code",
   "outputs": [
    {
     "data": {
      "text/plain": "                                              match_id   Pt  Set1  Set2  Gm1   \n15   20230908-M-US_Open-SF-Novak_Djokovic_-Ben_Shelton   16     0     0    2  \\\n91   20230908-M-US_Open-SF-Novak_Djokovic_-Ben_Shelton   92     1     0    4   \n119  20230908-M-US_Open-SF-Novak_Djokovic_-Ben_Shelton  120     2     0    2   \n125  20230908-M-US_Open-SF-Novak_Djokovic_-Ben_Shelton  126     2     0    2   \n133  20230908-M-US_Open-SF-Novak_Djokovic_-Ben_Shelton  134     2     0    3   \n\n     Gm2    Pts     Gm# TbSet TB?  ...  isRallyWinner  isForced  isUnforced   \n15     1   15-0   4 (2)     1   0  ...          False      True       False  \\\n91     2  30-40  16 (6)     1   0  ...          False      True       False   \n119    0    0-0  20 (1)     1   0  ...          False      True       False   \n125    1   15-0  21 (2)     1   0  ...          False      True       False   \n133    1   0-15  22 (2)     1   0  ...          False     False       False   \n\n    isDouble PtWinner isSvrWinner rallyCount                       1st_test   \n15     False        1           0        4.0  4: 4 -> b37 -> h1 -> f1 -> z#  \\\n91     False        2           1        3.0        3: 4 -> b38 -> f1 -> f#   \n119    False        2           1        3.0                          0: 4w   \n125    False        2           0       22.0                          0: 4n   \n133    False        2           1        1.0                      1: 5 -> #   \n\n                                              2nd_test  rallyCountVerification  \n15                                              0: nan                       3  \n91                                              0: nan                       2  \n119                            3: 5 -> b29 -> f1 -> f#                       2  \n125  22: 6 -> b28 -> f2 -> b2 -> b2 -> b1 -> f1 -> ...                      21  \n133                                             0: nan                       0  \n\n[5 rows x 33 columns]",
      "text/html": "<div>\n<style scoped>\n    .dataframe tbody tr th:only-of-type {\n        vertical-align: middle;\n    }\n\n    .dataframe tbody tr th {\n        vertical-align: top;\n    }\n\n    .dataframe thead th {\n        text-align: right;\n    }\n</style>\n<table border=\"1\" class=\"dataframe\">\n  <thead>\n    <tr style=\"text-align: right;\">\n      <th></th>\n      <th>match_id</th>\n      <th>Pt</th>\n      <th>Set1</th>\n      <th>Set2</th>\n      <th>Gm1</th>\n      <th>Gm2</th>\n      <th>Pts</th>\n      <th>Gm#</th>\n      <th>TbSet</th>\n      <th>TB?</th>\n      <th>...</th>\n      <th>isRallyWinner</th>\n      <th>isForced</th>\n      <th>isUnforced</th>\n      <th>isDouble</th>\n      <th>PtWinner</th>\n      <th>isSvrWinner</th>\n      <th>rallyCount</th>\n      <th>1st_test</th>\n      <th>2nd_test</th>\n      <th>rallyCountVerification</th>\n    </tr>\n  </thead>\n  <tbody>\n    <tr>\n      <th>15</th>\n      <td>20230908-M-US_Open-SF-Novak_Djokovic_-Ben_Shelton</td>\n      <td>16</td>\n      <td>0</td>\n      <td>0</td>\n      <td>2</td>\n      <td>1</td>\n      <td>15-0</td>\n      <td>4 (2)</td>\n      <td>1</td>\n      <td>0</td>\n      <td>...</td>\n      <td>False</td>\n      <td>True</td>\n      <td>False</td>\n      <td>False</td>\n      <td>1</td>\n      <td>0</td>\n      <td>4.0</td>\n      <td>4: 4 -&gt; b37 -&gt; h1 -&gt; f1 -&gt; z#</td>\n      <td>0: nan</td>\n      <td>3</td>\n    </tr>\n    <tr>\n      <th>91</th>\n      <td>20230908-M-US_Open-SF-Novak_Djokovic_-Ben_Shelton</td>\n      <td>92</td>\n      <td>1</td>\n      <td>0</td>\n      <td>4</td>\n      <td>2</td>\n      <td>30-40</td>\n      <td>16 (6)</td>\n      <td>1</td>\n      <td>0</td>\n      <td>...</td>\n      <td>False</td>\n      <td>True</td>\n      <td>False</td>\n      <td>False</td>\n      <td>2</td>\n      <td>1</td>\n      <td>3.0</td>\n      <td>3: 4 -&gt; b38 -&gt; f1 -&gt; f#</td>\n      <td>0: nan</td>\n      <td>2</td>\n    </tr>\n    <tr>\n      <th>119</th>\n      <td>20230908-M-US_Open-SF-Novak_Djokovic_-Ben_Shelton</td>\n      <td>120</td>\n      <td>2</td>\n      <td>0</td>\n      <td>2</td>\n      <td>0</td>\n      <td>0-0</td>\n      <td>20 (1)</td>\n      <td>1</td>\n      <td>0</td>\n      <td>...</td>\n      <td>False</td>\n      <td>True</td>\n      <td>False</td>\n      <td>False</td>\n      <td>2</td>\n      <td>1</td>\n      <td>3.0</td>\n      <td>0: 4w</td>\n      <td>3: 5 -&gt; b29 -&gt; f1 -&gt; f#</td>\n      <td>2</td>\n    </tr>\n    <tr>\n      <th>125</th>\n      <td>20230908-M-US_Open-SF-Novak_Djokovic_-Ben_Shelton</td>\n      <td>126</td>\n      <td>2</td>\n      <td>0</td>\n      <td>2</td>\n      <td>1</td>\n      <td>15-0</td>\n      <td>21 (2)</td>\n      <td>1</td>\n      <td>0</td>\n      <td>...</td>\n      <td>False</td>\n      <td>True</td>\n      <td>False</td>\n      <td>False</td>\n      <td>2</td>\n      <td>0</td>\n      <td>22.0</td>\n      <td>0: 4n</td>\n      <td>22: 6 -&gt; b28 -&gt; f2 -&gt; b2 -&gt; b2 -&gt; b1 -&gt; f1 -&gt; ...</td>\n      <td>21</td>\n    </tr>\n    <tr>\n      <th>133</th>\n      <td>20230908-M-US_Open-SF-Novak_Djokovic_-Ben_Shelton</td>\n      <td>134</td>\n      <td>2</td>\n      <td>0</td>\n      <td>3</td>\n      <td>1</td>\n      <td>0-15</td>\n      <td>22 (2)</td>\n      <td>1</td>\n      <td>0</td>\n      <td>...</td>\n      <td>False</td>\n      <td>False</td>\n      <td>False</td>\n      <td>False</td>\n      <td>2</td>\n      <td>1</td>\n      <td>1.0</td>\n      <td>1: 5 -&gt; #</td>\n      <td>0: nan</td>\n      <td>0</td>\n    </tr>\n  </tbody>\n</table>\n<p>5 rows × 33 columns</p>\n</div>"
     },
     "execution_count": 16,
     "metadata": {},
     "output_type": "execute_result"
    }
   ],
   "source": [
    "#De esta manera se puede ver cuantos valores son diferentes, comprobando que la diferencia se da por errores de data entry\n",
    "differences = charting[charting['rallyCountVerification'].ne(charting['rallyCount'])]\n",
    "differences.head()"
   ],
   "metadata": {
    "collapsed": false,
    "ExecuteTime": {
     "end_time": "2024-09-17T22:23:57.615241Z",
     "start_time": "2024-09-17T22:23:57.584844Z"
    }
   },
   "id": "cfa1cbb2d655ed0c",
   "execution_count": 16
  },
  {
   "cell_type": "code",
   "outputs": [],
   "source": [
    "charting.loc[:,'1st_test'] = charting['1st_test'].str.split(':').str[1]\n",
    "charting.loc[:,'2nd_test'] = charting['2nd_test'].str.split(':').str[1]"
   ],
   "metadata": {
    "collapsed": false,
    "ExecuteTime": {
     "end_time": "2024-09-17T22:23:58.447248Z",
     "start_time": "2024-09-17T22:23:57.617030Z"
    }
   },
   "id": "dc6766ce4c3f453b",
   "execution_count": 17
  },
  {
   "cell_type": "code",
   "outputs": [
    {
     "data": {
      "text/plain": "                                                 match_id   Pt  Set1  Set2   \n0       20230908-M-US_Open-SF-Novak_Djokovic_-Ben_Shelton    1     0     0  \\\n1       20230908-M-US_Open-SF-Novak_Djokovic_-Ben_Shelton    2     0     0   \n2       20230908-M-US_Open-SF-Novak_Djokovic_-Ben_Shelton    3     0     0   \n3       20230908-M-US_Open-SF-Novak_Djokovic_-Ben_Shelton    4     0     0   \n4       20230908-M-US_Open-SF-Novak_Djokovic_-Ben_Shelton    5     0     0   \n...                                                   ...  ...   ...   ...   \n246625  20200103-M-ATP_Cup-RR-Alex_De_Minaur-Alexander...  203     1     1   \n246626  20200103-M-ATP_Cup-RR-Alex_De_Minaur-Alexander...  204     1     1   \n246627  20200103-M-ATP_Cup-RR-Alex_De_Minaur-Alexander...  205     1     1   \n246628  20200103-M-ATP_Cup-RR-Alex_De_Minaur-Alexander...  206     1     1   \n246629  20200103-M-ATP_Cup-RR-Alex_De_Minaur-Alexander...  207     1     1   \n\n        Gm1  Gm2    Pts     Gm# TbSet TB?  ...  isRallyWinner  isForced   \n0         0    0    0-0   1 (1)     1   0  ...          False      True  \\\n1         0    0   15-0   1 (2)     1   0  ...           True     False   \n2         0    0  15-15   1 (3)     1   0  ...           True     False   \n3         0    0  15-30   1 (4)     1   0  ...           True     False   \n4         0    0  30-30   1 (5)     1   0  ...           True     False   \n...     ...  ...    ...     ...   ...  ..  ...            ...       ...   \n246625    5    2   15-0  31 (2)     1   0  ...          False     False   \n246626    5    2   30-0  31 (3)     1   0  ...           True     False   \n246627    5    2   40-0  31 (4)     1   0  ...          False     False   \n246628    5    2  40-15  31 (5)     1   0  ...          False     False   \n246629    5    2  40-30  31 (6)     1   0  ...          False      True   \n\n        isUnforced isDouble PtWinner isSvrWinner rallyCount   \n0            False    False        1           1        1.0  \\\n1            False    False        2           0        8.0   \n2            False    False        2           0        4.0   \n3            False    False        1           1        3.0   \n4            False    False        1           1        3.0   \n...            ...      ...      ...         ...        ...   \n246625        True    False        1           1       11.0   \n246626       False    False        1           1        9.0   \n246627        True    False        2           0       10.0   \n246628        True    False        2           0        6.0   \n246629       False    False        1           1       11.0   \n\n                                                 1st_test   \n0                                           6 -> f2n -> #  \\\n1                                                      4n   \n2                                                      4d   \n3                                     6 -> s28 -> f3 -> *   \n4                                     4 -> b37 -> b3 -> *   \n...                                                   ...   \n246625                                                 6w   \n246626                                                 4n   \n246627   6 -> f28 -> b2 -> b3 -> b2 -> f1 -> f1 -> f3 ...   \n246628       5 -> b37 -> b2 -> b1 -> f2 -> f2 -> b2d -> @   \n246629   6 -> f28 -> f1 -> f1 -> f1 -> f2 -> b1 -> f2 ...   \n\n                                                 2nd_test   \n0                                                     nan  \\\n1        6 -> b19 -> f1 -> b2 -> s1 -> f3 -> f2 -> j2 ...   \n2                               4 -> b28 -> f2 -> o1 -> *   \n3                                                     nan   \n4                                                     nan   \n...                                                   ...   \n246625   5 -> b39 -> b2 -> f1 -> f1 -> f2 -> b2 -> b1 ...   \n246626   4 -> f28 -> f3 -> b2 -> f1 -> f2 -> f1 -> r2 ...   \n246627                                                nan   \n246628                                                nan   \n246629                                                nan   \n\n        rallyCountVerification  \n0                            1  \n1                            8  \n2                            4  \n3                            3  \n4                            3  \n...                        ...  \n246625                      11  \n246626                       9  \n246627                      10  \n246628                       6  \n246629                      11  \n\n[224495 rows x 33 columns]",
      "text/html": "<div>\n<style scoped>\n    .dataframe tbody tr th:only-of-type {\n        vertical-align: middle;\n    }\n\n    .dataframe tbody tr th {\n        vertical-align: top;\n    }\n\n    .dataframe thead th {\n        text-align: right;\n    }\n</style>\n<table border=\"1\" class=\"dataframe\">\n  <thead>\n    <tr style=\"text-align: right;\">\n      <th></th>\n      <th>match_id</th>\n      <th>Pt</th>\n      <th>Set1</th>\n      <th>Set2</th>\n      <th>Gm1</th>\n      <th>Gm2</th>\n      <th>Pts</th>\n      <th>Gm#</th>\n      <th>TbSet</th>\n      <th>TB?</th>\n      <th>...</th>\n      <th>isRallyWinner</th>\n      <th>isForced</th>\n      <th>isUnforced</th>\n      <th>isDouble</th>\n      <th>PtWinner</th>\n      <th>isSvrWinner</th>\n      <th>rallyCount</th>\n      <th>1st_test</th>\n      <th>2nd_test</th>\n      <th>rallyCountVerification</th>\n    </tr>\n  </thead>\n  <tbody>\n    <tr>\n      <th>0</th>\n      <td>20230908-M-US_Open-SF-Novak_Djokovic_-Ben_Shelton</td>\n      <td>1</td>\n      <td>0</td>\n      <td>0</td>\n      <td>0</td>\n      <td>0</td>\n      <td>0-0</td>\n      <td>1 (1)</td>\n      <td>1</td>\n      <td>0</td>\n      <td>...</td>\n      <td>False</td>\n      <td>True</td>\n      <td>False</td>\n      <td>False</td>\n      <td>1</td>\n      <td>1</td>\n      <td>1.0</td>\n      <td>6 -&gt; f2n -&gt; #</td>\n      <td>nan</td>\n      <td>1</td>\n    </tr>\n    <tr>\n      <th>1</th>\n      <td>20230908-M-US_Open-SF-Novak_Djokovic_-Ben_Shelton</td>\n      <td>2</td>\n      <td>0</td>\n      <td>0</td>\n      <td>0</td>\n      <td>0</td>\n      <td>15-0</td>\n      <td>1 (2)</td>\n      <td>1</td>\n      <td>0</td>\n      <td>...</td>\n      <td>True</td>\n      <td>False</td>\n      <td>False</td>\n      <td>False</td>\n      <td>2</td>\n      <td>0</td>\n      <td>8.0</td>\n      <td>4n</td>\n      <td>6 -&gt; b19 -&gt; f1 -&gt; b2 -&gt; s1 -&gt; f3 -&gt; f2 -&gt; j2 ...</td>\n      <td>8</td>\n    </tr>\n    <tr>\n      <th>2</th>\n      <td>20230908-M-US_Open-SF-Novak_Djokovic_-Ben_Shelton</td>\n      <td>3</td>\n      <td>0</td>\n      <td>0</td>\n      <td>0</td>\n      <td>0</td>\n      <td>15-15</td>\n      <td>1 (3)</td>\n      <td>1</td>\n      <td>0</td>\n      <td>...</td>\n      <td>True</td>\n      <td>False</td>\n      <td>False</td>\n      <td>False</td>\n      <td>2</td>\n      <td>0</td>\n      <td>4.0</td>\n      <td>4d</td>\n      <td>4 -&gt; b28 -&gt; f2 -&gt; o1 -&gt; *</td>\n      <td>4</td>\n    </tr>\n    <tr>\n      <th>3</th>\n      <td>20230908-M-US_Open-SF-Novak_Djokovic_-Ben_Shelton</td>\n      <td>4</td>\n      <td>0</td>\n      <td>0</td>\n      <td>0</td>\n      <td>0</td>\n      <td>15-30</td>\n      <td>1 (4)</td>\n      <td>1</td>\n      <td>0</td>\n      <td>...</td>\n      <td>True</td>\n      <td>False</td>\n      <td>False</td>\n      <td>False</td>\n      <td>1</td>\n      <td>1</td>\n      <td>3.0</td>\n      <td>6 -&gt; s28 -&gt; f3 -&gt; *</td>\n      <td>nan</td>\n      <td>3</td>\n    </tr>\n    <tr>\n      <th>4</th>\n      <td>20230908-M-US_Open-SF-Novak_Djokovic_-Ben_Shelton</td>\n      <td>5</td>\n      <td>0</td>\n      <td>0</td>\n      <td>0</td>\n      <td>0</td>\n      <td>30-30</td>\n      <td>1 (5)</td>\n      <td>1</td>\n      <td>0</td>\n      <td>...</td>\n      <td>True</td>\n      <td>False</td>\n      <td>False</td>\n      <td>False</td>\n      <td>1</td>\n      <td>1</td>\n      <td>3.0</td>\n      <td>4 -&gt; b37 -&gt; b3 -&gt; *</td>\n      <td>nan</td>\n      <td>3</td>\n    </tr>\n    <tr>\n      <th>...</th>\n      <td>...</td>\n      <td>...</td>\n      <td>...</td>\n      <td>...</td>\n      <td>...</td>\n      <td>...</td>\n      <td>...</td>\n      <td>...</td>\n      <td>...</td>\n      <td>...</td>\n      <td>...</td>\n      <td>...</td>\n      <td>...</td>\n      <td>...</td>\n      <td>...</td>\n      <td>...</td>\n      <td>...</td>\n      <td>...</td>\n      <td>...</td>\n      <td>...</td>\n      <td>...</td>\n    </tr>\n    <tr>\n      <th>246625</th>\n      <td>20200103-M-ATP_Cup-RR-Alex_De_Minaur-Alexander...</td>\n      <td>203</td>\n      <td>1</td>\n      <td>1</td>\n      <td>5</td>\n      <td>2</td>\n      <td>15-0</td>\n      <td>31 (2)</td>\n      <td>1</td>\n      <td>0</td>\n      <td>...</td>\n      <td>False</td>\n      <td>False</td>\n      <td>True</td>\n      <td>False</td>\n      <td>1</td>\n      <td>1</td>\n      <td>11.0</td>\n      <td>6w</td>\n      <td>5 -&gt; b39 -&gt; b2 -&gt; f1 -&gt; f1 -&gt; f2 -&gt; b2 -&gt; b1 ...</td>\n      <td>11</td>\n    </tr>\n    <tr>\n      <th>246626</th>\n      <td>20200103-M-ATP_Cup-RR-Alex_De_Minaur-Alexander...</td>\n      <td>204</td>\n      <td>1</td>\n      <td>1</td>\n      <td>5</td>\n      <td>2</td>\n      <td>30-0</td>\n      <td>31 (3)</td>\n      <td>1</td>\n      <td>0</td>\n      <td>...</td>\n      <td>True</td>\n      <td>False</td>\n      <td>False</td>\n      <td>False</td>\n      <td>1</td>\n      <td>1</td>\n      <td>9.0</td>\n      <td>4n</td>\n      <td>4 -&gt; f28 -&gt; f3 -&gt; b2 -&gt; f1 -&gt; f2 -&gt; f1 -&gt; r2 ...</td>\n      <td>9</td>\n    </tr>\n    <tr>\n      <th>246627</th>\n      <td>20200103-M-ATP_Cup-RR-Alex_De_Minaur-Alexander...</td>\n      <td>205</td>\n      <td>1</td>\n      <td>1</td>\n      <td>5</td>\n      <td>2</td>\n      <td>40-0</td>\n      <td>31 (4)</td>\n      <td>1</td>\n      <td>0</td>\n      <td>...</td>\n      <td>False</td>\n      <td>False</td>\n      <td>True</td>\n      <td>False</td>\n      <td>2</td>\n      <td>0</td>\n      <td>10.0</td>\n      <td>6 -&gt; f28 -&gt; b2 -&gt; b3 -&gt; b2 -&gt; f1 -&gt; f1 -&gt; f3 ...</td>\n      <td>nan</td>\n      <td>10</td>\n    </tr>\n    <tr>\n      <th>246628</th>\n      <td>20200103-M-ATP_Cup-RR-Alex_De_Minaur-Alexander...</td>\n      <td>206</td>\n      <td>1</td>\n      <td>1</td>\n      <td>5</td>\n      <td>2</td>\n      <td>40-15</td>\n      <td>31 (5)</td>\n      <td>1</td>\n      <td>0</td>\n      <td>...</td>\n      <td>False</td>\n      <td>False</td>\n      <td>True</td>\n      <td>False</td>\n      <td>2</td>\n      <td>0</td>\n      <td>6.0</td>\n      <td>5 -&gt; b37 -&gt; b2 -&gt; b1 -&gt; f2 -&gt; f2 -&gt; b2d -&gt; @</td>\n      <td>nan</td>\n      <td>6</td>\n    </tr>\n    <tr>\n      <th>246629</th>\n      <td>20200103-M-ATP_Cup-RR-Alex_De_Minaur-Alexander...</td>\n      <td>207</td>\n      <td>1</td>\n      <td>1</td>\n      <td>5</td>\n      <td>2</td>\n      <td>40-30</td>\n      <td>31 (6)</td>\n      <td>1</td>\n      <td>0</td>\n      <td>...</td>\n      <td>False</td>\n      <td>True</td>\n      <td>False</td>\n      <td>False</td>\n      <td>1</td>\n      <td>1</td>\n      <td>11.0</td>\n      <td>6 -&gt; f28 -&gt; f1 -&gt; f1 -&gt; f1 -&gt; f2 -&gt; b1 -&gt; f2 ...</td>\n      <td>nan</td>\n      <td>11</td>\n    </tr>\n  </tbody>\n</table>\n<p>224495 rows × 33 columns</p>\n</div>"
     },
     "execution_count": 18,
     "metadata": {},
     "output_type": "execute_result"
    }
   ],
   "source": [
    "charting_limpio = charting[charting['rallyCountVerification'].eq(charting['rallyCount'])]\n",
    "charting_limpio"
   ],
   "metadata": {
    "collapsed": false,
    "ExecuteTime": {
     "end_time": "2024-09-17T22:23:58.633802Z",
     "start_time": "2024-09-17T22:23:58.448310Z"
    }
   },
   "id": "dfa87d3c98ab47d4",
   "execution_count": 18
  },
  {
   "cell_type": "code",
   "outputs": [
    {
     "name": "stdout",
     "output_type": "stream",
     "text": [
      "(224495, 33)\n",
      "(246629, 33)\n"
     ]
    }
   ],
   "source": [
    "print(charting_limpio.shape)\n",
    "print(charting.shape)"
   ],
   "metadata": {
    "collapsed": false,
    "ExecuteTime": {
     "end_time": "2024-09-17T22:23:58.649968Z",
     "start_time": "2024-09-17T22:23:58.635860Z"
    }
   },
   "id": "8186eacd6966ff0",
   "execution_count": 19
  },
  {
   "cell_type": "code",
   "outputs": [],
   "source": [
    "def merge_last_two_strings(lst):\n",
    "    if len(lst) >= 2:\n",
    "        # Concatenate the last two strings\n",
    "        merged_value = lst[-2] + lst[-1]\n",
    "        # Replace the last two elements with the merged value\n",
    "        return lst[:-2] + [merged_value]\n",
    "    else:\n",
    "        # If the list has fewer than two elements, return it unchanged\n",
    "        return lst"
   ],
   "metadata": {
    "collapsed": false,
    "ExecuteTime": {
     "end_time": "2024-09-17T22:23:58.665176Z",
     "start_time": "2024-09-17T22:23:58.652127Z"
    }
   },
   "id": "df30122c93cb686b",
   "execution_count": 20
  },
  {
   "cell_type": "code",
   "outputs": [
    {
     "ename": "TypeError",
     "evalue": "sequence item 0: expected str instance, list found",
     "output_type": "error",
     "traceback": [
      "\u001B[1;31m---------------------------------------------------------------------------\u001B[0m",
      "\u001B[1;31mTypeError\u001B[0m                                 Traceback (most recent call last)",
      "Cell \u001B[1;32mIn[21], line 1\u001B[0m\n\u001B[1;32m----> 1\u001B[0m charting_limpio\u001B[38;5;241m.\u001B[39mloc[:,\u001B[38;5;124m'\u001B[39m\u001B[38;5;124m1st_test_error\u001B[39m\u001B[38;5;124m'\u001B[39m] \u001B[38;5;241m=\u001B[39m \u001B[38;5;124;43m'\u001B[39;49m\u001B[38;5;124;43m -> \u001B[39;49m\u001B[38;5;124;43m'\u001B[39;49m\u001B[38;5;241;43m.\u001B[39;49m\u001B[43mjoin\u001B[49m\u001B[43m(\u001B[49m\u001B[43mcharting_limpio\u001B[49m\u001B[43m[\u001B[49m\u001B[38;5;124;43m'\u001B[39;49m\u001B[38;5;124;43m1st_test\u001B[39;49m\u001B[38;5;124;43m'\u001B[39;49m\u001B[43m]\u001B[49m\u001B[38;5;241;43m.\u001B[39;49m\u001B[43mstr\u001B[49m\u001B[38;5;241;43m.\u001B[39;49m\u001B[43msplit\u001B[49m\u001B[43m(\u001B[49m\u001B[38;5;124;43m'\u001B[39;49m\u001B[38;5;124;43m->\u001B[39;49m\u001B[38;5;124;43m'\u001B[39;49m\u001B[43m)\u001B[49m\u001B[38;5;241;43m.\u001B[39;49m\u001B[43mapply\u001B[49m\u001B[43m(\u001B[49m\u001B[43mmerge_last_two_strings\u001B[49m\u001B[43m)\u001B[49m\u001B[43m)\u001B[49m\n",
      "\u001B[1;31mTypeError\u001B[0m: sequence item 0: expected str instance, list found"
     ]
    }
   ],
   "source": [
    "' -> '.join(charting_limpio['1st_test'].str.split('->').apply(merge_last_two_strings))"
   ],
   "metadata": {
    "collapsed": false,
    "ExecuteTime": {
     "end_time": "2024-09-17T22:23:59.958893Z",
     "start_time": "2024-09-17T22:23:58.666609Z"
    }
   },
   "id": "7660abe7c246e9c",
   "execution_count": 21
  },
  {
   "cell_type": "code",
   "outputs": [
    {
     "data": {
      "text/plain": "                                            match_id  Pt  Set1  Set2  Gm1   \n0  20230908-M-US_Open-SF-Novak_Djokovic_-Ben_Shelton   1     0     0    0  \\\n1  20230908-M-US_Open-SF-Novak_Djokovic_-Ben_Shelton   2     0     0    0   \n2  20230908-M-US_Open-SF-Novak_Djokovic_-Ben_Shelton   3     0     0    0   \n3  20230908-M-US_Open-SF-Novak_Djokovic_-Ben_Shelton   4     0     0    0   \n4  20230908-M-US_Open-SF-Novak_Djokovic_-Ben_Shelton   5     0     0    0   \n\n   Gm2    Pts    Gm# TbSet TB?  ...  isRallyWinner  isForced  isUnforced   \n0    0    0-0  1 (1)     1   0  ...          False      True       False  \\\n1    0   15-0  1 (2)     1   0  ...           True     False       False   \n2    0  15-15  1 (3)     1   0  ...           True     False       False   \n3    0  15-30  1 (4)     1   0  ...           True     False       False   \n4    0  30-30  1 (5)     1   0  ...           True     False       False   \n\n  isDouble PtWinner isSvrWinner rallyCount              1st_test   \n0    False        1           1        1.0         6 -> f2n -> #  \\\n1    False        2           0        8.0                    4n   \n2    False        2           0        4.0                    4d   \n3    False        1           1        3.0   6 -> s28 -> f3 -> *   \n4    False        1           1        3.0   4 -> b37 -> b3 -> *   \n\n                                            2nd_test  rallyCountVerification  \n0                                                nan                       1  \n1   6 -> b19 -> f1 -> b2 -> s1 -> f3 -> f2 -> j2 ...                       8  \n2                          4 -> b28 -> f2 -> o1 -> *                       4  \n3                                                nan                       3  \n4                                                nan                       3  \n\n[5 rows x 33 columns]",
      "text/html": "<div>\n<style scoped>\n    .dataframe tbody tr th:only-of-type {\n        vertical-align: middle;\n    }\n\n    .dataframe tbody tr th {\n        vertical-align: top;\n    }\n\n    .dataframe thead th {\n        text-align: right;\n    }\n</style>\n<table border=\"1\" class=\"dataframe\">\n  <thead>\n    <tr style=\"text-align: right;\">\n      <th></th>\n      <th>match_id</th>\n      <th>Pt</th>\n      <th>Set1</th>\n      <th>Set2</th>\n      <th>Gm1</th>\n      <th>Gm2</th>\n      <th>Pts</th>\n      <th>Gm#</th>\n      <th>TbSet</th>\n      <th>TB?</th>\n      <th>...</th>\n      <th>isRallyWinner</th>\n      <th>isForced</th>\n      <th>isUnforced</th>\n      <th>isDouble</th>\n      <th>PtWinner</th>\n      <th>isSvrWinner</th>\n      <th>rallyCount</th>\n      <th>1st_test</th>\n      <th>2nd_test</th>\n      <th>rallyCountVerification</th>\n    </tr>\n  </thead>\n  <tbody>\n    <tr>\n      <th>0</th>\n      <td>20230908-M-US_Open-SF-Novak_Djokovic_-Ben_Shelton</td>\n      <td>1</td>\n      <td>0</td>\n      <td>0</td>\n      <td>0</td>\n      <td>0</td>\n      <td>0-0</td>\n      <td>1 (1)</td>\n      <td>1</td>\n      <td>0</td>\n      <td>...</td>\n      <td>False</td>\n      <td>True</td>\n      <td>False</td>\n      <td>False</td>\n      <td>1</td>\n      <td>1</td>\n      <td>1.0</td>\n      <td>6 -&gt; f2n -&gt; #</td>\n      <td>nan</td>\n      <td>1</td>\n    </tr>\n    <tr>\n      <th>1</th>\n      <td>20230908-M-US_Open-SF-Novak_Djokovic_-Ben_Shelton</td>\n      <td>2</td>\n      <td>0</td>\n      <td>0</td>\n      <td>0</td>\n      <td>0</td>\n      <td>15-0</td>\n      <td>1 (2)</td>\n      <td>1</td>\n      <td>0</td>\n      <td>...</td>\n      <td>True</td>\n      <td>False</td>\n      <td>False</td>\n      <td>False</td>\n      <td>2</td>\n      <td>0</td>\n      <td>8.0</td>\n      <td>4n</td>\n      <td>6 -&gt; b19 -&gt; f1 -&gt; b2 -&gt; s1 -&gt; f3 -&gt; f2 -&gt; j2 ...</td>\n      <td>8</td>\n    </tr>\n    <tr>\n      <th>2</th>\n      <td>20230908-M-US_Open-SF-Novak_Djokovic_-Ben_Shelton</td>\n      <td>3</td>\n      <td>0</td>\n      <td>0</td>\n      <td>0</td>\n      <td>0</td>\n      <td>15-15</td>\n      <td>1 (3)</td>\n      <td>1</td>\n      <td>0</td>\n      <td>...</td>\n      <td>True</td>\n      <td>False</td>\n      <td>False</td>\n      <td>False</td>\n      <td>2</td>\n      <td>0</td>\n      <td>4.0</td>\n      <td>4d</td>\n      <td>4 -&gt; b28 -&gt; f2 -&gt; o1 -&gt; *</td>\n      <td>4</td>\n    </tr>\n    <tr>\n      <th>3</th>\n      <td>20230908-M-US_Open-SF-Novak_Djokovic_-Ben_Shelton</td>\n      <td>4</td>\n      <td>0</td>\n      <td>0</td>\n      <td>0</td>\n      <td>0</td>\n      <td>15-30</td>\n      <td>1 (4)</td>\n      <td>1</td>\n      <td>0</td>\n      <td>...</td>\n      <td>True</td>\n      <td>False</td>\n      <td>False</td>\n      <td>False</td>\n      <td>1</td>\n      <td>1</td>\n      <td>3.0</td>\n      <td>6 -&gt; s28 -&gt; f3 -&gt; *</td>\n      <td>nan</td>\n      <td>3</td>\n    </tr>\n    <tr>\n      <th>4</th>\n      <td>20230908-M-US_Open-SF-Novak_Djokovic_-Ben_Shelton</td>\n      <td>5</td>\n      <td>0</td>\n      <td>0</td>\n      <td>0</td>\n      <td>0</td>\n      <td>30-30</td>\n      <td>1 (5)</td>\n      <td>1</td>\n      <td>0</td>\n      <td>...</td>\n      <td>True</td>\n      <td>False</td>\n      <td>False</td>\n      <td>False</td>\n      <td>1</td>\n      <td>1</td>\n      <td>3.0</td>\n      <td>4 -&gt; b37 -&gt; b3 -&gt; *</td>\n      <td>nan</td>\n      <td>3</td>\n    </tr>\n  </tbody>\n</table>\n<p>5 rows × 33 columns</p>\n</div>"
     },
     "execution_count": 23,
     "metadata": {},
     "output_type": "execute_result"
    }
   ],
   "source": [
    "charting_limpio.head()"
   ],
   "metadata": {
    "collapsed": false,
    "ExecuteTime": {
     "end_time": "2024-09-17T22:25:37.908387Z",
     "start_time": "2024-09-17T22:25:37.888805Z"
    }
   },
   "id": "e8c6e06d3338c7b0",
   "execution_count": 23
  },
  {
   "cell_type": "code",
   "outputs": [],
   "source": [],
   "metadata": {
    "collapsed": false,
    "ExecuteTime": {
     "end_time": "2024-09-17T22:25:50.810332Z",
     "start_time": "2024-09-17T22:25:50.805608Z"
    }
   },
   "id": "b82a0ea673cd02cb",
   "execution_count": 23
  }
 ],
 "metadata": {
  "kernelspec": {
   "display_name": "Python 3",
   "language": "python",
   "name": "python3"
  },
  "language_info": {
   "codemirror_mode": {
    "name": "ipython",
    "version": 2
   },
   "file_extension": ".py",
   "mimetype": "text/x-python",
   "name": "python",
   "nbconvert_exporter": "python",
   "pygments_lexer": "ipython2",
   "version": "2.7.6"
  }
 },
 "nbformat": 4,
 "nbformat_minor": 5
}
